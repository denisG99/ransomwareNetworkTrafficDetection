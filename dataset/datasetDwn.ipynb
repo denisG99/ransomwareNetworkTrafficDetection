{
 "cells": [
  {
   "cell_type": "markdown",
   "source": [
    "# ALGORITMO DOWNLOAD PCAP\n",
    "\n",
    "Il download è suddiviso in 5 fasi e sono il frutto di un processo di reverse engineering del processo di download della pagina contenente i pcap files (<a href='http://dataset.tlm.unavarra.es/ransomware/'>dataset.tlm.unavarra.es</a>).\n",
    "\n",
    "1. ristrutturare json estratto dal sito;\n",
    "2. download pcap files da <a href='https://www.malware-traffic-analysis.net/index.html'>malware-traffic-analysis</a>;\n",
    "3. invio POST dataset.tlm.unavarra.es/ransomware/php/descargar.php;\n",
    "4. acquisire risultato POST;\n",
    "5. download pcap files da <a href='http://dataset.tlm.unavarra.es/download/'>dataset.tlm.unavarra.es/download/</a>."
   ],
   "metadata": {
    "collapsed": false
   }
  },
  {
   "cell_type": "code",
   "execution_count": 5,
   "outputs": [],
   "source": [
    "import os\n",
    "import json"
   ],
   "metadata": {
    "collapsed": false,
    "pycharm": {
     "name": "#%%\n"
    }
   }
  },
  {
   "cell_type": "markdown",
   "source": [
    "## RISTRUTTURAZIONE JSON\n",
    "\n",
    "Il file 'ransom.json' è stato estratto nel momento in cui si carica la pagina il quale contiene un elemento per ciascun sample.\n",
    "<br>\n",
    "<img src=\"imgMD/response_json_php.png\" width=\"850\"/>\n",
    "<br>\n",
    "Alla fine di questo processo si vuole ottenere sempre un **json ristrutturato** con la seguente struttura in modo da raggruppare i vari sample per classe per poter replicare la struttura all'interno del file system:\n",
    "\n",
    "~~~\n",
    "{\n",
    "    \"famiglia1\":[\n",
    "        {\n",
    "        \"SamplePcap\": \"path\",\n",
    "        \"Hash\": \"file_hash\",\n",
    "        \"Link\": \"URL\",\n",
    "        \"Scenario\": \"NAT o Original\"\n",
    "        },\n",
    "        {\"...\"}\n",
    "    ],\n",
    "\n",
    "    \"faliglia2\": [\"...\"],\n",
    "\n",
    "    \"...\" : [\"...\"],\n",
    "\n",
    "    \"faligliaN\": [\"...\"]\n",
    "}\n",
    "~~~"
   ],
   "metadata": {
    "collapsed": false,
    "pycharm": {
     "name": "#%% md\n"
    }
   }
  },
  {
   "cell_type": "code",
   "execution_count": 8,
   "outputs": [],
   "source": [
    "def serialize_json(filename, data):\n",
    "    with open(f\"{filename}\", 'w', encoding='utf-8') as f:\n",
    "        json.dump(data, f, ensure_ascii=False, indent=4)\n",
    "        f.close()\n",
    "    print(f\"Data serialized to path: {filename}\")\n",
    "\n",
    "def read_json(path):\n",
    "    if os.path.exists(path):\n",
    "        with open(path, \"r\", encoding=\"utf8\") as file:\n",
    "            data = json.load(file)\n",
    "        print(f\"Data read from path: {path}\")\n",
    "        return data\n",
    "    else:\n",
    "        print(f\"No data found at path: {path}\")\n",
    "        return {}"
   ],
   "metadata": {
    "collapsed": false,
    "pycharm": {
     "name": "#%%\n"
    }
   }
  },
  {
   "cell_type": "code",
   "execution_count": null,
   "outputs": [],
   "source": [
    "samples = \"ransom.json\"\n",
    "samples_dict = read_json(samples)\n",
    "samples_restructured = {}\n",
    "\n",
    "for i in range(len(samples_dict)):\n",
    "    family = samples_dict[str(i)][0]['Family']\n",
    "\n",
    "    if family not in samples_restructured.keys():\n",
    "        samples_restructured[family] = []\n",
    "\n",
    "    sample = {\n",
    "        \"SamplePcap\" : samples_dict[str(i)][0]['SamplePcap'],\n",
    "        \"Hash\" : samples_dict[str(i)][0]['Hash'],\n",
    "        \"Link\" : samples_dict[str(i)][0]['Link'],\n",
    "        \"Scenario\" : samples_dict[str(i)][0]['Scenario']\n",
    "    }\n",
    "\n",
    "    samples_restructured[family].append(sample)\n",
    "\n",
    "serialize_json('ransom_restructured.json', samples_restructured)"
   ],
   "metadata": {
    "collapsed": false,
    "pycharm": {
     "name": "#%%\n",
     "is_executing": true
    }
   }
  },
  {
   "cell_type": "code",
   "execution_count": null,
   "outputs": [],
   "source": [],
   "metadata": {
    "collapsed": false,
    "pycharm": {
     "name": "#%%\n"
    }
   }
  }
 ],
 "metadata": {
  "kernelspec": {
   "display_name": "Python 3",
   "language": "python",
   "name": "python3"
  },
  "language_info": {
   "codemirror_mode": {
    "name": "ipython",
    "version": 2
   },
   "file_extension": ".py",
   "mimetype": "text/x-python",
   "name": "python",
   "nbconvert_exporter": "python",
   "pygments_lexer": "ipython2",
   "version": "2.7.6"
  }
 },
 "nbformat": 4,
 "nbformat_minor": 0
}