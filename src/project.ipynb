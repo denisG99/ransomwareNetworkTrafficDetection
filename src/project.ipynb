{
 "cells": [
  {
   "cell_type": "code",
   "execution_count": 1,
   "outputs": [],
   "source": [
    "#this chunk is necessary for importing correctly NeuralTree class in correct way\n",
    "import os\n",
    "import sys\n",
    "sys.path.insert(0, os.path.abspath('./model'))"
   ],
   "metadata": {
    "collapsed": false
   }
  },
  {
   "cell_type": "code",
   "execution_count": 2,
   "outputs": [],
   "source": [
    "import numpy as np\n",
    "import pandas as pd\n",
    "import os\n",
    "import matplotlib.pyplot as plt\n",
    "import time\n",
    "import pickle as pkl\n",
    "\n",
    "from sklearn.decomposition import PCA #features extraction\n",
    "from sklearn.model_selection import train_test_split\n",
    "from sklearn.preprocessing import StandardScaler #data standardization\n",
    "from sklearn.tree import DecisionTreeClassifier #decision tree\n",
    "from sklearn.tree import plot_tree #visualize a decision tree\n",
    "from sklearn.ensemble import RandomForestClassifier #random forest\n",
    "from sklearn.naive_bayes import GaussianNB, BernoulliNB #naive bayes\n",
    "from sklearn.neighbors import KNeighborsClassifier\n",
    "from sklearn.inspection import permutation_importance\n",
    "from sklearn.metrics import classification_report, confusion_matrix, ConfusionMatrixDisplay #model evaluation metrics\n",
    "\n",
    "from imblearn.over_sampling import SMOTE #package for using SMOTE for balance dataset\n",
    "\n",
    "from model.NeuralTree import NeuralTree\n",
    "\n",
    "%matplotlib inline"
   ],
   "metadata": {
    "collapsed": false
   }
  },
  {
   "cell_type": "code",
   "execution_count": 3,
   "outputs": [],
   "source": [
    "DATA_PATH_MALWARE = \"../csv/malware\"\n",
    "DATA_PATH_GOODWARE = \"../csv/goodware\"\n",
    "DATASET_PATH = \"../csv\"\n",
    "EXPORTED_MODEL = \"../exported_model\"\n",
    "col_names = ['Source IP', 'Source Port', 'Destination IP', 'Destination Port', 'Protocol', 'Timestamp',\n",
    "             'Flow Duration', 'Total Fwd Packets', 'Total Backward Packets', 'Total Length of Fwd Packets',\n",
    "             'Total Length of Bwd Packets', 'Fwd Packet Length Max', 'Fwd Packet Length Min', 'Fwd Packet Length Mean',\n",
    "             'Fwd Packet Length Std', 'Bwd Packet Length Max', 'Bwd Packet Length Min', 'Bwd Packet Length Mean',\n",
    "             'Bwd Packet Length Std', 'Flow Bytes/s', 'Flow Packets/s', 'Flow IAT Mean', 'Flow IAT Std',\n",
    "             'Flow IAT Max', 'Flow IAT Min', 'Fwd IAT Total', 'Fwd IAT Mean', 'Fwd IAT Std', 'Fwd IAT Max',\n",
    "             'Fwd IAT Min', 'Bwd IAT Total', 'Bwd IAT Mean', 'Bwd IAT Std', 'Bwd IAT Max', 'Bwd IAT Min',\n",
    "             'Fwd PSH Flags', 'Bwd PSH Flags', 'Fwd URG Flags', 'Bwd URG Flags', 'Fwd Header Length',\n",
    "             'Bwd Header Length', 'Fwd Packets/s', 'Bwd Packets/s', 'Min Packet Length', 'Max Packet Length',\n",
    "             'Packet Length Mean', 'Packet Length Std', 'Packet Length Variance', 'FIN Flag Count', 'SYN Flag Count',\n",
    "             'RST Flag Count', 'PSH Flag Count', 'ACK Flag Count', 'URG Flag Count', 'CWE Flag Count',\n",
    "             'ECE Flag Count', 'Down/Up Ratio', 'Average Packet Size', 'Avg Fwd Segment Size', 'Avg Bwd Segment Size',\n",
    "             'Fwd Header Length_1', 'Fwd Avg Bytes/Bulk', 'Fwd Avg Packets/Bulk', 'Fwd Avg Bulk Rate',\n",
    "             'Bwd Avg Bytes/Bulk', 'Bwd Avg Packets/Bulk', 'Bwd Avg Bulk Rate', 'Subflow Fwd Packets',\n",
    "             'Subflow Fwd Bytes', 'Subflow Bwd Packets', 'Subflow Bwd Bytes', 'Init_Win_bytes_forward',\n",
    "             'Init_Win_bytes_backward', 'act_data_pkt_fwd', 'min_seg_size_forward', 'Active Mean', 'Active Std',\n",
    "             'Active Max', 'Active Min', 'Idle Mean', 'Idle Std', 'Idle Max', 'Idle Min']"
   ],
   "metadata": {
    "collapsed": false
   }
  },
  {
   "cell_type": "markdown",
   "source": [
    "# COSTRUZIONE DATASET\n",
    "* avendo il dataset scomposto in molteplici *csv* vado a unirli in uno singolo, almeno per un primo momento, distinguendo i files contenti traffico benevolo e malevolo;\n",
    "* rinomino i campi secondo le seguenti caratteristiche:\n",
    "    * parole separate da spazio anzichè da '_';\n",
    "    * prima lettera di ogni parola sarà maiuscola.\n",
    "* a ogni record gli accosto un codice che identifica univocamnete il Sample che ha la seguete struttura: *{G,M}\\_N*, dove:\n",
    "    * **G** ed **M** indicano rispettivamente goodware e malware;\n",
    "    * **N** indica il numero del sample preso in considerazione"
   ],
   "metadata": {
    "collapsed": false
   }
  },
  {
   "cell_type": "code",
   "execution_count": 38,
   "metadata": {
    "collapsed": true
   },
   "outputs": [],
   "source": [
    "def __change_name_and_order(data):\n",
    "    new_names = list()\n",
    "    #data = pd.read_csv(csv_path)\n",
    "\n",
    "    for col in data.columns:\n",
    "        new_name = col.split('_')\n",
    "        new_names.append(\" \".join(new_name).title()) #funzione title trasforma la prima lettera di ogni parola in maiuscolo (capitalizza)\n",
    "        #print(new_name)\n",
    "    data.columns = new_names\n",
    "\n",
    "    #riordinamento delle features\n",
    "    data = data.loc[:, [\"Src Ip\", \"Src Port\", \"Dst Ip\", \"Dst Port\", \"Protocol\", \"Timestamp\", \"Flow Duration\", \"Tot Fwd Pkts\",\n",
    "           \"Tot Bwd Pkts\", \"Totlen Fwd Pkts\", \"Totlen Bwd Pkts\", \"Fwd Pkt Len Max\", \"Fwd Pkt Len Min\", \"Fwd Pkt Len Mean\",\n",
    "           \"Fwd Pkt Len Std\", \"Bwd Pkt Len Max\", \"Bwd Pkt Len Min\", \"Bwd Pkt Len Mean\", \"Bwd Pkt Len Std\", \"Flow Byts S\",\n",
    "           \"Flow Pkts S\", \"Flow Iat Mean\", \"Flow Iat Std\", \"Flow Iat Max\", \"Flow Iat Min\", \"Fwd Iat Tot\", \"Fwd Iat Mean\",\n",
    "           \"Fwd Iat Std\", \"Fwd Iat Max\", \"Fwd Iat Min\", \"Bwd Iat Tot\", \"Bwd Iat Mean\", \"Bwd Iat Std\", \"Bwd Iat Max\",\n",
    "           \"Bwd Iat Min\",\"Fwd Psh Flags\", \"Bwd Psh Flags\", \"Fwd Urg Flags\", \"Bwd Urg Flags\",\n",
    "           \"Fwd Header Len\", \"Bwd Header Len\", \"Fwd Pkts S\", \"Bwd Pkts S\", \"Pkt Len Min\", \"Pkt Len Max\", \"Pkt Len Mean\",\n",
    "           \"Pkt Len Std\", \"Pkt Len Var\", \"Fin Flag Cnt\", \"Syn Flag Cnt\", \"Rst Flag Cnt\", \"Psh Flag Cnt\", \"Ack Flag Cnt\",\n",
    "           \"Urg Flag Cnt\", \"Cwe Flag Count\", \"Ece Flag Cnt\", \"Down Up Ratio\", \"Pkt Size Avg\", \"Fwd Seg Size Avg\",\n",
    "           \"Bwd Seg Size Avg\", \"Fwd Header Len\", \"Fwd Byts B Avg\", \"Fwd Pkts B Avg\", \"Fwd Blk Rate Avg\", \"Bwd Byts B Avg\",\n",
    "           \"Bwd Pkts B Avg\", \"Bwd Blk Rate Avg\", \"Subflow Fwd Pkts\", \"Subflow Fwd Byts\", \"Subflow Bwd Pkts\",\n",
    "           \"Subflow Bwd Byts\", \"Init Fwd Win Byts\", \"Init Bwd Win Byts\", \"Fwd Act Data Pkts\", \"Fwd Seg Size Min\",\n",
    "           \"Active Mean\", \"Active Std\", \"Active Max\", \"Active Min\", \"Idle Mean\", \"Idle Std\", \"Idle Max\", \"Idle Min\"]]\n",
    "\n",
    "    return data\n",
    "\n",
    "def csv_merging(dest_df, files_path):\n",
    "    id_num = 1\n",
    "\n",
    "    for csv_file in os.listdir(files_path):\n",
    "        if not (csv_file == \".DS_Store\" or \"Monday-WorkingHours\" in csv_file):\n",
    "            print(csv_file)\n",
    "            data = pd.read_csv(f\"{files_path}/{csv_file}\", encoding='utf-8', sep=',', engine='python')\n",
    "\n",
    "            data = __change_name_and_order(data)\n",
    "\n",
    "            if \"malware\" in files_path:\n",
    "                data[\"Sample ID\"] = f\"M_{id_num}\"\n",
    "            else:\n",
    "                data[\"Sample ID\"] = f\"G_{id_num}\"\n",
    "            id_num += 1\n",
    "\n",
    "            dest_df = pd.concat([dest_df, data])\n",
    "\n",
    "    print('\\n')\n",
    "\n",
    "    return dest_df"
   ]
  },
  {
   "cell_type": "code",
   "execution_count": null,
   "outputs": [],
   "source": [
    "csv_merging(pd.DataFrame(), DATA_PATH_MALWARE).to_csv(f\"{DATASET_PATH}/malware.csv\", index=False)\n",
    "csv_merging(pd.DataFrame(), DATA_PATH_GOODWARE).to_csv(f\"{DATASET_PATH}/goodware.csv\", index=False)"
   ],
   "metadata": {
    "collapsed": false,
    "pycharm": {
     "is_executing": true
    }
   }
  },
  {
   "cell_type": "markdown",
   "source": [
    "Per problemi lo script mostrato sopra per *Monday-WorkingHours.csv* non funzione quindi procedo a una procedura ad hoc."
   ],
   "metadata": {
    "collapsed": false
   }
  },
  {
   "cell_type": "code",
   "execution_count": 40,
   "outputs": [],
   "source": [
    "goodware = pd.read_csv(f\"{DATASET_PATH}/goodware.csv\", low_memory=False)\n",
    "monday = pd.read_csv(f\"{DATA_PATH_GOODWARE}/Monday-WorkingHours.csv\", low_memory=False)\n",
    "\n",
    "monday[\"Sample ID\"] = \"G_51\"\n",
    "monday.columns = goodware.columns\n",
    "\n",
    "pd.concat([goodware, monday]).to_csv(f\"{DATASET_PATH}/goodware.csv\", index=False)\n",
    "\n",
    "del goodware, monday"
   ],
   "metadata": {
    "collapsed": false
   }
  },
  {
   "cell_type": "markdown",
   "source": [
    "* eseguo labelling dei dati (MALWARE/BENIGN)"
   ],
   "metadata": {
    "collapsed": false
   }
  },
  {
   "cell_type": "code",
   "execution_count": 41,
   "outputs": [],
   "source": [
    "for csv in os.listdir(DATASET_PATH):\n",
    "    if csv.endswith(\".csv\"):\n",
    "        df = pd.read_csv(f\"{DATASET_PATH}/{csv}\", low_memory=False)\n",
    "\n",
    "        if \"malware\" in csv:\n",
    "            df['Label'] = \"MALWARE\"\n",
    "        else:\n",
    "            df['Label'] = \"BENIGN\"\n",
    "\n",
    "        df.to_csv(f\"{DATASET_PATH}/{csv}\", index=False)"
   ],
   "metadata": {
    "collapsed": false
   }
  },
  {
   "cell_type": "markdown",
   "source": [
    "* unisco i due dataset creati al primo punto, in un singolo dataset\n",
    "\n",
    "# NORMALIZZAZIONE DATASET\n",
    "* accstare porta e IP sorgente (analogamete per la destinarione);\n",
    "* eliminare punto da stringa che indica l'IP;\n",
    "* cambiare tipi delle features, dove necessario:\n",
    "\n",
    "Ultimi due passi sono necessari perchè algoritmi di ML accettano solo valori numerici."
   ],
   "metadata": {
    "collapsed": false
   }
  },
  {
   "cell_type": "code",
   "execution_count": 47,
   "outputs": [],
   "source": [
    "def normalize_ip(csv_path):\n",
    "    data = pd.read_csv(csv_path, low_memory=False)\n",
    "\n",
    "    data.iloc[:, 0] = data.iloc[:, 0].map(lambda ip : __string_to_integer_ip(ip))\n",
    "    data.iloc[:, 2] = data.iloc[:, 2].map(lambda ip : __string_to_integer_ip(ip))\n",
    "\n",
    "    data.to_csv(csv_path, index=False)\n",
    "\n",
    "def __string_to_integer_ip(ip):\n",
    "    if not isinstance(ip, int):\n",
    "        splitted_ip = ip.split('.')\n",
    "\n",
    "        return \"\".join(splitted_ip)\n",
    "    return ip\n",
    "\n",
    "def change_features_type(csv_path, features_types):\n",
    "    data = pd.read_csv(csv_path, low_memory=False)\n",
    "\n",
    "    for i in range(data.shape[1]):\n",
    "        data.iloc[:, i].astype(features_types[i])\n",
    "\n",
    "    data.to_csv(csv_path, index=False)"
   ],
   "metadata": {
    "collapsed": false
   }
  },
  {
   "cell_type": "markdown",
   "source": [
    "Converto il formato stringa dell'indirizzo IP (aaa.bbb.ccc.ddd) in un formato comprensibile all'algoritmo di machine learning, cioè un intero nel seguente formato **aaabbbcccddd**."
   ],
   "metadata": {
    "collapsed": false
   }
  },
  {
   "cell_type": "code",
   "execution_count": 48,
   "outputs": [],
   "source": [
    "normalize_ip(f\"{DATASET_PATH}/malware.csv\")\n",
    "normalize_ip(f\"{DATASET_PATH}/goodware.csv\")"
   ],
   "metadata": {
    "collapsed": false
   }
  },
  {
   "cell_type": "markdown",
   "source": [
    "Unione dataset goodware e malware in un unico file in formato csv"
   ],
   "metadata": {
    "collapsed": false
   }
  },
  {
   "cell_type": "code",
   "execution_count": 49,
   "outputs": [],
   "source": [
    "df_malware = pd.read_csv(f\"{DATASET_PATH}/malware.csv\", low_memory=False)\n",
    "df_goodware = pd.read_csv(f\"{DATASET_PATH}/goodware.csv\", low_memory=False)\n",
    "\n",
    "pd.concat([df_malware, df_goodware]).to_csv(f\"{DATASET_PATH}/dataset.csv\", index=False)\n",
    "\n",
    "del df_malware, df_goodware"
   ],
   "metadata": {
    "collapsed": false
   }
  },
  {
   "cell_type": "code",
   "execution_count": 26,
   "outputs": [],
   "source": [
    "dataset = pd.read_csv(f\"{DATASET_PATH}/dataset.csv\", low_memory=False)"
   ],
   "metadata": {
    "collapsed": false
   }
  },
  {
   "cell_type": "markdown",
   "source": [
    "Convertire i timestamp in formato numerico"
   ],
   "metadata": {
    "collapsed": false
   }
  },
  {
   "cell_type": "code",
   "execution_count": 23,
   "outputs": [],
   "source": [
    "unix_ts = pd.to_datetime(dataset['Timestamp']).view('int64')\n",
    "\n",
    "dataset['Timestamp'] = unix_ts\n",
    "\n",
    "del unix_ts"
   ],
   "metadata": {
    "collapsed": false
   }
  },
  {
   "cell_type": "markdown",
   "source": [
    "Creare flowID (IPscr, portScr, IDdst, portDst, Protocollo)"
   ],
   "metadata": {
    "collapsed": false
   }
  },
  {
   "cell_type": "code",
   "execution_count": 24,
   "outputs": [],
   "source": [
    "dataset['FlowID'] = dataset['Src Ip'].map(str) + \"_\"+ dataset['Src Port'].map(str) + \"_\" + dataset['Dst Ip'].map(str) + \"_\"  + dataset['Dst Port'].map(str) + \"_\" + dataset['Protocol'].map(str)\n",
    "\n",
    "dataset.set_index('FlowID').to_csv(f\"{DATASET_PATH}/dataset.csv\")"
   ],
   "metadata": {
    "collapsed": false
   }
  },
  {
   "cell_type": "markdown",
   "source": [
    "Convertire le etichette in formato numerico: (MALWARE -> 1.0 e GOODWARE -> 0.0)"
   ],
   "metadata": {
    "collapsed": false
   }
  },
  {
   "cell_type": "code",
   "execution_count": 25,
   "outputs": [],
   "source": [
    "dataset['Label'].replace([\"MALWARE\", \"BENIGN\"], [1.0, 0.0], inplace=True)\n",
    "\n",
    "dataset.to_csv(f\"{DATASET_PATH}/dataset.csv\", index=False)"
   ],
   "metadata": {
    "collapsed": false
   }
  },
  {
   "cell_type": "markdown",
   "source": [
    "# FEATURES EXTRACTION"
   ],
   "metadata": {
    "collapsed": false
   }
  },
  {
   "cell_type": "code",
   "execution_count": 28,
   "outputs": [],
   "source": [
    "dataset = pd.read_csv(f\"{DATASET_PATH}/dataset.csv\", low_memory=False)"
   ],
   "metadata": {
    "collapsed": false
   }
  },
  {
   "cell_type": "markdown",
   "source": [
    "In linea generale il processo di feature extraction consiste nel scegliere le migliori features riducendo così la dimensionalità del dataset per fare ciò va do a sfruttare la **PCA (Principal Componenet Analyis)** fornita da *scikit-learn*.\n",
    "\n",
    "Prima di effettuare la features extraction sopra descritta necessito di effettuare un processo di \"bonifica\" del dataset."
   ],
   "metadata": {
    "collapsed": false
   }
  },
  {
   "cell_type": "code",
   "execution_count": 4,
   "outputs": [
    {
     "data": {
      "text/plain": "1642652  Flow Pkts S    78,125\ndtype: object"
     },
     "execution_count": 4,
     "metadata": {},
     "output_type": "execute_result"
    }
   ],
   "source": [
    "dataset[dataset.isin(['78,125'])].stack()"
   ],
   "metadata": {
    "collapsed": false
   }
  },
  {
   "cell_type": "markdown",
   "source": [
    "*Flow Pkts S* in linea generale contiene valori *double*, ma nel caso sopra citato contiene una stringa; per questo motivo vado a convertirlo in double."
   ],
   "metadata": {
    "collapsed": false
   }
  },
  {
   "cell_type": "code",
   "execution_count": 29,
   "outputs": [
    {
     "data": {
      "text/plain": "78.125"
     },
     "execution_count": 29,
     "metadata": {},
     "output_type": "execute_result"
    }
   ],
   "source": [
    "dataset.at[1642652, 'Flow Pkts S'] = 78.125\n",
    "\n",
    "dataset.loc[1642652, 'Flow Pkts S']"
   ],
   "metadata": {
    "collapsed": false
   }
  },
  {
   "cell_type": "markdown",
   "source": [
    "Controllo se sono presenti valori *NaN* e *Inf*"
   ],
   "metadata": {
    "collapsed": false
   }
  },
  {
   "cell_type": "code",
   "execution_count": 6,
   "outputs": [
    {
     "data": {
      "text/plain": "89"
     },
     "execution_count": 6,
     "metadata": {},
     "output_type": "execute_result"
    }
   ],
   "source": [
    "#conteggio valori NaN\n",
    "dataset.isnull().sum().sum()"
   ],
   "metadata": {
    "collapsed": false
   }
  },
  {
   "cell_type": "code",
   "execution_count": 7,
   "outputs": [
    {
     "data": {
      "text/plain": "26FlowID     0\nSrc Ip       0\nSrc Port     0\nDst Ip       0\nDst Port     0\n            ..\nIdle Std     0\nIdle Max     0\nIdle Min     0\nSample ID    0\nLabel        0\nLength: 86, dtype: int64"
     },
     "execution_count": 7,
     "metadata": {},
     "output_type": "execute_result"
    }
   ],
   "source": [
    "#conteggio valori Inf\n",
    "dataset[dataset == np.inf].count()"
   ],
   "metadata": {
    "collapsed": false
   }
  },
  {
   "cell_type": "markdown",
   "source": [
    "Visto la presenza di valori NaN e Inf, per semplicità vado a cancellarli."
   ],
   "metadata": {
    "collapsed": false
   }
  },
  {
   "cell_type": "code",
   "execution_count": 30,
   "outputs": [
    {
     "name": "stdout",
     "output_type": "stream",
     "text": [
      "Before NaN & Inf deletion: (1687394, 86)\n",
      "After NaN & Inf deletion: (1686932, 86)\n"
     ]
    }
   ],
   "source": [
    "print(f\"Before NaN & Inf deletion: {dataset.shape}\")\n",
    "\n",
    "with pd.option_context('mode.use_inf_as_na', True):\n",
    "  dataset.dropna(inplace=True)\n",
    "\n",
    "print(f\"After NaN & Inf deletion: {dataset.shape}\")"
   ],
   "metadata": {
    "collapsed": false
   }
  },
  {
   "cell_type": "code",
   "execution_count": 49,
   "outputs": [
    {
     "ename": "NameError",
     "evalue": "name 'dataset' is not defined",
     "output_type": "error",
     "traceback": [
      "\u001B[0;31m---------------------------------------------------------------------------\u001B[0m",
      "\u001B[0;31mNameError\u001B[0m                                 Traceback (most recent call last)",
      "Input \u001B[0;32mIn [49]\u001B[0m, in \u001B[0;36m<cell line: 1>\u001B[0;34m()\u001B[0m\n\u001B[0;32m----> 1\u001B[0m \u001B[43mdataset\u001B[49m\u001B[38;5;241m.\u001B[39mto_csv(\u001B[38;5;124mf\u001B[39m\u001B[38;5;124m\"\u001B[39m\u001B[38;5;132;01m{\u001B[39;00mDATASET_PATH\u001B[38;5;132;01m}\u001B[39;00m\u001B[38;5;124m/dataset.csv\u001B[39m\u001B[38;5;124m\"\u001B[39m, index\u001B[38;5;241m=\u001B[39m\u001B[38;5;28;01mFalse\u001B[39;00m)\n",
      "\u001B[0;31mNameError\u001B[0m: name 'dataset' is not defined"
     ]
    }
   ],
   "source": [
    "dataset.to_csv(f\"{DATASET_PATH}/dataset.csv\", index=False)"
   ],
   "metadata": {
    "collapsed": false
   }
  },
  {
   "cell_type": "markdown",
   "source": [
    "Prima di effettuare la features extraction effettiva, tramite la PCA, vado ad analizzare come correlano le features"
   ],
   "metadata": {
    "collapsed": false
   }
  },
  {
   "cell_type": "code",
   "execution_count": 15,
   "outputs": [
    {
     "name": "stderr",
     "output_type": "stream",
     "text": [
      "/var/folders/4y/z5w7pprd3bxb9r0f1rrcqmw80000gn/T/ipykernel_52577/2392947209.py:2: FutureWarning: The default value of numeric_only in DataFrame.corr is deprecated. In a future version, it will default to False. Select only valid columns or specify the value of numeric_only to silence this warning.\n",
      "  plt.matshow(dataset.corr(), fignum=f.number)\n"
     ]
    },
    {
     "data": {
      "text/plain": "<Figure size 1368x1080 with 2 Axes>",
      "image/png": "[encoded data removed]"
     },
     "metadata": {
      "needs_background": "light"
     },
     "output_type": "display_data"
    }
   ],
   "source": [
    "f = plt.figure(figsize=(19, 15))\n",
    "plt.matshow(dataset.corr(), fignum=f.number)\n",
    "plt.xticks(range(dataset.select_dtypes(['number']).shape[1]), dataset.select_dtypes(['number']).columns, fontsize=10, rotation=90)\n",
    "plt.yticks(range(dataset.select_dtypes(['number']).shape[1]), dataset.select_dtypes(['number']).columns, fontsize=10)\n",
    "cb = plt.colorbar()\n",
    "cb.ax.tick_params(labelsize=14)\n",
    "plt.title('Correlation Matrix', fontsize=16);"
   ],
   "metadata": {
    "collapsed": false
   }
  },
  {
   "cell_type": "markdown",
   "source": [
    "La heatmap descrive la matrice di correlazione e guardandola si nota che ci sono alcune coppie di features che correlano tra di loro anche con valori molto alti (zone in giallo, esclusa la diagonale, e verde), perciò ha senso calcolare la PCA.\n",
    "\n",
    "Una particolarità della matrice di correlazione qui sopra è il fatto che ci sono dei valori NaN o comunque non si è riuscite a calcolare la correlazione tra le features. Le features da tenere in considerazione sono: *Bwd Psh Flags*, *Fwd Urg Flags*, *Bwd Urg Flags* e *Cwe Flag Count*."
   ],
   "metadata": {
    "collapsed": false
   }
  },
  {
   "cell_type": "code",
   "execution_count": null,
   "outputs": [],
   "source": [
    "dataset = pd.read_csv(f\"{DATASET_PATH}/dataset.csv\", low_memory= False)"
   ],
   "metadata": {
    "collapsed": false,
    "pycharm": {
     "is_executing": true
    }
   }
  },
  {
   "cell_type": "code",
   "execution_count": 61,
   "outputs": [
    {
     "name": "stderr",
     "output_type": "stream",
     "text": [
      "/var/folders/4y/z5w7pprd3bxb9r0f1rrcqmw80000gn/T/ipykernel_888/826307376.py:1: FutureWarning: The default value of numeric_only in DataFrame.corr is deprecated. In a future version, it will default to False. Select only valid columns or specify the value of numeric_only to silence this warning.\n",
      "  cm = dataset.corr()\n"
     ]
    },
    {
     "data": {
      "text/plain": "           Bwd Psh Flags  Fwd Urg Flags  Bwd Urg Flags  Cwe Flag Count\nSrc Ip               NaN            NaN            NaN             NaN\nSrc Port             NaN            NaN            NaN             NaN\nDst Ip               NaN            NaN            NaN             NaN\nDst Port             NaN            NaN            NaN             NaN\nProtocol             NaN            NaN            NaN             NaN\n...                  ...            ...            ...             ...\nIdle Mean            NaN            NaN            NaN             NaN\nIdle Std             NaN            NaN            NaN             NaN\nIdle Max             NaN            NaN            NaN             NaN\nIdle Min             NaN            NaN            NaN             NaN\nLabel                NaN            NaN            NaN             NaN\n\n[84 rows x 4 columns]",
      "text/html": "<div>\n<style scoped>\n    .dataframe tbody tr th:only-of-type {\n        vertical-align: middle;\n    }\n\n    .dataframe tbody tr th {\n        vertical-align: top;\n    }\n\n    .dataframe thead th {\n        text-align: right;\n    }\n</style>\n<table border=\"1\" class=\"dataframe\">\n  <thead>\n    <tr style=\"text-align: right;\">\n      <th></th>\n      <th>Bwd Psh Flags</th>\n      <th>Fwd Urg Flags</th>\n      <th>Bwd Urg Flags</th>\n      <th>Cwe Flag Count</th>\n    </tr>\n  </thead>\n  <tbody>\n    <tr>\n      <th>Src Ip</th>\n      <td>NaN</td>\n      <td>NaN</td>\n      <td>NaN</td>\n      <td>NaN</td>\n    </tr>\n    <tr>\n      <th>Src Port</th>\n      <td>NaN</td>\n      <td>NaN</td>\n      <td>NaN</td>\n      <td>NaN</td>\n    </tr>\n    <tr>\n      <th>Dst Ip</th>\n      <td>NaN</td>\n      <td>NaN</td>\n      <td>NaN</td>\n      <td>NaN</td>\n    </tr>\n    <tr>\n      <th>Dst Port</th>\n      <td>NaN</td>\n      <td>NaN</td>\n      <td>NaN</td>\n      <td>NaN</td>\n    </tr>\n    <tr>\n      <th>Protocol</th>\n      <td>NaN</td>\n      <td>NaN</td>\n      <td>NaN</td>\n      <td>NaN</td>\n    </tr>\n    <tr>\n      <th>...</th>\n      <td>...</td>\n      <td>...</td>\n      <td>...</td>\n      <td>...</td>\n    </tr>\n    <tr>\n      <th>Idle Mean</th>\n      <td>NaN</td>\n      <td>NaN</td>\n      <td>NaN</td>\n      <td>NaN</td>\n    </tr>\n    <tr>\n      <th>Idle Std</th>\n      <td>NaN</td>\n      <td>NaN</td>\n      <td>NaN</td>\n      <td>NaN</td>\n    </tr>\n    <tr>\n      <th>Idle Max</th>\n      <td>NaN</td>\n      <td>NaN</td>\n      <td>NaN</td>\n      <td>NaN</td>\n    </tr>\n    <tr>\n      <th>Idle Min</th>\n      <td>NaN</td>\n      <td>NaN</td>\n      <td>NaN</td>\n      <td>NaN</td>\n    </tr>\n    <tr>\n      <th>Label</th>\n      <td>NaN</td>\n      <td>NaN</td>\n      <td>NaN</td>\n      <td>NaN</td>\n    </tr>\n  </tbody>\n</table>\n<p>84 rows × 4 columns</p>\n</div>"
     },
     "execution_count": 61,
     "metadata": {},
     "output_type": "execute_result"
    }
   ],
   "source": [
    "cm = dataset.corr()\n",
    "\n",
    "cm.loc[:, ['Bwd Psh Flags','Fwd Urg Flags', 'Bwd Urg Flags', 'Cwe Flag Count']]"
   ],
   "metadata": {
    "collapsed": false
   }
  },
  {
   "cell_type": "markdown",
   "source": [
    "Perché ciò accade?\n",
    "Per rispondere alla domanda come prima cosa andiamo ad analizzare i valori presi per le features sopra citate"
   ],
   "metadata": {
    "collapsed": false
   }
  },
  {
   "cell_type": "code",
   "execution_count": 56,
   "outputs": [
    {
     "data": {
      "text/plain": "         Bwd Psh Flags  Fwd Urg Flags  Bwd Urg Flags  Cwe Flag Count\n0                    0              0              0               0\n1                    0              0              0               0\n2                    0              0              0               0\n3                    0              0              0               0\n4                    0              0              0               0\n...                ...            ...            ...             ...\n1686927              0              0              0               0\n1686928              0              0              0               0\n1686929              0              0              0               0\n1686930              0              0              0               0\n1686931              0              0              0               0\n\n[1686932 rows x 4 columns]",
      "text/html": "<div>\n<style scoped>\n    .dataframe tbody tr th:only-of-type {\n        vertical-align: middle;\n    }\n\n    .dataframe tbody tr th {\n        vertical-align: top;\n    }\n\n    .dataframe thead th {\n        text-align: right;\n    }\n</style>\n<table border=\"1\" class=\"dataframe\">\n  <thead>\n    <tr style=\"text-align: right;\">\n      <th></th>\n      <th>Bwd Psh Flags</th>\n      <th>Fwd Urg Flags</th>\n      <th>Bwd Urg Flags</th>\n      <th>Cwe Flag Count</th>\n    </tr>\n  </thead>\n  <tbody>\n    <tr>\n      <th>0</th>\n      <td>0</td>\n      <td>0</td>\n      <td>0</td>\n      <td>0</td>\n    </tr>\n    <tr>\n      <th>1</th>\n      <td>0</td>\n      <td>0</td>\n      <td>0</td>\n      <td>0</td>\n    </tr>\n    <tr>\n      <th>2</th>\n      <td>0</td>\n      <td>0</td>\n      <td>0</td>\n      <td>0</td>\n    </tr>\n    <tr>\n      <th>3</th>\n      <td>0</td>\n      <td>0</td>\n      <td>0</td>\n      <td>0</td>\n    </tr>\n    <tr>\n      <th>4</th>\n      <td>0</td>\n      <td>0</td>\n      <td>0</td>\n      <td>0</td>\n    </tr>\n    <tr>\n      <th>...</th>\n      <td>...</td>\n      <td>...</td>\n      <td>...</td>\n      <td>...</td>\n    </tr>\n    <tr>\n      <th>1686927</th>\n      <td>0</td>\n      <td>0</td>\n      <td>0</td>\n      <td>0</td>\n    </tr>\n    <tr>\n      <th>1686928</th>\n      <td>0</td>\n      <td>0</td>\n      <td>0</td>\n      <td>0</td>\n    </tr>\n    <tr>\n      <th>1686929</th>\n      <td>0</td>\n      <td>0</td>\n      <td>0</td>\n      <td>0</td>\n    </tr>\n    <tr>\n      <th>1686930</th>\n      <td>0</td>\n      <td>0</td>\n      <td>0</td>\n      <td>0</td>\n    </tr>\n    <tr>\n      <th>1686931</th>\n      <td>0</td>\n      <td>0</td>\n      <td>0</td>\n      <td>0</td>\n    </tr>\n  </tbody>\n</table>\n<p>1686932 rows × 4 columns</p>\n</div>"
     },
     "execution_count": 56,
     "metadata": {},
     "output_type": "execute_result"
    }
   ],
   "source": [
    "dataset.loc[:, ['Bwd Psh Flags','Fwd Urg Flags', 'Bwd Urg Flags', 'Cwe Flag Count']]"
   ],
   "metadata": {
    "collapsed": false
   }
  },
  {
   "cell_type": "code",
   "execution_count": 58,
   "outputs": [
    {
     "name": "stdout",
     "output_type": "stream",
     "text": [
      "Bwd Psh Flags -> [0]\n",
      "Fwd Urg Flags -> [0]\n",
      "Bwd Urg Flags -> [0]\n",
      "Cwe Flag Count -> [0]\n"
     ]
    }
   ],
   "source": [
    "for col in ['Bwd Psh Flags','Fwd Urg Flags', 'Bwd Urg Flags', 'Cwe Flag Count']:\n",
    "    print(f\"{col} -> {np.unique(dataset.loc[:, col])}\")"
   ],
   "metadata": {
    "collapsed": false
   }
  },
  {
   "cell_type": "markdown",
   "source": [
    "Utilizzando come coefficiente di correlazione il **coeficiete di Pearson** e dividendo il tutto per 0 e ciò è matematicamente impossibile, quindi per questo motivo il coefficiente di correlazione tra le features sopracitate e le altre non è calcolabile."
   ],
   "metadata": {
    "collapsed": false
   }
  },
  {
   "cell_type": "markdown",
   "source": [
    "Prima di effettuare la PCA necessito di andare a standardizzare i dati"
   ],
   "metadata": {
    "collapsed": false
   }
  },
  {
   "cell_type": "code",
   "execution_count": 87,
   "outputs": [],
   "source": [
    "def feature_extraction(data, n_components, norm=False):\n",
    "    if norm:\n",
    "        scalar = StandardScaler()\n",
    "        scalar.fit(data)\n",
    "        data = scalar.transform(data)\n",
    "\n",
    "    pca = PCA(n_components)\n",
    "\n",
    "    pca.fit(data)\n",
    "\n",
    "    #X_train = pca.transform(X_train)\n",
    "    #X_test = pca.transform(X_test)\n",
    "\n",
    "    return pca"
   ],
   "metadata": {
    "collapsed": false
   }
  },
  {
   "cell_type": "markdown",
   "source": [],
   "metadata": {
    "collapsed": false
   }
  },
  {
   "cell_type": "code",
   "execution_count": null,
   "outputs": [],
   "source": [
    "X, y = dataset.loc[:, 'Src Ip' : 'Idle Min'], dataset.loc[:, 'Label']"
   ],
   "metadata": {
    "collapsed": false
   }
  },
  {
   "cell_type": "code",
   "execution_count": 94,
   "outputs": [
    {
     "data": {
      "text/plain": "<Figure size 1440x432 with 1 Axes>",
      "image/png": "[encoded data removed]"
     },
     "metadata": {
      "needs_background": "light"
     },
     "output_type": "display_data"
    }
   ],
   "source": [
    "#X_train, X_test, y_train, y_test = train_test_split(X, y, test_size=.2, train_size=.8)\n",
    "\n",
    "#X_train = scalar.transform(X_train)\n",
    "#X_test = scalar.transform(X_test)\n",
    "pca = feature_extraction(X, X.shape[1], False)\n",
    "\n",
    "plt.figure(figsize=(20, 6))\n",
    "plt.plot(range(pca.n_components_), pca.explained_variance_)\n",
    "plt.scatter(range(pca.n_components_), pca.explained_variance_)\n",
    "plt.title(\"Scree plot(not normalized data)\")\n",
    "plt.xlabel(\"Component\")\n",
    "plt.xticks(range(pca.n_components_), range(pca.n_components_))\n",
    "plt.ylabel(\"Variance\")\n",
    "plt.show()"
   ],
   "metadata": {
    "collapsed": false
   }
  },
  {
   "cell_type": "code",
   "execution_count": 96,
   "outputs": [
    {
     "data": {
      "text/plain": "<Figure size 1440x432 with 1 Axes>",
      "image/png": "[encoded data removed]"
     },
     "metadata": {
      "needs_background": "light"
     },
     "output_type": "display_data"
    }
   ],
   "source": [
    "pca_norm = feature_extraction(X, X.shape[1], True)\n",
    "\n",
    "plt.figure(figsize=(20, 6))\n",
    "plt.plot(range(pca_norm.n_components_), pca_norm.explained_variance_)\n",
    "plt.scatter(range(pca_norm.n_components_), pca_norm.explained_variance_)\n",
    "plt.title(\"Scree plot(normalized data)\")\n",
    "plt.xlabel(\"Component\")\n",
    "plt.xticks(range(pca_norm.n_components_), range(pca_norm.n_components_))\n",
    "plt.ylabel(\"Variance\")\n",
    "plt.show()"
   ],
   "metadata": {
    "collapsed": false
   }
  },
  {
   "cell_type": "markdown",
   "source": [
    "Dai grafici presentati del caso di dati non normalizzati si andrebbero a estrarre **6/7 features**, oppure nel caso di dati normalizzati ado a estrarre **dalle 13 alle 57 features**.\n",
    "\n",
    "Per trovare con maggior precisione il numero di features attraverso la **regola di Kaiser** in cui si tengono solo le componenti che hanno un valore della varianza(autovalori) non sia **inferiore a 1 oppure a 0.7**. In letteratura la primo valore risulta troppo alto."
   ],
   "metadata": {
    "collapsed": false
   }
  },
  {
   "cell_type": "code",
   "execution_count": 109,
   "outputs": [
    {
     "name": "stdout",
     "output_type": "stream",
     "text": [
      "Threshold 1\n",
      "Regola di Kaiser su dati non normalizzati: 83 features\n",
      "Regola di Kaiser su dati normalizzati: 23 features\n"
     ]
    }
   ],
   "source": [
    "print(\"Threshold 1\")\n",
    "print(f\"Regola di Kaiser su dati non normalizzati: {len(pca.explained_variance_[pca.explained_variance_ > 1])} features\")\n",
    "print(f\"Regola di Kaiser su dati normalizzati: {len(pca_norm.explained_variance_[pca_norm.explained_variance_ > 1])} features\")"
   ],
   "metadata": {
    "collapsed": false
   }
  },
  {
   "cell_type": "code",
   "execution_count": 110,
   "outputs": [
    {
     "name": "stdout",
     "output_type": "stream",
     "text": [
      "Threshold 0.7\n",
      "Regola di Kaiser su dati non normalizzati: 83 features\n",
      "Regola di Kaiser su dati normalizzati: 34 features\n"
     ]
    }
   ],
   "source": [
    "print(\"Threshold 0.7\")\n",
    "print(f\"Regola di Kaiser su dati non normalizzati: {len(pca.explained_variance_[pca.explained_variance_ > .7])} features\")\n",
    "print(f\"Regola di Kaiser su dati normalizzati: {len(pca_norm.explained_variance_[pca_norm.explained_variance_ > .7])} features\")"
   ],
   "metadata": {
    "collapsed": false
   }
  },
  {
   "cell_type": "markdown",
   "source": [
    "In linea di massima da come si è visto dai risultati sopra la regola di Kaiser funziona solo su **dati normalizzati**, ottenedo un totale di 23 o 34 featiures rispettivamete nel caso in cui il threshold sia 1 o 0.7. Così facendo si riduce del **72%**(23 features) o del **59%**(34 features).\n",
    "\n",
    "I risultati descritti sopra soddisfano la condizione descritta dai grafici ottenuta analizzando l'andamento dei grafici vedendo dove avviene la suddivisone tra autovalori \"grandi\" e \"piccoli\" che viene contrassegnato da un \"gomito\"."
   ],
   "metadata": {
    "collapsed": false
   }
  },
  {
   "cell_type": "markdown",
   "source": [
    "# BILANCIAMENTO DATASET\n",
    "\n",
    "Prima di tutto voglio andare a vedere come le due classi sono distribuite all'interno del dataset"
   ],
   "metadata": {
    "collapsed": false
   }
  },
  {
   "cell_type": "code",
   "execution_count": 13,
   "outputs": [
    {
     "name": "stdout",
     "output_type": "stream",
     "text": [
      "[0. 1.]\n",
      "[1592331   94601]\n"
     ]
    }
   ],
   "source": [
    "labels, counts = np.unique(dataset['Label'], return_counts=True)\n",
    "\n",
    "print(labels)\n",
    "print(counts)"
   ],
   "metadata": {
    "collapsed": false
   }
  },
  {
   "cell_type": "markdown",
   "source": [
    "Si vede che la classe *BENIGN*, contrassegnato con lo 0, è quella maggiormente presente con un totale di 1592331 records contro i 94601 dei recods malevoli"
   ],
   "metadata": {
    "collapsed": false
   }
  },
  {
   "cell_type": "code",
   "execution_count": 15,
   "outputs": [
    {
     "data": {
      "text/plain": "<Figure size 432x288 with 1 Axes>",
      "image/png": "[encoded data removed]"
     },
     "metadata": {
      "needs_background": "light"
     },
     "output_type": "display_data"
    }
   ],
   "source": [
    "labels = np.where(labels == 0., \"BENIGN\", \"MALWARE\")\n",
    "\n",
    "plt.bar(labels, counts)\n",
    "plt.show()"
   ],
   "metadata": {
    "collapsed": false
   }
  },
  {
   "cell_type": "markdown",
   "source": [
    "Le tecniche che vorrei utilizzare per bilanciare il dataset sono principalmente 2: sfruttare la **focal loss** o la **SMOTE** (Synthetic Minority Oversampling Technique)."
   ],
   "metadata": {
    "collapsed": false
   }
  },
  {
   "cell_type": "code",
   "execution_count": 32,
   "outputs": [],
   "source": [
    "del dataset"
   ],
   "metadata": {
    "collapsed": false
   }
  },
  {
   "cell_type": "markdown",
   "source": [
    "# ADDESTRAMENTO DEL MODELLO\n",
    "\n",
    "Prima di addestrare i modelli andiamo a dividere il dataset in training e test set e li memorizzo su file"
   ],
   "metadata": {
    "collapsed": false
   }
  },
  {
   "cell_type": "code",
   "execution_count": null,
   "outputs": [],
   "source": [
    "data = pd.read_csv(f\"{DATASET_PATH}/dataset.csv\", low_memory=False)\n",
    "X, y = data.loc[:, 'Src Ip' : 'Idle Min'], data.loc[:, 'Label']\n",
    "\n",
    "X_train, X_test, y_train, y_test = train_test_split(X, y, test_size=.3, train_size=.7)\n",
    "\n",
    "print(\"Lettura completata\")"
   ],
   "metadata": {
    "collapsed": false,
    "pycharm": {
     "is_executing": true
    }
   }
  },
  {
   "cell_type": "code",
   "execution_count": null,
   "outputs": [],
   "source": [
    "training_set, test_set =  X_train, X_test\n",
    "\n",
    "training_set['Label'] = y_train\n",
    "test_set['Label'] = y_test\n",
    "\n",
    "#print(test_set)\n",
    "training_set.to_csv(f\"{DATASET_PATH}/train.csv\")\n",
    "test_set.to_csv(f\"{DATASET_PATH}/test.csv\")"
   ],
   "metadata": {
    "collapsed": false,
    "pycharm": {
     "is_executing": true
    }
   }
  },
  {
   "cell_type": "markdown",
   "source": [
    "I modelli che andremo a sfruttare sono i seguenti: **Decision Tree**, **Random Forest**, **Neural Tree**, ...(da ampliare la lista).\n",
    "\n",
    "I modelli saranno addestati con le seguenti modallità, per poi andarli a confrontare provando a determinare quali siano le migliori features atte a rilevare un attacco ransomware analizzando il traffico.\n",
    "\n",
    "Le modalità di addestramento saranno le seguenti:\n",
    "* con dataset sbilanciato\n",
    "* dataset bilanciato\n",
    "\n",
    "Queste due modalità verranno ripetute sia su dataset con tutte le features e sia dopo una fase di features reduction."
   ],
   "metadata": {
    "collapsed": false
   }
  },
  {
   "cell_type": "code",
   "execution_count": 4,
   "outputs": [
    {
     "name": "stdout",
     "output_type": "stream",
     "text": [
      "DATASET ACQUISITI\n"
     ]
    }
   ],
   "source": [
    "training_set = pd.read_csv(f\"{DATASET_PATH}/train.csv\", low_memory=False)\n",
    "test_set = pd.read_csv(f\"{DATASET_PATH}/test.csv\", low_memory=False)\n",
    "\n",
    "X_train, y_train = training_set.loc[:, 'Src Ip' : 'Idle Min'], training_set.loc[:, 'Label']\n",
    "X_test, y_test = test_set.loc[:, 'Src Ip' : 'Idle Min'], test_set.loc[:, 'Label']\n",
    "\n",
    "print(\"DATASET ACQUISITI\")\n",
    "\n",
    "del training_set, test_set"
   ],
   "metadata": {
    "collapsed": false
   }
  },
  {
   "cell_type": "code",
   "execution_count": 5,
   "outputs": [
    {
     "name": "stdout",
     "output_type": "stream",
     "text": [
      "Bilanciamento completato\n"
     ]
    }
   ],
   "source": [
    "oversample = SMOTE()\n",
    "\n",
    "X_train_balanced, y_train_balanced = oversample.fit_resample(X_train, y_train)\n",
    "X_test_balanced, y_test_balanced = oversample.fit_resample(X_test, y_test)\n",
    "\n",
    "print(\"Bilanciamento completato\")"
   ],
   "metadata": {
    "collapsed": false
   }
  },
  {
   "cell_type": "code",
   "execution_count": 50,
   "outputs": [],
   "source": [
    "train_balanced = X_train_balanced\n",
    "train_balanced['Label'] = y_train_balanced\n",
    "\n",
    "test_balanced = X_test_balanced\n",
    "test_balanced['Label'] = y_test_balanced\n",
    "\n",
    "train_balanced.to_csv(f\"{DATASET_PATH}/balanced_train.csv\")\n",
    "test_balanced.to_csv(f\"{DATASET_PATH}/balanced_test.csv\")"
   ],
   "metadata": {
    "collapsed": false
   }
  },
  {
   "cell_type": "code",
   "execution_count": 5,
   "outputs": [
    {
     "name": "stdout",
     "output_type": "stream",
     "text": [
      "DATASET BILANCIATI ACQUISITI\n"
     ]
    }
   ],
   "source": [
    "training_set_balanced = pd.read_csv(f\"{DATASET_PATH}/balanced_train.csv\", low_memory=False)\n",
    "test_set_balanced = pd.read_csv(f\"{DATASET_PATH}/balanced_test.csv\", low_memory=False)\n",
    "\n",
    "X_train_balanced, y_train_balanced = training_set_balanced.loc[:, 'Src Ip' : 'Idle Min'], training_set_balanced.loc[:, 'Label']\n",
    "X_test_balanced, y_test_balanced = test_set_balanced.loc[:, 'Src Ip' : 'Idle Min'], test_set_balanced.loc[:, 'Label']\n",
    "\n",
    "print(\"DATASET BILANCIATI ACQUISITI\")\n",
    "\n",
    "del training_set_balanced, test_set_balanced"
   ],
   "metadata": {
    "collapsed": false
   }
  },
  {
   "cell_type": "markdown",
   "source": [
    "## DECISION TREE\n",
    "\n",
    "### DATASET SBILANCIATO"
   ],
   "metadata": {
    "collapsed": false
   }
  },
  {
   "cell_type": "code",
   "execution_count": 16,
   "outputs": [
    {
     "name": "stdout",
     "output_type": "stream",
     "text": [
      "INIZIO ADDESTRAMENTO DECISION TREE\n",
      "L'addestramento del decision tree ha impiegato 39.32474493980408 secondi\n",
      "SALVATAGGIO MODELLO IN ../exported_model/dt_unbalance.pkl\n"
     ]
    }
   ],
   "source": [
    "try:\n",
    "    with open(f\"{EXPORTED_MODEL}/dt_unbalance.pkl\", 'rb') as file:\n",
    "        print(\"CARICAMENTO MODELLO DA ../exported_model/dt_unbalance.pkl\")\n",
    "\n",
    "        dt_model = pkl.load(file)\n",
    "except IOError:\n",
    "    dt = DecisionTreeClassifier()\n",
    "    start_time = time.time()\n",
    "\n",
    "    print(\"INIZIO ADDESTRAMENTO DECISION TREE\")\n",
    "    dt_model = dt.fit(X_train, y_train)\n",
    "\n",
    "    print(f\"L'addestramento del decision tree ha impiegato {time.time() - start_time} secondi\")\n",
    "\n",
    "    print(\"SALVATAGGIO MODELLO IN ../exported_model/dt_unbalance.pkl\")\n",
    "    with open(f\"{EXPORTED_MODEL}/dt_unbalance.pkl\", 'wb') as file:\n",
    "        pkl.dump(dt_model, file)"
   ],
   "metadata": {
    "collapsed": false
   }
  },
  {
   "cell_type": "markdown",
   "source": [
    "Visualizziamo il decision tree"
   ],
   "metadata": {
    "collapsed": false
   }
  },
  {
   "cell_type": "code",
   "execution_count": 17,
   "outputs": [
    {
     "data": {
      "text/plain": "[Text(0.2738437171743697, 0.9761904761904762, 'X[41] <= 0.018\\ngini = 0.106\\nsamples = 1180852\\nvalue = [1114497, 66355]'),\n Text(0.17594537815126052, 0.9285714285714286, 'X[0] <= 101281648.0\\ngini = 0.176\\nsamples = 62195\\nvalue = [6048, 56147]'),\n Text(0.10819327731092437, 0.8809523809523809, 'X[5] <= 1.488899616303743e+18\\ngini = 0.04\\nsamples = 57197\\nvalue = [1159, 56038]'),\n Text(0.07773109243697479, 0.8333333333333334, 'X[3] <= 60.0\\ngini = 0.012\\nsamples = 56355\\nvalue = [328, 56027]'),\n Text(0.04201680672268908, 0.7857142857142857, 'X[0] <= 10109507.0\\ngini = 0.055\\nsamples = 71\\nvalue = [69, 2]'),\n Text(0.03361344537815126, 0.7380952380952381, 'gini = 0.0\\nsamples = 69\\nvalue = [69, 0]'),\n Text(0.05042016806722689, 0.7380952380952381, 'gini = 0.0\\nsamples = 2\\nvalue = [0, 2]'),\n Text(0.1134453781512605, 0.7857142857142857, 'X[48] <= 0.5\\ngini = 0.009\\nsamples = 56284\\nvalue = [259, 56025]'),\n Text(0.06722689075630252, 0.7380952380952381, 'X[1] <= 108.5\\ngini = 0.002\\nsamples = 55112\\nvalue = [63, 55049]'),\n Text(0.03361344537815126, 0.6904761904761905, 'X[0] <= 9658513.5\\ngini = 0.471\\nsamples = 103\\nvalue = [39, 64]'),\n Text(0.01680672268907563, 0.6428571428571429, 'X[0] <= 5011.0\\ngini = 0.097\\nsamples = 39\\nvalue = [37, 2]'),\n Text(0.008403361344537815, 0.5952380952380952, 'gini = 0.0\\nsamples = 2\\nvalue = [0, 2]'),\n Text(0.025210084033613446, 0.5952380952380952, 'gini = 0.0\\nsamples = 37\\nvalue = [37, 0]'),\n Text(0.05042016806722689, 0.6428571428571429, 'X[5] <= 6.38337613072171e+17\\ngini = 0.061\\nsamples = 64\\nvalue = [2, 62]'),\n Text(0.04201680672268908, 0.5952380952380952, 'gini = 0.0\\nsamples = 62\\nvalue = [0, 62]'),\n Text(0.058823529411764705, 0.5952380952380952, 'gini = 0.0\\nsamples = 2\\nvalue = [2, 0]'),\n Text(0.10084033613445378, 0.6904761904761905, 'X[1] <= 5354.0\\ngini = 0.001\\nsamples = 55009\\nvalue = [24, 54985]'),\n Text(0.08403361344537816, 0.6428571428571429, 'X[1] <= 2215.5\\ngini = 0.037\\nsamples = 1162\\nvalue = [22, 1140]'),\n Text(0.07563025210084033, 0.5952380952380952, 'X[5] <= 6.481187800644321e+17\\ngini = 0.002\\nsamples = 1141\\nvalue = [1, 1140]'),\n Text(0.06722689075630252, 0.5476190476190477, 'gini = 0.0\\nsamples = 1140\\nvalue = [0, 1140]'),\n Text(0.08403361344537816, 0.5476190476190477, 'gini = 0.0\\nsamples = 1\\nvalue = [1, 0]'),\n Text(0.09243697478991597, 0.5952380952380952, 'gini = 0.0\\nsamples = 21\\nvalue = [21, 0]'),\n Text(0.11764705882352941, 0.6428571428571429, 'X[1] <= 42068.5\\ngini = 0.0\\nsamples = 53847\\nvalue = [2, 53845]'),\n Text(0.1092436974789916, 0.5952380952380952, 'X[68] <= 71.0\\ngini = 0.017\\nsamples = 231\\nvalue = [2, 229]'),\n Text(0.10084033613445378, 0.5476190476190477, 'gini = 0.0\\nsamples = 2\\nvalue = [2, 0]'),\n Text(0.11764705882352941, 0.5476190476190477, 'gini = 0.0\\nsamples = 229\\nvalue = [0, 229]'),\n Text(0.12605042016806722, 0.5952380952380952, 'gini = 0.0\\nsamples = 53616\\nvalue = [0, 53616]'),\n Text(0.15966386554621848, 0.7380952380952381, 'X[0] <= 55017.5\\ngini = 0.279\\nsamples = 1172\\nvalue = [196, 976]'),\n Text(0.15126050420168066, 0.6904761904761905, 'gini = 0.0\\nsamples = 879\\nvalue = [0, 879]'),\n Text(0.16806722689075632, 0.6904761904761905, 'X[0] <= 19216813.0\\ngini = 0.443\\nsamples = 293\\nvalue = [196, 97]'),\n Text(0.15126050420168066, 0.6428571428571429, 'X[5] <= 1.4615910460046705e+18\\ngini = 0.01\\nsamples = 195\\nvalue = [194, 1]'),\n Text(0.14285714285714285, 0.5952380952380952, 'gini = 0.0\\nsamples = 194\\nvalue = [194, 0]'),\n Text(0.15966386554621848, 0.5952380952380952, 'gini = 0.0\\nsamples = 1\\nvalue = [0, 1]'),\n Text(0.18487394957983194, 0.6428571428571429, 'X[3] <= 49742.5\\ngini = 0.04\\nsamples = 98\\nvalue = [2, 96]'),\n Text(0.17647058823529413, 0.5952380952380952, 'gini = 0.0\\nsamples = 96\\nvalue = [0, 96]'),\n Text(0.19327731092436976, 0.5952380952380952, 'gini = 0.0\\nsamples = 2\\nvalue = [2, 0]'),\n Text(0.13865546218487396, 0.8333333333333334, 'X[5] <= 1.5115979343475507e+18\\ngini = 0.026\\nsamples = 842\\nvalue = [831, 11]'),\n Text(0.13025210084033614, 0.7857142857142857, 'gini = 0.0\\nsamples = 831\\nvalue = [831, 0]'),\n Text(0.14705882352941177, 0.7857142857142857, 'gini = 0.0\\nsamples = 11\\nvalue = [0, 11]'),\n Text(0.24369747899159663, 0.8809523809523809, 'X[5] <= 5.823396270928036e+17\\ngini = 0.043\\nsamples = 4998\\nvalue = [4889, 109]'),\n Text(0.23529411764705882, 0.8333333333333334, 'X[2] <= 55119.5\\ngini = 0.406\\nsamples = 152\\nvalue = [43, 109]'),\n Text(0.226890756302521, 0.7857142857142857, 'gini = 0.0\\nsamples = 103\\nvalue = [0, 103]'),\n Text(0.24369747899159663, 0.7857142857142857, 'X[17] <= 27.0\\ngini = 0.215\\nsamples = 49\\nvalue = [43, 6]'),\n Text(0.23529411764705882, 0.7380952380952381, 'X[1] <= 54597.0\\ngini = 0.156\\nsamples = 47\\nvalue = [43, 4]'),\n Text(0.226890756302521, 0.6904761904761905, 'X[12] <= 192.0\\ngini = 0.085\\nsamples = 45\\nvalue = [43, 2]'),\n Text(0.2184873949579832, 0.6428571428571429, 'X[5] <= 6367999950848.0\\ngini = 0.044\\nsamples = 44\\nvalue = [43, 1]'),\n Text(0.21008403361344538, 0.5952380952380952, 'gini = 0.0\\nsamples = 27\\nvalue = [27, 0]'),\n Text(0.226890756302521, 0.5952380952380952, 'X[5] <= 11377500225536.0\\ngini = 0.111\\nsamples = 17\\nvalue = [16, 1]'),\n Text(0.2184873949579832, 0.5476190476190477, 'gini = 0.0\\nsamples = 1\\nvalue = [0, 1]'),\n Text(0.23529411764705882, 0.5476190476190477, 'gini = 0.0\\nsamples = 16\\nvalue = [16, 0]'),\n Text(0.23529411764705882, 0.6428571428571429, 'gini = 0.0\\nsamples = 1\\nvalue = [0, 1]'),\n Text(0.24369747899159663, 0.6904761904761905, 'gini = 0.0\\nsamples = 2\\nvalue = [0, 2]'),\n Text(0.25210084033613445, 0.7380952380952381, 'gini = 0.0\\nsamples = 2\\nvalue = [0, 2]'),\n Text(0.25210084033613445, 0.8333333333333334, 'gini = 0.0\\nsamples = 4846\\nvalue = [4846, 0]'),\n Text(0.37174205619747897, 0.9285714285714286, 'X[0] <= 14797.0\\ngini = 0.018\\nsamples = 1118657\\nvalue = [1108449, 10208]'),\n Text(0.29411764705882354, 0.8809523809523809, 'X[1] <= 95.5\\ngini = 0.007\\nsamples = 5636\\nvalue = [19, 5617]'),\n Text(0.2857142857142857, 0.8333333333333334, 'X[13] <= 343.5\\ngini = 0.495\\nsamples = 42\\nvalue = [19, 23]'),\n Text(0.2773109243697479, 0.7857142857142857, 'X[57] <= 328.333\\ngini = 0.08\\nsamples = 24\\nvalue = [1, 23]'),\n Text(0.2689075630252101, 0.7380952380952381, 'gini = 0.0\\nsamples = 1\\nvalue = [1, 0]'),\n Text(0.2857142857142857, 0.7380952380952381, 'gini = 0.0\\nsamples = 23\\nvalue = [0, 23]'),\n Text(0.29411764705882354, 0.7857142857142857, 'gini = 0.0\\nsamples = 18\\nvalue = [18, 0]'),\n Text(0.3025210084033613, 0.8333333333333334, 'gini = 0.0\\nsamples = 5594\\nvalue = [0, 5594]'),\n Text(0.44936646533613445, 0.8809523809523809, 'X[5] <= 3671499997184.0\\ngini = 0.008\\nsamples = 1113021\\nvalue = [1108430, 4591]'),\n Text(0.31932773109243695, 0.8333333333333334, 'X[0] <= 10109506.0\\ngini = 0.402\\nsamples = 1539\\nvalue = [429, 1110]'),\n Text(0.31092436974789917, 0.7857142857142857, 'gini = 0.0\\nsamples = 425\\nvalue = [425, 0]'),\n Text(0.3277310924369748, 0.7857142857142857, 'X[0] <= 1807113088.0\\ngini = 0.007\\nsamples = 1114\\nvalue = [4, 1110]'),\n Text(0.31932773109243695, 0.7380952380952381, 'gini = 0.0\\nsamples = 1107\\nvalue = [0, 1107]'),\n Text(0.33613445378151263, 0.7380952380952381, 'X[58] <= 80.75\\ngini = 0.49\\nsamples = 7\\nvalue = [4, 3]'),\n Text(0.3277310924369748, 0.6904761904761905, 'gini = 0.0\\nsamples = 4\\nvalue = [4, 0]'),\n Text(0.3445378151260504, 0.6904761904761905, 'gini = 0.0\\nsamples = 3\\nvalue = [0, 3]'),\n Text(0.5794051995798319, 0.8333333333333334, 'X[68] <= 11262707.5\\ngini = 0.006\\nsamples = 1111482\\nvalue = [1108001, 3481]'),\n Text(0.5011160714285714, 0.7857142857142857, 'X[5] <= 4295499972608.0\\ngini = 0.006\\nsamples = 1111167\\nvalue = [1107975, 3192]'),\n Text(0.3865546218487395, 0.7380952380952381, 'X[59] <= 26.5\\ngini = 0.161\\nsamples = 19757\\nvalue = [18016, 1741]'),\n Text(0.36134453781512604, 0.6904761904761905, 'X[0] <= 10109506.0\\ngini = 0.163\\nsamples = 1587\\nvalue = [142, 1445]'),\n Text(0.35294117647058826, 0.6428571428571429, 'gini = 0.0\\nsamples = 142\\nvalue = [142, 0]'),\n Text(0.3697478991596639, 0.6428571428571429, 'gini = 0.0\\nsamples = 1445\\nvalue = [0, 1445]'),\n Text(0.4117647058823529, 0.6904761904761905, 'X[15] <= 1508.0\\ngini = 0.032\\nsamples = 18170\\nvalue = [17874, 296]'),\n Text(0.3865546218487395, 0.6428571428571429, 'X[0] <= 16495489.5\\ngini = 0.019\\nsamples = 18014\\nvalue = [17838, 176]'),\n Text(0.37815126050420167, 0.5952380952380952, 'gini = 0.0\\nsamples = 16572\\nvalue = [16572, 0]'),\n Text(0.3949579831932773, 0.5952380952380952, 'X[71] <= 64887.5\\ngini = 0.214\\nsamples = 1442\\nvalue = [1266, 176]'),\n Text(0.3865546218487395, 0.5476190476190477, 'X[46] <= 426.298\\ngini = 0.011\\nsamples = 177\\nvalue = [1, 176]'),\n Text(0.37815126050420167, 0.5, 'gini = 0.0\\nsamples = 176\\nvalue = [0, 176]'),\n Text(0.3949579831932773, 0.5, 'gini = 0.0\\nsamples = 1\\nvalue = [1, 0]'),\n Text(0.40336134453781514, 0.5476190476190477, 'gini = 0.0\\nsamples = 1265\\nvalue = [1265, 0]'),\n Text(0.4369747899159664, 0.6428571428571429, 'X[0] <= 241118968.0\\ngini = 0.355\\nsamples = 156\\nvalue = [36, 120]'),\n Text(0.42857142857142855, 0.5952380952380952, 'X[72] <= 125.5\\ngini = 0.016\\nsamples = 121\\nvalue = [1, 120]'),\n Text(0.42016806722689076, 0.5476190476190477, 'gini = 0.0\\nsamples = 1\\nvalue = [1, 0]'),\n Text(0.4369747899159664, 0.5476190476190477, 'gini = 0.0\\nsamples = 120\\nvalue = [0, 120]'),\n Text(0.44537815126050423, 0.5952380952380952, 'gini = 0.0\\nsamples = 35\\nvalue = [35, 0]'),\n Text(0.6156775210084033, 0.7380952380952381, 'X[5] <= 1.500406211646849e+18\\ngini = 0.003\\nsamples = 1091410\\nvalue = [1089959, 1451]'),\n Text(0.6072741596638656, 0.6904761904761905, 'X[5] <= 5533499916288.0\\ngini = 0.003\\nsamples = 1091367\\nvalue = [1089959, 1408]'),\n Text(0.4894957983193277, 0.6428571428571429, 'X[42] <= 0.032\\ngini = 0.06\\nsamples = 30678\\nvalue = [29722, 956]'),\n Text(0.46218487394957986, 0.5952380952380952, 'X[0] <= 10109506.0\\ngini = 0.262\\nsamples = 943\\nvalue = [146, 797]'),\n Text(0.453781512605042, 0.5476190476190477, 'gini = 0.0\\nsamples = 146\\nvalue = [146, 0]'),\n Text(0.47058823529411764, 0.5476190476190477, 'gini = 0.0\\nsamples = 797\\nvalue = [0, 797]'),\n Text(0.5168067226890757, 0.5952380952380952, 'X[68] <= 54.5\\ngini = 0.011\\nsamples = 29735\\nvalue = [29576, 159]'),\n Text(0.48739495798319327, 0.5476190476190477, 'X[72] <= 63976.0\\ngini = 0.431\\nsamples = 35\\nvalue = [11, 24]'),\n Text(0.4789915966386555, 0.5, 'gini = 0.0\\nsamples = 24\\nvalue = [0, 24]'),\n Text(0.4957983193277311, 0.5, 'gini = 0.0\\nsamples = 11\\nvalue = [11, 0]'),\n Text(0.5462184873949579, 0.5476190476190477, 'X[15] <= 1511.5\\ngini = 0.009\\nsamples = 29700\\nvalue = [29565, 135]'),\n Text(0.5126050420168067, 0.5, 'X[1] <= 74.0\\ngini = 0.007\\nsamples = 29630\\nvalue = [29526, 104]'),\n Text(0.5042016806722689, 0.4523809523809524, 'gini = 0.0\\nsamples = 6\\nvalue = [0, 6]'),\n Text(0.5210084033613446, 0.4523809523809524, 'X[0] <= 18864817.0\\ngini = 0.007\\nsamples = 29624\\nvalue = [29526, 98]'),\n Text(0.5126050420168067, 0.40476190476190477, 'gini = 0.0\\nsamples = 27238\\nvalue = [27238, 0]'),\n Text(0.5294117647058824, 0.40476190476190477, 'X[71] <= 64841.5\\ngini = 0.079\\nsamples = 2386\\nvalue = [2288, 98]'),\n Text(0.5210084033613446, 0.35714285714285715, 'gini = 0.0\\nsamples = 98\\nvalue = [0, 98]'),\n Text(0.5378151260504201, 0.35714285714285715, 'gini = 0.0\\nsamples = 2288\\nvalue = [2288, 0]'),\n Text(0.5798319327731093, 0.5, 'X[32] <= 1230412.0\\ngini = 0.493\\nsamples = 70\\nvalue = [39, 31]'),\n Text(0.5714285714285714, 0.4523809523809524, 'X[71] <= 64887.5\\ngini = 0.114\\nsamples = 33\\nvalue = [2, 31]'),\n Text(0.5630252100840336, 0.40476190476190477, 'X[45] <= 239.421\\ngini = 0.061\\nsamples = 32\\nvalue = [1, 31]'),\n Text(0.5546218487394958, 0.35714285714285715, 'gini = 0.0\\nsamples = 1\\nvalue = [1, 0]'),\n Text(0.5714285714285714, 0.35714285714285715, 'gini = 0.0\\nsamples = 31\\nvalue = [0, 31]'),\n Text(0.5798319327731093, 0.40476190476190477, 'gini = 0.0\\nsamples = 1\\nvalue = [1, 0]'),\n Text(0.5882352941176471, 0.4523809523809524, 'gini = 0.0\\nsamples = 37\\nvalue = [37, 0]'),\n Text(0.7250525210084033, 0.6428571428571429, 'X[5] <= 8177999937536.0\\ngini = 0.001\\nsamples = 1060689\\nvalue = [1060237, 452]'),\n Text(0.6260504201680672, 0.5952380952380952, 'X[56] <= 0.099\\ngini = 0.024\\nsamples = 24272\\nvalue = [23979, 293]'),\n Text(0.6050420168067226, 0.5476190476190477, 'X[0] <= 10109506.0\\ngini = 0.459\\nsamples = 348\\nvalue = [124, 224]'),\n Text(0.5966386554621849, 0.5, 'gini = 0.0\\nsamples = 124\\nvalue = [124, 0]'),\n Text(0.6134453781512605, 0.5, 'gini = 0.0\\nsamples = 224\\nvalue = [0, 224]'),\n Text(0.6470588235294118, 0.5476190476190477, 'X[67] <= 1210.5\\ngini = 0.006\\nsamples = 23924\\nvalue = [23855, 69]'),\n Text(0.6302521008403361, 0.5, 'X[1] <= 74.0\\ngini = 0.004\\nsamples = 23898\\nvalue = [23852, 46]'),\n Text(0.6218487394957983, 0.4523809523809524, 'gini = 0.0\\nsamples = 4\\nvalue = [0, 4]'),\n Text(0.6386554621848739, 0.4523809523809524, 'X[15] <= 1498.5\\ngini = 0.004\\nsamples = 23894\\nvalue = [23852, 42]'),\n Text(0.6218487394957983, 0.40476190476190477, 'X[5] <= 8176000040960.0\\ngini = 0.003\\nsamples = 23865\\nvalue = [23830, 35]'),\n Text(0.6134453781512605, 0.35714285714285715, 'X[0] <= 16020533.0\\ngini = 0.003\\nsamples = 23864\\nvalue = [23830, 34]'),\n Text(0.6050420168067226, 0.30952380952380953, 'gini = 0.0\\nsamples = 22440\\nvalue = [22440, 0]'),\n Text(0.6218487394957983, 0.30952380952380953, 'X[0] <= 20676468.0\\ngini = 0.047\\nsamples = 1424\\nvalue = [1390, 34]'),\n Text(0.6134453781512605, 0.2619047619047619, 'gini = 0.0\\nsamples = 34\\nvalue = [0, 34]'),\n Text(0.6302521008403361, 0.2619047619047619, 'gini = 0.0\\nsamples = 1390\\nvalue = [1390, 0]'),\n Text(0.6302521008403361, 0.35714285714285715, 'gini = 0.0\\nsamples = 1\\nvalue = [0, 1]'),\n Text(0.6554621848739496, 0.40476190476190477, 'X[1] <= 24803.5\\ngini = 0.366\\nsamples = 29\\nvalue = [22, 7]'),\n Text(0.6470588235294118, 0.35714285714285715, 'gini = 0.0\\nsamples = 22\\nvalue = [22, 0]'),\n Text(0.6638655462184874, 0.35714285714285715, 'gini = 0.0\\nsamples = 7\\nvalue = [0, 7]'),\n Text(0.6638655462184874, 0.5, 'X[72] <= 64189.0\\ngini = 0.204\\nsamples = 26\\nvalue = [3, 23]'),\n Text(0.6554621848739496, 0.4523809523809524, 'gini = 0.0\\nsamples = 23\\nvalue = [0, 23]'),\n Text(0.6722689075630253, 0.4523809523809524, 'gini = 0.0\\nsamples = 3\\nvalue = [3, 0]'),\n Text(0.8240546218487395, 0.5952380952380952, 'X[72] <= 64237.0\\ngini = 0.0\\nsamples = 1036417\\nvalue = [1036258, 159]'),\n Text(0.7352941176470589, 0.5476190476190477, 'X[5] <= 64978000281600.0\\ngini = 0.0\\nsamples = 1027541\\nvalue = [1027517, 24]'),\n Text(0.7016806722689075, 0.5, 'X[3] <= 51605.0\\ngini = 0.012\\nsamples = 1591\\nvalue = [1581, 10]'),\n Text(0.6932773109243697, 0.4523809523809524, 'gini = 0.0\\nsamples = 1581\\nvalue = [1581, 0]'),\n Text(0.7100840336134454, 0.4523809523809524, 'gini = 0.0\\nsamples = 10\\nvalue = [0, 10]'),\n Text(0.7689075630252101, 0.5, 'X[72] <= 63472.5\\ngini = 0.0\\nsamples = 1025950\\nvalue = [1025936, 14]'),\n Text(0.726890756302521, 0.4523809523809524, 'X[1] <= 65513.5\\ngini = 0.0\\nsamples = 1024028\\nvalue = [1024020, 8]'),\n Text(0.6974789915966386, 0.40476190476190477, 'X[72] <= 62835.5\\ngini = 0.0\\nsamples = 1023596\\nvalue = [1023589, 7]'),\n Text(0.680672268907563, 0.35714285714285715, 'X[0] <= 11537628.5\\ngini = 0.0\\nsamples = 1022742\\nvalue = [1022736, 6]'),\n Text(0.6722689075630253, 0.30952380952380953, 'X[0] <= 10555418.0\\ngini = 0.0\\nsamples = 32837\\nvalue = [32831, 6]'),\n Text(0.6512605042016807, 0.2619047619047619, 'X[9] <= 67.5\\ngini = 0.0\\nsamples = 32832\\nvalue = [32830, 2]'),\n Text(0.634453781512605, 0.21428571428571427, 'X[68] <= 66.5\\ngini = 0.002\\nsamples = 1170\\nvalue = [1169, 1]'),\n Text(0.6260504201680672, 0.16666666666666666, 'gini = 0.0\\nsamples = 1169\\nvalue = [1169, 0]'),\n Text(0.6428571428571429, 0.16666666666666666, 'gini = 0.0\\nsamples = 1\\nvalue = [0, 1]'),\n Text(0.6680672268907563, 0.21428571428571427, 'X[9] <= 78.5\\ngini = 0.0\\nsamples = 31662\\nvalue = [31661, 1]'),\n Text(0.6596638655462185, 0.16666666666666666, 'X[41] <= 0.633\\ngini = 0.001\\nsamples = 3710\\nvalue = [3709, 1]'),\n Text(0.6512605042016807, 0.11904761904761904, 'X[20] <= 1.22\\ngini = 0.5\\nsamples = 2\\nvalue = [1, 1]'),\n Text(0.6428571428571429, 0.07142857142857142, 'gini = 0.0\\nsamples = 1\\nvalue = [1, 0]'),\n Text(0.6596638655462185, 0.07142857142857142, 'gini = 0.0\\nsamples = 1\\nvalue = [0, 1]'),\n Text(0.6680672268907563, 0.11904761904761904, 'gini = 0.0\\nsamples = 3708\\nvalue = [3708, 0]'),\n Text(0.6764705882352942, 0.16666666666666666, 'gini = 0.0\\nsamples = 27952\\nvalue = [27952, 0]'),\n Text(0.6932773109243697, 0.2619047619047619, 'X[6] <= 12705612.5\\ngini = 0.32\\nsamples = 5\\nvalue = [1, 4]'),\n Text(0.6848739495798319, 0.21428571428571427, 'gini = 0.0\\nsamples = 4\\nvalue = [0, 4]'),\n Text(0.7016806722689075, 0.21428571428571427, 'gini = 0.0\\nsamples = 1\\nvalue = [1, 0]'),\n Text(0.6890756302521008, 0.30952380952380953, 'gini = 0.0\\nsamples = 989905\\nvalue = [989905, 0]'),\n Text(0.7142857142857143, 0.35714285714285715, 'X[72] <= 62838.5\\ngini = 0.002\\nsamples = 854\\nvalue = [853, 1]'),\n Text(0.7058823529411765, 0.30952380952380953, 'gini = 0.0\\nsamples = 1\\nvalue = [0, 1]'),\n Text(0.7226890756302521, 0.30952380952380953, 'gini = 0.0\\nsamples = 853\\nvalue = [853, 0]'),\n Text(0.7563025210084033, 0.40476190476190477, 'X[41] <= 0.746\\ngini = 0.005\\nsamples = 432\\nvalue = [431, 1]'),\n Text(0.7478991596638656, 0.35714285714285715, 'X[9] <= 165.0\\ngini = 0.219\\nsamples = 8\\nvalue = [7, 1]'),\n Text(0.7394957983193278, 0.30952380952380953, 'gini = 0.0\\nsamples = 1\\nvalue = [0, 1]'),\n Text(0.7563025210084033, 0.30952380952380953, 'gini = 0.0\\nsamples = 7\\nvalue = [7, 0]'),\n Text(0.7647058823529411, 0.35714285714285715, 'gini = 0.0\\nsamples = 424\\nvalue = [424, 0]'),\n Text(0.8109243697478992, 0.4523809523809524, 'X[72] <= 63474.5\\ngini = 0.006\\nsamples = 1922\\nvalue = [1916, 6]'),\n Text(0.7899159663865546, 0.40476190476190477, 'X[9] <= 5000.0\\ngini = 0.5\\nsamples = 2\\nvalue = [1, 1]'),\n Text(0.7815126050420168, 0.35714285714285715, 'gini = 0.0\\nsamples = 1\\nvalue = [0, 1]'),\n Text(0.7983193277310925, 0.35714285714285715, 'gini = 0.0\\nsamples = 1\\nvalue = [1, 0]'),\n Text(0.8319327731092437, 0.40476190476190477, 'X[19] <= 15.662\\ngini = 0.005\\nsamples = 1920\\nvalue = [1915, 5]'),\n Text(0.8151260504201681, 0.35714285714285715, 'X[28] <= 5011995.5\\ngini = 0.147\\nsamples = 50\\nvalue = [46, 4]'),\n Text(0.8067226890756303, 0.30952380952380953, 'X[41] <= 0.054\\ngini = 0.444\\nsamples = 6\\nvalue = [2, 4]'),\n Text(0.7983193277310925, 0.2619047619047619, 'gini = 0.0\\nsamples = 2\\nvalue = [2, 0]'),\n Text(0.8151260504201681, 0.2619047619047619, 'gini = 0.0\\nsamples = 4\\nvalue = [0, 4]'),\n Text(0.8235294117647058, 0.30952380952380953, 'gini = 0.0\\nsamples = 44\\nvalue = [44, 0]'),\n Text(0.8487394957983193, 0.35714285714285715, 'X[21] <= 5.0\\ngini = 0.001\\nsamples = 1870\\nvalue = [1869, 1]'),\n Text(0.8403361344537815, 0.30952380952380953, 'X[5] <= 1.4562062565271142e+18\\ngini = 0.124\\nsamples = 15\\nvalue = [14, 1]'),\n Text(0.8319327731092437, 0.2619047619047619, 'gini = 0.0\\nsamples = 14\\nvalue = [14, 0]'),\n Text(0.8487394957983193, 0.2619047619047619, 'gini = 0.0\\nsamples = 1\\nvalue = [0, 1]'),\n Text(0.8571428571428571, 0.30952380952380953, 'gini = 0.0\\nsamples = 1855\\nvalue = [1855, 0]'),\n Text(0.9128151260504201, 0.5476190476190477, 'X[72] <= 64239.5\\ngini = 0.03\\nsamples = 8876\\nvalue = [8741, 135]'),\n Text(0.8865546218487395, 0.5, 'X[5] <= 1.3693084166101402e+18\\ngini = 0.061\\nsamples = 32\\nvalue = [1, 31]'),\n Text(0.8781512605042017, 0.4523809523809524, 'gini = 0.0\\nsamples = 1\\nvalue = [1, 0]'),\n Text(0.8949579831932774, 0.4523809523809524, 'gini = 0.0\\nsamples = 31\\nvalue = [0, 31]'),\n Text(0.9390756302521008, 0.5, 'X[66] <= 14433535.0\\ngini = 0.023\\nsamples = 8844\\nvalue = [8740, 104]'),\n Text(0.9117647058823529, 0.4523809523809524, 'X[72] <= 64243.0\\ngini = 0.016\\nsamples = 8792\\nvalue = [8720, 72]'),\n Text(0.9033613445378151, 0.40476190476190477, 'X[0] <= 14292020.0\\ngini = 0.118\\nsamples = 1142\\nvalue = [1070, 72]'),\n Text(0.8823529411764706, 0.35714285714285715, 'X[3] <= 617.5\\ngini = 0.5\\nsamples = 106\\nvalue = [53, 53]'),\n Text(0.8739495798319328, 0.30952380952380953, 'gini = 0.0\\nsamples = 53\\nvalue = [0, 53]'),\n Text(0.8907563025210085, 0.30952380952380953, 'gini = 0.0\\nsamples = 53\\nvalue = [53, 0]'),\n Text(0.9243697478991597, 0.35714285714285715, 'X[64] <= 5947.25\\ngini = 0.036\\nsamples = 1036\\nvalue = [1017, 19]'),\n Text(0.907563025210084, 0.30952380952380953, 'X[2] <= 189473300480.0\\ngini = 0.021\\nsamples = 1022\\nvalue = [1011, 11]'),\n Text(0.8991596638655462, 0.2619047619047619, 'X[3] <= 261.5\\ngini = 0.019\\nsamples = 1021\\nvalue = [1011, 10]'),\n Text(0.8823529411764706, 0.21428571428571427, 'X[0] <= 146690108.0\\ngini = 0.092\\nsamples = 165\\nvalue = [157, 8]'),\n Text(0.8739495798319328, 0.16666666666666666, 'gini = 0.0\\nsamples = 7\\nvalue = [0, 7]'),\n Text(0.8907563025210085, 0.16666666666666666, 'X[0] <= 19216832512.0\\ngini = 0.013\\nsamples = 158\\nvalue = [157, 1]'),\n Text(0.8823529411764706, 0.11904761904761904, 'gini = 0.0\\nsamples = 157\\nvalue = [157, 0]'),\n Text(0.8991596638655462, 0.11904761904761904, 'gini = 0.0\\nsamples = 1\\nvalue = [0, 1]'),\n Text(0.9159663865546218, 0.21428571428571427, 'X[19] <= 11.535\\ngini = 0.005\\nsamples = 856\\nvalue = [854, 2]'),\n Text(0.907563025210084, 0.16666666666666666, 'gini = 0.0\\nsamples = 1\\nvalue = [0, 1]'),\n Text(0.9243697478991597, 0.16666666666666666, 'X[57] <= 60.705\\ngini = 0.002\\nsamples = 855\\nvalue = [854, 1]'),\n Text(0.9159663865546218, 0.11904761904761904, 'X[2] <= 101549108.0\\ngini = 0.021\\nsamples = 95\\nvalue = [94, 1]'),\n Text(0.907563025210084, 0.07142857142857142, 'X[17] <= 57.0\\ngini = 0.5\\nsamples = 2\\nvalue = [1, 1]'),\n Text(0.8991596638655462, 0.023809523809523808, 'gini = 0.0\\nsamples = 1\\nvalue = [1, 0]'),\n Text(0.9159663865546218, 0.023809523809523808, 'gini = 0.0\\nsamples = 1\\nvalue = [0, 1]'),\n Text(0.9243697478991597, 0.07142857142857142, 'gini = 0.0\\nsamples = 93\\nvalue = [93, 0]'),\n Text(0.9327731092436975, 0.11904761904761904, 'gini = 0.0\\nsamples = 760\\nvalue = [760, 0]'),\n Text(0.9159663865546218, 0.2619047619047619, 'gini = 0.0\\nsamples = 1\\nvalue = [0, 1]'),\n Text(0.9411764705882353, 0.30952380952380953, 'X[25] <= 9567753.0\\ngini = 0.49\\nsamples = 14\\nvalue = [6, 8]'),\n Text(0.9327731092436975, 0.2619047619047619, 'gini = 0.0\\nsamples = 8\\nvalue = [0, 8]'),\n Text(0.9495798319327731, 0.2619047619047619, 'gini = 0.0\\nsamples = 6\\nvalue = [6, 0]'),\n Text(0.9201680672268907, 0.40476190476190477, 'gini = 0.0\\nsamples = 7650\\nvalue = [7650, 0]'),\n Text(0.9663865546218487, 0.4523809523809524, 'X[56] <= 1.465\\ngini = 0.473\\nsamples = 52\\nvalue = [20, 32]'),\n Text(0.9495798319327731, 0.40476190476190477, 'X[33] <= 13805521.5\\ngini = 0.1\\nsamples = 19\\nvalue = [18, 1]'),\n Text(0.9411764705882353, 0.35714285714285715, 'gini = 0.0\\nsamples = 18\\nvalue = [18, 0]'),\n Text(0.957983193277311, 0.35714285714285715, 'gini = 0.0\\nsamples = 1\\nvalue = [0, 1]'),\n Text(0.9831932773109243, 0.40476190476190477, 'X[15] <= 1510.0\\ngini = 0.114\\nsamples = 33\\nvalue = [2, 31]'),\n Text(0.9747899159663865, 0.35714285714285715, 'gini = 0.0\\nsamples = 2\\nvalue = [2, 0]'),\n Text(0.9915966386554622, 0.35714285714285715, 'gini = 0.0\\nsamples = 31\\nvalue = [0, 31]'),\n Text(0.6240808823529411, 0.6904761904761905, 'gini = 0.0\\nsamples = 43\\nvalue = [0, 43]'),\n Text(0.6576943277310925, 0.7857142857142857, 'X[17] <= 73.157\\ngini = 0.151\\nsamples = 315\\nvalue = [26, 289]'),\n Text(0.6492909663865546, 0.7380952380952381, 'X[15] <= 572.5\\ngini = 0.071\\nsamples = 27\\nvalue = [26, 1]'),\n Text(0.6408876050420168, 0.6904761904761905, 'gini = 0.0\\nsamples = 26\\nvalue = [26, 0]'),\n Text(0.6576943277310925, 0.6904761904761905, 'gini = 0.0\\nsamples = 1\\nvalue = [0, 1]'),\n Text(0.6660976890756303, 0.7380952380952381, 'gini = 0.0\\nsamples = 288\\nvalue = [0, 288]')]"
     },
     "execution_count": 17,
     "metadata": {},
     "output_type": "execute_result"
    },
    {
     "data": {
      "text/plain": "<Figure size 432x288 with 1 Axes>",
      "image/png": "[encoded data removed]"
     },
     "metadata": {
      "needs_background": "light"
     },
     "output_type": "display_data"
    }
   ],
   "source": [
    "plot_tree(dt_model)"
   ],
   "metadata": {
    "collapsed": false
   }
  },
  {
   "cell_type": "markdown",
   "source": [
    "### VALUTAZIONE MODELLO"
   ],
   "metadata": {
    "collapsed": false
   }
  },
  {
   "cell_type": "code",
   "execution_count": 18,
   "outputs": [
    {
     "name": "stdout",
     "output_type": "stream",
     "text": [
      "Precision in training phase: 1.0\n",
      "Precision in testing phase: 0.9999585045842555\n"
     ]
    }
   ],
   "source": [
    "print(f\"Precision in training phase: {dt_model.score(X_train, y_train)}\")\n",
    "print(f\"Precision in testing phase: {dt_model.score(X_test, y_test)}\")"
   ],
   "metadata": {
    "collapsed": false
   }
  },
  {
   "cell_type": "markdown",
   "source": [
    "### FEATURES IMPORTANCE/DIMENSIONAL REDUCTION\n",
    "\n",
    "Per fare ciò sfrutto la proprietà *feature_importances\\_* messa a disposizione dal modello"
   ],
   "metadata": {
    "collapsed": false
   }
  },
  {
   "cell_type": "code",
   "execution_count": 19,
   "outputs": [
    {
     "name": "stdout",
     "output_type": "stream",
     "text": [
      "Feature: 0, Score: 0.17059\n",
      "Feature: 1, Score: 0.00098\n",
      "Feature: 2, Score: 0.00043\n",
      "Feature: 3, Score: 0.00168\n",
      "Feature: 4, Score: 0.00000\n",
      "Feature: 5, Score: 0.03044\n",
      "Feature: 6, Score: 0.00001\n",
      "Feature: 7, Score: 0.00000\n",
      "Feature: 8, Score: 0.00000\n",
      "Feature: 9, Score: 0.00002\n",
      "Feature: 10, Score: 0.00000\n",
      "Feature: 11, Score: 0.00000\n",
      "Feature: 12, Score: 0.00001\n",
      "Feature: 13, Score: 0.00015\n",
      "Feature: 14, Score: 0.00000\n",
      "Feature: 15, Score: 0.00171\n",
      "Feature: 16, Score: 0.00000\n",
      "Feature: 17, Score: 0.00040\n",
      "Feature: 18, Score: 0.00000\n",
      "Feature: 19, Score: 0.00002\n",
      "Feature: 20, Score: 0.00001\n",
      "Feature: 21, Score: 0.00000\n",
      "Feature: 22, Score: 0.00000\n",
      "Feature: 23, Score: 0.00000\n",
      "Feature: 24, Score: 0.00000\n",
      "Feature: 25, Score: 0.00005\n",
      "Feature: 26, Score: 0.00000\n",
      "Feature: 27, Score: 0.00000\n",
      "Feature: 28, Score: 0.00004\n",
      "Feature: 29, Score: 0.00000\n",
      "Feature: 30, Score: 0.00000\n",
      "Feature: 31, Score: 0.00000\n",
      "Feature: 32, Score: 0.00025\n",
      "Feature: 33, Score: 0.00002\n",
      "Feature: 34, Score: 0.00000\n",
      "Feature: 35, Score: 0.00000\n",
      "Feature: 36, Score: 0.00000\n",
      "Feature: 37, Score: 0.00000\n",
      "Feature: 38, Score: 0.00000\n",
      "Feature: 39, Score: 0.00000\n",
      "Feature: 40, Score: 0.00000\n",
      "Feature: 41, Score: 0.75134\n",
      "Feature: 42, Score: 0.01029\n",
      "Feature: 43, Score: 0.00000\n",
      "Feature: 44, Score: 0.00000\n",
      "Feature: 45, Score: 0.00002\n",
      "Feature: 46, Score: 0.00002\n",
      "Feature: 47, Score: 0.00000\n",
      "Feature: 48, Score: 0.00051\n",
      "Feature: 49, Score: 0.00000\n",
      "Feature: 50, Score: 0.00000\n",
      "Feature: 51, Score: 0.00000\n",
      "Feature: 52, Score: 0.00000\n",
      "Feature: 53, Score: 0.00000\n",
      "Feature: 54, Score: 0.00000\n",
      "Feature: 55, Score: 0.00000\n",
      "Feature: 56, Score: 0.00240\n",
      "Feature: 57, Score: 0.00002\n",
      "Feature: 58, Score: 0.00003\n",
      "Feature: 59, Score: 0.01864\n",
      "Feature: 60, Score: 0.00000\n",
      "Feature: 61, Score: 0.00000\n",
      "Feature: 62, Score: 0.00000\n",
      "Feature: 63, Score: 0.00000\n",
      "Feature: 64, Score: 0.00007\n",
      "Feature: 65, Score: 0.00000\n",
      "Feature: 66, Score: 0.00030\n",
      "Feature: 67, Score: 0.00032\n",
      "Feature: 68, Score: 0.00451\n",
      "Feature: 69, Score: 0.00000\n",
      "Feature: 70, Score: 0.00000\n",
      "Feature: 71, Score: 0.00397\n",
      "Feature: 72, Score: 0.00076\n",
      "Feature: 73, Score: 0.00000\n",
      "Feature: 74, Score: 0.00000\n",
      "Feature: 75, Score: 0.00000\n",
      "Feature: 76, Score: 0.00000\n",
      "Feature: 77, Score: 0.00000\n",
      "Feature: 78, Score: 0.00000\n",
      "Feature: 79, Score: 0.00000\n",
      "Feature: 80, Score: 0.00000\n",
      "Feature: 81, Score: 0.00000\n",
      "Feature: 82, Score: 0.00000\n"
     ]
    },
    {
     "data": {
      "text/plain": "<Figure size 432x288 with 1 Axes>",
      "image/png": "[encoded data removed]"
     },
     "metadata": {
      "needs_background": "light"
     },
     "output_type": "display_data"
    }
   ],
   "source": [
    "importance = dt_model.feature_importances_\n",
    "\n",
    "for i,v in enumerate(importance):\n",
    " print('Feature: %0d, Score: %.5f' % (i, v))\n",
    "\n",
    "plt.bar([x for x in range(len(importance))], importance)\n",
    "plt.show()"
   ],
   "metadata": {
    "collapsed": false
   }
  },
  {
   "cell_type": "markdown",
   "source": [
    "### DATASET BILANCIATO"
   ],
   "metadata": {
    "collapsed": false
   }
  },
  {
   "cell_type": "code",
   "execution_count": 20,
   "outputs": [
    {
     "name": "stdout",
     "output_type": "stream",
     "text": [
      "INIZIO ADDESTRAMENTO DECISION TREE\n",
      "L'addestramento del decision tree ha impiegato 51.37932896614075 secondi\n",
      "SALVATAGGIO MODELLO IN ../exported_model/dt_balance.pkl\n"
     ]
    }
   ],
   "source": [
    "try:\n",
    "    with open(f\"{EXPORTED_MODEL}/dt_balance.pkl\", 'rb') as file:\n",
    "        print(\"CARICAMENTO MODELLO DA ../exported_model/dt_balance.pkl\")\n",
    "\n",
    "        dt_balance_model = pkl.load(file)\n",
    "except IOError:\n",
    "    dt = DecisionTreeClassifier()\n",
    "    start_time = time.time()\n",
    "\n",
    "    print(\"INIZIO ADDESTRAMENTO DECISION TREE\")\n",
    "    dt_balance_model = dt.fit(X_train_balanced, y_train_balanced)\n",
    "\n",
    "    print(f\"L'addestramento del decision tree ha impiegato {time.time() - start_time} secondi\")\n",
    "\n",
    "    print(\"SALVATAGGIO MODELLO IN ../exported_model/dt_balance.pkl\")\n",
    "    with open(f\"{EXPORTED_MODEL}/dt_balance.pkl\", 'wb') as file:\n",
    "        pkl.dump(dt_balance_model, file)"
   ],
   "metadata": {
    "collapsed": false
   }
  },
  {
   "cell_type": "markdown",
   "source": [
    "Visualizzo il decision tree"
   ],
   "metadata": {
    "collapsed": false
   }
  },
  {
   "cell_type": "code",
   "execution_count": 21,
   "outputs": [
    {
     "data": {
      "text/plain": "[Text(0.6160512214159444, 0.9807692307692307, 'X[69] <= 0.5\\ngini = 0.5\\nsamples = 2228994\\nvalue = [1114497, 1114497]'),\n Text(0.5109787544194799, 0.9423076923076923, 'X[0] <= 101281648.0\\ngini = 0.133\\nsamples = 1136316\\nvalue = [81257, 1055059]'),\n Text(0.4696460733158455, 0.9038461538461539, 'X[5] <= 1.4877032102137692e+18\\ngini = 0.013\\nsamples = 1058373\\nvalue = [6918, 1051455]'),\n Text(0.4405086916438564, 0.8653846153846154, 'X[24] <= 2995265.375\\ngini = 0.006\\nsamples = 1054311\\nvalue = [3001, 1051310]'),\n Text(0.39683246844586373, 0.8269230769230769, 'X[81] <= 30034792.0\\ngini = 0.003\\nsamples = 1052573\\nvalue = [1814, 1050759]'),\n Text(0.35327564248783455, 0.7884615384615384, 'X[48] <= 0.5\\ngini = 0.003\\nsamples = 1052163\\nvalue = [1537, 1050626]'),\n Text(0.30752452098540145, 0.75, 'X[25] <= 90035716.0\\ngini = 0.002\\nsamples = 1045145\\nvalue = [993, 1044152]'),\n Text(0.2671171684914842, 0.7115384615384616, 'X[19] <= 1437627.5\\ngini = 0.002\\nsamples = 1044633\\nvalue = [887, 1043746]'),\n Text(0.22523190389294404, 0.6730769230769231, 'X[81] <= 2995104.75\\ngini = 0.002\\nsamples = 1044494\\nvalue = [844, 1043650]'),\n Text(0.15605991484184914, 0.6346153846153846, 'X[62] <= 4.0\\ngini = 0.001\\nsamples = 1040843\\nvalue = [640, 1040203]'),\n Text(0.07124391727493917, 0.5961538461538461, 'X[1] <= 80.5\\ngini = 0.001\\nsamples = 1035937\\nvalue = [426, 1035511]'),\n Text(0.029197080291970802, 0.5576923076923077, 'X[5] <= 8600500043776.0\\ngini = 0.072\\nsamples = 3308\\nvalue = [123, 3185]'),\n Text(0.024330900243309004, 0.5192307692307693, 'X[2] <= 7938352.5\\ngini = 0.023\\nsamples = 3222\\nvalue = [37, 3185]'),\n Text(0.014598540145985401, 0.4807692307692308, 'X[11] <= 322.0\\ngini = 0.153\\nsamples = 12\\nvalue = [11, 1]'),\n Text(0.009732360097323601, 0.4423076923076923, 'gini = 0.0\\nsamples = 1\\nvalue = [0, 1]'),\n Text(0.019464720194647202, 0.4423076923076923, 'gini = 0.0\\nsamples = 11\\nvalue = [11, 0]'),\n Text(0.0340632603406326, 0.4807692307692308, 'X[0] <= 102268.0\\ngini = 0.016\\nsamples = 3210\\nvalue = [26, 3184]'),\n Text(0.029197080291970802, 0.4423076923076923, 'X[47] <= 0.048\\ngini = 0.208\\nsamples = 220\\nvalue = [26, 194]'),\n Text(0.019464720194647202, 0.40384615384615385, 'X[5] <= 5613499973632.0\\ngini = 0.142\\nsamples = 26\\nvalue = [24, 2]'),\n Text(0.014598540145985401, 0.36538461538461536, 'X[5] <= 3643999911936.0\\ngini = 0.077\\nsamples = 25\\nvalue = [24, 1]'),\n Text(0.009732360097323601, 0.3269230769230769, 'X[0] <= 50107.5\\ngini = 0.5\\nsamples = 2\\nvalue = [1, 1]'),\n Text(0.004866180048661801, 0.28846153846153844, 'gini = 0.0\\nsamples = 1\\nvalue = [0, 1]'),\n Text(0.014598540145985401, 0.28846153846153844, 'gini = 0.0\\nsamples = 1\\nvalue = [1, 0]'),\n Text(0.019464720194647202, 0.3269230769230769, 'gini = 0.0\\nsamples = 23\\nvalue = [23, 0]'),\n Text(0.024330900243309004, 0.36538461538461536, 'gini = 0.0\\nsamples = 1\\nvalue = [0, 1]'),\n Text(0.038929440389294405, 0.40384615384615385, 'X[45] <= 344.248\\ngini = 0.02\\nsamples = 194\\nvalue = [2, 192]'),\n Text(0.0340632603406326, 0.36538461538461536, 'gini = 0.0\\nsamples = 192\\nvalue = [0, 192]'),\n Text(0.043795620437956206, 0.36538461538461536, 'gini = 0.0\\nsamples = 2\\nvalue = [2, 0]'),\n Text(0.038929440389294405, 0.4423076923076923, 'gini = 0.0\\nsamples = 2990\\nvalue = [0, 2990]'),\n Text(0.0340632603406326, 0.5192307692307693, 'gini = 0.0\\nsamples = 86\\nvalue = [86, 0]'),\n Text(0.11329075425790754, 0.5576923076923077, 'X[3] <= 53.5\\ngini = 0.001\\nsamples = 1032629\\nvalue = [303, 1032326]'),\n Text(0.06326034063260341, 0.5192307692307693, 'X[20] <= 0.017\\ngini = 0.027\\nsamples = 8021\\nvalue = [110, 7911]'),\n Text(0.0535279805352798, 0.4807692307692308, 'X[5] <= 3640499896320.0\\ngini = 0.055\\nsamples = 71\\nvalue = [69, 2]'),\n Text(0.04866180048661801, 0.4423076923076923, 'gini = 0.0\\nsamples = 2\\nvalue = [0, 2]'),\n Text(0.058394160583941604, 0.4423076923076923, 'gini = 0.0\\nsamples = 69\\nvalue = [69, 0]'),\n Text(0.072992700729927, 0.4807692307692308, 'X[2] <= 1384732032.0\\ngini = 0.01\\nsamples = 7950\\nvalue = [41, 7909]'),\n Text(0.0681265206812652, 0.4423076923076923, 'gini = 0.0\\nsamples = 7909\\nvalue = [0, 7909]'),\n Text(0.07785888077858881, 0.4423076923076923, 'gini = 0.0\\nsamples = 41\\nvalue = [41, 0]'),\n Text(0.1633211678832117, 0.5192307692307693, 'X[14] <= 157.38\\ngini = 0.0\\nsamples = 1024608\\nvalue = [193, 1024415]'),\n Text(0.1332116788321168, 0.4807692307692308, 'X[73] <= 1.5\\ngini = 0.0\\nsamples = 1024606\\nvalue = [192, 1024414]'),\n Text(0.08759124087591241, 0.4423076923076923, 'X[1] <= 5354.0\\ngini = 0.0\\nsamples = 956666\\nvalue = [24, 956642]'),\n Text(0.0681265206812652, 0.40384615384615385, 'X[1] <= 5352.5\\ngini = 0.003\\nsamples = 14921\\nvalue = [22, 14899]'),\n Text(0.058394160583941604, 0.36538461538461536, 'X[5] <= 6.481187339186995e+17\\ngini = 0.0\\nsamples = 14901\\nvalue = [3, 14898]'),\n Text(0.0535279805352798, 0.3269230769230769, 'gini = 0.0\\nsamples = 14898\\nvalue = [0, 14898]'),\n Text(0.06326034063260341, 0.3269230769230769, 'gini = 0.0\\nsamples = 3\\nvalue = [3, 0]'),\n Text(0.07785888077858881, 0.36538461538461536, 'X[41] <= 0.031\\ngini = 0.095\\nsamples = 20\\nvalue = [19, 1]'),\n Text(0.072992700729927, 0.3269230769230769, 'gini = 0.0\\nsamples = 19\\nvalue = [19, 0]'),\n Text(0.0827250608272506, 0.3269230769230769, 'gini = 0.0\\nsamples = 1\\nvalue = [0, 1]'),\n Text(0.1070559610705596, 0.40384615384615385, 'X[3] <= 58793.5\\ngini = 0.0\\nsamples = 941745\\nvalue = [2, 941743]'),\n Text(0.09732360097323602, 0.36538461538461536, 'X[1] <= 34864.0\\ngini = 0.0\\nsamples = 940990\\nvalue = [1, 940989]'),\n Text(0.09245742092457421, 0.3269230769230769, 'X[5] <= 7.190587785315615e+17\\ngini = 0.0\\nsamples = 14007\\nvalue = [1, 14006]'),\n Text(0.08759124087591241, 0.28846153846153844, 'gini = 0.0\\nsamples = 14006\\nvalue = [0, 14006]'),\n Text(0.09732360097323602, 0.28846153846153844, 'gini = 0.0\\nsamples = 1\\nvalue = [1, 0]'),\n Text(0.10218978102189781, 0.3269230769230769, 'gini = 0.0\\nsamples = 926983\\nvalue = [0, 926983]'),\n Text(0.11678832116788321, 0.36538461538461536, 'X[45] <= 69.989\\ngini = 0.003\\nsamples = 755\\nvalue = [1, 754]'),\n Text(0.11192214111922141, 0.3269230769230769, 'gini = 0.0\\nsamples = 1\\nvalue = [1, 0]'),\n Text(0.12165450121654502, 0.3269230769230769, 'gini = 0.0\\nsamples = 754\\nvalue = [0, 754]'),\n Text(0.17883211678832117, 0.4423076923076923, 'X[5] <= 7.190497235577078e+17\\ngini = 0.005\\nsamples = 67940\\nvalue = [168, 67772]'),\n Text(0.17396593673965938, 0.40384615384615385, 'X[6] <= 100780.09\\ngini = 0.004\\nsamples = 67916\\nvalue = [144, 67772]'),\n Text(0.1362530413625304, 0.36538461538461536, 'X[0] <= 1002292.0\\ngini = 0.025\\nsamples = 5694\\nvalue = [71, 5623]'),\n Text(0.13138686131386862, 0.3269230769230769, 'X[0] <= 995821.5\\ngini = 0.118\\nsamples = 1125\\nvalue = [71, 1054]'),\n Text(0.12652068126520682, 0.28846153846153844, 'X[0] <= 81523.0\\ngini = 0.017\\nsamples = 1063\\nvalue = [9, 1054]'),\n Text(0.12165450121654502, 0.25, 'gini = 0.0\\nsamples = 1014\\nvalue = [0, 1014]'),\n Text(0.13138686131386862, 0.25, 'X[0] <= 114148.5\\ngini = 0.3\\nsamples = 49\\nvalue = [9, 40]'),\n Text(0.12652068126520682, 0.21153846153846154, 'gini = 0.0\\nsamples = 9\\nvalue = [9, 0]'),\n Text(0.1362530413625304, 0.21153846153846154, 'gini = 0.0\\nsamples = 40\\nvalue = [0, 40]'),\n Text(0.1362530413625304, 0.28846153846153844, 'gini = 0.0\\nsamples = 62\\nvalue = [62, 0]'),\n Text(0.1411192214111922, 0.3269230769230769, 'gini = 0.0\\nsamples = 4569\\nvalue = [0, 4569]'),\n Text(0.2116788321167883, 0.36538461538461536, 'X[1] <= 137.5\\ngini = 0.002\\nsamples = 62222\\nvalue = [73, 62149]'),\n Text(0.17274939172749393, 0.3269230769230769, 'X[24] <= 749778.0\\ngini = 0.014\\nsamples = 4926\\nvalue = [35, 4891]'),\n Text(0.16058394160583941, 0.28846153846153844, 'X[5] <= 3741999955968.0\\ngini = 0.004\\nsamples = 4721\\nvalue = [10, 4711]'),\n Text(0.15085158150851583, 0.25, 'X[0] <= 10109507.0\\ngini = 0.136\\nsamples = 109\\nvalue = [8, 101]'),\n Text(0.145985401459854, 0.21153846153846154, 'X[9] <= 458.0\\ngini = 0.397\\nsamples = 11\\nvalue = [8, 3]'),\n Text(0.1411192214111922, 0.17307692307692307, 'gini = 0.0\\nsamples = 8\\nvalue = [8, 0]'),\n Text(0.15085158150851583, 0.17307692307692307, 'gini = 0.0\\nsamples = 3\\nvalue = [0, 3]'),\n Text(0.15571776155717762, 0.21153846153846154, 'gini = 0.0\\nsamples = 98\\nvalue = [0, 98]'),\n Text(0.170316301703163, 0.25, 'X[0] <= 67102.5\\ngini = 0.001\\nsamples = 4612\\nvalue = [2, 4610]'),\n Text(0.1654501216545012, 0.21153846153846154, 'gini = 0.0\\nsamples = 4126\\nvalue = [0, 4126]'),\n Text(0.17518248175182483, 0.21153846153846154, 'X[2] <= 1106261.0\\ngini = 0.008\\nsamples = 486\\nvalue = [2, 484]'),\n Text(0.170316301703163, 0.17307692307692307, 'X[4] <= 16.5\\ngini = 0.444\\nsamples = 3\\nvalue = [2, 1]'),\n Text(0.1654501216545012, 0.1346153846153846, 'gini = 0.0\\nsamples = 1\\nvalue = [0, 1]'),\n Text(0.17518248175182483, 0.1346153846153846, 'gini = 0.0\\nsamples = 2\\nvalue = [2, 0]'),\n Text(0.18004866180048662, 0.17307692307692307, 'gini = 0.0\\nsamples = 483\\nvalue = [0, 483]'),\n Text(0.18491484184914841, 0.28846153846153844, 'X[0] <= 55120.0\\ngini = 0.214\\nsamples = 205\\nvalue = [25, 180]'),\n Text(0.18004866180048662, 0.25, 'gini = 0.0\\nsamples = 175\\nvalue = [0, 175]'),\n Text(0.1897810218978102, 0.25, 'X[57] <= 95.917\\ngini = 0.278\\nsamples = 30\\nvalue = [25, 5]'),\n Text(0.18491484184914841, 0.21153846153846154, 'gini = 0.0\\nsamples = 25\\nvalue = [25, 0]'),\n Text(0.19464720194647203, 0.21153846153846154, 'gini = 0.0\\nsamples = 5\\nvalue = [0, 5]'),\n Text(0.25060827250608275, 0.3269230769230769, 'X[45] <= 64.001\\ngini = 0.001\\nsamples = 57296\\nvalue = [38, 57258]'),\n Text(0.22627737226277372, 0.28846153846153844, 'X[41] <= 18.07\\ngini = 0.006\\nsamples = 8997\\nvalue = [25, 8972]'),\n Text(0.20924574209245742, 0.25, 'X[20] <= 18.07\\ngini = 0.017\\nsamples = 2404\\nvalue = [20, 2384]'),\n Text(0.20437956204379562, 0.21153846153846154, 'X[0] <= 69345.5\\ngini = 0.015\\nsamples = 2402\\nvalue = [18, 2384]'),\n Text(0.19951338199513383, 0.17307692307692307, 'gini = 0.0\\nsamples = 1449\\nvalue = [0, 1449]'),\n Text(0.20924574209245742, 0.17307692307692307, 'X[0] <= 1009475.5\\ngini = 0.037\\nsamples = 953\\nvalue = [18, 935]'),\n Text(0.20437956204379562, 0.1346153846153846, 'X[0] <= 991488.0\\ngini = 0.487\\nsamples = 31\\nvalue = [18, 13]'),\n Text(0.19951338199513383, 0.09615384615384616, 'X[0] <= 144587.0\\ngini = 0.133\\nsamples = 14\\nvalue = [1, 13]'),\n Text(0.19464720194647203, 0.057692307692307696, 'gini = 0.0\\nsamples = 1\\nvalue = [1, 0]'),\n Text(0.20437956204379562, 0.057692307692307696, 'gini = 0.0\\nsamples = 13\\nvalue = [0, 13]'),\n Text(0.20924574209245742, 0.09615384615384616, 'gini = 0.0\\nsamples = 17\\nvalue = [17, 0]'),\n Text(0.2141119221411192, 0.1346153846153846, 'gini = 0.0\\nsamples = 922\\nvalue = [0, 922]'),\n Text(0.2141119221411192, 0.21153846153846154, 'gini = 0.0\\nsamples = 2\\nvalue = [2, 0]'),\n Text(0.24330900243309003, 0.25, 'X[5] <= 3985784045568.0\\ngini = 0.002\\nsamples = 6593\\nvalue = [5, 6588]'),\n Text(0.2384428223844282, 0.21153846153846154, 'X[5] <= 3976500084736.0\\ngini = 0.006\\nsamples = 1644\\nvalue = [5, 1639]'),\n Text(0.22871046228710462, 0.17307692307692307, 'X[0] <= 1119784.0\\ngini = 0.005\\nsamples = 1642\\nvalue = [4, 1638]'),\n Text(0.22384428223844283, 0.1346153846153846, 'X[0] <= 983356.5\\ngini = 0.03\\nsamples = 262\\nvalue = [4, 258]'),\n Text(0.21897810218978103, 0.09615384615384616, 'X[0] <= 83425.0\\ngini = 0.015\\nsamples = 260\\nvalue = [2, 258]'),\n Text(0.2141119221411192, 0.057692307692307696, 'gini = 0.0\\nsamples = 248\\nvalue = [0, 248]'),\n Text(0.22384428223844283, 0.057692307692307696, 'X[0] <= 116476.0\\ngini = 0.278\\nsamples = 12\\nvalue = [2, 10]'),\n Text(0.21897810218978103, 0.019230769230769232, 'gini = 0.0\\nsamples = 2\\nvalue = [2, 0]'),\n Text(0.22871046228710462, 0.019230769230769232, 'gini = 0.0\\nsamples = 10\\nvalue = [0, 10]'),\n Text(0.22871046228710462, 0.09615384615384616, 'gini = 0.0\\nsamples = 2\\nvalue = [2, 0]'),\n Text(0.23357664233576642, 0.1346153846153846, 'gini = 0.0\\nsamples = 1380\\nvalue = [0, 1380]'),\n Text(0.24817518248175183, 0.17307692307692307, 'X[6] <= 103088.5\\ngini = 0.5\\nsamples = 2\\nvalue = [1, 1]'),\n Text(0.24330900243309003, 0.1346153846153846, 'gini = 0.0\\nsamples = 1\\nvalue = [0, 1]'),\n Text(0.25304136253041365, 0.1346153846153846, 'gini = 0.0\\nsamples = 1\\nvalue = [1, 0]'),\n Text(0.24817518248175183, 0.21153846153846154, 'gini = 0.0\\nsamples = 4949\\nvalue = [0, 4949]'),\n Text(0.2749391727493917, 0.28846153846153844, 'X[5] <= 3610500005888.0\\ngini = 0.001\\nsamples = 48299\\nvalue = [13, 48286]'),\n Text(0.26277372262773724, 0.25, 'X[0] <= 10109507.0\\ngini = 0.006\\nsamples = 715\\nvalue = [2, 713]'),\n Text(0.25790754257907544, 0.21153846153846154, 'gini = 0.0\\nsamples = 2\\nvalue = [2, 0]'),\n Text(0.26763990267639903, 0.21153846153846154, 'gini = 0.0\\nsamples = 713\\nvalue = [0, 713]'),\n Text(0.2871046228710462, 0.25, 'X[22] <= 0.007\\ngini = 0.0\\nsamples = 47584\\nvalue = [11, 47573]'),\n Text(0.2773722627737226, 0.21153846153846154, 'X[0] <= 1020992.5\\ngini = 0.002\\nsamples = 9451\\nvalue = [8, 9443]'),\n Text(0.2725060827250608, 0.17307692307692307, 'X[0] <= 991372.5\\ngini = 0.019\\nsamples = 821\\nvalue = [8, 813]'),\n Text(0.26763990267639903, 0.1346153846153846, 'gini = 0.0\\nsamples = 813\\nvalue = [0, 813]'),\n Text(0.2773722627737226, 0.1346153846153846, 'gini = 0.0\\nsamples = 8\\nvalue = [8, 0]'),\n Text(0.2822384428223844, 0.17307692307692307, 'gini = 0.0\\nsamples = 8630\\nvalue = [0, 8630]'),\n Text(0.29683698296836986, 0.21153846153846154, 'X[73] <= 5.5\\ngini = 0.0\\nsamples = 38133\\nvalue = [3, 38130]'),\n Text(0.291970802919708, 0.17307692307692307, 'gini = 0.0\\nsamples = 33847\\nvalue = [0, 33847]'),\n Text(0.30170316301703165, 0.17307692307692307, 'X[68] <= 932.0\\ngini = 0.001\\nsamples = 4286\\nvalue = [3, 4283]'),\n Text(0.2871046228710462, 0.1346153846153846, 'X[1] <= 58522.5\\ngini = 0.014\\nsamples = 290\\nvalue = [2, 288]'),\n Text(0.2822384428223844, 0.09615384615384616, 'gini = 0.0\\nsamples = 279\\nvalue = [0, 279]'),\n Text(0.291970802919708, 0.09615384615384616, 'X[0] <= 10065394.0\\ngini = 0.298\\nsamples = 11\\nvalue = [2, 9]'),\n Text(0.2871046228710462, 0.057692307692307696, 'gini = 0.0\\nsamples = 2\\nvalue = [2, 0]'),\n Text(0.29683698296836986, 0.057692307692307696, 'gini = 0.0\\nsamples = 9\\nvalue = [0, 9]'),\n Text(0.31630170316301703, 0.1346153846153846, 'X[5] <= 3620500013056.0\\ngini = 0.001\\nsamples = 3996\\nvalue = [1, 3995]'),\n Text(0.31143552311435524, 0.09615384615384616, 'X[9] <= 1584.5\\ngini = 0.008\\nsamples = 245\\nvalue = [1, 244]'),\n Text(0.30656934306569344, 0.057692307692307696, 'X[26] <= 918082.688\\ngini = 0.071\\nsamples = 27\\nvalue = [1, 26]'),\n Text(0.30170316301703165, 0.019230769230769232, 'gini = 0.0\\nsamples = 1\\nvalue = [1, 0]'),\n Text(0.31143552311435524, 0.019230769230769232, 'gini = 0.0\\nsamples = 26\\nvalue = [0, 26]'),\n Text(0.31630170316301703, 0.057692307692307696, 'gini = 0.0\\nsamples = 218\\nvalue = [0, 218]'),\n Text(0.32116788321167883, 0.09615384615384616, 'gini = 0.0\\nsamples = 3751\\nvalue = [0, 3751]'),\n Text(0.18369829683698297, 0.40384615384615385, 'gini = 0.0\\nsamples = 24\\nvalue = [24, 0]'),\n Text(0.19343065693430658, 0.4807692307692308, 'X[22] <= 2066384.5\\ngini = 0.5\\nsamples = 2\\nvalue = [1, 1]'),\n Text(0.18856447688564476, 0.4423076923076923, 'gini = 0.0\\nsamples = 1\\nvalue = [0, 1]'),\n Text(0.19829683698296838, 0.4423076923076923, 'gini = 0.0\\nsamples = 1\\nvalue = [1, 0]'),\n Text(0.24087591240875914, 0.5961538461538461, 'X[5] <= 6.480243932906127e+17\\ngini = 0.083\\nsamples = 4906\\nvalue = [214, 4692]'),\n Text(0.2360097323600973, 0.5576923076923077, 'X[7] <= 55.0\\ngini = 0.008\\nsamples = 4710\\nvalue = [18, 4692]'),\n Text(0.23114355231143552, 0.5192307692307693, 'X[45] <= 64.754\\ngini = 0.006\\nsamples = 4705\\nvalue = [13, 4692]'),\n Text(0.22627737226277372, 0.4807692307692308, 'gini = 0.0\\nsamples = 1\\nvalue = [1, 0]'),\n Text(0.2360097323600973, 0.4807692307692308, 'X[2] <= 1013509.5\\ngini = 0.005\\nsamples = 4704\\nvalue = [12, 4692]'),\n Text(0.22141119221411193, 0.4423076923076923, 'X[0] <= 55120.0\\ngini = 0.178\\nsamples = 101\\nvalue = [10, 91]'),\n Text(0.21654501216545013, 0.40384615384615385, 'gini = 0.0\\nsamples = 69\\nvalue = [0, 69]'),\n Text(0.22627737226277372, 0.40384615384615385, 'X[12] <= 91.906\\ngini = 0.43\\nsamples = 32\\nvalue = [10, 22]'),\n Text(0.22141119221411193, 0.36538461538461536, 'gini = 0.0\\nsamples = 22\\nvalue = [0, 22]'),\n Text(0.23114355231143552, 0.36538461538461536, 'gini = 0.0\\nsamples = 10\\nvalue = [10, 0]'),\n Text(0.25060827250608275, 0.4423076923076923, 'X[62] <= 4.001\\ngini = 0.001\\nsamples = 4603\\nvalue = [2, 4601]'),\n Text(0.24574209245742093, 0.40384615384615385, 'X[5] <= 3612500033536.0\\ngini = 0.03\\nsamples = 131\\nvalue = [2, 129]'),\n Text(0.24087591240875914, 0.36538461538461536, 'gini = 0.0\\nsamples = 2\\nvalue = [2, 0]'),\n Text(0.25060827250608275, 0.36538461538461536, 'gini = 0.0\\nsamples = 129\\nvalue = [0, 129]'),\n Text(0.25547445255474455, 0.40384615384615385, 'gini = 0.0\\nsamples = 4472\\nvalue = [0, 4472]'),\n Text(0.24087591240875914, 0.5192307692307693, 'gini = 0.0\\nsamples = 5\\nvalue = [5, 0]'),\n Text(0.24574209245742093, 0.5576923076923077, 'gini = 0.0\\nsamples = 196\\nvalue = [196, 0]'),\n Text(0.2944038929440389, 0.6346153846153846, 'X[5] <= 7.190063824051896e+17\\ngini = 0.106\\nsamples = 3651\\nvalue = [204, 3447]'),\n Text(0.2895377128953771, 0.5961538461538461, 'X[78] <= 1748846.25\\ngini = 0.004\\nsamples = 3454\\nvalue = [7, 3447]'),\n Text(0.2798053527980535, 0.5576923076923077, 'X[2] <= 1167723.5\\ngini = 0.002\\nsamples = 3390\\nvalue = [3, 3387]'),\n Text(0.2749391727493917, 0.5192307692307693, 'X[21] <= 535909.969\\ngini = 0.024\\nsamples = 251\\nvalue = [3, 248]'),\n Text(0.26520681265206814, 0.4807692307692308, 'X[67] <= 54.5\\ngini = 0.444\\nsamples = 3\\nvalue = [1, 2]'),\n Text(0.26034063260340634, 0.4423076923076923, 'gini = 0.0\\nsamples = 2\\nvalue = [0, 2]'),\n Text(0.27007299270072993, 0.4423076923076923, 'gini = 0.0\\nsamples = 1\\nvalue = [1, 0]'),\n Text(0.2846715328467153, 0.4807692307692308, 'X[62] <= 5.49\\ngini = 0.016\\nsamples = 248\\nvalue = [2, 246]'),\n Text(0.2798053527980535, 0.4423076923076923, 'gini = 0.0\\nsamples = 221\\nvalue = [0, 221]'),\n Text(0.2895377128953771, 0.4423076923076923, 'X[47] <= 6.595\\ngini = 0.137\\nsamples = 27\\nvalue = [2, 25]'),\n Text(0.2846715328467153, 0.40384615384615385, 'gini = 0.0\\nsamples = 2\\nvalue = [2, 0]'),\n Text(0.2944038929440389, 0.40384615384615385, 'gini = 0.0\\nsamples = 25\\nvalue = [0, 25]'),\n Text(0.2846715328467153, 0.5192307692307693, 'gini = 0.0\\nsamples = 3139\\nvalue = [0, 3139]'),\n Text(0.29927007299270075, 0.5576923076923077, 'X[5] <= 3627499913216.0\\ngini = 0.117\\nsamples = 64\\nvalue = [4, 60]'),\n Text(0.2944038929440389, 0.5192307692307693, 'gini = 0.0\\nsamples = 4\\nvalue = [4, 0]'),\n Text(0.30413625304136255, 0.5192307692307693, 'gini = 0.0\\nsamples = 60\\nvalue = [0, 60]'),\n Text(0.29927007299270075, 0.5961538461538461, 'gini = 0.0\\nsamples = 197\\nvalue = [197, 0]'),\n Text(0.30900243309002434, 0.6730769230769231, 'X[5] <= 3670499917824.0\\ngini = 0.427\\nsamples = 139\\nvalue = [43, 96]'),\n Text(0.30413625304136255, 0.6346153846153846, 'gini = 0.0\\nsamples = 87\\nvalue = [0, 87]'),\n Text(0.31386861313868614, 0.6346153846153846, 'X[67] <= 1.5\\ngini = 0.286\\nsamples = 52\\nvalue = [43, 9]'),\n Text(0.30900243309002434, 0.5961538461538461, 'gini = 0.0\\nsamples = 9\\nvalue = [0, 9]'),\n Text(0.31873479318734793, 0.5961538461538461, 'gini = 0.0\\nsamples = 43\\nvalue = [43, 0]'),\n Text(0.34793187347931875, 0.7115384615384616, 'X[5] <= 6.809830983047578e+17\\ngini = 0.328\\nsamples = 512\\nvalue = [106, 406]'),\n Text(0.34306569343065696, 0.6730769230769231, 'X[75] <= 23739860.0\\ngini = 0.015\\nsamples = 409\\nvalue = [3, 406]'),\n Text(0.3333333333333333, 0.6346153846153846, 'X[25] <= 90325576.0\\ngini = 0.005\\nsamples = 405\\nvalue = [1, 404]'),\n Text(0.3284671532846715, 0.5961538461538461, 'X[20] <= 0.146\\ngini = 0.5\\nsamples = 2\\nvalue = [1, 1]'),\n Text(0.3236009732360097, 0.5576923076923077, 'gini = 0.0\\nsamples = 1\\nvalue = [0, 1]'),\n Text(0.3333333333333333, 0.5576923076923077, 'gini = 0.0\\nsamples = 1\\nvalue = [1, 0]'),\n Text(0.3381995133819951, 0.5961538461538461, 'gini = 0.0\\nsamples = 403\\nvalue = [0, 403]'),\n Text(0.35279805352798055, 0.6346153846153846, 'X[82] <= 13276086.5\\ngini = 0.5\\nsamples = 4\\nvalue = [2, 2]'),\n Text(0.34793187347931875, 0.5961538461538461, 'gini = 0.0\\nsamples = 2\\nvalue = [2, 0]'),\n Text(0.35766423357664234, 0.5961538461538461, 'gini = 0.0\\nsamples = 2\\nvalue = [0, 2]'),\n Text(0.35279805352798055, 0.6730769230769231, 'gini = 0.0\\nsamples = 103\\nvalue = [103, 0]'),\n Text(0.39902676399026765, 0.75, 'X[5] <= 4.981183944536883e+17\\ngini = 0.143\\nsamples = 7018\\nvalue = [544, 6474]'),\n Text(0.38686131386861317, 0.7115384615384616, 'X[4] <= 16.5\\ngini = 0.046\\nsamples = 6626\\nvalue = [156, 6470]'),\n Text(0.3771289537712895, 0.6730769230769231, 'X[1] <= 55649.5\\ngini = 0.03\\nsamples = 6559\\nvalue = [99, 6460]'),\n Text(0.3722627737226277, 0.6346153846153846, 'X[0] <= 92829.5\\ngini = 0.022\\nsamples = 6533\\nvalue = [73, 6460]'),\n Text(0.36739659367396593, 0.5961538461538461, 'gini = 0.0\\nsamples = 5666\\nvalue = [0, 5666]'),\n Text(0.3771289537712895, 0.5961538461538461, 'X[0] <= 1050371.5\\ngini = 0.154\\nsamples = 867\\nvalue = [73, 794]'),\n Text(0.3722627737226277, 0.5576923076923077, 'X[46] <= 0.019\\ngini = 0.387\\nsamples = 99\\nvalue = [73, 26]'),\n Text(0.36739659367396593, 0.5192307692307693, 'X[2] <= 20480284672.0\\ngini = 0.12\\nsamples = 78\\nvalue = [73, 5]'),\n Text(0.36253041362530414, 0.4807692307692308, 'gini = 0.0\\nsamples = 66\\nvalue = [66, 0]'),\n Text(0.3722627737226277, 0.4807692307692308, 'X[2] <= 21658212352.0\\ngini = 0.486\\nsamples = 12\\nvalue = [7, 5]'),\n Text(0.36739659367396593, 0.4423076923076923, 'X[0] <= 958441.5\\ngini = 0.278\\nsamples = 6\\nvalue = [1, 5]'),\n Text(0.36253041362530414, 0.40384615384615385, 'gini = 0.0\\nsamples = 5\\nvalue = [0, 5]'),\n Text(0.3722627737226277, 0.40384615384615385, 'gini = 0.0\\nsamples = 1\\nvalue = [1, 0]'),\n Text(0.3771289537712895, 0.4423076923076923, 'gini = 0.0\\nsamples = 6\\nvalue = [6, 0]'),\n Text(0.3771289537712895, 0.5192307692307693, 'gini = 0.0\\nsamples = 21\\nvalue = [0, 21]'),\n Text(0.3819951338199513, 0.5576923076923077, 'gini = 0.0\\nsamples = 768\\nvalue = [0, 768]'),\n Text(0.3819951338199513, 0.6346153846153846, 'gini = 0.0\\nsamples = 26\\nvalue = [26, 0]'),\n Text(0.39659367396593675, 0.6730769230769231, 'X[3] <= 290.0\\ngini = 0.254\\nsamples = 67\\nvalue = [57, 10]'),\n Text(0.39172749391727496, 0.6346153846153846, 'gini = 0.0\\nsamples = 10\\nvalue = [0, 10]'),\n Text(0.40145985401459855, 0.6346153846153846, 'gini = 0.0\\nsamples = 57\\nvalue = [57, 0]'),\n Text(0.41119221411192214, 0.7115384615384616, 'X[5] <= 1.4591359052593234e+18\\ngini = 0.02\\nsamples = 392\\nvalue = [388, 4]'),\n Text(0.40632603406326034, 0.6730769230769231, 'gini = 0.0\\nsamples = 388\\nvalue = [388, 0]'),\n Text(0.41605839416058393, 0.6730769230769231, 'gini = 0.0\\nsamples = 4\\nvalue = [0, 4]'),\n Text(0.44038929440389296, 0.7884615384615384, 'X[5] <= 7.18928343209345e+17\\ngini = 0.438\\nsamples = 410\\nvalue = [277, 133]'),\n Text(0.43552311435523117, 0.75, 'X[5] <= 3614499930112.0\\ngini = 0.015\\nsamples = 134\\nvalue = [1, 133]'),\n Text(0.4306569343065693, 0.7115384615384616, 'X[27] <= 6043409.625\\ngini = 0.32\\nsamples = 5\\nvalue = [1, 4]'),\n Text(0.4257907542579075, 0.6730769230769231, 'gini = 0.0\\nsamples = 4\\nvalue = [0, 4]'),\n Text(0.43552311435523117, 0.6730769230769231, 'gini = 0.0\\nsamples = 1\\nvalue = [1, 0]'),\n Text(0.44038929440389296, 0.7115384615384616, 'gini = 0.0\\nsamples = 129\\nvalue = [0, 129]'),\n Text(0.44525547445255476, 0.75, 'gini = 0.0\\nsamples = 276\\nvalue = [276, 0]'),\n Text(0.48418491484184917, 0.8269230769230769, 'X[5] <= 6322001805312.0\\ngini = 0.433\\nsamples = 1738\\nvalue = [1187, 551]'),\n Text(0.46472019464720193, 0.7884615384615384, 'X[0] <= 164633.5\\ngini = 0.266\\nsamples = 628\\nvalue = [99, 529]'),\n Text(0.45498783454987834, 0.75, 'X[0] <= 55120.0\\ngini = 0.393\\nsamples = 134\\nvalue = [98, 36]'),\n Text(0.45012165450121655, 0.7115384615384616, 'X[0] <= 10023.0\\ngini = 0.142\\nsamples = 39\\nvalue = [3, 36]'),\n Text(0.44525547445255476, 0.6730769230769231, 'gini = 0.0\\nsamples = 3\\nvalue = [3, 0]'),\n Text(0.45498783454987834, 0.6730769230769231, 'gini = 0.0\\nsamples = 36\\nvalue = [0, 36]'),\n Text(0.45985401459854014, 0.7115384615384616, 'gini = 0.0\\nsamples = 95\\nvalue = [95, 0]'),\n Text(0.4744525547445255, 0.75, 'X[12] <= 60.895\\ngini = 0.004\\nsamples = 494\\nvalue = [1, 493]'),\n Text(0.46958637469586373, 0.7115384615384616, 'gini = 0.0\\nsamples = 1\\nvalue = [1, 0]'),\n Text(0.4793187347931874, 0.7115384615384616, 'gini = 0.0\\nsamples = 493\\nvalue = [0, 493]'),\n Text(0.5036496350364964, 0.7884615384615384, 'X[0] <= 19216813.0\\ngini = 0.039\\nsamples = 1110\\nvalue = [1088, 22]'),\n Text(0.49391727493917276, 0.75, 'X[81] <= 3242178.125\\ngini = 0.002\\nsamples = 1085\\nvalue = [1084, 1]'),\n Text(0.48905109489051096, 0.7115384615384616, 'gini = 0.0\\nsamples = 1042\\nvalue = [1042, 0]'),\n Text(0.49878345498783455, 0.7115384615384616, 'X[81] <= 3301393.125\\ngini = 0.045\\nsamples = 43\\nvalue = [42, 1]'),\n Text(0.49391727493917276, 0.6730769230769231, 'gini = 0.0\\nsamples = 1\\nvalue = [0, 1]'),\n Text(0.5036496350364964, 0.6730769230769231, 'gini = 0.0\\nsamples = 42\\nvalue = [42, 0]'),\n Text(0.51338199513382, 0.75, 'X[24] <= 4862635.0\\ngini = 0.269\\nsamples = 25\\nvalue = [4, 21]'),\n Text(0.5085158150851582, 0.7115384615384616, 'gini = 0.0\\nsamples = 21\\nvalue = [0, 21]'),\n Text(0.5182481751824818, 0.7115384615384616, 'gini = 0.0\\nsamples = 4\\nvalue = [4, 0]'),\n Text(0.49878345498783455, 0.8653846153846154, 'X[5] <= 1.5115979343475507e+18\\ngini = 0.069\\nsamples = 4062\\nvalue = [3917, 145]'),\n Text(0.49391727493917276, 0.8269230769230769, 'gini = 0.0\\nsamples = 3917\\nvalue = [3917, 0]'),\n Text(0.5036496350364964, 0.8269230769230769, 'gini = 0.0\\nsamples = 145\\nvalue = [0, 145]'),\n Text(0.5523114355231143, 0.9038461538461539, 'X[5] <= 5.309177343204393e+17\\ngini = 0.088\\nsamples = 77943\\nvalue = [74339, 3604]'),\n Text(0.5425790754257908, 0.8653846153846154, 'X[71] <= 65225.5\\ngini = 0.023\\nsamples = 3636\\nvalue = [43, 3593]'),\n Text(0.537712895377129, 0.8269230769230769, 'X[48] <= 0.5\\ngini = 0.01\\nsamples = 3612\\nvalue = [19, 3593]'),\n Text(0.5279805352798054, 0.7884615384615384, 'X[1] <= 60.5\\ngini = 0.001\\nsamples = 3594\\nvalue = [2, 3592]'),\n Text(0.5231143552311436, 0.75, 'gini = 0.0\\nsamples = 1\\nvalue = [1, 0]'),\n Text(0.5328467153284672, 0.75, 'X[39] <= 8.5\\ngini = 0.001\\nsamples = 3593\\nvalue = [1, 3592]'),\n Text(0.5279805352798054, 0.7115384615384616, 'X[3] <= 35245.0\\ngini = 0.036\\nsamples = 55\\nvalue = [1, 54]'),\n Text(0.5231143552311436, 0.6730769230769231, 'gini = 0.0\\nsamples = 54\\nvalue = [0, 54]'),\n Text(0.5328467153284672, 0.6730769230769231, 'gini = 0.0\\nsamples = 1\\nvalue = [1, 0]'),\n Text(0.537712895377129, 0.7115384615384616, 'gini = 0.0\\nsamples = 3538\\nvalue = [0, 3538]'),\n Text(0.5474452554744526, 0.7884615384615384, 'X[9] <= 166.0\\ngini = 0.105\\nsamples = 18\\nvalue = [17, 1]'),\n Text(0.5425790754257908, 0.75, 'gini = 0.0\\nsamples = 17\\nvalue = [17, 0]'),\n Text(0.5523114355231143, 0.75, 'gini = 0.0\\nsamples = 1\\nvalue = [0, 1]'),\n Text(0.5474452554744526, 0.8269230769230769, 'gini = 0.0\\nsamples = 24\\nvalue = [24, 0]'),\n Text(0.5620437956204379, 0.8653846153846154, 'X[70] <= 11.0\\ngini = 0.0\\nsamples = 74307\\nvalue = [74296, 11]'),\n Text(0.5571776155717761, 0.8269230769230769, 'gini = 0.0\\nsamples = 74296\\nvalue = [74296, 0]'),\n Text(0.5669099756690997, 0.8269230769230769, 'gini = 0.0\\nsamples = 11\\nvalue = [0, 11]'),\n Text(0.7211236884124088, 0.9423076923076923, 'X[0] <= 99652.0\\ngini = 0.103\\nsamples = 1092678\\nvalue = [1033240, 59438]'),\n Text(0.6567157086374696, 0.9038461538461539, 'X[5] <= 7.49717567639126e+17\\ngini = 0.0\\nsamples = 30682\\nvalue = [1, 30681]'),\n Text(0.6518495285888077, 0.8653846153846154, 'gini = 0.0\\nsamples = 30681\\nvalue = [0, 30681]'),\n Text(0.6615818886861314, 0.8653846153846154, 'gini = 0.0\\nsamples = 1\\nvalue = [1, 0]'),\n Text(0.785531668187348, 0.9038461538461539, 'X[68] <= 155006.0\\ngini = 0.053\\nsamples = 1061996\\nvalue = [1033239, 28757]'),\n Text(0.671314248783455, 0.8653846153846154, 'X[5] <= 3731983433728.0\\ngini = 0.033\\nsamples = 1050156\\nvalue = [1032366, 17790]'),\n Text(0.5815085158150851, 0.8269230769230769, 'X[0] <= 1008030.0\\ngini = 0.328\\nsamples = 8088\\nvalue = [1671, 6417]'),\n Text(0.5669099756690997, 0.7884615384615384, 'X[16] <= 52.969\\ngini = 0.063\\nsamples = 1691\\nvalue = [1636, 55]'),\n Text(0.5620437956204379, 0.75, 'gini = 0.0\\nsamples = 24\\nvalue = [0, 24]'),\n Text(0.5717761557177615, 0.75, 'X[15] <= 1476.36\\ngini = 0.037\\nsamples = 1667\\nvalue = [1636, 31]'),\n Text(0.5669099756690997, 0.7115384615384616, 'X[5] <= 3632906633216.0\\ngini = 0.028\\nsamples = 1660\\nvalue = [1636, 24]'),\n Text(0.5571776155717761, 0.6730769230769231, 'X[0] <= 980443.5\\ngini = 0.327\\nsamples = 73\\nvalue = [58, 15]'),\n Text(0.5523114355231143, 0.6346153846153846, 'X[0] <= 101681.5\\ngini = 0.49\\nsamples = 35\\nvalue = [20, 15]'),\n Text(0.5474452554744526, 0.5961538461538461, 'gini = 0.0\\nsamples = 20\\nvalue = [20, 0]'),\n Text(0.5571776155717761, 0.5961538461538461, 'gini = 0.0\\nsamples = 15\\nvalue = [0, 15]'),\n Text(0.5620437956204379, 0.6346153846153846, 'gini = 0.0\\nsamples = 38\\nvalue = [38, 0]'),\n Text(0.5766423357664233, 0.6730769230769231, 'X[5] <= 3731005505536.0\\ngini = 0.011\\nsamples = 1587\\nvalue = [1578, 9]'),\n Text(0.5717761557177615, 0.6346153846153846, 'X[2] <= 39373146.0\\ngini = 0.01\\nsamples = 1586\\nvalue = [1578, 8]'),\n Text(0.5669099756690997, 0.5961538461538461, 'X[24] <= 5360.175\\ngini = 0.057\\nsamples = 271\\nvalue = [263, 8]'),\n Text(0.5620437956204379, 0.5576923076923077, 'X[16] <= 348.781\\ngini = 0.044\\nsamples = 269\\nvalue = [263, 6]'),\n Text(0.5571776155717761, 0.5192307692307693, 'X[2] <= 9429.5\\ngini = 0.03\\nsamples = 267\\nvalue = [263, 4]'),\n Text(0.5523114355231143, 0.4807692307692308, 'gini = 0.0\\nsamples = 239\\nvalue = [239, 0]'),\n Text(0.5620437956204379, 0.4807692307692308, 'X[43] <= 64.5\\ngini = 0.245\\nsamples = 28\\nvalue = [24, 4]'),\n Text(0.5571776155717761, 0.4423076923076923, 'gini = 0.0\\nsamples = 24\\nvalue = [24, 0]'),\n Text(0.5669099756690997, 0.4423076923076923, 'gini = 0.0\\nsamples = 4\\nvalue = [0, 4]'),\n Text(0.5669099756690997, 0.5192307692307693, 'gini = 0.0\\nsamples = 2\\nvalue = [0, 2]'),\n Text(0.5717761557177615, 0.5576923076923077, 'gini = 0.0\\nsamples = 2\\nvalue = [0, 2]'),\n Text(0.5766423357664233, 0.5961538461538461, 'gini = 0.0\\nsamples = 1315\\nvalue = [1315, 0]'),\n Text(0.5815085158150851, 0.6346153846153846, 'gini = 0.0\\nsamples = 1\\nvalue = [0, 1]'),\n Text(0.5766423357664233, 0.7115384615384616, 'gini = 0.0\\nsamples = 7\\nvalue = [0, 7]'),\n Text(0.5961070559610706, 0.7884615384615384, 'X[0] <= 1573012160.0\\ngini = 0.011\\nsamples = 6397\\nvalue = [35, 6362]'),\n Text(0.5912408759124088, 0.75, 'X[57] <= 55.348\\ngini = 0.002\\nsamples = 6367\\nvalue = [5, 6362]'),\n Text(0.5863746958637469, 0.7115384615384616, 'gini = 0.0\\nsamples = 5\\nvalue = [5, 0]'),\n Text(0.5961070559610706, 0.7115384615384616, 'gini = 0.0\\nsamples = 6362\\nvalue = [0, 6362]'),\n Text(0.6009732360097324, 0.75, 'gini = 0.0\\nsamples = 30\\nvalue = [30, 0]'),\n Text(0.7611199817518248, 0.8269230769230769, 'X[5] <= 5447929561088.0\\ngini = 0.022\\nsamples = 1042068\\nvalue = [1030695, 11373]'),\n Text(0.6516879562043796, 0.7884615384615384, 'X[0] <= 1003536.0\\ngini = 0.236\\nsamples = 50803\\nvalue = [43864, 6939]'),\n Text(0.6357968369829684, 0.75, 'X[16] <= 53.848\\ngini = 0.006\\nsamples = 40447\\nvalue = [40318, 129]'),\n Text(0.6186131386861314, 0.7115384615384616, 'X[43] <= 53.5\\ngini = 0.171\\nsamples = 74\\nvalue = [7, 67]'),\n Text(0.6137469586374696, 0.6730769230769231, 'gini = 0.0\\nsamples = 7\\nvalue = [7, 0]'),\n Text(0.6234793187347932, 0.6730769230769231, 'gini = 0.0\\nsamples = 67\\nvalue = [0, 67]'),\n Text(0.6529805352798054, 0.7115384615384616, 'X[15] <= 1474.807\\ngini = 0.003\\nsamples = 40373\\nvalue = [40311, 62]'),\n Text(0.6332116788321168, 0.6730769230769231, 'X[56] <= 0.747\\ngini = 0.003\\nsamples = 40361\\nvalue = [40308, 53]'),\n Text(0.6082725060827251, 0.6346153846153846, 'X[15] <= 655.83\\ngini = 0.059\\nsamples = 1155\\nvalue = [1120, 35]'),\n Text(0.5912408759124088, 0.5961538461538461, 'X[2] <= 1254740.5\\ngini = 0.018\\nsamples = 1115\\nvalue = [1105, 10]'),\n Text(0.5815085158150851, 0.5576923076923077, 'X[4] <= 11.5\\ngini = 0.32\\nsamples = 5\\nvalue = [1, 4]'),\n Text(0.5766423357664233, 0.5192307692307693, 'gini = 0.0\\nsamples = 4\\nvalue = [0, 4]'),\n Text(0.5863746958637469, 0.5192307692307693, 'gini = 0.0\\nsamples = 1\\nvalue = [1, 0]'),\n Text(0.6009732360097324, 0.5576923076923077, 'X[19] <= 841.27\\ngini = 0.011\\nsamples = 1110\\nvalue = [1104, 6]'),\n Text(0.5961070559610706, 0.5192307692307693, 'gini = 0.0\\nsamples = 1084\\nvalue = [1084, 0]'),\n Text(0.6058394160583942, 0.5192307692307693, 'X[72] <= 49082.5\\ngini = 0.355\\nsamples = 26\\nvalue = [20, 6]'),\n Text(0.6009732360097324, 0.4807692307692308, 'X[70] <= 123.0\\ngini = 0.245\\nsamples = 7\\nvalue = [1, 6]'),\n Text(0.5961070559610706, 0.4423076923076923, 'gini = 0.0\\nsamples = 1\\nvalue = [1, 0]'),\n Text(0.6058394160583942, 0.4423076923076923, 'gini = 0.0\\nsamples = 6\\nvalue = [0, 6]'),\n Text(0.610705596107056, 0.4807692307692308, 'gini = 0.0\\nsamples = 19\\nvalue = [19, 0]'),\n Text(0.6253041362530414, 0.5961538461538461, 'X[72] <= 49151.5\\ngini = 0.469\\nsamples = 40\\nvalue = [15, 25]'),\n Text(0.6204379562043796, 0.5576923076923077, 'X[11] <= 1191.844\\ngini = 0.074\\nsamples = 26\\nvalue = [1, 25]'),\n Text(0.6155717761557178, 0.5192307692307693, 'gini = 0.0\\nsamples = 25\\nvalue = [0, 25]'),\n Text(0.6253041362530414, 0.5192307692307693, 'gini = 0.0\\nsamples = 1\\nvalue = [1, 0]'),\n Text(0.6301703163017032, 0.5576923076923077, 'gini = 0.0\\nsamples = 14\\nvalue = [14, 0]'),\n Text(0.6581508515815085, 0.6346153846153846, 'X[47] <= 495861.031\\ngini = 0.001\\nsamples = 39206\\nvalue = [39188, 18]'),\n Text(0.6532846715328468, 0.5961538461538461, 'X[1] <= 19131.0\\ngini = 0.001\\nsamples = 39205\\nvalue = [39188, 17]'),\n Text(0.6399026763990268, 0.5576923076923077, 'X[29] <= 7893.881\\ngini = 0.42\\nsamples = 10\\nvalue = [7, 3]'),\n Text(0.635036496350365, 0.5192307692307693, 'gini = 0.0\\nsamples = 3\\nvalue = [0, 3]'),\n Text(0.6447688564476886, 0.5192307692307693, 'gini = 0.0\\nsamples = 7\\nvalue = [7, 0]'),\n Text(0.6666666666666666, 0.5576923076923077, 'X[2] <= 18458473.0\\ngini = 0.001\\nsamples = 39195\\nvalue = [39181, 14]'),\n Text(0.6545012165450121, 0.5192307692307693, 'X[24] <= 24492.02\\ngini = 0.019\\nsamples = 1166\\nvalue = [1155, 11]'),\n Text(0.6496350364963503, 0.4807692307692308, 'X[2] <= 18019551.0\\ngini = 0.017\\nsamples = 1165\\nvalue = [1155, 10]'),\n Text(0.6447688564476886, 0.4423076923076923, 'X[5] <= 5433981140992.0\\ngini = 0.015\\nsamples = 1164\\nvalue = [1155, 9]'),\n Text(0.6303223844282239, 0.40384615384615385, 'X[16] <= 342.058\\ngini = 0.014\\nsamples = 1161\\nvalue = [1153, 8]'),\n Text(0.6160279805352799, 0.36538461538461536, 'X[56] <= 0.82\\ngini = 0.012\\nsamples = 1157\\nvalue = [1150, 7]'),\n Text(0.6020377128953771, 0.3269230769230769, 'X[71] <= 8123.5\\ngini = 0.124\\nsamples = 45\\nvalue = [42, 3]'),\n Text(0.5971715328467153, 0.28846153846153844, 'gini = 0.0\\nsamples = 3\\nvalue = [0, 3]'),\n Text(0.6069038929440389, 0.28846153846153844, 'gini = 0.0\\nsamples = 42\\nvalue = [42, 0]'),\n Text(0.6300182481751825, 0.3269230769230769, 'X[73] <= 0.5\\ngini = 0.007\\nsamples = 1112\\nvalue = [1108, 4]'),\n Text(0.6166362530413625, 0.28846153846153844, 'X[17] <= 54.577\\ngini = 0.5\\nsamples = 2\\nvalue = [1, 1]'),\n Text(0.6117700729927007, 0.25, 'gini = 0.0\\nsamples = 1\\nvalue = [1, 0]'),\n Text(0.6215024330900243, 0.25, 'gini = 0.0\\nsamples = 1\\nvalue = [0, 1]'),\n Text(0.6434002433090025, 0.28846153846153844, 'X[63] <= 4153.856\\ngini = 0.005\\nsamples = 1110\\nvalue = [1107, 3]'),\n Text(0.631234793187348, 0.25, 'X[56] <= 0.997\\ngini = 0.004\\nsamples = 1095\\nvalue = [1093, 2]'),\n Text(0.6215024330900243, 0.21153846153846154, 'X[9] <= 272.0\\ngini = 0.046\\nsamples = 42\\nvalue = [41, 1]'),\n Text(0.6166362530413625, 0.17307692307692307, 'gini = 0.0\\nsamples = 1\\nvalue = [0, 1]'),\n Text(0.6263686131386861, 0.17307692307692307, 'gini = 0.0\\nsamples = 41\\nvalue = [41, 0]'),\n Text(0.6409671532846716, 0.21153846153846154, 'X[70] <= 95.5\\ngini = 0.002\\nsamples = 1053\\nvalue = [1052, 1]'),\n Text(0.6361009732360098, 0.17307692307692307, 'X[16] <= 95.04\\ngini = 0.022\\nsamples = 91\\nvalue = [90, 1]'),\n Text(0.631234793187348, 0.1346153846153846, 'gini = 0.0\\nsamples = 90\\nvalue = [90, 0]'),\n Text(0.6409671532846716, 0.1346153846153846, 'gini = 0.0\\nsamples = 1\\nvalue = [0, 1]'),\n Text(0.6458333333333334, 0.17307692307692307, 'gini = 0.0\\nsamples = 962\\nvalue = [962, 0]'),\n Text(0.655565693430657, 0.25, 'X[71] <= 4148.5\\ngini = 0.124\\nsamples = 15\\nvalue = [14, 1]'),\n Text(0.6506995133819952, 0.21153846153846154, 'gini = 0.0\\nsamples = 1\\nvalue = [0, 1]'),\n Text(0.6604318734793188, 0.21153846153846154, 'gini = 0.0\\nsamples = 14\\nvalue = [14, 0]'),\n Text(0.6446167883211679, 0.36538461538461536, 'X[29] <= 5.563\\ngini = 0.375\\nsamples = 4\\nvalue = [3, 1]'),\n Text(0.6397506082725061, 0.3269230769230769, 'gini = 0.0\\nsamples = 3\\nvalue = [3, 0]'),\n Text(0.6494829683698297, 0.3269230769230769, 'gini = 0.0\\nsamples = 1\\nvalue = [0, 1]'),\n Text(0.6592153284671532, 0.40384615384615385, 'X[13] <= 78.332\\ngini = 0.444\\nsamples = 3\\nvalue = [2, 1]'),\n Text(0.6543491484184915, 0.36538461538461536, 'gini = 0.0\\nsamples = 2\\nvalue = [2, 0]'),\n Text(0.664081508515815, 0.36538461538461536, 'gini = 0.0\\nsamples = 1\\nvalue = [0, 1]'),\n Text(0.6545012165450121, 0.4423076923076923, 'gini = 0.0\\nsamples = 1\\nvalue = [0, 1]'),\n Text(0.6593673965936739, 0.4807692307692308, 'gini = 0.0\\nsamples = 1\\nvalue = [0, 1]'),\n Text(0.6788321167883211, 0.5192307692307693, 'X[61] <= 688.116\\ngini = 0.0\\nsamples = 38029\\nvalue = [38026, 3]'),\n Text(0.6690997566909975, 0.4807692307692308, 'X[0] <= 250968.0\\ngini = 0.0\\nsamples = 37818\\nvalue = [37816, 2]'),\n Text(0.6642335766423357, 0.4423076923076923, 'gini = 0.0\\nsamples = 35493\\nvalue = [35493, 0]'),\n Text(0.6739659367396593, 0.4423076923076923, 'X[1] <= 51090.5\\ngini = 0.002\\nsamples = 2325\\nvalue = [2323, 2]'),\n Text(0.6690997566909975, 0.40384615384615385, 'gini = 0.0\\nsamples = 2323\\nvalue = [2323, 0]'),\n Text(0.6788321167883211, 0.40384615384615385, 'gini = 0.0\\nsamples = 2\\nvalue = [0, 2]'),\n Text(0.6885644768856448, 0.4807692307692308, 'X[44] <= 440.0\\ngini = 0.009\\nsamples = 211\\nvalue = [210, 1]'),\n Text(0.683698296836983, 0.4423076923076923, 'gini = 0.0\\nsamples = 1\\nvalue = [0, 1]'),\n Text(0.6934306569343066, 0.4423076923076923, 'gini = 0.0\\nsamples = 210\\nvalue = [210, 0]'),\n Text(0.6630170316301703, 0.5961538461538461, 'gini = 0.0\\nsamples = 1\\nvalue = [0, 1]'),\n Text(0.6727493917274939, 0.6730769230769231, 'X[1] <= 49434.5\\ngini = 0.375\\nsamples = 12\\nvalue = [3, 9]'),\n Text(0.6678832116788321, 0.6346153846153846, 'gini = 0.0\\nsamples = 9\\nvalue = [0, 9]'),\n Text(0.6776155717761557, 0.6346153846153846, 'gini = 0.0\\nsamples = 3\\nvalue = [3, 0]'),\n Text(0.6675790754257908, 0.75, 'X[71] <= 64887.5\\ngini = 0.45\\nsamples = 10356\\nvalue = [3546, 6810]'),\n Text(0.662712895377129, 0.7115384615384616, 'gini = 0.0\\nsamples = 6810\\nvalue = [0, 6810]'),\n Text(0.6724452554744526, 0.7115384615384616, 'gini = 0.0\\nsamples = 3546\\nvalue = [3546, 0]'),\n Text(0.8705520072992701, 0.7884615384615384, 'X[5] <= 1.4996627356280422e+18\\ngini = 0.009\\nsamples = 991265\\nvalue = [986831, 4434]'),\n Text(0.8656858272506083, 0.75, 'X[72] <= 35139.5\\ngini = 0.007\\nsamples = 990553\\nvalue = [986831, 3722]'),\n Text(0.7800334549878345, 0.7115384615384616, 'X[5] <= 66627320152064.0\\ngini = 0.003\\nsamples = 961832\\nvalue = [960181, 1651]'),\n Text(0.7433090024330901, 0.6730769230769231, 'X[72] <= 0.5\\ngini = 0.111\\nsamples = 18054\\nvalue = [16992, 1062]'),\n Text(0.7384428223844283, 0.6346153846153846, 'X[43] <= 140.0\\ngini = 0.01\\nsamples = 17076\\nvalue = [16992, 84]'),\n Text(0.7250608272506083, 0.5961538461538461, 'X[0] <= 1233297.0\\ngini = 0.006\\nsamples = 17040\\nvalue = [16991, 49]'),\n Text(0.7128953771289538, 0.5576923076923077, 'X[68] <= 29554.0\\ngini = 0.0\\nsamples = 16793\\nvalue = [16791, 2]'),\n Text(0.7031630170316302, 0.5192307692307693, 'X[0] <= 421926.0\\ngini = 0.0\\nsamples = 16790\\nvalue = [16789, 1]'),\n Text(0.6982968369829684, 0.4807692307692308, 'gini = 0.0\\nsamples = 16345\\nvalue = [16345, 0]'),\n Text(0.708029197080292, 0.4807692307692308, 'X[0] <= 872918.5\\ngini = 0.004\\nsamples = 445\\nvalue = [444, 1]'),\n Text(0.7031630170316302, 0.4423076923076923, 'gini = 0.0\\nsamples = 1\\nvalue = [0, 1]'),\n Text(0.7128953771289538, 0.4423076923076923, 'gini = 0.0\\nsamples = 444\\nvalue = [444, 0]'),\n Text(0.7226277372262774, 0.5192307692307693, 'X[68] <= 31586.5\\ngini = 0.444\\nsamples = 3\\nvalue = [2, 1]'),\n Text(0.7177615571776156, 0.4807692307692308, 'gini = 0.0\\nsamples = 1\\nvalue = [0, 1]'),\n Text(0.7274939172749392, 0.4807692307692308, 'gini = 0.0\\nsamples = 2\\nvalue = [2, 0]'),\n Text(0.7372262773722628, 0.5576923076923077, 'X[12] <= 67.341\\ngini = 0.308\\nsamples = 247\\nvalue = [200, 47]'),\n Text(0.732360097323601, 0.5192307692307693, 'gini = 0.0\\nsamples = 200\\nvalue = [200, 0]'),\n Text(0.7420924574209246, 0.5192307692307693, 'gini = 0.0\\nsamples = 47\\nvalue = [0, 47]'),\n Text(0.7518248175182481, 0.5961538461538461, 'X[6] <= 73015.5\\ngini = 0.054\\nsamples = 36\\nvalue = [1, 35]'),\n Text(0.7469586374695864, 0.5576923076923077, 'gini = 0.0\\nsamples = 1\\nvalue = [1, 0]'),\n Text(0.7566909975669099, 0.5576923076923077, 'gini = 0.0\\nsamples = 35\\nvalue = [0, 35]'),\n Text(0.7481751824817519, 0.6346153846153846, 'gini = 0.0\\nsamples = 978\\nvalue = [0, 978]'),\n Text(0.816757907542579, 0.6730769230769231, 'X[0] <= 11537628.5\\ngini = 0.001\\nsamples = 943778\\nvalue = [943189, 589]'),\n Text(0.7861922141119222, 0.6346153846153846, 'X[16] <= 38.856\\ngini = 0.033\\nsamples = 29384\\nvalue = [28890, 494]'),\n Text(0.7712895377128953, 0.5961538461538461, 'X[43] <= 30.0\\ngini = 0.276\\nsamples = 459\\nvalue = [76, 383]'),\n Text(0.7664233576642335, 0.5576923076923077, 'gini = 0.0\\nsamples = 76\\nvalue = [76, 0]'),\n Text(0.7761557177615572, 0.5576923076923077, 'gini = 0.0\\nsamples = 383\\nvalue = [0, 383]'),\n Text(0.801094890510949, 0.5961538461538461, 'X[0] <= 10555418.0\\ngini = 0.008\\nsamples = 28925\\nvalue = [28814, 111]'),\n Text(0.7858880778588808, 0.5576923076923077, 'X[0] <= 3167029.0\\ngini = 0.002\\nsamples = 28846\\nvalue = [28813, 33]'),\n Text(0.7700729927007299, 0.5192307692307693, 'X[68] <= 68.5\\ngini = 0.001\\nsamples = 28376\\nvalue = [28367, 9]'),\n Text(0.7530413625304136, 0.4807692307692308, 'X[13] <= 66.5\\ngini = 0.009\\nsamples = 893\\nvalue = [889, 4]'),\n Text(0.7481751824817519, 0.4423076923076923, 'gini = 0.0\\nsamples = 886\\nvalue = [886, 0]'),\n Text(0.7579075425790754, 0.4423076923076923, 'X[1] <= 52193.5\\ngini = 0.49\\nsamples = 7\\nvalue = [3, 4]'),\n Text(0.7530413625304136, 0.40384615384615385, 'gini = 0.0\\nsamples = 4\\nvalue = [0, 4]'),\n Text(0.7627737226277372, 0.40384615384615385, 'gini = 0.0\\nsamples = 3\\nvalue = [3, 0]'),\n Text(0.7871046228710462, 0.4807692307692308, 'X[72] <= 3253.0\\ngini = 0.0\\nsamples = 27483\\nvalue = [27478, 5]'),\n Text(0.7773722627737226, 0.4423076923076923, 'X[10] <= 110.5\\ngini = 0.0\\nsamples = 25666\\nvalue = [25665, 1]'),\n Text(0.7725060827250608, 0.40384615384615385, 'X[15] <= 109.5\\ngini = 0.001\\nsamples = 2638\\nvalue = [2637, 1]'),\n Text(0.767639902676399, 0.36538461538461536, 'gini = 0.0\\nsamples = 2629\\nvalue = [2629, 0]'),\n Text(0.7773722627737226, 0.36538461538461536, 'X[42] <= 2.438\\ngini = 0.198\\nsamples = 9\\nvalue = [8, 1]'),\n Text(0.7725060827250608, 0.3269230769230769, 'gini = 0.0\\nsamples = 1\\nvalue = [0, 1]'),\n Text(0.7822384428223844, 0.3269230769230769, 'gini = 0.0\\nsamples = 8\\nvalue = [8, 0]'),\n Text(0.7822384428223844, 0.40384615384615385, 'gini = 0.0\\nsamples = 23028\\nvalue = [23028, 0]'),\n Text(0.7968369829683698, 0.4423076923076923, 'X[4] <= 9.0\\ngini = 0.004\\nsamples = 1817\\nvalue = [1813, 4]'),\n Text(0.791970802919708, 0.40384615384615385, 'gini = 0.0\\nsamples = 1813\\nvalue = [1813, 0]'),\n Text(0.8017031630170316, 0.40384615384615385, 'gini = 0.0\\nsamples = 4\\nvalue = [0, 4]'),\n Text(0.8017031630170316, 0.5192307692307693, 'X[74] <= 17.0\\ngini = 0.097\\nsamples = 470\\nvalue = [446, 24]'),\n Text(0.7968369829683698, 0.4807692307692308, 'gini = 0.0\\nsamples = 24\\nvalue = [0, 24]'),\n Text(0.8065693430656934, 0.4807692307692308, 'gini = 0.0\\nsamples = 446\\nvalue = [446, 0]'),\n Text(0.816301703163017, 0.5576923076923077, 'X[59] <= 76.5\\ngini = 0.025\\nsamples = 79\\nvalue = [1, 78]'),\n Text(0.8114355231143552, 0.5192307692307693, 'gini = 0.0\\nsamples = 1\\nvalue = [1, 0]'),\n Text(0.8211678832116789, 0.5192307692307693, 'gini = 0.0\\nsamples = 78\\nvalue = [0, 78]'),\n Text(0.847323600973236, 0.6346153846153846, 'X[41] <= 0.034\\ngini = 0.0\\nsamples = 914394\\nvalue = [914299, 95]'),\n Text(0.8309002433090025, 0.5961538461538461, 'X[0] <= 139689092.0\\ngini = 0.245\\nsamples = 35\\nvalue = [30, 5]'),\n Text(0.8260340632603407, 0.5576923076923077, 'gini = 0.0\\nsamples = 5\\nvalue = [0, 5]'),\n Text(0.8357664233576643, 0.5576923076923077, 'gini = 0.0\\nsamples = 30\\nvalue = [30, 0]'),\n Text(0.8637469586374696, 0.5961538461538461, 'X[0] <= 102330612.0\\ngini = 0.0\\nsamples = 914359\\nvalue = [914269, 90]'),\n Text(0.8454987834549879, 0.5576923076923077, 'X[0] <= 98814476.0\\ngini = 0.003\\nsamples = 56083\\nvalue = [55996, 87]'),\n Text(0.8406326034063261, 0.5192307692307693, 'X[2] <= 19323714560.0\\ngini = 0.0\\nsamples = 56003\\nvalue = [55996, 7]'),\n Text(0.8284671532846716, 0.4807692307692308, 'X[20] <= 0.193\\ngini = 0.0\\nsamples = 55991\\nvalue = [55988, 3]'),\n Text(0.818734793187348, 0.4423076923076923, 'X[2] <= 1966005568.0\\ngini = 0.375\\nsamples = 8\\nvalue = [6, 2]'),\n Text(0.8138686131386861, 0.40384615384615385, 'gini = 0.0\\nsamples = 6\\nvalue = [6, 0]'),\n Text(0.8236009732360098, 0.40384615384615385, 'gini = 0.0\\nsamples = 2\\nvalue = [0, 2]'),\n Text(0.8381995133819952, 0.4423076923076923, 'X[72] <= 34749.5\\ngini = 0.0\\nsamples = 55983\\nvalue = [55982, 1]'),\n Text(0.8333333333333334, 0.40384615384615385, 'gini = 0.0\\nsamples = 55967\\nvalue = [55967, 0]'),\n Text(0.843065693430657, 0.40384615384615385, 'X[16] <= 46.328\\ngini = 0.117\\nsamples = 16\\nvalue = [15, 1]'),\n Text(0.8381995133819952, 0.36538461538461536, 'gini = 0.0\\nsamples = 1\\nvalue = [0, 1]'),\n Text(0.8479318734793188, 0.36538461538461536, 'gini = 0.0\\nsamples = 15\\nvalue = [15, 0]'),\n Text(0.8527980535279805, 0.4807692307692308, 'X[34] <= 0.146\\ngini = 0.444\\nsamples = 12\\nvalue = [8, 4]'),\n Text(0.8479318734793188, 0.4423076923076923, 'gini = 0.0\\nsamples = 8\\nvalue = [8, 0]'),\n Text(0.8576642335766423, 0.4423076923076923, 'gini = 0.0\\nsamples = 4\\nvalue = [0, 4]'),\n Text(0.8503649635036497, 0.5192307692307693, 'gini = 0.0\\nsamples = 80\\nvalue = [0, 80]'),\n Text(0.8819951338199513, 0.5576923076923077, 'X[2] <= 4786768.5\\ngini = 0.0\\nsamples = 858276\\nvalue = [858273, 3]'),\n Text(0.8771289537712895, 0.5192307692307693, 'X[2] <= 4716308.0\\ngini = 0.001\\nsamples = 7245\\nvalue = [7242, 3]'),\n Text(0.8722627737226277, 0.4807692307692308, 'X[72] <= 10654.5\\ngini = 0.001\\nsamples = 7244\\nvalue = [7242, 2]'),\n Text(0.8673965936739659, 0.4423076923076923, 'gini = 0.0\\nsamples = 7139\\nvalue = [7139, 0]'),\n Text(0.8771289537712895, 0.4423076923076923, 'X[60] <= 19.5\\ngini = 0.037\\nsamples = 105\\nvalue = [103, 2]'),\n Text(0.8722627737226277, 0.40384615384615385, 'gini = 0.0\\nsamples = 2\\nvalue = [0, 2]'),\n Text(0.8819951338199513, 0.40384615384615385, 'gini = 0.0\\nsamples = 103\\nvalue = [103, 0]'),\n Text(0.8819951338199513, 0.4807692307692308, 'gini = 0.0\\nsamples = 1\\nvalue = [0, 1]'),\n Text(0.8868613138686131, 0.5192307692307693, 'gini = 0.0\\nsamples = 851031\\nvalue = [851031, 0]'),\n Text(0.9513381995133819, 0.7115384615384616, 'X[74] <= 19.5\\ngini = 0.134\\nsamples = 28721\\nvalue = [26650, 2071]'),\n Text(0.9464720194647201, 0.6730769230769231, 'gini = 0.0\\nsamples = 548\\nvalue = [0, 548]'),\n Text(0.9562043795620438, 0.6730769230769231, 'X[66] <= 4577297.25\\ngini = 0.102\\nsamples = 28173\\nvalue = [26650, 1523]'),\n Text(0.9318734793187348, 0.6346153846153846, 'X[5] <= 1.449853690658685e+18\\ngini = 0.065\\nsamples = 27337\\nvalue = [26417, 920]'),\n Text(0.9221411192214112, 0.5961538461538461, 'X[22] <= 32286985.0\\ngini = 0.003\\nsamples = 16673\\nvalue = [16649, 24]'),\n Text(0.9172749391727494, 0.5576923076923077, 'X[2] <= 55017.0\\ngini = 0.002\\nsamples = 16663\\nvalue = [16649, 14]'),\n Text(0.9124087591240876, 0.5192307692307693, 'gini = 0.0\\nsamples = 3\\nvalue = [0, 3]'),\n Text(0.9221411192214112, 0.5192307692307693, 'X[68] <= 152715.5\\ngini = 0.001\\nsamples = 16660\\nvalue = [16649, 11]'),\n Text(0.9172749391727494, 0.4807692307692308, 'X[63] <= 34037072.0\\ngini = 0.001\\nsamples = 16659\\nvalue = [16649, 10]'),\n Text(0.9038929440389294, 0.4423076923076923, 'X[68] <= 65043.0\\ngini = 0.001\\nsamples = 16656\\nvalue = [16647, 9]'),\n Text(0.8917274939172749, 0.40384615384615385, 'X[72] <= 39629.5\\ngini = 0.001\\nsamples = 16609\\nvalue = [16602, 7]'),\n Text(0.8819951338199513, 0.36538461538461536, 'X[42] <= 799.267\\ngini = 0.062\\nsamples = 62\\nvalue = [60, 2]'),\n Text(0.8771289537712895, 0.3269230769230769, 'gini = 0.0\\nsamples = 60\\nvalue = [60, 0]'),\n Text(0.8868613138686131, 0.3269230769230769, 'gini = 0.0\\nsamples = 2\\nvalue = [0, 2]'),\n Text(0.9014598540145985, 0.36538461538461536, 'X[16] <= 62.805\\ngini = 0.001\\nsamples = 16547\\nvalue = [16542, 5]'),\n Text(0.8965936739659367, 0.3269230769230769, 'gini = 0.0\\nsamples = 15544\\nvalue = [15544, 0]'),\n Text(0.9063260340632603, 0.3269230769230769, 'X[45] <= 60.85\\ngini = 0.01\\nsamples = 1003\\nvalue = [998, 5]'),\n Text(0.9014598540145985, 0.28846153846153844, 'gini = 0.0\\nsamples = 4\\nvalue = [0, 4]'),\n Text(0.9111922141119222, 0.28846153846153844, 'X[16] <= 63.805\\ngini = 0.002\\nsamples = 999\\nvalue = [998, 1]'),\n Text(0.9063260340632603, 0.25, 'gini = 0.0\\nsamples = 1\\nvalue = [0, 1]'),\n Text(0.916058394160584, 0.25, 'gini = 0.0\\nsamples = 998\\nvalue = [998, 0]'),\n Text(0.916058394160584, 0.40384615384615385, 'X[42] <= 1443.894\\ngini = 0.081\\nsamples = 47\\nvalue = [45, 2]'),\n Text(0.9111922141119222, 0.36538461538461536, 'gini = 0.0\\nsamples = 45\\nvalue = [45, 0]'),\n Text(0.9209245742092458, 0.36538461538461536, 'gini = 0.0\\nsamples = 2\\nvalue = [0, 2]'),\n Text(0.9306569343065694, 0.4423076923076923, 'X[32] <= 28753.6\\ngini = 0.444\\nsamples = 3\\nvalue = [2, 1]'),\n Text(0.9257907542579076, 0.40384615384615385, 'gini = 0.0\\nsamples = 2\\nvalue = [2, 0]'),\n Text(0.9355231143552312, 0.40384615384615385, 'gini = 0.0\\nsamples = 1\\nvalue = [0, 1]'),\n Text(0.927007299270073, 0.4807692307692308, 'gini = 0.0\\nsamples = 1\\nvalue = [0, 1]'),\n Text(0.927007299270073, 0.5576923076923077, 'gini = 0.0\\nsamples = 10\\nvalue = [0, 10]'),\n Text(0.9416058394160584, 0.5961538461538461, 'X[5] <= 1.4885710684854682e+18\\ngini = 0.154\\nsamples = 10664\\nvalue = [9768, 896]'),\n Text(0.9367396593673966, 0.5576923076923077, 'gini = 0.0\\nsamples = 800\\nvalue = [0, 800]'),\n Text(0.9464720194647201, 0.5576923076923077, 'X[0] <= 13917439.5\\ngini = 0.019\\nsamples = 9864\\nvalue = [9768, 96]'),\n Text(0.9416058394160584, 0.5192307692307693, 'X[3] <= 617.5\\ngini = 0.427\\nsamples = 311\\nvalue = [215, 96]'),\n Text(0.9367396593673966, 0.4807692307692308, 'gini = 0.0\\nsamples = 96\\nvalue = [0, 96]'),\n Text(0.9464720194647201, 0.4807692307692308, 'gini = 0.0\\nsamples = 215\\nvalue = [215, 0]'),\n Text(0.9513381995133819, 0.5192307692307693, 'gini = 0.0\\nsamples = 9553\\nvalue = [9553, 0]'),\n Text(0.9805352798053528, 0.6346153846153846, 'X[1] <= 49470.5\\ngini = 0.402\\nsamples = 836\\nvalue = [233, 603]'),\n Text(0.9708029197080292, 0.5961538461538461, 'X[5] <= 1.4971182595629384e+18\\ngini = 0.163\\nsamples = 661\\nvalue = [59, 602]'),\n Text(0.9659367396593674, 0.5576923076923077, 'X[72] <= 64301.5\\ngini = 0.035\\nsamples = 613\\nvalue = [11, 602]'),\n Text(0.9610705596107056, 0.5192307692307693, 'X[33] <= 56182308.0\\ngini = 0.003\\nsamples = 603\\nvalue = [1, 602]'),\n Text(0.9562043795620438, 0.4807692307692308, 'gini = 0.0\\nsamples = 602\\nvalue = [0, 602]'),\n Text(0.9659367396593674, 0.4807692307692308, 'gini = 0.0\\nsamples = 1\\nvalue = [1, 0]'),\n Text(0.9708029197080292, 0.5192307692307693, 'gini = 0.0\\nsamples = 10\\nvalue = [10, 0]'),\n Text(0.975669099756691, 0.5576923076923077, 'gini = 0.0\\nsamples = 48\\nvalue = [48, 0]'),\n Text(0.9902676399026764, 0.5961538461538461, 'X[10] <= 9183814.5\\ngini = 0.011\\nsamples = 175\\nvalue = [174, 1]'),\n Text(0.9854014598540146, 0.5576923076923077, 'gini = 0.0\\nsamples = 174\\nvalue = [174, 0]'),\n Text(0.9951338199513382, 0.5576923076923077, 'gini = 0.0\\nsamples = 1\\nvalue = [0, 1]'),\n Text(0.8754181873479319, 0.75, 'gini = 0.0\\nsamples = 712\\nvalue = [0, 712]'),\n Text(0.8997490875912408, 0.8653846153846154, 'X[5] <= 5.655249630170972e+17\\ngini = 0.137\\nsamples = 11840\\nvalue = [873, 10967]'),\n Text(0.894882907542579, 0.8269230769230769, 'X[71] <= 65435.0\\ngini = 0.012\\nsamples = 11032\\nvalue = [65, 10967]'),\n Text(0.8900167274939172, 0.7884615384615384, 'X[72] <= 65534.5\\ngini = 0.002\\nsamples = 10978\\nvalue = [11, 10967]'),\n Text(0.8851505474452555, 0.75, 'gini = 0.0\\nsamples = 10967\\nvalue = [0, 10967]'),\n Text(0.894882907542579, 0.75, 'gini = 0.0\\nsamples = 11\\nvalue = [11, 0]'),\n Text(0.8997490875912408, 0.7884615384615384, 'gini = 0.0\\nsamples = 54\\nvalue = [54, 0]'),\n Text(0.9046152676399026, 0.8269230769230769, 'gini = 0.0\\nsamples = 808\\nvalue = [808, 0]')]"
     },
     "execution_count": 21,
     "metadata": {},
     "output_type": "execute_result"
    },
    {
     "data": {
      "text/plain": "<Figure size 432x288 with 1 Axes>",
      "image/png": "[encoded data removed]"
     },
     "metadata": {
      "needs_background": "light"
     },
     "output_type": "display_data"
    }
   ],
   "source": [
    "plot_tree(dt_balance_model)"
   ],
   "metadata": {
    "collapsed": false
   }
  },
  {
   "cell_type": "markdown",
   "source": [
    "### VALUTAZIONE MODELLO"
   ],
   "metadata": {
    "collapsed": false
   }
  },
  {
   "cell_type": "code",
   "execution_count": 22,
   "outputs": [
    {
     "name": "stdout",
     "output_type": "stream",
     "text": [
      "Precision in training phase: 1.0\n",
      "Precision in testing phase(unbalanced): 0.999936768890294\n",
      "Precision in testing phase(balanced): 0.9997279389913653\n"
     ]
    }
   ],
   "source": [
    "print(f\"Precision in training phase: {dt_balance_model.score(X_train_balanced, y_train_balanced)}\")\n",
    "print(f\"Precision in testing phase(unbalanced): {dt_balance_model.score(X_test, y_test)}\")\n",
    "print(f\"Precision in testing phase(balanced): {dt_balance_model.score(X_test_balanced, y_test_balanced)}\")"
   ],
   "metadata": {
    "collapsed": false
   }
  },
  {
   "cell_type": "markdown",
   "source": [
    "### FEATURES IMPORTANCE/DIMENSIONAL REDUCTION\n",
    "\n",
    "Per fare ciò sfrutto la proprietà *feature_importance\\_* messa a disposizione dal modello"
   ],
   "metadata": {
    "collapsed": false
   }
  },
  {
   "cell_type": "code",
   "execution_count": 23,
   "outputs": [
    {
     "name": "stdout",
     "output_type": "stream",
     "text": [
      "Feature: 0, Score: 0.17706\n",
      "Feature: 1, Score: 0.00030\n",
      "Feature: 2, Score: 0.00012\n",
      "Feature: 3, Score: 0.00014\n",
      "Feature: 4, Score: 0.00009\n",
      "Feature: 5, Score: 0.02989\n",
      "Feature: 6, Score: 0.00000\n",
      "Feature: 7, Score: 0.00001\n",
      "Feature: 8, Score: 0.00000\n",
      "Feature: 9, Score: 0.00001\n",
      "Feature: 10, Score: 0.00000\n",
      "Feature: 11, Score: 0.00000\n",
      "Feature: 12, Score: 0.00008\n",
      "Feature: 13, Score: 0.00001\n",
      "Feature: 14, Score: 0.00000\n",
      "Feature: 15, Score: 0.00005\n",
      "Feature: 16, Score: 0.00072\n",
      "Feature: 17, Score: 0.00000\n",
      "Feature: 18, Score: 0.00000\n",
      "Feature: 19, Score: 0.00003\n",
      "Feature: 20, Score: 0.00012\n",
      "Feature: 21, Score: 0.00000\n",
      "Feature: 22, Score: 0.00002\n",
      "Feature: 23, Score: 0.00000\n",
      "Feature: 24, Score: 0.00146\n",
      "Feature: 25, Score: 0.00004\n",
      "Feature: 26, Score: 0.00000\n",
      "Feature: 27, Score: 0.00000\n",
      "Feature: 28, Score: 0.00000\n",
      "Feature: 29, Score: 0.00001\n",
      "Feature: 30, Score: 0.00000\n",
      "Feature: 31, Score: 0.00000\n",
      "Feature: 32, Score: 0.00000\n",
      "Feature: 33, Score: 0.00000\n",
      "Feature: 34, Score: 0.00000\n",
      "Feature: 35, Score: 0.00000\n",
      "Feature: 36, Score: 0.00000\n",
      "Feature: 37, Score: 0.00000\n",
      "Feature: 38, Score: 0.00000\n",
      "Feature: 39, Score: 0.00000\n",
      "Feature: 40, Score: 0.00000\n",
      "Feature: 41, Score: 0.00000\n",
      "Feature: 42, Score: 0.00001\n",
      "Feature: 43, Score: 0.00019\n",
      "Feature: 44, Score: 0.00000\n",
      "Feature: 45, Score: 0.00001\n",
      "Feature: 46, Score: 0.00003\n",
      "Feature: 47, Score: 0.00004\n",
      "Feature: 48, Score: 0.00010\n",
      "Feature: 49, Score: 0.00000\n",
      "Feature: 50, Score: 0.00000\n",
      "Feature: 51, Score: 0.00000\n",
      "Feature: 52, Score: 0.00000\n",
      "Feature: 53, Score: 0.00000\n",
      "Feature: 54, Score: 0.00000\n",
      "Feature: 55, Score: 0.00000\n",
      "Feature: 56, Score: 0.00000\n",
      "Feature: 57, Score: 0.00002\n",
      "Feature: 58, Score: 0.00000\n",
      "Feature: 59, Score: 0.00000\n",
      "Feature: 60, Score: 0.00000\n",
      "Feature: 61, Score: 0.00000\n",
      "Feature: 62, Score: 0.00002\n",
      "Feature: 63, Score: 0.00000\n",
      "Feature: 64, Score: 0.00000\n",
      "Feature: 65, Score: 0.00000\n",
      "Feature: 66, Score: 0.00069\n",
      "Feature: 67, Score: 0.00001\n",
      "Feature: 68, Score: 0.01738\n",
      "Feature: 69, Score: 0.76375\n",
      "Feature: 70, Score: 0.00002\n",
      "Feature: 71, Score: 0.00433\n",
      "Feature: 72, Score: 0.00195\n",
      "Feature: 73, Score: 0.00000\n",
      "Feature: 74, Score: 0.00090\n",
      "Feature: 75, Score: 0.00000\n",
      "Feature: 76, Score: 0.00000\n",
      "Feature: 77, Score: 0.00000\n",
      "Feature: 78, Score: 0.00000\n",
      "Feature: 79, Score: 0.00000\n",
      "Feature: 80, Score: 0.00000\n",
      "Feature: 81, Score: 0.00036\n",
      "Feature: 82, Score: 0.00000\n"
     ]
    },
    {
     "data": {
      "text/plain": "<Figure size 432x288 with 1 Axes>",
      "image/png": "[encoded data removed]"
     },
     "metadata": {
      "needs_background": "light"
     },
     "output_type": "display_data"
    }
   ],
   "source": [
    "importance = dt_balance_model.feature_importances_\n",
    "\n",
    "for i,v in enumerate(importance):\n",
    " print('Feature: %0d, Score: %.5f' % (i, v))\n",
    "\n",
    "plt.bar([x for x in range(len(importance))], importance)\n",
    "plt.show()"
   ],
   "metadata": {
    "collapsed": false
   }
  },
  {
   "cell_type": "markdown",
   "source": [
    "## RANDOM FOREST\n",
    "\n",
    "### DATASET SBILANCIATO"
   ],
   "metadata": {
    "collapsed": false
   }
  },
  {
   "cell_type": "code",
   "execution_count": 7,
   "outputs": [
    {
     "name": "stdout",
     "output_type": "stream",
     "text": [
      "CARICAMENTO MODELLO DA ../exported_model/rf_unbalance.pkl\n"
     ]
    }
   ],
   "source": [
    "try:\n",
    "    with open(f\"{EXPORTED_MODEL}/rf_unbalance.pkl\", 'rb') as file:\n",
    "        print(\"CARICAMENTO MODELLO DA ../exported_model/rf_unbalance.pkl\")\n",
    "\n",
    "        rf_model = pkl.load(file)\n",
    "except IOError:\n",
    "    rf = RandomForestClassifier()\n",
    "    start_time = time.time()\n",
    "\n",
    "    print(\"INIZIO ADDESTRAMENTO RANDOM FOREST\")\n",
    "    rf_model = rf.fit(X_train, y_train)\n",
    "\n",
    "    print(f\"L'addestramento della random forest ha impiegato {time.time() - start_time} secondi\")\n",
    "\n",
    "    print(\"SALVATAGGIO MODELLO IN ../exported_model/rf_unbalance.pkl\")\n",
    "    with open(f\"{EXPORTED_MODEL}/rf_unbalance.pkl\", 'wb') as file:\n",
    "        pkl.dump(rf_model, file)"
   ],
   "metadata": {
    "collapsed": false
   }
  },
  {
   "cell_type": "markdown",
   "source": [
    "Visualizza la random forest"
   ],
   "metadata": {
    "collapsed": false
   }
  },
  {
   "cell_type": "code",
   "execution_count": null,
   "outputs": [],
   "source": [
    "index = 0\n",
    "fig, axes = plt.subplots(nrows = 10,ncols = 5,figsize = (10, 10), dpi=900)\n",
    "\n",
    "for tree in rf_model.estimators_:\n",
    "    plot_tree(tree)\n",
    "\n",
    "    axes[index].set_title('Estimator: ' + str(index), fontsize = 11)\n",
    "    index += 1"
   ],
   "metadata": {
    "collapsed": false,
    "pycharm": {
     "is_executing": true
    }
   }
  },
  {
   "cell_type": "markdown",
   "source": [
    "### VALUTAZIONE MODELLO"
   ],
   "metadata": {
    "collapsed": false
   }
  },
  {
   "cell_type": "code",
   "execution_count": 8,
   "outputs": [
    {
     "name": "stdout",
     "output_type": "stream",
     "text": [
      "Precision in training phase: 1.0\n",
      "Precision in testing phase: 0.9999229370850459\n"
     ]
    }
   ],
   "source": [
    "print(f\"Precision in training phase: {rf_model.score(X_train, y_train)}\")\n",
    "print(f\"Precision in testing phase: {rf_model.score(X_test, y_test)}\")"
   ],
   "metadata": {
    "collapsed": false
   }
  },
  {
   "cell_type": "markdown",
   "source": [
    "### FEATURES IMPORTANCE/DIMENSIONAL REDUCTION\n",
    "\n",
    "Per fare ciò sfrutto la proprietà *feature_importances\\_* messa a disposizione dal modello"
   ],
   "metadata": {
    "collapsed": false
   }
  },
  {
   "cell_type": "code",
   "execution_count": 9,
   "outputs": [
    {
     "name": "stdout",
     "output_type": "stream",
     "text": [
      "Feature: 0, Score: 0.14485\n",
      "Feature: 1, Score: 0.00534\n",
      "Feature: 2, Score: 0.01249\n",
      "Feature: 3, Score: 0.01205\n",
      "Feature: 4, Score: 0.00606\n",
      "Feature: 5, Score: 0.05063\n",
      "Feature: 6, Score: 0.08603\n",
      "Feature: 7, Score: 0.00297\n",
      "Feature: 8, Score: 0.02313\n",
      "Feature: 9, Score: 0.00385\n",
      "Feature: 10, Score: 0.01829\n",
      "Feature: 11, Score: 0.00300\n",
      "Feature: 12, Score: 0.00873\n",
      "Feature: 13, Score: 0.00211\n",
      "Feature: 14, Score: 0.00034\n",
      "Feature: 15, Score: 0.01314\n",
      "Feature: 16, Score: 0.00082\n",
      "Feature: 17, Score: 0.01719\n",
      "Feature: 18, Score: 0.00023\n",
      "Feature: 19, Score: 0.05979\n",
      "Feature: 20, Score: 0.09509\n",
      "Feature: 21, Score: 0.00402\n",
      "Feature: 22, Score: 0.00308\n",
      "Feature: 23, Score: 0.01893\n",
      "Feature: 24, Score: 0.00169\n",
      "Feature: 25, Score: 0.00935\n",
      "Feature: 26, Score: 0.01749\n",
      "Feature: 27, Score: 0.00071\n",
      "Feature: 28, Score: 0.00474\n",
      "Feature: 29, Score: 0.00384\n",
      "Feature: 30, Score: 0.00017\n",
      "Feature: 31, Score: 0.00011\n",
      "Feature: 32, Score: 0.00008\n",
      "Feature: 33, Score: 0.00018\n",
      "Feature: 34, Score: 0.00009\n",
      "Feature: 35, Score: 0.00000\n",
      "Feature: 36, Score: 0.00000\n",
      "Feature: 37, Score: 0.00000\n",
      "Feature: 38, Score: 0.00000\n",
      "Feature: 39, Score: 0.02909\n",
      "Feature: 40, Score: 0.01214\n",
      "Feature: 41, Score: 0.10723\n",
      "Feature: 42, Score: 0.02529\n",
      "Feature: 43, Score: 0.01239\n",
      "Feature: 44, Score: 0.00586\n",
      "Feature: 45, Score: 0.00619\n",
      "Feature: 46, Score: 0.00614\n",
      "Feature: 47, Score: 0.00331\n",
      "Feature: 48, Score: 0.00364\n",
      "Feature: 49, Score: 0.00000\n",
      "Feature: 50, Score: 0.00000\n",
      "Feature: 51, Score: 0.00001\n",
      "Feature: 52, Score: 0.00014\n",
      "Feature: 53, Score: 0.00000\n",
      "Feature: 54, Score: 0.00000\n",
      "Feature: 55, Score: 0.00000\n",
      "Feature: 56, Score: 0.01317\n",
      "Feature: 57, Score: 0.00616\n",
      "Feature: 58, Score: 0.00259\n",
      "Feature: 59, Score: 0.01312\n",
      "Feature: 60, Score: 0.03789\n",
      "Feature: 61, Score: 0.00022\n",
      "Feature: 62, Score: 0.00029\n",
      "Feature: 63, Score: 0.00024\n",
      "Feature: 64, Score: 0.00020\n",
      "Feature: 65, Score: 0.00008\n",
      "Feature: 66, Score: 0.00036\n",
      "Feature: 67, Score: 0.00067\n",
      "Feature: 68, Score: 0.00627\n",
      "Feature: 69, Score: 0.01337\n",
      "Feature: 70, Score: 0.01630\n",
      "Feature: 71, Score: 0.01154\n",
      "Feature: 72, Score: 0.00144\n",
      "Feature: 73, Score: 0.00170\n",
      "Feature: 74, Score: 0.03164\n",
      "Feature: 75, Score: 0.00001\n",
      "Feature: 76, Score: 0.00002\n",
      "Feature: 77, Score: 0.00001\n",
      "Feature: 78, Score: 0.00001\n",
      "Feature: 79, Score: 0.00007\n",
      "Feature: 80, Score: 0.00014\n",
      "Feature: 81, Score: 0.00024\n",
      "Feature: 82, Score: 0.00022\n"
     ]
    },
    {
     "data": {
      "text/plain": "<Figure size 432x288 with 1 Axes>",
      "image/png": "[encoded data removed]"
     },
     "metadata": {
      "needs_background": "light"
     },
     "output_type": "display_data"
    }
   ],
   "source": [
    "importance = rf_model.feature_importances_\n",
    "# summarize feature importance\n",
    "for i,v in enumerate(importance):\n",
    " print('Feature: %0d, Score: %.5f' % (i, v))\n",
    "# plot feature importance\n",
    "plt.bar([x for x in range(len(importance))], importance)\n",
    "plt.show()"
   ],
   "metadata": {
    "collapsed": false
   }
  },
  {
   "cell_type": "markdown",
   "source": [
    "### DATASET BILANCIATO"
   ],
   "metadata": {
    "collapsed": false
   }
  },
  {
   "cell_type": "code",
   "execution_count": 11,
   "outputs": [
    {
     "name": "stdout",
     "output_type": "stream",
     "text": [
      "INIZIO ADDESTRAMENTO RANDOM FOREST\n",
      "L'addestramento della random forest ha impiegato 447.95828199386597 secondi\n",
      "SALVATAGGIO MODELLO IN ../exported_model/rf_balance.pkl\n"
     ]
    }
   ],
   "source": [
    "try:\n",
    "    with open(f\"{EXPORTED_MODEL}/rf_balance.pkl\", 'rb') as file:\n",
    "        print(\"CARICAMENTO MODELLO DA ../exported_model/rf_balance.pkl\")\n",
    "\n",
    "        rf_balance_model = pkl.load(file)\n",
    "except IOError:\n",
    "    rf = RandomForestClassifier()\n",
    "    start_time = time.time()\n",
    "\n",
    "    print(\"INIZIO ADDESTRAMENTO RANDOM FOREST\")\n",
    "    rf_balance_model = rf.fit(X_train_balanced, y_train_balanced)\n",
    "\n",
    "    print(f\"L'addestramento della random forest ha impiegato {time.time() - start_time} secondi\")\n",
    "\n",
    "    print(\"SALVATAGGIO MODELLO IN ../exported_model/rf_balance.pkl\")\n",
    "    with open(f\"{EXPORTED_MODEL}/rf_balance.pkl\", 'wb') as file:\n",
    "        pkl.dump(rf_balance_model, file)"
   ],
   "metadata": {
    "collapsed": false
   }
  },
  {
   "cell_type": "markdown",
   "source": [
    "Visualizza la random forest"
   ],
   "metadata": {
    "collapsed": false
   }
  },
  {
   "cell_type": "code",
   "execution_count": null,
   "outputs": [],
   "source": [
    "for tree in rf_balance_model.estimators:\n",
    "    tree.plot_tree(tree)"
   ],
   "metadata": {
    "collapsed": false,
    "pycharm": {
     "is_executing": true
    }
   }
  },
  {
   "cell_type": "markdown",
   "source": [
    "### VALUTAZIONE MODELLO"
   ],
   "metadata": {
    "collapsed": false
   }
  },
  {
   "cell_type": "code",
   "execution_count": 13,
   "outputs": [
    {
     "name": "stdout",
     "output_type": "stream",
     "text": [
      "Precision in training phase: 1.0\n",
      "Precision in testing phase(unbalance): 0.9999150331963326\n",
      "Precision in testing phase(balance): 0.9999372166903151\n"
     ]
    }
   ],
   "source": [
    "print(f\"Precision in training phase: {rf_balance_model.score(X_train_balanced, y_train_balanced)}\")\n",
    "print(f\"Precision in testing phase(unbalance): {rf_balance_model.score(X_test, y_test)}\")\n",
    "print(f\"Precision in testing phase(balance): {rf_balance_model.score(X_test_balanced, y_test_balanced)}\")"
   ],
   "metadata": {
    "collapsed": false
   }
  },
  {
   "cell_type": "markdown",
   "source": [
    "### FEATURES IMPORTANCE/DIMENSIONAL REDUCTION\n",
    "\n",
    "Per fare ciò sfrutto la proprietà *feature_importances\\_* messa a disposizione dal modello"
   ],
   "metadata": {
    "collapsed": false
   }
  },
  {
   "cell_type": "code",
   "execution_count": 14,
   "outputs": [
    {
     "name": "stdout",
     "output_type": "stream",
     "text": [
      "Feature: 0, Score: 0.08582\n",
      "Feature: 1, Score: 0.00136\n",
      "Feature: 2, Score: 0.00664\n",
      "Feature: 3, Score: 0.01802\n",
      "Feature: 4, Score: 0.02464\n",
      "Feature: 5, Score: 0.04981\n",
      "Feature: 6, Score: 0.02277\n",
      "Feature: 7, Score: 0.00220\n",
      "Feature: 8, Score: 0.05597\n",
      "Feature: 9, Score: 0.00257\n",
      "Feature: 10, Score: 0.03670\n",
      "Feature: 11, Score: 0.00128\n",
      "Feature: 12, Score: 0.00270\n",
      "Feature: 13, Score: 0.00065\n",
      "Feature: 14, Score: 0.00103\n",
      "Feature: 15, Score: 0.00258\n",
      "Feature: 16, Score: 0.03293\n",
      "Feature: 17, Score: 0.04391\n",
      "Feature: 18, Score: 0.00068\n",
      "Feature: 19, Score: 0.01010\n",
      "Feature: 20, Score: 0.05130\n",
      "Feature: 21, Score: 0.00764\n",
      "Feature: 22, Score: 0.00070\n",
      "Feature: 23, Score: 0.00244\n",
      "Feature: 24, Score: 0.00222\n",
      "Feature: 25, Score: 0.00142\n",
      "Feature: 26, Score: 0.00089\n",
      "Feature: 27, Score: 0.00110\n",
      "Feature: 28, Score: 0.00170\n",
      "Feature: 29, Score: 0.00093\n",
      "Feature: 30, Score: 0.00050\n",
      "Feature: 31, Score: 0.00133\n",
      "Feature: 32, Score: 0.00156\n",
      "Feature: 33, Score: 0.00035\n",
      "Feature: 34, Score: 0.00012\n",
      "Feature: 35, Score: 0.00002\n",
      "Feature: 36, Score: 0.00000\n",
      "Feature: 37, Score: 0.00000\n",
      "Feature: 38, Score: 0.00000\n",
      "Feature: 39, Score: 0.00589\n",
      "Feature: 40, Score: 0.09052\n",
      "Feature: 41, Score: 0.05966\n",
      "Feature: 42, Score: 0.06190\n",
      "Feature: 43, Score: 0.00904\n",
      "Feature: 44, Score: 0.00387\n",
      "Feature: 45, Score: 0.00136\n",
      "Feature: 46, Score: 0.00773\n",
      "Feature: 47, Score: 0.01858\n",
      "Feature: 48, Score: 0.00368\n",
      "Feature: 49, Score: 0.00000\n",
      "Feature: 50, Score: 0.00000\n",
      "Feature: 51, Score: 0.00002\n",
      "Feature: 52, Score: 0.00219\n",
      "Feature: 53, Score: 0.00000\n",
      "Feature: 54, Score: 0.00000\n",
      "Feature: 55, Score: 0.00000\n",
      "Feature: 56, Score: 0.01754\n",
      "Feature: 57, Score: 0.00076\n",
      "Feature: 58, Score: 0.00082\n",
      "Feature: 59, Score: 0.00867\n",
      "Feature: 60, Score: 0.00874\n",
      "Feature: 61, Score: 0.00044\n",
      "Feature: 62, Score: 0.00052\n",
      "Feature: 63, Score: 0.00028\n",
      "Feature: 64, Score: 0.00025\n",
      "Feature: 65, Score: 0.00018\n",
      "Feature: 66, Score: 0.00036\n",
      "Feature: 67, Score: 0.00193\n",
      "Feature: 68, Score: 0.00552\n",
      "Feature: 69, Score: 0.15605\n",
      "Feature: 70, Score: 0.02270\n",
      "Feature: 71, Score: 0.00662\n",
      "Feature: 72, Score: 0.00704\n",
      "Feature: 73, Score: 0.00168\n",
      "Feature: 74, Score: 0.01843\n",
      "Feature: 75, Score: 0.00001\n",
      "Feature: 76, Score: 0.00001\n",
      "Feature: 77, Score: 0.00001\n",
      "Feature: 78, Score: 0.00001\n",
      "Feature: 79, Score: 0.00008\n",
      "Feature: 80, Score: 0.00007\n",
      "Feature: 81, Score: 0.00024\n",
      "Feature: 82, Score: 0.00005\n"
     ]
    },
    {
     "data": {
      "text/plain": "<Figure size 432x288 with 1 Axes>",
      "image/png": "[encoded data removed]"
     },
     "metadata": {
      "needs_background": "light"
     },
     "output_type": "display_data"
    }
   ],
   "source": [
    "importance = rf_balance_model.feature_importances_\n",
    "# summarize feature importance\n",
    "for i,v in enumerate(importance):\n",
    " print('Feature: %0d, Score: %.5f' % (i, v))\n",
    "# plot feature importance\n",
    "plt.bar([x for x in range(len(importance))], importance)\n",
    "plt.show()"
   ],
   "metadata": {
    "collapsed": false
   }
  },
  {
   "cell_type": "markdown",
   "source": [
    "## BAYESIAN NETWORK\n",
    "\n",
    "### DATASET SBILANCIATO\n",
    "\n",
    "#### GAUSSIAN NAIVE BAYES"
   ],
   "metadata": {
    "collapsed": false
   }
  },
  {
   "cell_type": "code",
   "execution_count": 15,
   "outputs": [
    {
     "name": "stdout",
     "output_type": "stream",
     "text": [
      "INIZIO ADDESTRAMENTO BAYESIAN NETWORK\n",
      "L'addestramento della bayesian network ha impiegato 2.6586413383483887 secondi\n",
      "SALVATAGGIO MODELLO IN ../exported_model/gnd_unbalance.pkl\n"
     ]
    }
   ],
   "source": [
    "try:\n",
    "    with open(f\"{EXPORTED_MODEL}/gnb_unbalance.pkl\", 'rb') as file:\n",
    "        print(\"CARICAMENTO MODELLO DA ../exported_model/gnb_unbalance.pkl\")\n",
    "\n",
    "        gnb_model = pkl.load(file)\n",
    "except IOError:\n",
    "    gnb = GaussianNB()\n",
    "    start_time = time.time()\n",
    "\n",
    "    print(\"INIZIO ADDESTRAMENTO BAYESIAN NETWORK\")\n",
    "    gnb_model = gnb.fit(X_train, y_train)\n",
    "\n",
    "    print(f\"L'addestramento della bayesian network ha impiegato {time.time() - start_time} secondi\")\n",
    "\n",
    "    print(\"SALVATAGGIO MODELLO IN ../exported_model/gnd_unbalance.pkl\")\n",
    "    with open(f\"{EXPORTED_MODEL}/gnb_unbalance.pkl\", 'wb') as file:\n",
    "        pkl.dump(gnb_model, file)"
   ],
   "metadata": {
    "collapsed": false
   }
  },
  {
   "cell_type": "markdown",
   "source": [
    "##### VALUTAZIONE MODELLO"
   ],
   "metadata": {
    "collapsed": false
   }
  },
  {
   "cell_type": "code",
   "execution_count": 16,
   "outputs": [
    {
     "name": "stdout",
     "output_type": "stream",
     "text": [
      "Precision in training phase: 0.07745593859349012\n",
      "Precision in testing phase: 0.07740278216882707\n"
     ]
    }
   ],
   "source": [
    "print(f\"Precision in training phase: {gnb_model.score(X_train, y_train)}\")\n",
    "print(f\"Precision in testing phase: {gnb_model.score(X_test, y_test)}\")"
   ],
   "metadata": {
    "collapsed": false
   }
  },
  {
   "cell_type": "markdown",
   "source": [
    "##### FEATURES IMPORTANCE/DIMENSIONAL REDUCTION"
   ],
   "metadata": {
    "collapsed": false
   }
  },
  {
   "cell_type": "code",
   "execution_count": null,
   "outputs": [],
   "source": [
    "importance = permutation_importance(gnb_model, X_train, y_train)"
   ],
   "metadata": {
    "collapsed": false,
    "pycharm": {
     "is_executing": true
    }
   }
  },
  {
   "cell_type": "code",
   "execution_count": 22,
   "outputs": [
    {
     "name": "stdout",
     "output_type": "stream",
     "text": [
      "Feature: 0, Score: 0.00000\n",
      "Feature: 1, Score: 0.00000\n",
      "Feature: 2, Score: 0.00000\n",
      "Feature: 3, Score: 0.00000\n",
      "Feature: 4, Score: 0.00000\n",
      "Feature: 5, Score: 0.00000\n",
      "Feature: 6, Score: 0.00000\n",
      "Feature: 7, Score: 0.00000\n",
      "Feature: 8, Score: 0.00000\n",
      "Feature: 9, Score: 0.00000\n",
      "Feature: 10, Score: 0.00000\n",
      "Feature: 11, Score: 0.00000\n",
      "Feature: 12, Score: 0.00000\n",
      "Feature: 13, Score: 0.00000\n",
      "Feature: 14, Score: 0.00000\n",
      "Feature: 15, Score: 0.00000\n",
      "Feature: 16, Score: 0.00000\n",
      "Feature: 17, Score: 0.00000\n",
      "Feature: 18, Score: 0.00000\n",
      "Feature: 19, Score: 0.00000\n",
      "Feature: 20, Score: 0.00000\n",
      "Feature: 21, Score: -0.00286\n",
      "Feature: 22, Score: -0.00788\n",
      "Feature: 23, Score: 0.00000\n",
      "Feature: 24, Score: 0.00000\n",
      "Feature: 25, Score: 0.00000\n",
      "Feature: 26, Score: -0.00108\n",
      "Feature: 27, Score: -0.00636\n",
      "Feature: 28, Score: 0.00000\n",
      "Feature: 29, Score: 0.00000\n",
      "Feature: 30, Score: 0.00000\n",
      "Feature: 31, Score: -0.00090\n",
      "Feature: 32, Score: -0.00523\n",
      "Feature: 33, Score: 0.00000\n",
      "Feature: 34, Score: 0.00000\n",
      "Feature: 35, Score: 0.00000\n",
      "Feature: 36, Score: 0.00000\n",
      "Feature: 37, Score: 0.00000\n",
      "Feature: 38, Score: 0.00000\n",
      "Feature: 39, Score: 0.00000\n",
      "Feature: 40, Score: 0.00000\n",
      "Feature: 41, Score: 0.00000\n",
      "Feature: 42, Score: 0.00000\n",
      "Feature: 43, Score: 0.00000\n",
      "Feature: 44, Score: 0.00000\n",
      "Feature: 45, Score: 0.00000\n",
      "Feature: 46, Score: 0.00000\n",
      "Feature: 47, Score: 0.00000\n",
      "Feature: 48, Score: 0.00000\n",
      "Feature: 49, Score: 0.00000\n",
      "Feature: 50, Score: 0.00000\n",
      "Feature: 51, Score: 0.00000\n",
      "Feature: 52, Score: 0.00000\n",
      "Feature: 53, Score: 0.00000\n",
      "Feature: 54, Score: 0.00000\n",
      "Feature: 55, Score: 0.00000\n",
      "Feature: 56, Score: 0.00000\n",
      "Feature: 57, Score: 0.00000\n",
      "Feature: 58, Score: 0.00000\n",
      "Feature: 59, Score: 0.00000\n",
      "Feature: 60, Score: 0.00000\n",
      "Feature: 61, Score: 0.00000\n",
      "Feature: 62, Score: 0.00000\n",
      "Feature: 63, Score: 0.00000\n",
      "Feature: 64, Score: 0.00000\n",
      "Feature: 65, Score: 0.00000\n",
      "Feature: 66, Score: 0.00000\n",
      "Feature: 67, Score: 0.00000\n",
      "Feature: 68, Score: 0.00000\n",
      "Feature: 69, Score: 0.00000\n",
      "Feature: 70, Score: 0.00000\n",
      "Feature: 71, Score: 0.00000\n",
      "Feature: 72, Score: 0.00000\n",
      "Feature: 73, Score: 0.00000\n",
      "Feature: 74, Score: 0.00000\n",
      "Feature: 75, Score: 0.00000\n",
      "Feature: 76, Score: -0.00000\n",
      "Feature: 77, Score: 0.00000\n",
      "Feature: 78, Score: 0.00000\n",
      "Feature: 79, Score: 0.00045\n",
      "Feature: 80, Score: -0.00168\n",
      "Feature: 81, Score: 0.00000\n",
      "Feature: 82, Score: 0.00000\n"
     ]
    },
    {
     "data": {
      "text/plain": "<Figure size 432x288 with 1 Axes>",
      "image/png": "[encoded data removed]"
     },
     "metadata": {
      "needs_background": "light"
     },
     "output_type": "display_data"
    }
   ],
   "source": [
    "importance = importance['importances_mean']\n",
    "\n",
    "for i,v in enumerate(importance):\n",
    "    print('Feature: %0d, Score: %.5f' % (i, v))\n",
    "\n",
    "#plot feature importance\n",
    "plt.bar([x for x in range(len(importance))], importance)\n",
    "plt.show()"
   ],
   "metadata": {
    "collapsed": false
   }
  },
  {
   "cell_type": "markdown",
   "source": [
    "#### BERNOULLI NAIVE BAYES"
   ],
   "metadata": {
    "collapsed": false
   }
  },
  {
   "cell_type": "code",
   "execution_count": 24,
   "outputs": [
    {
     "name": "stdout",
     "output_type": "stream",
     "text": [
      "INIZIO ADDESTRAMENTO BAYESIAN NETWORK\n",
      "L'addestramento della bayesian network ha impiegato 1.9755268096923828 secondi\n",
      "SALVATAGGIO MODELLO IN ../exported_model/bnd_unbalance.pkl\n"
     ]
    }
   ],
   "source": [
    "try:\n",
    "    with open(f\"{EXPORTED_MODEL}/bnb_unbalance.pkl\", 'rb') as file:\n",
    "        print(\"CARICAMENTO MODELLO DA ../exported_model/bnb_unbalance.pkl\")\n",
    "\n",
    "        bnb_model = pkl.load(file)\n",
    "except IOError:\n",
    "    bnb = BernoulliNB()\n",
    "    start_time = time.time()\n",
    "\n",
    "    print(\"INIZIO ADDESTRAMENTO BAYESIAN NETWORK\")\n",
    "    bnb_model = bnb.fit(X_train, y_train)\n",
    "\n",
    "    print(f\"L'addestramento della bayesian network ha impiegato {time.time() - start_time} secondi\")\n",
    "\n",
    "    print(\"SALVATAGGIO MODELLO IN ../exported_model/bnd_unbalance.pkl\")\n",
    "    with open(f\"{EXPORTED_MODEL}/bnb_unbalance.pkl\", 'wb') as file:\n",
    "        pkl.dump(bnb_model, file)"
   ],
   "metadata": {
    "collapsed": false
   }
  },
  {
   "cell_type": "markdown",
   "source": [
    "##### VALUTAZIONE MODELLO"
   ],
   "metadata": {
    "collapsed": false
   }
  },
  {
   "cell_type": "code",
   "execution_count": 25,
   "outputs": [
    {
     "name": "stdout",
     "output_type": "stream",
     "text": [
      "Precision in training phase: 0.9655088021191479\n",
      "Precision in testing phase: 0.965973759089472\n"
     ]
    }
   ],
   "source": [
    "print(f\"Precision in training phase: {bnb_model.score(X_train, y_train)}\")\n",
    "print(f\"Precision in testing phase: {bnb_model.score(X_test, y_test)}\")"
   ],
   "metadata": {
    "collapsed": false
   }
  },
  {
   "cell_type": "markdown",
   "source": [
    "##### FEATURES IMPORTANCE/DIMENSIONAL REDUCTION"
   ],
   "metadata": {
    "collapsed": false
   }
  },
  {
   "cell_type": "code",
   "execution_count": 27,
   "outputs": [],
   "source": [
    "importance = permutation_importance(bnb_model, X_train, y_train)"
   ],
   "metadata": {
    "collapsed": false
   }
  },
  {
   "cell_type": "code",
   "execution_count": 28,
   "outputs": [
    {
     "name": "stdout",
     "output_type": "stream",
     "text": [
      "Feature: 0, Score: 0.00000\n",
      "Feature: 1, Score: -0.00000\n",
      "Feature: 2, Score: 0.00000\n",
      "Feature: 3, Score: -0.00000\n",
      "Feature: 4, Score: -0.00000\n",
      "Feature: 5, Score: 0.00000\n",
      "Feature: 6, Score: 0.00023\n",
      "Feature: 7, Score: 0.00000\n",
      "Feature: 8, Score: -0.01490\n",
      "Feature: 9, Score: -0.00065\n",
      "Feature: 10, Score: -0.01435\n",
      "Feature: 11, Score: -0.00065\n",
      "Feature: 12, Score: -0.00227\n",
      "Feature: 13, Score: -0.00065\n",
      "Feature: 14, Score: -0.00629\n",
      "Feature: 15, Score: -0.01435\n",
      "Feature: 16, Score: -0.01310\n",
      "Feature: 17, Score: -0.01435\n",
      "Feature: 18, Score: -0.00549\n",
      "Feature: 19, Score: 0.00014\n",
      "Feature: 20, Score: 0.00023\n",
      "Feature: 21, Score: 0.00006\n",
      "Feature: 22, Score: -0.01029\n",
      "Feature: 23, Score: 0.00006\n",
      "Feature: 24, Score: 0.00006\n",
      "Feature: 25, Score: 0.00014\n",
      "Feature: 26, Score: 0.00014\n",
      "Feature: 27, Score: -0.00593\n",
      "Feature: 28, Score: 0.00014\n",
      "Feature: 29, Score: 0.00014\n",
      "Feature: 30, Score: -0.00694\n",
      "Feature: 31, Score: -0.00694\n",
      "Feature: 32, Score: -0.00541\n",
      "Feature: 33, Score: -0.00694\n",
      "Feature: 34, Score: -0.00714\n",
      "Feature: 35, Score: -0.00035\n",
      "Feature: 36, Score: 0.00000\n",
      "Feature: 37, Score: 0.00000\n",
      "Feature: 38, Score: 0.00000\n",
      "Feature: 39, Score: -0.00000\n",
      "Feature: 40, Score: -0.01490\n",
      "Feature: 41, Score: 0.00023\n",
      "Feature: 42, Score: -0.01490\n",
      "Feature: 43, Score: -0.00235\n",
      "Feature: 44, Score: -0.00060\n",
      "Feature: 45, Score: -0.00060\n",
      "Feature: 46, Score: -0.01401\n",
      "Feature: 47, Score: -0.01401\n",
      "Feature: 48, Score: -0.00576\n",
      "Feature: 49, Score: -0.00035\n",
      "Feature: 50, Score: -0.00000\n",
      "Feature: 51, Score: -0.00138\n",
      "Feature: 52, Score: 0.00046\n",
      "Feature: 53, Score: -0.00049\n",
      "Feature: 54, Score: 0.00000\n",
      "Feature: 55, Score: -0.00000\n",
      "Feature: 56, Score: -0.01360\n",
      "Feature: 57, Score: -0.00060\n",
      "Feature: 58, Score: -0.00065\n",
      "Feature: 59, Score: -0.01435\n",
      "Feature: 60, Score: -0.00000\n",
      "Feature: 61, Score: -0.00063\n",
      "Feature: 62, Score: -0.00063\n",
      "Feature: 63, Score: -0.00063\n",
      "Feature: 64, Score: -0.00162\n",
      "Feature: 65, Score: -0.00162\n",
      "Feature: 66, Score: -0.00162\n",
      "Feature: 67, Score: 0.00000\n",
      "Feature: 68, Score: -0.00065\n",
      "Feature: 69, Score: -0.01490\n",
      "Feature: 70, Score: -0.01435\n",
      "Feature: 71, Score: -0.00038\n",
      "Feature: 72, Score: -0.00649\n",
      "Feature: 73, Score: -0.00195\n",
      "Feature: 74, Score: -0.00000\n",
      "Feature: 75, Score: -0.00088\n",
      "Feature: 76, Score: -0.00059\n",
      "Feature: 77, Score: -0.00088\n",
      "Feature: 78, Score: -0.00088\n",
      "Feature: 79, Score: -0.00170\n",
      "Feature: 80, Score: -0.00148\n",
      "Feature: 81, Score: -0.00170\n",
      "Feature: 82, Score: -0.00170\n"
     ]
    },
    {
     "data": {
      "text/plain": "<Figure size 432x288 with 1 Axes>",
      "image/png": "[encoded data removed]"
     },
     "metadata": {
      "needs_background": "light"
     },
     "output_type": "display_data"
    }
   ],
   "source": [
    "importance = importance['importances_mean']\n",
    "\n",
    "for i,v in enumerate(importance):\n",
    "    print('Feature: %0d, Score: %.5f' % (i, v))\n",
    "\n",
    "#plot feature importance\n",
    "plt.bar([x for x in range(len(importance))], importance)\n",
    "plt.show()"
   ],
   "metadata": {
    "collapsed": false
   }
  },
  {
   "cell_type": "markdown",
   "source": [
    "### DATASET BILANCIATO\n",
    "\n",
    "#### GAUSSIAN NAIVE BAYES"
   ],
   "metadata": {
    "collapsed": false
   }
  },
  {
   "cell_type": "code",
   "execution_count": 29,
   "outputs": [
    {
     "name": "stdout",
     "output_type": "stream",
     "text": [
      "INIZIO ADDESTRAMENTO BAYESIAN NETWORK\n",
      "L'addestramento della bayesian network ha impiegato 5.910062789916992 secondi\n",
      "SALVATAGGIO MODELLO IN ../exported_model/gnd_balance.pkl\n"
     ]
    }
   ],
   "source": [
    "try:\n",
    "    with open(f\"{EXPORTED_MODEL}/gnb_balance.pkl\", 'rb') as file:\n",
    "        print(\"CARICAMENTO MODELLO DA ../exported_model/gnb_balance.pkl\")\n",
    "\n",
    "        gnb_balance_model = pkl.load(file)\n",
    "except IOError:\n",
    "    gnb = GaussianNB()\n",
    "    start_time = time.time()\n",
    "\n",
    "    print(\"INIZIO ADDESTRAMENTO BAYESIAN NETWORK\")\n",
    "    gnb_balance_model = gnb.fit(X_train_balanced, y_train_balanced)\n",
    "\n",
    "    print(f\"L'addestramento della bayesian network ha impiegato {time.time() - start_time} secondi\")\n",
    "\n",
    "    print(\"SALVATAGGIO MODELLO IN ../exported_model/gnd_balance.pkl\")\n",
    "    with open(f\"{EXPORTED_MODEL}/gnb_balance.pkl\", 'wb') as file:\n",
    "        pkl.dump(gnb_balance_model, file)"
   ],
   "metadata": {
    "collapsed": false
   }
  },
  {
   "cell_type": "markdown",
   "source": [
    "##### VALUTAZIONE MODELLO"
   ],
   "metadata": {
    "collapsed": false
   }
  },
  {
   "cell_type": "code",
   "execution_count": 31,
   "outputs": [
    {
     "name": "stdout",
     "output_type": "stream",
     "text": [
      "Precision in training phase: 0.5112647230095729\n",
      "Precision in testing phase(unbalance): 0.07740278216882707\n",
      "Precision in testing phase(balance): 0.51143284069363\n"
     ]
    }
   ],
   "source": [
    "print(f\"Precision in training phase: {gnb_balance_model.score(X_train_balanced, y_train_balanced)}\")\n",
    "print(f\"Precision in testing phase(unbalance): {gnb_model.score(X_test, y_test)}\")\n",
    "print(f\"Precision in testing phase(balance): {gnb_balance_model.score(X_test_balanced, y_test_balanced)}\")"
   ],
   "metadata": {
    "collapsed": false
   }
  },
  {
   "cell_type": "markdown",
   "source": [
    "##### FEATURES IMPORTANCE/DIMENSIONAL REDUCTION"
   ],
   "metadata": {
    "collapsed": false
   }
  },
  {
   "cell_type": "code",
   "execution_count": 33,
   "outputs": [],
   "source": [
    "importance = permutation_importance(gnb_balance_model, X_train_balanced, y_train_balanced)"
   ],
   "metadata": {
    "collapsed": false
   }
  },
  {
   "cell_type": "code",
   "execution_count": 34,
   "outputs": [
    {
     "name": "stdout",
     "output_type": "stream",
     "text": [
      "Feature: 0, Score: 0.00000\n",
      "Feature: 1, Score: 0.00000\n",
      "Feature: 2, Score: 0.00000\n",
      "Feature: 3, Score: 0.00000\n",
      "Feature: 4, Score: 0.00000\n",
      "Feature: 5, Score: 0.00000\n",
      "Feature: 6, Score: 0.00000\n",
      "Feature: 7, Score: 0.00000\n",
      "Feature: 8, Score: 0.00000\n",
      "Feature: 9, Score: 0.00000\n",
      "Feature: 10, Score: 0.00000\n",
      "Feature: 11, Score: 0.00000\n",
      "Feature: 12, Score: 0.00000\n",
      "Feature: 13, Score: 0.00000\n",
      "Feature: 14, Score: 0.00000\n",
      "Feature: 15, Score: 0.00000\n",
      "Feature: 16, Score: 0.00000\n",
      "Feature: 17, Score: 0.00000\n",
      "Feature: 18, Score: 0.00000\n",
      "Feature: 19, Score: 0.00000\n",
      "Feature: 20, Score: 0.00000\n",
      "Feature: 21, Score: 0.00002\n",
      "Feature: 22, Score: 0.00134\n",
      "Feature: 23, Score: 0.00000\n",
      "Feature: 24, Score: 0.00000\n",
      "Feature: 25, Score: 0.00000\n",
      "Feature: 26, Score: 0.00001\n",
      "Feature: 27, Score: 0.00023\n",
      "Feature: 28, Score: 0.00000\n",
      "Feature: 29, Score: 0.00000\n",
      "Feature: 30, Score: 0.00000\n",
      "Feature: 31, Score: 0.00003\n",
      "Feature: 32, Score: 0.00006\n",
      "Feature: 33, Score: 0.00000\n",
      "Feature: 34, Score: 0.00000\n",
      "Feature: 35, Score: 0.00000\n",
      "Feature: 36, Score: 0.00000\n",
      "Feature: 37, Score: 0.00000\n",
      "Feature: 38, Score: 0.00000\n",
      "Feature: 39, Score: 0.00000\n",
      "Feature: 40, Score: 0.00000\n",
      "Feature: 41, Score: 0.00000\n",
      "Feature: 42, Score: 0.00000\n",
      "Feature: 43, Score: 0.00000\n",
      "Feature: 44, Score: 0.00000\n",
      "Feature: 45, Score: 0.00000\n",
      "Feature: 46, Score: 0.00000\n",
      "Feature: 47, Score: 0.00000\n",
      "Feature: 48, Score: 0.00000\n",
      "Feature: 49, Score: 0.00000\n",
      "Feature: 50, Score: 0.00000\n",
      "Feature: 51, Score: 0.00000\n",
      "Feature: 52, Score: 0.00000\n",
      "Feature: 53, Score: 0.00000\n",
      "Feature: 54, Score: 0.00000\n",
      "Feature: 55, Score: 0.00000\n",
      "Feature: 56, Score: 0.00000\n",
      "Feature: 57, Score: 0.00000\n",
      "Feature: 58, Score: 0.00000\n",
      "Feature: 59, Score: 0.00000\n",
      "Feature: 60, Score: 0.00000\n",
      "Feature: 61, Score: 0.00000\n",
      "Feature: 62, Score: 0.00000\n",
      "Feature: 63, Score: 0.00000\n",
      "Feature: 64, Score: 0.00000\n",
      "Feature: 65, Score: 0.00000\n",
      "Feature: 66, Score: 0.00000\n",
      "Feature: 67, Score: 0.00000\n",
      "Feature: 68, Score: 0.00000\n",
      "Feature: 69, Score: 0.00000\n",
      "Feature: 70, Score: 0.00000\n",
      "Feature: 71, Score: 0.00000\n",
      "Feature: 72, Score: 0.00000\n",
      "Feature: 73, Score: 0.00000\n",
      "Feature: 74, Score: 0.00000\n",
      "Feature: 75, Score: 0.00000\n",
      "Feature: 76, Score: 0.00002\n",
      "Feature: 77, Score: 0.00000\n",
      "Feature: 78, Score: 0.00000\n",
      "Feature: 79, Score: 0.00384\n",
      "Feature: 80, Score: 0.00015\n",
      "Feature: 81, Score: 0.00000\n",
      "Feature: 82, Score: 0.00000\n"
     ]
    },
    {
     "data": {
      "text/plain": "<Figure size 432x288 with 1 Axes>",
      "image/png": "[encoded data removed]"
     },
     "metadata": {
      "needs_background": "light"
     },
     "output_type": "display_data"
    }
   ],
   "source": [
    "importance = importance['importances_mean']\n",
    "\n",
    "for i,v in enumerate(importance):\n",
    "    print('Feature: %0d, Score: %.5f' % (i, v))\n",
    "\n",
    "#plot feature importance\n",
    "plt.bar([x for x in range(len(importance))], importance)\n",
    "plt.show()"
   ],
   "metadata": {
    "collapsed": false
   }
  },
  {
   "cell_type": "markdown",
   "source": [
    "#### BERNOULLI NAIVE BAYES"
   ],
   "metadata": {
    "collapsed": false
   }
  },
  {
   "cell_type": "code",
   "execution_count": 35,
   "outputs": [
    {
     "name": "stdout",
     "output_type": "stream",
     "text": [
      "INIZIO ADDESTRAMENTO BAYESIAN NETWORK\n",
      "L'addestramento della bayesian network ha impiegato 3.0971438884735107 secondi\n",
      "SALVATAGGIO MODELLO IN ../exported_model/bnd_balance.pkl\n"
     ]
    }
   ],
   "source": [
    "try:\n",
    "    with open(f\"{EXPORTED_MODEL}/bnb_balance.pkl\", 'rb') as file:\n",
    "        print(\"CARICAMENTO MODELLO DA ../exported_model/bnb_balance.pkl\")\n",
    "\n",
    "        bnb_balance_model = pkl.load(file)\n",
    "except IOError:\n",
    "    bnb = BernoulliNB()\n",
    "    start_time = time.time()\n",
    "\n",
    "    print(\"INIZIO ADDESTRAMENTO BAYESIAN NETWORK\")\n",
    "    bnb_balance_model = bnb.fit(X_train_balanced, y_train_balanced)\n",
    "\n",
    "    print(f\"L'addestramento della bayesian network ha impiegato {time.time() - start_time} secondi\")\n",
    "\n",
    "    print(\"SALVATAGGIO MODELLO IN ../exported_model/bnd_balance.pkl\")\n",
    "    with open(f\"{EXPORTED_MODEL}/bnb_balance.pkl\", 'wb') as file:\n",
    "        pkl.dump(bnb_balance_model, file)"
   ],
   "metadata": {
    "collapsed": false
   }
  },
  {
   "cell_type": "markdown",
   "source": [
    "##### VALUTAZIONE MODELLO"
   ],
   "metadata": {
    "collapsed": false
   }
  },
  {
   "cell_type": "code",
   "execution_count": 36,
   "outputs": [
    {
     "name": "stdout",
     "output_type": "stream",
     "text": [
      "Precision in training phase: 0.9320837113065356\n",
      "Precision in testing phase(unbalance): 0.965973759089472\n",
      "Precision in testing phase(balance): 0.9334109753596437\n"
     ]
    }
   ],
   "source": [
    "print(f\"Precision in training phase: {bnb_balance_model.score(X_train_balanced, y_train_balanced)}\")\n",
    "print(f\"Precision in testing phase(unbalance): {bnb_model.score(X_test, y_test)}\")\n",
    "print(f\"Precision in testing phase(balance): {bnb_balance_model.score(X_test_balanced, y_test_balanced)}\")"
   ],
   "metadata": {
    "collapsed": false
   }
  },
  {
   "cell_type": "markdown",
   "source": [
    "##### FEATURES IMPORTANCE/DIMENSIONAL REDUCTION"
   ],
   "metadata": {
    "collapsed": false
   }
  },
  {
   "cell_type": "code",
   "execution_count": 37,
   "outputs": [],
   "source": [
    "importance = permutation_importance(bnb_balance_model, X_train_balanced, y_train_balanced)"
   ],
   "metadata": {
    "collapsed": false
   }
  },
  {
   "cell_type": "code",
   "execution_count": 38,
   "outputs": [
    {
     "name": "stdout",
     "output_type": "stream",
     "text": [
      "Feature: 0, Score: -0.00000\n",
      "Feature: 1, Score: -0.00000\n",
      "Feature: 2, Score: 0.00000\n",
      "Feature: 3, Score: -0.00000\n",
      "Feature: 4, Score: -0.00000\n",
      "Feature: 5, Score: 0.00000\n",
      "Feature: 6, Score: 0.00005\n",
      "Feature: 7, Score: 0.00000\n",
      "Feature: 8, Score: -0.00336\n",
      "Feature: 9, Score: 0.00001\n",
      "Feature: 10, Score: -0.00340\n",
      "Feature: 11, Score: 0.00001\n",
      "Feature: 12, Score: 0.00005\n",
      "Feature: 13, Score: 0.00001\n",
      "Feature: 14, Score: -0.00124\n",
      "Feature: 15, Score: -0.00340\n",
      "Feature: 16, Score: -0.00319\n",
      "Feature: 17, Score: -0.00340\n",
      "Feature: 18, Score: 0.00005\n",
      "Feature: 19, Score: -0.00136\n",
      "Feature: 20, Score: 0.00005\n",
      "Feature: 21, Score: -0.00148\n",
      "Feature: 22, Score: -0.00059\n",
      "Feature: 23, Score: -0.00148\n",
      "Feature: 24, Score: -0.00061\n",
      "Feature: 25, Score: -0.00072\n",
      "Feature: 26, Score: -0.00072\n",
      "Feature: 27, Score: 0.00019\n",
      "Feature: 28, Score: -0.00072\n",
      "Feature: 29, Score: -0.00078\n",
      "Feature: 30, Score: 0.00026\n",
      "Feature: 31, Score: 0.00026\n",
      "Feature: 32, Score: 0.00037\n",
      "Feature: 33, Score: 0.00026\n",
      "Feature: 34, Score: -0.00160\n",
      "Feature: 35, Score: 0.00001\n",
      "Feature: 36, Score: 0.00000\n",
      "Feature: 37, Score: 0.00000\n",
      "Feature: 38, Score: 0.00000\n",
      "Feature: 39, Score: 0.00000\n",
      "Feature: 40, Score: -0.00348\n",
      "Feature: 41, Score: 0.00005\n",
      "Feature: 42, Score: -0.00352\n",
      "Feature: 43, Score: 0.00006\n",
      "Feature: 44, Score: 0.00001\n",
      "Feature: 45, Score: 0.00001\n",
      "Feature: 46, Score: -0.00631\n",
      "Feature: 47, Score: -0.00631\n",
      "Feature: 48, Score: 0.00077\n",
      "Feature: 49, Score: 0.00001\n",
      "Feature: 50, Score: -0.00000\n",
      "Feature: 51, Score: 0.00003\n",
      "Feature: 52, Score: 0.00097\n",
      "Feature: 53, Score: 0.00012\n",
      "Feature: 54, Score: 0.00000\n",
      "Feature: 55, Score: -0.00000\n",
      "Feature: 56, Score: -0.00329\n",
      "Feature: 57, Score: 0.00001\n",
      "Feature: 58, Score: 0.00001\n",
      "Feature: 59, Score: -0.00340\n",
      "Feature: 60, Score: 0.00000\n",
      "Feature: 61, Score: 0.00000\n",
      "Feature: 62, Score: 0.00000\n",
      "Feature: 63, Score: 0.00000\n",
      "Feature: 64, Score: 0.00001\n",
      "Feature: 65, Score: 0.00001\n",
      "Feature: 66, Score: 0.00001\n",
      "Feature: 67, Score: 0.00000\n",
      "Feature: 68, Score: 0.00001\n",
      "Feature: 69, Score: -0.00336\n",
      "Feature: 70, Score: -0.00338\n",
      "Feature: 71, Score: 0.00113\n",
      "Feature: 72, Score: 0.00006\n",
      "Feature: 73, Score: 0.00010\n",
      "Feature: 74, Score: 0.00000\n",
      "Feature: 75, Score: -0.00004\n",
      "Feature: 76, Score: -0.00004\n",
      "Feature: 77, Score: -0.00004\n",
      "Feature: 78, Score: -0.00004\n",
      "Feature: 79, Score: 0.00005\n",
      "Feature: 80, Score: 0.00008\n",
      "Feature: 81, Score: 0.00005\n",
      "Feature: 82, Score: 0.00005\n"
     ]
    },
    {
     "data": {
      "text/plain": "<Figure size 432x288 with 1 Axes>",
      "image/png": "[encoded data removed]"
     },
     "metadata": {
      "needs_background": "light"
     },
     "output_type": "display_data"
    }
   ],
   "source": [
    "importance = importance['importances_mean']\n",
    "\n",
    "for i,v in enumerate(importance):\n",
    "    print('Feature: %0d, Score: %.5f' % (i, v))\n",
    "\n",
    "#plot feature importance\n",
    "plt.bar([x for x in range(len(importance))], importance)\n",
    "plt.show()"
   ],
   "metadata": {
    "collapsed": false
   }
  },
  {
   "cell_type": "markdown",
   "source": [
    "## K NEAREST NEIGHBORS\n",
    "\n",
    "### DATASET SBILANCIATO"
   ],
   "metadata": {
    "collapsed": false
   }
  },
  {
   "cell_type": "code",
   "execution_count": 16,
   "outputs": [
    {
     "name": "stdout",
     "output_type": "stream",
     "text": [
      "INIZIO ADDESTRAMENTO K NEAREST NEIGHBOR\n",
      "L'addestramento de k nearest neighbors ha impiegato 1.488893985748291 secondi\n",
      "SALVATAGGIO MODELLO IN ../exported_model/knn_unbalance.pkl\n"
     ]
    }
   ],
   "source": [
    "try:\n",
    "    with open(f\"{EXPORTED_MODEL}/knn_unbalance.pkl\", 'rb') as file:\n",
    "        print(\"CARICAMENTO MODELLO DA ../exported_model/knn_unbalance.pkl\")\n",
    "\n",
    "        knn_model = pkl.load(file)\n",
    "except IOError:\n",
    "    knn = KNeighborsClassifier()\n",
    "    start_time = time.time()\n",
    "\n",
    "    print(\"INIZIO ADDESTRAMENTO K NEAREST NEIGHBOR\")\n",
    "    knn_model = knn.fit(X_train, y_train)\n",
    "\n",
    "    print(f\"L'addestramento de k nearest neighbors ha impiegato {time.time() - start_time} secondi\")\n",
    "\n",
    "    print(\"SALVATAGGIO MODELLO IN ../exported_model/knn_unbalance.pkl\")\n",
    "    with open(f\"{EXPORTED_MODEL}/knn_unbalance.pkl\", 'wb') as file:\n",
    "        pkl.dump(knn_model, file)"
   ],
   "metadata": {
    "collapsed": false
   }
  },
  {
   "cell_type": "markdown",
   "source": [
    "#### VALUTAZIONE MODELLO"
   ],
   "metadata": {
    "collapsed": false
   }
  },
  {
   "cell_type": "code",
   "execution_count": null,
   "outputs": [],
   "source": [
    "print(f\"Precision in training phase: {knn_model.score(X_train, y_train)}\")\n",
    "print(f\"Precision in testing phase: {knn_model.score(X_test, y_test)}\")"
   ],
   "metadata": {
    "collapsed": false,
    "pycharm": {
     "is_executing": true
    }
   }
  },
  {
   "cell_type": "markdown",
   "source": [
    "#### FEATURES IMPORTANCE/DIMENSIONAL REDUCTION"
   ],
   "metadata": {
    "collapsed": false
   }
  },
  {
   "cell_type": "code",
   "execution_count": null,
   "outputs": [],
   "source": [
    "importance = permutation_importance(knn_model, X_train, y_train)"
   ],
   "metadata": {
    "collapsed": false,
    "pycharm": {
     "is_executing": true
    }
   }
  },
  {
   "cell_type": "code",
   "execution_count": null,
   "outputs": [],
   "source": [
    "importance = importance['importances_mean']\n",
    "\n",
    "for i,v in enumerate(importance):\n",
    "    print('Feature: %0d, Score: %.5f' % (i, v))\n",
    "\n",
    "#plot feature importance\n",
    "plt.bar([x for x in range(len(importance))], importance)\n",
    "plt.show()"
   ],
   "metadata": {
    "collapsed": false
   }
  },
  {
   "cell_type": "markdown",
   "source": [
    "### DATASET BILANCIATO"
   ],
   "metadata": {
    "collapsed": false
   }
  },
  {
   "cell_type": "code",
   "execution_count": 9,
   "outputs": [
    {
     "name": "stdout",
     "output_type": "stream",
     "text": [
      "INIZIO ADDESTRAMENTO K NEAREST NEIGHBORS\n",
      "L'addestramento de k nearest neighbors ha impiegato 1.1928479671478271 secondi\n",
      "SALVATAGGIO MODELLO IN ../exported_model/knn_balance.pkl\n"
     ]
    }
   ],
   "source": [
    "try:\n",
    "    with open(f\"{EXPORTED_MODEL}/knn_balance.pkl\", 'rb') as file:\n",
    "        print(\"CARICAMENTO MODELLO DA ../exported_model/knn_balance.pkl\")\n",
    "\n",
    "        knn_balance_model = pkl.load(file)\n",
    "except IOError:\n",
    "    knn = KNeighborsClassifier()\n",
    "    start_time = time.time()\n",
    "\n",
    "    print(\"INIZIO ADDESTRAMENTO K NEAREST NEIGHBORS\")\n",
    "    knn_balance_model = knn.fit(X_train, y_train)\n",
    "\n",
    "    print(f\"L'addestramento de k nearest neighbors ha impiegato {time.time() - start_time} secondi\")\n",
    "\n",
    "    print(\"SALVATAGGIO MODELLO IN ../exported_model/knn_balance.pkl\")\n",
    "    with open(f\"{EXPORTED_MODEL}/knn_balance.pkl\", 'wb') as file:\n",
    "        pkl.dump(knn_balance_model, file)"
   ],
   "metadata": {
    "collapsed": false
   }
  },
  {
   "cell_type": "markdown",
   "source": [
    "#### VALUTAZIONE MODELLO"
   ],
   "metadata": {
    "collapsed": false
   }
  },
  {
   "cell_type": "code",
   "execution_count": 7,
   "outputs": [
    {
     "name": "stdout",
     "output_type": "stream",
     "text": [
      "Precision in training phase: 0.9959928111067146\n",
      "Precision in testing phase(balance): 0.9864722895398821\n"
     ]
    }
   ],
   "source": [
    "print(f\"Precision in training phase: {knn_balance_model.score(X_train_balanced, y_train_balanced)}\")\n",
    "print(f\"Precision in testing phase(unbalance): {knn_model.score(X_test, y_test)}\")\n",
    "print(f\"Precision in testing phase(balance): {knn_balance_model.score(X_test_balanced, y_test_balanced)}\")"
   ],
   "metadata": {
    "collapsed": false
   }
  },
  {
   "cell_type": "markdown",
   "source": [
    "#### FEATURES IMPORTANCE/DIMENSIONAL REDUCTION"
   ],
   "metadata": {
    "collapsed": false
   }
  },
  {
   "cell_type": "code",
   "execution_count": null,
   "outputs": [],
   "source": [
    "importance = permutation_importance(knn_balance_model, X_train, y_train)"
   ],
   "metadata": {
    "collapsed": false
   }
  },
  {
   "cell_type": "code",
   "execution_count": null,
   "outputs": [],
   "source": [
    "importance = importance['importances_mean']\n",
    "\n",
    "for i,v in enumerate(importance):\n",
    "    print('Feature: %0d, Score: %.5f' % (i, v))\n",
    "\n",
    "#plot feature importance\n",
    "plt.bar([x for x in range(len(importance))], importance)\n",
    "plt.show()"
   ],
   "metadata": {
    "collapsed": false
   }
  },
  {
   "cell_type": "markdown",
   "source": [
    "## NEURAL TREE\n",
    "\n",
    "### DATASET SBILANCIATO"
   ],
   "metadata": {
    "collapsed": false
   }
  },
  {
   "cell_type": "code",
   "execution_count": null,
   "outputs": [],
   "source": [
    "try:\n",
    "    with open(f\"{EXPORTED_MODEL}/nt_unbalance.pkl\", 'rb') as file:\n",
    "        print(\"CARICAMENTO MODELLO DA ../exported_model/nt_unbalance.pkl\")\n",
    "\n",
    "        nt = NeuralTree.load_model(f\"{EXPORTED_MODEL}/nt_unbalance.pkl\")\n",
    "except IOError:\n",
    "    nt = NeuralTree(f\"{DATASET_PATH}/train.csv\", 5)\n",
    "    start_time = time.time()\n",
    "\n",
    "    print(\"INIZIO ADDESTRAMENTO NEURAL TREE\")\n",
    "    nt.train(250, 1)#fit(X_train_balanced, y_train_balanced)\n",
    "\n",
    "    print(f\"L'addestramento della bayesian network ha impiegato {time.time() - start_time} secondi\")\n",
    "\n",
    "    print(\"SALVATAGGIO MODELLO IN ../exported_model/nt_unbalance.pkl\")\n",
    "    nt.save_model(f\"{EXPORTED_MODEL}/nt_unbalance.pkl\")"
   ],
   "metadata": {
    "collapsed": false,
    "pycharm": {
     "is_executing": true
    }
   }
  },
  {
   "cell_type": "markdown",
   "source": [
    "### VALUTAZIONE MODELLO"
   ],
   "metadata": {
    "collapsed": false
   }
  },
  {
   "cell_type": "code",
   "execution_count": null,
   "outputs": [],
   "source": [
    "print(f\"Precision in training phase: {nt.score(X_train, y_train)}\")\n",
    "print(f\"Precision in testing phase: {nt.score(X_test, y_test)}\")"
   ],
   "metadata": {
    "collapsed": false
   }
  },
  {
   "cell_type": "markdown",
   "source": [
    "### FEATURES IMPORTANCE/DIMENSIONAL REDUCTION"
   ],
   "metadata": {
    "collapsed": false
   }
  },
  {
   "cell_type": "code",
   "execution_count": null,
   "outputs": [],
   "source": [
    "importance = permutation_importance(nt, X_train, y_train)"
   ],
   "metadata": {
    "collapsed": false
   }
  },
  {
   "cell_type": "code",
   "execution_count": null,
   "outputs": [],
   "source": [
    "importance = importance['importances_mean']\n",
    "\n",
    "for i,v in enumerate(importance):\n",
    "    print('Feature: %0d, Score: %.5f' % (i, v))\n",
    "\n",
    "#plot feature importance\n",
    "plt.bar([x for x in range(len(importance))], importance)\n",
    "plt.show()"
   ],
   "metadata": {
    "collapsed": false
   }
  },
  {
   "cell_type": "markdown",
   "source": [
    "### DATASET BILANCIATO"
   ],
   "metadata": {
    "collapsed": false
   }
  },
  {
   "cell_type": "code",
   "execution_count": null,
   "outputs": [],
   "source": [
    "try:\n",
    "    with open(f\"{EXPORTED_MODEL}/nt_balance.pkl\", 'rb') as file:\n",
    "        print(\"CARICAMENTO MODELLO DA ../exported_model/nt_balance.pkl\")\n",
    "\n",
    "        nt_balance_model = NeuralTree.load_model(f\"{EXPORTED_MODEL}/nt_balance.pkl\")\n",
    "except IOError:\n",
    "    nt = NeuralTree(f\"{DATASET_PATH}/balanced_train.csv\", 5)\n",
    "    start_time = time.time()\n",
    "\n",
    "    print(\"INIZIO ADDESTRAMENTO NEURAL TREE\")\n",
    "    nt_balance_model = nt.train(500, 0)#fit(X_train_balanced, y_train_balanced)\n",
    "\n",
    "    print(f\"L'addestramento della bayesian network ha impiegato {time.time() - start_time} secondi\")\n",
    "\n",
    "    print(\"SALVATAGGIO MODELLO IN ../exported_model/nt_unbalance.pkl\")\n",
    "    nt_balance_model.save_model(f\"{EXPORTED_MODEL}/nt_balance.pkl\")"
   ],
   "metadata": {
    "collapsed": false,
    "pycharm": {
     "is_executing": true
    }
   }
  },
  {
   "cell_type": "markdown",
   "source": [
    "### VALUTAZIONE MODELLO"
   ],
   "metadata": {
    "collapsed": false
   }
  },
  {
   "cell_type": "code",
   "execution_count": null,
   "outputs": [],
   "source": [
    "print(f\"Precision in training phase: {nt_balance_model.score(X_train_balanced, y_train_balanced)}\")\n",
    "print(f\"Precision in testing phase(unbalance): {nt.score(X_test, y_test)}\")\n",
    "print(f\"Precision in testing phase(balance): {nt_balance_model.score(X_test_balanced, y_test_balanced)}\")"
   ],
   "metadata": {
    "collapsed": false
   }
  },
  {
   "cell_type": "markdown",
   "source": [
    "### FEATURES IMPORTANCE/DIMENSIONAL REDUCTION"
   ],
   "metadata": {
    "collapsed": false
   }
  },
  {
   "cell_type": "code",
   "execution_count": null,
   "outputs": [],
   "source": [
    "importance = permutation_importance(nt_balance_model, X_train, y_train)"
   ],
   "metadata": {
    "collapsed": false
   }
  },
  {
   "cell_type": "code",
   "execution_count": null,
   "outputs": [],
   "source": [
    "importance = importance['importances_mean']\n",
    "\n",
    "for i,v in enumerate(importance):\n",
    "    print('Feature: %0d, Score: %.5f' % (i, v))\n",
    "\n",
    "#plot feature importance\n",
    "plt.bar([x for x in range(len(importance))], importance)\n",
    "plt.show()"
   ],
   "metadata": {
    "collapsed": false
   }
  },
  {
   "cell_type": "markdown",
   "source": [
    "# VALUTAZIONE DEL MODELLO\n",
    "Questa sessione è dedicata all'analisi dei risultati ottenuti dall'analisi dei modelli ottenuti"
   ],
   "metadata": {
    "collapsed": false
   }
  },
  {
   "cell_type": "code",
   "execution_count": 9,
   "outputs": [],
   "source": [
    "target_names = ['BENIGN', 'MALWARE']"
   ],
   "metadata": {
    "collapsed": false
   }
  },
  {
   "cell_type": "markdown",
   "source": [
    "## DECISION TREE\n",
    "\n",
    "### DATASET SBILANCIATO\n",
    "\n",
    "L'addestramento del decision tree ha impiegato 39,33 secondi."
   ],
   "metadata": {
    "collapsed": false
   }
  },
  {
   "cell_type": "code",
   "execution_count": 10,
   "outputs": [],
   "source": [
    "with open(f\"{EXPORTED_MODEL}/dt_unbalance.pkl\", 'rb') as file:\n",
    "    dt = pkl.load(file)\n",
    "\n",
    "train_pred = dt.predict(X_train)\n",
    "test_pred = dt.predict(X_test)"
   ],
   "metadata": {
    "collapsed": false
   }
  },
  {
   "cell_type": "markdown",
   "source": [
    "Il modello in fase di training ha ottenuto le seguenti performance"
   ],
   "metadata": {
    "collapsed": false
   }
  },
  {
   "cell_type": "code",
   "execution_count": 11,
   "outputs": [
    {
     "name": "stdout",
     "output_type": "stream",
     "text": [
      "              precision    recall  f1-score   support\n",
      "\n",
      "      BENIGN       1.00      1.00      1.00   1114497\n",
      "     MALWARE       1.00      1.00      1.00     66355\n",
      "\n",
      "    accuracy                           1.00   1180852\n",
      "   macro avg       1.00      1.00      1.00   1180852\n",
      "weighted avg       1.00      1.00      1.00   1180852\n",
      "\n"
     ]
    }
   ],
   "source": [
    "print(classification_report(y_train, train_pred, target_names=target_names))"
   ],
   "metadata": {
    "collapsed": false
   }
  },
  {
   "cell_type": "code",
   "execution_count": 35,
   "outputs": [
    {
     "data": {
      "text/plain": "<sklearn.metrics._plot.confusion_matrix.ConfusionMatrixDisplay at 0x2cd9e5640>"
     },
     "execution_count": 35,
     "metadata": {},
     "output_type": "execute_result"
    },
    {
     "data": {
      "text/plain": "<Figure size 432x288 with 1 Axes>",
      "image/png": "[encoded data removed]"
     },
     "metadata": {
      "needs_background": "light"
     },
     "output_type": "display_data"
    }
   ],
   "source": [
    "ConfusionMatrixDisplay(confusion_matrix(y_train, train_pred),\n",
    "                       display_labels=target_names).plot(cmap=\"Greens\", colorbar=False, values_format='')"
   ],
   "metadata": {
    "collapsed": false
   }
  },
  {
   "cell_type": "markdown",
   "source": [
    "Il modello in fase di testing ha ottenuto le seguenti performance"
   ],
   "metadata": {
    "collapsed": false
   }
  },
  {
   "cell_type": "code",
   "execution_count": 39,
   "outputs": [
    {
     "name": "stdout",
     "output_type": "stream",
     "text": [
      "              precision    recall  f1-score   support\n",
      "\n",
      "      BENIGN       1.00      1.00      1.00    477834\n",
      "     MALWARE       1.00      1.00      1.00     28246\n",
      "\n",
      "    accuracy                           1.00    506080\n",
      "   macro avg       1.00      1.00      1.00    506080\n",
      "weighted avg       1.00      1.00      1.00    506080\n",
      "\n"
     ]
    }
   ],
   "source": [
    "print(classification_report(y_test, test_pred, target_names=target_names))"
   ],
   "metadata": {
    "collapsed": false
   }
  },
  {
   "cell_type": "code",
   "execution_count": 36,
   "outputs": [
    {
     "data": {
      "text/plain": "<sklearn.metrics._plot.confusion_matrix.ConfusionMatrixDisplay at 0x2cc2bfe80>"
     },
     "execution_count": 36,
     "metadata": {},
     "output_type": "execute_result"
    },
    {
     "data": {
      "text/plain": "<Figure size 432x288 with 1 Axes>",
      "image/png": "[encoded data removed]"
     },
     "metadata": {
      "needs_background": "light"
     },
     "output_type": "display_data"
    }
   ],
   "source": [
    "ConfusionMatrixDisplay(confusion_matrix(y_test, test_pred),\n",
    "                       display_labels=target_names).plot(cmap=\"Greens\", colorbar=False)"
   ],
   "metadata": {
    "collapsed": false
   }
  },
  {
   "cell_type": "markdown",
   "source": [
    "### DATASET BILANCIATO\n",
    "\n",
    "L'addestramento del decision tree ha impiegato 51,38 secondi."
   ],
   "metadata": {
    "collapsed": false
   }
  },
  {
   "cell_type": "code",
   "execution_count": 63,
   "outputs": [],
   "source": [
    "with open(f\"{EXPORTED_MODEL}/dt_balance.pkl\", 'rb') as file:\n",
    "    dt = pkl.load(file)\n",
    "\n",
    "train_pred = dt.predict(X_train_balanced)\n",
    "test_pred = dt.predict(X_test_balanced)"
   ],
   "metadata": {
    "collapsed": false
   }
  },
  {
   "cell_type": "markdown",
   "source": [
    "Il modello in fase di training ha ottenuto le seguenti performance"
   ],
   "metadata": {
    "collapsed": false
   }
  },
  {
   "cell_type": "code",
   "execution_count": 64,
   "outputs": [
    {
     "name": "stdout",
     "output_type": "stream",
     "text": [
      "              precision    recall  f1-score   support\n",
      "\n",
      "      BENIGN       1.00      1.00      1.00   1114497\n",
      "     MALWARE       1.00      1.00      1.00   1114497\n",
      "\n",
      "    accuracy                           1.00   2228994\n",
      "   macro avg       1.00      1.00      1.00   2228994\n",
      "weighted avg       1.00      1.00      1.00   2228994\n",
      "\n"
     ]
    }
   ],
   "source": [
    "print(classification_report(y_train_balanced, train_pred, target_names=target_names))"
   ],
   "metadata": {
    "collapsed": false
   }
  },
  {
   "cell_type": "code",
   "execution_count": 65,
   "outputs": [
    {
     "data": {
      "text/plain": "<sklearn.metrics._plot.confusion_matrix.ConfusionMatrixDisplay at 0x297617ac0>"
     },
     "execution_count": 65,
     "metadata": {},
     "output_type": "execute_result"
    },
    {
     "data": {
      "text/plain": "<Figure size 432x288 with 1 Axes>",
      "image/png": "[encoded data removed]"
     },
     "metadata": {
      "needs_background": "light"
     },
     "output_type": "display_data"
    }
   ],
   "source": [
    "ConfusionMatrixDisplay(confusion_matrix(y_train_balanced, train_pred),\n",
    "                       display_labels=target_names).plot(cmap=\"Reds\", colorbar=False, values_format='')"
   ],
   "metadata": {
    "collapsed": false
   }
  },
  {
   "cell_type": "markdown",
   "source": [
    "Il modello in fase di testing ha ottenuto le seguenti performance"
   ],
   "metadata": {
    "collapsed": false
   }
  },
  {
   "cell_type": "code",
   "execution_count": 53,
   "outputs": [
    {
     "name": "stdout",
     "output_type": "stream",
     "text": [
      "              precision    recall  f1-score   support\n",
      "\n",
      "      BENIGN       1.00      1.00      1.00    477834\n",
      "     MALWARE       1.00      1.00      1.00    477834\n",
      "\n",
      "    accuracy                           1.00    955668\n",
      "   macro avg       1.00      1.00      1.00    955668\n",
      "weighted avg       1.00      1.00      1.00    955668\n",
      "\n"
     ]
    }
   ],
   "source": [
    "print(classification_report(y_test_balanced, test_pred, target_names=target_names))"
   ],
   "metadata": {
    "collapsed": false
   }
  },
  {
   "cell_type": "code",
   "execution_count": 66,
   "outputs": [
    {
     "data": {
      "text/plain": "<sklearn.metrics._plot.confusion_matrix.ConfusionMatrixDisplay at 0x2943b0040>"
     },
     "execution_count": 66,
     "metadata": {},
     "output_type": "execute_result"
    },
    {
     "data": {
      "text/plain": "<Figure size 432x288 with 1 Axes>",
      "image/png": "[encoded data removed]"
     },
     "metadata": {
      "needs_background": "light"
     },
     "output_type": "display_data"
    }
   ],
   "source": [
    "ConfusionMatrixDisplay(confusion_matrix(y_test_balanced, test_pred),\n",
    "                       display_labels=target_names).plot(cmap=\"Reds\", colorbar=False)"
   ],
   "metadata": {
    "collapsed": false
   }
  },
  {
   "cell_type": "code",
   "execution_count": 67,
   "outputs": [],
   "source": [
    "del dt"
   ],
   "metadata": {
    "collapsed": false
   }
  },
  {
   "cell_type": "markdown",
   "source": [
    "## RANDOM FOREST\n",
    "\n",
    "### DATASET SBILANCIATO\n",
    "\n",
    "L'addestramento della random forest ha impiegato 297,64 secondi."
   ],
   "metadata": {
    "collapsed": false
   }
  },
  {
   "cell_type": "code",
   "execution_count": 68,
   "outputs": [],
   "source": [
    "with open(f\"{EXPORTED_MODEL}/rf_unbalance.pkl\", 'rb') as file:\n",
    "    rf = pkl.load(file)\n",
    "\n",
    "train_pred = rf.predict(X_train)\n",
    "test_pred = rf.predict(X_test)"
   ],
   "metadata": {
    "collapsed": false
   }
  },
  {
   "cell_type": "markdown",
   "source": [
    "Il modello in fase di training ha ottenuto le seguenti performance"
   ],
   "metadata": {
    "collapsed": false
   }
  },
  {
   "cell_type": "code",
   "execution_count": 57,
   "outputs": [
    {
     "name": "stdout",
     "output_type": "stream",
     "text": [
      "              precision    recall  f1-score   support\n",
      "\n",
      "      BENIGN       1.00      1.00      1.00   1114497\n",
      "     MALWARE       1.00      1.00      1.00     66355\n",
      "\n",
      "    accuracy                           1.00   1180852\n",
      "   macro avg       1.00      1.00      1.00   1180852\n",
      "weighted avg       1.00      1.00      1.00   1180852\n",
      "\n"
     ]
    }
   ],
   "source": [
    "print(classification_report(y_train, train_pred, target_names=target_names))"
   ],
   "metadata": {
    "collapsed": false
   }
  },
  {
   "cell_type": "code",
   "execution_count": 45,
   "outputs": [
    {
     "data": {
      "text/plain": "<sklearn.metrics._plot.confusion_matrix.ConfusionMatrixDisplay at 0x297c1bf10>"
     },
     "execution_count": 45,
     "metadata": {},
     "output_type": "execute_result"
    },
    {
     "data": {
      "text/plain": "<Figure size 432x288 with 1 Axes>",
      "image/png": "[encoded data removed]"
     },
     "metadata": {
      "needs_background": "light"
     },
     "output_type": "display_data"
    }
   ],
   "source": [
    "ConfusionMatrixDisplay(confusion_matrix(y_train, train_pred),\n",
    "                       display_labels=target_names).plot(cmap=\"Greens\", colorbar=False, values_format='')"
   ],
   "metadata": {
    "collapsed": false
   }
  },
  {
   "cell_type": "markdown",
   "source": [
    "Il modello in fase di testing ha ottenuto le seguenti performance"
   ],
   "metadata": {
    "collapsed": false
   }
  },
  {
   "cell_type": "code",
   "execution_count": 62,
   "outputs": [
    {
     "name": "stdout",
     "output_type": "stream",
     "text": [
      "              precision    recall  f1-score   support\n",
      "\n",
      "      BENIGN       1.00      1.00      1.00    477834\n",
      "     MALWARE       1.00      1.00      1.00     28246\n",
      "\n",
      "    accuracy                           1.00    506080\n",
      "   macro avg       1.00      1.00      1.00    506080\n",
      "weighted avg       1.00      1.00      1.00    506080\n",
      "\n"
     ]
    }
   ],
   "source": [
    "print(classification_report(y_test, test_pred, target_names=target_names))"
   ],
   "metadata": {
    "collapsed": false
   }
  },
  {
   "cell_type": "code",
   "execution_count": 46,
   "outputs": [
    {
     "data": {
      "text/plain": "<sklearn.metrics._plot.confusion_matrix.ConfusionMatrixDisplay at 0x2cc32cc70>"
     },
     "execution_count": 46,
     "metadata": {},
     "output_type": "execute_result"
    },
    {
     "data": {
      "text/plain": "<Figure size 432x288 with 1 Axes>",
      "image/png": "[encoded data removed]"
     },
     "metadata": {
      "needs_background": "light"
     },
     "output_type": "display_data"
    }
   ],
   "source": [
    "ConfusionMatrixDisplay(confusion_matrix(y_test, test_pred),\n",
    "                       display_labels=target_names).plot(cmap=\"Greens\", colorbar=False)"
   ],
   "metadata": {
    "collapsed": false
   }
  },
  {
   "cell_type": "markdown",
   "source": [
    "### DATASET BILANCIATO\n",
    "\n",
    "L'addestramento della random forest ha impiegato 447,96 secondi."
   ],
   "metadata": {
    "collapsed": false
   }
  },
  {
   "cell_type": "code",
   "execution_count": 69,
   "outputs": [],
   "source": [
    "with open(f\"{EXPORTED_MODEL}/rf_balance.pkl\", 'rb') as file:\n",
    "    rf = pkl.load(file)\n",
    "\n",
    "train_pred = rf.predict(X_train_balanced)\n",
    "test_pred = rf.predict(X_test_balanced)"
   ],
   "metadata": {
    "collapsed": false
   }
  },
  {
   "cell_type": "markdown",
   "source": [
    "Il modello in fase di training ha ottenuto le seguenti performance"
   ],
   "metadata": {
    "collapsed": false
   }
  },
  {
   "cell_type": "code",
   "execution_count": 66,
   "outputs": [
    {
     "name": "stdout",
     "output_type": "stream",
     "text": [
      "              precision    recall  f1-score   support\n",
      "\n",
      "      BENIGN       1.00      1.00      1.00   1114497\n",
      "     MALWARE       1.00      1.00      1.00   1114497\n",
      "\n",
      "    accuracy                           1.00   2228994\n",
      "   macro avg       1.00      1.00      1.00   2228994\n",
      "weighted avg       1.00      1.00      1.00   2228994\n",
      "\n"
     ]
    }
   ],
   "source": [
    "print(classification_report(y_train_balanced, train_pred, target_names=target_names))"
   ],
   "metadata": {
    "collapsed": false
   }
  },
  {
   "cell_type": "code",
   "execution_count": 70,
   "outputs": [
    {
     "data": {
      "text/plain": "<sklearn.metrics._plot.confusion_matrix.ConfusionMatrixDisplay at 0x297677fa0>"
     },
     "execution_count": 70,
     "metadata": {},
     "output_type": "execute_result"
    },
    {
     "data": {
      "text/plain": "<Figure size 432x288 with 1 Axes>",
      "image/png": "[encoded data removed]"
     },
     "metadata": {
      "needs_background": "light"
     },
     "output_type": "display_data"
    }
   ],
   "source": [
    "ConfusionMatrixDisplay(confusion_matrix(y_train_balanced, train_pred),\n",
    "                       display_labels=target_names).plot(cmap=\"Reds\", colorbar=False, values_format='')"
   ],
   "metadata": {
    "collapsed": false
   }
  },
  {
   "cell_type": "markdown",
   "source": [
    "Il modello in fase di testing ha ottenuto le seguenti performance"
   ],
   "metadata": {
    "collapsed": false
   }
  },
  {
   "cell_type": "code",
   "execution_count": 68,
   "outputs": [
    {
     "name": "stdout",
     "output_type": "stream",
     "text": [
      "              precision    recall  f1-score   support\n",
      "\n",
      "      BENIGN       1.00      1.00      1.00    477834\n",
      "     MALWARE       1.00      1.00      1.00    477834\n",
      "\n",
      "    accuracy                           1.00    955668\n",
      "   macro avg       1.00      1.00      1.00    955668\n",
      "weighted avg       1.00      1.00      1.00    955668\n",
      "\n"
     ]
    }
   ],
   "source": [
    "print(classification_report(y_test_balanced, test_pred, target_names=target_names))"
   ],
   "metadata": {
    "collapsed": false
   }
  },
  {
   "cell_type": "code",
   "execution_count": 71,
   "outputs": [
    {
     "data": {
      "text/plain": "<sklearn.metrics._plot.confusion_matrix.ConfusionMatrixDisplay at 0x297c71d30>"
     },
     "execution_count": 71,
     "metadata": {},
     "output_type": "execute_result"
    },
    {
     "data": {
      "text/plain": "<Figure size 432x288 with 1 Axes>",
      "image/png": "[encoded data removed]"
     },
     "metadata": {
      "needs_background": "light"
     },
     "output_type": "display_data"
    }
   ],
   "source": [
    "ConfusionMatrixDisplay(confusion_matrix(y_test_balanced, test_pred),\n",
    "                       display_labels=target_names).plot(cmap=\"Reds\", colorbar=False)"
   ],
   "metadata": {
    "collapsed": false
   }
  },
  {
   "cell_type": "code",
   "execution_count": 72,
   "outputs": [],
   "source": [
    "del rf"
   ],
   "metadata": {
    "collapsed": false
   }
  },
  {
   "cell_type": "markdown",
   "source": [
    "## K NEAREST NEIGHBORS\n",
    "\n",
    "### DATASET SBILANCIATO\n",
    "\n",
    "L'addestramento della knn ha impiegato 1,49 secondi."
   ],
   "metadata": {
    "collapsed": false
   }
  },
  {
   "cell_type": "code",
   "execution_count": 56,
   "outputs": [],
   "source": [
    "with open(f\"{EXPORTED_MODEL}/knn_unbalance.pkl\", 'rb') as file:\n",
    "    knn = pkl.load(file)\n",
    "\n",
    "train_pred = knn.predict(X_train)\n",
    "test_pred = knn.predict(X_test)"
   ],
   "metadata": {
    "collapsed": false
   }
  },
  {
   "cell_type": "markdown",
   "source": [
    "Il modello in fase di training ha ottenuto le seguenti performance"
   ],
   "metadata": {
    "collapsed": false
   }
  },
  {
   "cell_type": "code",
   "execution_count": 57,
   "outputs": [
    {
     "name": "stdout",
     "output_type": "stream",
     "text": [
      "              precision    recall  f1-score   support\n",
      "\n",
      "      BENIGN       1.00      1.00      1.00   1114497\n",
      "     MALWARE       0.97      0.96      0.96     66355\n",
      "\n",
      "    accuracy                           1.00   1180852\n",
      "   macro avg       0.98      0.98      0.98   1180852\n",
      "weighted avg       1.00      1.00      1.00   1180852\n",
      "\n"
     ]
    }
   ],
   "source": [
    "print(classification_report(y_train, train_pred, target_names=target_names))"
   ],
   "metadata": {
    "collapsed": false
   }
  },
  {
   "cell_type": "code",
   "execution_count": 58,
   "outputs": [
    {
     "data": {
      "text/plain": "<sklearn.metrics._plot.confusion_matrix.ConfusionMatrixDisplay at 0x2944e0bb0>"
     },
     "execution_count": 58,
     "metadata": {},
     "output_type": "execute_result"
    },
    {
     "data": {
      "text/plain": "<Figure size 432x288 with 1 Axes>",
      "image/png": "[encoded data removed]"
     },
     "metadata": {
      "needs_background": "light"
     },
     "output_type": "display_data"
    }
   ],
   "source": [
    "ConfusionMatrixDisplay(confusion_matrix(y_train, train_pred),\n",
    "                       display_labels=target_names).plot(cmap=\"Greens\", colorbar=False, values_format='')"
   ],
   "metadata": {
    "collapsed": false
   }
  },
  {
   "cell_type": "markdown",
   "source": [
    "Il modello in fase di testing ha ottenuto le seguenti performance"
   ],
   "metadata": {
    "collapsed": false
   }
  },
  {
   "cell_type": "code",
   "execution_count": 74,
   "outputs": [
    {
     "name": "stdout",
     "output_type": "stream",
     "text": [
      "              precision    recall  f1-score   support\n",
      "\n",
      "      BENIGN       1.00      1.00      1.00    477834\n",
      "     MALWARE       0.95      0.95      0.95     28246\n",
      "\n",
      "    accuracy                           0.99    506080\n",
      "   macro avg       0.98      0.97      0.97    506080\n",
      "weighted avg       0.99      0.99      0.99    506080\n",
      "\n"
     ]
    }
   ],
   "source": [
    "print(classification_report(y_test, test_pred, target_names=target_names))"
   ],
   "metadata": {
    "collapsed": false
   }
  },
  {
   "cell_type": "code",
   "execution_count": 59,
   "outputs": [
    {
     "data": {
      "text/plain": "<sklearn.metrics._plot.confusion_matrix.ConfusionMatrixDisplay at 0x294522fd0>"
     },
     "execution_count": 59,
     "metadata": {},
     "output_type": "execute_result"
    },
    {
     "data": {
      "text/plain": "<Figure size 432x288 with 1 Axes>",
      "image/png": "[encoded data removed]"
     },
     "metadata": {
      "needs_background": "light"
     },
     "output_type": "display_data"
    }
   ],
   "source": [
    "ConfusionMatrixDisplay(confusion_matrix(y_test, test_pred),\n",
    "                       display_labels=target_names).plot(cmap=\"Greens\", colorbar=False)"
   ],
   "metadata": {
    "collapsed": false
   }
  },
  {
   "cell_type": "markdown",
   "source": [
    "### DATASET BILANCIATO\n",
    "\n",
    "L'addestramento della knn ha impiegato 1,19 secondi."
   ],
   "metadata": {
    "collapsed": false
   }
  },
  {
   "cell_type": "code",
   "execution_count": 73,
   "outputs": [],
   "source": [
    "with open(f\"{EXPORTED_MODEL}/knn_balance.pkl\", 'rb') as file:\n",
    "    knn = pkl.load(file)\n",
    "\n",
    "train_pred = knn.predict(X_train_balanced)\n",
    "test_pred = knn.predict(X_test_balanced)"
   ],
   "metadata": {
    "collapsed": false
   }
  },
  {
   "cell_type": "markdown",
   "source": [
    "Il modello in fase di training ha ottenuto le seguenti performance"
   ],
   "metadata": {
    "collapsed": false
   }
  },
  {
   "cell_type": "code",
   "execution_count": 74,
   "outputs": [
    {
     "name": "stdout",
     "output_type": "stream",
     "text": [
      "              precision    recall  f1-score   support\n",
      "\n",
      "      BENIGN       0.96      1.00      0.98   1114497\n",
      "     MALWARE       1.00      0.96      0.98   1114497\n",
      "\n",
      "    accuracy                           0.98   2228994\n",
      "   macro avg       0.98      0.98      0.98   2228994\n",
      "weighted avg       0.98      0.98      0.98   2228994\n",
      "\n"
     ]
    }
   ],
   "source": [
    "print(classification_report(y_train_balanced, train_pred, target_names=target_names))"
   ],
   "metadata": {
    "collapsed": false
   }
  },
  {
   "cell_type": "code",
   "execution_count": 75,
   "outputs": [
    {
     "data": {
      "text/plain": "<sklearn.metrics._plot.confusion_matrix.ConfusionMatrixDisplay at 0x2cc3690d0>"
     },
     "execution_count": 75,
     "metadata": {},
     "output_type": "execute_result"
    },
    {
     "data": {
      "text/plain": "<Figure size 432x288 with 1 Axes>",
      "image/png": "[encoded data removed]"
     },
     "metadata": {
      "needs_background": "light"
     },
     "output_type": "display_data"
    }
   ],
   "source": [
    "ConfusionMatrixDisplay(confusion_matrix(y_train_balanced, train_pred),\n",
    "                       display_labels=target_names).plot(cmap=\"Reds\", colorbar=False, values_format='')"
   ],
   "metadata": {
    "collapsed": false
   }
  },
  {
   "cell_type": "markdown",
   "source": [
    "Il modello in fase di testing ha ottenuto le seguenti performance"
   ],
   "metadata": {
    "collapsed": false
   }
  },
  {
   "cell_type": "code",
   "execution_count": 76,
   "outputs": [
    {
     "name": "stdout",
     "output_type": "stream",
     "text": [
      "              precision    recall  f1-score   support\n",
      "\n",
      "      BENIGN       0.95      1.00      0.97    477834\n",
      "     MALWARE       1.00      0.95      0.97    477834\n",
      "\n",
      "    accuracy                           0.97    955668\n",
      "   macro avg       0.97      0.97      0.97    955668\n",
      "weighted avg       0.97      0.97      0.97    955668\n",
      "\n"
     ]
    }
   ],
   "source": [
    "print(classification_report(y_test_balanced, test_pred, target_names=target_names))"
   ],
   "metadata": {
    "collapsed": false
   }
  },
  {
   "cell_type": "code",
   "execution_count": 77,
   "outputs": [
    {
     "data": {
      "text/plain": "<sklearn.metrics._plot.confusion_matrix.ConfusionMatrixDisplay at 0x2977a4520>"
     },
     "execution_count": 77,
     "metadata": {},
     "output_type": "execute_result"
    },
    {
     "data": {
      "text/plain": "<Figure size 432x288 with 1 Axes>",
      "image/png": "[encoded data removed]"
     },
     "metadata": {
      "needs_background": "light"
     },
     "output_type": "display_data"
    }
   ],
   "source": [
    "ConfusionMatrixDisplay(confusion_matrix(y_test_balanced, test_pred),\n",
    "                       display_labels=target_names).plot(cmap=\"Reds\", colorbar=False)"
   ],
   "metadata": {
    "collapsed": false
   }
  },
  {
   "cell_type": "markdown",
   "source": [
    "## NEURAL TREE\n",
    "\n",
    "### DATASET SBILANCIATO\n",
    "\n",
    "L'addestramento del neural tree ha impiegato *da calcolare* secondi."
   ],
   "metadata": {
    "collapsed": false
   }
  },
  {
   "cell_type": "code",
   "execution_count": null,
   "outputs": [],
   "source": [
    "nt = NeuralTree.load_model(f\"{EXPORTED_MODEL}/nt_unbalance.pkl\")\n",
    "\n",
    "train_pred = nt.make_predictions(X_train, verbose=1)\n",
    "test_pred = nt.make_predictions(X_test, verbose=1)"
   ],
   "metadata": {
    "collapsed": false
   }
  },
  {
   "cell_type": "markdown",
   "source": [
    "Il modello in fase di training ha ottenuto le seguenti performance"
   ],
   "metadata": {
    "collapsed": false
   }
  },
  {
   "cell_type": "code",
   "execution_count": null,
   "outputs": [],
   "source": [
    "print(classification_report(y_train, train_pred, target_names=target_names))"
   ],
   "metadata": {
    "collapsed": false
   }
  },
  {
   "cell_type": "code",
   "execution_count": null,
   "outputs": [],
   "source": [
    "ConfusionMatrixDisplay(confusion_matrix(y_train_balanced, train_pred),\n",
    "                       display_labels=target_names).plot(cmap=\"Greens\", colorbar=False)"
   ],
   "metadata": {
    "collapsed": false
   }
  },
  {
   "cell_type": "markdown",
   "source": [
    "Il modello in fase di testing ha ottenuto le seguenti performance"
   ],
   "metadata": {
    "collapsed": false
   }
  },
  {
   "cell_type": "code",
   "execution_count": null,
   "outputs": [],
   "source": [
    "print(classification_report(y_test, test_pred, target_names=target_names))"
   ],
   "metadata": {
    "collapsed": false
   }
  },
  {
   "cell_type": "code",
   "execution_count": null,
   "outputs": [],
   "source": [
    "ConfusionMatrixDisplay(confusion_matrix(y_test_balanced, test_pred),\n",
    "                       display_labels=target_names).plot(cmap=\"Greens\", colorbar=False)"
   ],
   "metadata": {
    "collapsed": false
   }
  },
  {
   "cell_type": "markdown",
   "source": [
    "### DATASET BILANCIATO\n",
    "\n",
    "L'addestramento del neural tree ha impiegato *da calcolare* secondi."
   ],
   "metadata": {
    "collapsed": false
   }
  },
  {
   "cell_type": "code",
   "execution_count": null,
   "outputs": [],
   "source": [
    "nt = NeuralTree.load_model(f\"{EXPORTED_MODEL}/nt_balance.pkl\")\n",
    "\n",
    "train_pred = nt.make_predictions(X_train, verbose=1)\n",
    "test_pred = nt.make_predictions(X_test, verbose=1)"
   ],
   "metadata": {
    "collapsed": false
   }
  },
  {
   "cell_type": "markdown",
   "source": [
    "Il modello in fase di training ha ottenuto le seguenti performance"
   ],
   "metadata": {
    "collapsed": false
   }
  },
  {
   "cell_type": "code",
   "execution_count": null,
   "outputs": [],
   "source": [
    "print(classification_report(y_train_balanced, train_pred, target_names=target_names))"
   ],
   "metadata": {
    "collapsed": false
   }
  },
  {
   "cell_type": "code",
   "execution_count": null,
   "outputs": [],
   "source": [
    "ConfusionMatrixDisplay(confusion_matrix(y_train_balanced, train_pred),\n",
    "                       display_labels=target_names).plot(cmap=\"Reds\", colorbar=False)"
   ],
   "metadata": {
    "collapsed": false
   }
  },
  {
   "cell_type": "markdown",
   "source": [
    "Il modello in fase di testing ha ottenuto le seguenti performance"
   ],
   "metadata": {
    "collapsed": false
   }
  },
  {
   "cell_type": "code",
   "execution_count": null,
   "outputs": [],
   "source": [
    "print(classification_report(y_test_balanced, test_pred, target_names=target_names))"
   ],
   "metadata": {
    "collapsed": false
   }
  },
  {
   "cell_type": "code",
   "execution_count": null,
   "outputs": [],
   "source": [
    "ConfusionMatrixDisplay(confusion_matrix(y_test_balanced, test_pred),\n",
    "                       display_labels=target_names).plot(cmap=\"Reds\", colorbar=False)"
   ],
   "metadata": {
    "collapsed": false
   }
  },
  {
   "cell_type": "markdown",
   "source": [
    "# VALUTAZIONE TEMPI DI PREVISIONE\n",
    "\n",
    "In questa sezione andremo a valutare quale degli algoritmi presi in considerazione risulta il più prestate nel momento della previsione.\n",
    "Per fare ciò prendiamo in considerazione il test set e vado a calcolare la media, trovando il tempo medio per eseguire una previsione.\n",
    "\n",
    "Questa fase viene ripetuta su dataset sbilanciato e bilanciato\n",
    "\n",
    "## DATASET SBILANCIATO"
   ],
   "metadata": {
    "collapsed": false
   }
  },
  {
   "cell_type": "code",
   "execution_count": 40,
   "outputs": [],
   "source": [
    "data = pd.read_csv(f\"{DATASET_PATH}/test.csv\", low_memory=False)\n",
    "\n",
    "X = data.loc[:, 'Src Ip': 'Idle Min']"
   ],
   "metadata": {
    "collapsed": false
   }
  },
  {
   "cell_type": "markdown",
   "source": [
    "### DECISION TREE"
   ],
   "metadata": {
    "collapsed": false
   }
  },
  {
   "cell_type": "code",
   "execution_count": 35,
   "outputs": [
    {
     "name": "stdout",
     "output_type": "stream",
     "text": [
      "Il tempo impiegato per la previsione per un singolo elemento, in media vale 4.931219650000815e-07 secondi\n"
     ]
    }
   ],
   "source": [
    "with open(f\"{EXPORTED_MODEL}/dt_unbalance.pkl\", 'rb') as file:\n",
    "    model = pkl.load(file)\n",
    "\n",
    "start_time = time.time()\n",
    "\n",
    "preds = model.predict(X)\n",
    "\n",
    "print(f\"Il tempo impiegato per la previsione per un singolo elemento, in media vale {(time.time() - start_time) / preds.shape[0]} secondi\")"
   ],
   "metadata": {
    "collapsed": false
   }
  },
  {
   "cell_type": "markdown",
   "source": [
    "### RANDOM FOREST"
   ],
   "metadata": {
    "collapsed": false
   }
  },
  {
   "cell_type": "code",
   "execution_count": 36,
   "outputs": [
    {
     "name": "stdout",
     "output_type": "stream",
     "text": [
      "Il tempo impiegato per la previsione per un singolo elemento, in media vale 5.8995609866868005e-06 secondi\n"
     ]
    }
   ],
   "source": [
    "with open(f\"{EXPORTED_MODEL}/rf_unbalance.pkl\", 'rb') as file:\n",
    "    model = pkl.load(file)\n",
    "\n",
    "start_time = time.time()\n",
    "\n",
    "preds = model.predict(X)\n",
    "\n",
    "print(f\"Il tempo impiegato per la previsione per un singolo elemento, in media vale {(time.time() - start_time) / preds.shape[0]} secondi\")"
   ],
   "metadata": {
    "collapsed": false
   }
  },
  {
   "cell_type": "markdown",
   "source": [
    "### K NEAREST NEIGHBORS"
   ],
   "metadata": {
    "collapsed": false
   }
  },
  {
   "cell_type": "code",
   "execution_count": 37,
   "outputs": [
    {
     "name": "stdout",
     "output_type": "stream",
     "text": [
      "Il tempo impiegato per la previsione per un singolo elemento, in media vale 0.0017623056137331897 secondi\n"
     ]
    }
   ],
   "source": [
    "with open(f\"{EXPORTED_MODEL}/knn_unbalance.pkl\", 'rb') as file:\n",
    "    model = pkl.load(file)\n",
    "\n",
    "start_time = time.time()\n",
    "\n",
    "preds = model.predict(X)\n",
    "\n",
    "print(f\"Il tempo impiegato per la previsione per un singolo elemento, in media vale {(time.time() - start_time) / preds.shape[0]} secondi\")"
   ],
   "metadata": {
    "collapsed": false
   }
  },
  {
   "cell_type": "markdown",
   "source": [
    "### NEURAL TREE"
   ],
   "metadata": {
    "collapsed": false
   }
  },
  {
   "cell_type": "code",
   "execution_count": null,
   "outputs": [],
   "source": [
    "with open(f\"{EXPORTED_MODEL}/nt_unbalance.pkl\", 'rb') as file:\n",
    "    model = pkl.load(file)\n",
    "\n",
    "start_time = time.time()\n",
    "\n",
    "preds = model.make_predictions(X)\n",
    "\n",
    "print(f\"Il tempo impiegato per la previsione per un singolo elemento, in media vale {(time.time() - start_time) / preds.shape[0]} secondi\")"
   ],
   "metadata": {
    "collapsed": false
   }
  },
  {
   "cell_type": "markdown",
   "source": [
    "## DATASET BILANCIATO"
   ],
   "metadata": {
    "collapsed": false
   }
  },
  {
   "cell_type": "code",
   "execution_count": 38,
   "outputs": [],
   "source": [
    "data = pd.read_csv(f\"{DATASET_PATH}/balanced_test.csv\", low_memory=False)\n",
    "\n",
    "X = data.loc[:, 'Src Ip': 'Idle Min']"
   ],
   "metadata": {
    "collapsed": false
   }
  },
  {
   "cell_type": "markdown",
   "source": [
    "### DECISION TREE"
   ],
   "metadata": {
    "collapsed": false
   }
  },
  {
   "cell_type": "code",
   "execution_count": 45,
   "outputs": [
    {
     "name": "stdout",
     "output_type": "stream",
     "text": [
      "Il tempo impiegato per la previsione per un singolo elemento, in media vale 2.492804561956299e-07 secondi\n"
     ]
    }
   ],
   "source": [
    "with open(f\"{EXPORTED_MODEL}/dt_balance.pkl\", 'rb') as file:\n",
    "    model = pkl.load(file)\n",
    "\n",
    "start_time = time.time()\n",
    "\n",
    "preds = model.predict(X)\n",
    "\n",
    "print(f\"Il tempo impiegato per la previsione per un singolo elemento, in media vale {(time.time() - start_time) / preds.shape[0]} secondi\")"
   ],
   "metadata": {
    "collapsed": false
   }
  },
  {
   "cell_type": "markdown",
   "source": [
    "### RANDOM FOREST"
   ],
   "metadata": {
    "collapsed": false
   }
  },
  {
   "cell_type": "code",
   "execution_count": 47,
   "outputs": [
    {
     "name": "stdout",
     "output_type": "stream",
     "text": [
      "Il tempo impiegato per la previsione per un singolo elemento, in media vale 6.433208174167311e-06 secondi\n"
     ]
    }
   ],
   "source": [
    "with open(f\"{EXPORTED_MODEL}/rf_balance.pkl\", 'rb') as file:\n",
    "    model = pkl.load(file)\n",
    "\n",
    "start_time = time.time()\n",
    "\n",
    "preds = model.predict(X)\n",
    "\n",
    "print(f\"Il tempo impiegato per la previsione per un singolo elemento, in media vale {(time.time() - start_time) / preds.shape[0]} secondi\")"
   ],
   "metadata": {
    "collapsed": false
   }
  },
  {
   "cell_type": "markdown",
   "source": [
    "### K NEAREST NEIGHBORS"
   ],
   "metadata": {
    "collapsed": false
   }
  },
  {
   "cell_type": "code",
   "execution_count": 48,
   "outputs": [
    {
     "name": "stdout",
     "output_type": "stream",
     "text": [
      "Il tempo impiegato per la previsione per un singolo elemento, in media vale 0.001781343965262052 secondi\n"
     ]
    }
   ],
   "source": [
    "with open(f\"{EXPORTED_MODEL}/knn_balance.pkl\", 'rb') as file:\n",
    "    model = pkl.load(file)\n",
    "\n",
    "start_time = time.time()\n",
    "\n",
    "preds = model.predict(X)\n",
    "\n",
    "print(f\"Il tempo impiegato per la previsione per un singolo elemento, in media vale {(time.time() - start_time) / preds.shape[0]} secondi\")"
   ],
   "metadata": {
    "collapsed": false
   }
  },
  {
   "cell_type": "markdown",
   "source": [
    "### NEURAL TREE"
   ],
   "metadata": {
    "collapsed": false
   }
  },
  {
   "cell_type": "code",
   "execution_count": null,
   "outputs": [],
   "source": [
    "with open(f\"{EXPORTED_MODEL}/nt_balance.pkl\", 'rb') as file:\n",
    "    model = pkl.load(file)\n",
    "\n",
    "start_time = time.time()\n",
    "\n",
    "preds = model.make_predictions(X)\n",
    "\n",
    "print(f\"Il tempo impiegato per la previsione per un singolo elemento, in media vale {(time.time() - start_time) / preds.shape[0]} secondi\")"
   ],
   "metadata": {
    "collapsed": false
   }
  },
  {
   "cell_type": "code",
   "execution_count": null,
   "outputs": [],
   "source": [
    "del data, model"
   ],
   "metadata": {
    "collapsed": false
   }
  }
 ],
 "metadata": {
  "kernelspec": {
   "display_name": "Python 3",
   "language": "python",
   "name": "python3"
  },
  "language_info": {
   "codemirror_mode": {
    "name": "ipython",
    "version": 2
   },
   "file_extension": ".py",
   "mimetype": "text/x-python",
   "name": "python",
   "nbconvert_exporter": "python",
   "pygments_lexer": "ipython2",
   "version": "2.7.6"
  }
 },
 "nbformat": 4,
 "nbformat_minor": 0
}
