{
 "cells": [
  {
   "cell_type": "code",
   "execution_count": 1,
   "outputs": [],
   "source": [
    "#this chunk is necessary for importing correctly NeuralTree class in correct way\n",
    "import os\n",
    "import sys\n",
    "sys.path.insert(0, os.path.abspath('./model'))"
   ],
   "metadata": {
    "collapsed": false
   }
  },
  {
   "cell_type": "code",
   "execution_count": 2,
   "outputs": [],
   "source": [
    "import numpy as np\n",
    "import pandas as pd\n",
    "import os\n",
    "import matplotlib.pyplot as plt\n",
    "import time\n",
    "import pickle as pkl\n",
    "\n",
    "from sklearn.decomposition import PCA #features extraction\n",
    "from sklearn.model_selection import train_test_split\n",
    "from sklearn.preprocessing import StandardScaler #data standardization\n",
    "from sklearn.tree import DecisionTreeClassifier #decision tree\n",
    "from sklearn.tree import plot_tree #visualize a decision tree\n",
    "from sklearn.ensemble import RandomForestClassifier #random forest\n",
    "from sklearn.naive_bayes import GaussianNB, BernoulliNB #naive bayes\n",
    "from sklearn.neighbors import KNeighborsClassifier\n",
    "from sklearn.inspection import permutation_importance\n",
    "from sklearn.metrics import classification_report, confusion_matrix, ConfusionMatrixDisplay #model evaluation metrics\n",
    "\n",
    "from imblearn.over_sampling import SMOTE #package for using SMOTE for balance dataset\n",
    "\n",
    "from model.NeuralTree import NeuralTree\n",
    "\n",
    "%matplotlib inline"
   ],
   "metadata": {
    "collapsed": false
   }
  },
  {
   "cell_type": "code",
   "execution_count": 3,
   "outputs": [],
   "source": [
    "DATA_PATH_MALWARE = \"../csv/malware\"\n",
    "DATA_PATH_GOODWARE = \"../csv/goodware\"\n",
    "DATASET_PATH = \"../csv\"\n",
    "EXPORTED_MODEL = \"../exported_model\"\n",
    "col_names = ['Source IP', 'Source Port', 'Destination IP', 'Destination Port', 'Protocol', 'Timestamp',\n",
    "             'Flow Duration', 'Total Fwd Packets', 'Total Backward Packets', 'Total Length of Fwd Packets',\n",
    "             'Total Length of Bwd Packets', 'Fwd Packet Length Max', 'Fwd Packet Length Min', 'Fwd Packet Length Mean',\n",
    "             'Fwd Packet Length Std', 'Bwd Packet Length Max', 'Bwd Packet Length Min', 'Bwd Packet Length Mean',\n",
    "             'Bwd Packet Length Std', 'Flow Bytes/s', 'Flow Packets/s', 'Flow IAT Mean', 'Flow IAT Std',\n",
    "             'Flow IAT Max', 'Flow IAT Min', 'Fwd IAT Total', 'Fwd IAT Mean', 'Fwd IAT Std', 'Fwd IAT Max',\n",
    "             'Fwd IAT Min', 'Bwd IAT Total', 'Bwd IAT Mean', 'Bwd IAT Std', 'Bwd IAT Max', 'Bwd IAT Min',\n",
    "             'Fwd PSH Flags', 'Bwd PSH Flags', 'Fwd URG Flags', 'Bwd URG Flags', 'Fwd Header Length',\n",
    "             'Bwd Header Length', 'Fwd Packets/s', 'Bwd Packets/s', 'Min Packet Length', 'Max Packet Length',\n",
    "             'Packet Length Mean', 'Packet Length Std', 'Packet Length Variance', 'FIN Flag Count', 'SYN Flag Count',\n",
    "             'RST Flag Count', 'PSH Flag Count', 'ACK Flag Count', 'URG Flag Count', 'CWE Flag Count',\n",
    "             'ECE Flag Count', 'Down/Up Ratio', 'Average Packet Size', 'Avg Fwd Segment Size', 'Avg Bwd Segment Size',\n",
    "             'Fwd Header Length_1', 'Fwd Avg Bytes/Bulk', 'Fwd Avg Packets/Bulk', 'Fwd Avg Bulk Rate',\n",
    "             'Bwd Avg Bytes/Bulk', 'Bwd Avg Packets/Bulk', 'Bwd Avg Bulk Rate', 'Subflow Fwd Packets',\n",
    "             'Subflow Fwd Bytes', 'Subflow Bwd Packets', 'Subflow Bwd Bytes', 'Init_Win_bytes_forward',\n",
    "             'Init_Win_bytes_backward', 'act_data_pkt_fwd', 'min_seg_size_forward', 'Active Mean', 'Active Std',\n",
    "             'Active Max', 'Active Min', 'Idle Mean', 'Idle Std', 'Idle Max', 'Idle Min']"
   ],
   "metadata": {
    "collapsed": false
   }
  },
  {
   "cell_type": "markdown",
   "source": [
    "# COSTRUZIONE DATASET\n",
    "* avendo il dataset scomposto in molteplici *csv* vado a unirli in uno singolo, almeno per un primo momento, distinguendo i files contenti traffico benevolo e malevolo;\n",
    "* rinomino i campi secondo le seguenti caratteristiche:\n",
    "    * parole separate da spazio anzichè da '_';\n",
    "    * prima lettera di ogni parola sarà maiuscola.\n",
    "* a ogni record gli accosto un codice che identifica univocamnete il Sample che ha la seguete struttura: *{G,M}\\_N*, dove:\n",
    "    * **G** ed **M** indicano rispettivamente goodware e malware;\n",
    "    * **N** indica il numero del sample preso in considerazione"
   ],
   "metadata": {
    "collapsed": false
   }
  },
  {
   "cell_type": "code",
   "execution_count": 38,
   "metadata": {
    "collapsed": true
   },
   "outputs": [],
   "source": [
    "def __change_name_and_order(data):\n",
    "    new_names = list()\n",
    "    #data = pd.read_csv(csv_path)\n",
    "\n",
    "    for col in data.columns:\n",
    "        new_name = col.split('_')\n",
    "        new_names.append(\" \".join(new_name).title()) #funzione title trasforma la prima lettera di ogni parola in maiuscolo (capitalizza)\n",
    "        #print(new_name)\n",
    "    data.columns = new_names\n",
    "\n",
    "    #riordinamento delle features\n",
    "    data = data.loc[:, [\"Src Ip\", \"Src Port\", \"Dst Ip\", \"Dst Port\", \"Protocol\", \"Timestamp\", \"Flow Duration\", \"Tot Fwd Pkts\",\n",
    "           \"Tot Bwd Pkts\", \"Totlen Fwd Pkts\", \"Totlen Bwd Pkts\", \"Fwd Pkt Len Max\", \"Fwd Pkt Len Min\", \"Fwd Pkt Len Mean\",\n",
    "           \"Fwd Pkt Len Std\", \"Bwd Pkt Len Max\", \"Bwd Pkt Len Min\", \"Bwd Pkt Len Mean\", \"Bwd Pkt Len Std\", \"Flow Byts S\",\n",
    "           \"Flow Pkts S\", \"Flow Iat Mean\", \"Flow Iat Std\", \"Flow Iat Max\", \"Flow Iat Min\", \"Fwd Iat Tot\", \"Fwd Iat Mean\",\n",
    "           \"Fwd Iat Std\", \"Fwd Iat Max\", \"Fwd Iat Min\", \"Bwd Iat Tot\", \"Bwd Iat Mean\", \"Bwd Iat Std\", \"Bwd Iat Max\",\n",
    "           \"Bwd Iat Min\",\"Fwd Psh Flags\", \"Bwd Psh Flags\", \"Fwd Urg Flags\", \"Bwd Urg Flags\",\n",
    "           \"Fwd Header Len\", \"Bwd Header Len\", \"Fwd Pkts S\", \"Bwd Pkts S\", \"Pkt Len Min\", \"Pkt Len Max\", \"Pkt Len Mean\",\n",
    "           \"Pkt Len Std\", \"Pkt Len Var\", \"Fin Flag Cnt\", \"Syn Flag Cnt\", \"Rst Flag Cnt\", \"Psh Flag Cnt\", \"Ack Flag Cnt\",\n",
    "           \"Urg Flag Cnt\", \"Cwe Flag Count\", \"Ece Flag Cnt\", \"Down Up Ratio\", \"Pkt Size Avg\", \"Fwd Seg Size Avg\",\n",
    "           \"Bwd Seg Size Avg\", \"Fwd Header Len\", \"Fwd Byts B Avg\", \"Fwd Pkts B Avg\", \"Fwd Blk Rate Avg\", \"Bwd Byts B Avg\",\n",
    "           \"Bwd Pkts B Avg\", \"Bwd Blk Rate Avg\", \"Subflow Fwd Pkts\", \"Subflow Fwd Byts\", \"Subflow Bwd Pkts\",\n",
    "           \"Subflow Bwd Byts\", \"Init Fwd Win Byts\", \"Init Bwd Win Byts\", \"Fwd Act Data Pkts\", \"Fwd Seg Size Min\",\n",
    "           \"Active Mean\", \"Active Std\", \"Active Max\", \"Active Min\", \"Idle Mean\", \"Idle Std\", \"Idle Max\", \"Idle Min\"]]\n",
    "\n",
    "    return data\n",
    "\n",
    "def csv_merging(dest_df, files_path):\n",
    "    id_num = 1\n",
    "\n",
    "    for csv_file in os.listdir(files_path):\n",
    "        if not (csv_file == \".DS_Store\" or \"Monday-WorkingHours\" in csv_file):\n",
    "            print(csv_file)\n",
    "            data = pd.read_csv(f\"{files_path}/{csv_file}\", encoding='utf-8', sep=',', engine='python')\n",
    "\n",
    "            data = __change_name_and_order(data)\n",
    "\n",
    "            if \"malware\" in files_path:\n",
    "                data[\"Sample ID\"] = f\"M_{id_num}\"\n",
    "            else:\n",
    "                data[\"Sample ID\"] = f\"G_{id_num}\"\n",
    "            id_num += 1\n",
    "\n",
    "            dest_df = pd.concat([dest_df, data])\n",
    "\n",
    "    print('\\n')\n",
    "\n",
    "    return dest_df"
   ]
  },
  {
   "cell_type": "code",
   "execution_count": null,
   "outputs": [],
   "source": [
    "csv_merging(pd.DataFrame(), DATA_PATH_MALWARE).to_csv(f\"{DATASET_PATH}/malware.csv\", index=False)\n",
    "csv_merging(pd.DataFrame(), DATA_PATH_GOODWARE).to_csv(f\"{DATASET_PATH}/goodware.csv\", index=False)"
   ],
   "metadata": {
    "collapsed": false,
    "pycharm": {
     "is_executing": true
    }
   }
  },
  {
   "cell_type": "markdown",
   "source": [
    "Per problemi lo script mostrato sopra per *Monday-WorkingHours.csv* non funzione quindi procedo a una procedura ad hoc."
   ],
   "metadata": {
    "collapsed": false
   }
  },
  {
   "cell_type": "code",
   "execution_count": 40,
   "outputs": [],
   "source": [
    "goodware = pd.read_csv(f\"{DATASET_PATH}/goodware.csv\", low_memory=False)\n",
    "monday = pd.read_csv(f\"{DATA_PATH_GOODWARE}/Monday-WorkingHours.csv\", low_memory=False)\n",
    "\n",
    "monday[\"Sample ID\"] = \"G_51\"\n",
    "monday.columns = goodware.columns\n",
    "\n",
    "pd.concat([goodware, monday]).to_csv(f\"{DATASET_PATH}/goodware.csv\", index=False)\n",
    "\n",
    "del goodware, monday"
   ],
   "metadata": {
    "collapsed": false
   }
  },
  {
   "cell_type": "markdown",
   "source": [
    "* eseguo labelling dei dati (MALWARE/BENIGN)"
   ],
   "metadata": {
    "collapsed": false
   }
  },
  {
   "cell_type": "code",
   "execution_count": 41,
   "outputs": [],
   "source": [
    "for csv in os.listdir(DATASET_PATH):\n",
    "    if csv.endswith(\".csv\"):\n",
    "        df = pd.read_csv(f\"{DATASET_PATH}/{csv}\", low_memory=False)\n",
    "\n",
    "        if \"malware\" in csv:\n",
    "            df['Label'] = \"MALWARE\"\n",
    "        else:\n",
    "            df['Label'] = \"BENIGN\"\n",
    "\n",
    "        df.to_csv(f\"{DATASET_PATH}/{csv}\", index=False)"
   ],
   "metadata": {
    "collapsed": false
   }
  },
  {
   "cell_type": "markdown",
   "source": [
    "* unisco i due dataset creati al primo punto, in un singolo dataset\n",
    "\n",
    "# NORMALIZZAZIONE DATASET\n",
    "* accstare porta e IP sorgente (analogamete per la destinarione);\n",
    "* eliminare punto da stringa che indica l'IP;\n",
    "* cambiare tipi delle features, dove necessario:\n",
    "\n",
    "Ultimi due passi sono necessari perchè algoritmi di ML accettano solo valori numerici."
   ],
   "metadata": {
    "collapsed": false
   }
  },
  {
   "cell_type": "code",
   "execution_count": 47,
   "outputs": [],
   "source": [
    "def normalize_ip(csv_path):\n",
    "    data = pd.read_csv(csv_path, low_memory=False)\n",
    "\n",
    "    data.iloc[:, 0] = data.iloc[:, 0].map(lambda ip : __string_to_integer_ip(ip))\n",
    "    data.iloc[:, 2] = data.iloc[:, 2].map(lambda ip : __string_to_integer_ip(ip))\n",
    "\n",
    "    data.to_csv(csv_path, index=False)\n",
    "\n",
    "def __string_to_integer_ip(ip):\n",
    "    if not isinstance(ip, int):\n",
    "        splitted_ip = ip.split('.')\n",
    "\n",
    "        return \"\".join(splitted_ip)\n",
    "    return ip\n",
    "\n",
    "def change_features_type(csv_path, features_types):\n",
    "    data = pd.read_csv(csv_path, low_memory=False)\n",
    "\n",
    "    for i in range(data.shape[1]):\n",
    "        data.iloc[:, i].astype(features_types[i])\n",
    "\n",
    "    data.to_csv(csv_path, index=False)"
   ],
   "metadata": {
    "collapsed": false
   }
  },
  {
   "cell_type": "markdown",
   "source": [
    "Converto il formato stringa dell'indirizzo IP (aaa.bbb.ccc.ddd) in un formato comprensibile all'algoritmo di machine learning, cioè un intero nel seguente formato **aaabbbcccddd**."
   ],
   "metadata": {
    "collapsed": false
   }
  },
  {
   "cell_type": "code",
   "execution_count": 48,
   "outputs": [],
   "source": [
    "normalize_ip(f\"{DATASET_PATH}/malware.csv\")\n",
    "normalize_ip(f\"{DATASET_PATH}/goodware.csv\")"
   ],
   "metadata": {
    "collapsed": false
   }
  },
  {
   "cell_type": "markdown",
   "source": [
    "Unione dataset goodware e malware in un unico file in formato csv"
   ],
   "metadata": {
    "collapsed": false
   }
  },
  {
   "cell_type": "code",
   "execution_count": 49,
   "outputs": [],
   "source": [
    "df_malware = pd.read_csv(f\"{DATASET_PATH}/malware.csv\", low_memory=False)\n",
    "df_goodware = pd.read_csv(f\"{DATASET_PATH}/goodware.csv\", low_memory=False)\n",
    "\n",
    "pd.concat([df_malware, df_goodware]).to_csv(f\"{DATASET_PATH}/dataset.csv\", index=False)\n",
    "\n",
    "del df_malware, df_goodware"
   ],
   "metadata": {
    "collapsed": false
   }
  },
  {
   "cell_type": "code",
   "execution_count": 26,
   "outputs": [],
   "source": [
    "dataset = pd.read_csv(f\"{DATASET_PATH}/dataset.csv\", low_memory=False)"
   ],
   "metadata": {
    "collapsed": false
   }
  },
  {
   "cell_type": "markdown",
   "source": [
    "Convertire i timestamp in formato numerico"
   ],
   "metadata": {
    "collapsed": false
   }
  },
  {
   "cell_type": "code",
   "execution_count": 23,
   "outputs": [],
   "source": [
    "unix_ts = pd.to_datetime(dataset['Timestamp']).view('int64')\n",
    "\n",
    "dataset['Timestamp'] = unix_ts\n",
    "\n",
    "del unix_ts"
   ],
   "metadata": {
    "collapsed": false
   }
  },
  {
   "cell_type": "markdown",
   "source": [
    "Creare flowID (IPscr, portScr, IDdst, portDst, Protocollo)"
   ],
   "metadata": {
    "collapsed": false
   }
  },
  {
   "cell_type": "code",
   "execution_count": 24,
   "outputs": [],
   "source": [
    "dataset['FlowID'] = dataset['Src Ip'].map(str) + \"_\"+ dataset['Src Port'].map(str) + \"_\" + dataset['Dst Ip'].map(str) + \"_\"  + dataset['Dst Port'].map(str) + \"_\" + dataset['Protocol'].map(str)\n",
    "\n",
    "dataset.set_index('FlowID').to_csv(f\"{DATASET_PATH}/dataset.csv\")"
   ],
   "metadata": {
    "collapsed": false
   }
  },
  {
   "cell_type": "markdown",
   "source": [
    "Convertire le etichette in formato numerico: (MALWARE -> 1.0 e GOODWARE -> 0.0)"
   ],
   "metadata": {
    "collapsed": false
   }
  },
  {
   "cell_type": "code",
   "execution_count": 25,
   "outputs": [],
   "source": [
    "dataset['Label'].replace([\"MALWARE\", \"BENIGN\"], [1.0, 0.0], inplace=True)\n",
    "\n",
    "dataset.to_csv(f\"{DATASET_PATH}/dataset.csv\", index=False)"
   ],
   "metadata": {
    "collapsed": false
   }
  },
  {
   "cell_type": "markdown",
   "source": [
    "# FEATURES EXTRACTION"
   ],
   "metadata": {
    "collapsed": false
   }
  },
  {
   "cell_type": "code",
   "execution_count": 28,
   "outputs": [],
   "source": [
    "dataset = pd.read_csv(f\"{DATASET_PATH}/dataset.csv\", low_memory=False)"
   ],
   "metadata": {
    "collapsed": false
   }
  },
  {
   "cell_type": "markdown",
   "source": [
    "In linea generale il processo di feature extraction consiste nel scegliere le migliori features riducendo così la dimensionalità del dataset per fare ciò va do a sfruttare la **PCA (Principal Componenet Analyis)** fornita da *scikit-learn*.\n",
    "\n",
    "Prima di effettuare la features extraction sopra descritta necessito di effettuare un processo di \"bonifica\" del dataset."
   ],
   "metadata": {
    "collapsed": false
   }
  },
  {
   "cell_type": "code",
   "execution_count": 4,
   "outputs": [
    {
     "data": {
      "text/plain": "1642652  Flow Pkts S    78,125\ndtype: object"
     },
     "execution_count": 4,
     "metadata": {},
     "output_type": "execute_result"
    }
   ],
   "source": [
    "dataset[dataset.isin(['78,125'])].stack()"
   ],
   "metadata": {
    "collapsed": false
   }
  },
  {
   "cell_type": "markdown",
   "source": [
    "*Flow Pkts S* in linea generale contiene valori *double*, ma nel caso sopra citato contiene una stringa; per questo motivo vado a convertirlo in double."
   ],
   "metadata": {
    "collapsed": false
   }
  },
  {
   "cell_type": "code",
   "execution_count": 29,
   "outputs": [
    {
     "data": {
      "text/plain": "78.125"
     },
     "execution_count": 29,
     "metadata": {},
     "output_type": "execute_result"
    }
   ],
   "source": [
    "dataset.at[1642652, 'Flow Pkts S'] = 78.125\n",
    "\n",
    "dataset.loc[1642652, 'Flow Pkts S']"
   ],
   "metadata": {
    "collapsed": false
   }
  },
  {
   "cell_type": "markdown",
   "source": [
    "Controllo se sono presenti valori *NaN* e *Inf*"
   ],
   "metadata": {
    "collapsed": false
   }
  },
  {
   "cell_type": "code",
   "execution_count": 6,
   "outputs": [
    {
     "data": {
      "text/plain": "89"
     },
     "execution_count": 6,
     "metadata": {},
     "output_type": "execute_result"
    }
   ],
   "source": [
    "#conteggio valori NaN\n",
    "dataset.isnull().sum().sum()"
   ],
   "metadata": {
    "collapsed": false
   }
  },
  {
   "cell_type": "code",
   "execution_count": 7,
   "outputs": [
    {
     "data": {
      "text/plain": "26FlowID     0\nSrc Ip       0\nSrc Port     0\nDst Ip       0\nDst Port     0\n            ..\nIdle Std     0\nIdle Max     0\nIdle Min     0\nSample ID    0\nLabel        0\nLength: 86, dtype: int64"
     },
     "execution_count": 7,
     "metadata": {},
     "output_type": "execute_result"
    }
   ],
   "source": [
    "#conteggio valori Inf\n",
    "dataset[dataset == np.inf].count()"
   ],
   "metadata": {
    "collapsed": false
   }
  },
  {
   "cell_type": "markdown",
   "source": [
    "Visto la presenza di valori NaN e Inf, per semplicità vado a cancellarli."
   ],
   "metadata": {
    "collapsed": false
   }
  },
  {
   "cell_type": "code",
   "execution_count": 30,
   "outputs": [
    {
     "name": "stdout",
     "output_type": "stream",
     "text": [
      "Before NaN & Inf deletion: (1687394, 86)\n",
      "After NaN & Inf deletion: (1686932, 86)\n"
     ]
    }
   ],
   "source": [
    "print(f\"Before NaN & Inf deletion: {dataset.shape}\")\n",
    "\n",
    "with pd.option_context('mode.use_inf_as_na', True):\n",
    "  dataset.dropna(inplace=True)\n",
    "\n",
    "print(f\"After NaN & Inf deletion: {dataset.shape}\")"
   ],
   "metadata": {
    "collapsed": false
   }
  },
  {
   "cell_type": "code",
   "execution_count": 49,
   "outputs": [
    {
     "ename": "NameError",
     "evalue": "name 'dataset' is not defined",
     "output_type": "error",
     "traceback": [
      "\u001B[0;31m---------------------------------------------------------------------------\u001B[0m",
      "\u001B[0;31mNameError\u001B[0m                                 Traceback (most recent call last)",
      "Input \u001B[0;32mIn [49]\u001B[0m, in \u001B[0;36m<cell line: 1>\u001B[0;34m()\u001B[0m\n\u001B[0;32m----> 1\u001B[0m \u001B[43mdataset\u001B[49m\u001B[38;5;241m.\u001B[39mto_csv(\u001B[38;5;124mf\u001B[39m\u001B[38;5;124m\"\u001B[39m\u001B[38;5;132;01m{\u001B[39;00mDATASET_PATH\u001B[38;5;132;01m}\u001B[39;00m\u001B[38;5;124m/dataset.csv\u001B[39m\u001B[38;5;124m\"\u001B[39m, index\u001B[38;5;241m=\u001B[39m\u001B[38;5;28;01mFalse\u001B[39;00m)\n",
      "\u001B[0;31mNameError\u001B[0m: name 'dataset' is not defined"
     ]
    }
   ],
   "source": [
    "dataset.to_csv(f\"{DATASET_PATH}/dataset.csv\", index=False)"
   ],
   "metadata": {
    "collapsed": false
   }
  },
  {
   "cell_type": "markdown",
   "source": [
    "Prima di effettuare la features extraction effettiva, tramite la PCA, vado ad analizzare come correlano le features"
   ],
   "metadata": {
    "collapsed": false
   }
  },
  {
   "cell_type": "code",
   "execution_count": 15,
   "outputs": [
    {
     "name": "stderr",
     "output_type": "stream",
     "text": [
      "/var/folders/4y/z5w7pprd3bxb9r0f1rrcqmw80000gn/T/ipykernel_52577/2392947209.py:2: FutureWarning: The default value of numeric_only in DataFrame.corr is deprecated. In a future version, it will default to False. Select only valid columns or specify the value of numeric_only to silence this warning.\n",
      "  plt.matshow(dataset.corr(), fignum=f.number)\n"
     ]
    },
    {
     "data": {
      "text/plain": "<Figure size 1368x1080 with 2 Axes>",
      "image/png": "[encoded data removed]"
     },
     "metadata": {
      "needs_background": "light"
     },
     "output_type": "display_data"
    }
   ],
   "source": [
    "f = plt.figure(figsize=(19, 15))\n",
    "plt.matshow(dataset.corr(), fignum=f.number)\n",
    "plt.xticks(range(dataset.select_dtypes(['number']).shape[1]), dataset.select_dtypes(['number']).columns, fontsize=10, rotation=90)\n",
    "plt.yticks(range(dataset.select_dtypes(['number']).shape[1]), dataset.select_dtypes(['number']).columns, fontsize=10)\n",
    "cb = plt.colorbar()\n",
    "cb.ax.tick_params(labelsize=14)\n",
    "plt.title('Correlation Matrix', fontsize=16);"
   ],
   "metadata": {
    "collapsed": false
   }
  },
  {
   "cell_type": "markdown",
   "source": [
    "La heatmap descrive la matrice di correlazione e guardandola si nota che ci sono alcune coppie di features che correlano tra di loro anche con valori molto alti (zone in giallo, esclusa la diagonale, e verde), perciò ha senso calcolare la PCA.\n",
    "\n",
    "Una particolarità della matrice di correlazione qui sopra è il fatto che ci sono dei valori NaN o comunque non si è riuscite a calcolare la correlazione tra le features. Le features da tenere in considerazione sono: *Bwd Psh Flags*, *Fwd Urg Flags*, *Bwd Urg Flags* e *Cwe Flag Count*."
   ],
   "metadata": {
    "collapsed": false
   }
  },
  {
   "cell_type": "code",
   "execution_count": 11,
   "outputs": [],
   "source": [
    "dataset = pd.read_csv(f\"{DATASET_PATH}/dataset.csv\", low_memory= False)"
   ],
   "metadata": {
    "collapsed": false
   }
  },
  {
   "cell_type": "code",
   "execution_count": 61,
   "outputs": [
    {
     "name": "stderr",
     "output_type": "stream",
     "text": [
      "/var/folders/4y/z5w7pprd3bxb9r0f1rrcqmw80000gn/T/ipykernel_888/826307376.py:1: FutureWarning: The default value of numeric_only in DataFrame.corr is deprecated. In a future version, it will default to False. Select only valid columns or specify the value of numeric_only to silence this warning.\n",
      "  cm = dataset.corr()\n"
     ]
    },
    {
     "data": {
      "text/plain": "           Bwd Psh Flags  Fwd Urg Flags  Bwd Urg Flags  Cwe Flag Count\nSrc Ip               NaN            NaN            NaN             NaN\nSrc Port             NaN            NaN            NaN             NaN\nDst Ip               NaN            NaN            NaN             NaN\nDst Port             NaN            NaN            NaN             NaN\nProtocol             NaN            NaN            NaN             NaN\n...                  ...            ...            ...             ...\nIdle Mean            NaN            NaN            NaN             NaN\nIdle Std             NaN            NaN            NaN             NaN\nIdle Max             NaN            NaN            NaN             NaN\nIdle Min             NaN            NaN            NaN             NaN\nLabel                NaN            NaN            NaN             NaN\n\n[84 rows x 4 columns]",
      "text/html": "<div>\n<style scoped>\n    .dataframe tbody tr th:only-of-type {\n        vertical-align: middle;\n    }\n\n    .dataframe tbody tr th {\n        vertical-align: top;\n    }\n\n    .dataframe thead th {\n        text-align: right;\n    }\n</style>\n<table border=\"1\" class=\"dataframe\">\n  <thead>\n    <tr style=\"text-align: right;\">\n      <th></th>\n      <th>Bwd Psh Flags</th>\n      <th>Fwd Urg Flags</th>\n      <th>Bwd Urg Flags</th>\n      <th>Cwe Flag Count</th>\n    </tr>\n  </thead>\n  <tbody>\n    <tr>\n      <th>Src Ip</th>\n      <td>NaN</td>\n      <td>NaN</td>\n      <td>NaN</td>\n      <td>NaN</td>\n    </tr>\n    <tr>\n      <th>Src Port</th>\n      <td>NaN</td>\n      <td>NaN</td>\n      <td>NaN</td>\n      <td>NaN</td>\n    </tr>\n    <tr>\n      <th>Dst Ip</th>\n      <td>NaN</td>\n      <td>NaN</td>\n      <td>NaN</td>\n      <td>NaN</td>\n    </tr>\n    <tr>\n      <th>Dst Port</th>\n      <td>NaN</td>\n      <td>NaN</td>\n      <td>NaN</td>\n      <td>NaN</td>\n    </tr>\n    <tr>\n      <th>Protocol</th>\n      <td>NaN</td>\n      <td>NaN</td>\n      <td>NaN</td>\n      <td>NaN</td>\n    </tr>\n    <tr>\n      <th>...</th>\n      <td>...</td>\n      <td>...</td>\n      <td>...</td>\n      <td>...</td>\n    </tr>\n    <tr>\n      <th>Idle Mean</th>\n      <td>NaN</td>\n      <td>NaN</td>\n      <td>NaN</td>\n      <td>NaN</td>\n    </tr>\n    <tr>\n      <th>Idle Std</th>\n      <td>NaN</td>\n      <td>NaN</td>\n      <td>NaN</td>\n      <td>NaN</td>\n    </tr>\n    <tr>\n      <th>Idle Max</th>\n      <td>NaN</td>\n      <td>NaN</td>\n      <td>NaN</td>\n      <td>NaN</td>\n    </tr>\n    <tr>\n      <th>Idle Min</th>\n      <td>NaN</td>\n      <td>NaN</td>\n      <td>NaN</td>\n      <td>NaN</td>\n    </tr>\n    <tr>\n      <th>Label</th>\n      <td>NaN</td>\n      <td>NaN</td>\n      <td>NaN</td>\n      <td>NaN</td>\n    </tr>\n  </tbody>\n</table>\n<p>84 rows × 4 columns</p>\n</div>"
     },
     "execution_count": 61,
     "metadata": {},
     "output_type": "execute_result"
    }
   ],
   "source": [
    "cm = dataset.corr()\n",
    "\n",
    "cm.loc[:, ['Bwd Psh Flags','Fwd Urg Flags', 'Bwd Urg Flags', 'Cwe Flag Count']]"
   ],
   "metadata": {
    "collapsed": false
   }
  },
  {
   "cell_type": "markdown",
   "source": [
    "Perché ciò accade?\n",
    "Per rispondere alla domanda come prima cosa andiamo ad analizzare i valori presi per le features sopra citate"
   ],
   "metadata": {
    "collapsed": false
   }
  },
  {
   "cell_type": "code",
   "execution_count": 56,
   "outputs": [
    {
     "data": {
      "text/plain": "         Bwd Psh Flags  Fwd Urg Flags  Bwd Urg Flags  Cwe Flag Count\n0                    0              0              0               0\n1                    0              0              0               0\n2                    0              0              0               0\n3                    0              0              0               0\n4                    0              0              0               0\n...                ...            ...            ...             ...\n1686927              0              0              0               0\n1686928              0              0              0               0\n1686929              0              0              0               0\n1686930              0              0              0               0\n1686931              0              0              0               0\n\n[1686932 rows x 4 columns]",
      "text/html": "<div>\n<style scoped>\n    .dataframe tbody tr th:only-of-type {\n        vertical-align: middle;\n    }\n\n    .dataframe tbody tr th {\n        vertical-align: top;\n    }\n\n    .dataframe thead th {\n        text-align: right;\n    }\n</style>\n<table border=\"1\" class=\"dataframe\">\n  <thead>\n    <tr style=\"text-align: right;\">\n      <th></th>\n      <th>Bwd Psh Flags</th>\n      <th>Fwd Urg Flags</th>\n      <th>Bwd Urg Flags</th>\n      <th>Cwe Flag Count</th>\n    </tr>\n  </thead>\n  <tbody>\n    <tr>\n      <th>0</th>\n      <td>0</td>\n      <td>0</td>\n      <td>0</td>\n      <td>0</td>\n    </tr>\n    <tr>\n      <th>1</th>\n      <td>0</td>\n      <td>0</td>\n      <td>0</td>\n      <td>0</td>\n    </tr>\n    <tr>\n      <th>2</th>\n      <td>0</td>\n      <td>0</td>\n      <td>0</td>\n      <td>0</td>\n    </tr>\n    <tr>\n      <th>3</th>\n      <td>0</td>\n      <td>0</td>\n      <td>0</td>\n      <td>0</td>\n    </tr>\n    <tr>\n      <th>4</th>\n      <td>0</td>\n      <td>0</td>\n      <td>0</td>\n      <td>0</td>\n    </tr>\n    <tr>\n      <th>...</th>\n      <td>...</td>\n      <td>...</td>\n      <td>...</td>\n      <td>...</td>\n    </tr>\n    <tr>\n      <th>1686927</th>\n      <td>0</td>\n      <td>0</td>\n      <td>0</td>\n      <td>0</td>\n    </tr>\n    <tr>\n      <th>1686928</th>\n      <td>0</td>\n      <td>0</td>\n      <td>0</td>\n      <td>0</td>\n    </tr>\n    <tr>\n      <th>1686929</th>\n      <td>0</td>\n      <td>0</td>\n      <td>0</td>\n      <td>0</td>\n    </tr>\n    <tr>\n      <th>1686930</th>\n      <td>0</td>\n      <td>0</td>\n      <td>0</td>\n      <td>0</td>\n    </tr>\n    <tr>\n      <th>1686931</th>\n      <td>0</td>\n      <td>0</td>\n      <td>0</td>\n      <td>0</td>\n    </tr>\n  </tbody>\n</table>\n<p>1686932 rows × 4 columns</p>\n</div>"
     },
     "execution_count": 56,
     "metadata": {},
     "output_type": "execute_result"
    }
   ],
   "source": [
    "dataset.loc[:, ['Bwd Psh Flags','Fwd Urg Flags', 'Bwd Urg Flags', 'Cwe Flag Count']]"
   ],
   "metadata": {
    "collapsed": false
   }
  },
  {
   "cell_type": "code",
   "execution_count": 58,
   "outputs": [
    {
     "name": "stdout",
     "output_type": "stream",
     "text": [
      "Bwd Psh Flags -> [0]\n",
      "Fwd Urg Flags -> [0]\n",
      "Bwd Urg Flags -> [0]\n",
      "Cwe Flag Count -> [0]\n"
     ]
    }
   ],
   "source": [
    "for col in ['Bwd Psh Flags','Fwd Urg Flags', 'Bwd Urg Flags', 'Cwe Flag Count']:\n",
    "    print(f\"{col} -> {np.unique(dataset.loc[:, col])}\")"
   ],
   "metadata": {
    "collapsed": false
   }
  },
  {
   "cell_type": "markdown",
   "source": [
    "Utilizzando come coefficiente di correlazione il **coeficiete di Pearson** e dividendo il tutto per 0 e ciò è matematicamente impossibile, quindi per questo motivo il coefficiente di correlazione tra le features sopracitate e le altre non è calcolabile.\n",
    "\n",
    "Da queste osservazioni si può concludere che *Bwd Psh Flags*, *Fwd Urg Flags*, *Bwd Urg Flags* e *Cwe Flag Count* non influenzano il modello e di conseguenza neanche le previsioni fatte da esso perciò tali features le posso andare a cancellare dal dataset.\n",
    "Ciò è dovuto dal fatto che questi campi fanno riferimento a dei flag contenuti nel header TCP e vengono usati per generare particolari tipologie di traffico che non vengono sfruttate."
   ],
   "metadata": {
    "collapsed": false
   }
  },
  {
   "cell_type": "code",
   "execution_count": null,
   "outputs": [],
   "source": [
    "dataset.drop(['Bwd Psh Flags','Fwd Urg Flags', 'Bwd Urg Flags', 'Cwe Flag Count'], inplace=True, axis=1)\n",
    "\n",
    "dataset.to_csv(f\"{DATASET_PATH}/dataset.csv\")"
   ],
   "metadata": {
    "collapsed": false,
    "pycharm": {
     "is_executing": true
    }
   }
  },
  {
   "cell_type": "markdown",
   "source": [
    "Prima di effettuare la PCA necessito di andare a standardizzare i dati"
   ],
   "metadata": {
    "collapsed": false
   }
  },
  {
   "cell_type": "code",
   "execution_count": 13,
   "outputs": [],
   "source": [
    "def feature_extraction(data, n_components, norm=False):\n",
    "    if norm:\n",
    "        scalar = StandardScaler()\n",
    "        scalar.fit(data)\n",
    "        data = scalar.transform(data)\n",
    "\n",
    "    pca = PCA(n_components)\n",
    "\n",
    "    pca.fit(data)\n",
    "\n",
    "    #X_train = pca.transform(X_train)\n",
    "    #X_test = pca.transform(X_test)\n",
    "\n",
    "    return pca"
   ],
   "metadata": {
    "collapsed": false
   }
  },
  {
   "cell_type": "markdown",
   "source": [],
   "metadata": {
    "collapsed": false
   }
  },
  {
   "cell_type": "code",
   "execution_count": 14,
   "outputs": [],
   "source": [
    "X, y = dataset.loc[:, 'Src Ip' : 'Idle Min'], dataset.loc[:, 'Label']"
   ],
   "metadata": {
    "collapsed": false
   }
  },
  {
   "cell_type": "code",
   "execution_count": 15,
   "outputs": [
    {
     "data": {
      "text/plain": "<Figure size 1440x432 with 1 Axes>",
      "image/png": "[encoded data removed]"
     },
     "metadata": {
      "needs_background": "light"
     },
     "output_type": "display_data"
    }
   ],
   "source": [
    "#X_train, X_test, y_train, y_test = train_test_split(X, y, test_size=.2, train_size=.8)\n",
    "\n",
    "#X_train = scalar.transform(X_train)\n",
    "#X_test = scalar.transform(X_test)\n",
    "pca = feature_extraction(X, X.shape[1], False)\n",
    "\n",
    "plt.figure(figsize=(20, 6))\n",
    "plt.plot(range(pca.n_components_), pca.explained_variance_)\n",
    "plt.scatter(range(pca.n_components_), pca.explained_variance_)\n",
    "plt.title(\"Scree plot(not normalized data)\")\n",
    "plt.xlabel(\"Component\")\n",
    "plt.xticks(range(pca.n_components_), range(pca.n_components_))\n",
    "plt.ylabel(\"Variance\")\n",
    "plt.show()"
   ],
   "metadata": {
    "collapsed": false
   }
  },
  {
   "cell_type": "code",
   "execution_count": 16,
   "outputs": [
    {
     "data": {
      "text/plain": "<Figure size 1440x432 with 1 Axes>",
      "image/png": "[encoded data removed]"
     },
     "metadata": {
      "needs_background": "light"
     },
     "output_type": "display_data"
    }
   ],
   "source": [
    "pca_norm = feature_extraction(X, X.shape[1], True)\n",
    "\n",
    "plt.figure(figsize=(20, 6))\n",
    "plt.plot(range(pca_norm.n_components_), pca_norm.explained_variance_)\n",
    "plt.scatter(range(pca_norm.n_components_), pca_norm.explained_variance_)\n",
    "plt.title(\"Scree plot(normalized data)\")\n",
    "plt.xlabel(\"Component\")\n",
    "plt.xticks(range(pca_norm.n_components_), range(pca_norm.n_components_))\n",
    "plt.ylabel(\"Variance\")\n",
    "plt.show()"
   ],
   "metadata": {
    "collapsed": false
   }
  },
  {
   "cell_type": "markdown",
   "source": [
    "Dai grafici presentati del caso di dati non normalizzati si andrebbero a estrarre **6/7 features**, oppure nel caso di dati normalizzati ado a estrarre **dalle 13 alle 57 features**.\n",
    "\n",
    "Per trovare con maggior precisione il numero di features attraverso la **regola di Kaiser** in cui si tengono solo le componenti che hanno un valore della varianza(autovalori) non sia **inferiore a 1 oppure a 0.7**. In letteratura la primo valore risulta troppo alto."
   ],
   "metadata": {
    "collapsed": false
   }
  },
  {
   "cell_type": "code",
   "execution_count": 19,
   "outputs": [
    {
     "name": "stdout",
     "output_type": "stream",
     "text": [
      "Threshold 1\n",
      "Regola di Kaiser su dati non normalizzati: 79 features\n",
      "Regola di Kaiser su dati normalizzati: 23 features\n"
     ]
    }
   ],
   "source": [
    "print(\"Threshold 1\")\n",
    "print(f\"Regola di Kaiser su dati non normalizzati: {len(pca.explained_variance_[pca.explained_variance_ > 1])} features\")\n",
    "print(f\"Regola di Kaiser su dati normalizzati: {len(pca_norm.explained_variance_[pca_norm.explained_variance_ > 1])} features\")"
   ],
   "metadata": {
    "collapsed": false
   }
  },
  {
   "cell_type": "code",
   "execution_count": 20,
   "outputs": [
    {
     "name": "stdout",
     "output_type": "stream",
     "text": [
      "Threshold 0.7\n",
      "Regola di Kaiser su dati non normalizzati: 79 features\n",
      "Regola di Kaiser su dati normalizzati: 34 features\n"
     ]
    }
   ],
   "source": [
    "print(\"Threshold 0.7\")\n",
    "print(f\"Regola di Kaiser su dati non normalizzati: {len(pca.explained_variance_[pca.explained_variance_ > .7])} features\")\n",
    "print(f\"Regola di Kaiser su dati normalizzati: {len(pca_norm.explained_variance_[pca_norm.explained_variance_ > .7])} features\")"
   ],
   "metadata": {
    "collapsed": false
   }
  },
  {
   "cell_type": "markdown",
   "source": [
    "In linea di massima da come si è visto dai risultati sopra la regola di Kaiser funziona solo su **dati normalizzati**, ottenedo un totale di 23 o 34 featiures rispettivamete nel caso in cui il threshold sia 1 o 0.7. Così facendo si riduce del **72%**(23 features) o del **59%**(34 features).\n",
    "\n",
    "I risultati descritti sopra soddisfano la condizione descritta dai grafici ottenuta analizzando l'andamento dei grafici vedendo dove avviene la suddivisone tra autovalori \"grandi\" e \"piccoli\" che viene contrassegnato da un \"gomito\"."
   ],
   "metadata": {
    "collapsed": false
   }
  },
  {
   "cell_type": "markdown",
   "source": [
    "# BILANCIAMENTO DATASET\n",
    "\n",
    "Prima di tutto voglio andare a vedere come le due classi sono distribuite all'interno del dataset"
   ],
   "metadata": {
    "collapsed": false
   }
  },
  {
   "cell_type": "code",
   "execution_count": 21,
   "outputs": [
    {
     "name": "stdout",
     "output_type": "stream",
     "text": [
      "[0. 1.]\n",
      "[1592331   94601]\n"
     ]
    }
   ],
   "source": [
    "labels, counts = np.unique(dataset['Label'], return_counts=True)\n",
    "\n",
    "print(labels)\n",
    "print(counts)"
   ],
   "metadata": {
    "collapsed": false
   }
  },
  {
   "cell_type": "markdown",
   "source": [
    "Si vede che la classe *BENIGN*, contrassegnato con lo 0, è quella maggiormente presente con un totale di 1592331 records contro i 94601 dei recods malevoli"
   ],
   "metadata": {
    "collapsed": false
   }
  },
  {
   "cell_type": "code",
   "execution_count": 22,
   "outputs": [
    {
     "data": {
      "text/plain": "<Figure size 432x288 with 1 Axes>",
      "image/png": "[encoded data removed]"
     },
     "metadata": {
      "needs_background": "light"
     },
     "output_type": "display_data"
    }
   ],
   "source": [
    "labels = np.where(labels == 0., \"BENIGN\", \"MALWARE\")\n",
    "\n",
    "plt.bar(labels, counts)\n",
    "plt.show()"
   ],
   "metadata": {
    "collapsed": false
   }
  },
  {
   "cell_type": "markdown",
   "source": [
    "Le tecniche che vorrei utilizzare per bilanciare il dataset sono principalmente 2: sfruttare la **focal loss** o la **SMOTE** (Synthetic Minority Oversampling Technique)."
   ],
   "metadata": {
    "collapsed": false
   }
  },
  {
   "cell_type": "code",
   "execution_count": 23,
   "outputs": [],
   "source": [
    "del dataset"
   ],
   "metadata": {
    "collapsed": false
   }
  },
  {
   "cell_type": "markdown",
   "source": [
    "# ADDESTRAMENTO DEL MODELLO\n",
    "\n",
    "Prima di addestrare i modelli andiamo a dividere il dataset in training e test set e li memorizzo su file"
   ],
   "metadata": {
    "collapsed": false
   }
  },
  {
   "cell_type": "code",
   "execution_count": 24,
   "outputs": [
    {
     "name": "stdout",
     "output_type": "stream",
     "text": [
      "Lettura completata\n"
     ]
    }
   ],
   "source": [
    "data = pd.read_csv(f\"{DATASET_PATH}/dataset.csv\", low_memory=False)\n",
    "X, y = data.loc[:, 'Src Ip' : 'Idle Min'], data.loc[:, 'Label']\n",
    "\n",
    "X_train, X_test, y_train, y_test = train_test_split(X, y, test_size=.3, train_size=.7)\n",
    "\n",
    "print(\"Lettura completata\")"
   ],
   "metadata": {
    "collapsed": false
   }
  },
  {
   "cell_type": "code",
   "execution_count": 25,
   "outputs": [],
   "source": [
    "training_set, test_set =  X_train, X_test\n",
    "\n",
    "training_set['Label'] = y_train\n",
    "test_set['Label'] = y_test\n",
    "\n",
    "#print(test_set)\n",
    "training_set.to_csv(f\"{DATASET_PATH}/train.csv\")\n",
    "test_set.to_csv(f\"{DATASET_PATH}/test.csv\")"
   ],
   "metadata": {
    "collapsed": false
   }
  },
  {
   "cell_type": "markdown",
   "source": [
    "I modelli che andremo a sfruttare sono i seguenti: **Decision Tree**, **Random Forest** e **Neural Tree**.\n",
    "\n",
    "I modelli saranno addestati con le seguenti modallità, per poi andarli a confrontare provando a determinare quali siano le migliori features atte a rilevare un attacco ransomware analizzando il traffico.\n",
    "\n",
    "Le modalità di addestramento saranno le seguenti:\n",
    "* con dataset sbilanciato\n",
    "* dataset bilanciato\n",
    "\n",
    "Queste due modalità verranno ripetute sia su dataset con tutte le features e sia dopo una fase di features reduction."
   ],
   "metadata": {
    "collapsed": false
   }
  },
  {
   "cell_type": "code",
   "execution_count": 5,
   "outputs": [
    {
     "name": "stdout",
     "output_type": "stream",
     "text": [
      "DATASET ACQUISITI\n"
     ]
    }
   ],
   "source": [
    "training_set = pd.read_csv(f\"{DATASET_PATH}/train.csv\", low_memory=False)\n",
    "test_set = pd.read_csv(f\"{DATASET_PATH}/test.csv\", low_memory=False)\n",
    "\n",
    "X_train, y_train = training_set.loc[:, 'Src Ip' : 'Idle Min'], training_set.loc[:, 'Label']\n",
    "X_test, y_test = test_set.loc[:, 'Src Ip' : 'Idle Min'], test_set.loc[:, 'Label']\n",
    "\n",
    "print(\"DATASET ACQUISITI\")\n",
    "\n",
    "del training_set, test_set"
   ],
   "metadata": {
    "collapsed": false
   }
  },
  {
   "cell_type": "code",
   "execution_count": 27,
   "outputs": [
    {
     "name": "stdout",
     "output_type": "stream",
     "text": [
      "Bilanciamento completato\n"
     ]
    }
   ],
   "source": [
    "oversample = SMOTE()\n",
    "\n",
    "X_train_balanced, y_train_balanced = oversample.fit_resample(X_train, y_train)\n",
    "X_test_balanced, y_test_balanced = oversample.fit_resample(X_test, y_test)\n",
    "\n",
    "print(\"Bilanciamento completato\")"
   ],
   "metadata": {
    "collapsed": false
   }
  },
  {
   "cell_type": "code",
   "execution_count": 28,
   "outputs": [],
   "source": [
    "train_balanced = X_train_balanced\n",
    "train_balanced['Label'] = y_train_balanced\n",
    "\n",
    "test_balanced = X_test_balanced\n",
    "test_balanced['Label'] = y_test_balanced\n",
    "\n",
    "train_balanced.to_csv(f\"{DATASET_PATH}/balanced_train.csv\")\n",
    "test_balanced.to_csv(f\"{DATASET_PATH}/balanced_test.csv\")"
   ],
   "metadata": {
    "collapsed": false
   }
  },
  {
   "cell_type": "code",
   "execution_count": 6,
   "outputs": [
    {
     "name": "stdout",
     "output_type": "stream",
     "text": [
      "DATASET BILANCIATI ACQUISITI\n"
     ]
    }
   ],
   "source": [
    "training_set_balanced = pd.read_csv(f\"{DATASET_PATH}/balanced_train.csv\", low_memory=False)\n",
    "test_set_balanced = pd.read_csv(f\"{DATASET_PATH}/balanced_test.csv\", low_memory=False)\n",
    "\n",
    "X_train_balanced, y_train_balanced = training_set_balanced.loc[:, 'Src Ip' : 'Idle Min'], training_set_balanced.loc[:, 'Label']\n",
    "X_test_balanced, y_test_balanced = test_set_balanced.loc[:, 'Src Ip' : 'Idle Min'], test_set_balanced.loc[:, 'Label']\n",
    "\n",
    "print(\"DATASET BILANCIATI ACQUISITI\")\n",
    "\n",
    "del training_set_balanced, test_set_balanced"
   ],
   "metadata": {
    "collapsed": false
   }
  },
  {
   "cell_type": "markdown",
   "source": [
    "## DECISION TREE\n",
    "\n",
    "### DATASET SBILANCIATO"
   ],
   "metadata": {
    "collapsed": false
   }
  },
  {
   "cell_type": "code",
   "execution_count": 30,
   "outputs": [
    {
     "name": "stdout",
     "output_type": "stream",
     "text": [
      "INIZIO ADDESTRAMENTO DECISION TREE\n",
      "L'addestramento del decision tree ha impiegato 40.184662103652954 secondi\n",
      "SALVATAGGIO MODELLO IN ../exported_model/dt_unbalance.pkl\n"
     ]
    }
   ],
   "source": [
    "try:\n",
    "    with open(f\"{EXPORTED_MODEL}/dt_unbalance.pkl\", 'rb') as file:\n",
    "        print(\"CARICAMENTO MODELLO DA ../exported_model/dt_unbalance.pkl\")\n",
    "\n",
    "        dt_model = pkl.load(file)\n",
    "except IOError:\n",
    "    dt = DecisionTreeClassifier()\n",
    "    start_time = time.time()\n",
    "\n",
    "    print(\"INIZIO ADDESTRAMENTO DECISION TREE\")\n",
    "    dt_model = dt.fit(X_train, y_train)\n",
    "\n",
    "    print(f\"L'addestramento del decision tree ha impiegato {time.time() - start_time} secondi\")\n",
    "\n",
    "    print(\"SALVATAGGIO MODELLO IN ../exported_model/dt_unbalance.pkl\")\n",
    "    with open(f\"{EXPORTED_MODEL}/dt_unbalance.pkl\", 'wb') as file:\n",
    "        pkl.dump(dt_model, file)"
   ],
   "metadata": {
    "collapsed": false
   }
  },
  {
   "cell_type": "markdown",
   "source": [
    "Visualizziamo il decision tree"
   ],
   "metadata": {
    "collapsed": false
   }
  },
  {
   "cell_type": "code",
   "execution_count": 31,
   "outputs": [
    {
     "data": {
      "text/plain": "[Text(0.27307912844036697, 0.9761904761904762, 'X[38] <= 0.018\\ngini = 0.106\\nsamples = 1180852\\nvalue = [1114609, 66243]'),\n Text(0.17022649082568808, 0.9285714285714286, 'X[0] <= 101281648.0\\ngini = 0.175\\nsamples = 62174\\nvalue = [6032, 56142]'),\n Text(0.11109518348623854, 0.8809523809523809, 'X[5] <= 1.488899616303743e+18\\ngini = 0.039\\nsamples = 57144\\nvalue = [1125, 56019]'),\n Text(0.0782683486238532, 0.8333333333333334, 'X[3] <= 60.0\\ngini = 0.011\\nsamples = 56307\\nvalue = [301, 56006]'),\n Text(0.040137614678899085, 0.7857142857142857, 'X[5] <= 3640499896320.0\\ngini = 0.053\\nsamples = 74\\nvalue = [72, 2]'),\n Text(0.03096330275229358, 0.7380952380952381, 'gini = 0.0\\nsamples = 2\\nvalue = [0, 2]'),\n Text(0.04931192660550459, 0.7380952380952381, 'gini = 0.0\\nsamples = 72\\nvalue = [72, 0]'),\n Text(0.11639908256880734, 0.7857142857142857, 'X[45] <= 0.5\\ngini = 0.008\\nsamples = 56233\\nvalue = [229, 56004]'),\n Text(0.0676605504587156, 0.7380952380952381, 'X[0] <= 10023.0\\ngini = 0.002\\nsamples = 55070\\nvalue = [54, 55016]'),\n Text(0.04128440366972477, 0.6904761904761905, 'X[40] <= 466.0\\ngini = 0.142\\nsamples = 13\\nvalue = [12, 1]'),\n Text(0.03211009174311927, 0.6428571428571429, 'gini = 0.0\\nsamples = 1\\nvalue = [0, 1]'),\n Text(0.05045871559633028, 0.6428571428571429, 'gini = 0.0\\nsamples = 12\\nvalue = [12, 0]'),\n Text(0.09403669724770643, 0.6904761904761905, 'X[2] <= 247255252992.0\\ngini = 0.002\\nsamples = 55057\\nvalue = [42, 55015]'),\n Text(0.06880733944954129, 0.6428571428571429, 'X[36] <= 18.0\\ngini = 0.001\\nsamples = 55015\\nvalue = [25, 54990]'),\n Text(0.045871559633027525, 0.5952380952380952, 'X[1] <= 5354.0\\ngini = 0.001\\nsamples = 55012\\nvalue = [23, 54989]'),\n Text(0.027522935779816515, 0.5476190476190477, 'X[1] <= 2215.5\\ngini = 0.037\\nsamples = 1153\\nvalue = [22, 1131]'),\n Text(0.01834862385321101, 0.5, 'X[5] <= 6.481187113449554e+17\\ngini = 0.004\\nsamples = 1133\\nvalue = [2, 1131]'),\n Text(0.009174311926605505, 0.4523809523809524, 'gini = 0.0\\nsamples = 1131\\nvalue = [0, 1131]'),\n Text(0.027522935779816515, 0.4523809523809524, 'gini = 0.0\\nsamples = 2\\nvalue = [2, 0]'),\n Text(0.03669724770642202, 0.5, 'gini = 0.0\\nsamples = 20\\nvalue = [20, 0]'),\n Text(0.06422018348623854, 0.5476190476190477, 'X[3] <= 58737.0\\ngini = 0.0\\nsamples = 53859\\nvalue = [1, 53858]'),\n Text(0.05504587155963303, 0.5, 'gini = 0.0\\nsamples = 53745\\nvalue = [0, 53745]'),\n Text(0.07339449541284404, 0.5, 'X[13] <= 71.0\\ngini = 0.017\\nsamples = 114\\nvalue = [1, 113]'),\n Text(0.06422018348623854, 0.4523809523809524, 'gini = 0.0\\nsamples = 1\\nvalue = [1, 0]'),\n Text(0.08256880733944955, 0.4523809523809524, 'gini = 0.0\\nsamples = 113\\nvalue = [0, 113]'),\n Text(0.09174311926605505, 0.5952380952380952, 'X[64] <= 57.0\\ngini = 0.444\\nsamples = 3\\nvalue = [2, 1]'),\n Text(0.08256880733944955, 0.5476190476190477, 'gini = 0.0\\nsamples = 1\\nvalue = [0, 1]'),\n Text(0.10091743119266056, 0.5476190476190477, 'gini = 0.0\\nsamples = 2\\nvalue = [2, 0]'),\n Text(0.11926605504587157, 0.6428571428571429, 'X[0] <= 9658513.5\\ngini = 0.482\\nsamples = 42\\nvalue = [17, 25]'),\n Text(0.11009174311926606, 0.5952380952380952, 'gini = 0.0\\nsamples = 17\\nvalue = [17, 0]'),\n Text(0.12844036697247707, 0.5952380952380952, 'gini = 0.0\\nsamples = 25\\nvalue = [0, 25]'),\n Text(0.1651376146788991, 0.7380952380952381, 'X[5] <= 4.9810939445038285e+17\\ngini = 0.256\\nsamples = 1163\\nvalue = [175, 988]'),\n Text(0.14678899082568808, 0.6904761904761905, 'X[0] <= 55120.0\\ngini = 0.121\\nsamples = 1052\\nvalue = [68, 984]'),\n Text(0.13761467889908258, 0.6428571428571429, 'gini = 0.0\\nsamples = 877\\nvalue = [0, 877]'),\n Text(0.1559633027522936, 0.6428571428571429, 'X[0] <= 10109507.0\\ngini = 0.475\\nsamples = 175\\nvalue = [68, 107]'),\n Text(0.14678899082568808, 0.5952380952380952, 'gini = 0.0\\nsamples = 68\\nvalue = [68, 0]'),\n Text(0.1651376146788991, 0.5952380952380952, 'gini = 0.0\\nsamples = 107\\nvalue = [0, 107]'),\n Text(0.1834862385321101, 0.6904761904761905, 'X[5] <= 1.4591282773974057e+18\\ngini = 0.069\\nsamples = 111\\nvalue = [107, 4]'),\n Text(0.1743119266055046, 0.6428571428571429, 'gini = 0.0\\nsamples = 107\\nvalue = [107, 0]'),\n Text(0.1926605504587156, 0.6428571428571429, 'gini = 0.0\\nsamples = 4\\nvalue = [0, 4]'),\n Text(0.14392201834862386, 0.8333333333333334, 'X[5] <= 1.5115979343475507e+18\\ngini = 0.031\\nsamples = 837\\nvalue = [824, 13]'),\n Text(0.13474770642201836, 0.7857142857142857, 'gini = 0.0\\nsamples = 824\\nvalue = [824, 0]'),\n Text(0.15309633027522937, 0.7857142857142857, 'gini = 0.0\\nsamples = 13\\nvalue = [0, 13]'),\n Text(0.22935779816513763, 0.8809523809523809, 'X[5] <= 5.825471006302536e+17\\ngini = 0.048\\nsamples = 5030\\nvalue = [4907, 123]'),\n Text(0.22018348623853212, 0.8333333333333334, 'X[2] <= 55119.5\\ngini = 0.384\\nsamples = 166\\nvalue = [43, 123]'),\n Text(0.21100917431192662, 0.7857142857142857, 'gini = 0.0\\nsamples = 119\\nvalue = [0, 119]'),\n Text(0.22935779816513763, 0.7857142857142857, 'X[0] <= 1755048000.0\\ngini = 0.156\\nsamples = 47\\nvalue = [43, 4]'),\n Text(0.21100917431192662, 0.7380952380952381, 'X[3] <= 51938.5\\ngini = 0.444\\nsamples = 3\\nvalue = [1, 2]'),\n Text(0.2018348623853211, 0.6904761904761905, 'gini = 0.0\\nsamples = 2\\nvalue = [0, 2]'),\n Text(0.22018348623853212, 0.6904761904761905, 'gini = 0.0\\nsamples = 1\\nvalue = [1, 0]'),\n Text(0.24770642201834864, 0.7380952380952381, 'X[1] <= 54596.5\\ngini = 0.087\\nsamples = 44\\nvalue = [42, 2]'),\n Text(0.23853211009174313, 0.6904761904761905, 'X[2] <= 9658514.5\\ngini = 0.045\\nsamples = 43\\nvalue = [42, 1]'),\n Text(0.22935779816513763, 0.6428571428571429, 'gini = 0.0\\nsamples = 27\\nvalue = [27, 0]'),\n Text(0.24770642201834864, 0.6428571428571429, 'X[67] <= 16384.0\\ngini = 0.117\\nsamples = 16\\nvalue = [15, 1]'),\n Text(0.23853211009174313, 0.5952380952380952, 'gini = 0.0\\nsamples = 15\\nvalue = [15, 0]'),\n Text(0.25688073394495414, 0.5952380952380952, 'gini = 0.0\\nsamples = 1\\nvalue = [0, 1]'),\n Text(0.25688073394495414, 0.6904761904761905, 'gini = 0.0\\nsamples = 1\\nvalue = [0, 1]'),\n Text(0.23853211009174313, 0.8333333333333334, 'gini = 0.0\\nsamples = 4864\\nvalue = [4864, 0]'),\n Text(0.37593176605504586, 0.9285714285714286, 'X[0] <= 14797.0\\ngini = 0.018\\nsamples = 1118678\\nvalue = [1108577, 10101]'),\n Text(0.29357798165137616, 0.8809523809523809, 'X[0] <= 10023.0\\ngini = 0.008\\nsamples = 5523\\nvalue = [23, 5500]'),\n Text(0.28440366972477066, 0.8333333333333334, 'X[13] <= 343.5\\ngini = 0.499\\nsamples = 48\\nvalue = [23, 25]'),\n Text(0.27522935779816515, 0.7857142857142857, 'X[11] <= 328.0\\ngini = 0.074\\nsamples = 26\\nvalue = [1, 25]'),\n Text(0.26605504587155965, 0.7380952380952381, 'gini = 0.0\\nsamples = 1\\nvalue = [1, 0]'),\n Text(0.28440366972477066, 0.7380952380952381, 'gini = 0.0\\nsamples = 25\\nvalue = [0, 25]'),\n Text(0.29357798165137616, 0.7857142857142857, 'gini = 0.0\\nsamples = 22\\nvalue = [22, 0]'),\n Text(0.30275229357798167, 0.8333333333333334, 'gini = 0.0\\nsamples = 5475\\nvalue = [0, 5475]'),\n Text(0.4582855504587156, 0.8809523809523809, 'X[5] <= 3671499997184.0\\ngini = 0.008\\nsamples = 1113155\\nvalue = [1108554, 4601]'),\n Text(0.3211009174311927, 0.8333333333333334, 'X[0] <= 10109506.0\\ngini = 0.405\\nsamples = 1524\\nvalue = [430, 1094]'),\n Text(0.3119266055045872, 0.7857142857142857, 'gini = 0.0\\nsamples = 426\\nvalue = [426, 0]'),\n Text(0.3302752293577982, 0.7857142857142857, 'X[0] <= 1807113088.0\\ngini = 0.007\\nsamples = 1098\\nvalue = [4, 1094]'),\n Text(0.3211009174311927, 0.7380952380952381, 'gini = 0.0\\nsamples = 1092\\nvalue = [0, 1092]'),\n Text(0.3394495412844037, 0.7380952380952381, 'X[17] <= 27.0\\ngini = 0.444\\nsamples = 6\\nvalue = [4, 2]'),\n Text(0.3302752293577982, 0.6904761904761905, 'gini = 0.0\\nsamples = 2\\nvalue = [0, 2]'),\n Text(0.3486238532110092, 0.6904761904761905, 'gini = 0.0\\nsamples = 4\\nvalue = [4, 0]'),\n Text(0.5954701834862385, 0.8333333333333334, 'X[64] <= 11262707.5\\ngini = 0.006\\nsamples = 1111631\\nvalue = [1108124, 3507]'),\n Text(0.5131880733944955, 0.7857142857142857, 'X[5] <= 4301500055552.0\\ngini = 0.006\\nsamples = 1111316\\nvalue = [1108105, 3211]'),\n Text(0.3944954128440367, 0.7380952380952381, 'X[52] <= 0.093\\ngini = 0.162\\nsamples = 19873\\nvalue = [18105, 1768]'),\n Text(0.3669724770642202, 0.6904761904761905, 'X[0] <= 10109506.0\\ngini = 0.156\\nsamples = 1635\\nvalue = [139, 1496]'),\n Text(0.3577981651376147, 0.6428571428571429, 'gini = 0.0\\nsamples = 139\\nvalue = [139, 0]'),\n Text(0.3761467889908257, 0.6428571428571429, 'gini = 0.0\\nsamples = 1496\\nvalue = [0, 1496]'),\n Text(0.42201834862385323, 0.6904761904761905, 'X[15] <= 1508.0\\ngini = 0.029\\nsamples = 18238\\nvalue = [17966, 272]'),\n Text(0.3944954128440367, 0.6428571428571429, 'X[0] <= 18864817.0\\ngini = 0.017\\nsamples = 18088\\nvalue = [17929, 159]'),\n Text(0.3853211009174312, 0.5952380952380952, 'gini = 0.0\\nsamples = 16623\\nvalue = [16623, 0]'),\n Text(0.4036697247706422, 0.5952380952380952, 'X[67] <= 64805.5\\ngini = 0.194\\nsamples = 1465\\nvalue = [1306, 159]'),\n Text(0.3944954128440367, 0.5476190476190477, 'X[15] <= 1170.0\\ngini = 0.012\\nsamples = 160\\nvalue = [1, 159]'),\n Text(0.3853211009174312, 0.5, 'gini = 0.0\\nsamples = 159\\nvalue = [0, 159]'),\n Text(0.4036697247706422, 0.5, 'gini = 0.0\\nsamples = 1\\nvalue = [1, 0]'),\n Text(0.41284403669724773, 0.5476190476190477, 'gini = 0.0\\nsamples = 1305\\nvalue = [1305, 0]'),\n Text(0.44954128440366975, 0.6428571428571429, 'X[0] <= 241118968.0\\ngini = 0.372\\nsamples = 150\\nvalue = [37, 113]'),\n Text(0.44036697247706424, 0.5952380952380952, 'X[0] <= 11165373.5\\ngini = 0.034\\nsamples = 115\\nvalue = [2, 113]'),\n Text(0.43119266055045874, 0.5476190476190477, 'gini = 0.0\\nsamples = 2\\nvalue = [2, 0]'),\n Text(0.44954128440366975, 0.5476190476190477, 'gini = 0.0\\nsamples = 113\\nvalue = [0, 113]'),\n Text(0.45871559633027525, 0.5952380952380952, 'gini = 0.0\\nsamples = 35\\nvalue = [35, 0]'),\n Text(0.6318807339449541, 0.7380952380952381, 'X[5] <= 1.5115980717865042e+18\\ngini = 0.003\\nsamples = 1091443\\nvalue = [1090000, 1443]'),\n Text(0.6227064220183486, 0.6904761904761905, 'X[5] <= 5527499964416.0\\ngini = 0.003\\nsamples = 1091397\\nvalue = [1090000, 1397]'),\n Text(0.5068807339449541, 0.6428571428571429, 'X[65] <= 0.5\\ngini = 0.06\\nsamples = 30591\\nvalue = [29641, 950]'),\n Text(0.47706422018348627, 0.5952380952380952, 'X[0] <= 10109506.0\\ngini = 0.25\\nsamples = 927\\nvalue = [136, 791]'),\n Text(0.46788990825688076, 0.5476190476190477, 'gini = 0.0\\nsamples = 136\\nvalue = [136, 0]'),\n Text(0.48623853211009177, 0.5476190476190477, 'gini = 0.0\\nsamples = 791\\nvalue = [0, 791]'),\n Text(0.536697247706422, 0.5952380952380952, 'X[15] <= 1506.5\\ngini = 0.011\\nsamples = 29664\\nvalue = [29505, 159]'),\n Text(0.5045871559633027, 0.5476190476190477, 'X[64] <= 54.5\\ngini = 0.008\\nsamples = 29593\\nvalue = [29469, 124]'),\n Text(0.48623853211009177, 0.5, 'X[67] <= 47865.0\\ngini = 0.438\\nsamples = 37\\nvalue = [12, 25]'),\n Text(0.47706422018348627, 0.4523809523809524, 'gini = 0.0\\nsamples = 25\\nvalue = [0, 25]'),\n Text(0.4954128440366973, 0.4523809523809524, 'gini = 0.0\\nsamples = 12\\nvalue = [12, 0]'),\n Text(0.5229357798165137, 0.5, 'X[40] <= 240.5\\ngini = 0.007\\nsamples = 29556\\nvalue = [29457, 99]'),\n Text(0.5137614678899083, 0.4523809523809524, 'X[0] <= 18864817.0\\ngini = 0.006\\nsamples = 29548\\nvalue = [29457, 91]'),\n Text(0.4954128440366973, 0.40476190476190477, 'X[54] <= 783.9\\ngini = 0.0\\nsamples = 27165\\nvalue = [27164, 1]'),\n Text(0.48623853211009177, 0.35714285714285715, 'gini = 0.0\\nsamples = 27154\\nvalue = [27154, 0]'),\n Text(0.5045871559633027, 0.35714285714285715, 'X[29] <= 1152.0\\ngini = 0.165\\nsamples = 11\\nvalue = [10, 1]'),\n Text(0.4954128440366973, 0.30952380952380953, 'gini = 0.0\\nsamples = 10\\nvalue = [10, 0]'),\n Text(0.5137614678899083, 0.30952380952380953, 'gini = 0.0\\nsamples = 1\\nvalue = [0, 1]'),\n Text(0.5321100917431193, 0.40476190476190477, 'X[67] <= 49151.5\\ngini = 0.073\\nsamples = 2383\\nvalue = [2293, 90]'),\n Text(0.5229357798165137, 0.35714285714285715, 'gini = 0.0\\nsamples = 90\\nvalue = [0, 90]'),\n Text(0.5412844036697247, 0.35714285714285715, 'gini = 0.0\\nsamples = 2293\\nvalue = [2293, 0]'),\n Text(0.5321100917431193, 0.4523809523809524, 'gini = 0.0\\nsamples = 8\\nvalue = [0, 8]'),\n Text(0.5688073394495413, 0.5476190476190477, 'X[67] <= 64887.5\\ngini = 0.5\\nsamples = 71\\nvalue = [36, 35]'),\n Text(0.5596330275229358, 0.5, 'X[5] <= 5508999938048.0\\ngini = 0.054\\nsamples = 36\\nvalue = [1, 35]'),\n Text(0.5504587155963303, 0.4523809523809524, 'gini = 0.0\\nsamples = 35\\nvalue = [0, 35]'),\n Text(0.5688073394495413, 0.4523809523809524, 'gini = 0.0\\nsamples = 1\\nvalue = [1, 0]'),\n Text(0.5779816513761468, 0.5, 'gini = 0.0\\nsamples = 35\\nvalue = [35, 0]'),\n Text(0.7385321100917431, 0.6428571428571429, 'X[5] <= 8104500002816.0\\ngini = 0.001\\nsamples = 1060806\\nvalue = [1060359, 447]'),\n Text(0.6284403669724771, 0.5952380952380952, 'X[55] <= 25.0\\ngini = 0.023\\nsamples = 24250\\nvalue = [23966, 284]'),\n Text(0.6055045871559633, 0.5476190476190477, 'X[0] <= 10109507.0\\ngini = 0.472\\nsamples = 348\\nvalue = [133, 215]'),\n Text(0.5963302752293578, 0.5, 'gini = 0.0\\nsamples = 133\\nvalue = [133, 0]'),\n Text(0.6146788990825688, 0.5, 'gini = 0.0\\nsamples = 215\\nvalue = [0, 215]'),\n Text(0.6513761467889908, 0.5476190476190477, 'X[7] <= 1212.5\\ngini = 0.006\\nsamples = 23902\\nvalue = [23833, 69]'),\n Text(0.6330275229357798, 0.5, 'X[40] <= 240.5\\ngini = 0.004\\nsamples = 23874\\nvalue = [23828, 46]'),\n Text(0.6238532110091743, 0.4523809523809524, 'X[15] <= 1498.5\\ngini = 0.004\\nsamples = 23870\\nvalue = [23828, 42]'),\n Text(0.6055045871559633, 0.40476190476190477, 'X[59] <= 18243101.0\\ngini = 0.003\\nsamples = 23843\\nvalue = [23810, 33]'),\n Text(0.5963302752293578, 0.35714285714285715, 'X[0] <= 14914377.5\\ngini = 0.003\\nsamples = 23842\\nvalue = [23810, 32]'),\n Text(0.5871559633027523, 0.30952380952380953, 'gini = 0.0\\nsamples = 22370\\nvalue = [22370, 0]'),\n Text(0.6055045871559633, 0.30952380952380953, 'X[67] <= 63671.0\\ngini = 0.043\\nsamples = 1472\\nvalue = [1440, 32]'),\n Text(0.5963302752293578, 0.2619047619047619, 'gini = 0.0\\nsamples = 32\\nvalue = [0, 32]'),\n Text(0.6146788990825688, 0.2619047619047619, 'gini = 0.0\\nsamples = 1440\\nvalue = [1440, 0]'),\n Text(0.6146788990825688, 0.35714285714285715, 'gini = 0.0\\nsamples = 1\\nvalue = [0, 1]'),\n Text(0.6422018348623854, 0.40476190476190477, 'X[67] <= 49151.5\\ngini = 0.444\\nsamples = 27\\nvalue = [18, 9]'),\n Text(0.6330275229357798, 0.35714285714285715, 'gini = 0.0\\nsamples = 9\\nvalue = [0, 9]'),\n Text(0.6513761467889908, 0.35714285714285715, 'gini = 0.0\\nsamples = 18\\nvalue = [18, 0]'),\n Text(0.6422018348623854, 0.4523809523809524, 'gini = 0.0\\nsamples = 4\\nvalue = [0, 4]'),\n Text(0.6697247706422018, 0.5, 'X[68] <= 64173.5\\ngini = 0.293\\nsamples = 28\\nvalue = [5, 23]'),\n Text(0.6605504587155964, 0.4523809523809524, 'gini = 0.0\\nsamples = 23\\nvalue = [0, 23]'),\n Text(0.6788990825688074, 0.4523809523809524, 'gini = 0.0\\nsamples = 5\\nvalue = [5, 0]'),\n Text(0.8486238532110092, 0.5952380952380952, 'X[68] <= 64237.0\\ngini = 0.0\\nsamples = 1036556\\nvalue = [1036393, 163]'),\n Text(0.7431192660550459, 0.5476190476190477, 'X[5] <= 62450498011136.0\\ngini = 0.0\\nsamples = 1027624\\nvalue = [1027600, 24]'),\n Text(0.7064220183486238, 0.5, 'X[3] <= 51605.0\\ngini = 0.014\\nsamples = 1600\\nvalue = [1589, 11]'),\n Text(0.6972477064220184, 0.4523809523809524, 'gini = 0.0\\nsamples = 1589\\nvalue = [1589, 0]'),\n Text(0.7155963302752294, 0.4523809523809524, 'gini = 0.0\\nsamples = 11\\nvalue = [0, 11]'),\n Text(0.7798165137614679, 0.5, 'X[68] <= 62835.0\\ngini = 0.0\\nsamples = 1026024\\nvalue = [1026011, 13]'),\n Text(0.7339449541284404, 0.4523809523809524, 'X[2] <= 15115.0\\ngini = 0.0\\nsamples = 1023228\\nvalue = [1023221, 7]'),\n Text(0.7110091743119266, 0.40476190476190477, 'X[2] <= 10126.5\\ngini = 0.001\\nsamples = 6745\\nvalue = [6741, 4]'),\n Text(0.7018348623853211, 0.35714285714285715, 'gini = 0.0\\nsamples = 6741\\nvalue = [6741, 0]'),\n Text(0.7201834862385321, 0.35714285714285715, 'gini = 0.0\\nsamples = 4\\nvalue = [0, 4]'),\n Text(0.7568807339449541, 0.40476190476190477, 'X[1] <= 65513.5\\ngini = 0.0\\nsamples = 1016483\\nvalue = [1016480, 3]'),\n Text(0.7385321100917431, 0.35714285714285715, 'X[0] <= 10834590.5\\ngini = 0.0\\nsamples = 1016048\\nvalue = [1016046, 2]'),\n Text(0.7293577981651376, 0.30952380952380953, 'X[0] <= 10555428.0\\ngini = 0.0\\nsamples = 27182\\nvalue = [27180, 2]'),\n Text(0.7201834862385321, 0.2619047619047619, 'gini = 0.0\\nsamples = 27180\\nvalue = [27180, 0]'),\n Text(0.7385321100917431, 0.2619047619047619, 'gini = 0.0\\nsamples = 2\\nvalue = [0, 2]'),\n Text(0.7477064220183486, 0.30952380952380953, 'gini = 0.0\\nsamples = 988866\\nvalue = [988866, 0]'),\n Text(0.7752293577981652, 0.35714285714285715, 'X[0] <= 14914956.5\\ngini = 0.005\\nsamples = 435\\nvalue = [434, 1]'),\n Text(0.7660550458715596, 0.30952380952380953, 'gini = 0.0\\nsamples = 1\\nvalue = [0, 1]'),\n Text(0.7844036697247706, 0.30952380952380953, 'gini = 0.0\\nsamples = 434\\nvalue = [434, 0]'),\n Text(0.8256880733944955, 0.4523809523809524, 'X[68] <= 62837.5\\ngini = 0.004\\nsamples = 2796\\nvalue = [2790, 6]'),\n Text(0.8165137614678899, 0.40476190476190477, 'gini = 0.0\\nsamples = 1\\nvalue = [0, 1]'),\n Text(0.8348623853211009, 0.40476190476190477, 'X[0] <= 6728852.0\\ngini = 0.004\\nsamples = 2795\\nvalue = [2790, 5]'),\n Text(0.8119266055045872, 0.35714285714285715, 'X[1] <= 261.5\\ngini = 0.278\\nsamples = 12\\nvalue = [10, 2]'),\n Text(0.8027522935779816, 0.30952380952380953, 'gini = 0.0\\nsamples = 2\\nvalue = [0, 2]'),\n Text(0.8211009174311926, 0.30952380952380953, 'gini = 0.0\\nsamples = 10\\nvalue = [10, 0]'),\n Text(0.8577981651376146, 0.35714285714285715, 'X[19] <= 13.346\\ngini = 0.002\\nsamples = 2783\\nvalue = [2780, 3]'),\n Text(0.8394495412844036, 0.30952380952380953, 'X[29] <= 19.5\\ngini = 0.058\\nsamples = 67\\nvalue = [65, 2]'),\n Text(0.8302752293577982, 0.2619047619047619, 'X[22] <= 13915156.0\\ngini = 0.444\\nsamples = 3\\nvalue = [1, 2]'),\n Text(0.8211009174311926, 0.21428571428571427, 'gini = 0.0\\nsamples = 2\\nvalue = [0, 2]'),\n Text(0.8394495412844036, 0.21428571428571427, 'gini = 0.0\\nsamples = 1\\nvalue = [1, 0]'),\n Text(0.8486238532110092, 0.2619047619047619, 'gini = 0.0\\nsamples = 64\\nvalue = [64, 0]'),\n Text(0.8761467889908257, 0.30952380952380953, 'X[21] <= 5.0\\ngini = 0.001\\nsamples = 2716\\nvalue = [2715, 1]'),\n Text(0.8669724770642202, 0.2619047619047619, 'X[2] <= 866267706.5\\ngini = 0.091\\nsamples = 21\\nvalue = [20, 1]'),\n Text(0.8577981651376146, 0.21428571428571427, 'gini = 0.0\\nsamples = 1\\nvalue = [0, 1]'),\n Text(0.8761467889908257, 0.21428571428571427, 'gini = 0.0\\nsamples = 20\\nvalue = [20, 0]'),\n Text(0.8853211009174312, 0.2619047619047619, 'gini = 0.0\\nsamples = 2695\\nvalue = [2695, 0]'),\n Text(0.9541284403669725, 0.5476190476190477, 'X[62] <= 15302743.5\\ngini = 0.031\\nsamples = 8932\\nvalue = [8793, 139]'),\n Text(0.926605504587156, 0.5, 'X[68] <= 64239.5\\ngini = 0.022\\nsamples = 8869\\nvalue = [8772, 97]'),\n Text(0.9174311926605505, 0.4523809523809524, 'gini = 0.0\\nsamples = 20\\nvalue = [0, 20]'),\n Text(0.9357798165137615, 0.4523809523809524, 'X[68] <= 64241.5\\ngini = 0.017\\nsamples = 8849\\nvalue = [8772, 77]'),\n Text(0.926605504587156, 0.40476190476190477, 'X[0] <= 14292020.0\\ngini = 0.12\\nsamples = 1201\\nvalue = [1124, 77]'),\n Text(0.9036697247706422, 0.35714285714285715, 'X[3] <= 617.0\\ngini = 0.499\\nsamples = 111\\nvalue = [53, 58]'),\n Text(0.8944954128440367, 0.30952380952380953, 'gini = 0.0\\nsamples = 58\\nvalue = [0, 58]'),\n Text(0.9128440366972477, 0.30952380952380953, 'gini = 0.0\\nsamples = 53\\nvalue = [53, 0]'),\n Text(0.9495412844036697, 0.35714285714285715, 'X[60] <= 5852.333\\ngini = 0.034\\nsamples = 1090\\nvalue = [1071, 19]'),\n Text(0.9311926605504587, 0.30952380952380953, 'X[2] <= 189473300480.0\\ngini = 0.02\\nsamples = 1079\\nvalue = [1068, 11]'),\n Text(0.9220183486238532, 0.2619047619047619, 'X[0] <= 118584788.0\\ngini = 0.017\\nsamples = 1077\\nvalue = [1068, 9]'),\n Text(0.8990825688073395, 0.21428571428571427, 'X[0] <= 92692412.0\\ngini = 0.091\\nsamples = 147\\nvalue = [140, 7]'),\n Text(0.8899082568807339, 0.16666666666666666, 'gini = 0.0\\nsamples = 140\\nvalue = [140, 0]'),\n Text(0.908256880733945, 0.16666666666666666, 'gini = 0.0\\nsamples = 7\\nvalue = [0, 7]'),\n Text(0.944954128440367, 0.21428571428571427, 'X[19] <= 11.145\\ngini = 0.004\\nsamples = 930\\nvalue = [928, 2]'),\n Text(0.926605504587156, 0.16666666666666666, 'X[43] <= 1644999989002240.0\\ngini = 0.32\\nsamples = 5\\nvalue = [4, 1]'),\n Text(0.9174311926605505, 0.11904761904761904, 'gini = 0.0\\nsamples = 1\\nvalue = [0, 1]'),\n Text(0.9357798165137615, 0.11904761904761904, 'gini = 0.0\\nsamples = 4\\nvalue = [4, 0]'),\n Text(0.963302752293578, 0.16666666666666666, 'X[53] <= 60.705\\ngini = 0.002\\nsamples = 925\\nvalue = [924, 1]'),\n Text(0.9541284403669725, 0.11904761904761904, 'X[2] <= 12257315.5\\ngini = 0.019\\nsamples = 105\\nvalue = [104, 1]'),\n Text(0.944954128440367, 0.07142857142857142, 'X[9] <= 114.0\\ngini = 0.5\\nsamples = 2\\nvalue = [1, 1]'),\n Text(0.9357798165137615, 0.023809523809523808, 'gini = 0.0\\nsamples = 1\\nvalue = [1, 0]'),\n Text(0.9541284403669725, 0.023809523809523808, 'gini = 0.0\\nsamples = 1\\nvalue = [0, 1]'),\n Text(0.963302752293578, 0.07142857142857142, 'gini = 0.0\\nsamples = 103\\nvalue = [103, 0]'),\n Text(0.9724770642201835, 0.11904761904761904, 'gini = 0.0\\nsamples = 820\\nvalue = [820, 0]'),\n Text(0.9403669724770642, 0.2619047619047619, 'gini = 0.0\\nsamples = 2\\nvalue = [0, 2]'),\n Text(0.9678899082568807, 0.30952380952380953, 'X[39] <= 6.243\\ngini = 0.397\\nsamples = 11\\nvalue = [3, 8]'),\n Text(0.9587155963302753, 0.2619047619047619, 'gini = 0.0\\nsamples = 3\\nvalue = [3, 0]'),\n Text(0.9770642201834863, 0.2619047619047619, 'gini = 0.0\\nsamples = 8\\nvalue = [0, 8]'),\n Text(0.944954128440367, 0.40476190476190477, 'gini = 0.0\\nsamples = 7648\\nvalue = [7648, 0]'),\n Text(0.981651376146789, 0.5, 'X[1] <= 49779.5\\ngini = 0.444\\nsamples = 63\\nvalue = [21, 42]'),\n Text(0.9724770642201835, 0.4523809523809524, 'X[68] <= 64494.0\\ngini = 0.19\\nsamples = 47\\nvalue = [5, 42]'),\n Text(0.963302752293578, 0.40476190476190477, 'gini = 0.0\\nsamples = 42\\nvalue = [0, 42]'),\n Text(0.981651376146789, 0.40476190476190477, 'gini = 0.0\\nsamples = 5\\nvalue = [5, 0]'),\n Text(0.9908256880733946, 0.4523809523809524, 'gini = 0.0\\nsamples = 16\\nvalue = [16, 0]'),\n Text(0.6410550458715596, 0.6904761904761905, 'gini = 0.0\\nsamples = 46\\nvalue = [0, 46]'),\n Text(0.6777522935779816, 0.7857142857142857, 'X[15] <= 572.5\\ngini = 0.113\\nsamples = 315\\nvalue = [19, 296]'),\n Text(0.6685779816513762, 0.7380952380952381, 'X[59] <= 37791395.5\\ngini = 0.095\\nsamples = 20\\nvalue = [19, 1]'),\n Text(0.6594036697247706, 0.6904761904761905, 'gini = 0.0\\nsamples = 19\\nvalue = [19, 0]'),\n Text(0.6777522935779816, 0.6904761904761905, 'gini = 0.0\\nsamples = 1\\nvalue = [0, 1]'),\n Text(0.6869266055045872, 0.7380952380952381, 'gini = 0.0\\nsamples = 295\\nvalue = [0, 295]')]"
     },
     "execution_count": 31,
     "metadata": {},
     "output_type": "execute_result"
    },
    {
     "data": {
      "text/plain": "<Figure size 432x288 with 1 Axes>",
      "image/png": "[encoded data removed]"
     },
     "metadata": {
      "needs_background": "light"
     },
     "output_type": "display_data"
    }
   ],
   "source": [
    "plot_tree(dt_model)"
   ],
   "metadata": {
    "collapsed": false
   }
  },
  {
   "cell_type": "markdown",
   "source": [
    "### VALUTAZIONE MODELLO"
   ],
   "metadata": {
    "collapsed": false
   }
  },
  {
   "cell_type": "code",
   "execution_count": 32,
   "outputs": [
    {
     "name": "stdout",
     "output_type": "stream",
     "text": [
      "Precision in training phase: 1.0\n",
      "Precision in testing phase: 0.9999565286120772\n"
     ]
    }
   ],
   "source": [
    "print(f\"Precision in training phase: {dt_model.score(X_train, y_train)}\")\n",
    "print(f\"Precision in testing phase: {dt_model.score(X_test, y_test)}\")"
   ],
   "metadata": {
    "collapsed": false
   }
  },
  {
   "cell_type": "markdown",
   "source": [
    "### FEATURES IMPORTANCE/DIMENSIONAL REDUCTION\n",
    "\n",
    "Per fare ciò sfrutto la proprietà *feature_importances\\_* messa a disposizione dal modello"
   ],
   "metadata": {
    "collapsed": false
   }
  },
  {
   "cell_type": "code",
   "execution_count": 33,
   "outputs": [
    {
     "name": "stdout",
     "output_type": "stream",
     "text": [
      "Feature: 0, Score: 0.16700\n",
      "Feature: 1, Score: 0.00051\n",
      "Feature: 2, Score: 0.00068\n",
      "Feature: 3, Score: 0.00174\n",
      "Feature: 4, Score: 0.00000\n",
      "Feature: 5, Score: 0.03176\n",
      "Feature: 6, Score: 0.00000\n",
      "Feature: 7, Score: 0.00030\n",
      "Feature: 8, Score: 0.00000\n",
      "Feature: 9, Score: 0.00001\n",
      "Feature: 10, Score: 0.00000\n",
      "Feature: 11, Score: 0.00002\n",
      "Feature: 12, Score: 0.00000\n",
      "Feature: 13, Score: 0.00019\n",
      "Feature: 14, Score: 0.00000\n",
      "Feature: 15, Score: 0.00192\n",
      "Feature: 16, Score: 0.00000\n",
      "Feature: 17, Score: 0.00002\n",
      "Feature: 18, Score: 0.00000\n",
      "Feature: 19, Score: 0.00000\n",
      "Feature: 20, Score: 0.00000\n",
      "Feature: 21, Score: 0.00000\n",
      "Feature: 22, Score: 0.00001\n",
      "Feature: 23, Score: 0.00000\n",
      "Feature: 24, Score: 0.00000\n",
      "Feature: 25, Score: 0.00000\n",
      "Feature: 26, Score: 0.00000\n",
      "Feature: 27, Score: 0.00000\n",
      "Feature: 28, Score: 0.00000\n",
      "Feature: 29, Score: 0.00003\n",
      "Feature: 30, Score: 0.00000\n",
      "Feature: 31, Score: 0.00000\n",
      "Feature: 32, Score: 0.00000\n",
      "Feature: 33, Score: 0.00000\n",
      "Feature: 34, Score: 0.00000\n",
      "Feature: 35, Score: 0.00000\n",
      "Feature: 36, Score: 0.00002\n",
      "Feature: 37, Score: 0.00000\n",
      "Feature: 38, Score: 0.75280\n",
      "Feature: 39, Score: 0.00003\n",
      "Feature: 40, Score: 0.00021\n",
      "Feature: 41, Score: 0.00000\n",
      "Feature: 42, Score: 0.00000\n",
      "Feature: 43, Score: 0.00001\n",
      "Feature: 44, Score: 0.00000\n",
      "Feature: 45, Score: 0.00041\n",
      "Feature: 46, Score: 0.00000\n",
      "Feature: 47, Score: 0.00000\n",
      "Feature: 48, Score: 0.00000\n",
      "Feature: 49, Score: 0.00000\n",
      "Feature: 50, Score: 0.00000\n",
      "Feature: 51, Score: 0.00000\n",
      "Feature: 52, Score: 0.01944\n",
      "Feature: 53, Score: 0.00000\n",
      "Feature: 54, Score: 0.00000\n",
      "Feature: 55, Score: 0.00207\n",
      "Feature: 56, Score: 0.00000\n",
      "Feature: 57, Score: 0.00000\n",
      "Feature: 58, Score: 0.00000\n",
      "Feature: 59, Score: 0.00003\n",
      "Feature: 60, Score: 0.00009\n",
      "Feature: 61, Score: 0.00000\n",
      "Feature: 62, Score: 0.00043\n",
      "Feature: 63, Score: 0.00000\n",
      "Feature: 64, Score: 0.00470\n",
      "Feature: 65, Score: 0.01034\n",
      "Feature: 66, Score: 0.00000\n",
      "Feature: 67, Score: 0.00465\n",
      "Feature: 68, Score: 0.00057\n",
      "Feature: 69, Score: 0.00000\n",
      "Feature: 70, Score: 0.00000\n",
      "Feature: 71, Score: 0.00000\n",
      "Feature: 72, Score: 0.00000\n",
      "Feature: 73, Score: 0.00000\n",
      "Feature: 74, Score: 0.00000\n",
      "Feature: 75, Score: 0.00000\n",
      "Feature: 76, Score: 0.00000\n",
      "Feature: 77, Score: 0.00000\n",
      "Feature: 78, Score: 0.00000\n"
     ]
    },
    {
     "data": {
      "text/plain": "<Figure size 432x288 with 1 Axes>",
      "image/png": "[encoded data removed]"
     },
     "metadata": {
      "needs_background": "light"
     },
     "output_type": "display_data"
    }
   ],
   "source": [
    "importance = dt_model.feature_importances_\n",
    "\n",
    "for i,v in enumerate(importance):\n",
    " print('Feature: %0d, Score: %.5f' % (i, v))\n",
    "\n",
    "plt.bar([x for x in range(len(importance))], importance)\n",
    "plt.show()"
   ],
   "metadata": {
    "collapsed": false
   }
  },
  {
   "cell_type": "markdown",
   "source": [
    "### DATASET BILANCIATO"
   ],
   "metadata": {
    "collapsed": false
   }
  },
  {
   "cell_type": "code",
   "execution_count": 34,
   "outputs": [
    {
     "name": "stdout",
     "output_type": "stream",
     "text": [
      "INIZIO ADDESTRAMENTO DECISION TREE\n",
      "L'addestramento del decision tree ha impiegato 54.063467025756836 secondi\n",
      "SALVATAGGIO MODELLO IN ../exported_model/dt_balance.pkl\n"
     ]
    }
   ],
   "source": [
    "try:\n",
    "    with open(f\"{EXPORTED_MODEL}/dt_balance.pkl\", 'rb') as file:\n",
    "        print(\"CARICAMENTO MODELLO DA ../exported_model/dt_balance.pkl\")\n",
    "\n",
    "        dt_balance_model = pkl.load(file)\n",
    "except IOError:\n",
    "    dt = DecisionTreeClassifier()\n",
    "    start_time = time.time()\n",
    "\n",
    "    print(\"INIZIO ADDESTRAMENTO DECISION TREE\")\n",
    "    dt_balance_model = dt.fit(X_train_balanced, y_train_balanced)\n",
    "\n",
    "    print(f\"L'addestramento del decision tree ha impiegato {time.time() - start_time} secondi\")\n",
    "\n",
    "    print(\"SALVATAGGIO MODELLO IN ../exported_model/dt_balance.pkl\")\n",
    "    with open(f\"{EXPORTED_MODEL}/dt_balance.pkl\", 'wb') as file:\n",
    "        pkl.dump(dt_balance_model, file)"
   ],
   "metadata": {
    "collapsed": false
   }
  },
  {
   "cell_type": "markdown",
   "source": [
    "Visualizzo il decision tree"
   ],
   "metadata": {
    "collapsed": false
   }
  },
  {
   "cell_type": "code",
   "execution_count": 35,
   "outputs": [
    {
     "data": {
      "text/plain": "[Text(0.5988843599907199, 0.9807692307692307, 'X[65] <= 0.5\\ngini = 0.5\\nsamples = 2229218\\nvalue = [1114609, 1114609]'),\n Text(0.49567208442151844, 0.9423076923076923, 'X[0] <= 103909828.0\\ngini = 0.132\\nsamples = 1137930\\nvalue = [81049, 1056881]'),\n Text(0.45968329533540503, 0.9038461538461539, 'X[5] <= 1.488245475604693e+18\\ngini = 0.013\\nsamples = 1059664\\nvalue = [6885, 1052779]'),\n Text(0.43606600127984735, 0.8653846153846154, 'X[24] <= 2996190.5\\ngini = 0.006\\nsamples = 1055580\\nvalue = [2986, 1052594]'),\n Text(0.4033394984037328, 0.8269230769230769, 'X[77] <= 30018466.0\\ngini = 0.003\\nsamples = 1054016\\nvalue = [1832, 1052184]'),\n Text(0.3669026631215052, 0.7884615384615384, 'X[45] <= 0.5\\ngini = 0.003\\nsamples = 1053604\\nvalue = [1555, 1052049]'),\n Text(0.325463177232885, 0.75, 'X[25] <= 90047940.0\\ngini = 0.002\\nsamples = 1046373\\nvalue = [988, 1045385]'),\n Text(0.2885264753664803, 0.7115384615384616, 'X[19] <= 1326737.125\\ngini = 0.002\\nsamples = 1045885\\nvalue = [882, 1045003]'),\n Text(0.23883321369200544, 0.6730769230769231, 'X[77] <= 2995086.0\\ngini = 0.002\\nsamples = 1045744\\nvalue = [838, 1044906]'),\n Text(0.15879080398972345, 0.6346153846153846, 'X[58] <= 3.999\\ngini = 0.001\\nsamples = 1042605\\nvalue = [629, 1041976]'),\n Text(0.05673832552516246, 0.5961538461538461, 'X[1] <= 80.5\\ngini = 0.001\\nsamples = 1037915\\nvalue = [420, 1037495]'),\n Text(0.024180142058334592, 0.5576923076923077, 'X[5] <= 8048000106496.0\\ngini = 0.07\\nsamples = 3130\\nvalue = [113, 3017]'),\n Text(0.019344113646667674, 0.5192307692307693, 'X[2] <= 8136774.0\\ngini = 0.018\\nsamples = 3045\\nvalue = [28, 3017]'),\n Text(0.009672056823333837, 0.4807692307692308, 'X[12] <= 322.0\\ngini = 0.245\\nsamples = 7\\nvalue = [6, 1]'),\n Text(0.0048360284116669185, 0.4423076923076923, 'gini = 0.0\\nsamples = 1\\nvalue = [0, 1]'),\n Text(0.014508085235000755, 0.4423076923076923, 'gini = 0.0\\nsamples = 6\\nvalue = [6, 0]'),\n Text(0.02901617047000151, 0.4807692307692308, 'X[14] <= 2.386\\ngini = 0.014\\nsamples = 3038\\nvalue = [22, 3016]'),\n Text(0.024180142058334592, 0.4423076923076923, 'X[0] <= 101519.0\\ngini = 0.012\\nsamples = 3035\\nvalue = [19, 3016]'),\n Text(0.019344113646667674, 0.40384615384615385, 'X[44] <= 0.018\\ngini = 0.147\\nsamples = 237\\nvalue = [19, 218]'),\n Text(0.014508085235000755, 0.36538461538461536, 'X[5] <= 3643999911936.0\\ngini = 0.172\\nsamples = 21\\nvalue = [19, 2]'),\n Text(0.009672056823333837, 0.3269230769230769, 'X[0] <= 50107.5\\ngini = 0.444\\nsamples = 3\\nvalue = [1, 2]'),\n Text(0.0048360284116669185, 0.28846153846153844, 'gini = 0.0\\nsamples = 2\\nvalue = [0, 2]'),\n Text(0.014508085235000755, 0.28846153846153844, 'gini = 0.0\\nsamples = 1\\nvalue = [1, 0]'),\n Text(0.019344113646667674, 0.3269230769230769, 'gini = 0.0\\nsamples = 18\\nvalue = [18, 0]'),\n Text(0.024180142058334592, 0.36538461538461536, 'gini = 0.0\\nsamples = 216\\nvalue = [0, 216]'),\n Text(0.02901617047000151, 0.40384615384615385, 'gini = 0.0\\nsamples = 2798\\nvalue = [0, 2798]'),\n Text(0.03385219888166843, 0.4423076923076923, 'gini = 0.0\\nsamples = 3\\nvalue = [3, 0]'),\n Text(0.02901617047000151, 0.5192307692307693, 'gini = 0.0\\nsamples = 85\\nvalue = [85, 0]'),\n Text(0.08929650899199033, 0.5576923076923077, 'X[3] <= 53.5\\ngini = 0.001\\nsamples = 1034785\\nvalue = [307, 1034478]'),\n Text(0.05803234094000302, 0.5192307692307693, 'X[38] <= 0.003\\ngini = 0.027\\nsamples = 7995\\nvalue = [110, 7885]'),\n Text(0.048360284116669185, 0.4807692307692308, 'X[5] <= 3640499896320.0\\ngini = 0.053\\nsamples = 74\\nvalue = [72, 2]'),\n Text(0.04352425570500227, 0.4423076923076923, 'gini = 0.0\\nsamples = 2\\nvalue = [0, 2]'),\n Text(0.05319631252833611, 0.4423076923076923, 'gini = 0.0\\nsamples = 72\\nvalue = [72, 0]'),\n Text(0.06770439776333687, 0.4807692307692308, 'X[2] <= 1434869408.0\\ngini = 0.01\\nsamples = 7921\\nvalue = [38, 7883]'),\n Text(0.06286836935166994, 0.4423076923076923, 'gini = 0.0\\nsamples = 7883\\nvalue = [0, 7883]'),\n Text(0.07254042617500378, 0.4423076923076923, 'gini = 0.0\\nsamples = 38\\nvalue = [38, 0]'),\n Text(0.12056067704397763, 0.5192307692307693, 'X[14] <= 158.903\\ngini = 0.0\\nsamples = 1026790\\nvalue = [197, 1026593]'),\n Text(0.11572464863231072, 0.4807692307692308, 'X[69] <= 1.5\\ngini = 0.0\\nsamples = 1026789\\nvalue = [196, 1026593]'),\n Text(0.08221248299833761, 0.4423076923076923, 'X[1] <= 5354.0\\ngini = 0.0\\nsamples = 958070\\nvalue = [23, 958047]'),\n Text(0.07254042617500378, 0.40384615384615385, 'X[1] <= 5351.5\\ngini = 0.003\\nsamples = 14418\\nvalue = [22, 14396]'),\n Text(0.06770439776333687, 0.36538461538461536, 'X[5] <= 6.481187798631055e+17\\ngini = 0.0\\nsamples = 14399\\nvalue = [3, 14396]'),\n Text(0.06286836935166994, 0.3269230769230769, 'gini = 0.0\\nsamples = 14396\\nvalue = [0, 14396]'),\n Text(0.07254042617500378, 0.3269230769230769, 'gini = 0.0\\nsamples = 3\\nvalue = [3, 0]'),\n Text(0.0773764545866707, 0.36538461538461536, 'gini = 0.0\\nsamples = 19\\nvalue = [19, 0]'),\n Text(0.09188453982167145, 0.40384615384615385, 'X[3] <= 58796.0\\ngini = 0.0\\nsamples = 943652\\nvalue = [1, 943651]'),\n Text(0.08704851141000454, 0.36538461538461536, 'gini = 0.0\\nsamples = 942827\\nvalue = [0, 942827]'),\n Text(0.09672056823333837, 0.36538461538461536, 'X[2] <= 594811136.0\\ngini = 0.002\\nsamples = 825\\nvalue = [1, 824]'),\n Text(0.09188453982167145, 0.3269230769230769, 'gini = 0.0\\nsamples = 824\\nvalue = [0, 824]'),\n Text(0.10155659664500528, 0.3269230769230769, 'gini = 0.0\\nsamples = 1\\nvalue = [1, 0]'),\n Text(0.14923681426628382, 0.4423076923076923, 'X[5] <= 6.810861296712417e+17\\ngini = 0.005\\nsamples = 68719\\nvalue = [173, 68546]'),\n Text(0.1444007858546169, 0.40384615384615385, 'X[6] <= 404.5\\ngini = 0.004\\nsamples = 68692\\nvalue = [146, 68546]'),\n Text(0.11606468188000604, 0.36538461538461536, 'X[44] <= 0.125\\ngini = 0.48\\nsamples = 5\\nvalue = [2, 3]'),\n Text(0.11122865346833913, 0.3269230769230769, 'gini = 0.0\\nsamples = 3\\nvalue = [0, 3]'),\n Text(0.12090071029167296, 0.3269230769230769, 'gini = 0.0\\nsamples = 2\\nvalue = [2, 0]'),\n Text(0.17273688982922775, 0.36538461538461536, 'X[6] <= 100632.996\\ngini = 0.004\\nsamples = 68687\\nvalue = [144, 68543]'),\n Text(0.1305727671150068, 0.3269230769230769, 'X[0] <= 1020221.0\\ngini = 0.022\\nsamples = 5898\\nvalue = [67, 5831]'),\n Text(0.12573673870333987, 0.28846153846153844, 'X[0] <= 982790.5\\ngini = 0.113\\nsamples = 1110\\nvalue = [67, 1043]'),\n Text(0.12090071029167296, 0.25, 'X[0] <= 95953.0\\ngini = 0.017\\nsamples = 1052\\nvalue = [9, 1043]'),\n Text(0.11606468188000604, 0.21153846153846154, 'gini = 0.0\\nsamples = 996\\nvalue = [0, 996]'),\n Text(0.12573673870333987, 0.21153846153846154, 'X[0] <= 103797.0\\ngini = 0.27\\nsamples = 56\\nvalue = [9, 47]'),\n Text(0.12090071029167296, 0.17307692307692307, 'gini = 0.0\\nsamples = 9\\nvalue = [9, 0]'),\n Text(0.1305727671150068, 0.17307692307692307, 'gini = 0.0\\nsamples = 47\\nvalue = [0, 47]'),\n Text(0.1305727671150068, 0.25, 'gini = 0.0\\nsamples = 58\\nvalue = [58, 0]'),\n Text(0.13540879552667373, 0.28846153846153844, 'gini = 0.0\\nsamples = 4788\\nvalue = [0, 4788]'),\n Text(0.2149010125434487, 0.3269230769230769, 'X[1] <= 137.5\\ngini = 0.002\\nsamples = 62789\\nvalue = [77, 62712]'),\n Text(0.17288801571709234, 0.28846153846153844, 'X[29] <= 750434.5\\ngini = 0.014\\nsamples = 4888\\nvalue = [35, 4853]'),\n Text(0.15717092337917485, 0.25, 'X[5] <= 3741999955968.0\\ngini = 0.006\\nsamples = 4774\\nvalue = [14, 4760]'),\n Text(0.14508085235000756, 0.21153846153846154, 'X[2] <= 71885735.5\\ngini = 0.114\\nsamples = 132\\nvalue = [8, 124]'),\n Text(0.14024482393834065, 0.17307692307692307, 'X[53] <= 154.288\\ngini = 0.198\\nsamples = 9\\nvalue = [8, 1]'),\n Text(0.13540879552667373, 0.1346153846153846, 'gini = 0.0\\nsamples = 8\\nvalue = [8, 0]'),\n Text(0.14508085235000756, 0.1346153846153846, 'gini = 0.0\\nsamples = 1\\nvalue = [0, 1]'),\n Text(0.14991688076167448, 0.17307692307692307, 'gini = 0.0\\nsamples = 123\\nvalue = [0, 123]'),\n Text(0.16926099440834214, 0.21153846153846154, 'X[24] <= 749807.812\\ngini = 0.003\\nsamples = 4642\\nvalue = [6, 4636]'),\n Text(0.1595889375850083, 0.17307692307692307, 'X[36] <= 47.5\\ngini = 0.001\\nsamples = 4570\\nvalue = [2, 4568]'),\n Text(0.1547529091733414, 0.1346153846153846, 'gini = 0.0\\nsamples = 4222\\nvalue = [0, 4222]'),\n Text(0.16442496599667522, 0.1346153846153846, 'X[0] <= 55119.5\\ngini = 0.011\\nsamples = 348\\nvalue = [2, 346]'),\n Text(0.1595889375850083, 0.09615384615384616, 'gini = 0.0\\nsamples = 268\\nvalue = [0, 268]'),\n Text(0.16926099440834214, 0.09615384615384616, 'X[2] <= 5908730.5\\ngini = 0.049\\nsamples = 80\\nvalue = [2, 78]'),\n Text(0.16442496599667522, 0.057692307692307696, 'gini = 0.0\\nsamples = 2\\nvalue = [2, 0]'),\n Text(0.17409702282000908, 0.057692307692307696, 'gini = 0.0\\nsamples = 78\\nvalue = [0, 78]'),\n Text(0.178933051231676, 0.17307692307692307, 'X[5] <= 5848000102400.0\\ngini = 0.105\\nsamples = 72\\nvalue = [4, 68]'),\n Text(0.17409702282000908, 0.1346153846153846, 'gini = 0.0\\nsamples = 4\\nvalue = [4, 0]'),\n Text(0.1837690796433429, 0.1346153846153846, 'gini = 0.0\\nsamples = 68\\nvalue = [0, 68]'),\n Text(0.18860510805500982, 0.25, 'X[0] <= 55120.0\\ngini = 0.301\\nsamples = 114\\nvalue = [21, 93]'),\n Text(0.1837690796433429, 0.21153846153846154, 'gini = 0.0\\nsamples = 88\\nvalue = [0, 88]'),\n Text(0.19344113646667674, 0.21153846153846154, 'X[2] <= 961341767.5\\ngini = 0.311\\nsamples = 26\\nvalue = [21, 5]'),\n Text(0.18860510805500982, 0.17307692307692307, 'gini = 0.0\\nsamples = 21\\nvalue = [21, 0]'),\n Text(0.19827716487834365, 0.17307692307692307, 'gini = 0.0\\nsamples = 5\\nvalue = [0, 5]'),\n Text(0.2569140093698051, 0.28846153846153844, 'X[53] <= 64.001\\ngini = 0.001\\nsamples = 57901\\nvalue = [42, 57859]'),\n Text(0.22971134955417863, 0.25, 'X[38] <= 18.07\\ngini = 0.006\\nsamples = 8645\\nvalue = [26, 8619]'),\n Text(0.21278525011334443, 0.21153846153846154, 'X[38] <= 18.07\\ngini = 0.019\\nsamples = 2394\\nvalue = [23, 2371]'),\n Text(0.20794922170167748, 0.17307692307692307, 'X[0] <= 95490.0\\ngini = 0.018\\nsamples = 2393\\nvalue = [22, 2371]'),\n Text(0.20311319329001057, 0.1346153846153846, 'gini = 0.0\\nsamples = 1377\\nvalue = [0, 1377]'),\n Text(0.21278525011334443, 0.1346153846153846, 'X[0] <= 1010989.5\\ngini = 0.042\\nsamples = 1016\\nvalue = [22, 994]'),\n Text(0.20794922170167748, 0.09615384615384616, 'X[0] <= 986876.0\\ngini = 0.475\\nsamples = 36\\nvalue = [22, 14]'),\n Text(0.20311319329001057, 0.057692307692307696, 'X[0] <= 148262.5\\ngini = 0.291\\nsamples = 17\\nvalue = [3, 14]'),\n Text(0.19827716487834365, 0.019230769230769232, 'gini = 0.0\\nsamples = 3\\nvalue = [3, 0]'),\n Text(0.20794922170167748, 0.019230769230769232, 'gini = 0.0\\nsamples = 14\\nvalue = [0, 14]'),\n Text(0.21278525011334443, 0.057692307692307696, 'gini = 0.0\\nsamples = 19\\nvalue = [19, 0]'),\n Text(0.21762127852501134, 0.09615384615384616, 'gini = 0.0\\nsamples = 980\\nvalue = [0, 980]'),\n Text(0.21762127852501134, 0.17307692307692307, 'gini = 0.0\\nsamples = 1\\nvalue = [1, 0]'),\n Text(0.24663744899501286, 0.21153846153846154, 'X[1] <= 64283.5\\ngini = 0.001\\nsamples = 6251\\nvalue = [3, 6248]'),\n Text(0.236965392171679, 0.17307692307692307, 'X[5] <= 3660500041728.0\\ngini = 0.0\\nsamples = 6082\\nvalue = [1, 6081]'),\n Text(0.2321293637600121, 0.1346153846153846, 'X[5] <= 3659499962368.0\\ngini = 0.003\\nsamples = 774\\nvalue = [1, 773]'),\n Text(0.22729333534834517, 0.09615384615384616, 'gini = 0.0\\nsamples = 773\\nvalue = [0, 773]'),\n Text(0.236965392171679, 0.09615384615384616, 'gini = 0.0\\nsamples = 1\\nvalue = [1, 0]'),\n Text(0.24180142058334592, 0.1346153846153846, 'gini = 0.0\\nsamples = 5308\\nvalue = [0, 5308]'),\n Text(0.25630950581834666, 0.17307692307692307, 'X[1] <= 64285.5\\ngini = 0.023\\nsamples = 169\\nvalue = [2, 167]'),\n Text(0.25147347740667975, 0.1346153846153846, 'gini = 0.0\\nsamples = 1\\nvalue = [1, 0]'),\n Text(0.2611455342300136, 0.1346153846153846, 'X[5] <= 3667991330816.0\\ngini = 0.012\\nsamples = 168\\nvalue = [1, 167]'),\n Text(0.25630950581834666, 0.09615384615384616, 'X[5] <= 3640499896320.0\\ngini = 0.153\\nsamples = 12\\nvalue = [1, 11]'),\n Text(0.25147347740667975, 0.057692307692307696, 'gini = 0.0\\nsamples = 11\\nvalue = [0, 11]'),\n Text(0.2611455342300136, 0.057692307692307696, 'gini = 0.0\\nsamples = 1\\nvalue = [1, 0]'),\n Text(0.26598156264168055, 0.09615384615384616, 'gini = 0.0\\nsamples = 156\\nvalue = [0, 156]'),\n Text(0.2841166691854315, 0.25, 'X[6] <= 101623.379\\ngini = 0.001\\nsamples = 49256\\nvalue = [16, 49240]'),\n Text(0.27081759105334746, 0.21153846153846154, 'X[6] <= 101620.445\\ngini = 0.01\\nsamples = 389\\nvalue = [2, 387]'),\n Text(0.26598156264168055, 0.17307692307692307, 'gini = 0.0\\nsamples = 387\\nvalue = [0, 387]'),\n Text(0.2756536194650144, 0.17307692307692307, 'gini = 0.0\\nsamples = 2\\nvalue = [2, 0]'),\n Text(0.29741574731751547, 0.21153846153846154, 'X[1] <= 54619.5\\ngini = 0.001\\nsamples = 48867\\nvalue = [14, 48853]'),\n Text(0.2853256762883482, 0.17307692307692307, 'X[20] <= 0.263\\ngini = 0.0\\nsamples = 33798\\nvalue = [2, 33796]'),\n Text(0.2804896478766813, 0.1346153846153846, 'X[38] <= 0.263\\ngini = 0.003\\nsamples = 1344\\nvalue = [2, 1342]'),\n Text(0.2756536194650144, 0.09615384615384616, 'X[14] <= 5.47\\ngini = 0.001\\nsamples = 1343\\nvalue = [1, 1342]'),\n Text(0.27081759105334746, 0.057692307692307696, 'gini = 0.0\\nsamples = 1319\\nvalue = [0, 1319]'),\n Text(0.2804896478766813, 0.057692307692307696, 'X[20] <= 0.252\\ngini = 0.08\\nsamples = 24\\nvalue = [1, 23]'),\n Text(0.2756536194650144, 0.019230769230769232, 'gini = 0.0\\nsamples = 23\\nvalue = [0, 23]'),\n Text(0.2853256762883482, 0.019230769230769232, 'gini = 0.0\\nsamples = 1\\nvalue = [1, 0]'),\n Text(0.2853256762883482, 0.09615384615384616, 'gini = 0.0\\nsamples = 1\\nvalue = [1, 0]'),\n Text(0.2901617047000151, 0.1346153846153846, 'gini = 0.0\\nsamples = 32454\\nvalue = [0, 32454]'),\n Text(0.3095058183466828, 0.17307692307692307, 'X[1] <= 54620.5\\ngini = 0.002\\nsamples = 15069\\nvalue = [12, 15057]'),\n Text(0.29983376152334895, 0.1346153846153846, 'X[40] <= 375.5\\ngini = 0.5\\nsamples = 2\\nvalue = [1, 1]'),\n Text(0.29499773311168204, 0.09615384615384616, 'gini = 0.0\\nsamples = 1\\nvalue = [0, 1]'),\n Text(0.30466978993501587, 0.09615384615384616, 'gini = 0.0\\nsamples = 1\\nvalue = [1, 0]'),\n Text(0.3191778751700166, 0.1346153846153846, 'X[0] <= 1010612.5\\ngini = 0.001\\nsamples = 15067\\nvalue = [11, 15056]'),\n Text(0.3143418467583497, 0.09615384615384616, 'X[0] <= 1002111.5\\ngini = 0.007\\nsamples = 3081\\nvalue = [11, 3070]'),\n Text(0.3095058183466828, 0.057692307692307696, 'gini = 0.0\\nsamples = 3070\\nvalue = [0, 3070]'),\n Text(0.3191778751700166, 0.057692307692307696, 'gini = 0.0\\nsamples = 11\\nvalue = [11, 0]'),\n Text(0.3240139035816835, 0.09615384615384616, 'gini = 0.0\\nsamples = 11986\\nvalue = [0, 11986]'),\n Text(0.15407284267795074, 0.40384615384615385, 'gini = 0.0\\nsamples = 27\\nvalue = [27, 0]'),\n Text(0.12539670545564455, 0.4807692307692308, 'gini = 0.0\\nsamples = 1\\nvalue = [1, 0]'),\n Text(0.2608432824542844, 0.5961538461538461, 'X[5] <= 6.480243930788004e+17\\ngini = 0.085\\nsamples = 4690\\nvalue = [209, 4481]'),\n Text(0.2560072540426175, 0.5576923076923077, 'X[58] <= 24.919\\ngini = 0.01\\nsamples = 4503\\nvalue = [22, 4481]'),\n Text(0.2439171830134502, 0.5192307692307693, 'X[41] <= 92.5\\ngini = 0.007\\nsamples = 4496\\nvalue = [16, 4480]'),\n Text(0.23424512619011637, 0.4807692307692308, 'X[59] <= 208.591\\ngini = 0.167\\nsamples = 152\\nvalue = [14, 138]'),\n Text(0.22940909777844945, 0.4423076923076923, 'X[1] <= 402.0\\ngini = 0.104\\nsamples = 146\\nvalue = [8, 138]'),\n Text(0.22457306936678254, 0.40384615384615385, 'X[0] <= 55119.5\\ngini = 0.417\\nsamples = 27\\nvalue = [8, 19]'),\n Text(0.21973704095511562, 0.36538461538461536, 'gini = 0.0\\nsamples = 15\\nvalue = [0, 15]'),\n Text(0.22940909777844945, 0.36538461538461536, 'X[0] <= 2051923.0\\ngini = 0.444\\nsamples = 12\\nvalue = [8, 4]'),\n Text(0.22457306936678254, 0.3269230769230769, 'gini = 0.0\\nsamples = 8\\nvalue = [8, 0]'),\n Text(0.23424512619011637, 0.3269230769230769, 'gini = 0.0\\nsamples = 4\\nvalue = [0, 4]'),\n Text(0.23424512619011637, 0.40384615384615385, 'gini = 0.0\\nsamples = 119\\nvalue = [0, 119]'),\n Text(0.23908115460178328, 0.4423076923076923, 'gini = 0.0\\nsamples = 6\\nvalue = [6, 0]'),\n Text(0.25358923983678405, 0.4807692307692308, 'X[58] <= 4.001\\ngini = 0.001\\nsamples = 4344\\nvalue = [2, 4342]'),\n Text(0.2487532114251171, 0.4423076923076923, 'X[5] <= 3612500033536.0\\ngini = 0.033\\nsamples = 119\\nvalue = [2, 117]'),\n Text(0.2439171830134502, 0.40384615384615385, 'gini = 0.0\\nsamples = 2\\nvalue = [2, 0]'),\n Text(0.25358923983678405, 0.40384615384615385, 'gini = 0.0\\nsamples = 117\\nvalue = [0, 117]'),\n Text(0.25842526824845097, 0.4423076923076923, 'gini = 0.0\\nsamples = 4225\\nvalue = [0, 4225]'),\n Text(0.2680973250717848, 0.5192307692307693, 'X[64] <= 2766.0\\ngini = 0.245\\nsamples = 7\\nvalue = [6, 1]'),\n Text(0.2632612966601179, 0.4807692307692308, 'gini = 0.0\\nsamples = 1\\nvalue = [0, 1]'),\n Text(0.2729333534834517, 0.4807692307692308, 'gini = 0.0\\nsamples = 6\\nvalue = [6, 0]'),\n Text(0.2656793108659513, 0.5576923076923077, 'gini = 0.0\\nsamples = 187\\nvalue = [187, 0]'),\n Text(0.31887562339428743, 0.6346153846153846, 'X[5] <= 7.190063824051896e+17\\ngini = 0.124\\nsamples = 3139\\nvalue = [209, 2930]'),\n Text(0.3092035665709536, 0.5961538461538461, 'X[7] <= 116.5\\ngini = 0.005\\nsamples = 2934\\nvalue = [8, 2926]'),\n Text(0.3043675381592867, 0.5576923076923077, 'X[74] <= 1709982.0\\ngini = 0.005\\nsamples = 2933\\nvalue = [7, 2926]'),\n Text(0.2922774671301194, 0.5192307692307693, 'X[56] <= 575.5\\ngini = 0.001\\nsamples = 2898\\nvalue = [2, 2896]'),\n Text(0.28260541030678554, 0.4807692307692308, 'X[5] <= 3614000021504.0\\ngini = 0.001\\nsamples = 2854\\nvalue = [1, 2853]'),\n Text(0.27776938189511863, 0.4423076923076923, 'X[5] <= 3612931784704.0\\ngini = 0.02\\nsamples = 97\\nvalue = [1, 96]'),\n Text(0.2729333534834517, 0.40384615384615385, 'gini = 0.0\\nsamples = 96\\nvalue = [0, 96]'),\n Text(0.28260541030678554, 0.40384615384615385, 'gini = 0.0\\nsamples = 1\\nvalue = [1, 0]'),\n Text(0.28744143871845246, 0.4423076923076923, 'gini = 0.0\\nsamples = 2757\\nvalue = [0, 2757]'),\n Text(0.3019495239534532, 0.4807692307692308, 'X[28] <= 7725325.0\\ngini = 0.044\\nsamples = 44\\nvalue = [1, 43]'),\n Text(0.2971134955417863, 0.4423076923076923, 'gini = 0.0\\nsamples = 1\\nvalue = [1, 0]'),\n Text(0.3067855523651201, 0.4423076923076923, 'gini = 0.0\\nsamples = 43\\nvalue = [0, 43]'),\n Text(0.316457609188454, 0.5192307692307693, 'X[14] <= 19.68\\ngini = 0.245\\nsamples = 35\\nvalue = [5, 30]'),\n Text(0.3116215807767871, 0.4807692307692308, 'gini = 0.0\\nsamples = 30\\nvalue = [0, 30]'),\n Text(0.3212936376001209, 0.4807692307692308, 'gini = 0.0\\nsamples = 5\\nvalue = [5, 0]'),\n Text(0.3140395949826205, 0.5576923076923077, 'gini = 0.0\\nsamples = 1\\nvalue = [1, 0]'),\n Text(0.32854768021762126, 0.5961538461538461, 'X[36] <= 37.5\\ngini = 0.038\\nsamples = 205\\nvalue = [201, 4]'),\n Text(0.32371165180595435, 0.5576923076923077, 'gini = 0.0\\nsamples = 4\\nvalue = [0, 4]'),\n Text(0.3333837086292882, 0.5576923076923077, 'gini = 0.0\\nsamples = 201\\nvalue = [201, 0]'),\n Text(0.3382197370409551, 0.6730769230769231, 'X[12] <= 91.923\\ngini = 0.429\\nsamples = 141\\nvalue = [44, 97]'),\n Text(0.3333837086292882, 0.6346153846153846, 'gini = 0.0\\nsamples = 96\\nvalue = [0, 96]'),\n Text(0.343055765452622, 0.6346153846153846, 'X[19] <= 16107143.0\\ngini = 0.043\\nsamples = 45\\nvalue = [44, 1]'),\n Text(0.3382197370409551, 0.5961538461538461, 'gini = 0.0\\nsamples = 44\\nvalue = [44, 0]'),\n Text(0.347891793864289, 0.5961538461538461, 'gini = 0.0\\nsamples = 1\\nvalue = [0, 1]'),\n Text(0.3623998790992897, 0.7115384615384616, 'X[5] <= 6.809904573747036e+17\\ngini = 0.34\\nsamples = 488\\nvalue = [106, 382]'),\n Text(0.3575638506876228, 0.6730769230769231, 'X[71] <= 23297586.0\\ngini = 0.01\\nsamples = 384\\nvalue = [2, 382]'),\n Text(0.3527278222759559, 0.6346153846153846, 'gini = 0.0\\nsamples = 380\\nvalue = [0, 380]'),\n Text(0.3623998790992897, 0.6346153846153846, 'X[6] <= 94619808.0\\ngini = 0.5\\nsamples = 4\\nvalue = [2, 2]'),\n Text(0.3575638506876228, 0.5961538461538461, 'gini = 0.0\\nsamples = 2\\nvalue = [0, 2]'),\n Text(0.36723590751095664, 0.5961538461538461, 'gini = 0.0\\nsamples = 2\\nvalue = [2, 0]'),\n Text(0.36723590751095664, 0.6730769230769231, 'gini = 0.0\\nsamples = 104\\nvalue = [104, 0]'),\n Text(0.40834214901012544, 0.75, 'X[5] <= 4.9810939445038285e+17\\ngini = 0.145\\nsamples = 7231\\nvalue = [567, 6664]'),\n Text(0.39625207798095813, 0.7115384615384616, 'X[4] <= 16.5\\ngini = 0.044\\nsamples = 6805\\nvalue = [153, 6652]'),\n Text(0.3865800211576243, 0.6730769230769231, 'X[1] <= 55649.0\\ngini = 0.028\\nsamples = 6730\\nvalue = [97, 6633]'),\n Text(0.3817439927459574, 0.6346153846153846, 'X[0] <= 55120.0\\ngini = 0.019\\nsamples = 6696\\nvalue = [63, 6633]'),\n Text(0.37690796433429047, 0.5961538461538461, 'gini = 0.0\\nsamples = 5775\\nvalue = [0, 5775]'),\n Text(0.3865800211576243, 0.5961538461538461, 'X[0] <= 1002690.0\\ngini = 0.127\\nsamples = 921\\nvalue = [63, 858]'),\n Text(0.3817439927459574, 0.5576923076923077, 'X[44] <= 0.017\\ngini = 0.375\\nsamples = 84\\nvalue = [63, 21]'),\n Text(0.37690796433429047, 0.5192307692307693, 'X[2] <= 20473267200.0\\ngini = 0.18\\nsamples = 70\\nvalue = [63, 7]'),\n Text(0.37207193592262355, 0.4807692307692308, 'gini = 0.0\\nsamples = 56\\nvalue = [56, 0]'),\n Text(0.3817439927459574, 0.4807692307692308, 'X[0] <= 988821.5\\ngini = 0.5\\nsamples = 14\\nvalue = [7, 7]'),\n Text(0.37690796433429047, 0.4423076923076923, 'gini = 0.0\\nsamples = 7\\nvalue = [0, 7]'),\n Text(0.3865800211576243, 0.4423076923076923, 'gini = 0.0\\nsamples = 7\\nvalue = [7, 0]'),\n Text(0.3865800211576243, 0.5192307692307693, 'gini = 0.0\\nsamples = 14\\nvalue = [0, 14]'),\n Text(0.3914160495692912, 0.5576923076923077, 'gini = 0.0\\nsamples = 837\\nvalue = [0, 837]'),\n Text(0.3914160495692912, 0.6346153846153846, 'gini = 0.0\\nsamples = 34\\nvalue = [34, 0]'),\n Text(0.40592413480429196, 0.6730769230769231, 'X[3] <= 290.0\\ngini = 0.378\\nsamples = 75\\nvalue = [56, 19]'),\n Text(0.40108810639262504, 0.6346153846153846, 'gini = 0.0\\nsamples = 19\\nvalue = [0, 19]'),\n Text(0.4107601632159589, 0.6346153846153846, 'gini = 0.0\\nsamples = 56\\nvalue = [56, 0]'),\n Text(0.4204322200392927, 0.7115384615384616, 'X[5] <= 1.4591359052593234e+18\\ngini = 0.055\\nsamples = 426\\nvalue = [414, 12]'),\n Text(0.4155961916276258, 0.6730769230769231, 'gini = 0.0\\nsamples = 414\\nvalue = [414, 0]'),\n Text(0.4252682484509597, 0.6730769230769231, 'gini = 0.0\\nsamples = 12\\nvalue = [0, 12]'),\n Text(0.4397763336859604, 0.7884615384615384, 'X[5] <= 7.189283395254354e+17\\ngini = 0.441\\nsamples = 412\\nvalue = [277, 135]'),\n Text(0.4349403052742935, 0.75, 'X[5] <= 3614499930112.0\\ngini = 0.015\\nsamples = 136\\nvalue = [1, 135]'),\n Text(0.4301042768626266, 0.7115384615384616, 'gini = 0.0\\nsamples = 1\\nvalue = [1, 0]'),\n Text(0.4397763336859604, 0.7115384615384616, 'gini = 0.0\\nsamples = 135\\nvalue = [0, 135]'),\n Text(0.44461236209762733, 0.75, 'gini = 0.0\\nsamples = 276\\nvalue = [276, 0]'),\n Text(0.4687925041559619, 0.8269230769230769, 'X[5] <= 6478969962496.0\\ngini = 0.387\\nsamples = 1564\\nvalue = [1154, 410]'),\n Text(0.4591204473326281, 0.7884615384615384, 'X[0] <= 127359.0\\ngini = 0.298\\nsamples = 488\\nvalue = [89, 399]'),\n Text(0.45428441892096116, 0.75, 'X[0] <= 55120.0\\ngini = 0.455\\nsamples = 137\\nvalue = [89, 48]'),\n Text(0.44944839050929425, 0.7115384615384616, 'X[3] <= 74.0\\ngini = 0.198\\nsamples = 54\\nvalue = [6, 48]'),\n Text(0.44461236209762733, 0.6730769230769231, 'gini = 0.0\\nsamples = 6\\nvalue = [6, 0]'),\n Text(0.45428441892096116, 0.6730769230769231, 'gini = 0.0\\nsamples = 48\\nvalue = [0, 48]'),\n Text(0.4591204473326281, 0.7115384615384616, 'gini = 0.0\\nsamples = 83\\nvalue = [83, 0]'),\n Text(0.463956475744295, 0.75, 'gini = 0.0\\nsamples = 351\\nvalue = [0, 351]'),\n Text(0.47846456097929574, 0.7884615384615384, 'X[0] <= 19216813.0\\ngini = 0.02\\nsamples = 1076\\nvalue = [1065, 11]'),\n Text(0.4736285325676288, 0.75, 'gini = 0.0\\nsamples = 1061\\nvalue = [1061, 0]'),\n Text(0.48330058939096265, 0.75, 'X[21] <= 9347640.375\\ngini = 0.391\\nsamples = 15\\nvalue = [4, 11]'),\n Text(0.47846456097929574, 0.7115384615384616, 'gini = 0.0\\nsamples = 11\\nvalue = [0, 11]'),\n Text(0.48813661780262957, 0.7115384615384616, 'gini = 0.0\\nsamples = 4\\nvalue = [4, 0]'),\n Text(0.48330058939096265, 0.8653846153846154, 'X[5] <= 1.5115979343475507e+18\\ngini = 0.086\\nsamples = 4084\\nvalue = [3899, 185]'),\n Text(0.47846456097929574, 0.8269230769230769, 'gini = 0.0\\nsamples = 3899\\nvalue = [3899, 0]'),\n Text(0.48813661780262957, 0.8269230769230769, 'gini = 0.0\\nsamples = 185\\nvalue = [0, 185]'),\n Text(0.5316608735076318, 0.9038461538461539, 'X[5] <= 5.825471607535043e+17\\ngini = 0.099\\nsamples = 78266\\nvalue = [74164, 4102]'),\n Text(0.521988816684298, 0.8653846153846154, 'X[67] <= 64788.0\\ngini = 0.021\\nsamples = 4135\\nvalue = [43, 4092]'),\n Text(0.5171527882726311, 0.8269230769230769, 'X[45] <= 0.5\\ngini = 0.008\\nsamples = 4109\\nvalue = [17, 4092]'),\n Text(0.5074807314492973, 0.7884615384615384, 'X[3] <= 64437.0\\ngini = 0.001\\nsamples = 4073\\nvalue = [2, 4071]'),\n Text(0.5026447030376303, 0.75, 'X[56] <= 8.5\\ngini = 0.0\\nsamples = 4072\\nvalue = [1, 4071]'),\n Text(0.49780867462596345, 0.7115384615384616, 'X[3] <= 32845.5\\ngini = 0.049\\nsamples = 40\\nvalue = [1, 39]'),\n Text(0.4929726462142965, 0.6730769230769231, 'gini = 0.0\\nsamples = 37\\nvalue = [0, 37]'),\n Text(0.5026447030376303, 0.6730769230769231, 'X[0] <= 3525847680.0\\ngini = 0.444\\nsamples = 3\\nvalue = [1, 2]'),\n Text(0.49780867462596345, 0.6346153846153846, 'gini = 0.0\\nsamples = 2\\nvalue = [0, 2]'),\n Text(0.5074807314492973, 0.6346153846153846, 'gini = 0.0\\nsamples = 1\\nvalue = [1, 0]'),\n Text(0.5074807314492973, 0.7115384615384616, 'gini = 0.0\\nsamples = 4032\\nvalue = [0, 4032]'),\n Text(0.5123167598609641, 0.75, 'gini = 0.0\\nsamples = 1\\nvalue = [1, 0]'),\n Text(0.5268248450959649, 0.7884615384615384, 'X[39] <= 95.481\\ngini = 0.486\\nsamples = 36\\nvalue = [15, 21]'),\n Text(0.521988816684298, 0.75, 'gini = 0.0\\nsamples = 15\\nvalue = [15, 0]'),\n Text(0.5316608735076318, 0.75, 'gini = 0.0\\nsamples = 21\\nvalue = [0, 21]'),\n Text(0.5268248450959649, 0.8269230769230769, 'gini = 0.0\\nsamples = 26\\nvalue = [26, 0]'),\n Text(0.5413329303309657, 0.8653846153846154, 'X[10] <= 6.694\\ngini = 0.0\\nsamples = 74131\\nvalue = [74121, 10]'),\n Text(0.5364969019192988, 0.8269230769230769, 'gini = 0.0\\nsamples = 74121\\nvalue = [74121, 0]'),\n Text(0.5461689587426326, 0.8269230769230769, 'gini = 0.0\\nsamples = 10\\nvalue = [0, 10]'),\n Text(0.7020966355599214, 0.9423076923076923, 'X[0] <= 99807.0\\ngini = 0.1\\nsamples = 1091288\\nvalue = [1033560, 57728]'),\n Text(0.6398717319026749, 0.9038461538461539, 'X[5] <= 7.497188121897861e+17\\ngini = 0.0\\nsamples = 29372\\nvalue = [2, 29370]'),\n Text(0.635035703491008, 0.8653846153846154, 'gini = 0.0\\nsamples = 29370\\nvalue = [0, 29370]'),\n Text(0.6447077603143418, 0.8653846153846154, 'gini = 0.0\\nsamples = 2\\nvalue = [2, 0]'),\n Text(0.764321539217168, 0.9038461538461539, 'X[64] <= 155072.0\\ngini = 0.052\\nsamples = 1061916\\nvalue = [1033558, 28358]'),\n Text(0.6543798171376757, 0.8653846153846154, 'X[5] <= 3687984398336.0\\ngini = 0.032\\nsamples = 1049956\\nvalue = [1032702, 17254]'),\n Text(0.5630950581834668, 0.8269230769230769, 'X[0] <= 1005677.0\\ngini = 0.163\\nsamples = 6144\\nvalue = [549, 5595]'),\n Text(0.5510049871542996, 0.7884615384615384, 'X[16] <= 53.689\\ngini = 0.117\\nsamples = 562\\nvalue = [527, 35]'),\n Text(0.5413329303309657, 0.75, 'X[45] <= 0.5\\ngini = 0.133\\nsamples = 14\\nvalue = [1, 13]'),\n Text(0.5364969019192988, 0.7115384615384616, 'gini = 0.0\\nsamples = 13\\nvalue = [0, 13]'),\n Text(0.5461689587426326, 0.7115384615384616, 'gini = 0.0\\nsamples = 1\\nvalue = [1, 0]'),\n Text(0.5606770439776334, 0.75, 'X[15] <= 1486.436\\ngini = 0.077\\nsamples = 548\\nvalue = [526, 22]'),\n Text(0.5558410155659664, 0.7115384615384616, 'X[67] <= 34361.0\\ngini = 0.057\\nsamples = 542\\nvalue = [526, 16]'),\n Text(0.5510049871542996, 0.6730769230769231, 'X[73] <= 650875.5\\ngini = 0.051\\nsamples = 540\\nvalue = [526, 14]'),\n Text(0.5461689587426326, 0.6346153846153846, 'X[31] <= 8018423.0\\ngini = 0.047\\nsamples = 539\\nvalue = [526, 13]'),\n Text(0.5413329303309657, 0.5961538461538461, 'X[44] <= 460646.047\\ngini = 0.044\\nsamples = 538\\nvalue = [526, 12]'),\n Text(0.5364969019192988, 0.5576923076923077, 'X[5] <= 3632499916800.0\\ngini = 0.04\\nsamples = 537\\nvalue = [526, 11]'),\n Text(0.5135257669638809, 0.5192307692307693, 'X[16] <= 155.272\\ngini = 0.19\\nsamples = 66\\nvalue = [59, 7]'),\n Text(0.503853710140547, 0.4807692307692308, 'X[10] <= 91.686\\ngini = 0.097\\nsamples = 59\\nvalue = [56, 3]'),\n Text(0.49901768172888017, 0.4423076923076923, 'gini = 0.0\\nsamples = 1\\nvalue = [0, 1]'),\n Text(0.508689738552214, 0.4423076923076923, 'X[1] <= 64694.5\\ngini = 0.067\\nsamples = 58\\nvalue = [56, 2]'),\n Text(0.49901768172888017, 0.40384615384615385, 'X[20] <= 54.452\\ngini = 0.035\\nsamples = 56\\nvalue = [55, 1]'),\n Text(0.49418165331721325, 0.36538461538461536, 'X[31] <= 265.25\\ngini = 0.198\\nsamples = 9\\nvalue = [8, 1]'),\n Text(0.48934562490554634, 0.3269230769230769, 'gini = 0.0\\nsamples = 1\\nvalue = [0, 1]'),\n Text(0.49901768172888017, 0.3269230769230769, 'gini = 0.0\\nsamples = 8\\nvalue = [8, 0]'),\n Text(0.503853710140547, 0.36538461538461536, 'gini = 0.0\\nsamples = 47\\nvalue = [47, 0]'),\n Text(0.5183617953755478, 0.40384615384615385, 'X[0] <= 317656.5\\ngini = 0.5\\nsamples = 2\\nvalue = [1, 1]'),\n Text(0.5135257669638809, 0.36538461538461536, 'gini = 0.0\\nsamples = 1\\nvalue = [1, 0]'),\n Text(0.5231978237872148, 0.36538461538461536, 'gini = 0.0\\nsamples = 1\\nvalue = [0, 1]'),\n Text(0.5231978237872148, 0.4807692307692308, 'X[43] <= 52.467\\ngini = 0.49\\nsamples = 7\\nvalue = [3, 4]'),\n Text(0.5183617953755478, 0.4423076923076923, 'gini = 0.0\\nsamples = 4\\nvalue = [0, 4]'),\n Text(0.5280338521988817, 0.4423076923076923, 'gini = 0.0\\nsamples = 3\\nvalue = [3, 0]'),\n Text(0.5594680368747167, 0.5192307692307693, 'X[52] <= 0.666\\ngini = 0.017\\nsamples = 471\\nvalue = [467, 4]'),\n Text(0.5425419374338825, 0.4807692307692308, 'X[33] <= 228485.617\\ngini = 0.153\\nsamples = 24\\nvalue = [22, 2]'),\n Text(0.5377059090222155, 0.4423076923076923, 'gini = 0.0\\nsamples = 21\\nvalue = [21, 0]'),\n Text(0.5473779658455493, 0.4423076923076923, 'X[70] <= 13.5\\ngini = 0.444\\nsamples = 3\\nvalue = [1, 2]'),\n Text(0.5425419374338825, 0.40384615384615385, 'gini = 0.0\\nsamples = 1\\nvalue = [1, 0]'),\n Text(0.5522139942572163, 0.40384615384615385, 'gini = 0.0\\nsamples = 2\\nvalue = [0, 2]'),\n Text(0.5763941363155508, 0.4807692307692308, 'X[1] <= 63721.0\\ngini = 0.009\\nsamples = 447\\nvalue = [445, 2]'),\n Text(0.566722079492217, 0.4423076923076923, 'X[66] <= 93.5\\ngini = 0.005\\nsamples = 431\\nvalue = [430, 1]'),\n Text(0.5618860510805501, 0.40384615384615385, 'X[10] <= 91.553\\ngini = 0.044\\nsamples = 44\\nvalue = [43, 1]'),\n Text(0.5570500226688831, 0.36538461538461536, 'gini = 0.0\\nsamples = 43\\nvalue = [43, 0]'),\n Text(0.566722079492217, 0.36538461538461536, 'gini = 0.0\\nsamples = 1\\nvalue = [0, 1]'),\n Text(0.571558107903884, 0.40384615384615385, 'gini = 0.0\\nsamples = 387\\nvalue = [387, 0]'),\n Text(0.5860661931388846, 0.4423076923076923, 'X[1] <= 63782.5\\ngini = 0.117\\nsamples = 16\\nvalue = [15, 1]'),\n Text(0.5812301647272178, 0.40384615384615385, 'gini = 0.0\\nsamples = 1\\nvalue = [0, 1]'),\n Text(0.5909022215505516, 0.40384615384615385, 'gini = 0.0\\nsamples = 15\\nvalue = [15, 0]'),\n Text(0.5461689587426326, 0.5576923076923077, 'gini = 0.0\\nsamples = 1\\nvalue = [0, 1]'),\n Text(0.5510049871542996, 0.5961538461538461, 'gini = 0.0\\nsamples = 1\\nvalue = [0, 1]'),\n Text(0.5558410155659664, 0.6346153846153846, 'gini = 0.0\\nsamples = 1\\nvalue = [0, 1]'),\n Text(0.5606770439776334, 0.6730769230769231, 'gini = 0.0\\nsamples = 2\\nvalue = [0, 2]'),\n Text(0.5655130723893003, 0.7115384615384616, 'gini = 0.0\\nsamples = 6\\nvalue = [0, 6]'),\n Text(0.5751851292126341, 0.7884615384615384, 'X[0] <= 1706005632.0\\ngini = 0.008\\nsamples = 5582\\nvalue = [22, 5560]'),\n Text(0.5703491008009672, 0.75, 'gini = 0.0\\nsamples = 5556\\nvalue = [0, 5556]'),\n Text(0.5800211576243011, 0.75, 'X[38] <= 3606.465\\ngini = 0.26\\nsamples = 26\\nvalue = [22, 4]'),\n Text(0.5751851292126341, 0.7115384615384616, 'gini = 0.0\\nsamples = 22\\nvalue = [22, 0]'),\n Text(0.5848571860359679, 0.7115384615384616, 'gini = 0.0\\nsamples = 4\\nvalue = [0, 4]'),\n Text(0.7456645760918845, 0.8269230769230769, 'X[5] <= 5397500133376.0\\ngini = 0.022\\nsamples = 1043812\\nvalue = [1032153, 11659]'),\n Text(0.6460820613571104, 0.7884615384615384, 'X[0] <= 1007143.5\\ngini = 0.243\\nsamples = 50969\\nvalue = [43773, 7196]'),\n Text(0.6122487532114251, 0.75, 'X[16] <= 53.793\\ngini = 0.006\\nsamples = 40365\\nvalue = [40246, 119]'),\n Text(0.5945292428593018, 0.7115384615384616, 'X[67] <= 120.5\\ngini = 0.278\\nsamples = 78\\nvalue = [13, 65]'),\n Text(0.5896932144476349, 0.6730769230769231, 'gini = 0.0\\nsamples = 13\\nvalue = [13, 0]'),\n Text(0.5993652712709687, 0.6730769230769231, 'gini = 0.0\\nsamples = 65\\nvalue = [0, 65]'),\n Text(0.6299682635635484, 0.7115384615384616, 'X[15] <= 1474.007\\ngini = 0.003\\nsamples = 40287\\nvalue = [40233, 54]'),\n Text(0.6090373280943026, 0.6730769230769231, 'X[2] <= 1426921.0\\ngini = 0.002\\nsamples = 40274\\nvalue = [40232, 42]'),\n Text(0.5816835423908115, 0.6346153846153846, 'X[2] <= 9425.5\\ngini = 0.068\\nsamples = 595\\nvalue = [574, 21]'),\n Text(0.5768475139791446, 0.5961538461538461, 'gini = 0.0\\nsamples = 562\\nvalue = [562, 0]'),\n Text(0.5865195708024785, 0.5961538461538461, 'X[45] <= 0.5\\ngini = 0.463\\nsamples = 33\\nvalue = [12, 21]'),\n Text(0.5816835423908115, 0.5576923076923077, 'gini = 0.0\\nsamples = 21\\nvalue = [0, 21]'),\n Text(0.5913555992141454, 0.5576923076923077, 'gini = 0.0\\nsamples = 12\\nvalue = [12, 0]'),\n Text(0.6363911137977936, 0.6346153846153846, 'X[52] <= 0.724\\ngini = 0.001\\nsamples = 39679\\nvalue = [39658, 21]'),\n Text(0.610699712860813, 0.5961538461538461, 'X[18] <= 245.879\\ngini = 0.027\\nsamples = 1096\\nvalue = [1081, 15]'),\n Text(0.6010276560374792, 0.5576923076923077, 'X[37] <= 69.5\\ngini = 0.004\\nsamples = 1071\\nvalue = [1069, 2]'),\n Text(0.5961916276258123, 0.5192307692307693, 'gini = 0.0\\nsamples = 1054\\nvalue = [1054, 0]'),\n Text(0.6058636844491462, 0.5192307692307693, 'X[55] <= 131.672\\ngini = 0.208\\nsamples = 17\\nvalue = [15, 2]'),\n Text(0.6010276560374792, 0.4807692307692308, 'gini = 0.0\\nsamples = 15\\nvalue = [15, 0]'),\n Text(0.610699712860813, 0.4807692307692308, 'gini = 0.0\\nsamples = 2\\nvalue = [0, 2]'),\n Text(0.6203717696841469, 0.5576923076923077, 'X[68] <= 49065.5\\ngini = 0.499\\nsamples = 25\\nvalue = [12, 13]'),\n Text(0.61553574127248, 0.5192307692307693, 'gini = 0.0\\nsamples = 13\\nvalue = [0, 13]'),\n Text(0.6252077980958138, 0.5192307692307693, 'gini = 0.0\\nsamples = 12\\nvalue = [12, 0]'),\n Text(0.6620825147347741, 0.5961538461538461, 'X[19] <= 1718112.438\\ngini = 0.0\\nsamples = 38583\\nvalue = [38577, 6]'),\n Text(0.6481789330512316, 0.5576923076923077, 'X[62] <= 8560524.25\\ngini = 0.0\\nsamples = 38576\\nvalue = [38571, 5]'),\n Text(0.6348798549191477, 0.5192307692307693, 'X[59] <= 18593.701\\ngini = 0.0\\nsamples = 38540\\nvalue = [38536, 4]'),\n Text(0.6227897838899804, 0.4807692307692308, 'X[2] <= 10237126.0\\ngini = 0.0\\nsamples = 38316\\nvalue = [38314, 2]'),\n Text(0.6131177270666465, 0.4423076923076923, 'X[45] <= 0.5\\ngini = 0.005\\nsamples = 385\\nvalue = [384, 1]'),\n Text(0.6082816986549796, 0.40384615384615385, 'gini = 0.0\\nsamples = 1\\nvalue = [0, 1]'),\n Text(0.6179537554783134, 0.40384615384615385, 'gini = 0.0\\nsamples = 384\\nvalue = [384, 0]'),\n Text(0.6324618407133142, 0.4423076923076923, 'X[52] <= 0.755\\ngini = 0.0\\nsamples = 37931\\nvalue = [37930, 1]'),\n Text(0.6276258123016473, 0.40384615384615385, 'X[52] <= 0.752\\ngini = 0.001\\nsamples = 1550\\nvalue = [1549, 1]'),\n Text(0.6227897838899804, 0.36538461538461536, 'gini = 0.0\\nsamples = 1549\\nvalue = [1549, 0]'),\n Text(0.6324618407133142, 0.36538461538461536, 'gini = 0.0\\nsamples = 1\\nvalue = [0, 1]'),\n Text(0.6372978691249811, 0.40384615384615385, 'gini = 0.0\\nsamples = 36381\\nvalue = [36381, 0]'),\n Text(0.6469699259483149, 0.4807692307692308, 'X[34] <= 6944.78\\ngini = 0.018\\nsamples = 224\\nvalue = [222, 2]'),\n Text(0.6421338975366481, 0.4423076923076923, 'gini = 0.0\\nsamples = 222\\nvalue = [222, 0]'),\n Text(0.6518059543599819, 0.4423076923076923, 'gini = 0.0\\nsamples = 2\\nvalue = [0, 2]'),\n Text(0.6614780111833157, 0.5192307692307693, 'X[52] <= 0.981\\ngini = 0.054\\nsamples = 36\\nvalue = [35, 1]'),\n Text(0.6566419827716488, 0.4807692307692308, 'gini = 0.0\\nsamples = 1\\nvalue = [0, 1]'),\n Text(0.6663140395949826, 0.4807692307692308, 'gini = 0.0\\nsamples = 35\\nvalue = [35, 0]'),\n Text(0.6759860964183164, 0.5576923076923077, 'X[39] <= 1729.626\\ngini = 0.245\\nsamples = 7\\nvalue = [6, 1]'),\n Text(0.6711500680066496, 0.5192307692307693, 'gini = 0.0\\nsamples = 1\\nvalue = [0, 1]'),\n Text(0.6808221248299834, 0.5192307692307693, 'gini = 0.0\\nsamples = 6\\nvalue = [6, 0]'),\n Text(0.6508991990327944, 0.6730769230769231, 'X[20] <= 2.482\\ngini = 0.142\\nsamples = 13\\nvalue = [1, 12]'),\n Text(0.6460631706211274, 0.6346153846153846, 'gini = 0.0\\nsamples = 1\\nvalue = [1, 0]'),\n Text(0.6557352274444612, 0.6346153846153846, 'gini = 0.0\\nsamples = 12\\nvalue = [0, 12]'),\n Text(0.6799153695027959, 0.75, 'X[67] <= 64805.5\\ngini = 0.444\\nsamples = 10604\\nvalue = [3527, 7077]'),\n Text(0.6750793410911289, 0.7115384615384616, 'X[5] <= 3689479143424.0\\ngini = 0.001\\nsamples = 7079\\nvalue = [2, 7077]'),\n Text(0.670243312679462, 0.6730769230769231, 'X[19] <= 4532.642\\ngini = 0.5\\nsamples = 4\\nvalue = [2, 2]'),\n Text(0.665407284267795, 0.6346153846153846, 'gini = 0.0\\nsamples = 2\\nvalue = [0, 2]'),\n Text(0.6750793410911289, 0.6346153846153846, 'gini = 0.0\\nsamples = 2\\nvalue = [2, 0]'),\n Text(0.6799153695027959, 0.6730769230769231, 'gini = 0.0\\nsamples = 7075\\nvalue = [0, 7075]'),\n Text(0.6847513979144627, 0.7115384615384616, 'gini = 0.0\\nsamples = 3525\\nvalue = [3525, 0]'),\n Text(0.8452470908266586, 0.7884615384615384, 'X[5] <= 1.5115980717865042e+18\\ngini = 0.009\\nsamples = 992843\\nvalue = [988380, 4463]'),\n Text(0.8404110624149916, 0.75, 'X[68] <= 35244.5\\ngini = 0.007\\nsamples = 992058\\nvalue = [988380, 3678]'),\n Text(0.7509445367991537, 0.7115384615384616, 'X[5] <= 66613491531776.0\\ngini = 0.003\\nsamples = 962846\\nvalue = [961206, 1640]'),\n Text(0.7146743237116518, 0.6730769230769231, 'X[68] <= 1.0\\ngini = 0.125\\nsamples = 18909\\nvalue = [17643, 1266]'),\n Text(0.7098382952999849, 0.6346153846153846, 'X[0] <= 1030373.5\\ngini = 0.015\\nsamples = 17779\\nvalue = [17643, 136]'),\n Text(0.700166238476651, 0.5961538461538461, 'X[64] <= 38895.0\\ngini = 0.0\\nsamples = 17450\\nvalue = [17447, 3]'),\n Text(0.6953302100649841, 0.5576923076923077, 'X[0] <= 180106.0\\ngini = 0.0\\nsamples = 17449\\nvalue = [17447, 2]'),\n Text(0.6904941816533172, 0.5192307692307693, 'gini = 0.0\\nsamples = 16902\\nvalue = [16902, 0]'),\n Text(0.700166238476651, 0.5192307692307693, 'X[0] <= 969345.5\\ngini = 0.007\\nsamples = 547\\nvalue = [545, 2]'),\n Text(0.6953302100649841, 0.4807692307692308, 'gini = 0.0\\nsamples = 2\\nvalue = [0, 2]'),\n Text(0.705002266888318, 0.4807692307692308, 'gini = 0.0\\nsamples = 545\\nvalue = [545, 0]'),\n Text(0.705002266888318, 0.5576923076923077, 'gini = 0.0\\nsamples = 1\\nvalue = [0, 1]'),\n Text(0.7195103521233187, 0.5961538461538461, 'X[67] <= 48936.0\\ngini = 0.482\\nsamples = 329\\nvalue = [196, 133]'),\n Text(0.7146743237116518, 0.5576923076923077, 'gini = 0.0\\nsamples = 133\\nvalue = [0, 133]'),\n Text(0.7243463805349857, 0.5576923076923077, 'gini = 0.0\\nsamples = 196\\nvalue = [196, 0]'),\n Text(0.7195103521233187, 0.6346153846153846, 'gini = 0.0\\nsamples = 1130\\nvalue = [0, 1130]'),\n Text(0.7872147498866556, 0.6730769230769231, 'X[0] <= 11537628.5\\ngini = 0.001\\nsamples = 943937\\nvalue = [943563, 374]'),\n Text(0.7485265225933202, 0.6346153846153846, 'X[16] <= 38.837\\ngini = 0.019\\nsamples = 29206\\nvalue = [28929, 277]'),\n Text(0.7388544657699864, 0.5961538461538461, 'X[38] <= 78131.58\\ngini = 0.425\\nsamples = 258\\nvalue = [79, 179]'),\n Text(0.7340184373583195, 0.5576923076923077, 'gini = 0.0\\nsamples = 179\\nvalue = [0, 179]'),\n Text(0.7436904941816533, 0.5576923076923077, 'gini = 0.0\\nsamples = 79\\nvalue = [79, 0]'),\n Text(0.758198579416654, 0.5961538461538461, 'X[0] <= 10525924.5\\ngini = 0.007\\nsamples = 28948\\nvalue = [28850, 98]'),\n Text(0.7533625510049872, 0.5576923076923077, 'X[0] <= 3428095.0\\ngini = 0.004\\nsamples = 28909\\nvalue = [28850, 59]'),\n Text(0.7436904941816533, 0.5192307692307693, 'X[68] <= 33954.5\\ngini = 0.002\\nsamples = 28430\\nvalue = [28405, 25]'),\n Text(0.7388544657699864, 0.4807692307692308, 'X[68] <= 29929.5\\ngini = 0.002\\nsamples = 28429\\nvalue = [28405, 24]'),\n Text(0.7213238627776938, 0.4423076923076923, 'X[9] <= 70.5\\ngini = 0.002\\nsamples = 28419\\nvalue = [28397, 22]'),\n Text(0.7007707420281094, 0.40384615384615385, 'X[6] <= 267353.516\\ngini = 0.019\\nsamples = 955\\nvalue = [946, 9]'),\n Text(0.6959347136164425, 0.36538461538461536, 'gini = 0.0\\nsamples = 903\\nvalue = [903, 0]'),\n Text(0.7056067704397764, 0.36538461538461536, 'X[64] <= 66.5\\ngini = 0.286\\nsamples = 52\\nvalue = [43, 9]'),\n Text(0.7007707420281094, 0.3269230769230769, 'gini = 0.0\\nsamples = 43\\nvalue = [43, 0]'),\n Text(0.7104427988514432, 0.3269230769230769, 'gini = 0.0\\nsamples = 9\\nvalue = [0, 9]'),\n Text(0.7418769835272783, 0.40384615384615385, 'X[1] <= 60714.5\\ngini = 0.001\\nsamples = 27464\\nvalue = [27451, 13]'),\n Text(0.724950884086444, 0.36538461538461536, 'X[45] <= 0.5\\ngini = 0.0\\nsamples = 25645\\nvalue = [25641, 4]'),\n Text(0.7201148556747771, 0.3269230769230769, 'X[5] <= 1.4928285149471703e+18\\ngini = 0.002\\nsamples = 4011\\nvalue = [4007, 4]'),\n Text(0.7152788272631102, 0.28846153846153844, 'X[5] <= 1.4607367941893652e+18\\ngini = 0.001\\nsamples = 4009\\nvalue = [4007, 2]'),\n Text(0.7104427988514432, 0.25, 'gini = 0.0\\nsamples = 4000\\nvalue = [4000, 0]'),\n Text(0.7201148556747771, 0.25, 'X[36] <= 34.0\\ngini = 0.346\\nsamples = 9\\nvalue = [7, 2]'),\n Text(0.7152788272631102, 0.21153846153846154, 'gini = 0.0\\nsamples = 2\\nvalue = [0, 2]'),\n Text(0.724950884086444, 0.21153846153846154, 'gini = 0.0\\nsamples = 7\\nvalue = [7, 0]'),\n Text(0.724950884086444, 0.28846153846153844, 'gini = 0.0\\nsamples = 2\\nvalue = [0, 2]'),\n Text(0.7297869124981109, 0.3269230769230769, 'gini = 0.0\\nsamples = 21634\\nvalue = [21634, 0]'),\n Text(0.7588030829681124, 0.36538461538461536, 'X[68] <= 3009.0\\ngini = 0.01\\nsamples = 1819\\nvalue = [1810, 9]'),\n Text(0.7491310261447786, 0.3269230769230769, 'X[0] <= 1922369.0\\ngini = 0.004\\nsamples = 1813\\nvalue = [1809, 4]'),\n Text(0.7442949977331117, 0.28846153846153844, 'X[6] <= 53265.742\\ngini = 0.002\\nsamples = 1811\\nvalue = [1809, 2]'),\n Text(0.7394589693214447, 0.25, 'X[38] <= 37.902\\ngini = 0.278\\nsamples = 12\\nvalue = [10, 2]'),\n Text(0.7346229409097779, 0.21153846153846154, 'gini = 0.0\\nsamples = 2\\nvalue = [0, 2]'),\n Text(0.7442949977331117, 0.21153846153846154, 'gini = 0.0\\nsamples = 10\\nvalue = [10, 0]'),\n Text(0.7491310261447786, 0.25, 'gini = 0.0\\nsamples = 1799\\nvalue = [1799, 0]'),\n Text(0.7539670545564455, 0.28846153846153844, 'gini = 0.0\\nsamples = 2\\nvalue = [0, 2]'),\n Text(0.7684751397914463, 0.3269230769230769, 'X[26] <= 2159.431\\ngini = 0.278\\nsamples = 6\\nvalue = [1, 5]'),\n Text(0.7636391113797794, 0.28846153846153844, 'gini = 0.0\\nsamples = 1\\nvalue = [1, 0]'),\n Text(0.7733111682031132, 0.28846153846153844, 'gini = 0.0\\nsamples = 5\\nvalue = [0, 5]'),\n Text(0.756385068762279, 0.4423076923076923, 'X[40] <= 62.0\\ngini = 0.32\\nsamples = 10\\nvalue = [8, 2]'),\n Text(0.7515490403506121, 0.40384615384615385, 'gini = 0.0\\nsamples = 8\\nvalue = [8, 0]'),\n Text(0.7612210971739459, 0.40384615384615385, 'gini = 0.0\\nsamples = 2\\nvalue = [0, 2]'),\n Text(0.7485265225933202, 0.4807692307692308, 'gini = 0.0\\nsamples = 1\\nvalue = [0, 1]'),\n Text(0.763034607828321, 0.5192307692307693, 'X[1] <= 26579.0\\ngini = 0.132\\nsamples = 479\\nvalue = [445, 34]'),\n Text(0.758198579416654, 0.4807692307692308, 'gini = 0.0\\nsamples = 445\\nvalue = [445, 0]'),\n Text(0.7678706362399879, 0.4807692307692308, 'gini = 0.0\\nsamples = 34\\nvalue = [0, 34]'),\n Text(0.763034607828321, 0.5576923076923077, 'gini = 0.0\\nsamples = 39\\nvalue = [0, 39]'),\n Text(0.825902977179991, 0.6346153846153846, 'X[68] <= 9367.5\\ngini = 0.0\\nsamples = 914731\\nvalue = [914634, 97]'),\n Text(0.7896327640924891, 0.5961538461538461, 'X[0] <= 18546938.0\\ngini = 0.0\\nsamples = 875206\\nvalue = [875192, 14]'),\n Text(0.7775426930633218, 0.5576923076923077, 'X[66] <= 8362.0\\ngini = 0.008\\nsamples = 249\\nvalue = [248, 1]'),\n Text(0.7727066646516548, 0.5192307692307693, 'gini = 0.0\\nsamples = 248\\nvalue = [248, 0]'),\n Text(0.7823787214749887, 0.5192307692307693, 'gini = 0.0\\nsamples = 1\\nvalue = [0, 1]'),\n Text(0.8017228351216563, 0.5576923076923077, 'X[68] <= 2056.0\\ngini = 0.0\\nsamples = 874957\\nvalue = [874944, 13]'),\n Text(0.7920507782983225, 0.5192307692307693, 'X[38] <= 0.109\\ngini = 0.0\\nsamples = 839567\\nvalue = [839565, 2]'),\n Text(0.7872147498866556, 0.4807692307692308, 'X[52] <= 0.091\\ngini = 0.001\\nsamples = 3541\\nvalue = [3539, 2]'),\n Text(0.7823787214749887, 0.4423076923076923, 'gini = 0.0\\nsamples = 2\\nvalue = [0, 2]'),\n Text(0.7920507782983225, 0.4423076923076923, 'gini = 0.0\\nsamples = 3539\\nvalue = [3539, 0]'),\n Text(0.7968868067099895, 0.4807692307692308, 'gini = 0.0\\nsamples = 836026\\nvalue = [836026, 0]'),\n Text(0.8113948919449901, 0.5192307692307693, 'X[70] <= 14.5\\ngini = 0.001\\nsamples = 35390\\nvalue = [35379, 11]'),\n Text(0.8065588635333233, 0.4807692307692308, 'gini = 0.0\\nsamples = 10\\nvalue = [0, 10]'),\n Text(0.8162309203566571, 0.4807692307692308, 'X[0] <= 103004812.0\\ngini = 0.0\\nsamples = 35380\\nvalue = [35379, 1]'),\n Text(0.8113948919449901, 0.4423076923076923, 'X[52] <= 0.586\\ngini = 0.095\\nsamples = 20\\nvalue = [19, 1]'),\n Text(0.8065588635333233, 0.40384615384615385, 'gini = 0.0\\nsamples = 1\\nvalue = [0, 1]'),\n Text(0.8162309203566571, 0.40384615384615385, 'gini = 0.0\\nsamples = 19\\nvalue = [19, 0]'),\n Text(0.821066948768324, 0.4423076923076923, 'gini = 0.0\\nsamples = 35360\\nvalue = [35360, 0]'),\n Text(0.8621731902674928, 0.5961538461538461, 'X[4] <= 8.5\\ngini = 0.004\\nsamples = 39525\\nvalue = [39442, 83]'),\n Text(0.8573371618558259, 0.5576923076923077, 'X[62] <= 35002316.0\\ngini = 0.0\\nsamples = 39446\\nvalue = [39442, 4]'),\n Text(0.8452470908266586, 0.5192307692307693, 'X[39] <= 0.066\\ngini = 0.0\\nsamples = 39438\\nvalue = [39435, 3]'),\n Text(0.8355750340033248, 0.4807692307692308, 'X[55] <= 47.736\\ngini = 0.043\\nsamples = 46\\nvalue = [45, 1]'),\n Text(0.8307390055916578, 0.4423076923076923, 'gini = 0.0\\nsamples = 1\\nvalue = [0, 1]'),\n Text(0.8404110624149916, 0.4423076923076923, 'gini = 0.0\\nsamples = 45\\nvalue = [45, 0]'),\n Text(0.8549191476499924, 0.4807692307692308, 'X[0] <= 102648736.0\\ngini = 0.0\\nsamples = 39392\\nvalue = [39390, 2]'),\n Text(0.8500831192383256, 0.4423076923076923, 'X[0] <= 97720532.0\\ngini = 0.008\\nsamples = 497\\nvalue = [495, 2]'),\n Text(0.8452470908266586, 0.40384615384615385, 'gini = 0.0\\nsamples = 495\\nvalue = [495, 0]'),\n Text(0.8549191476499924, 0.40384615384615385, 'gini = 0.0\\nsamples = 2\\nvalue = [0, 2]'),\n Text(0.8597551760616594, 0.4423076923076923, 'gini = 0.0\\nsamples = 38895\\nvalue = [38895, 0]'),\n Text(0.8694272328849932, 0.5192307692307693, 'X[21] <= 18674.085\\ngini = 0.219\\nsamples = 8\\nvalue = [7, 1]'),\n Text(0.8645912044733263, 0.4807692307692308, 'gini = 0.0\\nsamples = 1\\nvalue = [0, 1]'),\n Text(0.8742632612966601, 0.4807692307692308, 'gini = 0.0\\nsamples = 7\\nvalue = [7, 0]'),\n Text(0.8670092186791597, 0.5576923076923077, 'gini = 0.0\\nsamples = 79\\nvalue = [0, 79]'),\n Text(0.9298775880308296, 0.7115384615384616, 'X[62] <= 3990902.75\\ngini = 0.13\\nsamples = 29212\\nvalue = [27174, 2038]'),\n Text(0.8936073749433278, 0.6730769230769231, 'X[70] <= 19.5\\ngini = 0.079\\nsamples = 28078\\nvalue = [26925, 1153]'),\n Text(0.8887713465316609, 0.6346153846153846, 'gini = 0.0\\nsamples = 248\\nvalue = [0, 248]'),\n Text(0.8984434033549947, 0.6346153846153846, 'X[5] <= 1.450098125837435e+18\\ngini = 0.063\\nsamples = 27830\\nvalue = [26925, 905]'),\n Text(0.8887713465316609, 0.5961538461538461, 'X[22] <= 33723441.0\\ngini = 0.004\\nsamples = 17321\\nvalue = [17289, 32]'),\n Text(0.8839353181199939, 0.5576923076923077, 'X[2] <= 55017.0\\ngini = 0.002\\nsamples = 17310\\nvalue = [17289, 21]'),\n Text(0.8790992897083271, 0.5192307692307693, 'gini = 0.0\\nsamples = 1\\nvalue = [0, 1]'),\n Text(0.8887713465316609, 0.5192307692307693, 'X[68] <= 35294.0\\ngini = 0.002\\nsamples = 17309\\nvalue = [17289, 20]'),\n Text(0.8839353181199939, 0.4807692307692308, 'gini = 0.0\\nsamples = 1\\nvalue = [0, 1]'),\n Text(0.8936073749433278, 0.4807692307692308, 'X[68] <= 36101.0\\ngini = 0.002\\nsamples = 17308\\nvalue = [17289, 19]'),\n Text(0.8792504155961917, 0.4423076923076923, 'X[19] <= 4844.491\\ngini = 0.305\\nsamples = 16\\nvalue = [13, 3]'),\n Text(0.8744143871845247, 0.40384615384615385, 'gini = 0.0\\nsamples = 13\\nvalue = [13, 0]'),\n Text(0.8840864440078585, 0.40384615384615385, 'gini = 0.0\\nsamples = 3\\nvalue = [0, 3]'),\n Text(0.907964334290464, 0.4423076923076923, 'X[30] <= 122750192.0\\ngini = 0.002\\nsamples = 17292\\nvalue = [17276, 16]'),\n Text(0.8937585008311923, 0.40384615384615385, 'X[64] <= 54.5\\ngini = 0.002\\nsamples = 17290\\nvalue = [17275, 15]'),\n Text(0.87985491914765, 0.36538461538461536, 'X[67] <= 47935.0\\ngini = 0.17\\nsamples = 32\\nvalue = [29, 3]'),\n Text(0.875018890735983, 0.3269230769230769, 'gini = 0.0\\nsamples = 3\\nvalue = [0, 3]'),\n Text(0.8846909475593169, 0.3269230769230769, 'gini = 0.0\\nsamples = 29\\nvalue = [29, 0]'),\n Text(0.9076620825147348, 0.36538461538461536, 'X[68] <= 47500.0\\ngini = 0.001\\nsamples = 17258\\nvalue = [17246, 12]'),\n Text(0.8943630043826507, 0.3269230769230769, 'X[38] <= 603.606\\ngini = 0.054\\nsamples = 218\\nvalue = [212, 6]'),\n Text(0.8895269759709838, 0.28846153846153844, 'gini = 0.0\\nsamples = 212\\nvalue = [212, 0]'),\n Text(0.8991990327943177, 0.28846153846153844, 'gini = 0.0\\nsamples = 6\\nvalue = [0, 6]'),\n Text(0.9209611606468188, 0.3269230769230769, 'X[67] <= 254.5\\ngini = 0.001\\nsamples = 17040\\nvalue = [17034, 6]'),\n Text(0.9088710896176515, 0.28846153846153844, 'X[9] <= 57.5\\ngini = 0.08\\nsamples = 24\\nvalue = [23, 1]'),\n Text(0.9040350612059845, 0.25, 'gini = 0.0\\nsamples = 1\\nvalue = [0, 1]'),\n Text(0.9137071180293185, 0.25, 'gini = 0.0\\nsamples = 23\\nvalue = [23, 0]'),\n Text(0.9330512316759861, 0.28846153846153844, 'X[16] <= 62.767\\ngini = 0.001\\nsamples = 17016\\nvalue = [17011, 5]'),\n Text(0.9233791748526523, 0.25, 'X[76] <= 11499863.5\\ngini = 0.0\\nsamples = 16095\\nvalue = [16094, 1]'),\n Text(0.9185431464409853, 0.21153846153846154, 'gini = 0.0\\nsamples = 15923\\nvalue = [15923, 0]'),\n Text(0.9282152032643192, 0.21153846153846154, 'X[76] <= 11576769.5\\ngini = 0.012\\nsamples = 172\\nvalue = [171, 1]'),\n Text(0.9233791748526523, 0.17307692307692307, 'gini = 0.0\\nsamples = 1\\nvalue = [0, 1]'),\n Text(0.9330512316759861, 0.17307692307692307, 'gini = 0.0\\nsamples = 171\\nvalue = [171, 0]'),\n Text(0.94272328849932, 0.25, 'X[42] <= 61.75\\ngini = 0.009\\nsamples = 921\\nvalue = [917, 4]'),\n Text(0.937887260087653, 0.21153846153846154, 'gini = 0.0\\nsamples = 4\\nvalue = [0, 4]'),\n Text(0.9475593169109868, 0.21153846153846154, 'gini = 0.0\\nsamples = 917\\nvalue = [917, 0]'),\n Text(0.9221701677497355, 0.40384615384615385, 'X[42] <= 368.683\\ngini = 0.5\\nsamples = 2\\nvalue = [1, 1]'),\n Text(0.9173341393380686, 0.36538461538461536, 'gini = 0.0\\nsamples = 1\\nvalue = [1, 0]'),\n Text(0.9270061961614025, 0.36538461538461536, 'gini = 0.0\\nsamples = 1\\nvalue = [0, 1]'),\n Text(0.8936073749433278, 0.5576923076923077, 'gini = 0.0\\nsamples = 11\\nvalue = [0, 11]'),\n Text(0.9081154601783286, 0.5961538461538461, 'X[5] <= 1.488571137204945e+18\\ngini = 0.152\\nsamples = 10509\\nvalue = [9636, 873]'),\n Text(0.9032794317666616, 0.5576923076923077, 'gini = 0.0\\nsamples = 759\\nvalue = [0, 759]'),\n Text(0.9129514885899954, 0.5576923076923077, 'X[0] <= 12103924.0\\ngini = 0.023\\nsamples = 9750\\nvalue = [9636, 114]'),\n Text(0.9081154601783286, 0.5192307692307693, 'X[3] <= 617.0\\ngini = 0.454\\nsamples = 327\\nvalue = [213, 114]'),\n Text(0.9032794317666616, 0.4807692307692308, 'gini = 0.0\\nsamples = 114\\nvalue = [0, 114]'),\n Text(0.9129514885899954, 0.4807692307692308, 'gini = 0.0\\nsamples = 213\\nvalue = [213, 0]'),\n Text(0.9177875170016624, 0.5192307692307693, 'gini = 0.0\\nsamples = 9423\\nvalue = [9423, 0]'),\n Text(0.9661478011183315, 0.6730769230769231, 'X[18] <= 553.005\\ngini = 0.343\\nsamples = 1134\\nvalue = [249, 885]'),\n Text(0.9468036874716639, 0.6346153846153846, 'X[5] <= 1.4390560054375875e+18\\ngini = 0.149\\nsamples = 939\\nvalue = [76, 863]'),\n Text(0.93713163064833, 0.5961538461538461, 'X[15] <= 1413.296\\ngini = 0.256\\nsamples = 73\\nvalue = [62, 11]'),\n Text(0.9322956022366632, 0.5576923076923077, 'X[7] <= 75.0\\ngini = 0.153\\nsamples = 12\\nvalue = [1, 11]'),\n Text(0.9274595738249962, 0.5192307692307693, 'gini = 0.0\\nsamples = 1\\nvalue = [1, 0]'),\n Text(0.93713163064833, 0.5192307692307693, 'gini = 0.0\\nsamples = 11\\nvalue = [0, 11]'),\n Text(0.941967659059997, 0.5576923076923077, 'gini = 0.0\\nsamples = 61\\nvalue = [61, 0]'),\n Text(0.9564757442949977, 0.5961538461538461, 'X[5] <= 1.4980976495453798e+18\\ngini = 0.032\\nsamples = 866\\nvalue = [14, 852]'),\n Text(0.9516397158833309, 0.5576923076923077, 'gini = 0.0\\nsamples = 852\\nvalue = [0, 852]'),\n Text(0.9613117727066647, 0.5576923076923077, 'gini = 0.0\\nsamples = 14\\nvalue = [14, 0]'),\n Text(0.9854919147649992, 0.6346153846153846, 'X[75] <= 7229127.0\\ngini = 0.2\\nsamples = 195\\nvalue = [173, 22]'),\n Text(0.9806558863533323, 0.5961538461538461, 'X[9] <= 981.5\\ngini = 0.139\\nsamples = 187\\nvalue = [173, 14]'),\n Text(0.9709838295299985, 0.5576923076923077, 'X[1] <= 49438.5\\ngini = 0.48\\nsamples = 15\\nvalue = [6, 9]'),\n Text(0.9661478011183315, 0.5192307692307693, 'gini = 0.0\\nsamples = 9\\nvalue = [0, 9]'),\n Text(0.9758198579416654, 0.5192307692307693, 'gini = 0.0\\nsamples = 6\\nvalue = [6, 0]'),\n Text(0.9903279431766662, 0.5576923076923077, 'X[7] <= 435.5\\ngini = 0.056\\nsamples = 172\\nvalue = [167, 5]'),\n Text(0.9854919147649992, 0.5192307692307693, 'X[2] <= 86440275968.0\\ngini = 0.035\\nsamples = 170\\nvalue = [167, 3]'),\n Text(0.9806558863533323, 0.4807692307692308, 'gini = 0.0\\nsamples = 163\\nvalue = [163, 0]'),\n Text(0.9903279431766662, 0.4807692307692308, 'X[0] <= 5915653.0\\ngini = 0.49\\nsamples = 7\\nvalue = [4, 3]'),\n Text(0.9854919147649992, 0.4423076923076923, 'gini = 0.0\\nsamples = 4\\nvalue = [4, 0]'),\n Text(0.995163971588333, 0.4423076923076923, 'gini = 0.0\\nsamples = 3\\nvalue = [0, 3]'),\n Text(0.995163971588333, 0.5192307692307693, 'gini = 0.0\\nsamples = 2\\nvalue = [0, 2]'),\n Text(0.9903279431766662, 0.5961538461538461, 'gini = 0.0\\nsamples = 8\\nvalue = [0, 8]'),\n Text(0.8500831192383256, 0.75, 'gini = 0.0\\nsamples = 785\\nvalue = [0, 785]'),\n Text(0.8742632612966601, 0.8653846153846154, 'X[5] <= 5.655266215497564e+17\\ngini = 0.133\\nsamples = 11960\\nvalue = [856, 11104]'),\n Text(0.8694272328849932, 0.8269230769230769, 'X[67] <= 65435.0\\ngini = 0.012\\nsamples = 11174\\nvalue = [70, 11104]'),\n Text(0.8645912044733263, 0.7884615384615384, 'X[68] <= 65534.5\\ngini = 0.002\\nsamples = 11113\\nvalue = [9, 11104]'),\n Text(0.8597551760616594, 0.75, 'gini = 0.0\\nsamples = 11104\\nvalue = [0, 11104]'),\n Text(0.8694272328849932, 0.75, 'gini = 0.0\\nsamples = 9\\nvalue = [9, 0]'),\n Text(0.8742632612966601, 0.7884615384615384, 'gini = 0.0\\nsamples = 61\\nvalue = [61, 0]'),\n Text(0.8790992897083271, 0.8269230769230769, 'gini = 0.0\\nsamples = 786\\nvalue = [786, 0]')]"
     },
     "execution_count": 35,
     "metadata": {},
     "output_type": "execute_result"
    },
    {
     "data": {
      "text/plain": "<Figure size 432x288 with 1 Axes>",
      "image/png": "[encoded data removed]"
     },
     "metadata": {
      "needs_background": "light"
     },
     "output_type": "display_data"
    }
   ],
   "source": [
    "plot_tree(dt_balance_model)"
   ],
   "metadata": {
    "collapsed": false
   }
  },
  {
   "cell_type": "markdown",
   "source": [
    "### VALUTAZIONE MODELLO"
   ],
   "metadata": {
    "collapsed": false
   }
  },
  {
   "cell_type": "code",
   "execution_count": 36,
   "outputs": [
    {
     "name": "stdout",
     "output_type": "stream",
     "text": [
      "Precision in training phase: 1.0\n",
      "Precision in testing phase(unbalanced): 0.9999071293076194\n",
      "Precision in testing phase(balanced): 0.9997927665043687\n"
     ]
    }
   ],
   "source": [
    "print(f\"Precision in training phase: {dt_balance_model.score(X_train_balanced, y_train_balanced)}\")\n",
    "print(f\"Precision in testing phase(unbalanced): {dt_balance_model.score(X_test, y_test)}\")\n",
    "print(f\"Precision in testing phase(balanced): {dt_balance_model.score(X_test_balanced, y_test_balanced)}\")"
   ],
   "metadata": {
    "collapsed": false
   }
  },
  {
   "cell_type": "markdown",
   "source": [
    "### FEATURES IMPORTANCE/DIMENSIONAL REDUCTION\n",
    "\n",
    "Per fare ciò sfrutto la proprietà *feature_importance\\_* messa a disposizione dal modello"
   ],
   "metadata": {
    "collapsed": false
   }
  },
  {
   "cell_type": "code",
   "execution_count": 37,
   "outputs": [
    {
     "name": "stdout",
     "output_type": "stream",
     "text": [
      "Feature: 0, Score: 0.17258\n",
      "Feature: 1, Score: 0.00017\n",
      "Feature: 2, Score: 0.00013\n",
      "Feature: 3, Score: 0.00017\n",
      "Feature: 4, Score: 0.00021\n",
      "Feature: 5, Score: 0.03082\n",
      "Feature: 6, Score: 0.00001\n",
      "Feature: 7, Score: 0.00001\n",
      "Feature: 8, Score: 0.00000\n",
      "Feature: 9, Score: 0.00001\n",
      "Feature: 10, Score: 0.00002\n",
      "Feature: 11, Score: 0.00000\n",
      "Feature: 12, Score: 0.00005\n",
      "Feature: 13, Score: 0.00000\n",
      "Feature: 14, Score: 0.00001\n",
      "Feature: 15, Score: 0.00004\n",
      "Feature: 16, Score: 0.00034\n",
      "Feature: 17, Score: 0.00000\n",
      "Feature: 18, Score: 0.00020\n",
      "Feature: 19, Score: 0.00003\n",
      "Feature: 20, Score: 0.00000\n",
      "Feature: 21, Score: 0.00001\n",
      "Feature: 22, Score: 0.00002\n",
      "Feature: 23, Score: 0.00000\n",
      "Feature: 24, Score: 0.00152\n",
      "Feature: 25, Score: 0.00004\n",
      "Feature: 26, Score: 0.00000\n",
      "Feature: 27, Score: 0.00000\n",
      "Feature: 28, Score: 0.00000\n",
      "Feature: 29, Score: 0.00001\n",
      "Feature: 30, Score: 0.00000\n",
      "Feature: 31, Score: 0.00000\n",
      "Feature: 32, Score: 0.00000\n",
      "Feature: 33, Score: 0.00000\n",
      "Feature: 34, Score: 0.00000\n",
      "Feature: 35, Score: 0.00000\n",
      "Feature: 36, Score: 0.00001\n",
      "Feature: 37, Score: 0.00000\n",
      "Feature: 38, Score: 0.00025\n",
      "Feature: 39, Score: 0.00002\n",
      "Feature: 40, Score: 0.00000\n",
      "Feature: 41, Score: 0.00000\n",
      "Feature: 42, Score: 0.00001\n",
      "Feature: 43, Score: 0.00000\n",
      "Feature: 44, Score: 0.00005\n",
      "Feature: 45, Score: 0.00011\n",
      "Feature: 46, Score: 0.00000\n",
      "Feature: 47, Score: 0.00000\n",
      "Feature: 48, Score: 0.00000\n",
      "Feature: 49, Score: 0.00000\n",
      "Feature: 50, Score: 0.00000\n",
      "Feature: 51, Score: 0.00000\n",
      "Feature: 52, Score: 0.00001\n",
      "Feature: 53, Score: 0.00000\n",
      "Feature: 54, Score: 0.00000\n",
      "Feature: 55, Score: 0.00000\n",
      "Feature: 56, Score: 0.00000\n",
      "Feature: 57, Score: 0.00000\n",
      "Feature: 58, Score: 0.00003\n",
      "Feature: 59, Score: 0.00001\n",
      "Feature: 60, Score: 0.00000\n",
      "Feature: 61, Score: 0.00000\n",
      "Feature: 62, Score: 0.00107\n",
      "Feature: 63, Score: 0.00000\n",
      "Feature: 64, Score: 0.01767\n",
      "Feature: 65, Score: 0.76682\n",
      "Feature: 66, Score: 0.00000\n",
      "Feature: 67, Score: 0.00454\n",
      "Feature: 68, Score: 0.00215\n",
      "Feature: 69, Score: 0.00000\n",
      "Feature: 70, Score: 0.00043\n",
      "Feature: 71, Score: 0.00000\n",
      "Feature: 72, Score: 0.00000\n",
      "Feature: 73, Score: 0.00000\n",
      "Feature: 74, Score: 0.00000\n",
      "Feature: 75, Score: 0.00001\n",
      "Feature: 76, Score: 0.00000\n",
      "Feature: 77, Score: 0.00036\n",
      "Feature: 78, Score: 0.00000\n"
     ]
    },
    {
     "data": {
      "text/plain": "<Figure size 432x288 with 1 Axes>",
      "image/png": "[encoded data removed]"
     },
     "metadata": {
      "needs_background": "light"
     },
     "output_type": "display_data"
    }
   ],
   "source": [
    "importance = dt_balance_model.feature_importances_\n",
    "\n",
    "for i,v in enumerate(importance):\n",
    " print('Feature: %0d, Score: %.5f' % (i, v))\n",
    "\n",
    "plt.bar([x for x in range(len(importance))], importance)\n",
    "plt.show()"
   ],
   "metadata": {
    "collapsed": false
   }
  },
  {
   "cell_type": "markdown",
   "source": [
    "## RANDOM FOREST\n",
    "\n",
    "### DATASET SBILANCIATO"
   ],
   "metadata": {
    "collapsed": false
   }
  },
  {
   "cell_type": "code",
   "execution_count": 38,
   "outputs": [
    {
     "name": "stdout",
     "output_type": "stream",
     "text": [
      "INIZIO ADDESTRAMENTO RANDOM FOREST\n",
      "L'addestramento della random forest ha impiegato 271.1893661022186 secondi\n",
      "SALVATAGGIO MODELLO IN ../exported_model/rf_unbalance.pkl\n"
     ]
    }
   ],
   "source": [
    "try:\n",
    "    with open(f\"{EXPORTED_MODEL}/rf_unbalance.pkl\", 'rb') as file:\n",
    "        print(\"CARICAMENTO MODELLO DA ../exported_model/rf_unbalance.pkl\")\n",
    "\n",
    "        rf_model = pkl.load(file)\n",
    "except IOError:\n",
    "    rf = RandomForestClassifier()\n",
    "    start_time = time.time()\n",
    "\n",
    "    print(\"INIZIO ADDESTRAMENTO RANDOM FOREST\")\n",
    "    rf_model = rf.fit(X_train, y_train)\n",
    "\n",
    "    print(f\"L'addestramento della random forest ha impiegato {time.time() - start_time} secondi\")\n",
    "\n",
    "    print(\"SALVATAGGIO MODELLO IN ../exported_model/rf_unbalance.pkl\")\n",
    "    with open(f\"{EXPORTED_MODEL}/rf_unbalance.pkl\", 'wb') as file:\n",
    "        pkl.dump(rf_model, file)"
   ],
   "metadata": {
    "collapsed": false
   }
  },
  {
   "cell_type": "markdown",
   "source": [
    "Visualizza la random forest"
   ],
   "metadata": {
    "collapsed": false
   }
  },
  {
   "cell_type": "code",
   "execution_count": null,
   "outputs": [],
   "source": [
    "index = 0\n",
    "fig, axes = plt.subplots(nrows = 10,ncols = 5,figsize = (10, 10), dpi=900)\n",
    "\n",
    "for tree in rf_model.estimators_:\n",
    "    plot_tree(tree)\n",
    "\n",
    "    axes[index].set_title('Estimator: ' + str(index), fontsize = 11)\n",
    "    index += 1"
   ],
   "metadata": {
    "collapsed": false,
    "pycharm": {
     "is_executing": true
    }
   }
  },
  {
   "cell_type": "markdown",
   "source": [
    "### VALUTAZIONE MODELLO"
   ],
   "metadata": {
    "collapsed": false
   }
  },
  {
   "cell_type": "code",
   "execution_count": 39,
   "outputs": [
    {
     "name": "stdout",
     "output_type": "stream",
     "text": [
      "Precision in training phase: 1.0\n",
      "Precision in testing phase: 0.9999170091685109\n"
     ]
    }
   ],
   "source": [
    "print(f\"Precision in training phase: {rf_model.score(X_train, y_train)}\")\n",
    "print(f\"Precision in testing phase: {rf_model.score(X_test, y_test)}\")"
   ],
   "metadata": {
    "collapsed": false
   }
  },
  {
   "cell_type": "markdown",
   "source": [
    "### FEATURES IMPORTANCE/DIMENSIONAL REDUCTION\n",
    "\n",
    "Per fare ciò sfrutto la proprietà *feature_importances\\_* messa a disposizione dal modello"
   ],
   "metadata": {
    "collapsed": false
   }
  },
  {
   "cell_type": "code",
   "execution_count": 40,
   "outputs": [
    {
     "name": "stdout",
     "output_type": "stream",
     "text": [
      "Feature: 0, Score: 0.11325\n",
      "Feature: 1, Score: 0.00706\n",
      "Feature: 2, Score: 0.01021\n",
      "Feature: 3, Score: 0.01339\n",
      "Feature: 4, Score: 0.01714\n",
      "Feature: 5, Score: 0.05469\n",
      "Feature: 6, Score: 0.07822\n",
      "Feature: 7, Score: 0.00747\n",
      "Feature: 8, Score: 0.02807\n",
      "Feature: 9, Score: 0.00842\n",
      "Feature: 10, Score: 0.02835\n",
      "Feature: 11, Score: 0.00383\n",
      "Feature: 12, Score: 0.00985\n",
      "Feature: 13, Score: 0.00446\n",
      "Feature: 14, Score: 0.00058\n",
      "Feature: 15, Score: 0.01592\n",
      "Feature: 16, Score: 0.00285\n",
      "Feature: 17, Score: 0.02139\n",
      "Feature: 18, Score: 0.00040\n",
      "Feature: 19, Score: 0.02992\n",
      "Feature: 20, Score: 0.08046\n",
      "Feature: 21, Score: 0.02296\n",
      "Feature: 22, Score: 0.00071\n",
      "Feature: 23, Score: 0.03124\n",
      "Feature: 24, Score: 0.01132\n",
      "Feature: 25, Score: 0.01520\n",
      "Feature: 26, Score: 0.01509\n",
      "Feature: 27, Score: 0.00069\n",
      "Feature: 28, Score: 0.00922\n",
      "Feature: 29, Score: 0.00751\n",
      "Feature: 30, Score: 0.00025\n",
      "Feature: 31, Score: 0.00084\n",
      "Feature: 32, Score: 0.00016\n",
      "Feature: 33, Score: 0.00015\n",
      "Feature: 34, Score: 0.00010\n",
      "Feature: 35, Score: 0.00000\n",
      "Feature: 36, Score: 0.02891\n",
      "Feature: 37, Score: 0.01628\n",
      "Feature: 38, Score: 0.08905\n",
      "Feature: 39, Score: 0.04089\n",
      "Feature: 40, Score: 0.00437\n",
      "Feature: 41, Score: 0.00410\n",
      "Feature: 42, Score: 0.00293\n",
      "Feature: 43, Score: 0.00325\n",
      "Feature: 44, Score: 0.00329\n",
      "Feature: 45, Score: 0.00914\n",
      "Feature: 46, Score: 0.00000\n",
      "Feature: 47, Score: 0.00000\n",
      "Feature: 48, Score: 0.00000\n",
      "Feature: 49, Score: 0.00002\n",
      "Feature: 50, Score: 0.00000\n",
      "Feature: 51, Score: 0.00000\n",
      "Feature: 52, Score: 0.01371\n",
      "Feature: 53, Score: 0.00431\n",
      "Feature: 54, Score: 0.00442\n",
      "Feature: 55, Score: 0.01514\n",
      "Feature: 56, Score: 0.01996\n",
      "Feature: 57, Score: 0.00028\n",
      "Feature: 58, Score: 0.00018\n",
      "Feature: 59, Score: 0.00023\n",
      "Feature: 60, Score: 0.00016\n",
      "Feature: 61, Score: 0.00006\n",
      "Feature: 62, Score: 0.00044\n",
      "Feature: 63, Score: 0.00487\n",
      "Feature: 64, Score: 0.00792\n",
      "Feature: 65, Score: 0.03600\n",
      "Feature: 66, Score: 0.00755\n",
      "Feature: 67, Score: 0.00888\n",
      "Feature: 68, Score: 0.00171\n",
      "Feature: 69, Score: 0.00189\n",
      "Feature: 70, Score: 0.01719\n",
      "Feature: 71, Score: 0.00002\n",
      "Feature: 72, Score: 0.00001\n",
      "Feature: 73, Score: 0.00001\n",
      "Feature: 74, Score: 0.00002\n",
      "Feature: 75, Score: 0.00030\n",
      "Feature: 76, Score: 0.00009\n",
      "Feature: 77, Score: 0.00082\n",
      "Feature: 78, Score: 0.00026\n"
     ]
    },
    {
     "data": {
      "text/plain": "<Figure size 432x288 with 1 Axes>",
      "image/png": "[encoded data removed]"
     },
     "metadata": {
      "needs_background": "light"
     },
     "output_type": "display_data"
    }
   ],
   "source": [
    "importance = rf_model.feature_importances_\n",
    "# summarize feature importance\n",
    "for i,v in enumerate(importance):\n",
    " print('Feature: %0d, Score: %.5f' % (i, v))\n",
    "# plot feature importance\n",
    "plt.bar([x for x in range(len(importance))], importance)\n",
    "plt.show()"
   ],
   "metadata": {
    "collapsed": false
   }
  },
  {
   "cell_type": "markdown",
   "source": [
    "### DATASET BILANCIATO"
   ],
   "metadata": {
    "collapsed": false
   }
  },
  {
   "cell_type": "code",
   "execution_count": 41,
   "outputs": [
    {
     "name": "stdout",
     "output_type": "stream",
     "text": [
      "INIZIO ADDESTRAMENTO RANDOM FOREST\n",
      "L'addestramento della random forest ha impiegato 404.0445399284363 secondi\n",
      "SALVATAGGIO MODELLO IN ../exported_model/rf_balance.pkl\n"
     ]
    }
   ],
   "source": [
    "try:\n",
    "    with open(f\"{EXPORTED_MODEL}/rf_balance.pkl\", 'rb') as file:\n",
    "        print(\"CARICAMENTO MODELLO DA ../exported_model/rf_balance.pkl\")\n",
    "\n",
    "        rf_balance_model = pkl.load(file)\n",
    "except IOError:\n",
    "    rf = RandomForestClassifier()\n",
    "    start_time = time.time()\n",
    "\n",
    "    print(\"INIZIO ADDESTRAMENTO RANDOM FOREST\")\n",
    "    rf_balance_model = rf.fit(X_train_balanced, y_train_balanced)\n",
    "\n",
    "    print(f\"L'addestramento della random forest ha impiegato {time.time() - start_time} secondi\")\n",
    "\n",
    "    print(\"SALVATAGGIO MODELLO IN ../exported_model/rf_balance.pkl\")\n",
    "    with open(f\"{EXPORTED_MODEL}/rf_balance.pkl\", 'wb') as file:\n",
    "        pkl.dump(rf_balance_model, file)"
   ],
   "metadata": {
    "collapsed": false
   }
  },
  {
   "cell_type": "markdown",
   "source": [
    "Visualizza la random forest"
   ],
   "metadata": {
    "collapsed": false
   }
  },
  {
   "cell_type": "code",
   "execution_count": null,
   "outputs": [],
   "source": [
    "for tree in rf_balance_model.estimators:\n",
    "    tree.plot_tree(tree)"
   ],
   "metadata": {
    "collapsed": false,
    "pycharm": {
     "is_executing": true
    }
   }
  },
  {
   "cell_type": "markdown",
   "source": [
    "### VALUTAZIONE MODELLO"
   ],
   "metadata": {
    "collapsed": false
   }
  },
  {
   "cell_type": "code",
   "execution_count": 42,
   "outputs": [
    {
     "name": "stdout",
     "output_type": "stream",
     "text": [
      "Precision in training phase: 1.0\n",
      "Precision in testing phase(unbalance): 0.9999071293076194\n",
      "Precision in testing phase(balance): 0.9999078962241639\n"
     ]
    }
   ],
   "source": [
    "print(f\"Precision in training phase: {rf_balance_model.score(X_train_balanced, y_train_balanced)}\")\n",
    "print(f\"Precision in testing phase(unbalance): {rf_balance_model.score(X_test, y_test)}\")\n",
    "print(f\"Precision in testing phase(balance): {rf_balance_model.score(X_test_balanced, y_test_balanced)}\")"
   ],
   "metadata": {
    "collapsed": false
   }
  },
  {
   "cell_type": "markdown",
   "source": [
    "### FEATURES IMPORTANCE/DIMENSIONAL REDUCTION\n",
    "\n",
    "Per fare ciò sfrutto la proprietà *feature_importances\\_* messa a disposizione dal modello"
   ],
   "metadata": {
    "collapsed": false
   }
  },
  {
   "cell_type": "code",
   "execution_count": 43,
   "outputs": [
    {
     "name": "stdout",
     "output_type": "stream",
     "text": [
      "Feature: 0, Score: 0.07988\n",
      "Feature: 1, Score: 0.00102\n",
      "Feature: 2, Score: 0.00405\n",
      "Feature: 3, Score: 0.00794\n",
      "Feature: 4, Score: 0.01193\n",
      "Feature: 5, Score: 0.08266\n",
      "Feature: 6, Score: 0.02956\n",
      "Feature: 7, Score: 0.01031\n",
      "Feature: 8, Score: 0.12101\n",
      "Feature: 9, Score: 0.00133\n",
      "Feature: 10, Score: 0.03243\n",
      "Feature: 11, Score: 0.00164\n",
      "Feature: 12, Score: 0.00127\n",
      "Feature: 13, Score: 0.00073\n",
      "Feature: 14, Score: 0.00045\n",
      "Feature: 15, Score: 0.06361\n",
      "Feature: 16, Score: 0.04818\n",
      "Feature: 17, Score: 0.03071\n",
      "Feature: 18, Score: 0.00068\n",
      "Feature: 19, Score: 0.00480\n",
      "Feature: 20, Score: 0.03990\n",
      "Feature: 21, Score: 0.00309\n",
      "Feature: 22, Score: 0.00531\n",
      "Feature: 23, Score: 0.00318\n",
      "Feature: 24, Score: 0.00126\n",
      "Feature: 25, Score: 0.00153\n",
      "Feature: 26, Score: 0.00237\n",
      "Feature: 27, Score: 0.00115\n",
      "Feature: 28, Score: 0.00287\n",
      "Feature: 29, Score: 0.00124\n",
      "Feature: 30, Score: 0.00034\n",
      "Feature: 31, Score: 0.00107\n",
      "Feature: 32, Score: 0.00054\n",
      "Feature: 33, Score: 0.00261\n",
      "Feature: 34, Score: 0.00019\n",
      "Feature: 35, Score: 0.00001\n",
      "Feature: 36, Score: 0.01754\n",
      "Feature: 37, Score: 0.07128\n",
      "Feature: 38, Score: 0.04086\n",
      "Feature: 39, Score: 0.05447\n",
      "Feature: 40, Score: 0.00454\n",
      "Feature: 41, Score: 0.00112\n",
      "Feature: 42, Score: 0.00130\n",
      "Feature: 43, Score: 0.00425\n",
      "Feature: 44, Score: 0.02058\n",
      "Feature: 45, Score: 0.00197\n",
      "Feature: 46, Score: 0.00001\n",
      "Feature: 47, Score: 0.00000\n",
      "Feature: 48, Score: 0.00001\n",
      "Feature: 49, Score: 0.00289\n",
      "Feature: 50, Score: 0.00000\n",
      "Feature: 51, Score: 0.00000\n",
      "Feature: 52, Score: 0.02949\n",
      "Feature: 53, Score: 0.00137\n",
      "Feature: 54, Score: 0.00093\n",
      "Feature: 55, Score: 0.03130\n",
      "Feature: 56, Score: 0.00431\n",
      "Feature: 57, Score: 0.00051\n",
      "Feature: 58, Score: 0.00052\n",
      "Feature: 59, Score: 0.00054\n",
      "Feature: 60, Score: 0.00020\n",
      "Feature: 61, Score: 0.00043\n",
      "Feature: 62, Score: 0.00072\n",
      "Feature: 63, Score: 0.00358\n",
      "Feature: 64, Score: 0.00693\n",
      "Feature: 65, Score: 0.02849\n",
      "Feature: 66, Score: 0.02190\n",
      "Feature: 67, Score: 0.00917\n",
      "Feature: 68, Score: 0.00668\n",
      "Feature: 69, Score: 0.00268\n",
      "Feature: 70, Score: 0.02809\n",
      "Feature: 71, Score: 0.00000\n",
      "Feature: 72, Score: 0.00001\n",
      "Feature: 73, Score: 0.00001\n",
      "Feature: 74, Score: 0.00001\n",
      "Feature: 75, Score: 0.00013\n",
      "Feature: 76, Score: 0.00004\n",
      "Feature: 77, Score: 0.00011\n",
      "Feature: 78, Score: 0.00018\n"
     ]
    },
    {
     "data": {
      "text/plain": "<Figure size 432x288 with 1 Axes>",
      "image/png": "[encoded data removed]"
     },
     "metadata": {
      "needs_background": "light"
     },
     "output_type": "display_data"
    }
   ],
   "source": [
    "importance = rf_balance_model.feature_importances_\n",
    "# summarize feature importance\n",
    "for i,v in enumerate(importance):\n",
    " print('Feature: %0d, Score: %.5f' % (i, v))\n",
    "# plot feature importance\n",
    "plt.bar([x for x in range(len(importance))], importance)\n",
    "plt.show()"
   ],
   "metadata": {
    "collapsed": false
   }
  },
  {
   "cell_type": "markdown",
   "source": [
    "## BAYESIAN NETWORK\n",
    "\n",
    "### DATASET SBILANCIATO\n",
    "\n",
    "#### GAUSSIAN NAIVE BAYES"
   ],
   "metadata": {
    "collapsed": false
   }
  },
  {
   "cell_type": "code",
   "execution_count": 15,
   "outputs": [
    {
     "name": "stdout",
     "output_type": "stream",
     "text": [
      "INIZIO ADDESTRAMENTO BAYESIAN NETWORK\n",
      "L'addestramento della bayesian network ha impiegato 2.6586413383483887 secondi\n",
      "SALVATAGGIO MODELLO IN ../exported_model/gnd_unbalance.pkl\n"
     ]
    }
   ],
   "source": [
    "try:\n",
    "    with open(f\"{EXPORTED_MODEL}/gnb_unbalance.pkl\", 'rb') as file:\n",
    "        print(\"CARICAMENTO MODELLO DA ../exported_model/gnb_unbalance.pkl\")\n",
    "\n",
    "        gnb_model = pkl.load(file)\n",
    "except IOError:\n",
    "    gnb = GaussianNB()\n",
    "    start_time = time.time()\n",
    "\n",
    "    print(\"INIZIO ADDESTRAMENTO BAYESIAN NETWORK\")\n",
    "    gnb_model = gnb.fit(X_train, y_train)\n",
    "\n",
    "    print(f\"L'addestramento della bayesian network ha impiegato {time.time() - start_time} secondi\")\n",
    "\n",
    "    print(\"SALVATAGGIO MODELLO IN ../exported_model/gnd_unbalance.pkl\")\n",
    "    with open(f\"{EXPORTED_MODEL}/gnb_unbalance.pkl\", 'wb') as file:\n",
    "        pkl.dump(gnb_model, file)"
   ],
   "metadata": {
    "collapsed": false
   }
  },
  {
   "cell_type": "markdown",
   "source": [
    "##### VALUTAZIONE MODELLO"
   ],
   "metadata": {
    "collapsed": false
   }
  },
  {
   "cell_type": "code",
   "execution_count": 16,
   "outputs": [
    {
     "name": "stdout",
     "output_type": "stream",
     "text": [
      "Precision in training phase: 0.07745593859349012\n",
      "Precision in testing phase: 0.07740278216882707\n"
     ]
    }
   ],
   "source": [
    "print(f\"Precision in training phase: {gnb_model.score(X_train, y_train)}\")\n",
    "print(f\"Precision in testing phase: {gnb_model.score(X_test, y_test)}\")"
   ],
   "metadata": {
    "collapsed": false
   }
  },
  {
   "cell_type": "markdown",
   "source": [
    "##### FEATURES IMPORTANCE/DIMENSIONAL REDUCTION"
   ],
   "metadata": {
    "collapsed": false
   }
  },
  {
   "cell_type": "code",
   "execution_count": null,
   "outputs": [],
   "source": [
    "importance = permutation_importance(gnb_model, X_train, y_train)"
   ],
   "metadata": {
    "collapsed": false,
    "pycharm": {
     "is_executing": true
    }
   }
  },
  {
   "cell_type": "code",
   "execution_count": 22,
   "outputs": [
    {
     "name": "stdout",
     "output_type": "stream",
     "text": [
      "Feature: 0, Score: 0.00000\n",
      "Feature: 1, Score: 0.00000\n",
      "Feature: 2, Score: 0.00000\n",
      "Feature: 3, Score: 0.00000\n",
      "Feature: 4, Score: 0.00000\n",
      "Feature: 5, Score: 0.00000\n",
      "Feature: 6, Score: 0.00000\n",
      "Feature: 7, Score: 0.00000\n",
      "Feature: 8, Score: 0.00000\n",
      "Feature: 9, Score: 0.00000\n",
      "Feature: 10, Score: 0.00000\n",
      "Feature: 11, Score: 0.00000\n",
      "Feature: 12, Score: 0.00000\n",
      "Feature: 13, Score: 0.00000\n",
      "Feature: 14, Score: 0.00000\n",
      "Feature: 15, Score: 0.00000\n",
      "Feature: 16, Score: 0.00000\n",
      "Feature: 17, Score: 0.00000\n",
      "Feature: 18, Score: 0.00000\n",
      "Feature: 19, Score: 0.00000\n",
      "Feature: 20, Score: 0.00000\n",
      "Feature: 21, Score: -0.00286\n",
      "Feature: 22, Score: -0.00788\n",
      "Feature: 23, Score: 0.00000\n",
      "Feature: 24, Score: 0.00000\n",
      "Feature: 25, Score: 0.00000\n",
      "Feature: 26, Score: -0.00108\n",
      "Feature: 27, Score: -0.00636\n",
      "Feature: 28, Score: 0.00000\n",
      "Feature: 29, Score: 0.00000\n",
      "Feature: 30, Score: 0.00000\n",
      "Feature: 31, Score: -0.00090\n",
      "Feature: 32, Score: -0.00523\n",
      "Feature: 33, Score: 0.00000\n",
      "Feature: 34, Score: 0.00000\n",
      "Feature: 35, Score: 0.00000\n",
      "Feature: 36, Score: 0.00000\n",
      "Feature: 37, Score: 0.00000\n",
      "Feature: 38, Score: 0.00000\n",
      "Feature: 39, Score: 0.00000\n",
      "Feature: 40, Score: 0.00000\n",
      "Feature: 41, Score: 0.00000\n",
      "Feature: 42, Score: 0.00000\n",
      "Feature: 43, Score: 0.00000\n",
      "Feature: 44, Score: 0.00000\n",
      "Feature: 45, Score: 0.00000\n",
      "Feature: 46, Score: 0.00000\n",
      "Feature: 47, Score: 0.00000\n",
      "Feature: 48, Score: 0.00000\n",
      "Feature: 49, Score: 0.00000\n",
      "Feature: 50, Score: 0.00000\n",
      "Feature: 51, Score: 0.00000\n",
      "Feature: 52, Score: 0.00000\n",
      "Feature: 53, Score: 0.00000\n",
      "Feature: 54, Score: 0.00000\n",
      "Feature: 55, Score: 0.00000\n",
      "Feature: 56, Score: 0.00000\n",
      "Feature: 57, Score: 0.00000\n",
      "Feature: 58, Score: 0.00000\n",
      "Feature: 59, Score: 0.00000\n",
      "Feature: 60, Score: 0.00000\n",
      "Feature: 61, Score: 0.00000\n",
      "Feature: 62, Score: 0.00000\n",
      "Feature: 63, Score: 0.00000\n",
      "Feature: 64, Score: 0.00000\n",
      "Feature: 65, Score: 0.00000\n",
      "Feature: 66, Score: 0.00000\n",
      "Feature: 67, Score: 0.00000\n",
      "Feature: 68, Score: 0.00000\n",
      "Feature: 69, Score: 0.00000\n",
      "Feature: 70, Score: 0.00000\n",
      "Feature: 71, Score: 0.00000\n",
      "Feature: 72, Score: 0.00000\n",
      "Feature: 73, Score: 0.00000\n",
      "Feature: 74, Score: 0.00000\n",
      "Feature: 75, Score: 0.00000\n",
      "Feature: 76, Score: -0.00000\n",
      "Feature: 77, Score: 0.00000\n",
      "Feature: 78, Score: 0.00000\n",
      "Feature: 79, Score: 0.00045\n",
      "Feature: 80, Score: -0.00168\n",
      "Feature: 81, Score: 0.00000\n",
      "Feature: 82, Score: 0.00000\n"
     ]
    },
    {
     "data": {
      "text/plain": "<Figure size 432x288 with 1 Axes>",
      "image/png": "[encoded data removed]"
     },
     "metadata": {
      "needs_background": "light"
     },
     "output_type": "display_data"
    }
   ],
   "source": [
    "importance = importance['importances_mean']\n",
    "\n",
    "for i,v in enumerate(importance):\n",
    "    print('Feature: %0d, Score: %.5f' % (i, v))\n",
    "\n",
    "#plot feature importance\n",
    "plt.bar([x for x in range(len(importance))], importance)\n",
    "plt.show()"
   ],
   "metadata": {
    "collapsed": false
   }
  },
  {
   "cell_type": "markdown",
   "source": [
    "#### BERNOULLI NAIVE BAYES"
   ],
   "metadata": {
    "collapsed": false
   }
  },
  {
   "cell_type": "code",
   "execution_count": 24,
   "outputs": [
    {
     "name": "stdout",
     "output_type": "stream",
     "text": [
      "INIZIO ADDESTRAMENTO BAYESIAN NETWORK\n",
      "L'addestramento della bayesian network ha impiegato 1.9755268096923828 secondi\n",
      "SALVATAGGIO MODELLO IN ../exported_model/bnd_unbalance.pkl\n"
     ]
    }
   ],
   "source": [
    "try:\n",
    "    with open(f\"{EXPORTED_MODEL}/bnb_unbalance.pkl\", 'rb') as file:\n",
    "        print(\"CARICAMENTO MODELLO DA ../exported_model/bnb_unbalance.pkl\")\n",
    "\n",
    "        bnb_model = pkl.load(file)\n",
    "except IOError:\n",
    "    bnb = BernoulliNB()\n",
    "    start_time = time.time()\n",
    "\n",
    "    print(\"INIZIO ADDESTRAMENTO BAYESIAN NETWORK\")\n",
    "    bnb_model = bnb.fit(X_train, y_train)\n",
    "\n",
    "    print(f\"L'addestramento della bayesian network ha impiegato {time.time() - start_time} secondi\")\n",
    "\n",
    "    print(\"SALVATAGGIO MODELLO IN ../exported_model/bnd_unbalance.pkl\")\n",
    "    with open(f\"{EXPORTED_MODEL}/bnb_unbalance.pkl\", 'wb') as file:\n",
    "        pkl.dump(bnb_model, file)"
   ],
   "metadata": {
    "collapsed": false
   }
  },
  {
   "cell_type": "markdown",
   "source": [
    "##### VALUTAZIONE MODELLO"
   ],
   "metadata": {
    "collapsed": false
   }
  },
  {
   "cell_type": "code",
   "execution_count": 25,
   "outputs": [
    {
     "name": "stdout",
     "output_type": "stream",
     "text": [
      "Precision in training phase: 0.9655088021191479\n",
      "Precision in testing phase: 0.965973759089472\n"
     ]
    }
   ],
   "source": [
    "print(f\"Precision in training phase: {bnb_model.score(X_train, y_train)}\")\n",
    "print(f\"Precision in testing phase: {bnb_model.score(X_test, y_test)}\")"
   ],
   "metadata": {
    "collapsed": false
   }
  },
  {
   "cell_type": "markdown",
   "source": [
    "##### FEATURES IMPORTANCE/DIMENSIONAL REDUCTION"
   ],
   "metadata": {
    "collapsed": false
   }
  },
  {
   "cell_type": "code",
   "execution_count": 27,
   "outputs": [],
   "source": [
    "importance = permutation_importance(bnb_model, X_train, y_train)"
   ],
   "metadata": {
    "collapsed": false
   }
  },
  {
   "cell_type": "code",
   "execution_count": 28,
   "outputs": [
    {
     "name": "stdout",
     "output_type": "stream",
     "text": [
      "Feature: 0, Score: 0.00000\n",
      "Feature: 1, Score: -0.00000\n",
      "Feature: 2, Score: 0.00000\n",
      "Feature: 3, Score: -0.00000\n",
      "Feature: 4, Score: -0.00000\n",
      "Feature: 5, Score: 0.00000\n",
      "Feature: 6, Score: 0.00023\n",
      "Feature: 7, Score: 0.00000\n",
      "Feature: 8, Score: -0.01490\n",
      "Feature: 9, Score: -0.00065\n",
      "Feature: 10, Score: -0.01435\n",
      "Feature: 11, Score: -0.00065\n",
      "Feature: 12, Score: -0.00227\n",
      "Feature: 13, Score: -0.00065\n",
      "Feature: 14, Score: -0.00629\n",
      "Feature: 15, Score: -0.01435\n",
      "Feature: 16, Score: -0.01310\n",
      "Feature: 17, Score: -0.01435\n",
      "Feature: 18, Score: -0.00549\n",
      "Feature: 19, Score: 0.00014\n",
      "Feature: 20, Score: 0.00023\n",
      "Feature: 21, Score: 0.00006\n",
      "Feature: 22, Score: -0.01029\n",
      "Feature: 23, Score: 0.00006\n",
      "Feature: 24, Score: 0.00006\n",
      "Feature: 25, Score: 0.00014\n",
      "Feature: 26, Score: 0.00014\n",
      "Feature: 27, Score: -0.00593\n",
      "Feature: 28, Score: 0.00014\n",
      "Feature: 29, Score: 0.00014\n",
      "Feature: 30, Score: -0.00694\n",
      "Feature: 31, Score: -0.00694\n",
      "Feature: 32, Score: -0.00541\n",
      "Feature: 33, Score: -0.00694\n",
      "Feature: 34, Score: -0.00714\n",
      "Feature: 35, Score: -0.00035\n",
      "Feature: 36, Score: 0.00000\n",
      "Feature: 37, Score: 0.00000\n",
      "Feature: 38, Score: 0.00000\n",
      "Feature: 39, Score: -0.00000\n",
      "Feature: 40, Score: -0.01490\n",
      "Feature: 41, Score: 0.00023\n",
      "Feature: 42, Score: -0.01490\n",
      "Feature: 43, Score: -0.00235\n",
      "Feature: 44, Score: -0.00060\n",
      "Feature: 45, Score: -0.00060\n",
      "Feature: 46, Score: -0.01401\n",
      "Feature: 47, Score: -0.01401\n",
      "Feature: 48, Score: -0.00576\n",
      "Feature: 49, Score: -0.00035\n",
      "Feature: 50, Score: -0.00000\n",
      "Feature: 51, Score: -0.00138\n",
      "Feature: 52, Score: 0.00046\n",
      "Feature: 53, Score: -0.00049\n",
      "Feature: 54, Score: 0.00000\n",
      "Feature: 55, Score: -0.00000\n",
      "Feature: 56, Score: -0.01360\n",
      "Feature: 57, Score: -0.00060\n",
      "Feature: 58, Score: -0.00065\n",
      "Feature: 59, Score: -0.01435\n",
      "Feature: 60, Score: -0.00000\n",
      "Feature: 61, Score: -0.00063\n",
      "Feature: 62, Score: -0.00063\n",
      "Feature: 63, Score: -0.00063\n",
      "Feature: 64, Score: -0.00162\n",
      "Feature: 65, Score: -0.00162\n",
      "Feature: 66, Score: -0.00162\n",
      "Feature: 67, Score: 0.00000\n",
      "Feature: 68, Score: -0.00065\n",
      "Feature: 69, Score: -0.01490\n",
      "Feature: 70, Score: -0.01435\n",
      "Feature: 71, Score: -0.00038\n",
      "Feature: 72, Score: -0.00649\n",
      "Feature: 73, Score: -0.00195\n",
      "Feature: 74, Score: -0.00000\n",
      "Feature: 75, Score: -0.00088\n",
      "Feature: 76, Score: -0.00059\n",
      "Feature: 77, Score: -0.00088\n",
      "Feature: 78, Score: -0.00088\n",
      "Feature: 79, Score: -0.00170\n",
      "Feature: 80, Score: -0.00148\n",
      "Feature: 81, Score: -0.00170\n",
      "Feature: 82, Score: -0.00170\n"
     ]
    },
    {
     "data": {
      "text/plain": "<Figure size 432x288 with 1 Axes>",
      "image/png": "[encoded data removed]"
     },
     "metadata": {
      "needs_background": "light"
     },
     "output_type": "display_data"
    }
   ],
   "source": [
    "importance = importance['importances_mean']\n",
    "\n",
    "for i,v in enumerate(importance):\n",
    "    print('Feature: %0d, Score: %.5f' % (i, v))\n",
    "\n",
    "#plot feature importance\n",
    "plt.bar([x for x in range(len(importance))], importance)\n",
    "plt.show()"
   ],
   "metadata": {
    "collapsed": false
   }
  },
  {
   "cell_type": "markdown",
   "source": [
    "### DATASET BILANCIATO\n",
    "\n",
    "#### GAUSSIAN NAIVE BAYES"
   ],
   "metadata": {
    "collapsed": false
   }
  },
  {
   "cell_type": "code",
   "execution_count": 29,
   "outputs": [
    {
     "name": "stdout",
     "output_type": "stream",
     "text": [
      "INIZIO ADDESTRAMENTO BAYESIAN NETWORK\n",
      "L'addestramento della bayesian network ha impiegato 5.910062789916992 secondi\n",
      "SALVATAGGIO MODELLO IN ../exported_model/gnd_balance.pkl\n"
     ]
    }
   ],
   "source": [
    "try:\n",
    "    with open(f\"{EXPORTED_MODEL}/gnb_balance.pkl\", 'rb') as file:\n",
    "        print(\"CARICAMENTO MODELLO DA ../exported_model/gnb_balance.pkl\")\n",
    "\n",
    "        gnb_balance_model = pkl.load(file)\n",
    "except IOError:\n",
    "    gnb = GaussianNB()\n",
    "    start_time = time.time()\n",
    "\n",
    "    print(\"INIZIO ADDESTRAMENTO BAYESIAN NETWORK\")\n",
    "    gnb_balance_model = gnb.fit(X_train_balanced, y_train_balanced)\n",
    "\n",
    "    print(f\"L'addestramento della bayesian network ha impiegato {time.time() - start_time} secondi\")\n",
    "\n",
    "    print(\"SALVATAGGIO MODELLO IN ../exported_model/gnd_balance.pkl\")\n",
    "    with open(f\"{EXPORTED_MODEL}/gnb_balance.pkl\", 'wb') as file:\n",
    "        pkl.dump(gnb_balance_model, file)"
   ],
   "metadata": {
    "collapsed": false
   }
  },
  {
   "cell_type": "markdown",
   "source": [
    "##### VALUTAZIONE MODELLO"
   ],
   "metadata": {
    "collapsed": false
   }
  },
  {
   "cell_type": "code",
   "execution_count": 31,
   "outputs": [
    {
     "name": "stdout",
     "output_type": "stream",
     "text": [
      "Precision in training phase: 0.5112647230095729\n",
      "Precision in testing phase(unbalance): 0.07740278216882707\n",
      "Precision in testing phase(balance): 0.51143284069363\n"
     ]
    }
   ],
   "source": [
    "print(f\"Precision in training phase: {gnb_balance_model.score(X_train_balanced, y_train_balanced)}\")\n",
    "print(f\"Precision in testing phase(unbalance): {gnb_model.score(X_test, y_test)}\")\n",
    "print(f\"Precision in testing phase(balance): {gnb_balance_model.score(X_test_balanced, y_test_balanced)}\")"
   ],
   "metadata": {
    "collapsed": false
   }
  },
  {
   "cell_type": "markdown",
   "source": [
    "##### FEATURES IMPORTANCE/DIMENSIONAL REDUCTION"
   ],
   "metadata": {
    "collapsed": false
   }
  },
  {
   "cell_type": "code",
   "execution_count": 33,
   "outputs": [],
   "source": [
    "importance = permutation_importance(gnb_balance_model, X_train_balanced, y_train_balanced)"
   ],
   "metadata": {
    "collapsed": false
   }
  },
  {
   "cell_type": "code",
   "execution_count": 34,
   "outputs": [
    {
     "name": "stdout",
     "output_type": "stream",
     "text": [
      "Feature: 0, Score: 0.00000\n",
      "Feature: 1, Score: 0.00000\n",
      "Feature: 2, Score: 0.00000\n",
      "Feature: 3, Score: 0.00000\n",
      "Feature: 4, Score: 0.00000\n",
      "Feature: 5, Score: 0.00000\n",
      "Feature: 6, Score: 0.00000\n",
      "Feature: 7, Score: 0.00000\n",
      "Feature: 8, Score: 0.00000\n",
      "Feature: 9, Score: 0.00000\n",
      "Feature: 10, Score: 0.00000\n",
      "Feature: 11, Score: 0.00000\n",
      "Feature: 12, Score: 0.00000\n",
      "Feature: 13, Score: 0.00000\n",
      "Feature: 14, Score: 0.00000\n",
      "Feature: 15, Score: 0.00000\n",
      "Feature: 16, Score: 0.00000\n",
      "Feature: 17, Score: 0.00000\n",
      "Feature: 18, Score: 0.00000\n",
      "Feature: 19, Score: 0.00000\n",
      "Feature: 20, Score: 0.00000\n",
      "Feature: 21, Score: 0.00002\n",
      "Feature: 22, Score: 0.00134\n",
      "Feature: 23, Score: 0.00000\n",
      "Feature: 24, Score: 0.00000\n",
      "Feature: 25, Score: 0.00000\n",
      "Feature: 26, Score: 0.00001\n",
      "Feature: 27, Score: 0.00023\n",
      "Feature: 28, Score: 0.00000\n",
      "Feature: 29, Score: 0.00000\n",
      "Feature: 30, Score: 0.00000\n",
      "Feature: 31, Score: 0.00003\n",
      "Feature: 32, Score: 0.00006\n",
      "Feature: 33, Score: 0.00000\n",
      "Feature: 34, Score: 0.00000\n",
      "Feature: 35, Score: 0.00000\n",
      "Feature: 36, Score: 0.00000\n",
      "Feature: 37, Score: 0.00000\n",
      "Feature: 38, Score: 0.00000\n",
      "Feature: 39, Score: 0.00000\n",
      "Feature: 40, Score: 0.00000\n",
      "Feature: 41, Score: 0.00000\n",
      "Feature: 42, Score: 0.00000\n",
      "Feature: 43, Score: 0.00000\n",
      "Feature: 44, Score: 0.00000\n",
      "Feature: 45, Score: 0.00000\n",
      "Feature: 46, Score: 0.00000\n",
      "Feature: 47, Score: 0.00000\n",
      "Feature: 48, Score: 0.00000\n",
      "Feature: 49, Score: 0.00000\n",
      "Feature: 50, Score: 0.00000\n",
      "Feature: 51, Score: 0.00000\n",
      "Feature: 52, Score: 0.00000\n",
      "Feature: 53, Score: 0.00000\n",
      "Feature: 54, Score: 0.00000\n",
      "Feature: 55, Score: 0.00000\n",
      "Feature: 56, Score: 0.00000\n",
      "Feature: 57, Score: 0.00000\n",
      "Feature: 58, Score: 0.00000\n",
      "Feature: 59, Score: 0.00000\n",
      "Feature: 60, Score: 0.00000\n",
      "Feature: 61, Score: 0.00000\n",
      "Feature: 62, Score: 0.00000\n",
      "Feature: 63, Score: 0.00000\n",
      "Feature: 64, Score: 0.00000\n",
      "Feature: 65, Score: 0.00000\n",
      "Feature: 66, Score: 0.00000\n",
      "Feature: 67, Score: 0.00000\n",
      "Feature: 68, Score: 0.00000\n",
      "Feature: 69, Score: 0.00000\n",
      "Feature: 70, Score: 0.00000\n",
      "Feature: 71, Score: 0.00000\n",
      "Feature: 72, Score: 0.00000\n",
      "Feature: 73, Score: 0.00000\n",
      "Feature: 74, Score: 0.00000\n",
      "Feature: 75, Score: 0.00000\n",
      "Feature: 76, Score: 0.00002\n",
      "Feature: 77, Score: 0.00000\n",
      "Feature: 78, Score: 0.00000\n",
      "Feature: 79, Score: 0.00384\n",
      "Feature: 80, Score: 0.00015\n",
      "Feature: 81, Score: 0.00000\n",
      "Feature: 82, Score: 0.00000\n"
     ]
    },
    {
     "data": {
      "text/plain": "<Figure size 432x288 with 1 Axes>",
      "image/png": "[encoded data removed]"
     },
     "metadata": {
      "needs_background": "light"
     },
     "output_type": "display_data"
    }
   ],
   "source": [
    "importance = importance['importances_mean']\n",
    "\n",
    "for i,v in enumerate(importance):\n",
    "    print('Feature: %0d, Score: %.5f' % (i, v))\n",
    "\n",
    "#plot feature importance\n",
    "plt.bar([x for x in range(len(importance))], importance)\n",
    "plt.show()"
   ],
   "metadata": {
    "collapsed": false
   }
  },
  {
   "cell_type": "markdown",
   "source": [
    "#### BERNOULLI NAIVE BAYES"
   ],
   "metadata": {
    "collapsed": false
   }
  },
  {
   "cell_type": "code",
   "execution_count": 35,
   "outputs": [
    {
     "name": "stdout",
     "output_type": "stream",
     "text": [
      "INIZIO ADDESTRAMENTO BAYESIAN NETWORK\n",
      "L'addestramento della bayesian network ha impiegato 3.0971438884735107 secondi\n",
      "SALVATAGGIO MODELLO IN ../exported_model/bnd_balance.pkl\n"
     ]
    }
   ],
   "source": [
    "try:\n",
    "    with open(f\"{EXPORTED_MODEL}/bnb_balance.pkl\", 'rb') as file:\n",
    "        print(\"CARICAMENTO MODELLO DA ../exported_model/bnb_balance.pkl\")\n",
    "\n",
    "        bnb_balance_model = pkl.load(file)\n",
    "except IOError:\n",
    "    bnb = BernoulliNB()\n",
    "    start_time = time.time()\n",
    "\n",
    "    print(\"INIZIO ADDESTRAMENTO BAYESIAN NETWORK\")\n",
    "    bnb_balance_model = bnb.fit(X_train_balanced, y_train_balanced)\n",
    "\n",
    "    print(f\"L'addestramento della bayesian network ha impiegato {time.time() - start_time} secondi\")\n",
    "\n",
    "    print(\"SALVATAGGIO MODELLO IN ../exported_model/bnd_balance.pkl\")\n",
    "    with open(f\"{EXPORTED_MODEL}/bnb_balance.pkl\", 'wb') as file:\n",
    "        pkl.dump(bnb_balance_model, file)"
   ],
   "metadata": {
    "collapsed": false
   }
  },
  {
   "cell_type": "markdown",
   "source": [
    "##### VALUTAZIONE MODELLO"
   ],
   "metadata": {
    "collapsed": false
   }
  },
  {
   "cell_type": "code",
   "execution_count": 36,
   "outputs": [
    {
     "name": "stdout",
     "output_type": "stream",
     "text": [
      "Precision in training phase: 0.9320837113065356\n",
      "Precision in testing phase(unbalance): 0.965973759089472\n",
      "Precision in testing phase(balance): 0.9334109753596437\n"
     ]
    }
   ],
   "source": [
    "print(f\"Precision in training phase: {bnb_balance_model.score(X_train_balanced, y_train_balanced)}\")\n",
    "print(f\"Precision in testing phase(unbalance): {bnb_model.score(X_test, y_test)}\")\n",
    "print(f\"Precision in testing phase(balance): {bnb_balance_model.score(X_test_balanced, y_test_balanced)}\")"
   ],
   "metadata": {
    "collapsed": false
   }
  },
  {
   "cell_type": "markdown",
   "source": [
    "##### FEATURES IMPORTANCE/DIMENSIONAL REDUCTION"
   ],
   "metadata": {
    "collapsed": false
   }
  },
  {
   "cell_type": "code",
   "execution_count": 37,
   "outputs": [],
   "source": [
    "importance = permutation_importance(bnb_balance_model, X_train_balanced, y_train_balanced)"
   ],
   "metadata": {
    "collapsed": false
   }
  },
  {
   "cell_type": "code",
   "execution_count": 38,
   "outputs": [
    {
     "name": "stdout",
     "output_type": "stream",
     "text": [
      "Feature: 0, Score: -0.00000\n",
      "Feature: 1, Score: -0.00000\n",
      "Feature: 2, Score: 0.00000\n",
      "Feature: 3, Score: -0.00000\n",
      "Feature: 4, Score: -0.00000\n",
      "Feature: 5, Score: 0.00000\n",
      "Feature: 6, Score: 0.00005\n",
      "Feature: 7, Score: 0.00000\n",
      "Feature: 8, Score: -0.00336\n",
      "Feature: 9, Score: 0.00001\n",
      "Feature: 10, Score: -0.00340\n",
      "Feature: 11, Score: 0.00001\n",
      "Feature: 12, Score: 0.00005\n",
      "Feature: 13, Score: 0.00001\n",
      "Feature: 14, Score: -0.00124\n",
      "Feature: 15, Score: -0.00340\n",
      "Feature: 16, Score: -0.00319\n",
      "Feature: 17, Score: -0.00340\n",
      "Feature: 18, Score: 0.00005\n",
      "Feature: 19, Score: -0.00136\n",
      "Feature: 20, Score: 0.00005\n",
      "Feature: 21, Score: -0.00148\n",
      "Feature: 22, Score: -0.00059\n",
      "Feature: 23, Score: -0.00148\n",
      "Feature: 24, Score: -0.00061\n",
      "Feature: 25, Score: -0.00072\n",
      "Feature: 26, Score: -0.00072\n",
      "Feature: 27, Score: 0.00019\n",
      "Feature: 28, Score: -0.00072\n",
      "Feature: 29, Score: -0.00078\n",
      "Feature: 30, Score: 0.00026\n",
      "Feature: 31, Score: 0.00026\n",
      "Feature: 32, Score: 0.00037\n",
      "Feature: 33, Score: 0.00026\n",
      "Feature: 34, Score: -0.00160\n",
      "Feature: 35, Score: 0.00001\n",
      "Feature: 36, Score: 0.00000\n",
      "Feature: 37, Score: 0.00000\n",
      "Feature: 38, Score: 0.00000\n",
      "Feature: 39, Score: 0.00000\n",
      "Feature: 40, Score: -0.00348\n",
      "Feature: 41, Score: 0.00005\n",
      "Feature: 42, Score: -0.00352\n",
      "Feature: 43, Score: 0.00006\n",
      "Feature: 44, Score: 0.00001\n",
      "Feature: 45, Score: 0.00001\n",
      "Feature: 46, Score: -0.00631\n",
      "Feature: 47, Score: -0.00631\n",
      "Feature: 48, Score: 0.00077\n",
      "Feature: 49, Score: 0.00001\n",
      "Feature: 50, Score: -0.00000\n",
      "Feature: 51, Score: 0.00003\n",
      "Feature: 52, Score: 0.00097\n",
      "Feature: 53, Score: 0.00012\n",
      "Feature: 54, Score: 0.00000\n",
      "Feature: 55, Score: -0.00000\n",
      "Feature: 56, Score: -0.00329\n",
      "Feature: 57, Score: 0.00001\n",
      "Feature: 58, Score: 0.00001\n",
      "Feature: 59, Score: -0.00340\n",
      "Feature: 60, Score: 0.00000\n",
      "Feature: 61, Score: 0.00000\n",
      "Feature: 62, Score: 0.00000\n",
      "Feature: 63, Score: 0.00000\n",
      "Feature: 64, Score: 0.00001\n",
      "Feature: 65, Score: 0.00001\n",
      "Feature: 66, Score: 0.00001\n",
      "Feature: 67, Score: 0.00000\n",
      "Feature: 68, Score: 0.00001\n",
      "Feature: 69, Score: -0.00336\n",
      "Feature: 70, Score: -0.00338\n",
      "Feature: 71, Score: 0.00113\n",
      "Feature: 72, Score: 0.00006\n",
      "Feature: 73, Score: 0.00010\n",
      "Feature: 74, Score: 0.00000\n",
      "Feature: 75, Score: -0.00004\n",
      "Feature: 76, Score: -0.00004\n",
      "Feature: 77, Score: -0.00004\n",
      "Feature: 78, Score: -0.00004\n",
      "Feature: 79, Score: 0.00005\n",
      "Feature: 80, Score: 0.00008\n",
      "Feature: 81, Score: 0.00005\n",
      "Feature: 82, Score: 0.00005\n"
     ]
    },
    {
     "data": {
      "text/plain": "<Figure size 432x288 with 1 Axes>",
      "image/png": "[encoded data removed]"
     },
     "metadata": {
      "needs_background": "light"
     },
     "output_type": "display_data"
    }
   ],
   "source": [
    "importance = importance['importances_mean']\n",
    "\n",
    "for i,v in enumerate(importance):\n",
    "    print('Feature: %0d, Score: %.5f' % (i, v))\n",
    "\n",
    "#plot feature importance\n",
    "plt.bar([x for x in range(len(importance))], importance)\n",
    "plt.show()"
   ],
   "metadata": {
    "collapsed": false
   }
  },
  {
   "cell_type": "markdown",
   "source": [
    "## K NEAREST NEIGHBORS\n",
    "\n",
    "### DATASET SBILANCIATO"
   ],
   "metadata": {
    "collapsed": false
   }
  },
  {
   "cell_type": "code",
   "execution_count": 44,
   "outputs": [
    {
     "name": "stdout",
     "output_type": "stream",
     "text": [
      "INIZIO ADDESTRAMENTO K NEAREST NEIGHBOR\n",
      "L'addestramento de k nearest neighbors ha impiegato 1.419274091720581 secondi\n",
      "SALVATAGGIO MODELLO IN ../exported_model/knn_unbalance.pkl\n"
     ]
    }
   ],
   "source": [
    "try:\n",
    "    with open(f\"{EXPORTED_MODEL}/knn_unbalance.pkl\", 'rb') as file:\n",
    "        print(\"CARICAMENTO MODELLO DA ../exported_model/knn_unbalance.pkl\")\n",
    "\n",
    "        knn_model = pkl.load(file)\n",
    "except IOError:\n",
    "    knn = KNeighborsClassifier()\n",
    "    start_time = time.time()\n",
    "\n",
    "    print(\"INIZIO ADDESTRAMENTO K NEAREST NEIGHBOR\")\n",
    "    knn_model = knn.fit(X_train, y_train)\n",
    "\n",
    "    print(f\"L'addestramento de k nearest neighbors ha impiegato {time.time() - start_time} secondi\")\n",
    "\n",
    "    print(\"SALVATAGGIO MODELLO IN ../exported_model/knn_unbalance.pkl\")\n",
    "    with open(f\"{EXPORTED_MODEL}/knn_unbalance.pkl\", 'wb') as file:\n",
    "        pkl.dump(knn_model, file)"
   ],
   "metadata": {
    "collapsed": false
   }
  },
  {
   "cell_type": "markdown",
   "source": [
    "#### VALUTAZIONE MODELLO"
   ],
   "metadata": {
    "collapsed": false
   }
  },
  {
   "cell_type": "code",
   "execution_count": 45,
   "outputs": [
    {
     "name": "stdout",
     "output_type": "stream",
     "text": [
      "Precision in training phase: 0.996160399440404\n",
      "Precision in testing phase: 0.9944593740120139\n"
     ]
    }
   ],
   "source": [
    "print(f\"Precision in training phase: {knn_model.score(X_train, y_train)}\")\n",
    "print(f\"Precision in testing phase: {knn_model.score(X_test, y_test)}\")"
   ],
   "metadata": {
    "collapsed": false
   }
  },
  {
   "cell_type": "markdown",
   "source": [
    "#### FEATURES IMPORTANCE/DIMENSIONAL REDUCTION"
   ],
   "metadata": {
    "collapsed": false
   }
  },
  {
   "cell_type": "code",
   "execution_count": null,
   "outputs": [],
   "source": [
    "importance = permutation_importance(knn_model, X_train, y_train)"
   ],
   "metadata": {
    "collapsed": false,
    "pycharm": {
     "is_executing": true
    }
   }
  },
  {
   "cell_type": "code",
   "execution_count": null,
   "outputs": [],
   "source": [
    "importance = importance['importances_mean']\n",
    "\n",
    "for i,v in enumerate(importance):\n",
    "    print('Feature: %0d, Score: %.5f' % (i, v))\n",
    "\n",
    "#plot feature importance\n",
    "plt.bar([x for x in range(len(importance))], importance)\n",
    "plt.show()"
   ],
   "metadata": {
    "collapsed": false
   }
  },
  {
   "cell_type": "markdown",
   "source": [
    "### DATASET BILANCIATO"
   ],
   "metadata": {
    "collapsed": false
   }
  },
  {
   "cell_type": "code",
   "execution_count": 9,
   "outputs": [
    {
     "name": "stdout",
     "output_type": "stream",
     "text": [
      "INIZIO ADDESTRAMENTO K NEAREST NEIGHBORS\n",
      "L'addestramento de k nearest neighbors ha impiegato 2.1897809505462646 secondi\n",
      "SALVATAGGIO MODELLO IN ../exported_model/knn_balance.pkl\n"
     ]
    }
   ],
   "source": [
    "try:\n",
    "    with open(f\"{EXPORTED_MODEL}/knn_balance.pkl\", 'rb') as file:\n",
    "        print(\"CARICAMENTO MODELLO DA ../exported_model/knn_balance.pkl\")\n",
    "\n",
    "        knn_balance_model = pkl.load(file)\n",
    "except IOError:\n",
    "    knn = KNeighborsClassifier()\n",
    "    start_time = time.time()\n",
    "\n",
    "    print(\"INIZIO ADDESTRAMENTO K NEAREST NEIGHBORS\")\n",
    "    knn_balance_model = knn.fit(X_train, y_train)\n",
    "\n",
    "    print(f\"L'addestramento de k nearest neighbors ha impiegato {time.time() - start_time} secondi\")\n",
    "\n",
    "    print(\"SALVATAGGIO MODELLO IN ../exported_model/knn_balance.pkl\")\n",
    "    with open(f\"{EXPORTED_MODEL}/knn_balance.pkl\", 'wb') as file:\n",
    "        pkl.dump(knn_balance_model, file)"
   ],
   "metadata": {
    "collapsed": false
   }
  },
  {
   "cell_type": "markdown",
   "source": [
    "#### VALUTAZIONE MODELLO"
   ],
   "metadata": {
    "collapsed": false
   }
  },
  {
   "cell_type": "code",
   "execution_count": 10,
   "outputs": [
    {
     "name": "stdout",
     "output_type": "stream",
     "text": [
      "Precision in training phase: 0.9960039798709682\n",
      "Precision in testing phase(balance): 0.9859615006217005\n"
     ]
    }
   ],
   "source": [
    "print(f\"Precision in training phase: {knn_balance_model.score(X_train_balanced, y_train_balanced)}\")\n",
    "print(f\"Precision in testing phase(unbalance): {knn_model.score(X_test, y_test)}\")\n",
    "print(f\"Precision in testing phase(balance): {knn_balance_model.score(X_test_balanced, y_test_balanced)}\")"
   ],
   "metadata": {
    "collapsed": false
   }
  },
  {
   "cell_type": "markdown",
   "source": [
    "#### FEATURES IMPORTANCE/DIMENSIONAL REDUCTION"
   ],
   "metadata": {
    "collapsed": false
   }
  },
  {
   "cell_type": "code",
   "execution_count": null,
   "outputs": [],
   "source": [
    "importance = permutation_importance(knn_balance_model, X_train, y_train)"
   ],
   "metadata": {
    "collapsed": false
   }
  },
  {
   "cell_type": "code",
   "execution_count": null,
   "outputs": [],
   "source": [
    "importance = importance['importances_mean']\n",
    "\n",
    "for i,v in enumerate(importance):\n",
    "    print('Feature: %0d, Score: %.5f' % (i, v))\n",
    "\n",
    "#plot feature importance\n",
    "plt.bar([x for x in range(len(importance))], importance)\n",
    "plt.show()"
   ],
   "metadata": {
    "collapsed": false
   }
  },
  {
   "cell_type": "markdown",
   "source": [
    "## NEURAL TREE\n",
    "\n",
    "### DATASET SBILANCIATO"
   ],
   "metadata": {
    "collapsed": false
   }
  },
  {
   "cell_type": "code",
   "execution_count": 5,
   "outputs": [
    {
     "name": "stdout",
     "output_type": "stream",
     "text": [
      "INIZIO ADDESTRAMENTO NEURAL TREE\n",
      "Epoch 1/250\n",
      "36902/36902 [==============================] - 13s 345us/step - loss: 14.1833 - accuracy: 0.0697\n",
      "Epoch 2/250\n",
      "36902/36902 [==============================] - 13s 346us/step - loss: 14.1834 - accuracy: 0.0697\n",
      "Epoch 3/250\n",
      "36902/36902 [==============================] - 13s 344us/step - loss: 14.1834 - accuracy: 0.0697\n",
      "Epoch 4/250\n",
      "36902/36902 [==============================] - 13s 342us/step - loss: 14.1834 - accuracy: 0.0697\n",
      "Epoch 5/250\n",
      "36902/36902 [==============================] - 13s 341us/step - loss: 14.1835 - accuracy: 0.0697\n",
      "Epoch 6/250\n",
      "36902/36902 [==============================] - 13s 342us/step - loss: 14.1834 - accuracy: 0.0697\n",
      "Epoch 6: early stopping\n",
      "1/1 [==============================] - 0s 166ms/step\n",
      "E_0 = 0.9302562895265453\n",
      "1/1 [==============================] - 0s 179ms/step\n",
      "E_t = 0.9302562895265453\n",
      "E_max - E_min = 0.9856419532757827\n",
      "1/1 [==============================] - 0s 99ms/step\n",
      "lts1: (array([0., 1.]), array([1098495,   66355]))\n",
      "lts0: (array([0.]), array([16002]))\n",
      "Epoch 1/250\n",
      "36402/36402 [==============================] - 13s 344us/step - loss: 0.9927 - accuracy: 0.9356\n",
      "Epoch 2/250\n",
      " 7720/36402 [=====>........................] - ETA: 9s - loss: 0.9995 - accuracy: 0.9351"
     ]
    },
    {
     "ename": "KeyboardInterrupt",
     "evalue": "",
     "output_type": "error",
     "traceback": [
      "\u001B[0;31m---------------------------------------------------------------------------\u001B[0m",
      "\u001B[0;31mFileNotFoundError\u001B[0m                         Traceback (most recent call last)",
      "Input \u001B[0;32mIn [5]\u001B[0m, in \u001B[0;36m<cell line: 1>\u001B[0;34m()\u001B[0m\n\u001B[1;32m      1\u001B[0m \u001B[38;5;28;01mtry\u001B[39;00m:\n\u001B[0;32m----> 2\u001B[0m     \u001B[38;5;28;01mwith\u001B[39;00m \u001B[38;5;28;43mopen\u001B[39;49m\u001B[43m(\u001B[49m\u001B[38;5;124;43mf\u001B[39;49m\u001B[38;5;124;43m\"\u001B[39;49m\u001B[38;5;132;43;01m{\u001B[39;49;00m\u001B[43mEXPORTED_MODEL\u001B[49m\u001B[38;5;132;43;01m}\u001B[39;49;00m\u001B[38;5;124;43m/nt_unbalance.pkl\u001B[39;49m\u001B[38;5;124;43m\"\u001B[39;49m\u001B[43m,\u001B[49m\u001B[43m \u001B[49m\u001B[38;5;124;43m'\u001B[39;49m\u001B[38;5;124;43mrb\u001B[39;49m\u001B[38;5;124;43m'\u001B[39;49m\u001B[43m)\u001B[49m \u001B[38;5;28;01mas\u001B[39;00m file:\n\u001B[1;32m      3\u001B[0m         \u001B[38;5;28mprint\u001B[39m(\u001B[38;5;124m\"\u001B[39m\u001B[38;5;124mCARICAMENTO MODELLO DA ../exported_model/nt_unbalance.pkl\u001B[39m\u001B[38;5;124m\"\u001B[39m)\n",
      "\u001B[0;31mFileNotFoundError\u001B[0m: [Errno 2] No such file or directory: '../exported_model/nt_unbalance.pkl'",
      "\nDuring handling of the above exception, another exception occurred:\n",
      "\u001B[0;31mKeyboardInterrupt\u001B[0m                         Traceback (most recent call last)",
      "Input \u001B[0;32mIn [5]\u001B[0m, in \u001B[0;36m<cell line: 1>\u001B[0;34m()\u001B[0m\n\u001B[1;32m      8\u001B[0m start_time \u001B[38;5;241m=\u001B[39m time\u001B[38;5;241m.\u001B[39mtime()\n\u001B[1;32m     10\u001B[0m \u001B[38;5;28mprint\u001B[39m(\u001B[38;5;124m\"\u001B[39m\u001B[38;5;124mINIZIO ADDESTRAMENTO NEURAL TREE\u001B[39m\u001B[38;5;124m\"\u001B[39m)\n\u001B[0;32m---> 11\u001B[0m \u001B[43mnt\u001B[49m\u001B[38;5;241;43m.\u001B[39;49m\u001B[43mtrain\u001B[49m\u001B[43m(\u001B[49m\u001B[38;5;241;43m250\u001B[39;49m\u001B[43m,\u001B[49m\u001B[43m \u001B[49m\u001B[38;5;241;43m1\u001B[39;49m\u001B[43m)\u001B[49m\u001B[38;5;66;03m#fit(X_train_balanced, y_train_balanced)\u001B[39;00m\n\u001B[1;32m     13\u001B[0m \u001B[38;5;28mprint\u001B[39m(\u001B[38;5;124mf\u001B[39m\u001B[38;5;124m\"\u001B[39m\u001B[38;5;124mL\u001B[39m\u001B[38;5;124m'\u001B[39m\u001B[38;5;124maddestramento della bayesian network ha impiegato \u001B[39m\u001B[38;5;132;01m{\u001B[39;00mtime\u001B[38;5;241m.\u001B[39mtime() \u001B[38;5;241m-\u001B[39m start_time\u001B[38;5;132;01m}\u001B[39;00m\u001B[38;5;124m secondi\u001B[39m\u001B[38;5;124m\"\u001B[39m)\n\u001B[1;32m     15\u001B[0m \u001B[38;5;28mprint\u001B[39m(\u001B[38;5;124m\"\u001B[39m\u001B[38;5;124mSALVATAGGIO MODELLO IN ../exported_model/nt_unbalance.pkl\u001B[39m\u001B[38;5;124m\"\u001B[39m)\n",
      "File \u001B[0;32m~/PycharmProjects/ransomwareNetworkTrafficDetection/src/model/NeuralTree.py:38\u001B[0m, in \u001B[0;36mNeuralTree.train\u001B[0;34m(self, epochs, verbose)\u001B[0m\n\u001B[1;32m     37\u001B[0m \u001B[38;5;28;01mdef\u001B[39;00m \u001B[38;5;21mtrain\u001B[39m(\u001B[38;5;28mself\u001B[39m, epochs: \u001B[38;5;28mint\u001B[39m, verbose: \u001B[38;5;28mint\u001B[39m \u001B[38;5;241m=\u001B[39m \u001B[38;5;241m0\u001B[39m) \u001B[38;5;241m-\u001B[39m\u001B[38;5;241m>\u001B[39m \u001B[38;5;28;01mNone\u001B[39;00m:\n\u001B[0;32m---> 38\u001B[0m         \u001B[38;5;28;43mself\u001B[39;49m\u001B[38;5;241;43m.\u001B[39;49m\u001B[43m__root\u001B[49m\u001B[38;5;241;43m.\u001B[39;49m\u001B[43mtrain\u001B[49m\u001B[43m(\u001B[49m\u001B[43mepochs\u001B[49m\u001B[43m,\u001B[49m\u001B[43m \u001B[49m\u001B[38;5;28;43mself\u001B[39;49m\u001B[38;5;241;43m.\u001B[39;49m\u001B[43m__wait_epochs\u001B[49m\u001B[43m,\u001B[49m\u001B[43m \u001B[49m\u001B[43mverbose\u001B[49m\u001B[38;5;241;43m=\u001B[39;49m\u001B[43mverbose\u001B[49m\u001B[43m)\u001B[49m\n",
      "File \u001B[0;32m~/PycharmProjects/ransomwareNetworkTrafficDetection/src/model/Node.py:134\u001B[0m, in \u001B[0;36mNode.train\u001B[0;34m(self, epochs, wait_epochs, verbose)\u001B[0m\n\u001B[1;32m    131\u001B[0m \u001B[38;5;28mself\u001B[39m\u001B[38;5;241m.\u001B[39m__left \u001B[38;5;241m=\u001B[39m Node(lts1, \u001B[38;5;28mself\u001B[39m\u001B[38;5;241m.\u001B[39m__num_features)\n\u001B[1;32m    132\u001B[0m \u001B[38;5;28mself\u001B[39m\u001B[38;5;241m.\u001B[39m__right \u001B[38;5;241m=\u001B[39m Node(lts0, \u001B[38;5;28mself\u001B[39m\u001B[38;5;241m.\u001B[39m__num_features)\n\u001B[0;32m--> 134\u001B[0m \u001B[38;5;28;43mself\u001B[39;49m\u001B[38;5;241;43m.\u001B[39;49m\u001B[43m__left\u001B[49m\u001B[38;5;241;43m.\u001B[39;49m\u001B[43mtrain\u001B[49m\u001B[43m(\u001B[49m\u001B[43mepochs\u001B[49m\u001B[43m,\u001B[49m\u001B[43m \u001B[49m\u001B[43mwait_epochs\u001B[49m\u001B[43m,\u001B[49m\u001B[43m \u001B[49m\u001B[43mverbose\u001B[49m\u001B[38;5;241;43m=\u001B[39;49m\u001B[43mverbose\u001B[49m\u001B[43m)\u001B[49m\n\u001B[1;32m    135\u001B[0m \u001B[38;5;28mself\u001B[39m\u001B[38;5;241m.\u001B[39m__right\u001B[38;5;241m.\u001B[39mtrain(epochs, wait_epochs, verbose\u001B[38;5;241m=\u001B[39mverbose)\n\u001B[1;32m    137\u001B[0m \u001B[38;5;28mprint\u001B[39m(\u001B[38;5;124mf\u001B[39m\u001B[38;5;124m\"\u001B[39m\u001B[38;5;124mEND TRAINING Node \u001B[39m\u001B[38;5;132;01m{\u001B[39;00m\u001B[38;5;28mself\u001B[39m\u001B[38;5;241m.\u001B[39m__id\u001B[38;5;132;01m}\u001B[39;00m\u001B[38;5;124m\"\u001B[39m)\n",
      "File \u001B[0;32m~/PycharmProjects/ransomwareNetworkTrafficDetection/src/model/Node.py:111\u001B[0m, in \u001B[0;36mNode.train\u001B[0;34m(self, epochs, wait_epochs, verbose)\u001B[0m\n\u001B[1;32m    108\u001B[0m data \u001B[38;5;241m=\u001B[39m \u001B[38;5;28mself\u001B[39m\u001B[38;5;241m.\u001B[39m__patterns[:, \u001B[38;5;241m0\u001B[39m : \u001B[38;5;28mself\u001B[39m\u001B[38;5;241m.\u001B[39m__num_features]  \u001B[38;5;66;03m# patterns dataset\u001B[39;00m\n\u001B[1;32m    109\u001B[0m target \u001B[38;5;241m=\u001B[39m \u001B[38;5;28mself\u001B[39m\u001B[38;5;241m.\u001B[39m__patterns[:, \u001B[38;5;28mself\u001B[39m\u001B[38;5;241m.\u001B[39m__num_features]  \u001B[38;5;66;03m# labels dataset\u001B[39;00m\n\u001B[0;32m--> 111\u001B[0m \u001B[38;5;28;43mself\u001B[39;49m\u001B[38;5;241;43m.\u001B[39;49m\u001B[43m__nn\u001B[49m\u001B[38;5;241;43m.\u001B[39;49m\u001B[43mfit\u001B[49m\u001B[43m(\u001B[49m\u001B[43mdata\u001B[49m\u001B[43m,\u001B[49m\u001B[43m \u001B[49m\u001B[43mtarget\u001B[49m\u001B[43m,\u001B[49m\u001B[43m \u001B[49m\u001B[43mepochs\u001B[49m\u001B[43m,\u001B[49m\u001B[43m \u001B[49m\u001B[43mwait_epochs\u001B[49m\u001B[43m,\u001B[49m\u001B[43m \u001B[49m\u001B[43mverbose\u001B[49m\u001B[38;5;241;43m=\u001B[39;49m\u001B[43mverbose\u001B[49m\u001B[43m)\u001B[49m\n\u001B[1;32m    113\u001B[0m \u001B[38;5;66;03m#DATASET SPLITTING\u001B[39;00m\n\u001B[1;32m    114\u001B[0m \u001B[38;5;66;03m#split based on perceptron substitutions\u001B[39;00m\n\u001B[1;32m    115\u001B[0m preds \u001B[38;5;241m=\u001B[39m \u001B[38;5;28mself\u001B[39m\u001B[38;5;241m.\u001B[39m__nn\u001B[38;5;241m.\u001B[39mpredict(data, verbose\u001B[38;5;241m=\u001B[39mverbose)\n",
      "File \u001B[0;32m~/PycharmProjects/ransomwareNetworkTrafficDetection/src/model/NeuralNetwork.py:53\u001B[0m, in \u001B[0;36mNeuralNetwork.fit\u001B[0;34m(self, X, y, epochs, wait_epochs, verbose)\u001B[0m\n\u001B[1;32m     48\u001B[0m callbacks \u001B[38;5;241m=\u001B[39m [EarlyStopping(monitor\u001B[38;5;241m=\u001B[39m\u001B[38;5;124m\"\u001B[39m\u001B[38;5;124mloss\u001B[39m\u001B[38;5;124m\"\u001B[39m, patience\u001B[38;5;241m=\u001B[39mwait_epochs, verbose\u001B[38;5;241m=\u001B[39m\u001B[38;5;241m1\u001B[39m)]\n\u001B[1;32m     49\u001B[0m \u001B[38;5;66;03m#callbacks = [EarlyStopping(monitor=\"val_loss\", patience=wait_epochs, verbose=1),\u001B[39;00m\n\u001B[1;32m     50\u001B[0m  \u001B[38;5;66;03m#            CSVLogger(\"log.csv\", separator=',', append=False)]\u001B[39;00m\n\u001B[1;32m     51\u001B[0m \n\u001B[1;32m     52\u001B[0m \u001B[38;5;66;03m#hystory = self.__model.fit(X, y, epochs=epochs, verbose=verbose, validation_split=0.1, callbacks=callbacks)\u001B[39;00m\n\u001B[0;32m---> 53\u001B[0m \u001B[38;5;28;43mself\u001B[39;49m\u001B[38;5;241;43m.\u001B[39;49m\u001B[43m__model\u001B[49m\u001B[38;5;241;43m.\u001B[39;49m\u001B[43mfit\u001B[49m\u001B[43m(\u001B[49m\u001B[43mX\u001B[49m\u001B[43m,\u001B[49m\u001B[43m \u001B[49m\u001B[43my\u001B[49m\u001B[43m,\u001B[49m\u001B[43m \u001B[49m\u001B[43mepochs\u001B[49m\u001B[38;5;241;43m=\u001B[39;49m\u001B[43mepochs\u001B[49m\u001B[43m,\u001B[49m\u001B[43m \u001B[49m\u001B[43mverbose\u001B[49m\u001B[38;5;241;43m=\u001B[39;49m\u001B[43mverbose\u001B[49m\u001B[43m,\u001B[49m\u001B[43m \u001B[49m\u001B[43mvalidation_split\u001B[49m\u001B[38;5;241;43m=\u001B[39;49m\u001B[38;5;241;43m0\u001B[39;49m\u001B[43m,\u001B[49m\u001B[43m \u001B[49m\u001B[43mcallbacks\u001B[49m\u001B[38;5;241;43m=\u001B[39;49m\u001B[43mcallbacks\u001B[49m\u001B[43m)\u001B[49m\n",
      "File \u001B[0;32m~/PycharmProjects/ransomwareNetworkTrafficDetection/venv/lib/python3.8/site-packages/keras/utils/traceback_utils.py:65\u001B[0m, in \u001B[0;36mfilter_traceback.<locals>.error_handler\u001B[0;34m(*args, **kwargs)\u001B[0m\n\u001B[1;32m     63\u001B[0m filtered_tb \u001B[38;5;241m=\u001B[39m \u001B[38;5;28;01mNone\u001B[39;00m\n\u001B[1;32m     64\u001B[0m \u001B[38;5;28;01mtry\u001B[39;00m:\n\u001B[0;32m---> 65\u001B[0m     \u001B[38;5;28;01mreturn\u001B[39;00m \u001B[43mfn\u001B[49m\u001B[43m(\u001B[49m\u001B[38;5;241;43m*\u001B[39;49m\u001B[43margs\u001B[49m\u001B[43m,\u001B[49m\u001B[43m \u001B[49m\u001B[38;5;241;43m*\u001B[39;49m\u001B[38;5;241;43m*\u001B[39;49m\u001B[43mkwargs\u001B[49m\u001B[43m)\u001B[49m\n\u001B[1;32m     66\u001B[0m \u001B[38;5;28;01mexcept\u001B[39;00m \u001B[38;5;167;01mException\u001B[39;00m \u001B[38;5;28;01mas\u001B[39;00m e:\n\u001B[1;32m     67\u001B[0m     filtered_tb \u001B[38;5;241m=\u001B[39m _process_traceback_frames(e\u001B[38;5;241m.\u001B[39m__traceback__)\n",
      "File \u001B[0;32m~/PycharmProjects/ransomwareNetworkTrafficDetection/venv/lib/python3.8/site-packages/keras/engine/training.py:1564\u001B[0m, in \u001B[0;36mModel.fit\u001B[0;34m(self, x, y, batch_size, epochs, verbose, callbacks, validation_split, validation_data, shuffle, class_weight, sample_weight, initial_epoch, steps_per_epoch, validation_steps, validation_batch_size, validation_freq, max_queue_size, workers, use_multiprocessing)\u001B[0m\n\u001B[1;32m   1556\u001B[0m \u001B[38;5;28;01mwith\u001B[39;00m tf\u001B[38;5;241m.\u001B[39mprofiler\u001B[38;5;241m.\u001B[39mexperimental\u001B[38;5;241m.\u001B[39mTrace(\n\u001B[1;32m   1557\u001B[0m     \u001B[38;5;124m\"\u001B[39m\u001B[38;5;124mtrain\u001B[39m\u001B[38;5;124m\"\u001B[39m,\n\u001B[1;32m   1558\u001B[0m     epoch_num\u001B[38;5;241m=\u001B[39mepoch,\n\u001B[0;32m   (...)\u001B[0m\n\u001B[1;32m   1561\u001B[0m     _r\u001B[38;5;241m=\u001B[39m\u001B[38;5;241m1\u001B[39m,\n\u001B[1;32m   1562\u001B[0m ):\n\u001B[1;32m   1563\u001B[0m     callbacks\u001B[38;5;241m.\u001B[39mon_train_batch_begin(step)\n\u001B[0;32m-> 1564\u001B[0m     tmp_logs \u001B[38;5;241m=\u001B[39m \u001B[38;5;28;43mself\u001B[39;49m\u001B[38;5;241;43m.\u001B[39;49m\u001B[43mtrain_function\u001B[49m\u001B[43m(\u001B[49m\u001B[43miterator\u001B[49m\u001B[43m)\u001B[49m\n\u001B[1;32m   1565\u001B[0m     \u001B[38;5;28;01mif\u001B[39;00m data_handler\u001B[38;5;241m.\u001B[39mshould_sync:\n\u001B[1;32m   1566\u001B[0m         context\u001B[38;5;241m.\u001B[39masync_wait()\n",
      "File \u001B[0;32m~/PycharmProjects/ransomwareNetworkTrafficDetection/venv/lib/python3.8/site-packages/tensorflow/python/util/traceback_utils.py:150\u001B[0m, in \u001B[0;36mfilter_traceback.<locals>.error_handler\u001B[0;34m(*args, **kwargs)\u001B[0m\n\u001B[1;32m    148\u001B[0m filtered_tb \u001B[38;5;241m=\u001B[39m \u001B[38;5;28;01mNone\u001B[39;00m\n\u001B[1;32m    149\u001B[0m \u001B[38;5;28;01mtry\u001B[39;00m:\n\u001B[0;32m--> 150\u001B[0m   \u001B[38;5;28;01mreturn\u001B[39;00m \u001B[43mfn\u001B[49m\u001B[43m(\u001B[49m\u001B[38;5;241;43m*\u001B[39;49m\u001B[43margs\u001B[49m\u001B[43m,\u001B[49m\u001B[43m \u001B[49m\u001B[38;5;241;43m*\u001B[39;49m\u001B[38;5;241;43m*\u001B[39;49m\u001B[43mkwargs\u001B[49m\u001B[43m)\u001B[49m\n\u001B[1;32m    151\u001B[0m \u001B[38;5;28;01mexcept\u001B[39;00m \u001B[38;5;167;01mException\u001B[39;00m \u001B[38;5;28;01mas\u001B[39;00m e:\n\u001B[1;32m    152\u001B[0m   filtered_tb \u001B[38;5;241m=\u001B[39m _process_traceback_frames(e\u001B[38;5;241m.\u001B[39m__traceback__)\n",
      "File \u001B[0;32m~/PycharmProjects/ransomwareNetworkTrafficDetection/venv/lib/python3.8/site-packages/tensorflow/python/eager/def_function.py:915\u001B[0m, in \u001B[0;36mFunction.__call__\u001B[0;34m(self, *args, **kwds)\u001B[0m\n\u001B[1;32m    912\u001B[0m compiler \u001B[38;5;241m=\u001B[39m \u001B[38;5;124m\"\u001B[39m\u001B[38;5;124mxla\u001B[39m\u001B[38;5;124m\"\u001B[39m \u001B[38;5;28;01mif\u001B[39;00m \u001B[38;5;28mself\u001B[39m\u001B[38;5;241m.\u001B[39m_jit_compile \u001B[38;5;28;01melse\u001B[39;00m \u001B[38;5;124m\"\u001B[39m\u001B[38;5;124mnonXla\u001B[39m\u001B[38;5;124m\"\u001B[39m\n\u001B[1;32m    914\u001B[0m \u001B[38;5;28;01mwith\u001B[39;00m OptionalXlaContext(\u001B[38;5;28mself\u001B[39m\u001B[38;5;241m.\u001B[39m_jit_compile):\n\u001B[0;32m--> 915\u001B[0m   result \u001B[38;5;241m=\u001B[39m \u001B[38;5;28;43mself\u001B[39;49m\u001B[38;5;241;43m.\u001B[39;49m\u001B[43m_call\u001B[49m\u001B[43m(\u001B[49m\u001B[38;5;241;43m*\u001B[39;49m\u001B[43margs\u001B[49m\u001B[43m,\u001B[49m\u001B[43m \u001B[49m\u001B[38;5;241;43m*\u001B[39;49m\u001B[38;5;241;43m*\u001B[39;49m\u001B[43mkwds\u001B[49m\u001B[43m)\u001B[49m\n\u001B[1;32m    917\u001B[0m new_tracing_count \u001B[38;5;241m=\u001B[39m \u001B[38;5;28mself\u001B[39m\u001B[38;5;241m.\u001B[39mexperimental_get_tracing_count()\n\u001B[1;32m    918\u001B[0m without_tracing \u001B[38;5;241m=\u001B[39m (tracing_count \u001B[38;5;241m==\u001B[39m new_tracing_count)\n",
      "File \u001B[0;32m~/PycharmProjects/ransomwareNetworkTrafficDetection/venv/lib/python3.8/site-packages/tensorflow/python/eager/def_function.py:947\u001B[0m, in \u001B[0;36mFunction._call\u001B[0;34m(self, *args, **kwds)\u001B[0m\n\u001B[1;32m    944\u001B[0m   \u001B[38;5;28mself\u001B[39m\u001B[38;5;241m.\u001B[39m_lock\u001B[38;5;241m.\u001B[39mrelease()\n\u001B[1;32m    945\u001B[0m   \u001B[38;5;66;03m# In this case we have created variables on the first call, so we run the\u001B[39;00m\n\u001B[1;32m    946\u001B[0m   \u001B[38;5;66;03m# defunned version which is guaranteed to never create variables.\u001B[39;00m\n\u001B[0;32m--> 947\u001B[0m   \u001B[38;5;28;01mreturn\u001B[39;00m \u001B[38;5;28;43mself\u001B[39;49m\u001B[38;5;241;43m.\u001B[39;49m\u001B[43m_stateless_fn\u001B[49m\u001B[43m(\u001B[49m\u001B[38;5;241;43m*\u001B[39;49m\u001B[43margs\u001B[49m\u001B[43m,\u001B[49m\u001B[43m \u001B[49m\u001B[38;5;241;43m*\u001B[39;49m\u001B[38;5;241;43m*\u001B[39;49m\u001B[43mkwds\u001B[49m\u001B[43m)\u001B[49m  \u001B[38;5;66;03m# pylint: disable=not-callable\u001B[39;00m\n\u001B[1;32m    948\u001B[0m \u001B[38;5;28;01melif\u001B[39;00m \u001B[38;5;28mself\u001B[39m\u001B[38;5;241m.\u001B[39m_stateful_fn \u001B[38;5;129;01mis\u001B[39;00m \u001B[38;5;129;01mnot\u001B[39;00m \u001B[38;5;28;01mNone\u001B[39;00m:\n\u001B[1;32m    949\u001B[0m   \u001B[38;5;66;03m# Release the lock early so that multiple threads can perform the call\u001B[39;00m\n\u001B[1;32m    950\u001B[0m   \u001B[38;5;66;03m# in parallel.\u001B[39;00m\n\u001B[1;32m    951\u001B[0m   \u001B[38;5;28mself\u001B[39m\u001B[38;5;241m.\u001B[39m_lock\u001B[38;5;241m.\u001B[39mrelease()\n",
      "File \u001B[0;32m~/PycharmProjects/ransomwareNetworkTrafficDetection/venv/lib/python3.8/site-packages/tensorflow/python/eager/function.py:2495\u001B[0m, in \u001B[0;36mFunction.__call__\u001B[0;34m(self, *args, **kwargs)\u001B[0m\n\u001B[1;32m   2492\u001B[0m \u001B[38;5;124;03m\"\"\"Calls a graph function specialized to the inputs.\"\"\"\u001B[39;00m\n\u001B[1;32m   2493\u001B[0m \u001B[38;5;28;01mwith\u001B[39;00m \u001B[38;5;28mself\u001B[39m\u001B[38;5;241m.\u001B[39m_lock:\n\u001B[1;32m   2494\u001B[0m   (graph_function,\n\u001B[0;32m-> 2495\u001B[0m    filtered_flat_args) \u001B[38;5;241m=\u001B[39m \u001B[38;5;28;43mself\u001B[39;49m\u001B[38;5;241;43m.\u001B[39;49m\u001B[43m_maybe_define_function\u001B[49m\u001B[43m(\u001B[49m\u001B[43margs\u001B[49m\u001B[43m,\u001B[49m\u001B[43m \u001B[49m\u001B[43mkwargs\u001B[49m\u001B[43m)\u001B[49m\n\u001B[1;32m   2496\u001B[0m \u001B[38;5;28;01mreturn\u001B[39;00m graph_function\u001B[38;5;241m.\u001B[39m_call_flat(\n\u001B[1;32m   2497\u001B[0m     filtered_flat_args, captured_inputs\u001B[38;5;241m=\u001B[39mgraph_function\u001B[38;5;241m.\u001B[39mcaptured_inputs)\n",
      "File \u001B[0;32m~/PycharmProjects/ransomwareNetworkTrafficDetection/venv/lib/python3.8/site-packages/tensorflow/python/eager/function.py:2738\u001B[0m, in \u001B[0;36mFunction._maybe_define_function\u001B[0;34m(self, args, kwargs)\u001B[0m\n\u001B[1;32m   2733\u001B[0m \u001B[38;5;28;01mexcept\u001B[39;00m \u001B[38;5;167;01mTypeError\u001B[39;00m \u001B[38;5;28;01mas\u001B[39;00m e:\n\u001B[1;32m   2734\u001B[0m   \u001B[38;5;28;01mraise\u001B[39;00m \u001B[38;5;167;01mTypeError\u001B[39;00m(\n\u001B[1;32m   2735\u001B[0m       \u001B[38;5;124m\"\u001B[39m\u001B[38;5;124mArguments supplied to `defun`-generated functions must be hashable.\u001B[39m\u001B[38;5;124m\"\u001B[39m\n\u001B[1;32m   2736\u001B[0m       ) \u001B[38;5;28;01mfrom\u001B[39;00m \u001B[38;5;21;01me\u001B[39;00m\n\u001B[0;32m-> 2738\u001B[0m graph_function \u001B[38;5;241m=\u001B[39m \u001B[38;5;28;43mself\u001B[39;49m\u001B[38;5;241;43m.\u001B[39;49m\u001B[43m_function_cache\u001B[49m\u001B[38;5;241;43m.\u001B[39;49m\u001B[43mlookup\u001B[49m\u001B[43m(\u001B[49m\u001B[43mfunc_cache_key\u001B[49m\u001B[43m,\u001B[49m\u001B[43m \u001B[49m\u001B[38;5;28;43;01mTrue\u001B[39;49;00m\u001B[43m)\u001B[49m\n\u001B[1;32m   2739\u001B[0m \u001B[38;5;28;01mif\u001B[39;00m graph_function \u001B[38;5;129;01mis\u001B[39;00m \u001B[38;5;129;01mnot\u001B[39;00m \u001B[38;5;28;01mNone\u001B[39;00m:\n\u001B[1;32m   2740\u001B[0m   \u001B[38;5;28;01mreturn\u001B[39;00m graph_function, filtered_flat_args\n",
      "File \u001B[0;32m~/PycharmProjects/ransomwareNetworkTrafficDetection/venv/lib/python3.8/site-packages/tensorflow/core/function/polymorphism/function_cache.py:224\u001B[0m, in \u001B[0;36mFunctionCache.lookup\u001B[0;34m(self, key, use_function_subtyping)\u001B[0m\n\u001B[1;32m    222\u001B[0m dispatch_key \u001B[38;5;241m=\u001B[39m \u001B[38;5;28mself\u001B[39m\u001B[38;5;241m.\u001B[39m_dispatch_table\u001B[38;5;241m.\u001B[39mdispatch(key)\n\u001B[1;32m    223\u001B[0m \u001B[38;5;28;01mif\u001B[39;00m dispatch_key \u001B[38;5;129;01mis\u001B[39;00m \u001B[38;5;129;01mnot\u001B[39;00m \u001B[38;5;28;01mNone\u001B[39;00m:\n\u001B[0;32m--> 224\u001B[0m   \u001B[38;5;28;01mreturn\u001B[39;00m \u001B[38;5;28;43mself\u001B[39;49m\u001B[38;5;241;43m.\u001B[39;49m\u001B[43m_primary\u001B[49m\u001B[43m[\u001B[49m\u001B[43mdispatch_key\u001B[49m\u001B[43m]\u001B[49m\n\u001B[1;32m    226\u001B[0m \u001B[38;5;28;01mreturn\u001B[39;00m \u001B[38;5;28;01mNone\u001B[39;00m\n",
      "File \u001B[0;32m~/PycharmProjects/ransomwareNetworkTrafficDetection/venv/lib/python3.8/site-packages/tensorflow/core/function/polymorphism/function_cache.py:175\u001B[0m, in \u001B[0;36mFunctionCacheKey.__hash__\u001B[0;34m(self)\u001B[0m\n\u001B[1;32m    174\u001B[0m \u001B[38;5;28;01mdef\u001B[39;00m \u001B[38;5;21m__hash__\u001B[39m(\u001B[38;5;28mself\u001B[39m) \u001B[38;5;241m-\u001B[39m\u001B[38;5;241m>\u001B[39m \u001B[38;5;28mint\u001B[39m:\n\u001B[0;32m--> 175\u001B[0m   \u001B[38;5;28;01mreturn\u001B[39;00m \u001B[38;5;28;43mhash\u001B[39;49m\u001B[43m(\u001B[49m\u001B[43m(\u001B[49m\u001B[38;5;28;43mself\u001B[39;49m\u001B[38;5;241;43m.\u001B[39;49m\u001B[43mcall_context\u001B[49m\u001B[43m,\u001B[49m\n\u001B[1;32m    176\u001B[0m \u001B[43m               \u001B[49m\u001B[38;5;28;43mself\u001B[39;49m\u001B[38;5;241;43m.\u001B[39;49m\u001B[43margs_signature\u001B[49m\u001B[43m,\u001B[49m\n\u001B[1;32m    177\u001B[0m \u001B[43m               \u001B[49m\u001B[38;5;28;43mself\u001B[39;49m\u001B[38;5;241;43m.\u001B[39;49m\u001B[43mcaptures_signature\u001B[49m\u001B[43m)\u001B[49m\u001B[43m)\u001B[49m\n",
      "File \u001B[0;32m~/PycharmProjects/ransomwareNetworkTrafficDetection/venv/lib/python3.8/site-packages/tensorflow/core/function/trace_type/default_types.py:207\u001B[0m, in \u001B[0;36mTuple.__hash__\u001B[0;34m(self)\u001B[0m\n\u001B[1;32m    206\u001B[0m \u001B[38;5;28;01mdef\u001B[39;00m \u001B[38;5;21m__hash__\u001B[39m(\u001B[38;5;28mself\u001B[39m) \u001B[38;5;241m-\u001B[39m\u001B[38;5;241m>\u001B[39m \u001B[38;5;28mint\u001B[39m:\n\u001B[0;32m--> 207\u001B[0m   \u001B[38;5;28;01mreturn\u001B[39;00m \u001B[38;5;28;43mhash\u001B[39;49m\u001B[43m(\u001B[49m\u001B[38;5;28;43mself\u001B[39;49m\u001B[38;5;241;43m.\u001B[39;49m\u001B[43mcomponents\u001B[49m\u001B[43m)\u001B[49m\n",
      "File \u001B[0;32m~/PycharmProjects/ransomwareNetworkTrafficDetection/venv/lib/python3.8/site-packages/tensorflow/core/function/trace_type/default_types.py:207\u001B[0m, in \u001B[0;36mTuple.__hash__\u001B[0;34m(self)\u001B[0m\n\u001B[1;32m    206\u001B[0m \u001B[38;5;28;01mdef\u001B[39;00m \u001B[38;5;21m__hash__\u001B[39m(\u001B[38;5;28mself\u001B[39m) \u001B[38;5;241m-\u001B[39m\u001B[38;5;241m>\u001B[39m \u001B[38;5;28mint\u001B[39m:\n\u001B[0;32m--> 207\u001B[0m   \u001B[38;5;28;01mreturn\u001B[39;00m \u001B[38;5;28;43mhash\u001B[39;49m\u001B[43m(\u001B[49m\u001B[38;5;28;43mself\u001B[39;49m\u001B[38;5;241;43m.\u001B[39;49m\u001B[43mcomponents\u001B[49m\u001B[43m)\u001B[49m\n",
      "File \u001B[0;32m~/PycharmProjects/ransomwareNetworkTrafficDetection/venv/lib/python3.8/site-packages/tensorflow/core/function/trace_type/default_types.py:601\u001B[0m, in \u001B[0;36mReference.__hash__\u001B[0;34m(self)\u001B[0m\n\u001B[1;32m    600\u001B[0m \u001B[38;5;28;01mdef\u001B[39;00m \u001B[38;5;21m__hash__\u001B[39m(\u001B[38;5;28mself\u001B[39m) \u001B[38;5;241m-\u001B[39m\u001B[38;5;241m>\u001B[39m \u001B[38;5;28mint\u001B[39m:\n\u001B[0;32m--> 601\u001B[0m   \u001B[38;5;28;01mreturn\u001B[39;00m \u001B[38;5;28;43mhash\u001B[39;49m\u001B[43m(\u001B[49m\u001B[43m(\u001B[49m\u001B[38;5;28;43mself\u001B[39;49m\u001B[38;5;241;43m.\u001B[39;49m\u001B[43midentifier\u001B[49m\u001B[43m,\u001B[49m\u001B[43m \u001B[49m\u001B[38;5;28;43mself\u001B[39;49m\u001B[38;5;241;43m.\u001B[39;49m\u001B[43mbase\u001B[49m\u001B[43m)\u001B[49m\u001B[43m)\u001B[49m\n",
      "File \u001B[0;32m~/PycharmProjects/ransomwareNetworkTrafficDetection/venv/lib/python3.8/site-packages/tensorflow/python/framework/type_spec.py:482\u001B[0m, in \u001B[0;36mTypeSpec.__hash__\u001B[0;34m(self)\u001B[0m\n\u001B[1;32m    481\u001B[0m \u001B[38;5;28;01mdef\u001B[39;00m \u001B[38;5;21m__hash__\u001B[39m(\u001B[38;5;28mself\u001B[39m) \u001B[38;5;241m-\u001B[39m\u001B[38;5;241m>\u001B[39m \u001B[38;5;28mint\u001B[39m:\n\u001B[0;32m--> 482\u001B[0m   \u001B[38;5;28;01mreturn\u001B[39;00m \u001B[38;5;28mhash\u001B[39m(\u001B[38;5;28;43mself\u001B[39;49m\u001B[38;5;241;43m.\u001B[39;49m\u001B[43m__get_cmp_key\u001B[49m\u001B[43m(\u001B[49m\u001B[43m)\u001B[49m)\n",
      "File \u001B[0;32m~/PycharmProjects/ransomwareNetworkTrafficDetection/venv/lib/python3.8/site-packages/tensorflow/python/framework/type_spec.py:531\u001B[0m, in \u001B[0;36mTypeSpec.__get_cmp_key\u001B[0;34m(self)\u001B[0m\n\u001B[1;32m    529\u001B[0m \u001B[38;5;124;03m\"\"\"Returns a hashable eq-comparable key for `self`.\"\"\"\u001B[39;00m\n\u001B[1;32m    530\u001B[0m \u001B[38;5;66;03m# TODO(b/133606651): Decide whether to cache this value.\u001B[39;00m\n\u001B[0;32m--> 531\u001B[0m \u001B[38;5;28;01mreturn\u001B[39;00m (\u001B[38;5;28mtype\u001B[39m(\u001B[38;5;28mself\u001B[39m), \u001B[38;5;28;43mself\u001B[39;49m\u001B[38;5;241;43m.\u001B[39;49m\u001B[43m__make_cmp_key\u001B[49m\u001B[43m(\u001B[49m\u001B[38;5;28;43mself\u001B[39;49m\u001B[38;5;241;43m.\u001B[39;49m\u001B[43m_serialize\u001B[49m\u001B[43m(\u001B[49m\u001B[43m)\u001B[49m\u001B[43m)\u001B[49m)\n",
      "File \u001B[0;32m~/PycharmProjects/ransomwareNetworkTrafficDetection/venv/lib/python3.8/site-packages/tensorflow/python/framework/type_spec.py:549\u001B[0m, in \u001B[0;36mTypeSpec.__make_cmp_key\u001B[0;34m(self, value)\u001B[0m\n\u001B[1;32m    543\u001B[0m   \u001B[38;5;28;01mreturn\u001B[39;00m \u001B[38;5;28mtuple\u001B[39m([\n\u001B[1;32m    544\u001B[0m       \u001B[38;5;28mtuple\u001B[39m([\u001B[38;5;28mself\u001B[39m\u001B[38;5;241m.\u001B[39m__make_cmp_key(key),\n\u001B[1;32m    545\u001B[0m              \u001B[38;5;28mself\u001B[39m\u001B[38;5;241m.\u001B[39m__make_cmp_key(value[key])])\n\u001B[1;32m    546\u001B[0m       \u001B[38;5;28;01mfor\u001B[39;00m key \u001B[38;5;129;01min\u001B[39;00m \u001B[38;5;28msorted\u001B[39m(value\u001B[38;5;241m.\u001B[39mkeys())\n\u001B[1;32m    547\u001B[0m   ])\n\u001B[1;32m    548\u001B[0m \u001B[38;5;28;01mif\u001B[39;00m \u001B[38;5;28misinstance\u001B[39m(value, \u001B[38;5;28mtuple\u001B[39m):\n\u001B[0;32m--> 549\u001B[0m   \u001B[38;5;28;01mreturn\u001B[39;00m \u001B[38;5;28mtuple\u001B[39m([\u001B[38;5;28mself\u001B[39m\u001B[38;5;241m.\u001B[39m__make_cmp_key(v) \u001B[38;5;28;01mfor\u001B[39;00m v \u001B[38;5;129;01min\u001B[39;00m value])\n\u001B[1;32m    550\u001B[0m \u001B[38;5;28;01mif\u001B[39;00m \u001B[38;5;28misinstance\u001B[39m(value, \u001B[38;5;28mlist\u001B[39m):\n\u001B[1;32m    551\u001B[0m   \u001B[38;5;28;01mreturn\u001B[39;00m (\u001B[38;5;28mlist\u001B[39m, \u001B[38;5;28mtuple\u001B[39m([\u001B[38;5;28mself\u001B[39m\u001B[38;5;241m.\u001B[39m__make_cmp_key(v) \u001B[38;5;28;01mfor\u001B[39;00m v \u001B[38;5;129;01min\u001B[39;00m value]))\n",
      "File \u001B[0;32m~/PycharmProjects/ransomwareNetworkTrafficDetection/venv/lib/python3.8/site-packages/tensorflow/python/framework/type_spec.py:549\u001B[0m, in \u001B[0;36m<listcomp>\u001B[0;34m(.0)\u001B[0m\n\u001B[1;32m    543\u001B[0m   \u001B[38;5;28;01mreturn\u001B[39;00m \u001B[38;5;28mtuple\u001B[39m([\n\u001B[1;32m    544\u001B[0m       \u001B[38;5;28mtuple\u001B[39m([\u001B[38;5;28mself\u001B[39m\u001B[38;5;241m.\u001B[39m__make_cmp_key(key),\n\u001B[1;32m    545\u001B[0m              \u001B[38;5;28mself\u001B[39m\u001B[38;5;241m.\u001B[39m__make_cmp_key(value[key])])\n\u001B[1;32m    546\u001B[0m       \u001B[38;5;28;01mfor\u001B[39;00m key \u001B[38;5;129;01min\u001B[39;00m \u001B[38;5;28msorted\u001B[39m(value\u001B[38;5;241m.\u001B[39mkeys())\n\u001B[1;32m    547\u001B[0m   ])\n\u001B[1;32m    548\u001B[0m \u001B[38;5;28;01mif\u001B[39;00m \u001B[38;5;28misinstance\u001B[39m(value, \u001B[38;5;28mtuple\u001B[39m):\n\u001B[0;32m--> 549\u001B[0m   \u001B[38;5;28;01mreturn\u001B[39;00m \u001B[38;5;28mtuple\u001B[39m([\u001B[38;5;28;43mself\u001B[39;49m\u001B[38;5;241;43m.\u001B[39;49m\u001B[43m__make_cmp_key\u001B[49m\u001B[43m(\u001B[49m\u001B[43mv\u001B[49m\u001B[43m)\u001B[49m \u001B[38;5;28;01mfor\u001B[39;00m v \u001B[38;5;129;01min\u001B[39;00m value])\n\u001B[1;32m    550\u001B[0m \u001B[38;5;28;01mif\u001B[39;00m \u001B[38;5;28misinstance\u001B[39m(value, \u001B[38;5;28mlist\u001B[39m):\n\u001B[1;32m    551\u001B[0m   \u001B[38;5;28;01mreturn\u001B[39;00m (\u001B[38;5;28mlist\u001B[39m, \u001B[38;5;28mtuple\u001B[39m([\u001B[38;5;28mself\u001B[39m\u001B[38;5;241m.\u001B[39m__make_cmp_key(v) \u001B[38;5;28;01mfor\u001B[39;00m v \u001B[38;5;129;01min\u001B[39;00m value]))\n",
      "File \u001B[0;32m~/PycharmProjects/ransomwareNetworkTrafficDetection/venv/lib/python3.8/site-packages/tensorflow/python/framework/type_spec.py:535\u001B[0m, in \u001B[0;36mTypeSpec.__make_cmp_key\u001B[0;34m(self, value)\u001B[0m\n\u001B[1;32m    533\u001B[0m \u001B[38;5;28;01mdef\u001B[39;00m \u001B[38;5;21m__make_cmp_key\u001B[39m(\u001B[38;5;28mself\u001B[39m, value):\n\u001B[1;32m    534\u001B[0m   \u001B[38;5;124;03m\"\"\"Converts `value` to a hashable key.\"\"\"\u001B[39;00m\n\u001B[0;32m--> 535\u001B[0m   \u001B[38;5;28;01mif\u001B[39;00m \u001B[38;5;28;43misinstance\u001B[39;49m\u001B[43m(\u001B[49m\u001B[43mvalue\u001B[49m\u001B[43m,\u001B[49m\u001B[43m \u001B[49m\u001B[43m(\u001B[49m\u001B[38;5;28;43mint\u001B[39;49m\u001B[43m,\u001B[49m\u001B[43m \u001B[49m\u001B[38;5;28;43mfloat\u001B[39;49m\u001B[43m,\u001B[49m\u001B[43m \u001B[49m\u001B[38;5;28;43mbool\u001B[39;49m\u001B[43m,\u001B[49m\u001B[43m \u001B[49m\u001B[43mnp\u001B[49m\u001B[38;5;241;43m.\u001B[39;49m\u001B[43mgeneric\u001B[49m\u001B[43m,\u001B[49m\u001B[43m \u001B[49m\u001B[43mdtypes\u001B[49m\u001B[38;5;241;43m.\u001B[39;49m\u001B[43mDType\u001B[49m\u001B[43m,\u001B[49m\u001B[43m \u001B[49m\u001B[43mTypeSpec\u001B[49m\u001B[43m,\u001B[49m\n\u001B[1;32m    536\u001B[0m \u001B[43m                        \u001B[49m\u001B[43mtensor_shape\u001B[49m\u001B[38;5;241;43m.\u001B[39;49m\u001B[43mTensorShape\u001B[49m\u001B[43m)\u001B[49m\u001B[43m)\u001B[49m:\n\u001B[1;32m    537\u001B[0m     \u001B[38;5;28;01mreturn\u001B[39;00m value\n\u001B[1;32m    538\u001B[0m   \u001B[38;5;28;01mif\u001B[39;00m \u001B[38;5;28misinstance\u001B[39m(value, compat\u001B[38;5;241m.\u001B[39mbytes_or_text_types):\n",
      "File \u001B[0;32m/usr/local/bin/../../../Library/Frameworks/Python.framework/Versions/3.8/lib/python3.8/abc.py:96\u001B[0m, in \u001B[0;36mABCMeta.__instancecheck__\u001B[0;34m(cls, instance)\u001B[0m\n\u001B[1;32m     90\u001B[0m     \u001B[38;5;124;03m\"\"\"Register a virtual subclass of an ABC.\u001B[39;00m\n\u001B[1;32m     91\u001B[0m \n\u001B[1;32m     92\u001B[0m \u001B[38;5;124;03m    Returns the subclass, to allow usage as a class decorator.\u001B[39;00m\n\u001B[1;32m     93\u001B[0m \u001B[38;5;124;03m    \"\"\"\u001B[39;00m\n\u001B[1;32m     94\u001B[0m     \u001B[38;5;28;01mreturn\u001B[39;00m _abc_register(\u001B[38;5;28mcls\u001B[39m, subclass)\n\u001B[0;32m---> 96\u001B[0m \u001B[38;5;28;01mdef\u001B[39;00m \u001B[38;5;21m__instancecheck__\u001B[39m(\u001B[38;5;28mcls\u001B[39m, instance):\n\u001B[1;32m     97\u001B[0m     \u001B[38;5;124;03m\"\"\"Override for isinstance(instance, cls).\"\"\"\u001B[39;00m\n\u001B[1;32m     98\u001B[0m     \u001B[38;5;28;01mreturn\u001B[39;00m _abc_instancecheck(\u001B[38;5;28mcls\u001B[39m, instance)\n",
      "\u001B[0;31mKeyboardInterrupt\u001B[0m: "
     ]
    }
   ],
   "source": [
    "try:\n",
    "    with open(f\"{EXPORTED_MODEL}/nt_unbalance.pkl\", 'rb') as file:\n",
    "        print(\"CARICAMENTO MODELLO DA ../exported_model/nt_unbalance.pkl\")\n",
    "\n",
    "        nt = NeuralTree.load_model(f\"{EXPORTED_MODEL}/nt_unbalance.pkl\")\n",
    "except IOError:\n",
    "    nt = NeuralTree(f\"{DATASET_PATH}/train.csv\", 5)\n",
    "    start_time = time.time()\n",
    "\n",
    "    print(\"INIZIO ADDESTRAMENTO NEURAL TREE\")\n",
    "    nt.train(250, 1)#fit(X_train_balanced, y_train_balanced)\n",
    "\n",
    "    print(f\"L'addestramento della bayesian network ha impiegato {time.time() - start_time} secondi\")\n",
    "\n",
    "    print(\"SALVATAGGIO MODELLO IN ../exported_model/nt_unbalance.pkl\")\n",
    "    nt.save_model(f\"{EXPORTED_MODEL}/nt_unbalance.pkl\")"
   ],
   "metadata": {
    "collapsed": false
   }
  },
  {
   "cell_type": "markdown",
   "source": [
    "### VALUTAZIONE MODELLO"
   ],
   "metadata": {
    "collapsed": false
   }
  },
  {
   "cell_type": "code",
   "execution_count": null,
   "outputs": [],
   "source": [
    "print(f\"Precision in training phase: {nt.score(X_train, y_train)}\")\n",
    "print(f\"Precision in testing phase: {nt.score(X_test, y_test)}\")"
   ],
   "metadata": {
    "collapsed": false
   }
  },
  {
   "cell_type": "markdown",
   "source": [
    "### FEATURES IMPORTANCE/DIMENSIONAL REDUCTION"
   ],
   "metadata": {
    "collapsed": false
   }
  },
  {
   "cell_type": "code",
   "execution_count": null,
   "outputs": [],
   "source": [
    "importance = permutation_importance(nt, X_train, y_train)"
   ],
   "metadata": {
    "collapsed": false
   }
  },
  {
   "cell_type": "code",
   "execution_count": null,
   "outputs": [],
   "source": [
    "importance = importance['importances_mean']\n",
    "\n",
    "for i,v in enumerate(importance):\n",
    "    print('Feature: %0d, Score: %.5f' % (i, v))\n",
    "\n",
    "#plot feature importance\n",
    "plt.bar([x for x in range(len(importance))], importance)\n",
    "plt.show()"
   ],
   "metadata": {
    "collapsed": false
   }
  },
  {
   "cell_type": "markdown",
   "source": [
    "### DATASET BILANCIATO"
   ],
   "metadata": {
    "collapsed": false
   }
  },
  {
   "cell_type": "code",
   "execution_count": null,
   "outputs": [],
   "source": [
    "try:\n",
    "    with open(f\"{EXPORTED_MODEL}/nt_balance.pkl\", 'rb') as file:\n",
    "        print(\"CARICAMENTO MODELLO DA ../exported_model/nt_balance.pkl\")\n",
    "\n",
    "        nt_balance_model = NeuralTree.load_model(f\"{EXPORTED_MODEL}/nt_balance.pkl\")\n",
    "except IOError:\n",
    "    nt = NeuralTree(f\"{DATASET_PATH}/balanced_train.csv\", 5)\n",
    "    start_time = time.time()\n",
    "\n",
    "    print(\"INIZIO ADDESTRAMENTO NEURAL TREE\")\n",
    "    nt_balance_model = nt.train(500, 0)#fit(X_train_balanced, y_train_balanced)\n",
    "\n",
    "    print(f\"L'addestramento della bayesian network ha impiegato {time.time() - start_time} secondi\")\n",
    "\n",
    "    print(\"SALVATAGGIO MODELLO IN ../exported_model/nt_unbalance.pkl\")\n",
    "    nt_balance_model.save_model(f\"{EXPORTED_MODEL}/nt_balance.pkl\")"
   ],
   "metadata": {
    "collapsed": false,
    "pycharm": {
     "is_executing": true
    }
   }
  },
  {
   "cell_type": "markdown",
   "source": [
    "### VALUTAZIONE MODELLO"
   ],
   "metadata": {
    "collapsed": false
   }
  },
  {
   "cell_type": "code",
   "execution_count": null,
   "outputs": [],
   "source": [
    "print(f\"Precision in training phase: {nt_balance_model.score(X_train_balanced, y_train_balanced)}\")\n",
    "print(f\"Precision in testing phase(unbalance): {nt.score(X_test, y_test)}\")\n",
    "print(f\"Precision in testing phase(balance): {nt_balance_model.score(X_test_balanced, y_test_balanced)}\")"
   ],
   "metadata": {
    "collapsed": false
   }
  },
  {
   "cell_type": "markdown",
   "source": [
    "### FEATURES IMPORTANCE/DIMENSIONAL REDUCTION"
   ],
   "metadata": {
    "collapsed": false
   }
  },
  {
   "cell_type": "code",
   "execution_count": null,
   "outputs": [],
   "source": [
    "importance = permutation_importance(nt_balance_model, X_train, y_train)"
   ],
   "metadata": {
    "collapsed": false
   }
  },
  {
   "cell_type": "code",
   "execution_count": null,
   "outputs": [],
   "source": [
    "importance = importance['importances_mean']\n",
    "\n",
    "for i,v in enumerate(importance):\n",
    "    print('Feature: %0d, Score: %.5f' % (i, v))\n",
    "\n",
    "#plot feature importance\n",
    "plt.bar([x for x in range(len(importance))], importance)\n",
    "plt.show()"
   ],
   "metadata": {
    "collapsed": false
   }
  },
  {
   "cell_type": "markdown",
   "source": [
    "# VALUTAZIONE DEL MODELLO\n",
    "Questa sessione è dedicata all'analisi dei risultati ottenuti dall'analisi dei modelli ottenuti"
   ],
   "metadata": {
    "collapsed": false
   }
  },
  {
   "cell_type": "code",
   "execution_count": 14,
   "outputs": [],
   "source": [
    "target_names = ['BENIGN', 'MALWARE']"
   ],
   "metadata": {
    "collapsed": false
   }
  },
  {
   "cell_type": "markdown",
   "source": [
    "## DECISION TREE\n",
    "\n",
    "### DATASET SBILANCIATO\n",
    "\n",
    "L'addestramento del decision tree ha impiegato 39,33 secondi."
   ],
   "metadata": {
    "collapsed": false
   }
  },
  {
   "cell_type": "code",
   "execution_count": 6,
   "outputs": [],
   "source": [
    "with open(f\"{EXPORTED_MODEL}/dt_unbalance.pkl\", 'rb') as file:\n",
    "    dt = pkl.load(file)\n",
    "\n",
    "train_pred = dt.predict(X_train)\n",
    "test_pred = dt.predict(X_test)"
   ],
   "metadata": {
    "collapsed": false
   }
  },
  {
   "cell_type": "markdown",
   "source": [
    "Il modello in fase di training ha ottenuto le seguenti performance"
   ],
   "metadata": {
    "collapsed": false
   }
  },
  {
   "cell_type": "code",
   "execution_count": 71,
   "outputs": [
    {
     "name": "stdout",
     "output_type": "stream",
     "text": [
      "              precision    recall  f1-score   support\n",
      "\n",
      "      BENIGN   1.000000  1.000000  1.000000   1114497\n",
      "     MALWARE   1.000000  1.000000  1.000000     66355\n",
      "\n",
      "    accuracy                       1.000000   1180852\n",
      "   macro avg   1.000000  1.000000  1.000000   1180852\n",
      "weighted avg   1.000000  1.000000  1.000000   1180852\n",
      "\n"
     ]
    }
   ],
   "source": [
    "print(classification_report(y_train, train_pred, target_names=target_names, digits=6))"
   ],
   "metadata": {
    "collapsed": false
   }
  },
  {
   "cell_type": "code",
   "execution_count": 15,
   "outputs": [
    {
     "data": {
      "text/plain": "<sklearn.metrics._plot.confusion_matrix.ConfusionMatrixDisplay at 0x28b74fdf0>"
     },
     "execution_count": 15,
     "metadata": {},
     "output_type": "execute_result"
    },
    {
     "data": {
      "text/plain": "<Figure size 432x288 with 1 Axes>",
      "image/png": "[encoded data removed]"
     },
     "metadata": {
      "needs_background": "light"
     },
     "output_type": "display_data"
    }
   ],
   "source": [
    "ConfusionMatrixDisplay(confusion_matrix(y_train, train_pred),\n",
    "                       display_labels=target_names).plot(cmap=\"Greens\", colorbar=False, values_format='')"
   ],
   "metadata": {
    "collapsed": false
   }
  },
  {
   "cell_type": "markdown",
   "source": [
    "Il modello in fase di testing ha ottenuto le seguenti performance"
   ],
   "metadata": {
    "collapsed": false
   }
  },
  {
   "cell_type": "code",
   "execution_count": 72,
   "outputs": [
    {
     "name": "stdout",
     "output_type": "stream",
     "text": [
      "              precision    recall  f1-score   support\n",
      "\n",
      "      BENIGN   0.999981  0.999975  0.999978    477834\n",
      "     MALWARE   0.999575  0.999681  0.999628     28246\n",
      "\n",
      "    accuracy                       0.999959    506080\n",
      "   macro avg   0.999778  0.999828  0.999803    506080\n",
      "weighted avg   0.999959  0.999959  0.999959    506080\n",
      "\n"
     ]
    }
   ],
   "source": [
    "print(classification_report(y_test, test_pred, target_names=target_names, digits=6))"
   ],
   "metadata": {
    "collapsed": false
   }
  },
  {
   "cell_type": "code",
   "execution_count": 17,
   "outputs": [
    {
     "data": {
      "text/plain": "<sklearn.metrics._plot.confusion_matrix.ConfusionMatrixDisplay at 0x28b74fbb0>"
     },
     "execution_count": 17,
     "metadata": {},
     "output_type": "execute_result"
    },
    {
     "data": {
      "text/plain": "<Figure size 432x288 with 1 Axes>",
      "image/png": "[encoded data removed]"
     },
     "metadata": {
      "needs_background": "light"
     },
     "output_type": "display_data"
    }
   ],
   "source": [
    "ConfusionMatrixDisplay(confusion_matrix(y_test, test_pred),\n",
    "                       display_labels=target_names).plot(cmap=\"Greens\", colorbar=False)"
   ],
   "metadata": {
    "collapsed": false
   }
  },
  {
   "cell_type": "markdown",
   "source": [
    "### DATASET BILANCIATO\n",
    "\n",
    "L'addestramento del decision tree ha impiegato 51,38 secondi."
   ],
   "metadata": {
    "collapsed": false
   }
  },
  {
   "cell_type": "code",
   "execution_count": 73,
   "outputs": [],
   "source": [
    "with open(f\"{EXPORTED_MODEL}/dt_balance.pkl\", 'rb') as file:\n",
    "    dt = pkl.load(file)\n",
    "\n",
    "train_pred = dt.predict(X_train_balanced)\n",
    "test_pred = dt.predict(X_test_balanced)"
   ],
   "metadata": {
    "collapsed": false
   }
  },
  {
   "cell_type": "markdown",
   "source": [
    "Il modello in fase di training ha ottenuto le seguenti performance"
   ],
   "metadata": {
    "collapsed": false
   }
  },
  {
   "cell_type": "code",
   "execution_count": 75,
   "outputs": [
    {
     "name": "stdout",
     "output_type": "stream",
     "text": [
      "              precision    recall  f1-score   support\n",
      "\n",
      "      BENIGN   1.000000  1.000000  1.000000   1114497\n",
      "     MALWARE   1.000000  1.000000  1.000000   1114497\n",
      "\n",
      "    accuracy                       1.000000   2228994\n",
      "   macro avg   1.000000  1.000000  1.000000   2228994\n",
      "weighted avg   1.000000  1.000000  1.000000   2228994\n",
      "\n"
     ]
    }
   ],
   "source": [
    "print(classification_report(y_train_balanced, train_pred, target_names=target_names, digits=6))"
   ],
   "metadata": {
    "collapsed": false
   }
  },
  {
   "cell_type": "code",
   "execution_count": 65,
   "outputs": [
    {
     "data": {
      "text/plain": "<sklearn.metrics._plot.confusion_matrix.ConfusionMatrixDisplay at 0x297617ac0>"
     },
     "execution_count": 65,
     "metadata": {},
     "output_type": "execute_result"
    },
    {
     "data": {
      "text/plain": "<Figure size 432x288 with 1 Axes>",
      "image/png": "[encoded data removed]"
     },
     "metadata": {
      "needs_background": "light"
     },
     "output_type": "display_data"
    }
   ],
   "source": [
    "ConfusionMatrixDisplay(confusion_matrix(y_train_balanced, train_pred),\n",
    "                       display_labels=target_names).plot(cmap=\"Reds\", colorbar=False, values_format='')"
   ],
   "metadata": {
    "collapsed": false
   }
  },
  {
   "cell_type": "markdown",
   "source": [
    "Il modello in fase di testing ha ottenuto le seguenti performance"
   ],
   "metadata": {
    "collapsed": false
   }
  },
  {
   "cell_type": "code",
   "execution_count": 76,
   "outputs": [
    {
     "name": "stdout",
     "output_type": "stream",
     "text": [
      "              precision    recall  f1-score   support\n",
      "\n",
      "      BENIGN   0.999481  0.999975  0.999728    477834\n",
      "     MALWARE   0.999975  0.999481  0.999728    477834\n",
      "\n",
      "    accuracy                       0.999728    955668\n",
      "   macro avg   0.999728  0.999728  0.999728    955668\n",
      "weighted avg   0.999728  0.999728  0.999728    955668\n",
      "\n"
     ]
    }
   ],
   "source": [
    "print(classification_report(y_test_balanced, test_pred, target_names=target_names, digits=6))"
   ],
   "metadata": {
    "collapsed": false
   }
  },
  {
   "cell_type": "code",
   "execution_count": 66,
   "outputs": [
    {
     "data": {
      "text/plain": "<sklearn.metrics._plot.confusion_matrix.ConfusionMatrixDisplay at 0x2943b0040>"
     },
     "execution_count": 66,
     "metadata": {},
     "output_type": "execute_result"
    },
    {
     "data": {
      "text/plain": "<Figure size 432x288 with 1 Axes>",
      "image/png": "[encoded data removed]"
     },
     "metadata": {
      "needs_background": "light"
     },
     "output_type": "display_data"
    }
   ],
   "source": [
    "ConfusionMatrixDisplay(confusion_matrix(y_test_balanced, test_pred),\n",
    "                       display_labels=target_names).plot(cmap=\"Reds\", colorbar=False)"
   ],
   "metadata": {
    "collapsed": false
   }
  },
  {
   "cell_type": "code",
   "execution_count": 67,
   "outputs": [],
   "source": [
    "del dt"
   ],
   "metadata": {
    "collapsed": false
   }
  },
  {
   "cell_type": "markdown",
   "source": [
    "## RANDOM FOREST\n",
    "\n",
    "### DATASET SBILANCIATO\n",
    "\n",
    "L'addestramento della random forest ha impiegato 297,64 secondi."
   ],
   "metadata": {
    "collapsed": false
   }
  },
  {
   "cell_type": "code",
   "execution_count": 77,
   "outputs": [],
   "source": [
    "with open(f\"{EXPORTED_MODEL}/rf_unbalance.pkl\", 'rb') as file:\n",
    "    rf = pkl.load(file)\n",
    "\n",
    "train_pred = rf.predict(X_train)\n",
    "test_pred = rf.predict(X_test)"
   ],
   "metadata": {
    "collapsed": false
   }
  },
  {
   "cell_type": "markdown",
   "source": [
    "Il modello in fase di training ha ottenuto le seguenti performance"
   ],
   "metadata": {
    "collapsed": false
   }
  },
  {
   "cell_type": "code",
   "execution_count": 78,
   "outputs": [
    {
     "name": "stdout",
     "output_type": "stream",
     "text": [
      "              precision    recall  f1-score   support\n",
      "\n",
      "      BENIGN   1.000000  1.000000  1.000000   1114497\n",
      "     MALWARE   1.000000  1.000000  1.000000     66355\n",
      "\n",
      "    accuracy                       1.000000   1180852\n",
      "   macro avg   1.000000  1.000000  1.000000   1180852\n",
      "weighted avg   1.000000  1.000000  1.000000   1180852\n",
      "\n"
     ]
    }
   ],
   "source": [
    "print(classification_report(y_train, train_pred, target_names=target_names, digits=6))"
   ],
   "metadata": {
    "collapsed": false
   }
  },
  {
   "cell_type": "code",
   "execution_count": 45,
   "outputs": [
    {
     "data": {
      "text/plain": "<sklearn.metrics._plot.confusion_matrix.ConfusionMatrixDisplay at 0x297c1bf10>"
     },
     "execution_count": 45,
     "metadata": {},
     "output_type": "execute_result"
    },
    {
     "data": {
      "text/plain": "<Figure size 432x288 with 1 Axes>",
      "image/png": "[encoded data removed]"
     },
     "metadata": {
      "needs_background": "light"
     },
     "output_type": "display_data"
    }
   ],
   "source": [
    "ConfusionMatrixDisplay(confusion_matrix(y_train, train_pred),\n",
    "                       display_labels=target_names).plot(cmap=\"Greens\", colorbar=False, values_format='')"
   ],
   "metadata": {
    "collapsed": false
   }
  },
  {
   "cell_type": "markdown",
   "source": [
    "Il modello in fase di testing ha ottenuto le seguenti performance"
   ],
   "metadata": {
    "collapsed": false
   }
  },
  {
   "cell_type": "code",
   "execution_count": 79,
   "outputs": [
    {
     "name": "stdout",
     "output_type": "stream",
     "text": [
      "              precision    recall  f1-score   support\n",
      "\n",
      "      BENIGN   0.999935  0.999983  0.999959    477834\n",
      "     MALWARE   0.999717  0.998902  0.999309     28246\n",
      "\n",
      "    accuracy                       0.999923    506080\n",
      "   macro avg   0.999826  0.999443  0.999634    506080\n",
      "weighted avg   0.999923  0.999923  0.999923    506080\n",
      "\n"
     ]
    }
   ],
   "source": [
    "print(classification_report(y_test, test_pred, target_names=target_names, digits=6))"
   ],
   "metadata": {
    "collapsed": false
   }
  },
  {
   "cell_type": "code",
   "execution_count": 46,
   "outputs": [
    {
     "data": {
      "text/plain": "<sklearn.metrics._plot.confusion_matrix.ConfusionMatrixDisplay at 0x2cc32cc70>"
     },
     "execution_count": 46,
     "metadata": {},
     "output_type": "execute_result"
    },
    {
     "data": {
      "text/plain": "<Figure size 432x288 with 1 Axes>",
      "image/png": "[encoded data removed]"
     },
     "metadata": {
      "needs_background": "light"
     },
     "output_type": "display_data"
    }
   ],
   "source": [
    "ConfusionMatrixDisplay(confusion_matrix(y_test, test_pred),\n",
    "                       display_labels=target_names).plot(cmap=\"Greens\", colorbar=False)"
   ],
   "metadata": {
    "collapsed": false
   }
  },
  {
   "cell_type": "markdown",
   "source": [
    "### DATASET BILANCIATO\n",
    "\n",
    "L'addestramento della random forest ha impiegato 447,96 secondi."
   ],
   "metadata": {
    "collapsed": false
   }
  },
  {
   "cell_type": "code",
   "execution_count": 80,
   "outputs": [],
   "source": [
    "with open(f\"{EXPORTED_MODEL}/rf_balance.pkl\", 'rb') as file:\n",
    "    rf = pkl.load(file)\n",
    "\n",
    "train_pred = rf.predict(X_train_balanced)\n",
    "test_pred = rf.predict(X_test_balanced)"
   ],
   "metadata": {
    "collapsed": false
   }
  },
  {
   "cell_type": "markdown",
   "source": [
    "Il modello in fase di training ha ottenuto le seguenti performance"
   ],
   "metadata": {
    "collapsed": false
   }
  },
  {
   "cell_type": "code",
   "execution_count": 81,
   "outputs": [
    {
     "name": "stdout",
     "output_type": "stream",
     "text": [
      "              precision    recall  f1-score   support\n",
      "\n",
      "      BENIGN   1.000000  1.000000  1.000000   1114497\n",
      "     MALWARE   1.000000  1.000000  1.000000   1114497\n",
      "\n",
      "    accuracy                       1.000000   2228994\n",
      "   macro avg   1.000000  1.000000  1.000000   2228994\n",
      "weighted avg   1.000000  1.000000  1.000000   2228994\n",
      "\n"
     ]
    }
   ],
   "source": [
    "print(classification_report(y_train_balanced, train_pred, target_names=target_names, digits=6))"
   ],
   "metadata": {
    "collapsed": false
   }
  },
  {
   "cell_type": "code",
   "execution_count": 70,
   "outputs": [
    {
     "data": {
      "text/plain": "<sklearn.metrics._plot.confusion_matrix.ConfusionMatrixDisplay at 0x297677fa0>"
     },
     "execution_count": 70,
     "metadata": {},
     "output_type": "execute_result"
    },
    {
     "data": {
      "text/plain": "<Figure size 432x288 with 1 Axes>",
      "image/png": "[encoded data removed]"
     },
     "metadata": {
      "needs_background": "light"
     },
     "output_type": "display_data"
    }
   ],
   "source": [
    "ConfusionMatrixDisplay(confusion_matrix(y_train_balanced, train_pred),\n",
    "                       display_labels=target_names).plot(cmap=\"Reds\", colorbar=False, values_format='')"
   ],
   "metadata": {
    "collapsed": false
   }
  },
  {
   "cell_type": "markdown",
   "source": [
    "Il modello in fase di testing ha ottenuto le seguenti performance"
   ],
   "metadata": {
    "collapsed": false
   }
  },
  {
   "cell_type": "code",
   "execution_count": 82,
   "outputs": [
    {
     "name": "stdout",
     "output_type": "stream",
     "text": [
      "              precision    recall  f1-score   support\n",
      "\n",
      "      BENIGN   0.999939  0.999935  0.999937    477834\n",
      "     MALWARE   0.999935  0.999939  0.999937    477834\n",
      "\n",
      "    accuracy                       0.999937    955668\n",
      "   macro avg   0.999937  0.999937  0.999937    955668\n",
      "weighted avg   0.999937  0.999937  0.999937    955668\n",
      "\n"
     ]
    }
   ],
   "source": [
    "print(classification_report(y_test_balanced, test_pred, target_names=target_names, digits=6))"
   ],
   "metadata": {
    "collapsed": false
   }
  },
  {
   "cell_type": "code",
   "execution_count": 71,
   "outputs": [
    {
     "data": {
      "text/plain": "<sklearn.metrics._plot.confusion_matrix.ConfusionMatrixDisplay at 0x297c71d30>"
     },
     "execution_count": 71,
     "metadata": {},
     "output_type": "execute_result"
    },
    {
     "data": {
      "text/plain": "<Figure size 432x288 with 1 Axes>",
      "image/png": "[encoded data removed]"
     },
     "metadata": {
      "needs_background": "light"
     },
     "output_type": "display_data"
    }
   ],
   "source": [
    "ConfusionMatrixDisplay(confusion_matrix(y_test_balanced, test_pred),\n",
    "                       display_labels=target_names).plot(cmap=\"Reds\", colorbar=False)"
   ],
   "metadata": {
    "collapsed": false
   }
  },
  {
   "cell_type": "code",
   "execution_count": 72,
   "outputs": [],
   "source": [
    "del rf"
   ],
   "metadata": {
    "collapsed": false
   }
  },
  {
   "cell_type": "markdown",
   "source": [
    "## K NEAREST NEIGHBORS\n",
    "\n",
    "### DATASET SBILANCIATO\n",
    "\n",
    "L'addestramento della knn ha impiegato 1,49 secondi."
   ],
   "metadata": {
    "collapsed": false
   }
  },
  {
   "cell_type": "code",
   "execution_count": 83,
   "outputs": [],
   "source": [
    "with open(f\"{EXPORTED_MODEL}/knn_unbalance.pkl\", 'rb') as file:\n",
    "    knn = pkl.load(file)\n",
    "\n",
    "train_pred = knn.predict(X_train)\n",
    "test_pred = knn.predict(X_test)"
   ],
   "metadata": {
    "collapsed": false
   }
  },
  {
   "cell_type": "markdown",
   "source": [
    "Il modello in fase di training ha ottenuto le seguenti performance"
   ],
   "metadata": {
    "collapsed": false
   }
  },
  {
   "cell_type": "code",
   "execution_count": 84,
   "outputs": [
    {
     "name": "stdout",
     "output_type": "stream",
     "text": [
      "              precision    recall  f1-score   support\n",
      "\n",
      "      BENIGN   0.997670  0.998162  0.997916   1114497\n",
      "     MALWARE   0.968878  0.960847  0.964846     66355\n",
      "\n",
      "    accuracy                       0.996066   1180852\n",
      "   macro avg   0.983274  0.979505  0.981381   1180852\n",
      "weighted avg   0.996052  0.996066  0.996058   1180852\n",
      "\n"
     ]
    }
   ],
   "source": [
    "print(classification_report(y_train, train_pred, target_names=target_names, digits=6))"
   ],
   "metadata": {
    "collapsed": false
   }
  },
  {
   "cell_type": "code",
   "execution_count": 58,
   "outputs": [
    {
     "data": {
      "text/plain": "<sklearn.metrics._plot.confusion_matrix.ConfusionMatrixDisplay at 0x2944e0bb0>"
     },
     "execution_count": 58,
     "metadata": {},
     "output_type": "execute_result"
    },
    {
     "data": {
      "text/plain": "<Figure size 432x288 with 1 Axes>",
      "image/png": "[encoded data removed]"
     },
     "metadata": {
      "needs_background": "light"
     },
     "output_type": "display_data"
    }
   ],
   "source": [
    "ConfusionMatrixDisplay(confusion_matrix(y_train, train_pred),\n",
    "                       display_labels=target_names).plot(cmap=\"Greens\", colorbar=False, values_format='')"
   ],
   "metadata": {
    "collapsed": false
   }
  },
  {
   "cell_type": "markdown",
   "source": [
    "Il modello in fase di testing ha ottenuto le seguenti performance"
   ],
   "metadata": {
    "collapsed": false
   }
  },
  {
   "cell_type": "code",
   "execution_count": 85,
   "outputs": [
    {
     "name": "stdout",
     "output_type": "stream",
     "text": [
      "              precision    recall  f1-score   support\n",
      "\n",
      "      BENIGN   0.997031  0.997346  0.997189    477834\n",
      "     MALWARE   0.954867  0.949763  0.952308     28246\n",
      "\n",
      "    accuracy                       0.994691    506080\n",
      "   macro avg   0.975949  0.973555  0.974749    506080\n",
      "weighted avg   0.994678  0.994691  0.994684    506080\n",
      "\n"
     ]
    }
   ],
   "source": [
    "print(classification_report(y_test, test_pred, target_names=target_names, digits=6))"
   ],
   "metadata": {
    "collapsed": false
   }
  },
  {
   "cell_type": "code",
   "execution_count": 59,
   "outputs": [
    {
     "data": {
      "text/plain": "<sklearn.metrics._plot.confusion_matrix.ConfusionMatrixDisplay at 0x294522fd0>"
     },
     "execution_count": 59,
     "metadata": {},
     "output_type": "execute_result"
    },
    {
     "data": {
      "text/plain": "<Figure size 432x288 with 1 Axes>",
      "image/png": "[encoded data removed]"
     },
     "metadata": {
      "needs_background": "light"
     },
     "output_type": "display_data"
    }
   ],
   "source": [
    "ConfusionMatrixDisplay(confusion_matrix(y_test, test_pred),\n",
    "                       display_labels=target_names).plot(cmap=\"Greens\", colorbar=False)"
   ],
   "metadata": {
    "collapsed": false
   }
  },
  {
   "cell_type": "markdown",
   "source": [
    "### DATASET BILANCIATO\n",
    "\n",
    "L'addestramento della knn ha impiegato 1,19 secondi."
   ],
   "metadata": {
    "collapsed": false
   }
  },
  {
   "cell_type": "code",
   "execution_count": 86,
   "outputs": [],
   "source": [
    "with open(f\"{EXPORTED_MODEL}/knn_balance.pkl\", 'rb') as file:\n",
    "    knn = pkl.load(file)\n",
    "\n",
    "train_pred = knn.predict(X_train_balanced)\n",
    "test_pred = knn.predict(X_test_balanced)"
   ],
   "metadata": {
    "collapsed": false
   }
  },
  {
   "cell_type": "markdown",
   "source": [
    "Il modello in fase di training ha ottenuto le seguenti performance"
   ],
   "metadata": {
    "collapsed": false
   }
  },
  {
   "cell_type": "code",
   "execution_count": 87,
   "outputs": [
    {
     "name": "stdout",
     "output_type": "stream",
     "text": [
      "              precision    recall  f1-score   support\n",
      "\n",
      "      BENIGN   0.964623  0.998162  0.981106   1114497\n",
      "     MALWARE   0.998096  0.963392  0.980437   1114497\n",
      "\n",
      "    accuracy                       0.980777   2228994\n",
      "   macro avg   0.981359  0.980777  0.980772   2228994\n",
      "weighted avg   0.981359  0.980777  0.980772   2228994\n",
      "\n"
     ]
    }
   ],
   "source": [
    "print(classification_report(y_train_balanced, train_pred, target_names=target_names, digits=6))"
   ],
   "metadata": {
    "collapsed": false
   }
  },
  {
   "cell_type": "code",
   "execution_count": 75,
   "outputs": [
    {
     "data": {
      "text/plain": "<sklearn.metrics._plot.confusion_matrix.ConfusionMatrixDisplay at 0x2cc3690d0>"
     },
     "execution_count": 75,
     "metadata": {},
     "output_type": "execute_result"
    },
    {
     "data": {
      "text/plain": "<Figure size 432x288 with 1 Axes>",
      "image/png": "[encoded data removed]"
     },
     "metadata": {
      "needs_background": "light"
     },
     "output_type": "display_data"
    }
   ],
   "source": [
    "ConfusionMatrixDisplay(confusion_matrix(y_train_balanced, train_pred),\n",
    "                       display_labels=target_names).plot(cmap=\"Reds\", colorbar=False, values_format='')"
   ],
   "metadata": {
    "collapsed": false
   }
  },
  {
   "cell_type": "markdown",
   "source": [
    "Il modello in fase di testing ha ottenuto le seguenti performance"
   ],
   "metadata": {
    "collapsed": false
   }
  },
  {
   "cell_type": "code",
   "execution_count": 88,
   "outputs": [
    {
     "name": "stdout",
     "output_type": "stream",
     "text": [
      "              precision    recall  f1-score   support\n",
      "\n",
      "      BENIGN   0.951260  0.997346  0.973758    477834\n",
      "     MALWARE   0.997211  0.948899  0.972455    477834\n",
      "\n",
      "    accuracy                       0.973122    955668\n",
      "   macro avg   0.974236  0.973122  0.973107    955668\n",
      "weighted avg   0.974236  0.973122  0.973107    955668\n",
      "\n"
     ]
    }
   ],
   "source": [
    "print(classification_report(y_test_balanced, test_pred, target_names=target_names, digits=6))"
   ],
   "metadata": {
    "collapsed": false
   }
  },
  {
   "cell_type": "code",
   "execution_count": 77,
   "outputs": [
    {
     "data": {
      "text/plain": "<sklearn.metrics._plot.confusion_matrix.ConfusionMatrixDisplay at 0x2977a4520>"
     },
     "execution_count": 77,
     "metadata": {},
     "output_type": "execute_result"
    },
    {
     "data": {
      "text/plain": "<Figure size 432x288 with 1 Axes>",
      "image/png": "[encoded data removed]"
     },
     "metadata": {
      "needs_background": "light"
     },
     "output_type": "display_data"
    }
   ],
   "source": [
    "ConfusionMatrixDisplay(confusion_matrix(y_test_balanced, test_pred),\n",
    "                       display_labels=target_names).plot(cmap=\"Reds\", colorbar=False)"
   ],
   "metadata": {
    "collapsed": false
   }
  },
  {
   "cell_type": "markdown",
   "source": [
    "## NEURAL TREE\n",
    "\n",
    "### DATASET SBILANCIATO\n",
    "\n",
    "L'addestramento del neural tree ha impiegato *da calcolare* secondi."
   ],
   "metadata": {
    "collapsed": false
   }
  },
  {
   "cell_type": "code",
   "execution_count": null,
   "outputs": [],
   "source": [
    "nt = NeuralTree.load_model(f\"{EXPORTED_MODEL}/nt_unbalance.pkl\")\n",
    "\n",
    "train_pred = nt.make_predictions(X_train, verbose=1)\n",
    "test_pred = nt.make_predictions(X_test, verbose=1)"
   ],
   "metadata": {
    "collapsed": false
   }
  },
  {
   "cell_type": "markdown",
   "source": [
    "Il modello in fase di training ha ottenuto le seguenti performance"
   ],
   "metadata": {
    "collapsed": false
   }
  },
  {
   "cell_type": "code",
   "execution_count": null,
   "outputs": [],
   "source": [
    "print(classification_report(y_train, train_pred, target_names=target_names, digits=6))"
   ],
   "metadata": {
    "collapsed": false
   }
  },
  {
   "cell_type": "code",
   "execution_count": null,
   "outputs": [],
   "source": [
    "ConfusionMatrixDisplay(confusion_matrix(y_train_balanced, train_pred),\n",
    "                       display_labels=target_names).plot(cmap=\"Greens\", colorbar=False)"
   ],
   "metadata": {
    "collapsed": false
   }
  },
  {
   "cell_type": "markdown",
   "source": [
    "Il modello in fase di testing ha ottenuto le seguenti performance"
   ],
   "metadata": {
    "collapsed": false
   }
  },
  {
   "cell_type": "code",
   "execution_count": null,
   "outputs": [],
   "source": [
    "print(classification_report(y_test, test_pred, target_names=target_names, digits=6))"
   ],
   "metadata": {
    "collapsed": false
   }
  },
  {
   "cell_type": "code",
   "execution_count": null,
   "outputs": [],
   "source": [
    "ConfusionMatrixDisplay(confusion_matrix(y_test_balanced, test_pred),\n",
    "                       display_labels=target_names).plot(cmap=\"Greens\", colorbar=False)"
   ],
   "metadata": {
    "collapsed": false
   }
  },
  {
   "cell_type": "markdown",
   "source": [
    "### DATASET BILANCIATO\n",
    "\n",
    "L'addestramento del neural tree ha impiegato *da calcolare* secondi."
   ],
   "metadata": {
    "collapsed": false
   }
  },
  {
   "cell_type": "code",
   "execution_count": null,
   "outputs": [],
   "source": [
    "nt = NeuralTree.load_model(f\"{EXPORTED_MODEL}/nt_balance.pkl\")\n",
    "\n",
    "train_pred = nt.make_predictions(X_train, verbose=1)\n",
    "test_pred = nt.make_predictions(X_test, verbose=1)"
   ],
   "metadata": {
    "collapsed": false
   }
  },
  {
   "cell_type": "markdown",
   "source": [
    "Il modello in fase di training ha ottenuto le seguenti performance"
   ],
   "metadata": {
    "collapsed": false
   }
  },
  {
   "cell_type": "code",
   "execution_count": null,
   "outputs": [],
   "source": [
    "print(classification_report(y_train_balanced, train_pred, target_names=target_names, digits=6))"
   ],
   "metadata": {
    "collapsed": false
   }
  },
  {
   "cell_type": "code",
   "execution_count": null,
   "outputs": [],
   "source": [
    "ConfusionMatrixDisplay(confusion_matrix(y_train_balanced, train_pred),\n",
    "                       display_labels=target_names).plot(cmap=\"Reds\", colorbar=False)"
   ],
   "metadata": {
    "collapsed": false
   }
  },
  {
   "cell_type": "markdown",
   "source": [
    "Il modello in fase di testing ha ottenuto le seguenti performance"
   ],
   "metadata": {
    "collapsed": false
   }
  },
  {
   "cell_type": "code",
   "execution_count": null,
   "outputs": [],
   "source": [
    "print(classification_report(y_test_balanced, test_pred, target_names=target_names, digits=6))"
   ],
   "metadata": {
    "collapsed": false
   }
  },
  {
   "cell_type": "code",
   "execution_count": null,
   "outputs": [],
   "source": [
    "ConfusionMatrixDisplay(confusion_matrix(y_test_balanced, test_pred),\n",
    "                       display_labels=target_names).plot(cmap=\"Reds\", colorbar=False)"
   ],
   "metadata": {
    "collapsed": false
   }
  },
  {
   "cell_type": "markdown",
   "source": [
    "# VALUTAZIONE TEMPI DI PREVISIONE\n",
    "\n",
    "In questa sezione andremo a valutare quale degli algoritmi presi in considerazione risulta il più prestate nel momento della previsione.\n",
    "Per fare ciò prendiamo in considerazione il test set e vado a calcolare la media, trovando il tempo medio per eseguire una previsione.\n",
    "\n",
    "Questa fase viene ripetuta su dataset sbilanciato e bilanciato\n",
    "\n",
    "## DATASET SBILANCIATO"
   ],
   "metadata": {
    "collapsed": false
   }
  },
  {
   "cell_type": "code",
   "execution_count": 40,
   "outputs": [],
   "source": [
    "data = pd.read_csv(f\"{DATASET_PATH}/test.csv\", low_memory=False)\n",
    "\n",
    "X = data.loc[:, 'Src Ip': 'Idle Min']"
   ],
   "metadata": {
    "collapsed": false
   }
  },
  {
   "cell_type": "markdown",
   "source": [
    "### DECISION TREE"
   ],
   "metadata": {
    "collapsed": false
   }
  },
  {
   "cell_type": "code",
   "execution_count": 35,
   "outputs": [
    {
     "name": "stdout",
     "output_type": "stream",
     "text": [
      "Il tempo impiegato per la previsione per un singolo elemento, in media vale 4.931219650000815e-07 secondi\n"
     ]
    }
   ],
   "source": [
    "with open(f\"{EXPORTED_MODEL}/dt_unbalance.pkl\", 'rb') as file:\n",
    "    model = pkl.load(file)\n",
    "\n",
    "start_time = time.time()\n",
    "\n",
    "preds = model.predict(X)\n",
    "\n",
    "print(f\"Il tempo impiegato per la previsione per un singolo elemento, in media vale {(time.time() - start_time) / preds.shape[0]} secondi\")"
   ],
   "metadata": {
    "collapsed": false
   }
  },
  {
   "cell_type": "markdown",
   "source": [
    "### RANDOM FOREST"
   ],
   "metadata": {
    "collapsed": false
   }
  },
  {
   "cell_type": "code",
   "execution_count": 36,
   "outputs": [
    {
     "name": "stdout",
     "output_type": "stream",
     "text": [
      "Il tempo impiegato per la previsione per un singolo elemento, in media vale 5.8995609866868005e-06 secondi\n"
     ]
    }
   ],
   "source": [
    "with open(f\"{EXPORTED_MODEL}/rf_unbalance.pkl\", 'rb') as file:\n",
    "    model = pkl.load(file)\n",
    "\n",
    "start_time = time.time()\n",
    "\n",
    "preds = model.predict(X)\n",
    "\n",
    "print(f\"Il tempo impiegato per la previsione per un singolo elemento, in media vale {(time.time() - start_time) / preds.shape[0]} secondi\")"
   ],
   "metadata": {
    "collapsed": false
   }
  },
  {
   "cell_type": "markdown",
   "source": [
    "### K NEAREST NEIGHBORS"
   ],
   "metadata": {
    "collapsed": false
   }
  },
  {
   "cell_type": "code",
   "execution_count": 37,
   "outputs": [
    {
     "name": "stdout",
     "output_type": "stream",
     "text": [
      "Il tempo impiegato per la previsione per un singolo elemento, in media vale 0.0017623056137331897 secondi\n"
     ]
    }
   ],
   "source": [
    "with open(f\"{EXPORTED_MODEL}/knn_unbalance.pkl\", 'rb') as file:\n",
    "    model = pkl.load(file)\n",
    "\n",
    "start_time = time.time()\n",
    "\n",
    "preds = model.predict(X)\n",
    "\n",
    "print(f\"Il tempo impiegato per la previsione per un singolo elemento, in media vale {(time.time() - start_time) / preds.shape[0]} secondi\")"
   ],
   "metadata": {
    "collapsed": false
   }
  },
  {
   "cell_type": "markdown",
   "source": [
    "### NEURAL TREE"
   ],
   "metadata": {
    "collapsed": false
   }
  },
  {
   "cell_type": "code",
   "execution_count": null,
   "outputs": [],
   "source": [
    "with open(f\"{EXPORTED_MODEL}/nt_unbalance.pkl\", 'rb') as file:\n",
    "    model = pkl.load(file)\n",
    "\n",
    "start_time = time.time()\n",
    "\n",
    "preds = model.make_predictions(X)\n",
    "\n",
    "print(f\"Il tempo impiegato per la previsione per un singolo elemento, in media vale {(time.time() - start_time) / preds.shape[0]} secondi\")"
   ],
   "metadata": {
    "collapsed": false
   }
  },
  {
   "cell_type": "markdown",
   "source": [
    "## DATASET BILANCIATO"
   ],
   "metadata": {
    "collapsed": false
   }
  },
  {
   "cell_type": "code",
   "execution_count": 38,
   "outputs": [],
   "source": [
    "data = pd.read_csv(f\"{DATASET_PATH}/balanced_test.csv\", low_memory=False)\n",
    "\n",
    "X = data.loc[:, 'Src Ip': 'Idle Min']"
   ],
   "metadata": {
    "collapsed": false
   }
  },
  {
   "cell_type": "markdown",
   "source": [
    "### DECISION TREE"
   ],
   "metadata": {
    "collapsed": false
   }
  },
  {
   "cell_type": "code",
   "execution_count": 45,
   "outputs": [
    {
     "name": "stdout",
     "output_type": "stream",
     "text": [
      "Il tempo impiegato per la previsione per un singolo elemento, in media vale 2.492804561956299e-07 secondi\n"
     ]
    }
   ],
   "source": [
    "with open(f\"{EXPORTED_MODEL}/dt_balance.pkl\", 'rb') as file:\n",
    "    model = pkl.load(file)\n",
    "\n",
    "start_time = time.time()\n",
    "\n",
    "preds = model.predict(X)\n",
    "\n",
    "print(f\"Il tempo impiegato per la previsione per un singolo elemento, in media vale {(time.time() - start_time) / preds.shape[0]} secondi\")"
   ],
   "metadata": {
    "collapsed": false
   }
  },
  {
   "cell_type": "markdown",
   "source": [
    "### RANDOM FOREST"
   ],
   "metadata": {
    "collapsed": false
   }
  },
  {
   "cell_type": "code",
   "execution_count": 47,
   "outputs": [
    {
     "name": "stdout",
     "output_type": "stream",
     "text": [
      "Il tempo impiegato per la previsione per un singolo elemento, in media vale 6.433208174167311e-06 secondi\n"
     ]
    }
   ],
   "source": [
    "with open(f\"{EXPORTED_MODEL}/rf_balance.pkl\", 'rb') as file:\n",
    "    model = pkl.load(file)\n",
    "\n",
    "start_time = time.time()\n",
    "\n",
    "preds = model.predict(X)\n",
    "\n",
    "print(f\"Il tempo impiegato per la previsione per un singolo elemento, in media vale {(time.time() - start_time) / preds.shape[0]} secondi\")"
   ],
   "metadata": {
    "collapsed": false
   }
  },
  {
   "cell_type": "markdown",
   "source": [
    "### K NEAREST NEIGHBORS"
   ],
   "metadata": {
    "collapsed": false
   }
  },
  {
   "cell_type": "code",
   "execution_count": 48,
   "outputs": [
    {
     "name": "stdout",
     "output_type": "stream",
     "text": [
      "Il tempo impiegato per la previsione per un singolo elemento, in media vale 0.001781343965262052 secondi\n"
     ]
    }
   ],
   "source": [
    "with open(f\"{EXPORTED_MODEL}/knn_balance.pkl\", 'rb') as file:\n",
    "    model = pkl.load(file)\n",
    "\n",
    "start_time = time.time()\n",
    "\n",
    "preds = model.predict(X)\n",
    "\n",
    "print(f\"Il tempo impiegato per la previsione per un singolo elemento, in media vale {(time.time() - start_time) / preds.shape[0]} secondi\")"
   ],
   "metadata": {
    "collapsed": false
   }
  },
  {
   "cell_type": "markdown",
   "source": [
    "### NEURAL TREE"
   ],
   "metadata": {
    "collapsed": false
   }
  },
  {
   "cell_type": "code",
   "execution_count": null,
   "outputs": [],
   "source": [
    "with open(f\"{EXPORTED_MODEL}/nt_balance.pkl\", 'rb') as file:\n",
    "    model = pkl.load(file)\n",
    "\n",
    "start_time = time.time()\n",
    "\n",
    "preds = model.make_predictions(X)\n",
    "\n",
    "print(f\"Il tempo impiegato per la previsione per un singolo elemento, in media vale {(time.time() - start_time) / preds.shape[0]} secondi\")"
   ],
   "metadata": {
    "collapsed": false
   }
  },
  {
   "cell_type": "code",
   "execution_count": null,
   "outputs": [],
   "source": [
    "del data, model"
   ],
   "metadata": {
    "collapsed": false
   }
  }
 ],
 "metadata": {
  "kernelspec": {
   "display_name": "Python 3",
   "language": "python",
   "name": "python3"
  },
  "language_info": {
   "codemirror_mode": {
    "name": "ipython",
    "version": 2
   },
   "file_extension": ".py",
   "mimetype": "text/x-python",
   "name": "python",
   "nbconvert_exporter": "python",
   "pygments_lexer": "ipython2",
   "version": "2.7.6"
  }
 },
 "nbformat": 4,
 "nbformat_minor": 0
}
