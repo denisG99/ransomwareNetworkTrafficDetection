{
 "cells": [
  {
   "cell_type": "code",
   "execution_count": 1,
   "outputs": [],
   "source": [
    "#this chunk is necessary for importing correctly NeuralTree class in correct way\n",
    "import os\n",
    "import sys\n",
    "sys.path.insert(0, os.path.abspath('./model'))"
   ],
   "metadata": {
    "collapsed": false
   }
  },
  {
   "cell_type": "code",
   "execution_count": 3,
   "outputs": [],
   "source": [
    "import numpy as np\n",
    "import pandas as pd\n",
    "import os\n",
    "import matplotlib.pyplot as plt\n",
    "import time\n",
    "import pickle as pkl\n",
    "\n",
    "from sklearn.decomposition import PCA #features extraction\n",
    "from sklearn.model_selection import train_test_split\n",
    "from sklearn.preprocessing import StandardScaler #data standardization\n",
    "from sklearn.tree import DecisionTreeClassifier #decision tree\n",
    "from sklearn.tree import plot_tree #visualize a decision tree\n",
    "from sklearn.ensemble import RandomForestClassifier #random forest\n",
    "from sklearn.neighbors import KNeighborsClassifier\n",
    "from sklearn.metrics import classification_report, confusion_matrix, ConfusionMatrixDisplay #model evaluation metrics\n",
    "from sklearn.preprocessing import StandardScaler #data normalization\n",
    "\n",
    "from imblearn.over_sampling import SMOTE #package for using SMOTE for balance dataset\n",
    "\n",
    "from model.NeuralTree import NeuralTree\n",
    "\n",
    "%matplotlib inline"
   ],
   "metadata": {
    "collapsed": false
   }
  },
  {
   "cell_type": "code",
   "execution_count": 4,
   "outputs": [],
   "source": [
    "DATA_PATH_MALWARE = \"../csv/malware\"\n",
    "DATA_PATH_GOODWARE = \"../csv/goodware\"\n",
    "DATASET_PATH = \"../csv\"\n",
    "EXPORTED_MODEL = \"../exported_model\"\n",
    "col_names = ['Source IP', 'Source Port', 'Destination IP', 'Destination Port', 'Protocol', 'Timestamp',\n",
    "             'Flow Duration', 'Total Fwd Packets', 'Total Backward Packets', 'Total Length of Fwd Packets',\n",
    "             'Total Length of Bwd Packets', 'Fwd Packet Length Max', 'Fwd Packet Length Min', 'Fwd Packet Length Mean',\n",
    "             'Fwd Packet Length Std', 'Bwd Packet Length Max', 'Bwd Packet Length Min', 'Bwd Packet Length Mean',\n",
    "             'Bwd Packet Length Std', 'Flow Bytes/s', 'Flow Packets/s', 'Flow IAT Mean', 'Flow IAT Std',\n",
    "             'Flow IAT Max', 'Flow IAT Min', 'Fwd IAT Total', 'Fwd IAT Mean', 'Fwd IAT Std', 'Fwd IAT Max',\n",
    "             'Fwd IAT Min', 'Bwd IAT Total', 'Bwd IAT Mean', 'Bwd IAT Std', 'Bwd IAT Max', 'Bwd IAT Min',\n",
    "             'Fwd PSH Flags', 'Bwd PSH Flags', 'Fwd URG Flags', 'Bwd URG Flags', 'Fwd Header Length',\n",
    "             'Bwd Header Length', 'Fwd Packets/s', 'Bwd Packets/s', 'Min Packet Length', 'Max Packet Length',\n",
    "             'Packet Length Mean', 'Packet Length Std', 'Packet Length Variance', 'FIN Flag Count', 'SYN Flag Count',\n",
    "             'RST Flag Count', 'PSH Flag Count', 'ACK Flag Count', 'URG Flag Count', 'CWE Flag Count',\n",
    "             'ECE Flag Count', 'Down/Up Ratio', 'Average Packet Size', 'Avg Fwd Segment Size', 'Avg Bwd Segment Size',\n",
    "             'Fwd Header Length_1', 'Fwd Avg Bytes/Bulk', 'Fwd Avg Packets/Bulk', 'Fwd Avg Bulk Rate',\n",
    "             'Bwd Avg Bytes/Bulk', 'Bwd Avg Packets/Bulk', 'Bwd Avg Bulk Rate', 'Subflow Fwd Packets',\n",
    "             'Subflow Fwd Bytes', 'Subflow Bwd Packets', 'Subflow Bwd Bytes', 'Init_Win_bytes_forward',\n",
    "             'Init_Win_bytes_backward', 'act_data_pkt_fwd', 'min_seg_size_forward', 'Active Mean', 'Active Std',\n",
    "             'Active Max', 'Active Min', 'Idle Mean', 'Idle Std', 'Idle Max', 'Idle Min']"
   ],
   "metadata": {
    "collapsed": false
   }
  },
  {
   "cell_type": "markdown",
   "source": [
    "# COSTRUZIONE DATASET\n",
    "* avendo il dataset scomposto in molteplici *csv* vado a unirli in uno singolo, almeno per un primo momento, distinguendo i files contenti traffico benevolo e malevolo;\n",
    "* rinomino i campi secondo le seguenti caratteristiche:\n",
    "    * parole separate da spazio anzichè da '_';\n",
    "    * prima lettera di ogni parola sarà maiuscola.\n",
    "* a ogni record gli accosto un codice che identifica univocamnete il Sample che ha la seguete struttura: *{G,M}\\_N*, dove:\n",
    "    * **G** ed **M** indicano rispettivamente goodware e malware;\n",
    "    * **N** indica il numero del sample preso in considerazione"
   ],
   "metadata": {
    "collapsed": false
   }
  },
  {
   "cell_type": "code",
   "execution_count": 38,
   "metadata": {
    "collapsed": true
   },
   "outputs": [],
   "source": [
    "def __change_name_and_order(data):\n",
    "    new_names = list()\n",
    "    #data = pd.read_csv(csv_path)\n",
    "\n",
    "    for col in data.columns:\n",
    "        new_name = col.split('_')\n",
    "        new_names.append(\" \".join(new_name).title()) #funzione title trasforma la prima lettera di ogni parola in maiuscolo (capitalizza)\n",
    "        #print(new_name)\n",
    "    data.columns = new_names\n",
    "\n",
    "    #riordinamento delle features\n",
    "    data = data.loc[:, [\"Src Ip\", \"Src Port\", \"Dst Ip\", \"Dst Port\", \"Protocol\", \"Timestamp\", \"Flow Duration\", \"Tot Fwd Pkts\",\n",
    "           \"Tot Bwd Pkts\", \"Totlen Fwd Pkts\", \"Totlen Bwd Pkts\", \"Fwd Pkt Len Max\", \"Fwd Pkt Len Min\", \"Fwd Pkt Len Mean\",\n",
    "           \"Fwd Pkt Len Std\", \"Bwd Pkt Len Max\", \"Bwd Pkt Len Min\", \"Bwd Pkt Len Mean\", \"Bwd Pkt Len Std\", \"Flow Byts S\",\n",
    "           \"Flow Pkts S\", \"Flow Iat Mean\", \"Flow Iat Std\", \"Flow Iat Max\", \"Flow Iat Min\", \"Fwd Iat Tot\", \"Fwd Iat Mean\",\n",
    "           \"Fwd Iat Std\", \"Fwd Iat Max\", \"Fwd Iat Min\", \"Bwd Iat Tot\", \"Bwd Iat Mean\", \"Bwd Iat Std\", \"Bwd Iat Max\",\n",
    "           \"Bwd Iat Min\",\"Fwd Psh Flags\", \"Bwd Psh Flags\", \"Fwd Urg Flags\", \"Bwd Urg Flags\",\n",
    "           \"Fwd Header Len\", \"Bwd Header Len\", \"Fwd Pkts S\", \"Bwd Pkts S\", \"Pkt Len Min\", \"Pkt Len Max\", \"Pkt Len Mean\",\n",
    "           \"Pkt Len Std\", \"Pkt Len Var\", \"Fin Flag Cnt\", \"Syn Flag Cnt\", \"Rst Flag Cnt\", \"Psh Flag Cnt\", \"Ack Flag Cnt\",\n",
    "           \"Urg Flag Cnt\", \"Cwe Flag Count\", \"Ece Flag Cnt\", \"Down Up Ratio\", \"Pkt Size Avg\", \"Fwd Seg Size Avg\",\n",
    "           \"Bwd Seg Size Avg\", \"Fwd Header Len\", \"Fwd Byts B Avg\", \"Fwd Pkts B Avg\", \"Fwd Blk Rate Avg\", \"Bwd Byts B Avg\",\n",
    "           \"Bwd Pkts B Avg\", \"Bwd Blk Rate Avg\", \"Subflow Fwd Pkts\", \"Subflow Fwd Byts\", \"Subflow Bwd Pkts\",\n",
    "           \"Subflow Bwd Byts\", \"Init Fwd Win Byts\", \"Init Bwd Win Byts\", \"Fwd Act Data Pkts\", \"Fwd Seg Size Min\",\n",
    "           \"Active Mean\", \"Active Std\", \"Active Max\", \"Active Min\", \"Idle Mean\", \"Idle Std\", \"Idle Max\", \"Idle Min\"]]\n",
    "\n",
    "    return data\n",
    "\n",
    "def csv_merging(dest_df, files_path):\n",
    "    id_num = 1\n",
    "\n",
    "    for csv_file in os.listdir(files_path):\n",
    "        if not (csv_file == \".DS_Store\" or \"Monday-WorkingHours\" in csv_file):\n",
    "            print(csv_file)\n",
    "            data = pd.read_csv(f\"{files_path}/{csv_file}\", encoding='utf-8', sep=',', engine='python')\n",
    "\n",
    "            data = __change_name_and_order(data)\n",
    "\n",
    "            if \"malware\" in files_path:\n",
    "                data[\"Sample ID\"] = f\"M_{id_num}\"\n",
    "            else:\n",
    "                data[\"Sample ID\"] = f\"G_{id_num}\"\n",
    "            id_num += 1\n",
    "\n",
    "            dest_df = pd.concat([dest_df, data])\n",
    "\n",
    "    print('\\n')\n",
    "\n",
    "    return dest_df"
   ]
  },
  {
   "cell_type": "code",
   "execution_count": null,
   "outputs": [],
   "source": [
    "csv_merging(pd.DataFrame(), DATA_PATH_MALWARE).to_csv(f\"{DATASET_PATH}/malware.csv\", index=False)\n",
    "csv_merging(pd.DataFrame(), DATA_PATH_GOODWARE).to_csv(f\"{DATASET_PATH}/goodware.csv\", index=False)"
   ],
   "metadata": {
    "collapsed": false,
    "pycharm": {
     "is_executing": true
    }
   }
  },
  {
   "cell_type": "markdown",
   "source": [
    "Per problemi lo script mostrato sopra per *Monday-WorkingHours.csv* non funzione quindi procedo a una procedura ad hoc."
   ],
   "metadata": {
    "collapsed": false
   }
  },
  {
   "cell_type": "code",
   "execution_count": 40,
   "outputs": [],
   "source": [
    "goodware = pd.read_csv(f\"{DATASET_PATH}/goodware.csv\", low_memory=False)\n",
    "monday = pd.read_csv(f\"{DATA_PATH_GOODWARE}/Monday-WorkingHours.csv\", low_memory=False)\n",
    "\n",
    "monday[\"Sample ID\"] = \"G_51\"\n",
    "monday.columns = goodware.columns\n",
    "\n",
    "pd.concat([goodware, monday]).to_csv(f\"{DATASET_PATH}/goodware.csv\", index=False)\n",
    "\n",
    "del goodware, monday"
   ],
   "metadata": {
    "collapsed": false
   }
  },
  {
   "cell_type": "markdown",
   "source": [
    "* eseguo labelling dei dati (MALWARE/BENIGN)"
   ],
   "metadata": {
    "collapsed": false
   }
  },
  {
   "cell_type": "code",
   "execution_count": 41,
   "outputs": [],
   "source": [
    "for csv in os.listdir(DATASET_PATH):\n",
    "    if csv.endswith(\".csv\"):\n",
    "        df = pd.read_csv(f\"{DATASET_PATH}/{csv}\", low_memory=False)\n",
    "\n",
    "        if \"malware\" in csv:\n",
    "            df['Label'] = \"MALWARE\"\n",
    "        else:\n",
    "            df['Label'] = \"BENIGN\"\n",
    "\n",
    "        df.to_csv(f\"{DATASET_PATH}/{csv}\", index=False)"
   ],
   "metadata": {
    "collapsed": false
   }
  },
  {
   "cell_type": "markdown",
   "source": [
    "* unisco i due dataset creati al primo punto, in un singolo dataset\n",
    "\n",
    "# NORMALIZZAZIONE DATASET\n",
    "* accstare porta e IP sorgente (analogamete per la destinarione);\n",
    "* eliminare punto da stringa che indica l'IP;\n",
    "* cambiare tipi delle features, dove necessario:\n",
    "\n",
    "Ultimi due passi sono necessari perchè algoritmi di ML accettano solo valori numerici."
   ],
   "metadata": {
    "collapsed": false
   }
  },
  {
   "cell_type": "code",
   "execution_count": 47,
   "outputs": [],
   "source": [
    "def normalize_ip(csv_path):\n",
    "    data = pd.read_csv(csv_path, low_memory=False)\n",
    "\n",
    "    data.iloc[:, 0] = data.iloc[:, 0].map(lambda ip : __string_to_integer_ip(ip))\n",
    "    data.iloc[:, 2] = data.iloc[:, 2].map(lambda ip : __string_to_integer_ip(ip))\n",
    "\n",
    "    data.to_csv(csv_path, index=False)\n",
    "\n",
    "def __string_to_integer_ip(ip):\n",
    "    if not isinstance(ip, int):\n",
    "        splitted_ip = ip.split('.')\n",
    "\n",
    "        return \"\".join(splitted_ip)\n",
    "    return ip\n",
    "\n",
    "def change_features_type(csv_path, features_types):\n",
    "    data = pd.read_csv(csv_path, low_memory=False)\n",
    "\n",
    "    for i in range(data.shape[1]):\n",
    "        data.iloc[:, i].astype(features_types[i])\n",
    "\n",
    "    data.to_csv(csv_path, index=False)"
   ],
   "metadata": {
    "collapsed": false
   }
  },
  {
   "cell_type": "markdown",
   "source": [
    "Converto il formato stringa dell'indirizzo IP (aaa.bbb.ccc.ddd) in un formato comprensibile all'algoritmo di machine learning, cioè un intero nel seguente formato **aaabbbcccddd**."
   ],
   "metadata": {
    "collapsed": false
   }
  },
  {
   "cell_type": "code",
   "execution_count": 48,
   "outputs": [],
   "source": [
    "normalize_ip(f\"{DATASET_PATH}/malware.csv\")\n",
    "normalize_ip(f\"{DATASET_PATH}/goodware.csv\")"
   ],
   "metadata": {
    "collapsed": false
   }
  },
  {
   "cell_type": "markdown",
   "source": [
    "Unione dataset goodware e malware in un unico file in formato csv"
   ],
   "metadata": {
    "collapsed": false
   }
  },
  {
   "cell_type": "code",
   "execution_count": 45,
   "outputs": [],
   "source": [
    "df_malware = pd.read_csv(f\"{DATASET_PATH}/malware.csv\", low_memory=False)\n",
    "df_goodware = pd.read_csv(f\"{DATASET_PATH}/goodware.csv\", low_memory=False)\n",
    "\n",
    "pd.concat([df_malware, df_goodware]).to_csv(f\"{DATASET_PATH}/dataset.csv\", index=False)\n",
    "\n",
    "del df_malware, df_goodware"
   ],
   "metadata": {
    "collapsed": false
   }
  },
  {
   "cell_type": "code",
   "execution_count": 46,
   "outputs": [],
   "source": [
    "dataset = pd.read_csv(f\"{DATASET_PATH}/dataset.csv\", low_memory=False)"
   ],
   "metadata": {
    "collapsed": false
   }
  },
  {
   "cell_type": "markdown",
   "source": [
    "Convertire i timestamp in formato numerico"
   ],
   "metadata": {
    "collapsed": false
   }
  },
  {
   "cell_type": "code",
   "execution_count": 47,
   "outputs": [],
   "source": [
    "unix_ts = pd.to_datetime(dataset['Timestamp']).view('int64')\n",
    "\n",
    "dataset['Timestamp'] = unix_ts\n",
    "\n",
    "del unix_ts"
   ],
   "metadata": {
    "collapsed": false
   }
  },
  {
   "cell_type": "markdown",
   "source": [
    "Creare flowID (IPscr, portScr, IDdst, portDst, Protocollo)"
   ],
   "metadata": {
    "collapsed": false
   }
  },
  {
   "cell_type": "code",
   "execution_count": 48,
   "outputs": [],
   "source": [
    "dataset['FlowID'] = dataset['Src Ip'].map(str) + \"_\"+ dataset['Src Port'].map(str) + \"_\" + dataset['Dst Ip'].map(str) + \"_\"  + dataset['Dst Port'].map(str) + \"_\" + dataset['Protocol'].map(str)\n",
    "\n",
    "dataset.set_index('FlowID').to_csv(f\"{DATASET_PATH}/dataset.csv\")"
   ],
   "metadata": {
    "collapsed": false
   }
  },
  {
   "cell_type": "markdown",
   "source": [
    "Convertire le etichette in formato numerico: (MALWARE -> 1.0 e GOODWARE -> 0.0)"
   ],
   "metadata": {
    "collapsed": false
   }
  },
  {
   "cell_type": "code",
   "execution_count": 49,
   "outputs": [],
   "source": [
    "dataset['Label'].replace([\"MALWARE\", \"BENIGN\"], [1.0, 0.0], inplace=True)\n",
    "\n",
    "dataset.to_csv(f\"{DATASET_PATH}/dataset.csv\", index=False)"
   ],
   "metadata": {
    "collapsed": false
   }
  },
  {
   "cell_type": "code",
   "execution_count": 50,
   "outputs": [],
   "source": [
    "del dataset"
   ],
   "metadata": {
    "collapsed": false
   }
  },
  {
   "cell_type": "markdown",
   "source": [
    "# FEATURES EXTRACTION"
   ],
   "metadata": {
    "collapsed": false
   }
  },
  {
   "cell_type": "code",
   "execution_count": 5,
   "outputs": [],
   "source": [
    "dataset = pd.read_csv(f\"{DATASET_PATH}/dataset.csv\", low_memory=False)"
   ],
   "metadata": {
    "collapsed": false
   }
  },
  {
   "cell_type": "markdown",
   "source": [
    "In linea generale il processo di feature extraction consiste nel scegliere le migliori features riducendo così la dimensionalità del dataset per fare ciò va do a sfruttare la **PCA (Principal Componenet Analyis)** fornita da *scikit-learn*.\n",
    "\n",
    "Prima di effettuare la features extraction sopra descritta necessito di effettuare un processo di \"bonifica\" del dataset."
   ],
   "metadata": {
    "collapsed": false
   }
  },
  {
   "cell_type": "code",
   "execution_count": null,
   "outputs": [],
   "source": [
    "dataset[dataset.isin(['78,125'])].stack()"
   ],
   "metadata": {
    "collapsed": false,
    "pycharm": {
     "is_executing": true
    }
   }
  },
  {
   "cell_type": "markdown",
   "source": [
    "*Flow Pkts S* in linea generale contiene valori *double*, ma nel caso sopra citato contiene una stringa; per questo motivo vado a convertirlo in double."
   ],
   "metadata": {
    "collapsed": false
   }
  },
  {
   "cell_type": "code",
   "execution_count": 6,
   "outputs": [
    {
     "data": {
      "text/plain": "78.125"
     },
     "execution_count": 6,
     "metadata": {},
     "output_type": "execute_result"
    }
   ],
   "source": [
    "dataset.at[1642652, 'Flow Pkts S'] = 78.125\n",
    "\n",
    "dataset.loc[1642652, 'Flow Pkts S']"
   ],
   "metadata": {
    "collapsed": false
   }
  },
  {
   "cell_type": "markdown",
   "source": [
    "Controllo se sono presenti valori *NaN* e *Inf*"
   ],
   "metadata": {
    "collapsed": false
   }
  },
  {
   "cell_type": "code",
   "execution_count": 7,
   "outputs": [
    {
     "data": {
      "text/plain": "89"
     },
     "execution_count": 7,
     "metadata": {},
     "output_type": "execute_result"
    }
   ],
   "source": [
    "#conteggio valori NaN\n",
    "dataset.isnull().sum().sum()"
   ],
   "metadata": {
    "collapsed": false
   }
  },
  {
   "cell_type": "code",
   "execution_count": 8,
   "outputs": [
    {
     "data": {
      "text/plain": "Src Ip       0\nSrc Port     0\nDst Ip       0\nDst Port     0\nProtocol     0\n            ..\nIdle Max     0\nIdle Min     0\nSample ID    0\nLabel        0\nFlowID       0\nLength: 86, dtype: int64"
     },
     "execution_count": 8,
     "metadata": {},
     "output_type": "execute_result"
    }
   ],
   "source": [
    "#conteggio valori Inf\n",
    "dataset[dataset == np.inf].count()"
   ],
   "metadata": {
    "collapsed": false
   }
  },
  {
   "cell_type": "markdown",
   "source": [
    "Visto la presenza di valori NaN e Inf, per semplicità vado a cancellarli."
   ],
   "metadata": {
    "collapsed": false
   }
  },
  {
   "cell_type": "code",
   "execution_count": 9,
   "outputs": [
    {
     "name": "stdout",
     "output_type": "stream",
     "text": [
      "Before NaN & Inf deletion: (1687394, 86)\n",
      "After NaN & Inf deletion: (1686932, 86)\n"
     ]
    }
   ],
   "source": [
    "print(f\"Before NaN & Inf deletion: {dataset.shape}\")\n",
    "\n",
    "with pd.option_context('mode.use_inf_as_na', True):\n",
    "  dataset.dropna(inplace=True)\n",
    "\n",
    "print(f\"After NaN & Inf deletion: {dataset.shape}\")"
   ],
   "metadata": {
    "collapsed": false
   }
  },
  {
   "cell_type": "code",
   "execution_count": 10,
   "outputs": [],
   "source": [
    "dataset.to_csv(f\"{DATASET_PATH}/dataset.csv\", index=False)"
   ],
   "metadata": {
    "collapsed": false
   }
  },
  {
   "cell_type": "markdown",
   "source": [
    "Prima di effettuare la features extraction effettiva, tramite la PCA, vado ad analizzare come correlano le features"
   ],
   "metadata": {
    "collapsed": false
   }
  },
  {
   "cell_type": "code",
   "execution_count": 15,
   "outputs": [
    {
     "name": "stderr",
     "output_type": "stream",
     "text": [
      "/var/folders/4y/z5w7pprd3bxb9r0f1rrcqmw80000gn/T/ipykernel_52577/2392947209.py:2: FutureWarning: The default value of numeric_only in DataFrame.corr is deprecated. In a future version, it will default to False. Select only valid columns or specify the value of numeric_only to silence this warning.\n",
      "  plt.matshow(dataset.corr(), fignum=f.number)\n"
     ]
    },
    {
     "data": {
      "text/plain": "<Figure size 1368x1080 with 2 Axes>",
      "image/png": "[encoded data removed]"
     },
     "metadata": {
      "needs_background": "light"
     },
     "output_type": "display_data"
    }
   ],
   "source": [
    "f = plt.figure(figsize=(19, 15))\n",
    "plt.matshow(dataset.corr(), fignum=f.number)\n",
    "plt.xticks(range(dataset.select_dtypes(['number']).shape[1]), dataset.select_dtypes(['number']).columns, fontsize=10, rotation=90)\n",
    "plt.yticks(range(dataset.select_dtypes(['number']).shape[1]), dataset.select_dtypes(['number']).columns, fontsize=10)\n",
    "cb = plt.colorbar()\n",
    "cb.ax.tick_params(labelsize=14)\n",
    "plt.title('Correlation Matrix', fontsize=16);"
   ],
   "metadata": {
    "collapsed": false
   }
  },
  {
   "cell_type": "markdown",
   "source": [
    "La heatmap descrive la matrice di correlazione e guardandola si nota che ci sono alcune coppie di features che correlano tra di loro anche con valori molto alti (zone in giallo, esclusa la diagonale, e verde), perciò ha senso calcolare la PCA.\n",
    "\n",
    "Una particolarità della matrice di correlazione qui sopra è il fatto che ci sono dei valori NaN o comunque non si è riuscite a calcolare la correlazione tra le features. Le features da tenere in considerazione sono: *Bwd Psh Flags*, *Fwd Urg Flags*, *Bwd Urg Flags* e *Cwe Flag Count*."
   ],
   "metadata": {
    "collapsed": false
   }
  },
  {
   "cell_type": "code",
   "execution_count": 23,
   "outputs": [
    {
     "ename": "FileNotFoundError",
     "evalue": "[Errno 2] No such file or directory: '../csv/dataset.csv'",
     "output_type": "error",
     "traceback": [
      "\u001B[1;31m---------------------------------------------------------------------------\u001B[0m",
      "\u001B[1;31mFileNotFoundError\u001B[0m                         Traceback (most recent call last)",
      "Cell \u001B[1;32mIn[23], line 1\u001B[0m\n\u001B[1;32m----> 1\u001B[0m dataset \u001B[38;5;241m=\u001B[39m \u001B[43mpd\u001B[49m\u001B[38;5;241;43m.\u001B[39;49m\u001B[43mread_csv\u001B[49m\u001B[43m(\u001B[49m\u001B[38;5;124;43mf\u001B[39;49m\u001B[38;5;124;43m\"\u001B[39;49m\u001B[38;5;132;43;01m{\u001B[39;49;00m\u001B[43mDATASET_PATH\u001B[49m\u001B[38;5;132;43;01m}\u001B[39;49;00m\u001B[38;5;124;43m/dataset.csv\u001B[39;49m\u001B[38;5;124;43m\"\u001B[39;49m\u001B[43m,\u001B[49m\u001B[43m \u001B[49m\u001B[43mlow_memory\u001B[49m\u001B[38;5;241;43m=\u001B[39;49m\u001B[43m \u001B[49m\u001B[38;5;28;43;01mFalse\u001B[39;49;00m\u001B[43m)\u001B[49m\n",
      "File \u001B[1;32m~\\miniconda3\\envs\\tf\\lib\\site-packages\\pandas\\util\\_decorators.py:211\u001B[0m, in \u001B[0;36mdeprecate_kwarg.<locals>._deprecate_kwarg.<locals>.wrapper\u001B[1;34m(*args, **kwargs)\u001B[0m\n\u001B[0;32m    209\u001B[0m     \u001B[38;5;28;01melse\u001B[39;00m:\n\u001B[0;32m    210\u001B[0m         kwargs[new_arg_name] \u001B[38;5;241m=\u001B[39m new_arg_value\n\u001B[1;32m--> 211\u001B[0m \u001B[38;5;28;01mreturn\u001B[39;00m func(\u001B[38;5;241m*\u001B[39margs, \u001B[38;5;241m*\u001B[39m\u001B[38;5;241m*\u001B[39mkwargs)\n",
      "File \u001B[1;32m~\\miniconda3\\envs\\tf\\lib\\site-packages\\pandas\\util\\_decorators.py:331\u001B[0m, in \u001B[0;36mdeprecate_nonkeyword_arguments.<locals>.decorate.<locals>.wrapper\u001B[1;34m(*args, **kwargs)\u001B[0m\n\u001B[0;32m    325\u001B[0m \u001B[38;5;28;01mif\u001B[39;00m \u001B[38;5;28mlen\u001B[39m(args) \u001B[38;5;241m>\u001B[39m num_allow_args:\n\u001B[0;32m    326\u001B[0m     warnings\u001B[38;5;241m.\u001B[39mwarn(\n\u001B[0;32m    327\u001B[0m         msg\u001B[38;5;241m.\u001B[39mformat(arguments\u001B[38;5;241m=\u001B[39m_format_argument_list(allow_args)),\n\u001B[0;32m    328\u001B[0m         \u001B[38;5;167;01mFutureWarning\u001B[39;00m,\n\u001B[0;32m    329\u001B[0m         stacklevel\u001B[38;5;241m=\u001B[39mfind_stack_level(),\n\u001B[0;32m    330\u001B[0m     )\n\u001B[1;32m--> 331\u001B[0m \u001B[38;5;28;01mreturn\u001B[39;00m func(\u001B[38;5;241m*\u001B[39margs, \u001B[38;5;241m*\u001B[39m\u001B[38;5;241m*\u001B[39mkwargs)\n",
      "File \u001B[1;32m~\\miniconda3\\envs\\tf\\lib\\site-packages\\pandas\\io\\parsers\\readers.py:950\u001B[0m, in \u001B[0;36mread_csv\u001B[1;34m(filepath_or_buffer, sep, delimiter, header, names, index_col, usecols, squeeze, prefix, mangle_dupe_cols, dtype, engine, converters, true_values, false_values, skipinitialspace, skiprows, skipfooter, nrows, na_values, keep_default_na, na_filter, verbose, skip_blank_lines, parse_dates, infer_datetime_format, keep_date_col, date_parser, dayfirst, cache_dates, iterator, chunksize, compression, thousands, decimal, lineterminator, quotechar, quoting, doublequote, escapechar, comment, encoding, encoding_errors, dialect, error_bad_lines, warn_bad_lines, on_bad_lines, delim_whitespace, low_memory, memory_map, float_precision, storage_options)\u001B[0m\n\u001B[0;32m    935\u001B[0m kwds_defaults \u001B[38;5;241m=\u001B[39m _refine_defaults_read(\n\u001B[0;32m    936\u001B[0m     dialect,\n\u001B[0;32m    937\u001B[0m     delimiter,\n\u001B[1;32m   (...)\u001B[0m\n\u001B[0;32m    946\u001B[0m     defaults\u001B[38;5;241m=\u001B[39m{\u001B[38;5;124m\"\u001B[39m\u001B[38;5;124mdelimiter\u001B[39m\u001B[38;5;124m\"\u001B[39m: \u001B[38;5;124m\"\u001B[39m\u001B[38;5;124m,\u001B[39m\u001B[38;5;124m\"\u001B[39m},\n\u001B[0;32m    947\u001B[0m )\n\u001B[0;32m    948\u001B[0m kwds\u001B[38;5;241m.\u001B[39mupdate(kwds_defaults)\n\u001B[1;32m--> 950\u001B[0m \u001B[38;5;28;01mreturn\u001B[39;00m \u001B[43m_read\u001B[49m\u001B[43m(\u001B[49m\u001B[43mfilepath_or_buffer\u001B[49m\u001B[43m,\u001B[49m\u001B[43m \u001B[49m\u001B[43mkwds\u001B[49m\u001B[43m)\u001B[49m\n",
      "File \u001B[1;32m~\\miniconda3\\envs\\tf\\lib\\site-packages\\pandas\\io\\parsers\\readers.py:605\u001B[0m, in \u001B[0;36m_read\u001B[1;34m(filepath_or_buffer, kwds)\u001B[0m\n\u001B[0;32m    602\u001B[0m _validate_names(kwds\u001B[38;5;241m.\u001B[39mget(\u001B[38;5;124m\"\u001B[39m\u001B[38;5;124mnames\u001B[39m\u001B[38;5;124m\"\u001B[39m, \u001B[38;5;28;01mNone\u001B[39;00m))\n\u001B[0;32m    604\u001B[0m \u001B[38;5;66;03m# Create the parser.\u001B[39;00m\n\u001B[1;32m--> 605\u001B[0m parser \u001B[38;5;241m=\u001B[39m TextFileReader(filepath_or_buffer, \u001B[38;5;241m*\u001B[39m\u001B[38;5;241m*\u001B[39mkwds)\n\u001B[0;32m    607\u001B[0m \u001B[38;5;28;01mif\u001B[39;00m chunksize \u001B[38;5;129;01mor\u001B[39;00m iterator:\n\u001B[0;32m    608\u001B[0m     \u001B[38;5;28;01mreturn\u001B[39;00m parser\n",
      "File \u001B[1;32m~\\miniconda3\\envs\\tf\\lib\\site-packages\\pandas\\io\\parsers\\readers.py:1442\u001B[0m, in \u001B[0;36mTextFileReader.__init__\u001B[1;34m(self, f, engine, **kwds)\u001B[0m\n\u001B[0;32m   1439\u001B[0m     \u001B[38;5;28mself\u001B[39m\u001B[38;5;241m.\u001B[39moptions[\u001B[38;5;124m\"\u001B[39m\u001B[38;5;124mhas_index_names\u001B[39m\u001B[38;5;124m\"\u001B[39m] \u001B[38;5;241m=\u001B[39m kwds[\u001B[38;5;124m\"\u001B[39m\u001B[38;5;124mhas_index_names\u001B[39m\u001B[38;5;124m\"\u001B[39m]\n\u001B[0;32m   1441\u001B[0m \u001B[38;5;28mself\u001B[39m\u001B[38;5;241m.\u001B[39mhandles: IOHandles \u001B[38;5;241m|\u001B[39m \u001B[38;5;28;01mNone\u001B[39;00m \u001B[38;5;241m=\u001B[39m \u001B[38;5;28;01mNone\u001B[39;00m\n\u001B[1;32m-> 1442\u001B[0m \u001B[38;5;28mself\u001B[39m\u001B[38;5;241m.\u001B[39m_engine \u001B[38;5;241m=\u001B[39m \u001B[38;5;28;43mself\u001B[39;49m\u001B[38;5;241;43m.\u001B[39;49m\u001B[43m_make_engine\u001B[49m\u001B[43m(\u001B[49m\u001B[43mf\u001B[49m\u001B[43m,\u001B[49m\u001B[43m \u001B[49m\u001B[38;5;28;43mself\u001B[39;49m\u001B[38;5;241;43m.\u001B[39;49m\u001B[43mengine\u001B[49m\u001B[43m)\u001B[49m\n",
      "File \u001B[1;32m~\\miniconda3\\envs\\tf\\lib\\site-packages\\pandas\\io\\parsers\\readers.py:1735\u001B[0m, in \u001B[0;36mTextFileReader._make_engine\u001B[1;34m(self, f, engine)\u001B[0m\n\u001B[0;32m   1733\u001B[0m     \u001B[38;5;28;01mif\u001B[39;00m \u001B[38;5;124m\"\u001B[39m\u001B[38;5;124mb\u001B[39m\u001B[38;5;124m\"\u001B[39m \u001B[38;5;129;01mnot\u001B[39;00m \u001B[38;5;129;01min\u001B[39;00m mode:\n\u001B[0;32m   1734\u001B[0m         mode \u001B[38;5;241m+\u001B[39m\u001B[38;5;241m=\u001B[39m \u001B[38;5;124m\"\u001B[39m\u001B[38;5;124mb\u001B[39m\u001B[38;5;124m\"\u001B[39m\n\u001B[1;32m-> 1735\u001B[0m \u001B[38;5;28mself\u001B[39m\u001B[38;5;241m.\u001B[39mhandles \u001B[38;5;241m=\u001B[39m \u001B[43mget_handle\u001B[49m\u001B[43m(\u001B[49m\n\u001B[0;32m   1736\u001B[0m \u001B[43m    \u001B[49m\u001B[43mf\u001B[49m\u001B[43m,\u001B[49m\n\u001B[0;32m   1737\u001B[0m \u001B[43m    \u001B[49m\u001B[43mmode\u001B[49m\u001B[43m,\u001B[49m\n\u001B[0;32m   1738\u001B[0m \u001B[43m    \u001B[49m\u001B[43mencoding\u001B[49m\u001B[38;5;241;43m=\u001B[39;49m\u001B[38;5;28;43mself\u001B[39;49m\u001B[38;5;241;43m.\u001B[39;49m\u001B[43moptions\u001B[49m\u001B[38;5;241;43m.\u001B[39;49m\u001B[43mget\u001B[49m\u001B[43m(\u001B[49m\u001B[38;5;124;43m\"\u001B[39;49m\u001B[38;5;124;43mencoding\u001B[39;49m\u001B[38;5;124;43m\"\u001B[39;49m\u001B[43m,\u001B[49m\u001B[43m \u001B[49m\u001B[38;5;28;43;01mNone\u001B[39;49;00m\u001B[43m)\u001B[49m\u001B[43m,\u001B[49m\n\u001B[0;32m   1739\u001B[0m \u001B[43m    \u001B[49m\u001B[43mcompression\u001B[49m\u001B[38;5;241;43m=\u001B[39;49m\u001B[38;5;28;43mself\u001B[39;49m\u001B[38;5;241;43m.\u001B[39;49m\u001B[43moptions\u001B[49m\u001B[38;5;241;43m.\u001B[39;49m\u001B[43mget\u001B[49m\u001B[43m(\u001B[49m\u001B[38;5;124;43m\"\u001B[39;49m\u001B[38;5;124;43mcompression\u001B[39;49m\u001B[38;5;124;43m\"\u001B[39;49m\u001B[43m,\u001B[49m\u001B[43m \u001B[49m\u001B[38;5;28;43;01mNone\u001B[39;49;00m\u001B[43m)\u001B[49m\u001B[43m,\u001B[49m\n\u001B[0;32m   1740\u001B[0m \u001B[43m    \u001B[49m\u001B[43mmemory_map\u001B[49m\u001B[38;5;241;43m=\u001B[39;49m\u001B[38;5;28;43mself\u001B[39;49m\u001B[38;5;241;43m.\u001B[39;49m\u001B[43moptions\u001B[49m\u001B[38;5;241;43m.\u001B[39;49m\u001B[43mget\u001B[49m\u001B[43m(\u001B[49m\u001B[38;5;124;43m\"\u001B[39;49m\u001B[38;5;124;43mmemory_map\u001B[39;49m\u001B[38;5;124;43m\"\u001B[39;49m\u001B[43m,\u001B[49m\u001B[43m \u001B[49m\u001B[38;5;28;43;01mFalse\u001B[39;49;00m\u001B[43m)\u001B[49m\u001B[43m,\u001B[49m\n\u001B[0;32m   1741\u001B[0m \u001B[43m    \u001B[49m\u001B[43mis_text\u001B[49m\u001B[38;5;241;43m=\u001B[39;49m\u001B[43mis_text\u001B[49m\u001B[43m,\u001B[49m\n\u001B[0;32m   1742\u001B[0m \u001B[43m    \u001B[49m\u001B[43merrors\u001B[49m\u001B[38;5;241;43m=\u001B[39;49m\u001B[38;5;28;43mself\u001B[39;49m\u001B[38;5;241;43m.\u001B[39;49m\u001B[43moptions\u001B[49m\u001B[38;5;241;43m.\u001B[39;49m\u001B[43mget\u001B[49m\u001B[43m(\u001B[49m\u001B[38;5;124;43m\"\u001B[39;49m\u001B[38;5;124;43mencoding_errors\u001B[39;49m\u001B[38;5;124;43m\"\u001B[39;49m\u001B[43m,\u001B[49m\u001B[43m \u001B[49m\u001B[38;5;124;43m\"\u001B[39;49m\u001B[38;5;124;43mstrict\u001B[39;49m\u001B[38;5;124;43m\"\u001B[39;49m\u001B[43m)\u001B[49m\u001B[43m,\u001B[49m\n\u001B[0;32m   1743\u001B[0m \u001B[43m    \u001B[49m\u001B[43mstorage_options\u001B[49m\u001B[38;5;241;43m=\u001B[39;49m\u001B[38;5;28;43mself\u001B[39;49m\u001B[38;5;241;43m.\u001B[39;49m\u001B[43moptions\u001B[49m\u001B[38;5;241;43m.\u001B[39;49m\u001B[43mget\u001B[49m\u001B[43m(\u001B[49m\u001B[38;5;124;43m\"\u001B[39;49m\u001B[38;5;124;43mstorage_options\u001B[39;49m\u001B[38;5;124;43m\"\u001B[39;49m\u001B[43m,\u001B[49m\u001B[43m \u001B[49m\u001B[38;5;28;43;01mNone\u001B[39;49;00m\u001B[43m)\u001B[49m\u001B[43m,\u001B[49m\n\u001B[0;32m   1744\u001B[0m \u001B[43m\u001B[49m\u001B[43m)\u001B[49m\n\u001B[0;32m   1745\u001B[0m \u001B[38;5;28;01massert\u001B[39;00m \u001B[38;5;28mself\u001B[39m\u001B[38;5;241m.\u001B[39mhandles \u001B[38;5;129;01mis\u001B[39;00m \u001B[38;5;129;01mnot\u001B[39;00m \u001B[38;5;28;01mNone\u001B[39;00m\n\u001B[0;32m   1746\u001B[0m f \u001B[38;5;241m=\u001B[39m \u001B[38;5;28mself\u001B[39m\u001B[38;5;241m.\u001B[39mhandles\u001B[38;5;241m.\u001B[39mhandle\n",
      "File \u001B[1;32m~\\miniconda3\\envs\\tf\\lib\\site-packages\\pandas\\io\\common.py:856\u001B[0m, in \u001B[0;36mget_handle\u001B[1;34m(path_or_buf, mode, encoding, compression, memory_map, is_text, errors, storage_options)\u001B[0m\n\u001B[0;32m    851\u001B[0m \u001B[38;5;28;01melif\u001B[39;00m \u001B[38;5;28misinstance\u001B[39m(handle, \u001B[38;5;28mstr\u001B[39m):\n\u001B[0;32m    852\u001B[0m     \u001B[38;5;66;03m# Check whether the filename is to be opened in binary mode.\u001B[39;00m\n\u001B[0;32m    853\u001B[0m     \u001B[38;5;66;03m# Binary mode does not support 'encoding' and 'newline'.\u001B[39;00m\n\u001B[0;32m    854\u001B[0m     \u001B[38;5;28;01mif\u001B[39;00m ioargs\u001B[38;5;241m.\u001B[39mencoding \u001B[38;5;129;01mand\u001B[39;00m \u001B[38;5;124m\"\u001B[39m\u001B[38;5;124mb\u001B[39m\u001B[38;5;124m\"\u001B[39m \u001B[38;5;129;01mnot\u001B[39;00m \u001B[38;5;129;01min\u001B[39;00m ioargs\u001B[38;5;241m.\u001B[39mmode:\n\u001B[0;32m    855\u001B[0m         \u001B[38;5;66;03m# Encoding\u001B[39;00m\n\u001B[1;32m--> 856\u001B[0m         handle \u001B[38;5;241m=\u001B[39m \u001B[38;5;28;43mopen\u001B[39;49m\u001B[43m(\u001B[49m\n\u001B[0;32m    857\u001B[0m \u001B[43m            \u001B[49m\u001B[43mhandle\u001B[49m\u001B[43m,\u001B[49m\n\u001B[0;32m    858\u001B[0m \u001B[43m            \u001B[49m\u001B[43mioargs\u001B[49m\u001B[38;5;241;43m.\u001B[39;49m\u001B[43mmode\u001B[49m\u001B[43m,\u001B[49m\n\u001B[0;32m    859\u001B[0m \u001B[43m            \u001B[49m\u001B[43mencoding\u001B[49m\u001B[38;5;241;43m=\u001B[39;49m\u001B[43mioargs\u001B[49m\u001B[38;5;241;43m.\u001B[39;49m\u001B[43mencoding\u001B[49m\u001B[43m,\u001B[49m\n\u001B[0;32m    860\u001B[0m \u001B[43m            \u001B[49m\u001B[43merrors\u001B[49m\u001B[38;5;241;43m=\u001B[39;49m\u001B[43merrors\u001B[49m\u001B[43m,\u001B[49m\n\u001B[0;32m    861\u001B[0m \u001B[43m            \u001B[49m\u001B[43mnewline\u001B[49m\u001B[38;5;241;43m=\u001B[39;49m\u001B[38;5;124;43m\"\u001B[39;49m\u001B[38;5;124;43m\"\u001B[39;49m\u001B[43m,\u001B[49m\n\u001B[0;32m    862\u001B[0m \u001B[43m        \u001B[49m\u001B[43m)\u001B[49m\n\u001B[0;32m    863\u001B[0m     \u001B[38;5;28;01melse\u001B[39;00m:\n\u001B[0;32m    864\u001B[0m         \u001B[38;5;66;03m# Binary mode\u001B[39;00m\n\u001B[0;32m    865\u001B[0m         handle \u001B[38;5;241m=\u001B[39m \u001B[38;5;28mopen\u001B[39m(handle, ioargs\u001B[38;5;241m.\u001B[39mmode)\n",
      "\u001B[1;31mFileNotFoundError\u001B[0m: [Errno 2] No such file or directory: '../csv/dataset.csv'"
     ]
    }
   ],
   "source": [
    "dataset = pd.read_csv(f\"{DATASET_PATH}/dataset.csv\", low_memory= False)"
   ],
   "metadata": {
    "collapsed": false
   }
  },
  {
   "cell_type": "code",
   "execution_count": 26,
   "outputs": [
    {
     "name": "stderr",
     "output_type": "stream",
     "text": [
      "/var/folders/4y/z5w7pprd3bxb9r0f1rrcqmw80000gn/T/ipykernel_13908/826307376.py:1: FutureWarning: The default value of numeric_only in DataFrame.corr is deprecated. In a future version, it will default to False. Select only valid columns or specify the value of numeric_only to silence this warning.\n",
      "  cm = dataset.corr()\n"
     ]
    },
    {
     "data": {
      "text/plain": "           Bwd Psh Flags  Fwd Urg Flags  Bwd Urg Flags  Cwe Flag Count\nSrc Ip               NaN            NaN            NaN             NaN\nSrc Port             NaN            NaN            NaN             NaN\nDst Ip               NaN            NaN            NaN             NaN\nDst Port             NaN            NaN            NaN             NaN\nProtocol             NaN            NaN            NaN             NaN\n...                  ...            ...            ...             ...\nIdle Mean            NaN            NaN            NaN             NaN\nIdle Std             NaN            NaN            NaN             NaN\nIdle Max             NaN            NaN            NaN             NaN\nIdle Min             NaN            NaN            NaN             NaN\nLabel                NaN            NaN            NaN             NaN\n\n[84 rows x 4 columns]",
      "text/html": "<div>\n<style scoped>\n    .dataframe tbody tr th:only-of-type {\n        vertical-align: middle;\n    }\n\n    .dataframe tbody tr th {\n        vertical-align: top;\n    }\n\n    .dataframe thead th {\n        text-align: right;\n    }\n</style>\n<table border=\"1\" class=\"dataframe\">\n  <thead>\n    <tr style=\"text-align: right;\">\n      <th></th>\n      <th>Bwd Psh Flags</th>\n      <th>Fwd Urg Flags</th>\n      <th>Bwd Urg Flags</th>\n      <th>Cwe Flag Count</th>\n    </tr>\n  </thead>\n  <tbody>\n    <tr>\n      <th>Src Ip</th>\n      <td>NaN</td>\n      <td>NaN</td>\n      <td>NaN</td>\n      <td>NaN</td>\n    </tr>\n    <tr>\n      <th>Src Port</th>\n      <td>NaN</td>\n      <td>NaN</td>\n      <td>NaN</td>\n      <td>NaN</td>\n    </tr>\n    <tr>\n      <th>Dst Ip</th>\n      <td>NaN</td>\n      <td>NaN</td>\n      <td>NaN</td>\n      <td>NaN</td>\n    </tr>\n    <tr>\n      <th>Dst Port</th>\n      <td>NaN</td>\n      <td>NaN</td>\n      <td>NaN</td>\n      <td>NaN</td>\n    </tr>\n    <tr>\n      <th>Protocol</th>\n      <td>NaN</td>\n      <td>NaN</td>\n      <td>NaN</td>\n      <td>NaN</td>\n    </tr>\n    <tr>\n      <th>...</th>\n      <td>...</td>\n      <td>...</td>\n      <td>...</td>\n      <td>...</td>\n    </tr>\n    <tr>\n      <th>Idle Mean</th>\n      <td>NaN</td>\n      <td>NaN</td>\n      <td>NaN</td>\n      <td>NaN</td>\n    </tr>\n    <tr>\n      <th>Idle Std</th>\n      <td>NaN</td>\n      <td>NaN</td>\n      <td>NaN</td>\n      <td>NaN</td>\n    </tr>\n    <tr>\n      <th>Idle Max</th>\n      <td>NaN</td>\n      <td>NaN</td>\n      <td>NaN</td>\n      <td>NaN</td>\n    </tr>\n    <tr>\n      <th>Idle Min</th>\n      <td>NaN</td>\n      <td>NaN</td>\n      <td>NaN</td>\n      <td>NaN</td>\n    </tr>\n    <tr>\n      <th>Label</th>\n      <td>NaN</td>\n      <td>NaN</td>\n      <td>NaN</td>\n      <td>NaN</td>\n    </tr>\n  </tbody>\n</table>\n<p>84 rows × 4 columns</p>\n</div>"
     },
     "execution_count": 26,
     "metadata": {},
     "output_type": "execute_result"
    }
   ],
   "source": [
    "cm = dataset.corr()\n",
    "\n",
    "cm.loc[:, ['Bwd Psh Flags','Fwd Urg Flags', 'Bwd Urg Flags', 'Cwe Flag Count']]"
   ],
   "metadata": {
    "collapsed": false
   }
  },
  {
   "cell_type": "markdown",
   "source": [
    "Perché ciò accade?\n",
    "Per rispondere alla domanda come prima cosa andiamo ad analizzare i valori presi per le features sopra citate"
   ],
   "metadata": {
    "collapsed": false
   }
  },
  {
   "cell_type": "code",
   "execution_count": 27,
   "outputs": [
    {
     "data": {
      "text/plain": "         Bwd Psh Flags  Fwd Urg Flags  Bwd Urg Flags  Cwe Flag Count\n0                    0              0              0               0\n1                    0              0              0               0\n2                    0              0              0               0\n3                    0              0              0               0\n4                    0              0              0               0\n...                ...            ...            ...             ...\n1686927              0              0              0               0\n1686928              0              0              0               0\n1686929              0              0              0               0\n1686930              0              0              0               0\n1686931              0              0              0               0\n\n[1686932 rows x 4 columns]",
      "text/html": "<div>\n<style scoped>\n    .dataframe tbody tr th:only-of-type {\n        vertical-align: middle;\n    }\n\n    .dataframe tbody tr th {\n        vertical-align: top;\n    }\n\n    .dataframe thead th {\n        text-align: right;\n    }\n</style>\n<table border=\"1\" class=\"dataframe\">\n  <thead>\n    <tr style=\"text-align: right;\">\n      <th></th>\n      <th>Bwd Psh Flags</th>\n      <th>Fwd Urg Flags</th>\n      <th>Bwd Urg Flags</th>\n      <th>Cwe Flag Count</th>\n    </tr>\n  </thead>\n  <tbody>\n    <tr>\n      <th>0</th>\n      <td>0</td>\n      <td>0</td>\n      <td>0</td>\n      <td>0</td>\n    </tr>\n    <tr>\n      <th>1</th>\n      <td>0</td>\n      <td>0</td>\n      <td>0</td>\n      <td>0</td>\n    </tr>\n    <tr>\n      <th>2</th>\n      <td>0</td>\n      <td>0</td>\n      <td>0</td>\n      <td>0</td>\n    </tr>\n    <tr>\n      <th>3</th>\n      <td>0</td>\n      <td>0</td>\n      <td>0</td>\n      <td>0</td>\n    </tr>\n    <tr>\n      <th>4</th>\n      <td>0</td>\n      <td>0</td>\n      <td>0</td>\n      <td>0</td>\n    </tr>\n    <tr>\n      <th>...</th>\n      <td>...</td>\n      <td>...</td>\n      <td>...</td>\n      <td>...</td>\n    </tr>\n    <tr>\n      <th>1686927</th>\n      <td>0</td>\n      <td>0</td>\n      <td>0</td>\n      <td>0</td>\n    </tr>\n    <tr>\n      <th>1686928</th>\n      <td>0</td>\n      <td>0</td>\n      <td>0</td>\n      <td>0</td>\n    </tr>\n    <tr>\n      <th>1686929</th>\n      <td>0</td>\n      <td>0</td>\n      <td>0</td>\n      <td>0</td>\n    </tr>\n    <tr>\n      <th>1686930</th>\n      <td>0</td>\n      <td>0</td>\n      <td>0</td>\n      <td>0</td>\n    </tr>\n    <tr>\n      <th>1686931</th>\n      <td>0</td>\n      <td>0</td>\n      <td>0</td>\n      <td>0</td>\n    </tr>\n  </tbody>\n</table>\n<p>1686932 rows × 4 columns</p>\n</div>"
     },
     "execution_count": 27,
     "metadata": {},
     "output_type": "execute_result"
    }
   ],
   "source": [
    "dataset.loc[:, ['Bwd Psh Flags','Fwd Urg Flags', 'Bwd Urg Flags', 'Cwe Flag Count']]"
   ],
   "metadata": {
    "collapsed": false
   }
  },
  {
   "cell_type": "code",
   "execution_count": 28,
   "outputs": [
    {
     "name": "stdout",
     "output_type": "stream",
     "text": [
      "Bwd Psh Flags -> [0]\n",
      "Fwd Urg Flags -> [0]\n",
      "Bwd Urg Flags -> [0]\n",
      "Cwe Flag Count -> [0]\n"
     ]
    }
   ],
   "source": [
    "for col in ['Bwd Psh Flags','Fwd Urg Flags', 'Bwd Urg Flags', 'Cwe Flag Count']:\n",
    "    print(f\"{col} -> {np.unique(dataset.loc[:, col])}\")"
   ],
   "metadata": {
    "collapsed": false
   }
  },
  {
   "cell_type": "markdown",
   "source": [
    "Utilizzando come coefficiente di correlazione il **coeficiete di Pearson** e dividendo il tutto per 0 e ciò è matematicamente impossibile, quindi per questo motivo il coefficiente di correlazione tra le features sopracitate e le altre non è calcolabile.\n",
    "\n",
    "Da queste osservazioni si può concludere che *Bwd Psh Flags*, *Fwd Urg Flags*, *Bwd Urg Flags* e *Cwe Flag Count* non influenzano il modello e di conseguenza neanche le previsioni fatte da esso perciò tali features le posso andare a cancellare dal dataset.\n",
    "Ciò è dovuto dal fatto che questi campi fanno riferimento a dei flag contenuti nel header TCP e vengono usati per generare particolari tipologie di traffico che non vengono sfruttate."
   ],
   "metadata": {
    "collapsed": false
   }
  },
  {
   "cell_type": "code",
   "execution_count": 29,
   "outputs": [],
   "source": [
    "dataset.drop(['Bwd Psh Flags','Fwd Urg Flags', 'Bwd Urg Flags', 'Cwe Flag Count'], inplace=True, axis=1)\n",
    "\n",
    "dataset.to_csv(f\"{DATASET_PATH}/dataset.csv\", index=False)"
   ],
   "metadata": {
    "collapsed": false
   }
  },
  {
   "cell_type": "markdown",
   "source": [
    "Prima di effettuare la PCA necessito di andare a standardizzare i dati"
   ],
   "metadata": {
    "collapsed": false
   }
  },
  {
   "cell_type": "code",
   "execution_count": 31,
   "outputs": [],
   "source": [
    "def feature_extraction(data, n_components, norm=False):\n",
    "    if norm:\n",
    "        scalar = StandardScaler()\n",
    "        scalar.fit(data)\n",
    "        data = scalar.transform(data)\n",
    "\n",
    "    pca = PCA(n_components)\n",
    "\n",
    "    pca.fit(data)\n",
    "\n",
    "    #X_train = pca.transform(X_train)\n",
    "    #X_test = pca.transform(X_test)\n",
    "\n",
    "    return pca"
   ],
   "metadata": {
    "collapsed": false
   }
  },
  {
   "cell_type": "markdown",
   "source": [],
   "metadata": {
    "collapsed": false
   }
  },
  {
   "cell_type": "code",
   "execution_count": 32,
   "outputs": [],
   "source": [
    "X, y = dataset.loc[:, 'Src Ip' : 'Idle Min'], dataset.loc[:, 'Label']"
   ],
   "metadata": {
    "collapsed": false
   }
  },
  {
   "cell_type": "code",
   "execution_count": 33,
   "outputs": [
    {
     "data": {
      "text/plain": "<Figure size 1440x432 with 1 Axes>",
      "image/png": "[encoded data removed]"
     },
     "metadata": {
      "needs_background": "light"
     },
     "output_type": "display_data"
    }
   ],
   "source": [
    "#X_train, X_test, y_train, y_test = train_test_split(X, y, test_size=.2, train_size=.8)\n",
    "\n",
    "#X_train = scalar.transform(X_train)\n",
    "#X_test = scalar.transform(X_test)\n",
    "pca = feature_extraction(X, X.shape[1], False)\n",
    "\n",
    "plt.figure(figsize=(20, 6))\n",
    "plt.plot(range(pca.n_components_), pca.explained_variance_)\n",
    "plt.scatter(range(pca.n_components_), pca.explained_variance_)\n",
    "plt.title(\"Scree plot(not normalized data)\")\n",
    "plt.xlabel(\"Component\")\n",
    "plt.xticks(range(pca.n_components_), range(pca.n_components_))\n",
    "plt.ylabel(\"Variance\")\n",
    "plt.show()"
   ],
   "metadata": {
    "collapsed": false
   }
  },
  {
   "cell_type": "code",
   "execution_count": 34,
   "outputs": [
    {
     "data": {
      "text/plain": "<Figure size 1440x432 with 1 Axes>",
      "image/png": "[encoded data removed]"
     },
     "metadata": {
      "needs_background": "light"
     },
     "output_type": "display_data"
    }
   ],
   "source": [
    "pca_norm = feature_extraction(X, X.shape[1], True)\n",
    "\n",
    "plt.figure(figsize=(20, 6))\n",
    "plt.plot(range(pca_norm.n_components_), pca_norm.explained_variance_)\n",
    "plt.scatter(range(pca_norm.n_components_), pca_norm.explained_variance_)\n",
    "plt.title(\"Scree plot(normalized data)\")\n",
    "plt.xlabel(\"Component\")\n",
    "plt.xticks(range(pca_norm.n_components_), range(pca_norm.n_components_))\n",
    "plt.ylabel(\"Variance\")\n",
    "plt.show()"
   ],
   "metadata": {
    "collapsed": false
   }
  },
  {
   "cell_type": "markdown",
   "source": [
    "Dai grafici presentati del caso di dati non normalizzati si andrebbero a estrarre **6/7 features**, oppure nel caso di dati normalizzati ado a estrarre **dalle 13 alle 57 features**.\n",
    "\n",
    "Per trovare con maggior precisione il numero di features attraverso la **regola di Kaiser** in cui si tengono solo le componenti che hanno un valore della varianza(autovalori) non sia **inferiore a 1 oppure a 0.7**. In letteratura la primo valore risulta troppo alto."
   ],
   "metadata": {
    "collapsed": false
   }
  },
  {
   "cell_type": "code",
   "execution_count": 35,
   "outputs": [
    {
     "name": "stdout",
     "output_type": "stream",
     "text": [
      "Threshold 1\n",
      "Regola di Kaiser su dati non normalizzati: 79 features\n",
      "Regola di Kaiser su dati normalizzati: 23 features\n"
     ]
    }
   ],
   "source": [
    "print(\"Threshold 1\")\n",
    "print(f\"Regola di Kaiser su dati non normalizzati: {len(pca.explained_variance_[pca.explained_variance_ > 1])} features\")\n",
    "print(f\"Regola di Kaiser su dati normalizzati: {len(pca_norm.explained_variance_[pca_norm.explained_variance_ > 1])} features\")"
   ],
   "metadata": {
    "collapsed": false
   }
  },
  {
   "cell_type": "code",
   "execution_count": 36,
   "outputs": [
    {
     "name": "stdout",
     "output_type": "stream",
     "text": [
      "Threshold 0.7\n",
      "Regola di Kaiser su dati non normalizzati: 79 features\n",
      "Regola di Kaiser su dati normalizzati: 34 features\n"
     ]
    }
   ],
   "source": [
    "print(\"Threshold 0.7\")\n",
    "print(f\"Regola di Kaiser su dati non normalizzati: {len(pca.explained_variance_[pca.explained_variance_ > .7])} features\")\n",
    "print(f\"Regola di Kaiser su dati normalizzati: {len(pca_norm.explained_variance_[pca_norm.explained_variance_ > .7])} features\")"
   ],
   "metadata": {
    "collapsed": false
   }
  },
  {
   "cell_type": "markdown",
   "source": [
    "In linea di massima da come si è visto dai risultati sopra la regola di Kaiser funziona solo su **dati normalizzati**, ottenedo un totale di 23 o 34 featiures rispettivamete nel caso in cui il threshold sia 1 o 0.7. Così facendo si riduce del **72%**(23 features) o del **59%**(34 features).\n",
    "\n",
    "I risultati descritti sopra soddisfano la condizione descritta dai grafici ottenuta analizzando l'andamento dei grafici vedendo dove avviene la suddivisone tra autovalori \"grandi\" e \"piccoli\" che viene contrassegnato da un \"gomito\"."
   ],
   "metadata": {
    "collapsed": false
   }
  },
  {
   "cell_type": "markdown",
   "source": [
    "# BILANCIAMENTO DATASET\n",
    "\n",
    "Prima di tutto voglio andare a vedere come le due classi sono distribuite all'interno del dataset"
   ],
   "metadata": {
    "collapsed": false
   }
  },
  {
   "cell_type": "code",
   "execution_count": 21,
   "outputs": [
    {
     "name": "stdout",
     "output_type": "stream",
     "text": [
      "[0. 1.]\n",
      "[1592331   94601]\n"
     ]
    }
   ],
   "source": [
    "labels, counts = np.unique(dataset['Label'], return_counts=True)\n",
    "\n",
    "print(labels)\n",
    "print(counts)"
   ],
   "metadata": {
    "collapsed": false
   }
  },
  {
   "cell_type": "markdown",
   "source": [
    "Si vede che la classe *BENIGN*, contrassegnato con lo 0, è quella maggiormente presente con un totale di 1592331 records contro i 94601 dei recods malevoli"
   ],
   "metadata": {
    "collapsed": false
   }
  },
  {
   "cell_type": "code",
   "execution_count": 22,
   "outputs": [
    {
     "data": {
      "text/plain": "<Figure size 432x288 with 1 Axes>",
      "image/png": "[encoded data removed]"
     },
     "metadata": {
      "needs_background": "light"
     },
     "output_type": "display_data"
    }
   ],
   "source": [
    "labels = np.where(labels == 0., \"BENIGN\", \"MALWARE\")\n",
    "\n",
    "plt.bar(labels, counts)\n",
    "plt.show()"
   ],
   "metadata": {
    "collapsed": false
   }
  },
  {
   "cell_type": "markdown",
   "source": [
    "Le tecniche che vorrei utilizzare per bilanciare il dataset sono principalmente 2: sfruttare la **focal loss** o la **SMOTE** (Synthetic Minority Oversampling Technique)."
   ],
   "metadata": {
    "collapsed": false
   }
  },
  {
   "cell_type": "code",
   "execution_count": 23,
   "outputs": [],
   "source": [
    "del dataset"
   ],
   "metadata": {
    "collapsed": false
   }
  },
  {
   "cell_type": "markdown",
   "source": [
    "# ADDESTRAMENTO DEL MODELLO\n",
    "\n",
    "Prima di addestrare i modelli andiamo a dividere il dataset in training e test set e li memorizzo su file"
   ],
   "metadata": {
    "collapsed": false
   }
  },
  {
   "cell_type": "code",
   "execution_count": 37,
   "outputs": [
    {
     "name": "stdout",
     "output_type": "stream",
     "text": [
      "Lettura completata\n"
     ]
    }
   ],
   "source": [
    "data = pd.read_csv(f\"{DATASET_PATH}/dataset.csv\", low_memory=False)\n",
    "X, y = data.loc[:, 'Src Ip' : 'Idle Min'], data.loc[:, 'Label']\n",
    "\n",
    "X_train, X_test, y_train, y_test = train_test_split(X, y, test_size=.3, train_size=.7)\n",
    "\n",
    "print(\"Lettura completata\")"
   ],
   "metadata": {
    "collapsed": false
   }
  },
  {
   "cell_type": "code",
   "execution_count": 38,
   "outputs": [],
   "source": [
    "training_set, test_set =  X_train, X_test\n",
    "\n",
    "training_set['Label'] = y_train\n",
    "test_set['Label'] = y_test\n",
    "\n",
    "#print(test_set)\n",
    "training_set.to_csv(f\"{DATASET_PATH}/train.csv\", index=False)\n",
    "test_set.to_csv(f\"{DATASET_PATH}/test.csv\", index=False)"
   ],
   "metadata": {
    "collapsed": false
   }
  },
  {
   "cell_type": "markdown",
   "source": [
    "I modelli che andremo a sfruttare sono i seguenti: **Decision Tree**, **Random Forest** e **Neural Tree**.\n",
    "\n",
    "I modelli saranno addestati con le seguenti modallità, per poi andarli a confrontare provando a determinare quali siano le migliori features atte a rilevare un attacco ransomware analizzando il traffico.\n",
    "\n",
    "Le modalità di addestramento saranno le seguenti:\n",
    "* con dataset sbilanciato\n",
    "* dataset bilanciato\n",
    "\n",
    "Queste due modalità verranno ripetute sia su dataset con tutte le features e sia dopo una fase di features reduction."
   ],
   "metadata": {
    "collapsed": false
   }
  },
  {
   "cell_type": "code",
   "execution_count": 7,
   "outputs": [],
   "source": [
    "top_10 = ['Protocol', 'Bwd Header Len', 'Flow Iat Max', 'Bwd Pkts S', 'Flow Byts S', 'Timestamp', 'Flow Pkts S', 'Fwd Pkts S', 'Flow Duration', 'Src Ip']\n",
    "top_20 = ['Pkt Len Var', 'Subflow Fwd Byts', 'Totlen Bwd Pkts', 'Pkt Len Std', 'Fwd Header Len.1', 'Fwd Seg Size Min', 'Tot Bwd Pkts', 'Fwd Iat Max', 'Fwd Header Len', 'Bwd Pkt Len Max', 'Protocol', 'Bwd Header Len', 'Flow Iat Max', 'Bwd Pkts S', 'Flow Byts S', 'Timestamp', 'Flow Pkts S', 'Fwd Pkts S', 'Flow Duration', 'Src Ip']\n",
    "top_30 = ['Fwd Pkt Len Min', 'Dst Port', 'Flow Iat Mean', 'Pkt Len Min', 'Bwd Pkt Len Min', 'Dst Ip', 'Bwd Seg Size Avg', 'Subflow Bwd Byts', 'Bwd Pkt Len Mean', 'Fwd Iat Mean', 'Pkt Len Var', 'Subflow Fwd Byts', 'Totlen Bwd Pkts', 'Pkt Len Std', 'Fwd Header Len.1', 'Fwd Seg Size Min', 'Tot Bwd Pkts', 'Fwd Iat Max', 'Fwd Header Len', 'Bwd Pkt Len Max', 'Protocol', 'Bwd Header Len', 'Flow Iat Max', 'Bwd Pkts S', 'Flow Byts S', 'Timestamp', 'Flow Pkts S', 'Fwd Pkts S', 'Flow Duration', 'Src Ip']"
   ],
   "metadata": {
    "collapsed": false
   }
  },
  {
   "cell_type": "code",
   "execution_count": 8,
   "outputs": [
    {
     "name": "stdout",
     "output_type": "stream",
     "text": [
      "DATASET ACQUISITI\n"
     ]
    }
   ],
   "source": [
    "training_set = pd.read_csv(f\"{DATASET_PATH}/train.csv\", low_memory=False)\n",
    "test_set = pd.read_csv(f\"{DATASET_PATH}/test.csv\", low_memory=False)\n",
    "\n",
    "X_train, y_train = training_set[top_30].to_numpy(), training_set.loc[:, 'Label'].to_numpy()\n",
    "X_test, y_test = test_set[top_30].to_numpy(), test_set.loc[:, 'Label'].to_numpy()\n",
    "#X_train, y_train = training_set.loc[:, 'Src Ip' : 'Idle Min'].to_numpy(), training_set.loc[:, 'Label'].to_numpy()\n",
    "#X_test, y_test = test_set.loc[:, 'Src Ip' : 'Idle Min'].to_numpy(), test_set.loc[:, 'Label'].to_numpy()\n",
    "\n",
    "print(\"DATASET ACQUISITI\")\n",
    "\n",
    "del training_set, test_set"
   ],
   "metadata": {
    "collapsed": false
   }
  },
  {
   "cell_type": "code",
   "execution_count": 9,
   "outputs": [],
   "source": [
    "oversample = SMOTE()"
   ],
   "metadata": {
    "collapsed": false
   }
  },
  {
   "cell_type": "code",
   "execution_count": 27,
   "outputs": [
    {
     "name": "stdout",
     "output_type": "stream",
     "text": [
      "Bilanciamento completato\n"
     ]
    }
   ],
   "source": [
    "X_train_balanced, y_train_balanced = oversample.fit_resample(X_train, y_train)\n",
    "X_test_balanced, y_test_balanced = oversample.fit_resample(X_test, y_test)\n",
    "\n",
    "print(\"Bilanciamento completato\")"
   ],
   "metadata": {
    "collapsed": false
   }
  },
  {
   "cell_type": "code",
   "execution_count": 28,
   "outputs": [],
   "source": [
    "train_balanced = X_train_balanced\n",
    "train_balanced['Label'] = y_train_balanced\n",
    "\n",
    "test_balanced = X_test_balanced\n",
    "test_balanced['Label'] = y_test_balanced\n",
    "\n",
    "train_balanced.to_csv(f\"{DATASET_PATH}/balanced_train.csv\")\n",
    "test_balanced.to_csv(f\"{DATASET_PATH}/balanced_test.csv\")"
   ],
   "metadata": {
    "collapsed": false
   }
  },
  {
   "cell_type": "code",
   "execution_count": 52,
   "outputs": [
    {
     "name": "stdout",
     "output_type": "stream",
     "text": [
      "DATASET BILANCIATI ACQUISITI\n"
     ]
    }
   ],
   "source": [
    "training_set_balanced = pd.read_csv(f\"{DATASET_PATH}/balanced_train.csv\", low_memory=False)\n",
    "test_set_balanced = pd.read_csv(f\"{DATASET_PATH}/balanced_test.csv\", low_memory=False)\n",
    "\n",
    "X_train_balanced, y_train_balanced = training_set_balanced[top_30].to_numpy(), \\\n",
    "                                        training_set_balanced.loc[:, 'Label'].to_numpy()\n",
    "X_test_balanced, y_test_balanced = test_set_balanced[top_30].to_numpy(), \\\n",
    "                                         test_set_balanced.loc[:, 'Label'].to_numpy()\n",
    "#X_train_balanced, y_train_balanced = training_set_balanced.loc[:, 'Src Ip' : 'Idle Min'].to_numpy(), \\\n",
    " #                                       training_set_balanced.loc[:, 'Label'].to_numpy()\n",
    "#X_test_balanced, y_test_balanced = test_set_balanced.loc[:, 'Src Ip' : 'Idle Min'].to_numpy(), \\\n",
    " #                                       test_set_balanced.loc[:, 'Label'].to_numpy()\n",
    "\n",
    "print(\"DATASET BILANCIATI ACQUISITI\")\n",
    "\n",
    "del training_set_balanced, test_set_balanced"
   ],
   "metadata": {
    "collapsed": false
   }
  },
  {
   "cell_type": "markdown",
   "source": [
    "## NORMALIZZAZIONE DATI"
   ],
   "metadata": {
    "collapsed": false
   }
  },
  {
   "cell_type": "code",
   "execution_count": 11,
   "outputs": [],
   "source": [
    "def data_normalization(dataset_path: str) -> None:\n",
    "    data = pd.read_csv(dataset_path, low_memory=False)\n",
    "    X, y = data.loc[:, 'Src Ip' : 'Idle Min'], data.loc[:, 'Label']\n",
    "\n",
    "    scaler = StandardScaler().fit(X, y)\n",
    "    X_scaled = scaler.transform(X)\n",
    "\n",
    "    data_scaled = np.append(X_scaled, np.reshape(y.to_numpy(), (len(y), 1)), axis=1)\n",
    "\n",
    "    file_name = dataset_path.split('/')\n",
    "    file_name = file_name[len(file_name) - 1]\n",
    "\n",
    "    pd.DataFrame(data_scaled, columns=np.append(X.columns, 'Label')).to_csv(f\"{DATASET_PATH}/norm_{file_name}\", index=False)"
   ],
   "metadata": {
    "collapsed": false
   }
  },
  {
   "cell_type": "code",
   "execution_count": 13,
   "outputs": [
    {
     "name": "stdout",
     "output_type": "stream",
     "text": [
      "Normalizzazione completata\n"
     ]
    }
   ],
   "source": [
    "data_normalization(f\"{DATASET_PATH}/train.csv\")\n",
    "data_normalization(f\"{DATASET_PATH}/test.csv\")\n",
    "data_normalization(f\"{DATASET_PATH}/balanced_train.csv\")\n",
    "data_normalization(f\"{DATASET_PATH}/balanced_test.csv\")\n",
    "\n",
    "print(\"Normalizzazione completata\")"
   ],
   "metadata": {
    "collapsed": false
   }
  },
  {
   "cell_type": "markdown",
   "source": [
    "## DECISION TREE\n",
    "\n",
    "### DATASET SBILANCIATO"
   ],
   "metadata": {
    "collapsed": false
   }
  },
  {
   "cell_type": "code",
   "execution_count": 73,
   "outputs": [
    {
     "name": "stdout",
     "output_type": "stream",
     "text": [
      "INIZIO ADDESTRAMENTO DECISION TREE\n",
      "L'addestramento del decision tree ha impiegato 21.34456706047058 secondi\n",
      "SALVATAGGIO MODELLO IN ../exported_model/dt_unbalance30.pkl\n"
     ]
    }
   ],
   "source": [
    "try:\n",
    "    with open(f\"{EXPORTED_MODEL}/dt_unbalance30.pkl\", 'rb') as file:\n",
    "        print(\"CARICAMENTO MODELLO DA ../exported_model/dt_unbalance.pkl\")\n",
    "\n",
    "        dt_model = pkl.load(file)\n",
    "except IOError:\n",
    "    dt = DecisionTreeClassifier()\n",
    "    start_time = time.time()\n",
    "\n",
    "    print(\"INIZIO ADDESTRAMENTO DECISION TREE\")\n",
    "    dt_model = dt.fit(X_train, y_train)\n",
    "\n",
    "    print(f\"L'addestramento del decision tree ha impiegato {time.time() - start_time} secondi\")\n",
    "\n",
    "    print(\"SALVATAGGIO MODELLO IN ../exported_model/dt_unbalance30.pkl\")\n",
    "    with open(f\"{EXPORTED_MODEL}/dt_unbalance30.pkl\", 'wb') as file:\n",
    "        pkl.dump(dt_model, file)"
   ],
   "metadata": {
    "collapsed": false
   }
  },
  {
   "cell_type": "markdown",
   "source": [
    "Visualizziamo il decision tree"
   ],
   "metadata": {
    "collapsed": false
   }
  },
  {
   "cell_type": "code",
   "execution_count": 14,
   "outputs": [
    {
     "data": {
      "text/plain": "[Text(0.2770882009345794, 0.9761904761904762, 'X[38] <= 0.018\\ngini = 0.106\\nsamples = 1180852\\nvalue = [1114609, 66243]'),\n Text(0.17340829439252337, 0.9285714285714286, 'X[0] <= 101281648.0\\ngini = 0.175\\nsamples = 62174\\nvalue = [6032, 56142]'),\n Text(0.11317172897196262, 0.8809523809523809, 'X[5] <= 1.488899616303743e+18\\ngini = 0.039\\nsamples = 57144\\nvalue = [1125, 56019]'),\n Text(0.07973130841121495, 0.8333333333333334, 'X[3] <= 60.0\\ngini = 0.011\\nsamples = 56307\\nvalue = [301, 56006]'),\n Text(0.04088785046728972, 0.7857142857142857, 'X[5] <= 3640499896320.0\\ngini = 0.053\\nsamples = 74\\nvalue = [72, 2]'),\n Text(0.03154205607476635, 0.7380952380952381, 'gini = 0.0\\nsamples = 2\\nvalue = [0, 2]'),\n Text(0.05023364485981308, 0.7380952380952381, 'gini = 0.0\\nsamples = 72\\nvalue = [72, 0]'),\n Text(0.1185747663551402, 0.7857142857142857, 'X[45] <= 0.5\\ngini = 0.008\\nsamples = 56233\\nvalue = [229, 56004]'),\n Text(0.0689252336448598, 0.7380952380952381, 'X[0] <= 10023.0\\ngini = 0.002\\nsamples = 55070\\nvalue = [54, 55016]'),\n Text(0.04205607476635514, 0.6904761904761905, 'X[1] <= 67.5\\ngini = 0.142\\nsamples = 13\\nvalue = [12, 1]'),\n Text(0.03271028037383177, 0.6428571428571429, 'gini = 0.0\\nsamples = 12\\nvalue = [12, 0]'),\n Text(0.0514018691588785, 0.6428571428571429, 'gini = 0.0\\nsamples = 1\\nvalue = [0, 1]'),\n Text(0.09579439252336448, 0.6904761904761905, 'X[2] <= 247255252992.0\\ngini = 0.002\\nsamples = 55057\\nvalue = [42, 55015]'),\n Text(0.07009345794392523, 0.6428571428571429, 'X[56] <= 18.0\\ngini = 0.001\\nsamples = 55015\\nvalue = [25, 54990]'),\n Text(0.04672897196261682, 0.5952380952380952, 'X[1] <= 5354.0\\ngini = 0.001\\nsamples = 55012\\nvalue = [23, 54989]'),\n Text(0.028037383177570093, 0.5476190476190477, 'X[1] <= 2215.5\\ngini = 0.037\\nsamples = 1153\\nvalue = [22, 1131]'),\n Text(0.018691588785046728, 0.5, 'X[5] <= 6.481187113449554e+17\\ngini = 0.004\\nsamples = 1133\\nvalue = [2, 1131]'),\n Text(0.009345794392523364, 0.4523809523809524, 'gini = 0.0\\nsamples = 1131\\nvalue = [0, 1131]'),\n Text(0.028037383177570093, 0.4523809523809524, 'gini = 0.0\\nsamples = 2\\nvalue = [2, 0]'),\n Text(0.037383177570093455, 0.5, 'gini = 0.0\\nsamples = 20\\nvalue = [20, 0]'),\n Text(0.06542056074766354, 0.5476190476190477, 'X[3] <= 58737.0\\ngini = 0.0\\nsamples = 53859\\nvalue = [1, 53858]'),\n Text(0.056074766355140186, 0.5, 'gini = 0.0\\nsamples = 53745\\nvalue = [0, 53745]'),\n Text(0.07476635514018691, 0.5, 'X[41] <= 71.0\\ngini = 0.017\\nsamples = 114\\nvalue = [1, 113]'),\n Text(0.06542056074766354, 0.4523809523809524, 'gini = 0.0\\nsamples = 1\\nvalue = [1, 0]'),\n Text(0.08411214953271028, 0.4523809523809524, 'gini = 0.0\\nsamples = 113\\nvalue = [0, 113]'),\n Text(0.09345794392523364, 0.5952380952380952, 'X[54] <= 57.0\\ngini = 0.444\\nsamples = 3\\nvalue = [2, 1]'),\n Text(0.08411214953271028, 0.5476190476190477, 'gini = 0.0\\nsamples = 1\\nvalue = [0, 1]'),\n Text(0.102803738317757, 0.5476190476190477, 'gini = 0.0\\nsamples = 2\\nvalue = [2, 0]'),\n Text(0.12149532710280374, 0.6428571428571429, 'X[0] <= 9658513.5\\ngini = 0.482\\nsamples = 42\\nvalue = [17, 25]'),\n Text(0.11214953271028037, 0.5952380952380952, 'gini = 0.0\\nsamples = 17\\nvalue = [17, 0]'),\n Text(0.1308411214953271, 0.5952380952380952, 'gini = 0.0\\nsamples = 25\\nvalue = [0, 25]'),\n Text(0.16822429906542055, 0.7380952380952381, 'X[5] <= 4.9810939445038285e+17\\ngini = 0.256\\nsamples = 1163\\nvalue = [175, 988]'),\n Text(0.14953271028037382, 0.6904761904761905, 'X[0] <= 55120.0\\ngini = 0.121\\nsamples = 1052\\nvalue = [68, 984]'),\n Text(0.14018691588785046, 0.6428571428571429, 'gini = 0.0\\nsamples = 877\\nvalue = [0, 877]'),\n Text(0.1588785046728972, 0.6428571428571429, 'X[0] <= 10109507.0\\ngini = 0.475\\nsamples = 175\\nvalue = [68, 107]'),\n Text(0.14953271028037382, 0.5952380952380952, 'gini = 0.0\\nsamples = 68\\nvalue = [68, 0]'),\n Text(0.16822429906542055, 0.5952380952380952, 'gini = 0.0\\nsamples = 107\\nvalue = [0, 107]'),\n Text(0.18691588785046728, 0.6904761904761905, 'X[5] <= 1.4591282773974057e+18\\ngini = 0.069\\nsamples = 111\\nvalue = [107, 4]'),\n Text(0.17757009345794392, 0.6428571428571429, 'gini = 0.0\\nsamples = 107\\nvalue = [107, 0]'),\n Text(0.19626168224299065, 0.6428571428571429, 'gini = 0.0\\nsamples = 4\\nvalue = [0, 4]'),\n Text(0.1466121495327103, 0.8333333333333334, 'X[5] <= 1.5115979343475507e+18\\ngini = 0.031\\nsamples = 837\\nvalue = [824, 13]'),\n Text(0.13726635514018692, 0.7857142857142857, 'gini = 0.0\\nsamples = 824\\nvalue = [824, 0]'),\n Text(0.15595794392523366, 0.7857142857142857, 'gini = 0.0\\nsamples = 13\\nvalue = [0, 13]'),\n Text(0.2336448598130841, 0.8809523809523809, 'X[5] <= 5.825471006302536e+17\\ngini = 0.048\\nsamples = 5030\\nvalue = [4907, 123]'),\n Text(0.22429906542056074, 0.8333333333333334, 'X[2] <= 55119.5\\ngini = 0.384\\nsamples = 166\\nvalue = [43, 123]'),\n Text(0.21495327102803738, 0.7857142857142857, 'gini = 0.0\\nsamples = 119\\nvalue = [0, 119]'),\n Text(0.2336448598130841, 0.7857142857142857, 'X[0] <= 1755048000.0\\ngini = 0.156\\nsamples = 47\\nvalue = [43, 4]'),\n Text(0.21495327102803738, 0.7380952380952381, 'X[0] <= 1182062432.0\\ngini = 0.444\\nsamples = 3\\nvalue = [1, 2]'),\n Text(0.205607476635514, 0.6904761904761905, 'gini = 0.0\\nsamples = 1\\nvalue = [1, 0]'),\n Text(0.22429906542056074, 0.6904761904761905, 'gini = 0.0\\nsamples = 2\\nvalue = [0, 2]'),\n Text(0.2523364485981308, 0.7380952380952381, 'X[1] <= 54596.5\\ngini = 0.087\\nsamples = 44\\nvalue = [42, 2]'),\n Text(0.24299065420560748, 0.6904761904761905, 'X[3] <= 49419.5\\ngini = 0.045\\nsamples = 43\\nvalue = [42, 1]'),\n Text(0.2336448598130841, 0.6428571428571429, 'X[45] <= 0.5\\ngini = 0.117\\nsamples = 16\\nvalue = [15, 1]'),\n Text(0.22429906542056074, 0.5952380952380952, 'gini = 0.0\\nsamples = 1\\nvalue = [0, 1]'),\n Text(0.24299065420560748, 0.5952380952380952, 'gini = 0.0\\nsamples = 15\\nvalue = [15, 0]'),\n Text(0.2523364485981308, 0.6428571428571429, 'gini = 0.0\\nsamples = 27\\nvalue = [27, 0]'),\n Text(0.2616822429906542, 0.6904761904761905, 'gini = 0.0\\nsamples = 1\\nvalue = [0, 1]'),\n Text(0.24299065420560748, 0.8333333333333334, 'gini = 0.0\\nsamples = 4864\\nvalue = [4864, 0]'),\n Text(0.38076810747663553, 0.9285714285714286, 'X[0] <= 14797.0\\ngini = 0.018\\nsamples = 1118678\\nvalue = [1108577, 10101]'),\n Text(0.29906542056074764, 0.8809523809523809, 'X[0] <= 10023.0\\ngini = 0.008\\nsamples = 5523\\nvalue = [23, 5500]'),\n Text(0.2897196261682243, 0.8333333333333334, 'X[53] <= 343.5\\ngini = 0.499\\nsamples = 48\\nvalue = [23, 25]'),\n Text(0.2803738317757009, 0.7857142857142857, 'X[54] <= 328.0\\ngini = 0.074\\nsamples = 26\\nvalue = [1, 25]'),\n Text(0.27102803738317754, 0.7380952380952381, 'gini = 0.0\\nsamples = 1\\nvalue = [1, 0]'),\n Text(0.2897196261682243, 0.7380952380952381, 'gini = 0.0\\nsamples = 25\\nvalue = [0, 25]'),\n Text(0.29906542056074764, 0.7857142857142857, 'gini = 0.0\\nsamples = 22\\nvalue = [22, 0]'),\n Text(0.308411214953271, 0.8333333333333334, 'gini = 0.0\\nsamples = 5475\\nvalue = [0, 5475]'),\n Text(0.46247079439252337, 0.8809523809523809, 'X[5] <= 3671499997184.0\\ngini = 0.008\\nsamples = 1113155\\nvalue = [1108554, 4601]'),\n Text(0.32710280373831774, 0.8333333333333334, 'X[0] <= 10109506.0\\ngini = 0.405\\nsamples = 1524\\nvalue = [430, 1094]'),\n Text(0.3177570093457944, 0.7857142857142857, 'gini = 0.0\\nsamples = 426\\nvalue = [426, 0]'),\n Text(0.3364485981308411, 0.7857142857142857, 'X[0] <= 1807113088.0\\ngini = 0.007\\nsamples = 1098\\nvalue = [4, 1094]'),\n Text(0.32710280373831774, 0.7380952380952381, 'gini = 0.0\\nsamples = 1092\\nvalue = [0, 1092]'),\n Text(0.34579439252336447, 0.7380952380952381, 'X[13] <= 80.75\\ngini = 0.444\\nsamples = 6\\nvalue = [4, 2]'),\n Text(0.3364485981308411, 0.6904761904761905, 'gini = 0.0\\nsamples = 4\\nvalue = [4, 0]'),\n Text(0.35514018691588783, 0.6904761904761905, 'gini = 0.0\\nsamples = 2\\nvalue = [0, 2]'),\n Text(0.5978387850467289, 0.8333333333333334, 'X[64] <= 11262707.5\\ngini = 0.006\\nsamples = 1111631\\nvalue = [1108124, 3507]'),\n Text(0.5169392523364486, 0.7857142857142857, 'X[5] <= 4301500055552.0\\ngini = 0.006\\nsamples = 1111316\\nvalue = [1108105, 3211]'),\n Text(0.40186915887850466, 0.7380952380952381, 'X[55] <= 26.5\\ngini = 0.162\\nsamples = 19873\\nvalue = [18105, 1768]'),\n Text(0.37383177570093457, 0.6904761904761905, 'X[0] <= 10109506.0\\ngini = 0.156\\nsamples = 1635\\nvalue = [139, 1496]'),\n Text(0.3644859813084112, 0.6428571428571429, 'gini = 0.0\\nsamples = 139\\nvalue = [139, 0]'),\n Text(0.38317757009345793, 0.6428571428571429, 'gini = 0.0\\nsamples = 1496\\nvalue = [0, 1496]'),\n Text(0.42990654205607476, 0.6904761904761905, 'X[15] <= 1508.0\\ngini = 0.029\\nsamples = 18238\\nvalue = [17966, 272]'),\n Text(0.40186915887850466, 0.6428571428571429, 'X[0] <= 18864817.0\\ngini = 0.017\\nsamples = 18088\\nvalue = [17929, 159]'),\n Text(0.3925233644859813, 0.5952380952380952, 'gini = 0.0\\nsamples = 16623\\nvalue = [16623, 0]'),\n Text(0.411214953271028, 0.5952380952380952, 'X[67] <= 64805.5\\ngini = 0.194\\nsamples = 1465\\nvalue = [1306, 159]'),\n Text(0.40186915887850466, 0.5476190476190477, 'X[44] <= 160741.023\\ngini = 0.012\\nsamples = 160\\nvalue = [1, 159]'),\n Text(0.3925233644859813, 0.5, 'gini = 0.0\\nsamples = 159\\nvalue = [0, 159]'),\n Text(0.411214953271028, 0.5, 'gini = 0.0\\nsamples = 1\\nvalue = [1, 0]'),\n Text(0.4205607476635514, 0.5476190476190477, 'gini = 0.0\\nsamples = 1305\\nvalue = [1305, 0]'),\n Text(0.45794392523364486, 0.6428571428571429, 'X[0] <= 241118968.0\\ngini = 0.372\\nsamples = 150\\nvalue = [37, 113]'),\n Text(0.4485981308411215, 0.5952380952380952, 'X[0] <= 11165373.5\\ngini = 0.034\\nsamples = 115\\nvalue = [2, 113]'),\n Text(0.4392523364485981, 0.5476190476190477, 'gini = 0.0\\nsamples = 2\\nvalue = [2, 0]'),\n Text(0.45794392523364486, 0.5476190476190477, 'gini = 0.0\\nsamples = 113\\nvalue = [0, 113]'),\n Text(0.4672897196261682, 0.5952380952380952, 'gini = 0.0\\nsamples = 35\\nvalue = [35, 0]'),\n Text(0.6320093457943925, 0.7380952380952381, 'X[5] <= 1.5115980717865042e+18\\ngini = 0.003\\nsamples = 1091443\\nvalue = [1090000, 1443]'),\n Text(0.6226635514018691, 0.6904761904761905, 'X[5] <= 5527499964416.0\\ngini = 0.003\\nsamples = 1091397\\nvalue = [1090000, 1397]'),\n Text(0.5116822429906542, 0.6428571428571429, 'X[55] <= 26.5\\ngini = 0.06\\nsamples = 30591\\nvalue = [29641, 950]'),\n Text(0.48598130841121495, 0.5952380952380952, 'X[0] <= 10109506.0\\ngini = 0.25\\nsamples = 927\\nvalue = [136, 791]'),\n Text(0.4766355140186916, 0.5476190476190477, 'gini = 0.0\\nsamples = 136\\nvalue = [136, 0]'),\n Text(0.4953271028037383, 0.5476190476190477, 'gini = 0.0\\nsamples = 791\\nvalue = [0, 791]'),\n Text(0.5373831775700935, 0.5952380952380952, 'X[15] <= 1506.5\\ngini = 0.011\\nsamples = 29664\\nvalue = [29505, 159]'),\n Text(0.514018691588785, 0.5476190476190477, 'X[9] <= 54.5\\ngini = 0.008\\nsamples = 29593\\nvalue = [29469, 124]'),\n Text(0.4953271028037383, 0.5, 'X[67] <= 47865.0\\ngini = 0.438\\nsamples = 37\\nvalue = [12, 25]'),\n Text(0.48598130841121495, 0.4523809523809524, 'gini = 0.0\\nsamples = 25\\nvalue = [0, 25]'),\n Text(0.5046728971962616, 0.4523809523809524, 'gini = 0.0\\nsamples = 12\\nvalue = [12, 0]'),\n Text(0.5327102803738317, 0.5, 'X[40] <= 240.5\\ngini = 0.007\\nsamples = 29556\\nvalue = [29457, 99]'),\n Text(0.5233644859813084, 0.4523809523809524, 'X[0] <= 18864817.0\\ngini = 0.006\\nsamples = 29548\\nvalue = [29457, 91]'),\n Text(0.5046728971962616, 0.40476190476190477, 'X[54] <= 783.9\\ngini = 0.0\\nsamples = 27165\\nvalue = [27164, 1]'),\n Text(0.4953271028037383, 0.35714285714285715, 'gini = 0.0\\nsamples = 27154\\nvalue = [27154, 0]'),\n Text(0.514018691588785, 0.35714285714285715, 'X[26] <= 4487603.125\\ngini = 0.165\\nsamples = 11\\nvalue = [10, 1]'),\n Text(0.5046728971962616, 0.30952380952380953, 'gini = 0.0\\nsamples = 10\\nvalue = [10, 0]'),\n Text(0.5233644859813084, 0.30952380952380953, 'gini = 0.0\\nsamples = 1\\nvalue = [0, 1]'),\n Text(0.5420560747663551, 0.40476190476190477, 'X[67] <= 49151.5\\ngini = 0.073\\nsamples = 2383\\nvalue = [2293, 90]'),\n Text(0.5327102803738317, 0.35714285714285715, 'gini = 0.0\\nsamples = 90\\nvalue = [0, 90]'),\n Text(0.5514018691588785, 0.35714285714285715, 'gini = 0.0\\nsamples = 2293\\nvalue = [2293, 0]'),\n Text(0.5420560747663551, 0.4523809523809524, 'gini = 0.0\\nsamples = 8\\nvalue = [0, 8]'),\n Text(0.5607476635514018, 0.5476190476190477, 'X[2] <= 9658514.5\\ngini = 0.5\\nsamples = 71\\nvalue = [36, 35]'),\n Text(0.5514018691588785, 0.5, 'gini = 0.0\\nsamples = 35\\nvalue = [35, 0]'),\n Text(0.5700934579439252, 0.5, 'X[42] <= 239.421\\ngini = 0.054\\nsamples = 36\\nvalue = [1, 35]'),\n Text(0.5607476635514018, 0.4523809523809524, 'gini = 0.0\\nsamples = 1\\nvalue = [1, 0]'),\n Text(0.5794392523364486, 0.4523809523809524, 'gini = 0.0\\nsamples = 35\\nvalue = [0, 35]'),\n Text(0.7336448598130841, 0.6428571428571429, 'X[5] <= 8104500002816.0\\ngini = 0.001\\nsamples = 1060806\\nvalue = [1060359, 447]'),\n Text(0.6214953271028038, 0.5952380952380952, 'X[37] <= 4.0\\ngini = 0.023\\nsamples = 24250\\nvalue = [23966, 284]'),\n Text(0.5981308411214953, 0.5476190476190477, 'X[0] <= 10109507.0\\ngini = 0.472\\nsamples = 348\\nvalue = [133, 215]'),\n Text(0.5887850467289719, 0.5, 'gini = 0.0\\nsamples = 133\\nvalue = [133, 0]'),\n Text(0.6074766355140186, 0.5, 'gini = 0.0\\nsamples = 215\\nvalue = [0, 215]'),\n Text(0.6448598130841121, 0.5476190476190477, 'X[56] <= 24250.0\\ngini = 0.006\\nsamples = 23902\\nvalue = [23833, 69]'),\n Text(0.6261682242990654, 0.5, 'X[40] <= 240.5\\ngini = 0.004\\nsamples = 23874\\nvalue = [23828, 46]'),\n Text(0.616822429906542, 0.4523809523809524, 'X[15] <= 1498.5\\ngini = 0.004\\nsamples = 23870\\nvalue = [23828, 42]'),\n Text(0.5981308411214953, 0.40476190476190477, 'X[59] <= 18243101.0\\ngini = 0.003\\nsamples = 23843\\nvalue = [23810, 33]'),\n Text(0.5887850467289719, 0.35714285714285715, 'X[0] <= 14914377.5\\ngini = 0.003\\nsamples = 23842\\nvalue = [23810, 32]'),\n Text(0.5794392523364486, 0.30952380952380953, 'gini = 0.0\\nsamples = 22370\\nvalue = [22370, 0]'),\n Text(0.5981308411214953, 0.30952380952380953, 'X[67] <= 63671.0\\ngini = 0.043\\nsamples = 1472\\nvalue = [1440, 32]'),\n Text(0.5887850467289719, 0.2619047619047619, 'gini = 0.0\\nsamples = 32\\nvalue = [0, 32]'),\n Text(0.6074766355140186, 0.2619047619047619, 'gini = 0.0\\nsamples = 1440\\nvalue = [1440, 0]'),\n Text(0.6074766355140186, 0.35714285714285715, 'gini = 0.0\\nsamples = 1\\nvalue = [0, 1]'),\n Text(0.6355140186915887, 0.40476190476190477, 'X[2] <= 9658514.5\\ngini = 0.444\\nsamples = 27\\nvalue = [18, 9]'),\n Text(0.6261682242990654, 0.35714285714285715, 'gini = 0.0\\nsamples = 18\\nvalue = [18, 0]'),\n Text(0.6448598130841121, 0.35714285714285715, 'gini = 0.0\\nsamples = 9\\nvalue = [0, 9]'),\n Text(0.6355140186915887, 0.4523809523809524, 'gini = 0.0\\nsamples = 4\\nvalue = [0, 4]'),\n Text(0.6635514018691588, 0.5, 'X[68] <= 64173.5\\ngini = 0.293\\nsamples = 28\\nvalue = [5, 23]'),\n Text(0.6542056074766355, 0.4523809523809524, 'gini = 0.0\\nsamples = 23\\nvalue = [0, 23]'),\n Text(0.6728971962616822, 0.4523809523809524, 'gini = 0.0\\nsamples = 5\\nvalue = [5, 0]'),\n Text(0.8457943925233645, 0.5952380952380952, 'X[68] <= 64237.0\\ngini = 0.0\\nsamples = 1036556\\nvalue = [1036393, 163]'),\n Text(0.7383177570093458, 0.5476190476190477, 'X[5] <= 62450498011136.0\\ngini = 0.0\\nsamples = 1027624\\nvalue = [1027600, 24]'),\n Text(0.7009345794392523, 0.5, 'X[3] <= 51605.0\\ngini = 0.014\\nsamples = 1600\\nvalue = [1589, 11]'),\n Text(0.6915887850467289, 0.4523809523809524, 'gini = 0.0\\nsamples = 1589\\nvalue = [1589, 0]'),\n Text(0.7102803738317757, 0.4523809523809524, 'gini = 0.0\\nsamples = 11\\nvalue = [0, 11]'),\n Text(0.7757009345794392, 0.5, 'X[68] <= 62835.0\\ngini = 0.0\\nsamples = 1026024\\nvalue = [1026011, 13]'),\n Text(0.7289719626168224, 0.4523809523809524, 'X[2] <= 15115.0\\ngini = 0.0\\nsamples = 1023228\\nvalue = [1023221, 7]'),\n Text(0.705607476635514, 0.40476190476190477, 'X[5] <= 1.4607367941893652e+18\\ngini = 0.001\\nsamples = 6745\\nvalue = [6741, 4]'),\n Text(0.6962616822429907, 0.35714285714285715, 'gini = 0.0\\nsamples = 6741\\nvalue = [6741, 0]'),\n Text(0.7149532710280374, 0.35714285714285715, 'gini = 0.0\\nsamples = 4\\nvalue = [0, 4]'),\n Text(0.7523364485981309, 0.40476190476190477, 'X[1] <= 65513.5\\ngini = 0.0\\nsamples = 1016483\\nvalue = [1016480, 3]'),\n Text(0.7336448598130841, 0.35714285714285715, 'X[0] <= 10834590.5\\ngini = 0.0\\nsamples = 1016048\\nvalue = [1016046, 2]'),\n Text(0.7242990654205608, 0.30952380952380953, 'X[0] <= 10555428.0\\ngini = 0.0\\nsamples = 27182\\nvalue = [27180, 2]'),\n Text(0.7149532710280374, 0.2619047619047619, 'gini = 0.0\\nsamples = 27180\\nvalue = [27180, 0]'),\n Text(0.7336448598130841, 0.2619047619047619, 'gini = 0.0\\nsamples = 2\\nvalue = [0, 2]'),\n Text(0.7429906542056075, 0.30952380952380953, 'gini = 0.0\\nsamples = 988866\\nvalue = [988866, 0]'),\n Text(0.7710280373831776, 0.35714285714285715, 'X[0] <= 14914956.5\\ngini = 0.005\\nsamples = 435\\nvalue = [434, 1]'),\n Text(0.7616822429906542, 0.30952380952380953, 'gini = 0.0\\nsamples = 1\\nvalue = [0, 1]'),\n Text(0.780373831775701, 0.30952380952380953, 'gini = 0.0\\nsamples = 434\\nvalue = [434, 0]'),\n Text(0.822429906542056, 0.4523809523809524, 'X[68] <= 62837.5\\ngini = 0.004\\nsamples = 2796\\nvalue = [2790, 6]'),\n Text(0.8130841121495327, 0.40476190476190477, 'gini = 0.0\\nsamples = 1\\nvalue = [0, 1]'),\n Text(0.8317757009345794, 0.40476190476190477, 'X[0] <= 6728852.0\\ngini = 0.004\\nsamples = 2795\\nvalue = [2790, 5]'),\n Text(0.8084112149532711, 0.35714285714285715, 'X[0] <= 5270547.0\\ngini = 0.278\\nsamples = 12\\nvalue = [10, 2]'),\n Text(0.7990654205607477, 0.30952380952380953, 'gini = 0.0\\nsamples = 10\\nvalue = [10, 0]'),\n Text(0.8177570093457944, 0.30952380952380953, 'gini = 0.0\\nsamples = 2\\nvalue = [0, 2]'),\n Text(0.8551401869158879, 0.35714285714285715, 'X[19] <= 13.346\\ngini = 0.002\\nsamples = 2783\\nvalue = [2780, 3]'),\n Text(0.8364485981308412, 0.30952380952380953, 'X[29] <= 19.5\\ngini = 0.058\\nsamples = 67\\nvalue = [65, 2]'),\n Text(0.8271028037383178, 0.2619047619047619, 'X[19] <= 8.859\\ngini = 0.444\\nsamples = 3\\nvalue = [1, 2]'),\n Text(0.8177570093457944, 0.21428571428571427, 'gini = 0.0\\nsamples = 1\\nvalue = [1, 0]'),\n Text(0.8364485981308412, 0.21428571428571427, 'gini = 0.0\\nsamples = 2\\nvalue = [0, 2]'),\n Text(0.8457943925233645, 0.2619047619047619, 'gini = 0.0\\nsamples = 64\\nvalue = [64, 0]'),\n Text(0.8738317757009346, 0.30952380952380953, 'X[23] <= 5.0\\ngini = 0.001\\nsamples = 2716\\nvalue = [2715, 1]'),\n Text(0.8644859813084113, 0.2619047619047619, 'X[5] <= 1.4182374399604163e+18\\ngini = 0.091\\nsamples = 21\\nvalue = [20, 1]'),\n Text(0.8551401869158879, 0.21428571428571427, 'gini = 0.0\\nsamples = 20\\nvalue = [20, 0]'),\n Text(0.8738317757009346, 0.21428571428571427, 'gini = 0.0\\nsamples = 1\\nvalue = [0, 1]'),\n Text(0.883177570093458, 0.2619047619047619, 'gini = 0.0\\nsamples = 2695\\nvalue = [2695, 0]'),\n Text(0.9532710280373832, 0.5476190476190477, 'X[62] <= 15302743.5\\ngini = 0.031\\nsamples = 8932\\nvalue = [8793, 139]'),\n Text(0.9252336448598131, 0.5, 'X[68] <= 64239.5\\ngini = 0.022\\nsamples = 8869\\nvalue = [8772, 97]'),\n Text(0.9158878504672897, 0.4523809523809524, 'gini = 0.0\\nsamples = 20\\nvalue = [0, 20]'),\n Text(0.9345794392523364, 0.4523809523809524, 'X[68] <= 64241.5\\ngini = 0.017\\nsamples = 8849\\nvalue = [8772, 77]'),\n Text(0.9252336448598131, 0.40476190476190477, 'X[0] <= 14292020.0\\ngini = 0.12\\nsamples = 1201\\nvalue = [1124, 77]'),\n Text(0.9018691588785047, 0.35714285714285715, 'X[1] <= 24800.5\\ngini = 0.499\\nsamples = 111\\nvalue = [53, 58]'),\n Text(0.8925233644859814, 0.30952380952380953, 'gini = 0.0\\nsamples = 53\\nvalue = [53, 0]'),\n Text(0.9112149532710281, 0.30952380952380953, 'gini = 0.0\\nsamples = 58\\nvalue = [0, 58]'),\n Text(0.9485981308411215, 0.35714285714285715, 'X[60] <= 5852.333\\ngini = 0.034\\nsamples = 1090\\nvalue = [1071, 19]'),\n Text(0.9299065420560748, 0.30952380952380953, 'X[2] <= 189473300480.0\\ngini = 0.02\\nsamples = 1079\\nvalue = [1068, 11]'),\n Text(0.9205607476635514, 0.2619047619047619, 'X[0] <= 118584788.0\\ngini = 0.017\\nsamples = 1077\\nvalue = [1068, 9]'),\n Text(0.897196261682243, 0.21428571428571427, 'X[3] <= 2756.5\\ngini = 0.091\\nsamples = 147\\nvalue = [140, 7]'),\n Text(0.8878504672897196, 0.16666666666666666, 'gini = 0.0\\nsamples = 7\\nvalue = [0, 7]'),\n Text(0.9065420560747663, 0.16666666666666666, 'gini = 0.0\\nsamples = 140\\nvalue = [140, 0]'),\n Text(0.9439252336448598, 0.21428571428571427, 'X[19] <= 11.145\\ngini = 0.004\\nsamples = 930\\nvalue = [928, 2]'),\n Text(0.9252336448598131, 0.16666666666666666, 'X[0] <= 19352024064.0\\ngini = 0.32\\nsamples = 5\\nvalue = [4, 1]'),\n Text(0.9158878504672897, 0.11904761904761904, 'gini = 0.0\\nsamples = 4\\nvalue = [4, 0]'),\n Text(0.9345794392523364, 0.11904761904761904, 'gini = 0.0\\nsamples = 1\\nvalue = [0, 1]'),\n Text(0.9626168224299065, 0.16666666666666666, 'X[53] <= 60.705\\ngini = 0.002\\nsamples = 925\\nvalue = [924, 1]'),\n Text(0.9532710280373832, 0.11904761904761904, 'X[2] <= 12257315.5\\ngini = 0.019\\nsamples = 105\\nvalue = [104, 1]'),\n Text(0.9439252336448598, 0.07142857142857142, 'X[64] <= 114.0\\ngini = 0.5\\nsamples = 2\\nvalue = [1, 1]'),\n Text(0.9345794392523364, 0.023809523809523808, 'gini = 0.0\\nsamples = 1\\nvalue = [1, 0]'),\n Text(0.9532710280373832, 0.023809523809523808, 'gini = 0.0\\nsamples = 1\\nvalue = [0, 1]'),\n Text(0.9626168224299065, 0.07142857142857142, 'gini = 0.0\\nsamples = 103\\nvalue = [103, 0]'),\n Text(0.9719626168224299, 0.11904761904761904, 'gini = 0.0\\nsamples = 820\\nvalue = [820, 0]'),\n Text(0.9392523364485982, 0.2619047619047619, 'gini = 0.0\\nsamples = 2\\nvalue = [0, 2]'),\n Text(0.9672897196261683, 0.30952380952380953, 'X[52] <= 1.63\\ngini = 0.397\\nsamples = 11\\nvalue = [3, 8]'),\n Text(0.9579439252336449, 0.2619047619047619, 'gini = 0.0\\nsamples = 3\\nvalue = [3, 0]'),\n Text(0.9766355140186916, 0.2619047619047619, 'gini = 0.0\\nsamples = 8\\nvalue = [0, 8]'),\n Text(0.9439252336448598, 0.40476190476190477, 'gini = 0.0\\nsamples = 7648\\nvalue = [7648, 0]'),\n Text(0.9813084112149533, 0.5, 'X[1] <= 49779.5\\ngini = 0.444\\nsamples = 63\\nvalue = [21, 42]'),\n Text(0.9719626168224299, 0.4523809523809524, 'X[68] <= 64494.0\\ngini = 0.19\\nsamples = 47\\nvalue = [5, 42]'),\n Text(0.9626168224299065, 0.40476190476190477, 'gini = 0.0\\nsamples = 42\\nvalue = [0, 42]'),\n Text(0.9813084112149533, 0.40476190476190477, 'gini = 0.0\\nsamples = 5\\nvalue = [5, 0]'),\n Text(0.9906542056074766, 0.4523809523809524, 'gini = 0.0\\nsamples = 16\\nvalue = [16, 0]'),\n Text(0.6413551401869159, 0.6904761904761905, 'gini = 0.0\\nsamples = 46\\nvalue = [0, 46]'),\n Text(0.6787383177570093, 0.7857142857142857, 'X[15] <= 572.5\\ngini = 0.113\\nsamples = 315\\nvalue = [19, 296]'),\n Text(0.669392523364486, 0.7380952380952381, 'X[61] <= 7.083\\ngini = 0.095\\nsamples = 20\\nvalue = [19, 1]'),\n Text(0.6600467289719626, 0.6904761904761905, 'gini = 0.0\\nsamples = 19\\nvalue = [19, 0]'),\n Text(0.6787383177570093, 0.6904761904761905, 'gini = 0.0\\nsamples = 1\\nvalue = [0, 1]'),\n Text(0.6880841121495327, 0.7380952380952381, 'gini = 0.0\\nsamples = 295\\nvalue = [0, 295]')]"
     },
     "execution_count": 14,
     "metadata": {},
     "output_type": "execute_result"
    },
    {
     "data": {
      "text/plain": "<Figure size 432x288 with 1 Axes>",
      "image/png": "[encoded data removed]"
     },
     "metadata": {
      "needs_background": "light"
     },
     "output_type": "display_data"
    }
   ],
   "source": [
    "plot_tree(dt_model)"
   ],
   "metadata": {
    "collapsed": false
   }
  },
  {
   "cell_type": "markdown",
   "source": [
    "### VALUTAZIONE MODELLO"
   ],
   "metadata": {
    "collapsed": false
   }
  },
  {
   "cell_type": "code",
   "execution_count": 18,
   "outputs": [
    {
     "name": "stdout",
     "output_type": "stream",
     "text": [
      "Precision in training phase: 1.0\n",
      "Precision in testing phase: 0.9999525766677205\n"
     ]
    }
   ],
   "source": [
    "print(f\"Precision in training phase: {dt_model.score(X_train, y_train)}\")\n",
    "print(f\"Precision in testing phase: {dt_model.score(X_test, y_test)}\")"
   ],
   "metadata": {
    "collapsed": false
   }
  },
  {
   "cell_type": "markdown",
   "source": [
    "### DATASET BILANCIATO"
   ],
   "metadata": {
    "collapsed": false
   }
  },
  {
   "cell_type": "code",
   "execution_count": 158,
   "outputs": [
    {
     "name": "stdout",
     "output_type": "stream",
     "text": [
      "INIZIO ADDESTRAMENTO DECISION TREE\n",
      "L'addestramento del decision tree ha impiegato 23.78750777244568 secondi\n",
      "SALVATAGGIO MODELLO IN ../exported_model/dt_balance30.pkl\n"
     ]
    }
   ],
   "source": [
    "try:\n",
    "    with open(f\"{EXPORTED_MODEL}/dt_balance30.pkl\", 'rb') as file:\n",
    "        print(\"CARICAMENTO MODELLO DA ../exported_model/dt_balance30.pkl\")\n",
    "\n",
    "        dt_balance_model = pkl.load(file)\n",
    "except IOError:\n",
    "    dt = DecisionTreeClassifier()\n",
    "    start_time = time.time()\n",
    "\n",
    "    print(\"INIZIO ADDESTRAMENTO DECISION TREE\")\n",
    "    dt_balance_model = dt.fit(X_train_balanced, y_train_balanced)\n",
    "\n",
    "    print(f\"L'addestramento del decision tree ha impiegato {time.time() - start_time} secondi\")\n",
    "\n",
    "    print(\"SALVATAGGIO MODELLO IN ../exported_model/dt_balance30.pkl\")\n",
    "    with open(f\"{EXPORTED_MODEL}/dt_balance30.pkl\", 'wb') as file:\n",
    "        pkl.dump(dt_balance_model, file)"
   ],
   "metadata": {
    "collapsed": false
   }
  },
  {
   "cell_type": "markdown",
   "source": [
    "Visualizzo il decision tree"
   ],
   "metadata": {
    "collapsed": false
   }
  },
  {
   "cell_type": "code",
   "execution_count": 21,
   "outputs": [
    {
     "data": {
      "text/plain": "[Text(0.6048418891562215, 0.9807692307692307, 'X[65] <= 0.5\\ngini = 0.5\\nsamples = 2229218\\nvalue = [1114609, 1114609]'),\n Text(0.5023288387503326, 0.9423076923076923, 'X[0] <= 103909828.0\\ngini = 0.132\\nsamples = 1137930\\nvalue = [81049, 1056881]'),\n Text(0.4661142686516459, 0.9038461538461539, 'X[5] <= 1.488245475604693e+18\\ngini = 0.013\\nsamples = 1059664\\nvalue = [6885, 1052779]'),\n Text(0.44233953015717653, 0.8653846153846154, 'X[24] <= 2996190.5\\ngini = 0.006\\nsamples = 1055580\\nvalue = [2986, 1052594]'),\n Text(0.409386373679109, 0.8269230769230769, 'X[77] <= 30018466.0\\ngini = 0.003\\nsamples = 1054016\\nvalue = [1832, 1052184]'),\n Text(0.37267270174471645, 0.7884615384615384, 'X[45] <= 0.5\\ngini = 0.003\\nsamples = 1053604\\nvalue = [1555, 1052049]'),\n Text(0.3308707189828189, 0.75, 'X[25] <= 90047940.0\\ngini = 0.002\\nsamples = 1046373\\nvalue = [988, 1045385]'),\n Text(0.29348843507678274, 0.7115384615384616, 'X[19] <= 1326737.125\\ngini = 0.002\\nsamples = 1045885\\nvalue = [882, 1045003]'),\n Text(0.2430510681161624, 0.6730769230769231, 'X[77] <= 2995086.0\\ngini = 0.002\\nsamples = 1045744\\nvalue = [838, 1044906]'),\n Text(0.16163809487608333, 0.6346153846153846, 'X[58] <= 3.999\\ngini = 0.001\\nsamples = 1042605\\nvalue = [629, 1041976]'),\n Text(0.057197430439410064, 0.5961538461538461, 'X[1] <= 80.5\\ngini = 0.001\\nsamples = 1037915\\nvalue = [420, 1037495]'),\n Text(0.02432720085145203, 0.5576923076923077, 'X[5] <= 8048000106496.0\\ngini = 0.07\\nsamples = 3130\\nvalue = [113, 3017]'),\n Text(0.019461760681161625, 0.5192307692307693, 'X[2] <= 8136774.0\\ngini = 0.018\\nsamples = 3045\\nvalue = [28, 3017]'),\n Text(0.009730880340580813, 0.4807692307692308, 'X[42] <= 322.0\\ngini = 0.245\\nsamples = 7\\nvalue = [6, 1]'),\n Text(0.004865440170290406, 0.4423076923076923, 'gini = 0.0\\nsamples = 1\\nvalue = [0, 1]'),\n Text(0.014596320510871218, 0.4423076923076923, 'gini = 0.0\\nsamples = 6\\nvalue = [6, 0]'),\n Text(0.029192641021742436, 0.4807692307692308, 'X[14] <= 2.386\\ngini = 0.014\\nsamples = 3038\\nvalue = [22, 3016]'),\n Text(0.02432720085145203, 0.4423076923076923, 'X[0] <= 101519.0\\ngini = 0.012\\nsamples = 3035\\nvalue = [19, 3016]'),\n Text(0.019461760681161625, 0.40384615384615385, 'X[14] <= 0.018\\ngini = 0.147\\nsamples = 237\\nvalue = [19, 218]'),\n Text(0.014596320510871218, 0.36538461538461536, 'X[5] <= 3643999911936.0\\ngini = 0.172\\nsamples = 21\\nvalue = [19, 2]'),\n Text(0.009730880340580813, 0.3269230769230769, 'X[0] <= 50107.5\\ngini = 0.444\\nsamples = 3\\nvalue = [1, 2]'),\n Text(0.004865440170290406, 0.28846153846153844, 'gini = 0.0\\nsamples = 2\\nvalue = [0, 2]'),\n Text(0.014596320510871218, 0.28846153846153844, 'gini = 0.0\\nsamples = 1\\nvalue = [1, 0]'),\n Text(0.019461760681161625, 0.3269230769230769, 'gini = 0.0\\nsamples = 18\\nvalue = [18, 0]'),\n Text(0.02432720085145203, 0.36538461538461536, 'gini = 0.0\\nsamples = 216\\nvalue = [0, 216]'),\n Text(0.029192641021742436, 0.40384615384615385, 'gini = 0.0\\nsamples = 2798\\nvalue = [0, 2798]'),\n Text(0.034058081192032845, 0.4423076923076923, 'gini = 0.0\\nsamples = 3\\nvalue = [3, 0]'),\n Text(0.029192641021742436, 0.5192307692307693, 'gini = 0.0\\nsamples = 85\\nvalue = [85, 0]'),\n Text(0.0900676600273681, 0.5576923076923077, 'X[3] <= 53.5\\ngini = 0.001\\nsamples = 1034785\\nvalue = [307, 1034478]'),\n Text(0.05838528204348487, 0.5192307692307693, 'X[38] <= 0.003\\ngini = 0.027\\nsamples = 7995\\nvalue = [110, 7885]'),\n Text(0.04865440170290406, 0.4807692307692308, 'X[5] <= 3640499896320.0\\ngini = 0.053\\nsamples = 74\\nvalue = [72, 2]'),\n Text(0.043788961532613656, 0.4423076923076923, 'gini = 0.0\\nsamples = 2\\nvalue = [0, 2]'),\n Text(0.05351984187319447, 0.4423076923076923, 'gini = 0.0\\nsamples = 72\\nvalue = [72, 0]'),\n Text(0.06811616238406569, 0.4807692307692308, 'X[2] <= 1434869408.0\\ngini = 0.01\\nsamples = 7921\\nvalue = [38, 7883]'),\n Text(0.06325072221377527, 0.4423076923076923, 'gini = 0.0\\nsamples = 7883\\nvalue = [0, 7883]'),\n Text(0.0729816025543561, 0.4423076923076923, 'gini = 0.0\\nsamples = 38\\nvalue = [38, 0]'),\n Text(0.12175003801125132, 0.5192307692307693, 'X[14] <= 158.903\\ngini = 0.0\\nsamples = 1026790\\nvalue = [197, 1026593]'),\n Text(0.11688459784096092, 0.4807692307692308, 'X[69] <= 1.5\\ngini = 0.0\\nsamples = 1026789\\nvalue = [196, 1026593]'),\n Text(0.0827124828949369, 0.4423076923076923, 'X[1] <= 5354.0\\ngini = 0.0\\nsamples = 958070\\nvalue = [23, 958047]'),\n Text(0.0729816025543561, 0.40384615384615385, 'X[1] <= 5351.5\\ngini = 0.003\\nsamples = 14418\\nvalue = [22, 14396]'),\n Text(0.06811616238406569, 0.36538461538461536, 'X[5] <= 6.481187798631055e+17\\ngini = 0.0\\nsamples = 14399\\nvalue = [3, 14396]'),\n Text(0.06325072221377527, 0.3269230769230769, 'gini = 0.0\\nsamples = 14396\\nvalue = [0, 14396]'),\n Text(0.0729816025543561, 0.3269230769230769, 'gini = 0.0\\nsamples = 3\\nvalue = [3, 0]'),\n Text(0.0778470427246465, 0.36538461538461536, 'gini = 0.0\\nsamples = 19\\nvalue = [19, 0]'),\n Text(0.09244336323551772, 0.40384615384615385, 'X[3] <= 58796.0\\ngini = 0.0\\nsamples = 943652\\nvalue = [1, 943651]'),\n Text(0.08757792306522731, 0.36538461538461536, 'gini = 0.0\\nsamples = 942827\\nvalue = [0, 942827]'),\n Text(0.09730880340580812, 0.36538461538461536, 'X[41] <= 68.5\\ngini = 0.002\\nsamples = 825\\nvalue = [1, 824]'),\n Text(0.09244336323551772, 0.3269230769230769, 'gini = 0.0\\nsamples = 1\\nvalue = [1, 0]'),\n Text(0.10217424357609853, 0.3269230769230769, 'gini = 0.0\\nsamples = 824\\nvalue = [0, 824]'),\n Text(0.15105671278698496, 0.4423076923076923, 'X[5] <= 6.810861296712417e+17\\ngini = 0.005\\nsamples = 68719\\nvalue = [173, 68546]'),\n Text(0.14619127261669454, 0.40384615384615385, 'X[6] <= 404.5\\ngini = 0.004\\nsamples = 68692\\nvalue = [146, 68546]'),\n Text(0.11677056408696974, 0.36538461538461536, 'X[12] <= 128.0\\ngini = 0.48\\nsamples = 5\\nvalue = [2, 3]'),\n Text(0.11190512391667934, 0.3269230769230769, 'gini = 0.0\\nsamples = 3\\nvalue = [0, 3]'),\n Text(0.12163600425726015, 0.3269230769230769, 'gini = 0.0\\nsamples = 2\\nvalue = [2, 0]'),\n Text(0.17561198114641935, 0.36538461538461536, 'X[6] <= 100632.996\\ngini = 0.004\\nsamples = 68687\\nvalue = [144, 68543]'),\n Text(0.13136688459784096, 0.3269230769230769, 'X[0] <= 1020221.0\\ngini = 0.022\\nsamples = 5898\\nvalue = [67, 5831]'),\n Text(0.12650144442755054, 0.28846153846153844, 'X[0] <= 982790.5\\ngini = 0.113\\nsamples = 1110\\nvalue = [67, 1043]'),\n Text(0.12163600425726015, 0.25, 'X[0] <= 95953.0\\ngini = 0.017\\nsamples = 1052\\nvalue = [9, 1043]'),\n Text(0.11677056408696974, 0.21153846153846154, 'gini = 0.0\\nsamples = 996\\nvalue = [0, 996]'),\n Text(0.12650144442755054, 0.21153846153846154, 'X[0] <= 103797.0\\ngini = 0.27\\nsamples = 56\\nvalue = [9, 47]'),\n Text(0.12163600425726015, 0.17307692307692307, 'gini = 0.0\\nsamples = 9\\nvalue = [9, 0]'),\n Text(0.13136688459784096, 0.17307692307692307, 'gini = 0.0\\nsamples = 47\\nvalue = [0, 47]'),\n Text(0.13136688459784096, 0.25, 'gini = 0.0\\nsamples = 58\\nvalue = [58, 0]'),\n Text(0.13623232476813138, 0.28846153846153844, 'gini = 0.0\\nsamples = 4788\\nvalue = [0, 4788]'),\n Text(0.2198570776949977, 0.3269230769230769, 'X[1] <= 137.5\\ngini = 0.002\\nsamples = 62789\\nvalue = [77, 62712]'),\n Text(0.173939486087882, 0.28846153846153844, 'X[29] <= 750434.5\\ngini = 0.014\\nsamples = 4888\\nvalue = [35, 4853]'),\n Text(0.1581268055344382, 0.25, 'X[5] <= 3741999955968.0\\ngini = 0.006\\nsamples = 4774\\nvalue = [14, 4760]'),\n Text(0.1459632051087122, 0.21153846153846154, 'X[0] <= 10109507.0\\ngini = 0.114\\nsamples = 132\\nvalue = [8, 124]'),\n Text(0.14109776493842177, 0.17307692307692307, 'X[12] <= 153.148\\ngini = 0.198\\nsamples = 9\\nvalue = [8, 1]'),\n Text(0.13623232476813138, 0.1346153846153846, 'gini = 0.0\\nsamples = 8\\nvalue = [8, 0]'),\n Text(0.1459632051087122, 0.1346153846153846, 'gini = 0.0\\nsamples = 1\\nvalue = [0, 1]'),\n Text(0.15082864527900258, 0.17307692307692307, 'gini = 0.0\\nsamples = 123\\nvalue = [0, 123]'),\n Text(0.1702904059601642, 0.21153846153846154, 'X[29] <= 749807.812\\ngini = 0.003\\nsamples = 4642\\nvalue = [6, 4636]'),\n Text(0.1605595256195834, 0.17307692307692307, 'X[69] <= 5.5\\ngini = 0.001\\nsamples = 4570\\nvalue = [2, 4568]'),\n Text(0.155694085449293, 0.1346153846153846, 'gini = 0.0\\nsamples = 4222\\nvalue = [0, 4222]'),\n Text(0.1654249657898738, 0.1346153846153846, 'X[0] <= 55119.5\\ngini = 0.011\\nsamples = 348\\nvalue = [2, 346]'),\n Text(0.1605595256195834, 0.09615384615384616, 'gini = 0.0\\nsamples = 268\\nvalue = [0, 268]'),\n Text(0.1702904059601642, 0.09615384615384616, 'X[2] <= 5908730.5\\ngini = 0.049\\nsamples = 80\\nvalue = [2, 78]'),\n Text(0.1654249657898738, 0.057692307692307696, 'gini = 0.0\\nsamples = 2\\nvalue = [2, 0]'),\n Text(0.17515584613045462, 0.057692307692307696, 'gini = 0.0\\nsamples = 78\\nvalue = [0, 78]'),\n Text(0.18002128630074501, 0.17307692307692307, 'X[0] <= 506112.0\\ngini = 0.105\\nsamples = 72\\nvalue = [4, 68]'),\n Text(0.17515584613045462, 0.1346153846153846, 'gini = 0.0\\nsamples = 68\\nvalue = [0, 68]'),\n Text(0.18488672647103543, 0.1346153846153846, 'gini = 0.0\\nsamples = 4\\nvalue = [4, 0]'),\n Text(0.18975216664132583, 0.25, 'X[0] <= 55120.0\\ngini = 0.301\\nsamples = 114\\nvalue = [21, 93]'),\n Text(0.18488672647103543, 0.21153846153846154, 'gini = 0.0\\nsamples = 88\\nvalue = [0, 88]'),\n Text(0.19461760681161624, 0.21153846153846154, 'X[2] <= 961341767.5\\ngini = 0.311\\nsamples = 26\\nvalue = [21, 5]'),\n Text(0.18975216664132583, 0.17307692307692307, 'gini = 0.0\\nsamples = 21\\nvalue = [21, 0]'),\n Text(0.19948304698190664, 0.17307692307692307, 'gini = 0.0\\nsamples = 5\\nvalue = [0, 5]'),\n Text(0.2657746693021134, 0.28846153846153844, 'X[42] <= 64.001\\ngini = 0.001\\nsamples = 57901\\nvalue = [42, 57859]'),\n Text(0.23597384825908468, 0.25, 'X[20] <= 18.07\\ngini = 0.006\\nsamples = 8645\\nvalue = [26, 8619]'),\n Text(0.21407936749277787, 0.21153846153846154, 'X[6] <= 110681.766\\ngini = 0.019\\nsamples = 2394\\nvalue = [23, 2371]'),\n Text(0.20921392732248745, 0.17307692307692307, 'gini = 0.0\\nsamples = 1\\nvalue = [1, 0]'),\n Text(0.21894480766306826, 0.17307692307692307, 'X[0] <= 95490.0\\ngini = 0.018\\nsamples = 2393\\nvalue = [22, 2371]'),\n Text(0.21407936749277787, 0.1346153846153846, 'gini = 0.0\\nsamples = 1377\\nvalue = [0, 1377]'),\n Text(0.22381024783335868, 0.1346153846153846, 'X[0] <= 1010989.5\\ngini = 0.042\\nsamples = 1016\\nvalue = [22, 994]'),\n Text(0.21894480766306826, 0.09615384615384616, 'X[0] <= 986876.0\\ngini = 0.475\\nsamples = 36\\nvalue = [22, 14]'),\n Text(0.21407936749277787, 0.057692307692307696, 'X[0] <= 148262.5\\ngini = 0.291\\nsamples = 17\\nvalue = [3, 14]'),\n Text(0.20921392732248745, 0.019230769230769232, 'gini = 0.0\\nsamples = 3\\nvalue = [3, 0]'),\n Text(0.21894480766306826, 0.019230769230769232, 'gini = 0.0\\nsamples = 14\\nvalue = [0, 14]'),\n Text(0.22381024783335868, 0.057692307692307696, 'gini = 0.0\\nsamples = 19\\nvalue = [19, 0]'),\n Text(0.22867568800364907, 0.09615384615384616, 'gini = 0.0\\nsamples = 980\\nvalue = [0, 980]'),\n Text(0.25786832902539153, 0.21153846153846154, 'X[1] <= 64283.5\\ngini = 0.001\\nsamples = 6251\\nvalue = [3, 6248]'),\n Text(0.2481374486848107, 0.17307692307692307, 'X[5] <= 3660500041728.0\\ngini = 0.0\\nsamples = 6082\\nvalue = [1, 6081]'),\n Text(0.2432720085145203, 0.1346153846153846, 'X[5] <= 3659499962368.0\\ngini = 0.003\\nsamples = 774\\nvalue = [1, 773]'),\n Text(0.23840656834422988, 0.09615384615384616, 'gini = 0.0\\nsamples = 773\\nvalue = [0, 773]'),\n Text(0.2481374486848107, 0.09615384615384616, 'gini = 0.0\\nsamples = 1\\nvalue = [1, 0]'),\n Text(0.2530028888551011, 0.1346153846153846, 'gini = 0.0\\nsamples = 5308\\nvalue = [0, 5308]'),\n Text(0.2675992093659723, 0.17307692307692307, 'X[1] <= 64285.5\\ngini = 0.023\\nsamples = 169\\nvalue = [2, 167]'),\n Text(0.2627337691956819, 0.1346153846153846, 'gini = 0.0\\nsamples = 1\\nvalue = [1, 0]'),\n Text(0.27246464953626276, 0.1346153846153846, 'X[5] <= 3667991330816.0\\ngini = 0.012\\nsamples = 168\\nvalue = [1, 167]'),\n Text(0.2675992093659723, 0.09615384615384616, 'X[5] <= 3640499896320.0\\ngini = 0.153\\nsamples = 12\\nvalue = [1, 11]'),\n Text(0.2627337691956819, 0.057692307692307696, 'gini = 0.0\\nsamples = 11\\nvalue = [0, 11]'),\n Text(0.27246464953626276, 0.057692307692307696, 'gini = 0.0\\nsamples = 1\\nvalue = [1, 0]'),\n Text(0.27733008970655315, 0.09615384615384616, 'gini = 0.0\\nsamples = 156\\nvalue = [0, 156]'),\n Text(0.2955754903451422, 0.25, 'X[6] <= 101623.379\\ngini = 0.001\\nsamples = 49256\\nvalue = [16, 49240]'),\n Text(0.28219552987684354, 0.21153846153846154, 'X[6] <= 101620.445\\ngini = 0.01\\nsamples = 389\\nvalue = [2, 387]'),\n Text(0.27733008970655315, 0.17307692307692307, 'gini = 0.0\\nsamples = 387\\nvalue = [0, 387]'),\n Text(0.28706097004713393, 0.17307692307692307, 'gini = 0.0\\nsamples = 2\\nvalue = [2, 0]'),\n Text(0.3089554508134408, 0.21153846153846154, 'X[1] <= 54619.5\\ngini = 0.001\\nsamples = 48867\\nvalue = [14, 48853]'),\n Text(0.2967918503877148, 0.17307692307692307, 'X[20] <= 0.263\\ngini = 0.0\\nsamples = 33798\\nvalue = [2, 33796]'),\n Text(0.2919264102174244, 0.1346153846153846, 'X[20] <= 0.263\\ngini = 0.003\\nsamples = 1344\\nvalue = [2, 1342]'),\n Text(0.28706097004713393, 0.09615384615384616, 'X[14] <= 5.47\\ngini = 0.001\\nsamples = 1343\\nvalue = [1, 1342]'),\n Text(0.28219552987684354, 0.057692307692307696, 'gini = 0.0\\nsamples = 1319\\nvalue = [0, 1319]'),\n Text(0.2919264102174244, 0.057692307692307696, 'X[38] <= 0.252\\ngini = 0.08\\nsamples = 24\\nvalue = [1, 23]'),\n Text(0.28706097004713393, 0.019230769230769232, 'gini = 0.0\\nsamples = 23\\nvalue = [0, 23]'),\n Text(0.2967918503877148, 0.019230769230769232, 'gini = 0.0\\nsamples = 1\\nvalue = [1, 0]'),\n Text(0.2967918503877148, 0.09615384615384616, 'gini = 0.0\\nsamples = 1\\nvalue = [1, 0]'),\n Text(0.30165729055800516, 0.1346153846153846, 'gini = 0.0\\nsamples = 32454\\nvalue = [0, 32454]'),\n Text(0.3211190512391668, 0.17307692307692307, 'X[1] <= 54620.5\\ngini = 0.002\\nsamples = 15069\\nvalue = [12, 15057]'),\n Text(0.311388170898586, 0.1346153846153846, 'X[41] <= 375.5\\ngini = 0.5\\nsamples = 2\\nvalue = [1, 1]'),\n Text(0.30652273072829556, 0.09615384615384616, 'gini = 0.0\\nsamples = 1\\nvalue = [0, 1]'),\n Text(0.3162536110688764, 0.09615384615384616, 'gini = 0.0\\nsamples = 1\\nvalue = [1, 0]'),\n Text(0.3308499315797476, 0.1346153846153846, 'X[0] <= 1010612.5\\ngini = 0.001\\nsamples = 15067\\nvalue = [11, 15056]'),\n Text(0.3259844914094572, 0.09615384615384616, 'X[0] <= 1002111.5\\ngini = 0.007\\nsamples = 3081\\nvalue = [11, 3070]'),\n Text(0.3211190512391668, 0.057692307692307696, 'gini = 0.0\\nsamples = 3070\\nvalue = [0, 3070]'),\n Text(0.3308499315797476, 0.057692307692307696, 'gini = 0.0\\nsamples = 11\\nvalue = [11, 0]'),\n Text(0.335715371750038, 0.09615384615384616, 'gini = 0.0\\nsamples = 11986\\nvalue = [0, 11986]'),\n Text(0.15592215295727535, 0.40384615384615385, 'gini = 0.0\\nsamples = 27\\nvalue = [27, 0]'),\n Text(0.12661547818154173, 0.4807692307692308, 'gini = 0.0\\nsamples = 1\\nvalue = [1, 0]'),\n Text(0.2660787593127566, 0.5961538461538461, 'X[5] <= 6.480243930788004e+17\\ngini = 0.085\\nsamples = 4690\\nvalue = [209, 4481]'),\n Text(0.26121331914246615, 0.5576923076923077, 'X[58] <= 24.919\\ngini = 0.01\\nsamples = 4503\\nvalue = [22, 4481]'),\n Text(0.24904971871674014, 0.5192307692307693, 'X[41] <= 92.5\\ngini = 0.007\\nsamples = 4496\\nvalue = [16, 4480]'),\n Text(0.23931883837615933, 0.4807692307692308, 'X[59] <= 208.591\\ngini = 0.167\\nsamples = 152\\nvalue = [14, 138]'),\n Text(0.23445339820586894, 0.4423076923076923, 'X[1] <= 402.0\\ngini = 0.104\\nsamples = 146\\nvalue = [8, 138]'),\n Text(0.22958795803557852, 0.40384615384615385, 'X[0] <= 55119.5\\ngini = 0.417\\nsamples = 27\\nvalue = [8, 19]'),\n Text(0.22472251786528813, 0.36538461538461536, 'gini = 0.0\\nsamples = 15\\nvalue = [0, 15]'),\n Text(0.23445339820586894, 0.36538461538461536, 'X[2] <= 155583367.5\\ngini = 0.444\\nsamples = 12\\nvalue = [8, 4]'),\n Text(0.22958795803557852, 0.3269230769230769, 'gini = 0.0\\nsamples = 8\\nvalue = [8, 0]'),\n Text(0.23931883837615933, 0.3269230769230769, 'gini = 0.0\\nsamples = 4\\nvalue = [0, 4]'),\n Text(0.23931883837615933, 0.40384615384615385, 'gini = 0.0\\nsamples = 119\\nvalue = [0, 119]'),\n Text(0.24418427854644975, 0.4423076923076923, 'gini = 0.0\\nsamples = 6\\nvalue = [6, 0]'),\n Text(0.258780599057321, 0.4807692307692308, 'X[58] <= 4.001\\ngini = 0.001\\nsamples = 4344\\nvalue = [2, 4342]'),\n Text(0.25391515888703053, 0.4423076923076923, 'X[5] <= 3612500033536.0\\ngini = 0.033\\nsamples = 119\\nvalue = [2, 117]'),\n Text(0.24904971871674014, 0.40384615384615385, 'gini = 0.0\\nsamples = 2\\nvalue = [2, 0]'),\n Text(0.258780599057321, 0.40384615384615385, 'gini = 0.0\\nsamples = 117\\nvalue = [0, 117]'),\n Text(0.2636460392276114, 0.4423076923076923, 'gini = 0.0\\nsamples = 4225\\nvalue = [0, 4225]'),\n Text(0.2733769195681922, 0.5192307692307693, 'X[6] <= 7250222.0\\ngini = 0.245\\nsamples = 7\\nvalue = [6, 1]'),\n Text(0.26851147939790176, 0.4807692307692308, 'gini = 0.0\\nsamples = 1\\nvalue = [0, 1]'),\n Text(0.2782423597384826, 0.4807692307692308, 'gini = 0.0\\nsamples = 6\\nvalue = [6, 0]'),\n Text(0.270944199483047, 0.5576923076923077, 'gini = 0.0\\nsamples = 187\\nvalue = [187, 0]'),\n Text(0.32446404135624146, 0.6346153846153846, 'X[5] <= 7.190063824051896e+17\\ngini = 0.124\\nsamples = 3139\\nvalue = [209, 2930]'),\n Text(0.3147331610156606, 0.5961538461538461, 'X[69] <= 116.5\\ngini = 0.005\\nsamples = 2934\\nvalue = [8, 2926]'),\n Text(0.30986772084537023, 0.5576923076923077, 'X[74] <= 1709982.0\\ngini = 0.005\\nsamples = 2933\\nvalue = [7, 2926]'),\n Text(0.2977041204196442, 0.5192307692307693, 'X[7] <= 71.5\\ngini = 0.001\\nsamples = 2898\\nvalue = [2, 2896]'),\n Text(0.2879732400790634, 0.4807692307692308, 'X[5] <= 3614000021504.0\\ngini = 0.001\\nsamples = 2854\\nvalue = [1, 2853]'),\n Text(0.283107799908773, 0.4423076923076923, 'X[0] <= 2043958.0\\ngini = 0.02\\nsamples = 97\\nvalue = [1, 96]'),\n Text(0.2782423597384826, 0.40384615384615385, 'gini = 0.0\\nsamples = 1\\nvalue = [1, 0]'),\n Text(0.2879732400790634, 0.40384615384615385, 'gini = 0.0\\nsamples = 96\\nvalue = [0, 96]'),\n Text(0.29283868024935383, 0.4423076923076923, 'gini = 0.0\\nsamples = 2757\\nvalue = [0, 2757]'),\n Text(0.307435000760225, 0.4807692307692308, 'X[64] <= 6634.0\\ngini = 0.044\\nsamples = 44\\nvalue = [1, 43]'),\n Text(0.3025695605899346, 0.4423076923076923, 'gini = 0.0\\nsamples = 1\\nvalue = [1, 0]'),\n Text(0.31230044093051545, 0.4423076923076923, 'gini = 0.0\\nsamples = 43\\nvalue = [0, 43]'),\n Text(0.32203132127109624, 0.5192307692307693, 'X[14] <= 19.68\\ngini = 0.245\\nsamples = 35\\nvalue = [5, 30]'),\n Text(0.31716588110080585, 0.4807692307692308, 'gini = 0.0\\nsamples = 30\\nvalue = [0, 30]'),\n Text(0.32689676144138663, 0.4807692307692308, 'gini = 0.0\\nsamples = 5\\nvalue = [5, 0]'),\n Text(0.319598601185951, 0.5576923076923077, 'gini = 0.0\\nsamples = 1\\nvalue = [1, 0]'),\n Text(0.33419492169682224, 0.5961538461538461, 'X[39] <= 0.006\\ngini = 0.038\\nsamples = 205\\nvalue = [201, 4]'),\n Text(0.32932948152653185, 0.5576923076923077, 'gini = 0.0\\nsamples = 201\\nvalue = [201, 0]'),\n Text(0.3390603618671127, 0.5576923076923077, 'gini = 0.0\\nsamples = 4\\nvalue = [0, 4]'),\n Text(0.3439258020374031, 0.6730769230769231, 'X[40] <= 91.5\\ngini = 0.429\\nsamples = 141\\nvalue = [44, 97]'),\n Text(0.3390603618671127, 0.6346153846153846, 'gini = 0.0\\nsamples = 96\\nvalue = [0, 96]'),\n Text(0.3487912422076935, 0.6346153846153846, 'X[0] <= 55035.0\\ngini = 0.043\\nsamples = 45\\nvalue = [44, 1]'),\n Text(0.3439258020374031, 0.5961538461538461, 'gini = 0.0\\nsamples = 1\\nvalue = [0, 1]'),\n Text(0.35365668237798387, 0.5961538461538461, 'gini = 0.0\\nsamples = 44\\nvalue = [44, 0]'),\n Text(0.3682530028888551, 0.7115384615384616, 'X[5] <= 6.809904573747036e+17\\ngini = 0.34\\nsamples = 488\\nvalue = [106, 382]'),\n Text(0.3633875627185647, 0.6730769230769231, 'X[71] <= 23297586.0\\ngini = 0.01\\nsamples = 384\\nvalue = [2, 382]'),\n Text(0.3585221225482743, 0.6346153846153846, 'gini = 0.0\\nsamples = 380\\nvalue = [0, 380]'),\n Text(0.3682530028888551, 0.6346153846153846, 'X[22] <= 8956122.75\\ngini = 0.5\\nsamples = 4\\nvalue = [2, 2]'),\n Text(0.3633875627185647, 0.5961538461538461, 'gini = 0.0\\nsamples = 2\\nvalue = [2, 0]'),\n Text(0.3731184430591455, 0.5961538461538461, 'gini = 0.0\\nsamples = 2\\nvalue = [0, 2]'),\n Text(0.3731184430591455, 0.6730769230769231, 'gini = 0.0\\nsamples = 104\\nvalue = [104, 0]'),\n Text(0.41447468450661396, 0.75, 'X[5] <= 4.9810939445038285e+17\\ngini = 0.145\\nsamples = 7231\\nvalue = [567, 6664]'),\n Text(0.40231108408088795, 0.7115384615384616, 'X[4] <= 16.5\\ngini = 0.044\\nsamples = 6805\\nvalue = [153, 6652]'),\n Text(0.3925802037403071, 0.6730769230769231, 'X[1] <= 55649.0\\ngini = 0.028\\nsamples = 6730\\nvalue = [97, 6633]'),\n Text(0.3877147635700167, 0.6346153846153846, 'X[0] <= 55120.0\\ngini = 0.019\\nsamples = 6696\\nvalue = [63, 6633]'),\n Text(0.3828493233997263, 0.5961538461538461, 'gini = 0.0\\nsamples = 5775\\nvalue = [0, 5775]'),\n Text(0.3925802037403071, 0.5961538461538461, 'X[0] <= 1002690.0\\ngini = 0.127\\nsamples = 921\\nvalue = [63, 858]'),\n Text(0.3877147635700167, 0.5576923076923077, 'X[44] <= 0.017\\ngini = 0.375\\nsamples = 84\\nvalue = [63, 21]'),\n Text(0.3828493233997263, 0.5192307692307693, 'X[2] <= 20473267200.0\\ngini = 0.18\\nsamples = 70\\nvalue = [63, 7]'),\n Text(0.37798388322943594, 0.4807692307692308, 'gini = 0.0\\nsamples = 56\\nvalue = [56, 0]'),\n Text(0.3877147635700167, 0.4807692307692308, 'X[0] <= 988821.5\\ngini = 0.5\\nsamples = 14\\nvalue = [7, 7]'),\n Text(0.3828493233997263, 0.4423076923076923, 'gini = 0.0\\nsamples = 7\\nvalue = [0, 7]'),\n Text(0.3925802037403071, 0.4423076923076923, 'gini = 0.0\\nsamples = 7\\nvalue = [7, 0]'),\n Text(0.3925802037403071, 0.5192307692307693, 'gini = 0.0\\nsamples = 14\\nvalue = [0, 14]'),\n Text(0.39744564391059756, 0.5576923076923077, 'gini = 0.0\\nsamples = 837\\nvalue = [0, 837]'),\n Text(0.39744564391059756, 0.6346153846153846, 'gini = 0.0\\nsamples = 34\\nvalue = [34, 0]'),\n Text(0.41204196442146873, 0.6730769230769231, 'X[1] <= 17499.5\\ngini = 0.378\\nsamples = 75\\nvalue = [56, 19]'),\n Text(0.40717652425117834, 0.6346153846153846, 'gini = 0.0\\nsamples = 19\\nvalue = [0, 19]'),\n Text(0.4169074045917592, 0.6346153846153846, 'gini = 0.0\\nsamples = 56\\nvalue = [56, 0]'),\n Text(0.42663828493233996, 0.7115384615384616, 'X[5] <= 1.4591359052593234e+18\\ngini = 0.055\\nsamples = 426\\nvalue = [414, 12]'),\n Text(0.42177284476204957, 0.6730769230769231, 'gini = 0.0\\nsamples = 414\\nvalue = [414, 0]'),\n Text(0.43150372510263035, 0.6730769230769231, 'gini = 0.0\\nsamples = 12\\nvalue = [0, 12]'),\n Text(0.4461000456135016, 0.7884615384615384, 'X[5] <= 7.189283395254354e+17\\ngini = 0.441\\nsamples = 412\\nvalue = [277, 135]'),\n Text(0.4412346054432112, 0.75, 'X[5] <= 3614499930112.0\\ngini = 0.015\\nsamples = 136\\nvalue = [1, 135]'),\n Text(0.4363691652729208, 0.7115384615384616, 'gini = 0.0\\nsamples = 1\\nvalue = [1, 0]'),\n Text(0.4461000456135016, 0.7115384615384616, 'gini = 0.0\\nsamples = 135\\nvalue = [0, 135]'),\n Text(0.450965485783792, 0.75, 'gini = 0.0\\nsamples = 276\\nvalue = [276, 0]'),\n Text(0.47529268663524404, 0.8269230769230769, 'X[5] <= 6478969962496.0\\ngini = 0.387\\nsamples = 1564\\nvalue = [1154, 410]'),\n Text(0.4655618062946632, 0.7884615384615384, 'X[0] <= 127359.0\\ngini = 0.298\\nsamples = 488\\nvalue = [89, 399]'),\n Text(0.4606963661243728, 0.75, 'X[0] <= 55120.0\\ngini = 0.455\\nsamples = 137\\nvalue = [89, 48]'),\n Text(0.4558309259540824, 0.7115384615384616, 'X[3] <= 74.0\\ngini = 0.198\\nsamples = 54\\nvalue = [6, 48]'),\n Text(0.450965485783792, 0.6730769230769231, 'gini = 0.0\\nsamples = 6\\nvalue = [6, 0]'),\n Text(0.4606963661243728, 0.6730769230769231, 'gini = 0.0\\nsamples = 48\\nvalue = [0, 48]'),\n Text(0.4655618062946632, 0.7115384615384616, 'gini = 0.0\\nsamples = 83\\nvalue = [83, 0]'),\n Text(0.47042724646495365, 0.75, 'gini = 0.0\\nsamples = 351\\nvalue = [0, 351]'),\n Text(0.4850235669758248, 0.7884615384615384, 'X[0] <= 19216813.0\\ngini = 0.02\\nsamples = 1076\\nvalue = [1065, 11]'),\n Text(0.48015812680553444, 0.75, 'gini = 0.0\\nsamples = 1061\\nvalue = [1061, 0]'),\n Text(0.4898890071461153, 0.75, 'X[40] <= 263.5\\ngini = 0.391\\nsamples = 15\\nvalue = [4, 11]'),\n Text(0.4850235669758248, 0.7115384615384616, 'gini = 0.0\\nsamples = 11\\nvalue = [0, 11]'),\n Text(0.49475444731640567, 0.7115384615384616, 'gini = 0.0\\nsamples = 4\\nvalue = [4, 0]'),\n Text(0.4898890071461153, 0.8653846153846154, 'X[5] <= 1.5115979343475507e+18\\ngini = 0.086\\nsamples = 4084\\nvalue = [3899, 185]'),\n Text(0.4850235669758248, 0.8269230769230769, 'gini = 0.0\\nsamples = 3899\\nvalue = [3899, 0]'),\n Text(0.49475444731640567, 0.8269230769230769, 'gini = 0.0\\nsamples = 185\\nvalue = [0, 185]'),\n Text(0.5385434088490193, 0.9038461538461539, 'X[5] <= 5.825471607535043e+17\\ngini = 0.099\\nsamples = 78266\\nvalue = [74164, 4102]'),\n Text(0.5288125285084385, 0.8653846153846154, 'X[67] <= 64788.0\\ngini = 0.021\\nsamples = 4135\\nvalue = [43, 4092]'),\n Text(0.5239470883381481, 0.8269230769230769, 'X[45] <= 0.5\\ngini = 0.008\\nsamples = 4109\\nvalue = [17, 4092]'),\n Text(0.5142162079975673, 0.7884615384615384, 'X[3] <= 64437.0\\ngini = 0.001\\nsamples = 4073\\nvalue = [2, 4071]'),\n Text(0.5093507678272768, 0.75, 'X[56] <= 8.5\\ngini = 0.0\\nsamples = 4072\\nvalue = [1, 4071]'),\n Text(0.5044853276569865, 0.7115384615384616, 'X[3] <= 32845.5\\ngini = 0.049\\nsamples = 40\\nvalue = [1, 39]'),\n Text(0.49961988748669606, 0.6730769230769231, 'gini = 0.0\\nsamples = 37\\nvalue = [0, 37]'),\n Text(0.5093507678272768, 0.6730769230769231, 'X[9] <= 83.0\\ngini = 0.444\\nsamples = 3\\nvalue = [1, 2]'),\n Text(0.5044853276569865, 0.6346153846153846, 'gini = 0.0\\nsamples = 2\\nvalue = [0, 2]'),\n Text(0.5142162079975673, 0.6346153846153846, 'gini = 0.0\\nsamples = 1\\nvalue = [1, 0]'),\n Text(0.5142162079975673, 0.7115384615384616, 'gini = 0.0\\nsamples = 4032\\nvalue = [0, 4032]'),\n Text(0.5190816481678577, 0.75, 'gini = 0.0\\nsamples = 1\\nvalue = [1, 0]'),\n Text(0.5336779686787289, 0.7884615384615384, 'X[55] <= 3.589\\ngini = 0.486\\nsamples = 36\\nvalue = [15, 21]'),\n Text(0.5288125285084385, 0.75, 'gini = 0.0\\nsamples = 15\\nvalue = [15, 0]'),\n Text(0.5385434088490193, 0.75, 'gini = 0.0\\nsamples = 21\\nvalue = [0, 21]'),\n Text(0.5336779686787289, 0.8269230769230769, 'gini = 0.0\\nsamples = 26\\nvalue = [26, 0]'),\n Text(0.5482742891896001, 0.8653846153846154, 'X[55] <= 3.347\\ngini = 0.0\\nsamples = 74131\\nvalue = [74121, 10]'),\n Text(0.5434088490193097, 0.8269230769230769, 'gini = 0.0\\nsamples = 74121\\nvalue = [74121, 0]'),\n Text(0.5531397293598905, 0.8269230769230769, 'gini = 0.0\\nsamples = 10\\nvalue = [0, 10]'),\n Text(0.7073549395621104, 0.9423076923076923, 'X[0] <= 99807.0\\ngini = 0.1\\nsamples = 1091288\\nvalue = [1033560, 57728]'),\n Text(0.6458919340124677, 0.9038461538461539, 'X[1] <= 101.5\\ngini = 0.0\\nsamples = 29372\\nvalue = [2, 29370]'),\n Text(0.6410264938421772, 0.8653846153846154, 'gini = 0.0\\nsamples = 2\\nvalue = [2, 0]'),\n Text(0.6507573741827581, 0.8653846153846154, 'gini = 0.0\\nsamples = 29370\\nvalue = [0, 29370]'),\n Text(0.768817945111753, 0.9038461538461539, 'X[64] <= 155072.0\\ngini = 0.052\\nsamples = 1061916\\nvalue = [1033558, 28358]'),\n Text(0.6604882545233389, 0.8653846153846154, 'X[5] <= 3687984398336.0\\ngini = 0.032\\nsamples = 1049956\\nvalue = [1032702, 17254]'),\n Text(0.5701687699559069, 0.8269230769230769, 'X[0] <= 1005677.0\\ngini = 0.163\\nsamples = 6144\\nvalue = [549, 5595]'),\n Text(0.558005169530181, 0.7884615384615384, 'X[16] <= 53.689\\ngini = 0.117\\nsamples = 562\\nvalue = [527, 35]'),\n Text(0.5482742891896001, 0.75, 'X[70] <= 13.5\\ngini = 0.133\\nsamples = 14\\nvalue = [1, 13]'),\n Text(0.5434088490193097, 0.7115384615384616, 'gini = 0.0\\nsamples = 1\\nvalue = [1, 0]'),\n Text(0.5531397293598905, 0.7115384615384616, 'gini = 0.0\\nsamples = 13\\nvalue = [0, 13]'),\n Text(0.5677360498707618, 0.75, 'X[15] <= 1486.436\\ngini = 0.077\\nsamples = 548\\nvalue = [526, 22]'),\n Text(0.5628706097004713, 0.7115384615384616, 'X[67] <= 34361.0\\ngini = 0.057\\nsamples = 542\\nvalue = [526, 16]'),\n Text(0.558005169530181, 0.6730769230769231, 'X[72] <= 308031.297\\ngini = 0.051\\nsamples = 540\\nvalue = [526, 14]'),\n Text(0.5531397293598905, 0.6346153846153846, 'X[31] <= 8018423.0\\ngini = 0.047\\nsamples = 539\\nvalue = [526, 13]'),\n Text(0.5482742891896001, 0.5961538461538461, 'X[44] <= 460646.047\\ngini = 0.044\\nsamples = 538\\nvalue = [526, 12]'),\n Text(0.5434088490193097, 0.5576923076923077, 'X[5] <= 3632499916800.0\\ngini = 0.04\\nsamples = 537\\nvalue = [526, 11]'),\n Text(0.5202980082104303, 0.5192307692307693, 'X[16] <= 155.272\\ngini = 0.19\\nsamples = 66\\nvalue = [59, 7]'),\n Text(0.5105671278698495, 0.4807692307692308, 'X[66] <= 91.5\\ngini = 0.097\\nsamples = 59\\nvalue = [56, 3]'),\n Text(0.505701687699559, 0.4423076923076923, 'gini = 0.0\\nsamples = 1\\nvalue = [0, 1]'),\n Text(0.5154325680401399, 0.4423076923076923, 'X[1] <= 64694.5\\ngini = 0.067\\nsamples = 58\\nvalue = [56, 2]'),\n Text(0.505701687699559, 0.40384615384615385, 'X[10] <= 118.352\\ngini = 0.035\\nsamples = 56\\nvalue = [55, 1]'),\n Text(0.5008362475292687, 0.36538461538461536, 'X[53] <= 96.64\\ngini = 0.198\\nsamples = 9\\nvalue = [8, 1]'),\n Text(0.49597080735897825, 0.3269230769230769, 'gini = 0.0\\nsamples = 8\\nvalue = [8, 0]'),\n Text(0.505701687699559, 0.3269230769230769, 'gini = 0.0\\nsamples = 1\\nvalue = [0, 1]'),\n Text(0.5105671278698495, 0.36538461538461536, 'gini = 0.0\\nsamples = 47\\nvalue = [47, 0]'),\n Text(0.5251634483807207, 0.40384615384615385, 'X[17] <= 108.336\\ngini = 0.5\\nsamples = 2\\nvalue = [1, 1]'),\n Text(0.5202980082104303, 0.36538461538461536, 'gini = 0.0\\nsamples = 1\\nvalue = [0, 1]'),\n Text(0.530028888551011, 0.36538461538461536, 'gini = 0.0\\nsamples = 1\\nvalue = [1, 0]'),\n Text(0.530028888551011, 0.4807692307692308, 'X[2] <= 9425.5\\ngini = 0.49\\nsamples = 7\\nvalue = [3, 4]'),\n Text(0.5251634483807207, 0.4423076923076923, 'gini = 0.0\\nsamples = 3\\nvalue = [3, 0]'),\n Text(0.5348943287213015, 0.4423076923076923, 'gini = 0.0\\nsamples = 4\\nvalue = [0, 4]'),\n Text(0.5665196898281891, 0.5192307692307693, 'X[52] <= 0.666\\ngini = 0.017\\nsamples = 471\\nvalue = [467, 4]'),\n Text(0.5494906492321727, 0.4807692307692308, 'X[31] <= 121556.492\\ngini = 0.153\\nsamples = 24\\nvalue = [22, 2]'),\n Text(0.5446252090618823, 0.4423076923076923, 'gini = 0.0\\nsamples = 21\\nvalue = [21, 0]'),\n Text(0.5543560894024632, 0.4423076923076923, 'X[10] <= 780.019\\ngini = 0.444\\nsamples = 3\\nvalue = [1, 2]'),\n Text(0.5494906492321727, 0.40384615384615385, 'gini = 0.0\\nsamples = 1\\nvalue = [1, 0]'),\n Text(0.5592215295727535, 0.40384615384615385, 'gini = 0.0\\nsamples = 2\\nvalue = [0, 2]'),\n Text(0.5835487304242055, 0.4807692307692308, 'X[1] <= 63721.0\\ngini = 0.009\\nsamples = 447\\nvalue = [445, 2]'),\n Text(0.5738178500836247, 0.4423076923076923, 'X[66] <= 93.5\\ngini = 0.005\\nsamples = 431\\nvalue = [430, 1]'),\n Text(0.5689524099133344, 0.40384615384615385, 'X[66] <= 91.5\\ngini = 0.044\\nsamples = 44\\nvalue = [43, 1]'),\n Text(0.564086969743044, 0.36538461538461536, 'gini = 0.0\\nsamples = 43\\nvalue = [43, 0]'),\n Text(0.5738178500836247, 0.36538461538461536, 'gini = 0.0\\nsamples = 1\\nvalue = [0, 1]'),\n Text(0.5786832902539152, 0.40384615384615385, 'gini = 0.0\\nsamples = 387\\nvalue = [387, 0]'),\n Text(0.5932796107647864, 0.4423076923076923, 'X[1] <= 63782.5\\ngini = 0.117\\nsamples = 16\\nvalue = [15, 1]'),\n Text(0.588414170594496, 0.40384615384615385, 'gini = 0.0\\nsamples = 1\\nvalue = [0, 1]'),\n Text(0.5981450509350767, 0.40384615384615385, 'gini = 0.0\\nsamples = 15\\nvalue = [15, 0]'),\n Text(0.5531397293598905, 0.5576923076923077, 'gini = 0.0\\nsamples = 1\\nvalue = [0, 1]'),\n Text(0.558005169530181, 0.5961538461538461, 'gini = 0.0\\nsamples = 1\\nvalue = [0, 1]'),\n Text(0.5628706097004713, 0.6346153846153846, 'gini = 0.0\\nsamples = 1\\nvalue = [0, 1]'),\n Text(0.5677360498707618, 0.6730769230769231, 'gini = 0.0\\nsamples = 2\\nvalue = [0, 2]'),\n Text(0.5726014900410521, 0.7115384615384616, 'gini = 0.0\\nsamples = 6\\nvalue = [0, 6]'),\n Text(0.582332370381633, 0.7884615384615384, 'X[0] <= 1706005632.0\\ngini = 0.008\\nsamples = 5582\\nvalue = [22, 5560]'),\n Text(0.5774669302113425, 0.75, 'gini = 0.0\\nsamples = 5556\\nvalue = [0, 5556]'),\n Text(0.5871978105519233, 0.75, 'X[6] <= 11094.377\\ngini = 0.26\\nsamples = 26\\nvalue = [22, 4]'),\n Text(0.582332370381633, 0.7115384615384616, 'gini = 0.0\\nsamples = 4\\nvalue = [0, 4]'),\n Text(0.5920632507222138, 0.7115384615384616, 'gini = 0.0\\nsamples = 22\\nvalue = [22, 0]'),\n Text(0.7508077390907709, 0.8269230769230769, 'X[5] <= 5397500133376.0\\ngini = 0.022\\nsamples = 1043812\\nvalue = [1032153, 11659]'),\n Text(0.6536604835031169, 0.7884615384615384, 'X[0] <= 1007143.5\\ngini = 0.243\\nsamples = 50969\\nvalue = [43773, 7196]'),\n Text(0.6196214079367492, 0.75, 'X[16] <= 53.793\\ngini = 0.006\\nsamples = 40365\\nvalue = [40246, 119]'),\n Text(0.6017941310627946, 0.7115384615384616, 'X[67] <= 120.5\\ngini = 0.278\\nsamples = 78\\nvalue = [13, 65]'),\n Text(0.5969286908925042, 0.6730769230769231, 'gini = 0.0\\nsamples = 13\\nvalue = [13, 0]'),\n Text(0.606659571233085, 0.6730769230769231, 'gini = 0.0\\nsamples = 65\\nvalue = [0, 65]'),\n Text(0.6374486848107039, 0.7115384615384616, 'X[15] <= 1474.007\\ngini = 0.003\\nsamples = 40287\\nvalue = [40233, 54]'),\n Text(0.6163904515736658, 0.6730769230769231, 'X[2] <= 1426921.0\\ngini = 0.002\\nsamples = 40274\\nvalue = [40232, 42]'),\n Text(0.5888703056104607, 0.6346153846153846, 'X[2] <= 9425.5\\ngini = 0.068\\nsamples = 595\\nvalue = [574, 21]'),\n Text(0.5840048654401703, 0.5961538461538461, 'gini = 0.0\\nsamples = 562\\nvalue = [562, 0]'),\n Text(0.5937357457807511, 0.5961538461538461, 'X[68] <= 38130.5\\ngini = 0.463\\nsamples = 33\\nvalue = [12, 21]'),\n Text(0.5888703056104607, 0.5576923076923077, 'gini = 0.0\\nsamples = 21\\nvalue = [0, 21]'),\n Text(0.5986011859510415, 0.5576923076923077, 'gini = 0.0\\nsamples = 12\\nvalue = [12, 0]'),\n Text(0.643910597536871, 0.6346153846153846, 'X[52] <= 0.724\\ngini = 0.001\\nsamples = 39679\\nvalue = [39658, 21]'),\n Text(0.6180629466322032, 0.5961538461538461, 'X[18] <= 245.879\\ngini = 0.027\\nsamples = 1096\\nvalue = [1081, 15]'),\n Text(0.6083320662916223, 0.5576923076923077, 'X[37] <= 69.5\\ngini = 0.004\\nsamples = 1071\\nvalue = [1069, 2]'),\n Text(0.603466626121332, 0.5192307692307693, 'gini = 0.0\\nsamples = 1054\\nvalue = [1054, 0]'),\n Text(0.6131975064619127, 0.5192307692307693, 'X[55] <= 131.672\\ngini = 0.208\\nsamples = 17\\nvalue = [15, 2]'),\n Text(0.6083320662916223, 0.4807692307692308, 'gini = 0.0\\nsamples = 15\\nvalue = [15, 0]'),\n Text(0.6180629466322032, 0.4807692307692308, 'gini = 0.0\\nsamples = 2\\nvalue = [0, 2]'),\n Text(0.627793826972784, 0.5576923076923077, 'X[68] <= 49065.5\\ngini = 0.499\\nsamples = 25\\nvalue = [12, 13]'),\n Text(0.6229283868024935, 0.5192307692307693, 'gini = 0.0\\nsamples = 13\\nvalue = [0, 13]'),\n Text(0.6326592671430743, 0.5192307692307693, 'gini = 0.0\\nsamples = 12\\nvalue = [12, 0]'),\n Text(0.6697582484415388, 0.5961538461538461, 'X[19] <= 1718112.438\\ngini = 0.0\\nsamples = 38583\\nvalue = [38577, 6]'),\n Text(0.6557701079519538, 0.5576923076923077, 'X[62] <= 8560524.25\\ngini = 0.0\\nsamples = 38576\\nvalue = [38571, 5]'),\n Text(0.6423901474836552, 0.5192307692307693, 'X[59] <= 18593.701\\ngini = 0.0\\nsamples = 38540\\nvalue = [38536, 4]'),\n Text(0.6302265470579291, 0.4807692307692308, 'X[2] <= 10237126.0\\ngini = 0.0\\nsamples = 38316\\nvalue = [38314, 2]'),\n Text(0.6204956667173483, 0.4423076923076923, 'X[16] <= 54.406\\ngini = 0.005\\nsamples = 385\\nvalue = [384, 1]'),\n Text(0.6156302265470579, 0.40384615384615385, 'gini = 0.0\\nsamples = 384\\nvalue = [384, 0]'),\n Text(0.6253611068876388, 0.40384615384615385, 'gini = 0.0\\nsamples = 1\\nvalue = [0, 1]'),\n Text(0.6399574273985099, 0.4423076923076923, 'X[52] <= 0.755\\ngini = 0.0\\nsamples = 37931\\nvalue = [37930, 1]'),\n Text(0.6350919872282196, 0.40384615384615385, 'X[52] <= 0.752\\ngini = 0.001\\nsamples = 1550\\nvalue = [1549, 1]'),\n Text(0.6302265470579291, 0.36538461538461536, 'gini = 0.0\\nsamples = 1549\\nvalue = [1549, 0]'),\n Text(0.6399574273985099, 0.36538461538461536, 'gini = 0.0\\nsamples = 1\\nvalue = [0, 1]'),\n Text(0.6448228675688004, 0.40384615384615385, 'gini = 0.0\\nsamples = 36381\\nvalue = [36381, 0]'),\n Text(0.6545537479093811, 0.4807692307692308, 'X[69] <= 3.5\\ngini = 0.018\\nsamples = 224\\nvalue = [222, 2]'),\n Text(0.6496883077390908, 0.4423076923076923, 'gini = 0.0\\nsamples = 2\\nvalue = [0, 2]'),\n Text(0.6594191880796716, 0.4423076923076923, 'gini = 0.0\\nsamples = 222\\nvalue = [222, 0]'),\n Text(0.6691500684202524, 0.5192307692307693, 'X[24] <= 19982.248\\ngini = 0.054\\nsamples = 36\\nvalue = [35, 1]'),\n Text(0.664284628249962, 0.4807692307692308, 'gini = 0.0\\nsamples = 35\\nvalue = [35, 0]'),\n Text(0.6740155085905428, 0.4807692307692308, 'gini = 0.0\\nsamples = 1\\nvalue = [0, 1]'),\n Text(0.6837463889311236, 0.5576923076923077, 'X[12] <= 59.117\\ngini = 0.245\\nsamples = 7\\nvalue = [6, 1]'),\n Text(0.6788809487608332, 0.5192307692307693, 'gini = 0.0\\nsamples = 6\\nvalue = [6, 0]'),\n Text(0.688611829101414, 0.5192307692307693, 'gini = 0.0\\nsamples = 1\\nvalue = [0, 1]'),\n Text(0.6585069180477421, 0.6730769230769231, 'X[39] <= 0.993\\ngini = 0.142\\nsamples = 13\\nvalue = [1, 12]'),\n Text(0.6536414778774517, 0.6346153846153846, 'gini = 0.0\\nsamples = 1\\nvalue = [1, 0]'),\n Text(0.6633723582180325, 0.6346153846153846, 'gini = 0.0\\nsamples = 12\\nvalue = [0, 12]'),\n Text(0.6876995590694845, 0.75, 'X[67] <= 64805.5\\ngini = 0.444\\nsamples = 10604\\nvalue = [3527, 7077]'),\n Text(0.6828341188991942, 0.7115384615384616, 'X[5] <= 3689479143424.0\\ngini = 0.001\\nsamples = 7079\\nvalue = [2, 7077]'),\n Text(0.6779686787289038, 0.6730769230769231, 'X[7] <= 6.0\\ngini = 0.5\\nsamples = 4\\nvalue = [2, 2]'),\n Text(0.6731032385586133, 0.6346153846153846, 'gini = 0.0\\nsamples = 2\\nvalue = [0, 2]'),\n Text(0.6828341188991942, 0.6346153846153846, 'gini = 0.0\\nsamples = 2\\nvalue = [2, 0]'),\n Text(0.6876995590694845, 0.6730769230769231, 'gini = 0.0\\nsamples = 7075\\nvalue = [0, 7075]'),\n Text(0.692564999239775, 0.7115384615384616, 'gini = 0.0\\nsamples = 3525\\nvalue = [3525, 0]'),\n Text(0.8479549946784248, 0.7884615384615384, 'X[5] <= 1.5115980717865042e+18\\ngini = 0.009\\nsamples = 992843\\nvalue = [988380, 4463]'),\n Text(0.8430895545081344, 0.75, 'X[68] <= 35244.5\\ngini = 0.007\\nsamples = 992058\\nvalue = [988380, 3678]'),\n Text(0.7567279914854798, 0.7115384615384616, 'X[5] <= 66613491531776.0\\ngini = 0.003\\nsamples = 962846\\nvalue = [961206, 1640]'),\n Text(0.7226699102934468, 0.6730769230769231, 'X[68] <= 1.0\\ngini = 0.125\\nsamples = 18909\\nvalue = [17643, 1266]'),\n Text(0.7178044701231564, 0.6346153846153846, 'X[0] <= 1030373.5\\ngini = 0.015\\nsamples = 17779\\nvalue = [17643, 136]'),\n Text(0.7080735897825756, 0.5961538461538461, 'X[64] <= 38895.0\\ngini = 0.0\\nsamples = 17450\\nvalue = [17447, 3]'),\n Text(0.7032081496122853, 0.5576923076923077, 'X[0] <= 180106.0\\ngini = 0.0\\nsamples = 17449\\nvalue = [17447, 2]'),\n Text(0.6983427094419948, 0.5192307692307693, 'gini = 0.0\\nsamples = 16902\\nvalue = [16902, 0]'),\n Text(0.7080735897825756, 0.5192307692307693, 'X[0] <= 969345.5\\ngini = 0.007\\nsamples = 547\\nvalue = [545, 2]'),\n Text(0.7032081496122853, 0.4807692307692308, 'gini = 0.0\\nsamples = 2\\nvalue = [0, 2]'),\n Text(0.7129390299528661, 0.4807692307692308, 'gini = 0.0\\nsamples = 545\\nvalue = [545, 0]'),\n Text(0.7129390299528661, 0.5576923076923077, 'gini = 0.0\\nsamples = 1\\nvalue = [0, 1]'),\n Text(0.7275353504637373, 0.5961538461538461, 'X[67] <= 48936.0\\ngini = 0.482\\nsamples = 329\\nvalue = [196, 133]'),\n Text(0.7226699102934468, 0.5576923076923077, 'gini = 0.0\\nsamples = 133\\nvalue = [0, 133]'),\n Text(0.7324007906340276, 0.5576923076923077, 'gini = 0.0\\nsamples = 196\\nvalue = [196, 0]'),\n Text(0.7275353504637373, 0.6346153846153846, 'gini = 0.0\\nsamples = 1130\\nvalue = [0, 1130]'),\n Text(0.7907860726775126, 0.6730769230769231, 'X[0] <= 11537628.5\\ngini = 0.001\\nsamples = 943937\\nvalue = [943563, 374]'),\n Text(0.7567279914854798, 0.6346153846153846, 'X[16] <= 38.837\\ngini = 0.019\\nsamples = 29206\\nvalue = [28929, 277]'),\n Text(0.7469971111448989, 0.5961538461538461, 'X[39] <= 78144.856\\ngini = 0.425\\nsamples = 258\\nvalue = [79, 179]'),\n Text(0.7421316709746085, 0.5576923076923077, 'gini = 0.0\\nsamples = 179\\nvalue = [0, 179]'),\n Text(0.7518625513151893, 0.5576923076923077, 'gini = 0.0\\nsamples = 79\\nvalue = [79, 0]'),\n Text(0.7664588718260605, 0.5961538461538461, 'X[0] <= 10525924.5\\ngini = 0.007\\nsamples = 28948\\nvalue = [28850, 98]'),\n Text(0.7615934316557701, 0.5576923076923077, 'X[0] <= 3428095.0\\ngini = 0.004\\nsamples = 28909\\nvalue = [28850, 59]'),\n Text(0.7518625513151893, 0.5192307692307693, 'X[68] <= 33954.5\\ngini = 0.002\\nsamples = 28430\\nvalue = [28405, 25]'),\n Text(0.7469971111448989, 0.4807692307692308, 'X[68] <= 29929.5\\ngini = 0.002\\nsamples = 28429\\nvalue = [28405, 24]'),\n Text(0.7293598905275962, 0.4423076923076923, 'X[9] <= 70.5\\ngini = 0.002\\nsamples = 28419\\nvalue = [28397, 22]'),\n Text(0.708681769803862, 0.40384615384615385, 'X[6] <= 267353.516\\ngini = 0.019\\nsamples = 955\\nvalue = [946, 9]'),\n Text(0.7038163296335715, 0.36538461538461536, 'gini = 0.0\\nsamples = 903\\nvalue = [903, 0]'),\n Text(0.7135472099741523, 0.36538461538461536, 'X[13] <= 66.5\\ngini = 0.286\\nsamples = 52\\nvalue = [43, 9]'),\n Text(0.708681769803862, 0.3269230769230769, 'gini = 0.0\\nsamples = 43\\nvalue = [43, 0]'),\n Text(0.7184126501444428, 0.3269230769230769, 'gini = 0.0\\nsamples = 9\\nvalue = [0, 9]'),\n Text(0.7500380112513304, 0.40384615384615385, 'X[1] <= 60714.5\\ngini = 0.001\\nsamples = 27464\\nvalue = [27451, 13]'),\n Text(0.733008970655314, 0.36538461538461536, 'X[45] <= 0.5\\ngini = 0.0\\nsamples = 25645\\nvalue = [25641, 4]'),\n Text(0.7281435304850236, 0.3269230769230769, 'X[5] <= 1.4928285149471703e+18\\ngini = 0.002\\nsamples = 4011\\nvalue = [4007, 4]'),\n Text(0.7232780903147331, 0.28846153846153844, 'X[5] <= 1.4607367941893652e+18\\ngini = 0.001\\nsamples = 4009\\nvalue = [4007, 2]'),\n Text(0.7184126501444428, 0.25, 'gini = 0.0\\nsamples = 4000\\nvalue = [4000, 0]'),\n Text(0.7281435304850236, 0.25, 'X[26] <= 485.0\\ngini = 0.346\\nsamples = 9\\nvalue = [7, 2]'),\n Text(0.7232780903147331, 0.21153846153846154, 'gini = 0.0\\nsamples = 2\\nvalue = [0, 2]'),\n Text(0.733008970655314, 0.21153846153846154, 'gini = 0.0\\nsamples = 7\\nvalue = [7, 0]'),\n Text(0.733008970655314, 0.28846153846153844, 'gini = 0.0\\nsamples = 2\\nvalue = [0, 2]'),\n Text(0.7378744108256043, 0.3269230769230769, 'gini = 0.0\\nsamples = 21634\\nvalue = [21634, 0]'),\n Text(0.7670670518473468, 0.36538461538461536, 'X[68] <= 3009.0\\ngini = 0.01\\nsamples = 1819\\nvalue = [1810, 9]'),\n Text(0.757336171506766, 0.3269230769230769, 'X[0] <= 1922369.0\\ngini = 0.004\\nsamples = 1813\\nvalue = [1809, 4]'),\n Text(0.7524707313364756, 0.28846153846153844, 'X[6] <= 53265.742\\ngini = 0.002\\nsamples = 1811\\nvalue = [1809, 2]'),\n Text(0.7476052911661852, 0.25, 'X[38] <= 37.902\\ngini = 0.278\\nsamples = 12\\nvalue = [10, 2]'),\n Text(0.7427398509958948, 0.21153846153846154, 'gini = 0.0\\nsamples = 2\\nvalue = [0, 2]'),\n Text(0.7524707313364756, 0.21153846153846154, 'gini = 0.0\\nsamples = 10\\nvalue = [10, 0]'),\n Text(0.757336171506766, 0.25, 'gini = 0.0\\nsamples = 1799\\nvalue = [1799, 0]'),\n Text(0.7622016116770564, 0.28846153846153844, 'gini = 0.0\\nsamples = 2\\nvalue = [0, 2]'),\n Text(0.7767979321879276, 0.3269230769230769, 'X[6] <= 28990.127\\ngini = 0.278\\nsamples = 6\\nvalue = [1, 5]'),\n Text(0.7719324920176373, 0.28846153846153844, 'gini = 0.0\\nsamples = 1\\nvalue = [1, 0]'),\n Text(0.781663372358218, 0.28846153846153844, 'gini = 0.0\\nsamples = 5\\nvalue = [0, 5]'),\n Text(0.7646343317622016, 0.4423076923076923, 'X[27] <= 1912506.938\\ngini = 0.32\\nsamples = 10\\nvalue = [8, 2]'),\n Text(0.7597688915919112, 0.40384615384615385, 'gini = 0.0\\nsamples = 2\\nvalue = [0, 2]'),\n Text(0.769499771932492, 0.40384615384615385, 'gini = 0.0\\nsamples = 8\\nvalue = [8, 0]'),\n Text(0.7567279914854798, 0.4807692307692308, 'gini = 0.0\\nsamples = 1\\nvalue = [0, 1]'),\n Text(0.7713243119963509, 0.5192307692307693, 'X[1] <= 26579.0\\ngini = 0.132\\nsamples = 479\\nvalue = [445, 34]'),\n Text(0.7664588718260605, 0.4807692307692308, 'gini = 0.0\\nsamples = 445\\nvalue = [445, 0]'),\n Text(0.7761897521666413, 0.4807692307692308, 'gini = 0.0\\nsamples = 34\\nvalue = [0, 34]'),\n Text(0.7713243119963509, 0.5576923076923077, 'gini = 0.0\\nsamples = 39\\nvalue = [0, 39]'),\n Text(0.8248441538695453, 0.6346153846153846, 'X[68] <= 9367.5\\ngini = 0.0\\nsamples = 914731\\nvalue = [914634, 97]'),\n Text(0.7980842329329482, 0.5961538461538461, 'X[0] <= 18546938.0\\ngini = 0.0\\nsamples = 875206\\nvalue = [875192, 14]'),\n Text(0.7859206325072221, 0.5576923076923077, 'X[5] <= 1.4888726782688625e+18\\ngini = 0.008\\nsamples = 249\\nvalue = [248, 1]'),\n Text(0.7810551923369318, 0.5192307692307693, 'gini = 0.0\\nsamples = 1\\nvalue = [0, 1]'),\n Text(0.7907860726775126, 0.5192307692307693, 'gini = 0.0\\nsamples = 248\\nvalue = [248, 0]'),\n Text(0.8102478333586741, 0.5576923076923077, 'X[68] <= 2056.0\\ngini = 0.0\\nsamples = 874957\\nvalue = [874944, 13]'),\n Text(0.8005169530180933, 0.5192307692307693, 'X[38] <= 0.109\\ngini = 0.0\\nsamples = 839567\\nvalue = [839565, 2]'),\n Text(0.795651512847803, 0.4807692307692308, 'X[52] <= 0.091\\ngini = 0.001\\nsamples = 3541\\nvalue = [3539, 2]'),\n Text(0.7907860726775126, 0.4423076923076923, 'gini = 0.0\\nsamples = 2\\nvalue = [0, 2]'),\n Text(0.8005169530180933, 0.4423076923076923, 'gini = 0.0\\nsamples = 3539\\nvalue = [3539, 0]'),\n Text(0.8053823931883838, 0.4807692307692308, 'gini = 0.0\\nsamples = 836026\\nvalue = [836026, 0]'),\n Text(0.819978713699255, 0.5192307692307693, 'X[4] <= 10.5\\ngini = 0.001\\nsamples = 35390\\nvalue = [35379, 11]'),\n Text(0.8151132735289646, 0.4807692307692308, 'X[0] <= 103004812.0\\ngini = 0.0\\nsamples = 35380\\nvalue = [35379, 1]'),\n Text(0.8102478333586741, 0.4423076923076923, 'X[0] <= 76986094.0\\ngini = 0.095\\nsamples = 20\\nvalue = [19, 1]'),\n Text(0.8053823931883838, 0.40384615384615385, 'gini = 0.0\\nsamples = 19\\nvalue = [19, 0]'),\n Text(0.8151132735289646, 0.40384615384615385, 'gini = 0.0\\nsamples = 1\\nvalue = [0, 1]'),\n Text(0.819978713699255, 0.4423076923076923, 'gini = 0.0\\nsamples = 35360\\nvalue = [35360, 0]'),\n Text(0.8248441538695453, 0.4807692307692308, 'gini = 0.0\\nsamples = 10\\nvalue = [0, 10]'),\n Text(0.8516040748061426, 0.5961538461538461, 'X[70] <= 17.0\\ngini = 0.004\\nsamples = 39525\\nvalue = [39442, 83]'),\n Text(0.8467386346358522, 0.5576923076923077, 'gini = 0.0\\nsamples = 79\\nvalue = [0, 79]'),\n Text(0.856469514976433, 0.5576923076923077, 'X[62] <= 35002316.0\\ngini = 0.0\\nsamples = 39446\\nvalue = [39442, 4]'),\n Text(0.844305914550707, 0.5192307692307693, 'X[39] <= 0.066\\ngini = 0.0\\nsamples = 39438\\nvalue = [39435, 3]'),\n Text(0.8345750342101262, 0.4807692307692308, 'X[22] <= 2643044.5\\ngini = 0.043\\nsamples = 46\\nvalue = [45, 1]'),\n Text(0.8297095940398358, 0.4423076923076923, 'gini = 0.0\\nsamples = 1\\nvalue = [0, 1]'),\n Text(0.8394404743804166, 0.4423076923076923, 'gini = 0.0\\nsamples = 45\\nvalue = [45, 0]'),\n Text(0.8540367948912878, 0.4807692307692308, 'X[0] <= 102648736.0\\ngini = 0.0\\nsamples = 39392\\nvalue = [39390, 2]'),\n Text(0.8491713547209974, 0.4423076923076923, 'X[2] <= 107185455104.0\\ngini = 0.008\\nsamples = 497\\nvalue = [495, 2]'),\n Text(0.844305914550707, 0.40384615384615385, 'gini = 0.0\\nsamples = 495\\nvalue = [495, 0]'),\n Text(0.8540367948912878, 0.40384615384615385, 'gini = 0.0\\nsamples = 2\\nvalue = [0, 2]'),\n Text(0.8589022350615783, 0.4423076923076923, 'gini = 0.0\\nsamples = 38895\\nvalue = [38895, 0]'),\n Text(0.868633115402159, 0.5192307692307693, 'X[21] <= 18674.085\\ngini = 0.219\\nsamples = 8\\nvalue = [7, 1]'),\n Text(0.8637676752318686, 0.4807692307692308, 'gini = 0.0\\nsamples = 1\\nvalue = [0, 1]'),\n Text(0.8734985555724495, 0.4807692307692308, 'gini = 0.0\\nsamples = 7\\nvalue = [7, 0]'),\n Text(0.9294511175307891, 0.7115384615384616, 'X[62] <= 3990902.75\\ngini = 0.13\\nsamples = 29212\\nvalue = [27174, 2038]'),\n Text(0.892960316253611, 0.6730769230769231, 'X[70] <= 19.5\\ngini = 0.079\\nsamples = 28078\\nvalue = [26925, 1153]'),\n Text(0.8880948760833207, 0.6346153846153846, 'gini = 0.0\\nsamples = 248\\nvalue = [0, 248]'),\n Text(0.8978257564239015, 0.6346153846153846, 'X[5] <= 1.450098125837435e+18\\ngini = 0.063\\nsamples = 27830\\nvalue = [26925, 905]'),\n Text(0.8880948760833207, 0.5961538461538461, 'X[22] <= 33723441.0\\ngini = 0.004\\nsamples = 17321\\nvalue = [17289, 32]'),\n Text(0.8832294359130303, 0.5576923076923077, 'X[68] <= 35294.0\\ngini = 0.002\\nsamples = 17310\\nvalue = [17289, 21]'),\n Text(0.8783639957427398, 0.5192307692307693, 'gini = 0.0\\nsamples = 1\\nvalue = [0, 1]'),\n Text(0.8880948760833207, 0.5192307692307693, 'X[2] <= 55017.0\\ngini = 0.002\\nsamples = 17309\\nvalue = [17289, 20]'),\n Text(0.8832294359130303, 0.4807692307692308, 'gini = 0.0\\nsamples = 1\\nvalue = [0, 1]'),\n Text(0.892960316253611, 0.4807692307692308, 'X[68] <= 36101.0\\ngini = 0.002\\nsamples = 17308\\nvalue = [17289, 19]'),\n Text(0.8785160407480614, 0.4423076923076923, 'X[19] <= 4844.491\\ngini = 0.305\\nsamples = 16\\nvalue = [13, 3]'),\n Text(0.873650600577771, 0.40384615384615385, 'gini = 0.0\\nsamples = 13\\nvalue = [13, 0]'),\n Text(0.8833814809183518, 0.40384615384615385, 'gini = 0.0\\nsamples = 3\\nvalue = [0, 3]'),\n Text(0.9074045917591607, 0.4423076923076923, 'X[30] <= 122750192.0\\ngini = 0.002\\nsamples = 17292\\nvalue = [17276, 16]'),\n Text(0.8931123612589327, 0.40384615384615385, 'X[9] <= 54.5\\ngini = 0.002\\nsamples = 17290\\nvalue = [17275, 15]'),\n Text(0.8791242207693477, 0.36538461538461536, 'X[67] <= 47935.0\\ngini = 0.17\\nsamples = 32\\nvalue = [29, 3]'),\n Text(0.8742587805990574, 0.3269230769230769, 'gini = 0.0\\nsamples = 3\\nvalue = [0, 3]'),\n Text(0.8839896609396382, 0.3269230769230769, 'gini = 0.0\\nsamples = 29\\nvalue = [29, 0]'),\n Text(0.9071005017485175, 0.36538461538461536, 'X[68] <= 47500.0\\ngini = 0.001\\nsamples = 17258\\nvalue = [17246, 12]'),\n Text(0.8937205412802189, 0.3269230769230769, 'X[20] <= 1207.202\\ngini = 0.054\\nsamples = 218\\nvalue = [212, 6]'),\n Text(0.8888551011099285, 0.28846153846153844, 'gini = 0.0\\nsamples = 212\\nvalue = [212, 0]'),\n Text(0.8985859814505094, 0.28846153846153844, 'gini = 0.0\\nsamples = 6\\nvalue = [0, 6]'),\n Text(0.9204804622168162, 0.3269230769230769, 'X[67] <= 254.5\\ngini = 0.001\\nsamples = 17040\\nvalue = [17034, 6]'),\n Text(0.9083168617910902, 0.28846153846153844, 'X[19] <= 350307.833\\ngini = 0.08\\nsamples = 24\\nvalue = [23, 1]'),\n Text(0.9034514216207997, 0.25, 'gini = 0.0\\nsamples = 23\\nvalue = [23, 0]'),\n Text(0.9131823019613806, 0.25, 'gini = 0.0\\nsamples = 1\\nvalue = [0, 1]'),\n Text(0.9326440626425422, 0.28846153846153844, 'X[16] <= 62.767\\ngini = 0.001\\nsamples = 17016\\nvalue = [17011, 5]'),\n Text(0.9229131823019614, 0.25, 'X[76] <= 11499863.5\\ngini = 0.0\\nsamples = 16095\\nvalue = [16094, 1]'),\n Text(0.918047742131671, 0.21153846153846154, 'gini = 0.0\\nsamples = 15923\\nvalue = [15923, 0]'),\n Text(0.9277786224722517, 0.21153846153846154, 'X[76] <= 11576769.5\\ngini = 0.012\\nsamples = 172\\nvalue = [171, 1]'),\n Text(0.9229131823019614, 0.17307692307692307, 'gini = 0.0\\nsamples = 1\\nvalue = [0, 1]'),\n Text(0.9326440626425422, 0.17307692307692307, 'gini = 0.0\\nsamples = 171\\nvalue = [171, 0]'),\n Text(0.942374942983123, 0.25, 'X[42] <= 61.75\\ngini = 0.009\\nsamples = 921\\nvalue = [917, 4]'),\n Text(0.9375095028128326, 0.21153846153846154, 'gini = 0.0\\nsamples = 4\\nvalue = [0, 4]'),\n Text(0.9472403831534134, 0.21153846153846154, 'gini = 0.0\\nsamples = 917\\nvalue = [917, 0]'),\n Text(0.9216968222593888, 0.40384615384615385, 'X[14] <= 135.75\\ngini = 0.5\\nsamples = 2\\nvalue = [1, 1]'),\n Text(0.9168313820890984, 0.36538461538461536, 'gini = 0.0\\nsamples = 1\\nvalue = [1, 0]'),\n Text(0.9265622624296792, 0.36538461538461536, 'gini = 0.0\\nsamples = 1\\nvalue = [0, 1]'),\n Text(0.892960316253611, 0.5576923076923077, 'gini = 0.0\\nsamples = 11\\nvalue = [0, 11]'),\n Text(0.9075566367644823, 0.5961538461538461, 'X[5] <= 1.488571137204945e+18\\ngini = 0.152\\nsamples = 10509\\nvalue = [9636, 873]'),\n Text(0.9026911965941918, 0.5576923076923077, 'gini = 0.0\\nsamples = 759\\nvalue = [0, 759]'),\n Text(0.9124220769347727, 0.5576923076923077, 'X[0] <= 12103924.0\\ngini = 0.023\\nsamples = 9750\\nvalue = [9636, 114]'),\n Text(0.9075566367644823, 0.5192307692307693, 'X[1] <= 24802.0\\ngini = 0.454\\nsamples = 327\\nvalue = [213, 114]'),\n Text(0.9026911965941918, 0.4807692307692308, 'gini = 0.0\\nsamples = 213\\nvalue = [213, 0]'),\n Text(0.9124220769347727, 0.4807692307692308, 'gini = 0.0\\nsamples = 114\\nvalue = [0, 114]'),\n Text(0.9172875171050631, 0.5192307692307693, 'gini = 0.0\\nsamples = 9423\\nvalue = [9423, 0]'),\n Text(0.9659419188079672, 0.6730769230769231, 'X[18] <= 553.005\\ngini = 0.343\\nsamples = 1134\\nvalue = [249, 885]'),\n Text(0.9464801581268055, 0.6346153846153846, 'X[5] <= 1.4390560054375875e+18\\ngini = 0.149\\nsamples = 939\\nvalue = [76, 863]'),\n Text(0.9367492777862247, 0.5961538461538461, 'X[15] <= 1413.296\\ngini = 0.256\\nsamples = 73\\nvalue = [62, 11]'),\n Text(0.9318838376159343, 0.5576923076923077, 'X[58] <= 0.865\\ngini = 0.153\\nsamples = 12\\nvalue = [1, 11]'),\n Text(0.927018397445644, 0.5192307692307693, 'gini = 0.0\\nsamples = 1\\nvalue = [1, 0]'),\n Text(0.9367492777862247, 0.5192307692307693, 'gini = 0.0\\nsamples = 11\\nvalue = [0, 11]'),\n Text(0.9416147179565151, 0.5576923076923077, 'gini = 0.0\\nsamples = 61\\nvalue = [61, 0]'),\n Text(0.9562110384673863, 0.5961538461538461, 'X[5] <= 1.4980976495453798e+18\\ngini = 0.032\\nsamples = 866\\nvalue = [14, 852]'),\n Text(0.951345598297096, 0.5576923076923077, 'gini = 0.0\\nsamples = 852\\nvalue = [0, 852]'),\n Text(0.9610764786376768, 0.5576923076923077, 'gini = 0.0\\nsamples = 14\\nvalue = [14, 0]'),\n Text(0.9854036794891288, 0.6346153846153846, 'X[75] <= 7229127.0\\ngini = 0.2\\nsamples = 195\\nvalue = [173, 22]'),\n Text(0.9805382393188383, 0.5961538461538461, 'X[64] <= 981.5\\ngini = 0.139\\nsamples = 187\\nvalue = [173, 14]'),\n Text(0.9708073589782575, 0.5576923076923077, 'X[1] <= 49438.5\\ngini = 0.48\\nsamples = 15\\nvalue = [6, 9]'),\n Text(0.9659419188079672, 0.5192307692307693, 'gini = 0.0\\nsamples = 9\\nvalue = [0, 9]'),\n Text(0.975672799148548, 0.5192307692307693, 'gini = 0.0\\nsamples = 6\\nvalue = [6, 0]'),\n Text(0.9902691196594192, 0.5576923076923077, 'X[36] <= 8714.0\\ngini = 0.056\\nsamples = 172\\nvalue = [167, 5]'),\n Text(0.9854036794891288, 0.5192307692307693, 'X[2] <= 86440275968.0\\ngini = 0.035\\nsamples = 170\\nvalue = [167, 3]'),\n Text(0.9805382393188383, 0.4807692307692308, 'gini = 0.0\\nsamples = 163\\nvalue = [163, 0]'),\n Text(0.9902691196594192, 0.4807692307692308, 'X[16] <= 57.0\\ngini = 0.49\\nsamples = 7\\nvalue = [4, 3]'),\n Text(0.9854036794891288, 0.4423076923076923, 'gini = 0.0\\nsamples = 4\\nvalue = [4, 0]'),\n Text(0.9951345598297096, 0.4423076923076923, 'gini = 0.0\\nsamples = 3\\nvalue = [0, 3]'),\n Text(0.9951345598297096, 0.5192307692307693, 'gini = 0.0\\nsamples = 2\\nvalue = [0, 2]'),\n Text(0.9902691196594192, 0.5961538461538461, 'gini = 0.0\\nsamples = 8\\nvalue = [0, 8]'),\n Text(0.8528204348487152, 0.75, 'gini = 0.0\\nsamples = 785\\nvalue = [0, 785]'),\n Text(0.8771476357001673, 0.8653846153846154, 'X[5] <= 5.655266215497564e+17\\ngini = 0.133\\nsamples = 11960\\nvalue = [856, 11104]'),\n Text(0.8722821955298768, 0.8269230769230769, 'X[67] <= 65435.0\\ngini = 0.012\\nsamples = 11174\\nvalue = [70, 11104]'),\n Text(0.8674167553595864, 0.7884615384615384, 'X[68] <= 65534.5\\ngini = 0.002\\nsamples = 11113\\nvalue = [9, 11104]'),\n Text(0.8625513151892961, 0.75, 'gini = 0.0\\nsamples = 11104\\nvalue = [0, 11104]'),\n Text(0.8722821955298768, 0.75, 'gini = 0.0\\nsamples = 9\\nvalue = [9, 0]'),\n Text(0.8771476357001673, 0.7884615384615384, 'gini = 0.0\\nsamples = 61\\nvalue = [61, 0]'),\n Text(0.8820130758704576, 0.8269230769230769, 'gini = 0.0\\nsamples = 786\\nvalue = [786, 0]')]"
     },
     "execution_count": 21,
     "metadata": {},
     "output_type": "execute_result"
    },
    {
     "data": {
      "text/plain": "<Figure size 432x288 with 1 Axes>",
      "image/png": "[encoded data removed]"
     },
     "metadata": {
      "needs_background": "light"
     },
     "output_type": "display_data"
    }
   ],
   "source": [
    "plot_tree(dt_balance_model)"
   ],
   "metadata": {
    "collapsed": false
   }
  },
  {
   "cell_type": "markdown",
   "source": [
    "### VALUTAZIONE MODELLO"
   ],
   "metadata": {
    "collapsed": false
   }
  },
  {
   "cell_type": "code",
   "execution_count": 22,
   "outputs": [
    {
     "name": "stdout",
     "output_type": "stream",
     "text": [
      "Precision in training phase: 1.0\n",
      "Precision in testing phase(unbalanced): 0.9999091052797977\n",
      "Precision in testing phase(balanced): 0.9998084660116134\n"
     ]
    }
   ],
   "source": [
    "print(f\"Precision in training phase: {dt_balance_model.score(X_train_balanced, y_train_balanced)}\")\n",
    "print(f\"Precision in testing phase(unbalanced): {dt_balance_model.score(X_test, y_test)}\")\n",
    "print(f\"Precision in testing phase(balanced): {dt_balance_model.score(X_test_balanced, y_test_balanced)}\")"
   ],
   "metadata": {
    "collapsed": false
   }
  },
  {
   "cell_type": "markdown",
   "source": [
    "## RANDOM FOREST\n",
    "\n",
    "### DATASET SBILANCIATO"
   ],
   "metadata": {
    "collapsed": false
   }
  },
  {
   "cell_type": "code",
   "execution_count": 116,
   "outputs": [
    {
     "name": "stdout",
     "output_type": "stream",
     "text": [
      "INIZIO ADDESTRAMENTO RANDOM FOREST\n",
      "L'addestramento della random forest ha impiegato 234.797513961792 secondi\n",
      "SALVATAGGIO MODELLO IN ../exported_model/rf_unbalance30.pkl\n"
     ]
    }
   ],
   "source": [
    "try:\n",
    "    with open(f\"{EXPORTED_MODEL}/rf_unbalance30.pkl\", 'rb') as file:\n",
    "        print(\"CARICAMENTO MODELLO DA ../exported_model/rf_unbalance30.pkl\")\n",
    "\n",
    "        rf_model = pkl.load(file)\n",
    "except IOError:\n",
    "    rf = RandomForestClassifier()\n",
    "    start_time = time.time()\n",
    "\n",
    "    print(\"INIZIO ADDESTRAMENTO RANDOM FOREST\")\n",
    "    rf_model = rf.fit(X_train, y_train)\n",
    "\n",
    "    print(f\"L'addestramento della random forest ha impiegato {time.time() - start_time} secondi\")\n",
    "\n",
    "    print(\"SALVATAGGIO MODELLO IN ../exported_model/rf_unbalance30.pkl\")\n",
    "    with open(f\"{EXPORTED_MODEL}/rf_unbalance30.pkl\", 'wb') as file:\n",
    "        pkl.dump(rf_model, file)"
   ],
   "metadata": {
    "collapsed": false
   }
  },
  {
   "cell_type": "markdown",
   "source": [
    "Visualizza la random forest"
   ],
   "metadata": {
    "collapsed": false
   }
  },
  {
   "cell_type": "code",
   "execution_count": null,
   "outputs": [],
   "source": [
    "index = 0\n",
    "fig, axes = plt.subplots(nrows = 10,ncols = 5,figsize = (10, 10), dpi=900)\n",
    "\n",
    "for tree in rf_model.estimators_:\n",
    "    plot_tree(tree)\n",
    "\n",
    "    axes[index].set_title('Estimator: ' + str(index), fontsize = 11)\n",
    "    index += 1"
   ],
   "metadata": {
    "collapsed": false,
    "pycharm": {
     "is_executing": true
    }
   }
  },
  {
   "cell_type": "markdown",
   "source": [
    "### VALUTAZIONE MODELLO"
   ],
   "metadata": {
    "collapsed": false
   }
  },
  {
   "cell_type": "code",
   "execution_count": 25,
   "outputs": [
    {
     "name": "stdout",
     "output_type": "stream",
     "text": [
      "Precision in training phase: 1.0\n",
      "Precision in testing phase: 0.9999249130572242\n"
     ]
    }
   ],
   "source": [
    "print(f\"Precision in training phase: {rf_model.score(X_train, y_train)}\")\n",
    "print(f\"Precision in testing phase: {rf_model.score(X_test, y_test)}\")"
   ],
   "metadata": {
    "collapsed": false
   }
  },
  {
   "cell_type": "markdown",
   "source": [
    "### DATASET BILANCIATO"
   ],
   "metadata": {
    "collapsed": false
   }
  },
  {
   "cell_type": "code",
   "execution_count": 201,
   "outputs": [
    {
     "name": "stdout",
     "output_type": "stream",
     "text": [
      "INIZIO ADDESTRAMENTO RANDOM FOREST\n",
      "L'addestramento della random forest ha impiegato 320.4678518772125 secondi\n",
      "SALVATAGGIO MODELLO IN ../exported_model/rf_balance30.pkl\n"
     ]
    }
   ],
   "source": [
    "try:\n",
    "    with open(f\"{EXPORTED_MODEL}/rf_balance30.pkl\", 'rb') as file:\n",
    "        print(\"CARICAMENTO MODELLO DA ../exported_model/rf_balance30.pkl\")\n",
    "\n",
    "        rf_balance_model = pkl.load(file)\n",
    "except IOError:\n",
    "    rf = RandomForestClassifier()\n",
    "    start_time = time.time()\n",
    "\n",
    "    print(\"INIZIO ADDESTRAMENTO RANDOM FOREST\")\n",
    "    rf_balance_model = rf.fit(X_train_balanced, y_train_balanced)\n",
    "\n",
    "    print(f\"L'addestramento della random forest ha impiegato {time.time() - start_time} secondi\")\n",
    "\n",
    "    print(\"SALVATAGGIO MODELLO IN ../exported_model/rf_balance30.pkl\")\n",
    "    with open(f\"{EXPORTED_MODEL}/rf_balance30.pkl\", 'wb') as file:\n",
    "        pkl.dump(rf_balance_model, file)"
   ],
   "metadata": {
    "collapsed": false
   }
  },
  {
   "cell_type": "markdown",
   "source": [
    "Visualizza la random forest"
   ],
   "metadata": {
    "collapsed": false
   }
  },
  {
   "cell_type": "code",
   "execution_count": null,
   "outputs": [],
   "source": [
    "for tree in rf_balance_model.estimators:\n",
    "    tree.plot_tree(tree)"
   ],
   "metadata": {
    "collapsed": false,
    "pycharm": {
     "is_executing": true
    }
   }
  },
  {
   "cell_type": "markdown",
   "source": [
    "### VALUTAZIONE MODELLO"
   ],
   "metadata": {
    "collapsed": false
   }
  },
  {
   "cell_type": "code",
   "execution_count": 28,
   "outputs": [
    {
     "name": "stdout",
     "output_type": "stream",
     "text": [
      "Precision in training phase: 1.0\n",
      "Precision in testing phase(unbalance): 0.999905153335441\n",
      "Precision in testing phase(balance): 0.9999173159285107\n"
     ]
    }
   ],
   "source": [
    "print(f\"Precision in training phase: {rf_balance_model.score(X_train_balanced, y_train_balanced)}\")\n",
    "print(f\"Precision in testing phase(unbalance): {rf_balance_model.score(X_test, y_test)}\")\n",
    "print(f\"Precision in testing phase(balance): {rf_balance_model.score(X_test_balanced, y_test_balanced)}\")"
   ],
   "metadata": {
    "collapsed": false
   }
  },
  {
   "cell_type": "markdown",
   "source": [
    "## K NEAREST NEIGHBORS\n",
    "\n",
    "### DATASET SBILANCIATO"
   ],
   "metadata": {
    "collapsed": false
   }
  },
  {
   "cell_type": "code",
   "execution_count": 221,
   "outputs": [
    {
     "name": "stdout",
     "output_type": "stream",
     "text": [
      "INIZIO ADDESTRAMENTO K NEAREST NEIGHBOR\n",
      "L'addestramento de k nearest neighbors ha impiegato 0.15834593772888184 secondi\n",
      "SALVATAGGIO MODELLO IN ../exported_model/knn_unbalance30.pkl\n"
     ]
    }
   ],
   "source": [
    "try:\n",
    "    with open(f\"{EXPORTED_MODEL}/knn_unbalance30.pkl\", 'rb') as file:\n",
    "        print(\"CARICAMENTO MODELLO DA ../exported_model/knn_unbalance30.pkl\")\n",
    "\n",
    "        knn_model = pkl.load(file)\n",
    "except IOError:\n",
    "    knn = KNeighborsClassifier()\n",
    "    start_time = time.time()\n",
    "\n",
    "    print(\"INIZIO ADDESTRAMENTO K NEAREST NEIGHBOR\")\n",
    "    knn_model = knn.fit(X_train, y_train)\n",
    "\n",
    "    print(f\"L'addestramento de k nearest neighbors ha impiegato {time.time() - start_time} secondi\")\n",
    "\n",
    "    print(\"SALVATAGGIO MODELLO IN ../exported_model/knn_unbalance30.pkl\")\n",
    "    with open(f\"{EXPORTED_MODEL}/knn_unbalance30.pkl\", 'wb') as file:\n",
    "        pkl.dump(knn_model, file)"
   ],
   "metadata": {
    "collapsed": false
   }
  },
  {
   "cell_type": "markdown",
   "source": [
    "#### VALUTAZIONE MODELLO"
   ],
   "metadata": {
    "collapsed": false
   }
  },
  {
   "cell_type": "code",
   "execution_count": 45,
   "outputs": [
    {
     "name": "stdout",
     "output_type": "stream",
     "text": [
      "Precision in training phase: 0.996160399440404\n",
      "Precision in testing phase: 0.9944593740120139\n"
     ]
    }
   ],
   "source": [
    "print(f\"Precision in training phase: {knn_model.score(X_train, y_train)}\")\n",
    "print(f\"Precision in testing phase: {knn_model.score(X_test, y_test)}\")"
   ],
   "metadata": {
    "collapsed": false
   }
  },
  {
   "cell_type": "markdown",
   "source": [
    "### DATASET BILANCIATO"
   ],
   "metadata": {
    "collapsed": false
   }
  },
  {
   "cell_type": "code",
   "execution_count": 19,
   "outputs": [
    {
     "name": "stdout",
     "output_type": "stream",
     "text": [
      "INIZIO ADDESTRAMENTO K NEAREST NEIGHBORS\n",
      "L'addestramento de k nearest neighbors ha impiegato 1.2690203189849854 secondi\n",
      "SALVATAGGIO MODELLO IN ../exported_model/knn_balance.pkl\n"
     ]
    }
   ],
   "source": [
    "try:\n",
    "    with open(f\"{EXPORTED_MODEL}/knn_balance30.pkl\", 'rb') as file:\n",
    "        print(\"CARICAMENTO MODELLO DA ../exported_model/knn_balance30.pkl\")\n",
    "\n",
    "        knn_balance_model = pkl.load(file)\n",
    "except IOError:\n",
    "    knn = KNeighborsClassifier()\n",
    "    start_time = time.time()\n",
    "\n",
    "    print(\"INIZIO ADDESTRAMENTO K NEAREST NEIGHBORS\")\n",
    "    knn_balance_model = knn.fit(X_train_balanced, y_train_balanced)\n",
    "\n",
    "    print(f\"L'addestramento de k nearest neighbors ha impiegato {time.time() - start_time} secondi\")\n",
    "\n",
    "    print(\"SALVATAGGIO MODELLO IN ../exported_model/knn_balance30.pkl\")\n",
    "    with open(f\"{EXPORTED_MODEL}/knn_balance30.pkl\", 'wb') as file:\n",
    "        pkl.dump(knn_balance_model, file)"
   ],
   "metadata": {
    "collapsed": false
   }
  },
  {
   "cell_type": "markdown",
   "source": [
    "#### VALUTAZIONE MODELLO"
   ],
   "metadata": {
    "collapsed": false
   }
  },
  {
   "cell_type": "code",
   "execution_count": 10,
   "outputs": [
    {
     "name": "stdout",
     "output_type": "stream",
     "text": [
      "Precision in training phase: 0.9960039798709682\n",
      "Precision in testing phase(balance): 0.9859615006217005\n"
     ]
    }
   ],
   "source": [
    "print(f\"Precision in training phase: {knn_balance_model.score(X_train_balanced, y_train_balanced)}\")\n",
    "print(f\"Precision in testing phase(unbalance): {knn_model.score(X_test, y_test)}\")\n",
    "print(f\"Precision in testing phase(balance): {knn_balance_model.score(X_test_balanced, y_test_balanced)}\")"
   ],
   "metadata": {
    "collapsed": false
   }
  },
  {
   "cell_type": "code",
   "execution_count": null,
   "outputs": [],
   "source": [
    "del dt, dt_model, dt_balance_model, rf, rf_model, rf_balance_model, knn, knn_model, knn_balance_model"
   ],
   "metadata": {
    "collapsed": false,
    "pycharm": {
     "is_executing": true
    }
   }
  },
  {
   "cell_type": "markdown",
   "source": [
    "## NEURAL TREE\n",
    "\n",
    "### DATASET SBILANCIATO"
   ],
   "metadata": {
    "collapsed": false
   }
  },
  {
   "cell_type": "code",
   "execution_count": null,
   "outputs": [],
   "source": [
    "try:\n",
    "    with open(f\"{EXPORTED_MODEL}/nt_unbalance.pkl\", 'rb') as file:\n",
    "        print(\"CARICAMENTO MODELLO DA ../exported_model/nt_unbalance.pkl\")\n",
    "\n",
    "        nt = NeuralTree.load_model(f\"{EXPORTED_MODEL}/nt_unbalance.pkl\")\n",
    "except IOError:\n",
    "    nt = NeuralTree(f\"{DATASET_PATH}/train.csv\", 5)\n",
    "    start_time = time.time()\n",
    "\n",
    "    print(\"INIZIO ADDESTRAMENTO NEURAL TREE\")\n",
    "    nt.train(250, 1)#fit(X_train_balanced, y_train_balanced)\n",
    "\n",
    "    print(f\"L'addestramento della bayesian network ha impiegato {time.time() - start_time} secondi\")\n",
    "\n",
    "    print(\"SALVATAGGIO MODELLO IN ../exported_model/nt_unbalance.pkl\")\n",
    "    nt.save_model(f\"{EXPORTED_MODEL}/nt_unbalance.pkl\")"
   ],
   "metadata": {
    "collapsed": false,
    "pycharm": {
     "is_executing": true
    }
   }
  },
  {
   "cell_type": "markdown",
   "source": [
    "### VALUTAZIONE MODELLO"
   ],
   "metadata": {
    "collapsed": false
   }
  },
  {
   "cell_type": "code",
   "execution_count": null,
   "outputs": [],
   "source": [
    "print(f\"Precision in training phase: {nt.score(X_train, y_train)}\")\n",
    "print(f\"Precision in testing phase: {nt.score(X_test, y_test)}\")"
   ],
   "metadata": {
    "collapsed": false
   }
  },
  {
   "cell_type": "markdown",
   "source": [
    "### DATASET BILANCIATO"
   ],
   "metadata": {
    "collapsed": false
   }
  },
  {
   "cell_type": "code",
   "execution_count": null,
   "outputs": [],
   "source": [
    "try:\n",
    "    with open(f\"{EXPORTED_MODEL}/nt_balance.pkl\", 'rb') as file:\n",
    "        print(\"CARICAMENTO MODELLO DA ../exported_model/nt_balance.pkl\")\n",
    "\n",
    "        nt_balance_model = NeuralTree.load_model(f\"{EXPORTED_MODEL}/nt_balance.pkl\")\n",
    "except IOError:\n",
    "    nt = NeuralTree(f\"{DATASET_PATH}/balanced_train.csv\", 5)\n",
    "    start_time = time.time()\n",
    "\n",
    "    print(\"INIZIO ADDESTRAMENTO NEURAL TREE\")\n",
    "    nt_balance_model = nt.train(500, 0)#fit(X_train_balanced, y_train_balanced)\n",
    "\n",
    "    print(f\"L'addestramento della bayesian network ha impiegato {time.time() - start_time} secondi\")\n",
    "\n",
    "    print(\"SALVATAGGIO MODELLO IN ../exported_model/nt_unbalance.pkl\")\n",
    "    nt_balance_model.save_model(f\"{EXPORTED_MODEL}/nt_balance.pkl\")"
   ],
   "metadata": {
    "collapsed": false,
    "pycharm": {
     "is_executing": true
    }
   }
  },
  {
   "cell_type": "markdown",
   "source": [
    "### VALUTAZIONE MODELLO"
   ],
   "metadata": {
    "collapsed": false
   }
  },
  {
   "cell_type": "code",
   "execution_count": null,
   "outputs": [],
   "source": [
    "print(f\"Precision in training phase: {nt_balance_model.score(X_train_balanced, y_train_balanced)}\")\n",
    "print(f\"Precision in testing phase(unbalance): {nt.score(X_test, y_test)}\")\n",
    "print(f\"Precision in testing phase(balance): {nt_balance_model.score(X_test_balanced, y_test_balanced)}\")"
   ],
   "metadata": {
    "collapsed": false
   }
  },
  {
   "cell_type": "markdown",
   "source": [
    "# VALUTAZIONE DEL MODELLO\n",
    "Questa sessione è dedicata all'analisi dei risultati ottenuti dall'analisi dei modelli ottenuti"
   ],
   "metadata": {
    "collapsed": false
   }
  },
  {
   "cell_type": "code",
   "execution_count": 11,
   "outputs": [],
   "source": [
    "target_names = ['BENIGN', 'MALWARE']"
   ],
   "metadata": {
    "collapsed": false
   }
  },
  {
   "cell_type": "markdown",
   "source": [
    "## DECISION TREE\n",
    "\n",
    "### DATASET SBILANCIATO\n",
    "\n",
    "L'addestramento del decision tree ha impiegato 39,33 secondi."
   ],
   "metadata": {
    "collapsed": false
   }
  },
  {
   "cell_type": "code",
   "execution_count": 74,
   "outputs": [],
   "source": [
    "with open(f\"{EXPORTED_MODEL}/dt_unbalance30.pkl\", 'rb') as file:\n",
    "    dt = pkl.load(file)\n",
    "\n",
    "train_pred = dt.predict(X_train)\n",
    "test_pred = dt.predict(X_test)"
   ],
   "metadata": {
    "collapsed": false
   }
  },
  {
   "cell_type": "markdown",
   "source": [
    "Il modello in fase di training ha ottenuto le seguenti performance"
   ],
   "metadata": {
    "collapsed": false
   }
  },
  {
   "cell_type": "code",
   "execution_count": 75,
   "outputs": [
    {
     "name": "stdout",
     "output_type": "stream",
     "text": [
      "              precision    recall  f1-score   support\n",
      "\n",
      "      BENIGN   1.000000  1.000000  1.000000   1114658\n",
      "     MALWARE   1.000000  1.000000  1.000000     66194\n",
      "\n",
      "    accuracy                       1.000000   1180852\n",
      "   macro avg   1.000000  1.000000  1.000000   1180852\n",
      "weighted avg   1.000000  1.000000  1.000000   1180852\n",
      "\n"
     ]
    }
   ],
   "source": [
    "print(classification_report(y_train, train_pred, target_names=target_names, digits=6))"
   ],
   "metadata": {
    "collapsed": false
   }
  },
  {
   "cell_type": "code",
   "execution_count": 76,
   "outputs": [
    {
     "data": {
      "text/plain": "<sklearn.metrics._plot.confusion_matrix.ConfusionMatrixDisplay at 0x288e9e820>"
     },
     "execution_count": 76,
     "metadata": {},
     "output_type": "execute_result"
    },
    {
     "data": {
      "text/plain": "<Figure size 432x288 with 1 Axes>",
      "image/png": "[encoded data removed]"
     },
     "metadata": {
      "needs_background": "light"
     },
     "output_type": "display_data"
    }
   ],
   "source": [
    "ConfusionMatrixDisplay(confusion_matrix(y_train, train_pred),\n",
    "                       display_labels=target_names).plot(cmap=\"Greens\", colorbar=False, values_format='')"
   ],
   "metadata": {
    "collapsed": false
   }
  },
  {
   "cell_type": "markdown",
   "source": [
    "Il modello in fase di testing ha ottenuto le seguenti performance"
   ],
   "metadata": {
    "collapsed": false
   }
  },
  {
   "cell_type": "code",
   "execution_count": 77,
   "outputs": [
    {
     "name": "stdout",
     "output_type": "stream",
     "text": [
      "              precision    recall  f1-score   support\n",
      "\n",
      "      BENIGN   0.999975  0.999962  0.999969    477673\n",
      "     MALWARE   0.999366  0.999578  0.999472     28407\n",
      "\n",
      "    accuracy                       0.999941    506080\n",
      "   macro avg   0.999671  0.999770  0.999720    506080\n",
      "weighted avg   0.999941  0.999941  0.999941    506080\n",
      "\n"
     ]
    }
   ],
   "source": [
    "print(classification_report(y_test, test_pred, target_names=target_names, digits=6))"
   ],
   "metadata": {
    "collapsed": false
   }
  },
  {
   "cell_type": "code",
   "execution_count": 78,
   "outputs": [
    {
     "data": {
      "text/plain": "<sklearn.metrics._plot.confusion_matrix.ConfusionMatrixDisplay at 0x288d23400>"
     },
     "execution_count": 78,
     "metadata": {},
     "output_type": "execute_result"
    },
    {
     "data": {
      "text/plain": "<Figure size 432x288 with 1 Axes>",
      "image/png": "[encoded data removed]"
     },
     "metadata": {
      "needs_background": "light"
     },
     "output_type": "display_data"
    }
   ],
   "source": [
    "ConfusionMatrixDisplay(confusion_matrix(y_test, test_pred),\n",
    "                       display_labels=target_names).plot(cmap=\"Greens\", colorbar=False)"
   ],
   "metadata": {
    "collapsed": false
   }
  },
  {
   "cell_type": "markdown",
   "source": [
    "### DATASET BILANCIATO\n",
    "\n",
    "L'addestramento del decision tree ha impiegato 51,38 secondi."
   ],
   "metadata": {
    "collapsed": false
   }
  },
  {
   "cell_type": "code",
   "execution_count": 159,
   "outputs": [],
   "source": [
    "with open(f\"{EXPORTED_MODEL}/dt_balance30.pkl\", 'rb') as file:\n",
    "    dt = pkl.load(file)\n",
    "\n",
    "train_pred = dt.predict(X_train_balanced)\n",
    "test_pred = dt.predict(X_test_balanced)"
   ],
   "metadata": {
    "collapsed": false
   }
  },
  {
   "cell_type": "markdown",
   "source": [
    "Il modello in fase di training ha ottenuto le seguenti performance"
   ],
   "metadata": {
    "collapsed": false
   }
  },
  {
   "cell_type": "code",
   "execution_count": 160,
   "outputs": [
    {
     "name": "stdout",
     "output_type": "stream",
     "text": [
      "              precision    recall  f1-score   support\n",
      "\n",
      "      BENIGN   1.000000  1.000000  1.000000   1114609\n",
      "     MALWARE   1.000000  1.000000  1.000000   1114609\n",
      "\n",
      "    accuracy                       1.000000   2229218\n",
      "   macro avg   1.000000  1.000000  1.000000   2229218\n",
      "weighted avg   1.000000  1.000000  1.000000   2229218\n",
      "\n"
     ]
    }
   ],
   "source": [
    "print(classification_report(y_train_balanced, train_pred, target_names=target_names, digits=6))"
   ],
   "metadata": {
    "collapsed": false
   }
  },
  {
   "cell_type": "code",
   "execution_count": 161,
   "outputs": [
    {
     "data": {
      "text/plain": "<sklearn.metrics._plot.confusion_matrix.ConfusionMatrixDisplay at 0x289c9dcd0>"
     },
     "execution_count": 161,
     "metadata": {},
     "output_type": "execute_result"
    },
    {
     "data": {
      "text/plain": "<Figure size 432x288 with 1 Axes>",
      "image/png": "[encoded data removed]"
     },
     "metadata": {
      "needs_background": "light"
     },
     "output_type": "display_data"
    }
   ],
   "source": [
    "ConfusionMatrixDisplay(confusion_matrix(y_train_balanced, train_pred),\n",
    "                       display_labels=target_names).plot(cmap=\"Reds\", colorbar=False, values_format='')"
   ],
   "metadata": {
    "collapsed": false
   }
  },
  {
   "cell_type": "markdown",
   "source": [
    "Il modello in fase di testing ha ottenuto le seguenti performance"
   ],
   "metadata": {
    "collapsed": false
   }
  },
  {
   "cell_type": "code",
   "execution_count": 162,
   "outputs": [
    {
     "name": "stdout",
     "output_type": "stream",
     "text": [
      "              precision    recall  f1-score   support\n",
      "\n",
      "      BENIGN   0.999724  0.999948  0.999836    477722\n",
      "     MALWARE   0.999948  0.999724  0.999836    477722\n",
      "\n",
      "    accuracy                       0.999836    955444\n",
      "   macro avg   0.999836  0.999836  0.999836    955444\n",
      "weighted avg   0.999836  0.999836  0.999836    955444\n",
      "\n"
     ]
    }
   ],
   "source": [
    "print(classification_report(y_test_balanced, test_pred, target_names=target_names, digits=6))"
   ],
   "metadata": {
    "collapsed": false
   }
  },
  {
   "cell_type": "code",
   "execution_count": 163,
   "outputs": [
    {
     "data": {
      "text/plain": "<sklearn.metrics._plot.confusion_matrix.ConfusionMatrixDisplay at 0x289c773d0>"
     },
     "execution_count": 163,
     "metadata": {},
     "output_type": "execute_result"
    },
    {
     "data": {
      "text/plain": "<Figure size 432x288 with 1 Axes>",
      "image/png": "[encoded data removed]"
     },
     "metadata": {
      "needs_background": "light"
     },
     "output_type": "display_data"
    }
   ],
   "source": [
    "ConfusionMatrixDisplay(confusion_matrix(y_test_balanced, test_pred),\n",
    "                       display_labels=target_names).plot(cmap=\"Reds\", colorbar=False)"
   ],
   "metadata": {
    "collapsed": false
   }
  },
  {
   "cell_type": "code",
   "execution_count": 202,
   "outputs": [],
   "source": [
    "del dt"
   ],
   "metadata": {
    "collapsed": false
   }
  },
  {
   "cell_type": "markdown",
   "source": [
    "## RANDOM FOREST\n",
    "\n",
    "### DATASET SBILANCIATO\n",
    "\n",
    "L'addestramento della random forest ha impiegato 297,64 secondi."
   ],
   "metadata": {
    "collapsed": false
   }
  },
  {
   "cell_type": "code",
   "execution_count": 9,
   "outputs": [],
   "source": [
    "with open(f\"{EXPORTED_MODEL}/rf_unbalance30.pkl\", 'rb') as file:\n",
    "    rf = pkl.load(file)\n",
    "\n",
    "train_pred = rf.predict(X_train)\n",
    "test_pred = rf.predict(X_test)"
   ],
   "metadata": {
    "collapsed": false
   }
  },
  {
   "cell_type": "markdown",
   "source": [
    "Il modello in fase di training ha ottenuto le seguenti performance"
   ],
   "metadata": {
    "collapsed": false
   }
  },
  {
   "cell_type": "code",
   "execution_count": 12,
   "outputs": [
    {
     "name": "stdout",
     "output_type": "stream",
     "text": [
      "              precision    recall  f1-score   support\n",
      "\n",
      "      BENIGN   1.000000  1.000000  1.000000   1114658\n",
      "     MALWARE   1.000000  1.000000  1.000000     66194\n",
      "\n",
      "    accuracy                       1.000000   1180852\n",
      "   macro avg   1.000000  1.000000  1.000000   1180852\n",
      "weighted avg   1.000000  1.000000  1.000000   1180852\n",
      "\n"
     ]
    }
   ],
   "source": [
    "print(classification_report(y_train, train_pred, target_names=target_names, digits=6))"
   ],
   "metadata": {
    "collapsed": false
   }
  },
  {
   "cell_type": "code",
   "execution_count": 13,
   "outputs": [
    {
     "data": {
      "text/plain": "<sklearn.metrics._plot.confusion_matrix.ConfusionMatrixDisplay at 0x108d42370>"
     },
     "execution_count": 13,
     "metadata": {},
     "output_type": "execute_result"
    },
    {
     "data": {
      "text/plain": "<Figure size 432x288 with 1 Axes>",
      "image/png": "[encoded data removed]"
     },
     "metadata": {
      "needs_background": "light"
     },
     "output_type": "display_data"
    }
   ],
   "source": [
    "ConfusionMatrixDisplay(confusion_matrix(y_train, train_pred),\n",
    "                       display_labels=target_names).plot(cmap=\"Greens\", colorbar=False, values_format='')"
   ],
   "metadata": {
    "collapsed": false
   }
  },
  {
   "cell_type": "markdown",
   "source": [
    "Il modello in fase di testing ha ottenuto le seguenti performance"
   ],
   "metadata": {
    "collapsed": false
   }
  },
  {
   "cell_type": "code",
   "execution_count": 14,
   "outputs": [
    {
     "name": "stdout",
     "output_type": "stream",
     "text": [
      "              precision    recall  f1-score   support\n",
      "\n",
      "      BENIGN   0.999975  0.999998  0.999986    477673\n",
      "     MALWARE   0.999965  0.999578  0.999771     28407\n",
      "\n",
      "    accuracy                       0.999974    506080\n",
      "   macro avg   0.999970  0.999788  0.999879    506080\n",
      "weighted avg   0.999974  0.999974  0.999974    506080\n",
      "\n"
     ]
    }
   ],
   "source": [
    "print(classification_report(y_test, test_pred, target_names=target_names, digits=6))"
   ],
   "metadata": {
    "collapsed": false
   }
  },
  {
   "cell_type": "code",
   "execution_count": 15,
   "outputs": [
    {
     "data": {
      "text/plain": "<sklearn.metrics._plot.confusion_matrix.ConfusionMatrixDisplay at 0x28774b8b0>"
     },
     "execution_count": 15,
     "metadata": {},
     "output_type": "execute_result"
    },
    {
     "data": {
      "text/plain": "<Figure size 432x288 with 1 Axes>",
      "image/png": "[encoded data removed]"
     },
     "metadata": {
      "needs_background": "light"
     },
     "output_type": "display_data"
    }
   ],
   "source": [
    "ConfusionMatrixDisplay(confusion_matrix(y_test, test_pred),\n",
    "                       display_labels=target_names).plot(cmap=\"Greens\", colorbar=False)"
   ],
   "metadata": {
    "collapsed": false
   }
  },
  {
   "cell_type": "markdown",
   "source": [
    "### DATASET BILANCIATO\n",
    "\n",
    "L'addestramento della random forest ha impiegato 447,96 secondi."
   ],
   "metadata": {
    "collapsed": false
   }
  },
  {
   "cell_type": "code",
   "execution_count": 203,
   "outputs": [],
   "source": [
    "with open(f\"{EXPORTED_MODEL}/rf_balance30.pkl\", 'rb') as file:\n",
    "    rf = pkl.load(file)\n",
    "\n",
    "train_pred = rf.predict(X_train_balanced)\n",
    "test_pred = rf.predict(X_test_balanced)"
   ],
   "metadata": {
    "collapsed": false
   }
  },
  {
   "cell_type": "markdown",
   "source": [
    "Il modello in fase di training ha ottenuto le seguenti performance"
   ],
   "metadata": {
    "collapsed": false
   }
  },
  {
   "cell_type": "code",
   "execution_count": 204,
   "outputs": [
    {
     "name": "stdout",
     "output_type": "stream",
     "text": [
      "              precision    recall  f1-score   support\n",
      "\n",
      "      BENIGN   1.000000  1.000000  1.000000   1114609\n",
      "     MALWARE   1.000000  1.000000  1.000000   1114609\n",
      "\n",
      "    accuracy                       1.000000   2229218\n",
      "   macro avg   1.000000  1.000000  1.000000   2229218\n",
      "weighted avg   1.000000  1.000000  1.000000   2229218\n",
      "\n"
     ]
    }
   ],
   "source": [
    "print(classification_report(y_train_balanced, train_pred, target_names=target_names, digits=6))"
   ],
   "metadata": {
    "collapsed": false
   }
  },
  {
   "cell_type": "code",
   "execution_count": 205,
   "outputs": [
    {
     "data": {
      "text/plain": "<sklearn.metrics._plot.confusion_matrix.ConfusionMatrixDisplay at 0x289e293a0>"
     },
     "execution_count": 205,
     "metadata": {},
     "output_type": "execute_result"
    },
    {
     "data": {
      "text/plain": "<Figure size 432x288 with 1 Axes>",
      "image/png": "[encoded data removed]"
     },
     "metadata": {
      "needs_background": "light"
     },
     "output_type": "display_data"
    }
   ],
   "source": [
    "ConfusionMatrixDisplay(confusion_matrix(y_train_balanced, train_pred),\n",
    "                       display_labels=target_names).plot(cmap=\"Reds\", colorbar=False, values_format='')"
   ],
   "metadata": {
    "collapsed": false
   }
  },
  {
   "cell_type": "markdown",
   "source": [
    "Il modello in fase di testing ha ottenuto le seguenti performance"
   ],
   "metadata": {
    "collapsed": false
   }
  },
  {
   "cell_type": "code",
   "execution_count": 206,
   "outputs": [
    {
     "name": "stdout",
     "output_type": "stream",
     "text": [
      "              precision    recall  f1-score   support\n",
      "\n",
      "      BENIGN   0.999891  0.999950  0.999920    477722\n",
      "     MALWARE   0.999950  0.999891  0.999920    477722\n",
      "\n",
      "    accuracy                       0.999920    955444\n",
      "   macro avg   0.999920  0.999920  0.999920    955444\n",
      "weighted avg   0.999920  0.999920  0.999920    955444\n",
      "\n"
     ]
    }
   ],
   "source": [
    "print(classification_report(y_test_balanced, test_pred, target_names=target_names, digits=6))"
   ],
   "metadata": {
    "collapsed": false
   }
  },
  {
   "cell_type": "code",
   "execution_count": 208,
   "outputs": [
    {
     "data": {
      "text/plain": "<sklearn.metrics._plot.confusion_matrix.ConfusionMatrixDisplay at 0x289e1b7f0>"
     },
     "execution_count": 208,
     "metadata": {},
     "output_type": "execute_result"
    },
    {
     "data": {
      "text/plain": "<Figure size 432x288 with 1 Axes>",
      "image/png": "[encoded data removed]"
     },
     "metadata": {
      "needs_background": "light"
     },
     "output_type": "display_data"
    }
   ],
   "source": [
    "ConfusionMatrixDisplay(confusion_matrix(y_test_balanced, test_pred),\n",
    "                       display_labels=target_names).plot(cmap=\"Reds\", colorbar=False)"
   ],
   "metadata": {
    "collapsed": false
   }
  },
  {
   "cell_type": "code",
   "execution_count": 72,
   "outputs": [],
   "source": [
    "del rf"
   ],
   "metadata": {
    "collapsed": false
   }
  },
  {
   "cell_type": "markdown",
   "source": [
    "## K NEAREST NEIGHBORS\n",
    "\n",
    "### DATASET SBILANCIATO\n",
    "\n",
    "L'addestramento della knn ha impiegato 1,49 secondi."
   ],
   "metadata": {
    "collapsed": false
   }
  },
  {
   "cell_type": "code",
   "execution_count": 61,
   "outputs": [
    {
     "name": "stdout",
     "output_type": "stream",
     "text": [
      "Predizione completata\n",
      "Predizione completata\n"
     ]
    }
   ],
   "source": [
    "with open(f\"{EXPORTED_MODEL}/knn_unbalance.pkl\", 'rb') as file:\n",
    "    knn = pkl.load(file)\n",
    "\n",
    "train_pred = knn.predict(X_train)\n",
    "test_pred = knn.predict(X_test)"
   ],
   "metadata": {
    "collapsed": false
   }
  },
  {
   "cell_type": "markdown",
   "source": [
    "Il modello in fase di training ha ottenuto le seguenti performance"
   ],
   "metadata": {
    "collapsed": false
   }
  },
  {
   "cell_type": "code",
   "execution_count": 62,
   "outputs": [
    {
     "name": "stdout",
     "output_type": "stream",
     "text": [
      "              precision    recall  f1-score   support\n",
      "\n",
      "      BENIGN   0.997658  0.998214  0.997936   1114658\n",
      "     MALWARE   0.969637  0.960540  0.965067     66194\n",
      "\n",
      "    accuracy                       0.996102   1180852\n",
      "   macro avg   0.983647  0.979377  0.981501   1180852\n",
      "weighted avg   0.996087  0.996102  0.996093   1180852\n",
      "\n"
     ]
    }
   ],
   "source": [
    "print(classification_report(y_train, train_pred, target_names=target_names, digits=6))"
   ],
   "metadata": {
    "collapsed": false
   }
  },
  {
   "cell_type": "code",
   "execution_count": 63,
   "outputs": [
    {
     "data": {
      "text/plain": "<sklearn.metrics._plot.confusion_matrix.ConfusionMatrixDisplay at 0x2c96e7a30>"
     },
     "execution_count": 63,
     "metadata": {},
     "output_type": "execute_result"
    },
    {
     "data": {
      "text/plain": "<Figure size 432x288 with 1 Axes>",
      "image/png": "[encoded data removed]"
     },
     "metadata": {
      "needs_background": "light"
     },
     "output_type": "display_data"
    }
   ],
   "source": [
    "ConfusionMatrixDisplay(confusion_matrix(y_train, train_pred),\n",
    "                       display_labels=target_names).plot(cmap=\"Greens\", colorbar=False, values_format='')"
   ],
   "metadata": {
    "collapsed": false
   }
  },
  {
   "cell_type": "markdown",
   "source": [
    "Il modello in fase di testing ha ottenuto le seguenti performance"
   ],
   "metadata": {
    "collapsed": false
   }
  },
  {
   "cell_type": "code",
   "execution_count": 64,
   "outputs": [
    {
     "name": "stdout",
     "output_type": "stream",
     "text": [
      "              precision    recall  f1-score   support\n",
      "\n",
      "      BENIGN   0.997009  0.997341  0.997175    477673\n",
      "     MALWARE   0.955041  0.949695  0.952361     28407\n",
      "\n",
      "    accuracy                       0.994667    506080\n",
      "   macro avg   0.976025  0.973518  0.974768    506080\n",
      "weighted avg   0.994654  0.994667  0.994660    506080\n",
      "\n"
     ]
    }
   ],
   "source": [
    "print(classification_report(y_test, test_pred, target_names=target_names, digits=6))"
   ],
   "metadata": {
    "collapsed": false
   }
  },
  {
   "cell_type": "code",
   "execution_count": 65,
   "outputs": [
    {
     "data": {
      "text/plain": "<sklearn.metrics._plot.confusion_matrix.ConfusionMatrixDisplay at 0x2c96cfee0>"
     },
     "execution_count": 65,
     "metadata": {},
     "output_type": "execute_result"
    },
    {
     "data": {
      "text/plain": "<Figure size 432x288 with 1 Axes>",
      "image/png": "[encoded data removed]"
     },
     "metadata": {
      "needs_background": "light"
     },
     "output_type": "display_data"
    }
   ],
   "source": [
    "ConfusionMatrixDisplay(confusion_matrix(y_test, test_pred),\n",
    "                       display_labels=target_names).plot(cmap=\"Greens\", colorbar=False)"
   ],
   "metadata": {
    "collapsed": false
   }
  },
  {
   "cell_type": "markdown",
   "source": [
    "### DATASET BILANCIATO\n",
    "\n",
    "L'addestramento della knn ha impiegato 1,19 secondi."
   ],
   "metadata": {
    "collapsed": false
   }
  },
  {
   "cell_type": "code",
   "execution_count": 53,
   "outputs": [
    {
     "name": "stdout",
     "output_type": "stream",
     "text": [
      "predizione completata\n",
      "predizione completata\n"
     ]
    }
   ],
   "source": [
    "with open(f\"{EXPORTED_MODEL}/knn_balance.pkl\", 'rb') as file:\n",
    "    knn = pkl.load(file)\n",
    "\n",
    "train_pred = knn.predict(X_train_balanced)\n",
    "test_pred = knn.predict(X_test_balanced)"
   ],
   "metadata": {
    "collapsed": false
   }
  },
  {
   "cell_type": "markdown",
   "source": [
    "Il modello in fase di training ha ottenuto le seguenti performance"
   ],
   "metadata": {
    "collapsed": false
   }
  },
  {
   "cell_type": "code",
   "execution_count": 54,
   "outputs": [
    {
     "name": "stdout",
     "output_type": "stream",
     "text": [
      "              precision    recall  f1-score   support\n",
      "\n",
      "      BENIGN   0.997860  0.994140  0.995997   1114609\n",
      "     MALWARE   0.994161  0.997868  0.996011   1114609\n",
      "\n",
      "    accuracy                       0.996004   2229218\n",
      "   macro avg   0.996011  0.996004  0.996004   2229218\n",
      "weighted avg   0.996011  0.996004  0.996004   2229218\n",
      "\n"
     ]
    }
   ],
   "source": [
    "print(classification_report(y_train_balanced, train_pred, target_names=target_names, digits=6))"
   ],
   "metadata": {
    "collapsed": false
   }
  },
  {
   "cell_type": "code",
   "execution_count": 58,
   "outputs": [
    {
     "data": {
      "text/plain": "<sklearn.metrics._plot.confusion_matrix.ConfusionMatrixDisplay at 0x2c91a34c0>"
     },
     "execution_count": 58,
     "metadata": {},
     "output_type": "execute_result"
    },
    {
     "data": {
      "text/plain": "<Figure size 432x288 with 1 Axes>",
      "image/png": "[encoded data removed]"
     },
     "metadata": {
      "needs_background": "light"
     },
     "output_type": "display_data"
    }
   ],
   "source": [
    "ConfusionMatrixDisplay(confusion_matrix(y_train_balanced, train_pred),\n",
    "                       display_labels=target_names).plot(cmap=\"Reds\", colorbar=False, values_format='')"
   ],
   "metadata": {
    "collapsed": false
   }
  },
  {
   "cell_type": "markdown",
   "source": [
    "Il modello in fase di testing ha ottenuto le seguenti performance"
   ],
   "metadata": {
    "collapsed": false
   }
  },
  {
   "cell_type": "code",
   "execution_count": 56,
   "outputs": [
    {
     "name": "stdout",
     "output_type": "stream",
     "text": [
      "              precision    recall  f1-score   support\n",
      "\n",
      "      BENIGN   0.980529  0.991614  0.986040    477722\n",
      "     MALWARE   0.991518  0.980309  0.985882    477722\n",
      "\n",
      "    accuracy                       0.985962    955444\n",
      "   macro avg   0.986024  0.985962  0.985961    955444\n",
      "weighted avg   0.986024  0.985962  0.985961    955444\n",
      "\n"
     ]
    }
   ],
   "source": [
    "print(classification_report(y_test_balanced, test_pred, target_names=target_names, digits=6))"
   ],
   "metadata": {
    "collapsed": false
   }
  },
  {
   "cell_type": "code",
   "execution_count": 59,
   "outputs": [
    {
     "data": {
      "text/plain": "<sklearn.metrics._plot.confusion_matrix.ConfusionMatrixDisplay at 0x29d837160>"
     },
     "execution_count": 59,
     "metadata": {},
     "output_type": "execute_result"
    },
    {
     "data": {
      "text/plain": "<Figure size 432x288 with 1 Axes>",
      "image/png": "[encoded data removed]"
     },
     "metadata": {
      "needs_background": "light"
     },
     "output_type": "display_data"
    }
   ],
   "source": [
    "ConfusionMatrixDisplay(confusion_matrix(y_test_balanced, test_pred),\n",
    "                       display_labels=target_names).plot(cmap=\"Reds\", colorbar=False)"
   ],
   "metadata": {
    "collapsed": false
   }
  },
  {
   "cell_type": "markdown",
   "source": [
    "## NEURAL TREE\n",
    "\n",
    "### DATASET SBILANCIATO\n",
    "\n",
    "L'addestramento del neural tree ha impiegato *da calcolare* secondi."
   ],
   "metadata": {
    "collapsed": false
   }
  },
  {
   "cell_type": "code",
   "execution_count": null,
   "outputs": [],
   "source": [
    "nt = NeuralTree.load_model(f\"{EXPORTED_MODEL}/nt_unbalance.pkl\")\n",
    "\n",
    "train_pred = nt.make_predictions(X_train, verbose=1)\n",
    "test_pred = nt.make_predictions(X_test, verbose=1)"
   ],
   "metadata": {
    "collapsed": false
   }
  },
  {
   "cell_type": "markdown",
   "source": [
    "Il modello in fase di training ha ottenuto le seguenti performance"
   ],
   "metadata": {
    "collapsed": false
   }
  },
  {
   "cell_type": "code",
   "execution_count": null,
   "outputs": [],
   "source": [
    "print(classification_report(y_train, train_pred, target_names=target_names, digits=6))"
   ],
   "metadata": {
    "collapsed": false
   }
  },
  {
   "cell_type": "code",
   "execution_count": null,
   "outputs": [],
   "source": [
    "ConfusionMatrixDisplay(confusion_matrix(y_train_balanced, train_pred),\n",
    "                       display_labels=target_names).plot(cmap=\"Greens\", colorbar=False)"
   ],
   "metadata": {
    "collapsed": false
   }
  },
  {
   "cell_type": "markdown",
   "source": [
    "Il modello in fase di testing ha ottenuto le seguenti performance"
   ],
   "metadata": {
    "collapsed": false
   }
  },
  {
   "cell_type": "code",
   "execution_count": null,
   "outputs": [],
   "source": [
    "print(classification_report(y_test, test_pred, target_names=target_names, digits=6))"
   ],
   "metadata": {
    "collapsed": false
   }
  },
  {
   "cell_type": "code",
   "execution_count": null,
   "outputs": [],
   "source": [
    "ConfusionMatrixDisplay(confusion_matrix(y_test_balanced, test_pred),\n",
    "                       display_labels=target_names).plot(cmap=\"Greens\", colorbar=False)"
   ],
   "metadata": {
    "collapsed": false
   }
  },
  {
   "cell_type": "markdown",
   "source": [
    "### DATASET BILANCIATO\n",
    "\n",
    "L'addestramento del neural tree ha impiegato *da calcolare* secondi."
   ],
   "metadata": {
    "collapsed": false
   }
  },
  {
   "cell_type": "code",
   "execution_count": null,
   "outputs": [],
   "source": [
    "nt = NeuralTree.load_model(f\"{EXPORTED_MODEL}/nt_balance.pkl\")\n",
    "\n",
    "train_pred = nt.make_predictions(X_train, verbose=1)\n",
    "test_pred = nt.make_predictions(X_test, verbose=1)"
   ],
   "metadata": {
    "collapsed": false
   }
  },
  {
   "cell_type": "markdown",
   "source": [
    "Il modello in fase di training ha ottenuto le seguenti performance"
   ],
   "metadata": {
    "collapsed": false
   }
  },
  {
   "cell_type": "code",
   "execution_count": null,
   "outputs": [],
   "source": [
    "print(classification_report(y_train_balanced, train_pred, target_names=target_names, digits=6))"
   ],
   "metadata": {
    "collapsed": false
   }
  },
  {
   "cell_type": "code",
   "execution_count": null,
   "outputs": [],
   "source": [
    "ConfusionMatrixDisplay(confusion_matrix(y_train_balanced, train_pred),\n",
    "                       display_labels=target_names).plot(cmap=\"Reds\", colorbar=False)"
   ],
   "metadata": {
    "collapsed": false
   }
  },
  {
   "cell_type": "markdown",
   "source": [
    "Il modello in fase di testing ha ottenuto le seguenti performance"
   ],
   "metadata": {
    "collapsed": false
   }
  },
  {
   "cell_type": "code",
   "execution_count": null,
   "outputs": [],
   "source": [
    "print(classification_report(y_test_balanced, test_pred, target_names=target_names, digits=6))"
   ],
   "metadata": {
    "collapsed": false
   }
  },
  {
   "cell_type": "code",
   "execution_count": null,
   "outputs": [],
   "source": [
    "ConfusionMatrixDisplay(confusion_matrix(y_test_balanced, test_pred),\n",
    "                       display_labels=target_names).plot(cmap=\"Reds\", colorbar=False)"
   ],
   "metadata": {
    "collapsed": false
   }
  },
  {
   "cell_type": "markdown",
   "source": [
    "# VALUTAZIONE TEMPI DI PREVISIONE\n",
    "\n",
    "In questa sezione andremo a valutare quale degli algoritmi presi in considerazione risulta il più prestate nel momento della previsione.\n",
    "Per fare ciò prendiamo in considerazione il test set e vado a calcolare la media, trovando il tempo medio per eseguire una previsione.\n",
    "\n",
    "Questa fase viene ripetuta su dataset sbilanciato e bilanciato\n",
    "\n",
    "## DATASET SBILANCIATO"
   ],
   "metadata": {
    "collapsed": false
   }
  },
  {
   "cell_type": "code",
   "execution_count": 228,
   "outputs": [],
   "source": [
    "data = pd.read_csv(f\"{DATASET_PATH}/test.csv\", low_memory=False)\n",
    "\n",
    "X = data[top_30].to_numpy()\n",
    "#X = data.loc[:, 'Src Ip' : 'Idle Min'].to_numpy()"
   ],
   "metadata": {
    "collapsed": false
   }
  },
  {
   "cell_type": "markdown",
   "source": [
    "### DECISION TREE"
   ],
   "metadata": {
    "collapsed": false
   }
  },
  {
   "cell_type": "code",
   "execution_count": 167,
   "outputs": [
    {
     "name": "stdout",
     "output_type": "stream",
     "text": [
      "Il tempo impiegato per la previsione per un singolo elemento, in media vale 8.56583569949087e-08 secondi\n"
     ]
    }
   ],
   "source": [
    "with open(f\"{EXPORTED_MODEL}/dt_unbalance30.pkl\", 'rb') as file:\n",
    "    model = pkl.load(file)\n",
    "\n",
    "start_time = time.time()\n",
    "\n",
    "preds = model.predict(X)\n",
    "\n",
    "print(f\"Il tempo impiegato per la previsione per un singolo elemento, in media vale {(time.time() - start_time) / preds.shape[0]} secondi\")"
   ],
   "metadata": {
    "collapsed": false
   }
  },
  {
   "cell_type": "markdown",
   "source": [
    "### RANDOM FOREST"
   ],
   "metadata": {
    "collapsed": false
   }
  },
  {
   "cell_type": "code",
   "execution_count": 118,
   "outputs": [
    {
     "name": "stdout",
     "output_type": "stream",
     "text": [
      "Il tempo impiegato per la previsione per un singolo elemento, in media vale 5.696425606018752e-06 secondi\n"
     ]
    }
   ],
   "source": [
    "with open(f\"{EXPORTED_MODEL}/rf_unbalance30.pkl\", 'rb') as file:\n",
    "    model = pkl.load(file)\n",
    "\n",
    "start_time = time.time()\n",
    "\n",
    "preds = model.predict(X)\n",
    "\n",
    "print(f\"Il tempo impiegato per la previsione per un singolo elemento, in media vale {(time.time() - start_time) / preds.shape[0]} secondi\")"
   ],
   "metadata": {
    "collapsed": false
   }
  },
  {
   "cell_type": "markdown",
   "source": [
    "### K NEAREST NEIGHBORS"
   ],
   "metadata": {
    "collapsed": false
   }
  },
  {
   "cell_type": "code",
   "execution_count": 229,
   "outputs": [
    {
     "name": "stdout",
     "output_type": "stream",
     "text": [
      "Il tempo impiegato per la previsione per un singolo elemento, in media vale 0.0009289949293796902 secondi\n"
     ]
    }
   ],
   "source": [
    "with open(f\"{EXPORTED_MODEL}/knn_unbalance30.pkl\", 'rb') as file:\n",
    "    model = pkl.load(file)\n",
    "\n",
    "start_time = time.time()\n",
    "\n",
    "preds = model.predict(X)\n",
    "\n",
    "print(f\"Il tempo impiegato per la previsione per un singolo elemento, in media vale {(time.time() - start_time) / preds.shape[0]} secondi\")"
   ],
   "metadata": {
    "collapsed": false
   }
  },
  {
   "cell_type": "markdown",
   "source": [
    "### NEURAL TREE"
   ],
   "metadata": {
    "collapsed": false
   }
  },
  {
   "cell_type": "code",
   "execution_count": null,
   "outputs": [],
   "source": [
    "with open(f\"{EXPORTED_MODEL}/nt_unbalance.pkl\", 'rb') as file:\n",
    "    model = pkl.load(file)\n",
    "\n",
    "start_time = time.time()\n",
    "\n",
    "preds = model.make_predictions(X)\n",
    "\n",
    "print(f\"Il tempo impiegato per la previsione per un singolo elemento, in media vale {(time.time() - start_time) / preds.shape[0]} secondi\")"
   ],
   "metadata": {
    "collapsed": false
   }
  },
  {
   "cell_type": "markdown",
   "source": [
    "## DATASET BILANCIATO"
   ],
   "metadata": {
    "collapsed": false
   }
  },
  {
   "cell_type": "code",
   "execution_count": 24,
   "outputs": [],
   "source": [
    "data = pd.read_csv(f\"{DATASET_PATH}/balanced_test.csv\", low_memory=False)\n",
    "\n",
    "X = data[top_10].to_numpy()\n",
    "#X = data.loc[:, 'Src Ip' : 'Idle Min'].to_numpy()"
   ],
   "metadata": {
    "collapsed": false
   }
  },
  {
   "cell_type": "markdown",
   "source": [
    "### DECISION TREE"
   ],
   "metadata": {
    "collapsed": false
   }
  },
  {
   "cell_type": "code",
   "execution_count": 165,
   "outputs": [
    {
     "name": "stdout",
     "output_type": "stream",
     "text": [
      "Il tempo impiegato per la previsione per un singolo elemento, in media vale 8.170413590453328e-08 secondi\n"
     ]
    }
   ],
   "source": [
    "with open(f\"{EXPORTED_MODEL}/dt_balance30.pkl\", 'rb') as file:\n",
    "    model = pkl.load(file)\n",
    "\n",
    "start_time = time.time()\n",
    "\n",
    "preds = model.predict(X)\n",
    "\n",
    "print(f\"Il tempo impiegato per la previsione per un singolo elemento, in media vale {(time.time() - start_time) / preds.shape[0]} secondi\")"
   ],
   "metadata": {
    "collapsed": false
   }
  },
  {
   "cell_type": "markdown",
   "source": [
    "### RANDOM FOREST"
   ],
   "metadata": {
    "collapsed": false
   }
  },
  {
   "cell_type": "code",
   "execution_count": 210,
   "outputs": [
    {
     "name": "stdout",
     "output_type": "stream",
     "text": [
      "Il tempo impiegato per la previsione per un singolo elemento, in media vale 5.582731167503664e-06 secondi\n"
     ]
    }
   ],
   "source": [
    "with open(f\"{EXPORTED_MODEL}/rf_balance30.pkl\", 'rb') as file:\n",
    "    model = pkl.load(file)\n",
    "\n",
    "start_time = time.time()\n",
    "\n",
    "preds = model.predict(X)\n",
    "\n",
    "print(f\"Il tempo impiegato per la previsione per un singolo elemento, in media vale {(time.time() - start_time) / preds.shape[0]} secondi\")"
   ],
   "metadata": {
    "collapsed": false
   }
  },
  {
   "cell_type": "markdown",
   "source": [
    "### K NEAREST NEIGHBORS"
   ],
   "metadata": {
    "collapsed": false
   }
  },
  {
   "cell_type": "code",
   "execution_count": 25,
   "outputs": [
    {
     "name": "stdout",
     "output_type": "stream",
     "text": [
      "Il tempo impiegato per la previsione per un singolo elemento, in media vale 0.0018078827823934352 secondi\n"
     ]
    }
   ],
   "source": [
    "with open(f\"{EXPORTED_MODEL}/knn_balance10.pkl\", 'rb') as file:\n",
    "    model = pkl.load(file)\n",
    "\n",
    "start_time = time.time()\n",
    "\n",
    "preds = model.predict(X)\n",
    "\n",
    "print(f\"Il tempo impiegato per la previsione per un singolo elemento, in media vale {(time.time() - start_time) / preds.shape[0]} secondi\")"
   ],
   "metadata": {
    "collapsed": false
   }
  },
  {
   "cell_type": "markdown",
   "source": [
    "### NEURAL TREE"
   ],
   "metadata": {
    "collapsed": false
   }
  },
  {
   "cell_type": "code",
   "execution_count": null,
   "outputs": [],
   "source": [
    "with open(f\"{EXPORTED_MODEL}/nt_balance.pkl\", 'rb') as file:\n",
    "    model = pkl.load(file)\n",
    "\n",
    "start_time = time.time()\n",
    "\n",
    "preds = model.make_predictions(X)\n",
    "\n",
    "print(f\"Il tempo impiegato per la previsione per un singolo elemento, in media vale {(time.time() - start_time) / preds.shape[0]} secondi\")"
   ],
   "metadata": {
    "collapsed": false
   }
  },
  {
   "cell_type": "code",
   "execution_count": null,
   "outputs": [],
   "source": [
    "del data, model"
   ],
   "metadata": {
    "collapsed": false
   }
  }
 ],
 "metadata": {
  "kernelspec": {
   "display_name": "Python 3",
   "language": "python",
   "name": "python3"
  },
  "language_info": {
   "codemirror_mode": {
    "name": "ipython",
    "version": 2
   },
   "file_extension": ".py",
   "mimetype": "text/x-python",
   "name": "python",
   "nbconvert_exporter": "python",
   "pygments_lexer": "ipython2",
   "version": "2.7.6"
  }
 },
 "nbformat": 4,
 "nbformat_minor": 0
}
