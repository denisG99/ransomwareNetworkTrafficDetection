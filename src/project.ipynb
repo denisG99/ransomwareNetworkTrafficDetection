{
 "cells": [
  {
   "cell_type": "code",
   "execution_count": 1,
   "outputs": [],
   "source": [
    "#this chunk is necessary for importing correctly NeuralTree class in correct way\n",
    "import os\n",
    "import sys\n",
    "sys.path.insert(0, os.path.abspath('./model'))"
   ],
   "metadata": {
    "collapsed": false
   }
  },
  {
   "cell_type": "code",
   "execution_count": 2,
   "outputs": [],
   "source": [
    "import numpy as np\n",
    "import pandas as pd\n",
    "import os\n",
    "import matplotlib.pyplot as plt\n",
    "import time\n",
    "import pickle as pkl\n",
    "\n",
    "from sklearn.decomposition import PCA #features extraction\n",
    "from sklearn.model_selection import train_test_split\n",
    "from sklearn.preprocessing import StandardScaler #data standardization\n",
    "from sklearn.tree import DecisionTreeClassifier #decision tree\n",
    "from sklearn.tree import plot_tree #visualize a decision tree\n",
    "from sklearn.ensemble import RandomForestClassifier #random forest\n",
    "from sklearn.naive_bayes import GaussianNB, BernoulliNB #naive bayes\n",
    "from sklearn.neighbors import KNeighborsClassifier\n",
    "from sklearn.inspection import permutation_importance\n",
    "from sklearn.metrics import classification_report, confusion_matrix, accuracy_score #model evaluation metrics\n",
    "\n",
    "from imblearn.over_sampling import SMOTE #package for using SMOTE for balance dataset\n",
    "\n",
    "from model.NeuralTree import NeuralTree\n",
    "\n",
    "%matplotlib inline"
   ],
   "metadata": {
    "collapsed": false
   }
  },
  {
   "cell_type": "code",
   "execution_count": 3,
   "outputs": [],
   "source": [
    "DATA_PATH_MALWARE = \"../csv/malware\"\n",
    "DATA_PATH_GOODWARE = \"../csv/goodware\"\n",
    "DATASET_PATH = \"../csv\"\n",
    "EXPORTED_MODEL = \"../exported_model\"\n",
    "col_names = ['Source IP', 'Source Port', 'Destination IP', 'Destination Port', 'Protocol', 'Timestamp',\n",
    "             'Flow Duration', 'Total Fwd Packets', 'Total Backward Packets', 'Total Length of Fwd Packets',\n",
    "             'Total Length of Bwd Packets', 'Fwd Packet Length Max', 'Fwd Packet Length Min', 'Fwd Packet Length Mean',\n",
    "             'Fwd Packet Length Std', 'Bwd Packet Length Max', 'Bwd Packet Length Min', 'Bwd Packet Length Mean',\n",
    "             'Bwd Packet Length Std', 'Flow Bytes/s', 'Flow Packets/s', 'Flow IAT Mean', 'Flow IAT Std',\n",
    "             'Flow IAT Max', 'Flow IAT Min', 'Fwd IAT Total', 'Fwd IAT Mean', 'Fwd IAT Std', 'Fwd IAT Max',\n",
    "             'Fwd IAT Min', 'Bwd IAT Total', 'Bwd IAT Mean', 'Bwd IAT Std', 'Bwd IAT Max', 'Bwd IAT Min',\n",
    "             'Fwd PSH Flags', 'Bwd PSH Flags', 'Fwd URG Flags', 'Bwd URG Flags', 'Fwd Header Length',\n",
    "             'Bwd Header Length', 'Fwd Packets/s', 'Bwd Packets/s', 'Min Packet Length', 'Max Packet Length',\n",
    "             'Packet Length Mean', 'Packet Length Std', 'Packet Length Variance', 'FIN Flag Count', 'SYN Flag Count',\n",
    "             'RST Flag Count', 'PSH Flag Count', 'ACK Flag Count', 'URG Flag Count', 'CWE Flag Count',\n",
    "             'ECE Flag Count', 'Down/Up Ratio', 'Average Packet Size', 'Avg Fwd Segment Size', 'Avg Bwd Segment Size',\n",
    "             'Fwd Header Length_1', 'Fwd Avg Bytes/Bulk', 'Fwd Avg Packets/Bulk', 'Fwd Avg Bulk Rate',\n",
    "             'Bwd Avg Bytes/Bulk', 'Bwd Avg Packets/Bulk', 'Bwd Avg Bulk Rate', 'Subflow Fwd Packets',\n",
    "             'Subflow Fwd Bytes', 'Subflow Bwd Packets', 'Subflow Bwd Bytes', 'Init_Win_bytes_forward',\n",
    "             'Init_Win_bytes_backward', 'act_data_pkt_fwd', 'min_seg_size_forward', 'Active Mean', 'Active Std',\n",
    "             'Active Max', 'Active Min', 'Idle Mean', 'Idle Std', 'Idle Max', 'Idle Min']"
   ],
   "metadata": {
    "collapsed": false
   }
  },
  {
   "cell_type": "markdown",
   "source": [
    "# COSTRUZIONE DATASET\n",
    "* avendo il dataset scomposto in molteplici *csv* vado a unirli in uno singolo, almeno per un primo momento, distinguendo i files contenti traffico benevolo e malevolo;\n",
    "* rinomino i campi secondo le seguenti caratteristiche:\n",
    "    * parole separate da spazio anzichè da '_';\n",
    "    * prima lettera di ogni parola sarà maiuscola.\n",
    "* a ogni record gli accosto un codice che identifica univocamnete il Sample che ha la seguete struttura: *{G,M}\\_N*, dove:\n",
    "    * **G** ed **M** indicano rispettivamente goodware e malware;\n",
    "    * **N** indica il numero del sample preso in considerazione"
   ],
   "metadata": {
    "collapsed": false
   }
  },
  {
   "cell_type": "code",
   "execution_count": 38,
   "metadata": {
    "collapsed": true
   },
   "outputs": [],
   "source": [
    "def __change_name_and_order(data):\n",
    "    new_names = list()\n",
    "    #data = pd.read_csv(csv_path)\n",
    "\n",
    "    for col in data.columns:\n",
    "        new_name = col.split('_')\n",
    "        new_names.append(\" \".join(new_name).title()) #funzione title trasforma la prima lettera di ogni parola in maiuscolo (capitalizza)\n",
    "        #print(new_name)\n",
    "    data.columns = new_names\n",
    "\n",
    "    #riordinamento delle features\n",
    "    data = data.loc[:, [\"Src Ip\", \"Src Port\", \"Dst Ip\", \"Dst Port\", \"Protocol\", \"Timestamp\", \"Flow Duration\", \"Tot Fwd Pkts\",\n",
    "           \"Tot Bwd Pkts\", \"Totlen Fwd Pkts\", \"Totlen Bwd Pkts\", \"Fwd Pkt Len Max\", \"Fwd Pkt Len Min\", \"Fwd Pkt Len Mean\",\n",
    "           \"Fwd Pkt Len Std\", \"Bwd Pkt Len Max\", \"Bwd Pkt Len Min\", \"Bwd Pkt Len Mean\", \"Bwd Pkt Len Std\", \"Flow Byts S\",\n",
    "           \"Flow Pkts S\", \"Flow Iat Mean\", \"Flow Iat Std\", \"Flow Iat Max\", \"Flow Iat Min\", \"Fwd Iat Tot\", \"Fwd Iat Mean\",\n",
    "           \"Fwd Iat Std\", \"Fwd Iat Max\", \"Fwd Iat Min\", \"Bwd Iat Tot\", \"Bwd Iat Mean\", \"Bwd Iat Std\", \"Bwd Iat Max\",\n",
    "           \"Bwd Iat Min\",\"Fwd Psh Flags\", \"Bwd Psh Flags\", \"Fwd Urg Flags\", \"Bwd Urg Flags\",\n",
    "           \"Fwd Header Len\", \"Bwd Header Len\", \"Fwd Pkts S\", \"Bwd Pkts S\", \"Pkt Len Min\", \"Pkt Len Max\", \"Pkt Len Mean\",\n",
    "           \"Pkt Len Std\", \"Pkt Len Var\", \"Fin Flag Cnt\", \"Syn Flag Cnt\", \"Rst Flag Cnt\", \"Psh Flag Cnt\", \"Ack Flag Cnt\",\n",
    "           \"Urg Flag Cnt\", \"Cwe Flag Count\", \"Ece Flag Cnt\", \"Down Up Ratio\", \"Pkt Size Avg\", \"Fwd Seg Size Avg\",\n",
    "           \"Bwd Seg Size Avg\", \"Fwd Header Len\", \"Fwd Byts B Avg\", \"Fwd Pkts B Avg\", \"Fwd Blk Rate Avg\", \"Bwd Byts B Avg\",\n",
    "           \"Bwd Pkts B Avg\", \"Bwd Blk Rate Avg\", \"Subflow Fwd Pkts\", \"Subflow Fwd Byts\", \"Subflow Bwd Pkts\",\n",
    "           \"Subflow Bwd Byts\", \"Init Fwd Win Byts\", \"Init Bwd Win Byts\", \"Fwd Act Data Pkts\", \"Fwd Seg Size Min\",\n",
    "           \"Active Mean\", \"Active Std\", \"Active Max\", \"Active Min\", \"Idle Mean\", \"Idle Std\", \"Idle Max\", \"Idle Min\"]]\n",
    "\n",
    "    return data\n",
    "\n",
    "def csv_merging(dest_df, files_path):\n",
    "    id_num = 1\n",
    "\n",
    "    for csv_file in os.listdir(files_path):\n",
    "        if not (csv_file == \".DS_Store\" or \"Monday-WorkingHours\" in csv_file):\n",
    "            print(csv_file)\n",
    "            data = pd.read_csv(f\"{files_path}/{csv_file}\", encoding='utf-8', sep=',', engine='python')\n",
    "\n",
    "            data = __change_name_and_order(data)\n",
    "\n",
    "            if \"malware\" in files_path:\n",
    "                data[\"Sample ID\"] = f\"M_{id_num}\"\n",
    "            else:\n",
    "                data[\"Sample ID\"] = f\"G_{id_num}\"\n",
    "            id_num += 1\n",
    "\n",
    "            dest_df = pd.concat([dest_df, data])\n",
    "\n",
    "    print('\\n')\n",
    "\n",
    "    return dest_df"
   ]
  },
  {
   "cell_type": "code",
   "execution_count": null,
   "outputs": [],
   "source": [
    "csv_merging(pd.DataFrame(), DATA_PATH_MALWARE).to_csv(f\"{DATASET_PATH}/malware.csv\", index=False)\n",
    "csv_merging(pd.DataFrame(), DATA_PATH_GOODWARE).to_csv(f\"{DATASET_PATH}/goodware.csv\", index=False)"
   ],
   "metadata": {
    "collapsed": false,
    "pycharm": {
     "is_executing": true
    }
   }
  },
  {
   "cell_type": "markdown",
   "source": [
    "Per problemi lo script mostrato sopra per *Monday-WorkingHours.csv* non funzione quindi procedo a una procedura ad hoc."
   ],
   "metadata": {
    "collapsed": false
   }
  },
  {
   "cell_type": "code",
   "execution_count": 40,
   "outputs": [],
   "source": [
    "goodware = pd.read_csv(f\"{DATASET_PATH}/goodware.csv\", low_memory=False)\n",
    "monday = pd.read_csv(f\"{DATA_PATH_GOODWARE}/Monday-WorkingHours.csv\", low_memory=False)\n",
    "\n",
    "monday[\"Sample ID\"] = \"G_51\"\n",
    "monday.columns = goodware.columns\n",
    "\n",
    "pd.concat([goodware, monday]).to_csv(f\"{DATASET_PATH}/goodware.csv\", index=False)\n",
    "\n",
    "del goodware, monday"
   ],
   "metadata": {
    "collapsed": false
   }
  },
  {
   "cell_type": "markdown",
   "source": [
    "* eseguo labelling dei dati (MALWARE/BENIGN)"
   ],
   "metadata": {
    "collapsed": false
   }
  },
  {
   "cell_type": "code",
   "execution_count": 41,
   "outputs": [],
   "source": [
    "for csv in os.listdir(DATASET_PATH):\n",
    "    if csv.endswith(\".csv\"):\n",
    "        df = pd.read_csv(f\"{DATASET_PATH}/{csv}\", low_memory=False)\n",
    "\n",
    "        if \"malware\" in csv:\n",
    "            df['Label'] = \"MALWARE\"\n",
    "        else:\n",
    "            df['Label'] = \"BENIGN\"\n",
    "\n",
    "        df.to_csv(f\"{DATASET_PATH}/{csv}\", index=False)"
   ],
   "metadata": {
    "collapsed": false
   }
  },
  {
   "cell_type": "markdown",
   "source": [
    "* unisco i due dataset creati al primo punto, in un singolo dataset\n",
    "\n",
    "# NORMALIZZAZIONE DATASET\n",
    "* accstare porta e IP sorgente (analogamete per la destinarione);\n",
    "* eliminare punto da stringa che indica l'IP;\n",
    "* cambiare tipi delle features, dove necessario:\n",
    "\n",
    "Ultimi due passi sono necessari perchè algoritmi di ML accettano solo valori numerici."
   ],
   "metadata": {
    "collapsed": false
   }
  },
  {
   "cell_type": "code",
   "execution_count": 47,
   "outputs": [],
   "source": [
    "def normalize_ip(csv_path):\n",
    "    data = pd.read_csv(csv_path, low_memory=False)\n",
    "\n",
    "    data.iloc[:, 0] = data.iloc[:, 0].map(lambda ip : __string_to_integer_ip(ip))\n",
    "    data.iloc[:, 2] = data.iloc[:, 2].map(lambda ip : __string_to_integer_ip(ip))\n",
    "\n",
    "    data.to_csv(csv_path, index=False)\n",
    "\n",
    "def __string_to_integer_ip(ip):\n",
    "    if not isinstance(ip, int):\n",
    "        splitted_ip = ip.split('.')\n",
    "\n",
    "        return \"\".join(splitted_ip)\n",
    "    return ip\n",
    "\n",
    "def change_features_type(csv_path, features_types):\n",
    "    data = pd.read_csv(csv_path, low_memory=False)\n",
    "\n",
    "    for i in range(data.shape[1]):\n",
    "        data.iloc[:, i].astype(features_types[i])\n",
    "\n",
    "    data.to_csv(csv_path, index=False)"
   ],
   "metadata": {
    "collapsed": false
   }
  },
  {
   "cell_type": "markdown",
   "source": [
    "Converto il formato stringa dell'indirizzo IP (aaa.bbb.ccc.ddd) in un formato comprensibile all'algoritmo di machine learning, cioè un intero nel seguente formato **aaabbbcccddd**."
   ],
   "metadata": {
    "collapsed": false
   }
  },
  {
   "cell_type": "code",
   "execution_count": 48,
   "outputs": [],
   "source": [
    "normalize_ip(f\"{DATASET_PATH}/malware.csv\")\n",
    "normalize_ip(f\"{DATASET_PATH}/goodware.csv\")"
   ],
   "metadata": {
    "collapsed": false
   }
  },
  {
   "cell_type": "markdown",
   "source": [
    "Unione dataset goodware e malware in un unico file in formato csv"
   ],
   "metadata": {
    "collapsed": false
   }
  },
  {
   "cell_type": "code",
   "execution_count": 49,
   "outputs": [],
   "source": [
    "df_malware = pd.read_csv(f\"{DATASET_PATH}/malware.csv\", low_memory=False)\n",
    "df_goodware = pd.read_csv(f\"{DATASET_PATH}/goodware.csv\", low_memory=False)\n",
    "\n",
    "pd.concat([df_malware, df_goodware]).to_csv(f\"{DATASET_PATH}/dataset.csv\", index=False)\n",
    "\n",
    "del df_malware, df_goodware"
   ],
   "metadata": {
    "collapsed": false
   }
  },
  {
   "cell_type": "code",
   "execution_count": 26,
   "outputs": [],
   "source": [
    "dataset = pd.read_csv(f\"{DATASET_PATH}/dataset.csv\", low_memory=False)"
   ],
   "metadata": {
    "collapsed": false
   }
  },
  {
   "cell_type": "markdown",
   "source": [
    "Convertire i timestamp in formato numerico"
   ],
   "metadata": {
    "collapsed": false
   }
  },
  {
   "cell_type": "code",
   "execution_count": 23,
   "outputs": [],
   "source": [
    "unix_ts = pd.to_datetime(dataset['Timestamp']).view('int64')\n",
    "\n",
    "dataset['Timestamp'] = unix_ts\n",
    "\n",
    "del unix_ts"
   ],
   "metadata": {
    "collapsed": false
   }
  },
  {
   "cell_type": "markdown",
   "source": [
    "Creare flowID (IPscr, portScr, IDdst, portDst, Protocollo)"
   ],
   "metadata": {
    "collapsed": false
   }
  },
  {
   "cell_type": "code",
   "execution_count": 24,
   "outputs": [],
   "source": [
    "dataset['FlowID'] = dataset['Src Ip'].map(str) + \"_\"+ dataset['Src Port'].map(str) + \"_\" + dataset['Dst Ip'].map(str) + \"_\"  + dataset['Dst Port'].map(str) + \"_\" + dataset['Protocol'].map(str)\n",
    "\n",
    "dataset.set_index('FlowID').to_csv(f\"{DATASET_PATH}/dataset.csv\")"
   ],
   "metadata": {
    "collapsed": false
   }
  },
  {
   "cell_type": "markdown",
   "source": [
    "Convertire le etichette in formato numerico: (MALWARE -> 1.0 e GOODWARE -> 0.0)"
   ],
   "metadata": {
    "collapsed": false
   }
  },
  {
   "cell_type": "code",
   "execution_count": 25,
   "outputs": [],
   "source": [
    "dataset['Label'].replace([\"MALWARE\", \"BENIGN\"], [1.0, 0.0], inplace=True)\n",
    "\n",
    "dataset.to_csv(f\"{DATASET_PATH}/dataset.csv\", index=False)"
   ],
   "metadata": {
    "collapsed": false
   }
  },
  {
   "cell_type": "markdown",
   "source": [
    "# FEATURES EXTRACTION"
   ],
   "metadata": {
    "collapsed": false
   }
  },
  {
   "cell_type": "code",
   "execution_count": 28,
   "outputs": [],
   "source": [
    "dataset = pd.read_csv(f\"{DATASET_PATH}/dataset.csv\", low_memory=False)"
   ],
   "metadata": {
    "collapsed": false
   }
  },
  {
   "cell_type": "markdown",
   "source": [
    "In linea generale il processo di feature extraction consiste nel scegliere le migliori features riducendo così la dimensionalità del dataset per fare ciò va do a sfruttare la **PCA (Principal Componenet Analyis)** fornita da *scikit-learn*.\n",
    "\n",
    "Prima di effettuare la features extraction sopra descritta necessito di effettuare un processo di \"bonifica\" del dataset."
   ],
   "metadata": {
    "collapsed": false
   }
  },
  {
   "cell_type": "code",
   "execution_count": 4,
   "outputs": [
    {
     "data": {
      "text/plain": "1642652  Flow Pkts S    78,125\ndtype: object"
     },
     "execution_count": 4,
     "metadata": {},
     "output_type": "execute_result"
    }
   ],
   "source": [
    "dataset[dataset.isin(['78,125'])].stack()"
   ],
   "metadata": {
    "collapsed": false
   }
  },
  {
   "cell_type": "markdown",
   "source": [
    "*Flow Pkts S* in linea generale contiene valori *double*, ma nel caso sopra citato contiene una stringa; per questo motivo vado a convertirlo in double."
   ],
   "metadata": {
    "collapsed": false
   }
  },
  {
   "cell_type": "code",
   "execution_count": 29,
   "outputs": [
    {
     "data": {
      "text/plain": "78.125"
     },
     "execution_count": 29,
     "metadata": {},
     "output_type": "execute_result"
    }
   ],
   "source": [
    "dataset.at[1642652, 'Flow Pkts S'] = 78.125\n",
    "\n",
    "dataset.loc[1642652, 'Flow Pkts S']"
   ],
   "metadata": {
    "collapsed": false
   }
  },
  {
   "cell_type": "markdown",
   "source": [
    "Controllo se sono presenti valori *NaN* e *Inf*"
   ],
   "metadata": {
    "collapsed": false
   }
  },
  {
   "cell_type": "code",
   "execution_count": 6,
   "outputs": [
    {
     "data": {
      "text/plain": "89"
     },
     "execution_count": 6,
     "metadata": {},
     "output_type": "execute_result"
    }
   ],
   "source": [
    "#conteggio valori NaN\n",
    "dataset.isnull().sum().sum()"
   ],
   "metadata": {
    "collapsed": false
   }
  },
  {
   "cell_type": "code",
   "execution_count": 7,
   "outputs": [
    {
     "data": {
      "text/plain": "26FlowID     0\nSrc Ip       0\nSrc Port     0\nDst Ip       0\nDst Port     0\n            ..\nIdle Std     0\nIdle Max     0\nIdle Min     0\nSample ID    0\nLabel        0\nLength: 86, dtype: int64"
     },
     "execution_count": 7,
     "metadata": {},
     "output_type": "execute_result"
    }
   ],
   "source": [
    "#conteggio valori Inf\n",
    "dataset[dataset == np.inf].count()"
   ],
   "metadata": {
    "collapsed": false
   }
  },
  {
   "cell_type": "markdown",
   "source": [
    "Visto la presenza di valori NaN e Inf, per semplicità vado a cancellarli."
   ],
   "metadata": {
    "collapsed": false
   }
  },
  {
   "cell_type": "code",
   "execution_count": 30,
   "outputs": [
    {
     "name": "stdout",
     "output_type": "stream",
     "text": [
      "Before NaN & Inf deletion: (1687394, 86)\n",
      "After NaN & Inf deletion: (1686932, 86)\n"
     ]
    }
   ],
   "source": [
    "print(f\"Before NaN & Inf deletion: {dataset.shape}\")\n",
    "\n",
    "with pd.option_context('mode.use_inf_as_na', True):\n",
    "  dataset.dropna(inplace=True)\n",
    "\n",
    "print(f\"After NaN & Inf deletion: {dataset.shape}\")"
   ],
   "metadata": {
    "collapsed": false
   }
  },
  {
   "cell_type": "code",
   "execution_count": 31,
   "outputs": [],
   "source": [
    "dataset.to_csv(f\"{DATASET_PATH}/dataset.csv\", index=False)"
   ],
   "metadata": {
    "collapsed": false
   }
  },
  {
   "cell_type": "markdown",
   "source": [
    "Prima di effettuare la features extraction effettiva, tramite la PCA, vado ad analizzare come correlano le features"
   ],
   "metadata": {
    "collapsed": false
   }
  },
  {
   "cell_type": "code",
   "execution_count": 15,
   "outputs": [
    {
     "name": "stderr",
     "output_type": "stream",
     "text": [
      "/var/folders/4y/z5w7pprd3bxb9r0f1rrcqmw80000gn/T/ipykernel_52577/2392947209.py:2: FutureWarning: The default value of numeric_only in DataFrame.corr is deprecated. In a future version, it will default to False. Select only valid columns or specify the value of numeric_only to silence this warning.\n",
      "  plt.matshow(dataset.corr(), fignum=f.number)\n"
     ]
    },
    {
     "data": {
      "text/plain": "<Figure size 1368x1080 with 2 Axes>",
      "image/png": "[encoded data removed]"
     },
     "metadata": {
      "needs_background": "light"
     },
     "output_type": "display_data"
    }
   ],
   "source": [
    "f = plt.figure(figsize=(19, 15))\n",
    "plt.matshow(dataset.corr(), fignum=f.number)\n",
    "plt.xticks(range(dataset.select_dtypes(['number']).shape[1]), dataset.select_dtypes(['number']).columns, fontsize=10, rotation=90)\n",
    "plt.yticks(range(dataset.select_dtypes(['number']).shape[1]), dataset.select_dtypes(['number']).columns, fontsize=10)\n",
    "cb = plt.colorbar()\n",
    "cb.ax.tick_params(labelsize=14)\n",
    "plt.title('Correlation Matrix', fontsize=16);"
   ],
   "metadata": {
    "collapsed": false
   }
  },
  {
   "cell_type": "markdown",
   "source": [
    "La heatmap descrive la matrice di correlazione e guardandola si nota che ci sono alcune coppie di features che correlano tra di loro anche con valori molto alti (zone in giallo, esclusa la diagonale, e verde), perciò ha senso calcolare la PCA."
   ],
   "metadata": {
    "collapsed": false
   }
  },
  {
   "cell_type": "markdown",
   "source": [
    "Prima di effettuare la PCA necessito di andare a standardizzare i dati"
   ],
   "metadata": {
    "collapsed": false
   }
  },
  {
   "cell_type": "code",
   "execution_count": 87,
   "outputs": [],
   "source": [
    "def feature_extraction(data, n_components, norm=False):\n",
    "    if norm:\n",
    "        scalar = StandardScaler()\n",
    "        scalar.fit(data)\n",
    "        data = scalar.transform(data)\n",
    "\n",
    "    pca = PCA(n_components)\n",
    "\n",
    "    pca.fit(data)\n",
    "\n",
    "    #X_train = pca.transform(X_train)\n",
    "    #X_test = pca.transform(X_test)\n",
    "\n",
    "    return pca"
   ],
   "metadata": {
    "collapsed": false
   }
  },
  {
   "cell_type": "markdown",
   "source": [],
   "metadata": {
    "collapsed": false
   }
  },
  {
   "cell_type": "code",
   "execution_count": null,
   "outputs": [],
   "source": [
    "X, y = dataset.loc[:, 'Src Ip' : 'Idle Min'], dataset.loc[:, 'Label']"
   ],
   "metadata": {
    "collapsed": false
   }
  },
  {
   "cell_type": "code",
   "execution_count": 94,
   "outputs": [
    {
     "data": {
      "text/plain": "<Figure size 1440x432 with 1 Axes>",
      "image/png": "[encoded data removed]"
     },
     "metadata": {
      "needs_background": "light"
     },
     "output_type": "display_data"
    }
   ],
   "source": [
    "#X_train, X_test, y_train, y_test = train_test_split(X, y, test_size=.2, train_size=.8)\n",
    "\n",
    "#X_train = scalar.transform(X_train)\n",
    "#X_test = scalar.transform(X_test)\n",
    "pca = feature_extraction(X, X.shape[1], False)\n",
    "\n",
    "plt.figure(figsize=(20, 6))\n",
    "plt.plot(range(pca.n_components_), pca.explained_variance_)\n",
    "plt.scatter(range(pca.n_components_), pca.explained_variance_)\n",
    "plt.title(\"Scree plot(not normalized data)\")\n",
    "plt.xlabel(\"Component\")\n",
    "plt.xticks(range(pca.n_components_), range(pca.n_components_))\n",
    "plt.ylabel(\"Variance\")\n",
    "plt.show()"
   ],
   "metadata": {
    "collapsed": false
   }
  },
  {
   "cell_type": "code",
   "execution_count": 96,
   "outputs": [
    {
     "data": {
      "text/plain": "<Figure size 1440x432 with 1 Axes>",
      "image/png": "[encoded data removed]"
     },
     "metadata": {
      "needs_background": "light"
     },
     "output_type": "display_data"
    }
   ],
   "source": [
    "pca_norm = feature_extraction(X, X.shape[1], True)\n",
    "\n",
    "plt.figure(figsize=(20, 6))\n",
    "plt.plot(range(pca_norm.n_components_), pca_norm.explained_variance_)\n",
    "plt.scatter(range(pca_norm.n_components_), pca_norm.explained_variance_)\n",
    "plt.title(\"Scree plot(normalized data)\")\n",
    "plt.xlabel(\"Component\")\n",
    "plt.xticks(range(pca_norm.n_components_), range(pca_norm.n_components_))\n",
    "plt.ylabel(\"Variance\")\n",
    "plt.show()"
   ],
   "metadata": {
    "collapsed": false
   }
  },
  {
   "cell_type": "markdown",
   "source": [
    "Dai grafici presentati del caso di dati non normalizzati si andrebbero a estrarre **6/7 features**, oppure nel caso di dati normalizzati ado a estrarre **dalle 13 alle 57 features**.\n",
    "\n",
    "Per trovare con maggior precisione il numero di features attraverso la **regola di Kaiser** in cui si tengono solo le componenti che hanno un valore della varianza(autovalori) non sia **inferiore a 1 oppure a 0.7**. In letteratura la primo valore risulta troppo alto."
   ],
   "metadata": {
    "collapsed": false
   }
  },
  {
   "cell_type": "code",
   "execution_count": 109,
   "outputs": [
    {
     "name": "stdout",
     "output_type": "stream",
     "text": [
      "Threshold 1\n",
      "Regola di Kaiser su dati non normalizzati: 83 features\n",
      "Regola di Kaiser su dati normalizzati: 23 features\n"
     ]
    }
   ],
   "source": [
    "print(\"Threshold 1\")\n",
    "print(f\"Regola di Kaiser su dati non normalizzati: {len(pca.explained_variance_[pca.explained_variance_ > 1])} features\")\n",
    "print(f\"Regola di Kaiser su dati normalizzati: {len(pca_norm.explained_variance_[pca_norm.explained_variance_ > 1])} features\")"
   ],
   "metadata": {
    "collapsed": false
   }
  },
  {
   "cell_type": "code",
   "execution_count": 110,
   "outputs": [
    {
     "name": "stdout",
     "output_type": "stream",
     "text": [
      "Threshold 0.7\n",
      "Regola di Kaiser su dati non normalizzati: 83 features\n",
      "Regola di Kaiser su dati normalizzati: 34 features\n"
     ]
    }
   ],
   "source": [
    "print(\"Threshold 0.7\")\n",
    "print(f\"Regola di Kaiser su dati non normalizzati: {len(pca.explained_variance_[pca.explained_variance_ > .7])} features\")\n",
    "print(f\"Regola di Kaiser su dati normalizzati: {len(pca_norm.explained_variance_[pca_norm.explained_variance_ > .7])} features\")"
   ],
   "metadata": {
    "collapsed": false
   }
  },
  {
   "cell_type": "markdown",
   "source": [
    "In linea di massima da come si è visto dai risultati sopra la regola di Kaiser funziona solo su **dati normalizzati**, ottenedo un totale di 23 o 34 featiures rispettivamete nel caso in cui il threshold sia 1 o 0.7. Così facendo si riduce del **72%**(23 features) o del **59%**(34 features).\n",
    "\n",
    "I risultati descritti sopra soddisfano la condizione descritta dai grafici ottenuta analizzando l'andamento dei grafici vedendo dove avviene la suddivisone tra autovalori \"grandi\" e \"piccoli\" che viene contrassegnato da un \"gomito\"."
   ],
   "metadata": {
    "collapsed": false
   }
  },
  {
   "cell_type": "markdown",
   "source": [
    "# BILANCIAMENTO DATASET\n",
    "\n",
    "Prima di tutto voglio andare a vedere come le due classi sono distribuite all'interno del dataset"
   ],
   "metadata": {
    "collapsed": false
   }
  },
  {
   "cell_type": "code",
   "execution_count": 13,
   "outputs": [
    {
     "name": "stdout",
     "output_type": "stream",
     "text": [
      "[0. 1.]\n",
      "[1592331   94601]\n"
     ]
    }
   ],
   "source": [
    "labels, counts = np.unique(dataset['Label'], return_counts=True)\n",
    "\n",
    "print(labels)\n",
    "print(counts)"
   ],
   "metadata": {
    "collapsed": false
   }
  },
  {
   "cell_type": "markdown",
   "source": [
    "Si vede che la classe *BENIGN*, contrassegnato con lo 0, è quella maggiormente presente con un totale di 1592331 records contro i 94601 dei recods malevoli"
   ],
   "metadata": {
    "collapsed": false
   }
  },
  {
   "cell_type": "code",
   "execution_count": 15,
   "outputs": [
    {
     "data": {
      "text/plain": "<Figure size 432x288 with 1 Axes>",
      "image/png": "[encoded data removed]"
     },
     "metadata": {
      "needs_background": "light"
     },
     "output_type": "display_data"
    }
   ],
   "source": [
    "labels = np.where(labels == 0., \"BENIGN\", \"MALWARE\")\n",
    "\n",
    "plt.bar(labels, counts)\n",
    "plt.show()"
   ],
   "metadata": {
    "collapsed": false
   }
  },
  {
   "cell_type": "markdown",
   "source": [
    "Le tecniche che vorrei utilizzare per bilanciare il dataset sono principalmente 2: sfruttare la **focal loss** o la **SMOTE** (Synthetic Minority Oversampling Technique)."
   ],
   "metadata": {
    "collapsed": false
   }
  },
  {
   "cell_type": "code",
   "execution_count": 32,
   "outputs": [],
   "source": [
    "del dataset"
   ],
   "metadata": {
    "collapsed": false
   }
  },
  {
   "cell_type": "markdown",
   "source": [
    "# ADDESTRAMENTO DEL MODELLO\n",
    "\n",
    "Prima di addestrare i modelli andiamo a dividere il dataset in training e test set e li memorizzo su file"
   ],
   "metadata": {
    "collapsed": false
   }
  },
  {
   "cell_type": "code",
   "execution_count": 4,
   "outputs": [
    {
     "name": "stdout",
     "output_type": "stream",
     "text": [
      "Lettura completata\n"
     ]
    }
   ],
   "source": [
    "data = pd.read_csv(f\"{DATASET_PATH}/dataset.csv\", low_memory=False)\n",
    "X, y = data.loc[:, 'Src Ip' : 'Idle Min'], data.loc[:, 'Label']\n",
    "\n",
    "X_train, X_test, y_train, y_test = train_test_split(X, y, test_size=.3, train_size=.7)\n",
    "\n",
    "print(\"Lettura completata\")"
   ],
   "metadata": {
    "collapsed": false
   }
  },
  {
   "cell_type": "code",
   "execution_count": null,
   "outputs": [],
   "source": [
    "training_set, test_set =  X_train, X_test\n",
    "\n",
    "training_set['Label'] = y_train\n",
    "test_set['Label'] = y_test\n",
    "\n",
    "#print(test_set)\n",
    "training_set.to_csv(f\"{DATASET_PATH}/train.csv\")\n",
    "test_set.to_csv(f\"{DATASET_PATH}/test.csv\")"
   ],
   "metadata": {
    "collapsed": false,
    "pycharm": {
     "is_executing": true
    }
   }
  },
  {
   "cell_type": "markdown",
   "source": [
    "I modelli che andremo a sfruttare sono i seguenti: **Decision Tree**, **Random Forest**, **Neural Tree**, ...(da ampliare la lista).\n",
    "\n",
    "I modelli saranno addestati con le seguenti modallità, per poi andarli a confrontare provando a determinare quali siano le migliori features atte a rilevare un attacco ransomware analizzando il traffico.\n",
    "\n",
    "Le modalità di addestramento saranno le seguenti:\n",
    "* con dataset sbilanciato\n",
    "* dataset bilanciato\n",
    "\n",
    "Queste due modalità verranno ripetute sia su dataset con tutte le features e sia dopo una fase di features reduction."
   ],
   "metadata": {
    "collapsed": false
   }
  },
  {
   "cell_type": "code",
   "execution_count": 4,
   "outputs": [
    {
     "name": "stdout",
     "output_type": "stream",
     "text": [
      "DATASET ACQUISITI\n"
     ]
    }
   ],
   "source": [
    "training_set = pd.read_csv(f\"{DATASET_PATH}/train.csv\", low_memory=False)\n",
    "test_set = pd.read_csv(f\"{DATASET_PATH}/test.csv\", low_memory=False)\n",
    "\n",
    "X_train, y_train = training_set.loc[:, 'Src Ip' : 'Idle Min'], training_set.loc[:, 'Label']\n",
    "X_test, y_test = test_set.loc[:, 'Src Ip' : 'Idle Min'], test_set.loc[:, 'Label']\n",
    "\n",
    "print(\"DATASET ACQUISITI\")\n",
    "\n",
    "del training_set, test_set"
   ],
   "metadata": {
    "collapsed": false
   }
  },
  {
   "cell_type": "code",
   "execution_count": 5,
   "outputs": [
    {
     "name": "stdout",
     "output_type": "stream",
     "text": [
      "Bilanciamento completato\n"
     ]
    }
   ],
   "source": [
    "oversample = SMOTE()\n",
    "\n",
    "X_train_balanced, y_train_balanced = oversample.fit_resample(X_train, y_train)\n",
    "X_test_balanced, y_test_balanced = oversample.fit_resample(X_test, y_test)\n",
    "\n",
    "print(\"Bilanciamento completato\")"
   ],
   "metadata": {
    "collapsed": false
   }
  },
  {
   "cell_type": "code",
   "execution_count": 50,
   "outputs": [],
   "source": [
    "train_balanced = X_train_balanced\n",
    "train_balanced['Label'] = y_train_balanced\n",
    "\n",
    "test_balanced = X_test_balanced\n",
    "test_balanced['Label'] = y_test_balanced\n",
    "\n",
    "train_balanced.to_csv(f\"{DATASET_PATH}/balanced_train.csv\")\n",
    "test_balanced.to_csv(f\"{DATASET_PATH}/balanced_test.csv\")"
   ],
   "metadata": {
    "collapsed": false
   }
  },
  {
   "cell_type": "code",
   "execution_count": 5,
   "outputs": [
    {
     "name": "stdout",
     "output_type": "stream",
     "text": [
      "DATASET BILANCIATI ACQUISITI\n"
     ]
    }
   ],
   "source": [
    "training_set_balanced = pd.read_csv(f\"{DATASET_PATH}/balanced_train.csv\", low_memory=False)\n",
    "test_set_balanced = pd.read_csv(f\"{DATASET_PATH}/balanced_test.csv\", low_memory=False)\n",
    "\n",
    "X_train_balanced, y_train_balanced = training_set_balanced.loc[:, 'Src Ip' : 'Idle Min'], training_set_balanced.loc[:, 'Label']\n",
    "X_test_balanced, y_test_balanced = test_set_balanced.loc[:, 'Src Ip' : 'Idle Min'], test_set_balanced.loc[:, 'Label']\n",
    "\n",
    "print(\"DATASET BILANCIATI ACQUISITI\")\n",
    "\n",
    "del training_set_balanced, test_set_balanced"
   ],
   "metadata": {
    "collapsed": false
   }
  },
  {
   "cell_type": "markdown",
   "source": [
    "## DECISION TREE\n",
    "\n",
    "### DATASET SBILANCIATO"
   ],
   "metadata": {
    "collapsed": false
   }
  },
  {
   "cell_type": "code",
   "execution_count": 5,
   "outputs": [
    {
     "name": "stdout",
     "output_type": "stream",
     "text": [
      "CARICAMENTO MODELLO DA ../exported_model/dt_unbalance.pkl\n"
     ]
    }
   ],
   "source": [
    "try:\n",
    "    with open(f\"{EXPORTED_MODEL}/dt_unbalance.pkl\", 'rb') as file:\n",
    "        print(\"CARICAMENTO MODELLO DA ../exported_model/dt_unbalance.pkl\")\n",
    "\n",
    "        dt_model = pkl.load(file)\n",
    "except IOError:\n",
    "    dt = DecisionTreeClassifier()\n",
    "    start_time = time.time()\n",
    "\n",
    "    print(\"INIZIO ADDESTRAMENTO DECISION TREE\")\n",
    "    dt_model = dt.fit(X_train, y_train)\n",
    "\n",
    "    print(f\"L'addestramento del decision tree ha impiegato {time.time() - start_time} secondi\")\n",
    "\n",
    "    print(\"SALVATAGGIO MODELLO IN ../exported_model/dt_unbalance.pkl\")\n",
    "    with open(f\"{EXPORTED_MODEL}/dt_unbalance.pkl\", 'wb') as file:\n",
    "        pkl.dump(dt_model, file)"
   ],
   "metadata": {
    "collapsed": false
   }
  },
  {
   "cell_type": "markdown",
   "source": [
    "Visualizziamo il decision tree"
   ],
   "metadata": {
    "collapsed": false
   }
  },
  {
   "cell_type": "code",
   "execution_count": 6,
   "outputs": [
    {
     "data": {
      "text/plain": "[Text(0.27871429050429186, 0.9761904761904762, 'X[41] <= 0.018\\ngini = 0.106\\nsamples = 1180852\\nvalue = [1114497, 66355]'),\n Text(0.17972103004291845, 0.9285714285714286, 'X[0] <= 101281648.0\\ngini = 0.176\\nsamples = 62195\\nvalue = [6048, 56147]'),\n Text(0.11051502145922747, 0.8809523809523809, 'X[5] <= 1.488899616303743e+18\\ngini = 0.04\\nsamples = 57197\\nvalue = [1159, 56038]'),\n Text(0.07939914163090128, 0.8333333333333334, 'X[3] <= 60.0\\ngini = 0.012\\nsamples = 56355\\nvalue = [328, 56027]'),\n Text(0.04291845493562232, 0.7857142857142857, 'X[5] <= 3640499896320.0\\ngini = 0.055\\nsamples = 71\\nvalue = [69, 2]'),\n Text(0.034334763948497854, 0.7380952380952381, 'gini = 0.0\\nsamples = 2\\nvalue = [0, 2]'),\n Text(0.05150214592274678, 0.7380952380952381, 'gini = 0.0\\nsamples = 69\\nvalue = [69, 0]'),\n Text(0.11587982832618025, 0.7857142857142857, 'X[48] <= 0.5\\ngini = 0.009\\nsamples = 56284\\nvalue = [259, 56025]'),\n Text(0.06866952789699571, 0.7380952380952381, 'X[1] <= 108.5\\ngini = 0.002\\nsamples = 55112\\nvalue = [63, 55049]'),\n Text(0.034334763948497854, 0.6904761904761905, 'X[0] <= 9658513.5\\ngini = 0.471\\nsamples = 103\\nvalue = [39, 64]'),\n Text(0.017167381974248927, 0.6428571428571429, 'X[0] <= 5011.0\\ngini = 0.097\\nsamples = 39\\nvalue = [37, 2]'),\n Text(0.008583690987124463, 0.5952380952380952, 'gini = 0.0\\nsamples = 2\\nvalue = [0, 2]'),\n Text(0.02575107296137339, 0.5952380952380952, 'gini = 0.0\\nsamples = 37\\nvalue = [37, 0]'),\n Text(0.05150214592274678, 0.6428571428571429, 'X[5] <= 6.38337613072171e+17\\ngini = 0.061\\nsamples = 64\\nvalue = [2, 62]'),\n Text(0.04291845493562232, 0.5952380952380952, 'gini = 0.0\\nsamples = 62\\nvalue = [0, 62]'),\n Text(0.060085836909871244, 0.5952380952380952, 'gini = 0.0\\nsamples = 2\\nvalue = [2, 0]'),\n Text(0.10300429184549356, 0.6904761904761905, 'X[1] <= 5354.0\\ngini = 0.001\\nsamples = 55009\\nvalue = [24, 54985]'),\n Text(0.08583690987124463, 0.6428571428571429, 'X[1] <= 2215.5\\ngini = 0.037\\nsamples = 1162\\nvalue = [22, 1140]'),\n Text(0.07725321888412018, 0.5952380952380952, 'X[5] <= 6.481187800644321e+17\\ngini = 0.002\\nsamples = 1141\\nvalue = [1, 1140]'),\n Text(0.06866952789699571, 0.5476190476190477, 'gini = 0.0\\nsamples = 1140\\nvalue = [0, 1140]'),\n Text(0.08583690987124463, 0.5476190476190477, 'gini = 0.0\\nsamples = 1\\nvalue = [1, 0]'),\n Text(0.0944206008583691, 0.5952380952380952, 'gini = 0.0\\nsamples = 21\\nvalue = [21, 0]'),\n Text(0.12017167381974249, 0.6428571428571429, 'X[1] <= 42068.5\\ngini = 0.0\\nsamples = 53847\\nvalue = [2, 53845]'),\n Text(0.11158798283261803, 0.5952380952380952, 'X[68] <= 71.0\\ngini = 0.017\\nsamples = 231\\nvalue = [2, 229]'),\n Text(0.10300429184549356, 0.5476190476190477, 'gini = 0.0\\nsamples = 2\\nvalue = [2, 0]'),\n Text(0.12017167381974249, 0.5476190476190477, 'gini = 0.0\\nsamples = 229\\nvalue = [0, 229]'),\n Text(0.12875536480686695, 0.5952380952380952, 'gini = 0.0\\nsamples = 53616\\nvalue = [0, 53616]'),\n Text(0.1630901287553648, 0.7380952380952381, 'X[0] <= 55017.5\\ngini = 0.279\\nsamples = 1172\\nvalue = [196, 976]'),\n Text(0.15450643776824036, 0.6904761904761905, 'gini = 0.0\\nsamples = 879\\nvalue = [0, 879]'),\n Text(0.17167381974248927, 0.6904761904761905, 'X[0] <= 19216813.0\\ngini = 0.443\\nsamples = 293\\nvalue = [196, 97]'),\n Text(0.15450643776824036, 0.6428571428571429, 'X[5] <= 1.4615910460046705e+18\\ngini = 0.01\\nsamples = 195\\nvalue = [194, 1]'),\n Text(0.1459227467811159, 0.5952380952380952, 'gini = 0.0\\nsamples = 194\\nvalue = [194, 0]'),\n Text(0.1630901287553648, 0.5952380952380952, 'gini = 0.0\\nsamples = 1\\nvalue = [0, 1]'),\n Text(0.1888412017167382, 0.6428571428571429, 'X[1] <= 444.0\\ngini = 0.04\\nsamples = 98\\nvalue = [2, 96]'),\n Text(0.18025751072961374, 0.5952380952380952, 'gini = 0.0\\nsamples = 2\\nvalue = [2, 0]'),\n Text(0.19742489270386265, 0.5952380952380952, 'gini = 0.0\\nsamples = 96\\nvalue = [0, 96]'),\n Text(0.14163090128755365, 0.8333333333333334, 'X[5] <= 1.5115979343475507e+18\\ngini = 0.026\\nsamples = 842\\nvalue = [831, 11]'),\n Text(0.13304721030042918, 0.7857142857142857, 'gini = 0.0\\nsamples = 831\\nvalue = [831, 0]'),\n Text(0.15021459227467812, 0.7857142857142857, 'gini = 0.0\\nsamples = 11\\nvalue = [0, 11]'),\n Text(0.24892703862660945, 0.8809523809523809, 'X[5] <= 5.823396270928036e+17\\ngini = 0.043\\nsamples = 4998\\nvalue = [4889, 109]'),\n Text(0.24034334763948498, 0.8333333333333334, 'X[2] <= 55119.5\\ngini = 0.406\\nsamples = 152\\nvalue = [43, 109]'),\n Text(0.2317596566523605, 0.7857142857142857, 'gini = 0.0\\nsamples = 103\\nvalue = [0, 103]'),\n Text(0.24892703862660945, 0.7857142857142857, 'X[15] <= 27.0\\ngini = 0.215\\nsamples = 49\\nvalue = [43, 6]'),\n Text(0.24034334763948498, 0.7380952380952381, 'X[1] <= 54597.0\\ngini = 0.156\\nsamples = 47\\nvalue = [43, 4]'),\n Text(0.2317596566523605, 0.6904761904761905, 'X[45] <= 192.0\\ngini = 0.085\\nsamples = 45\\nvalue = [43, 2]'),\n Text(0.22317596566523606, 0.6428571428571429, 'X[5] <= 6367999950848.0\\ngini = 0.044\\nsamples = 44\\nvalue = [43, 1]'),\n Text(0.2145922746781116, 0.5952380952380952, 'gini = 0.0\\nsamples = 27\\nvalue = [27, 0]'),\n Text(0.2317596566523605, 0.5952380952380952, 'X[2] <= 9658514.5\\ngini = 0.111\\nsamples = 17\\nvalue = [16, 1]'),\n Text(0.22317596566523606, 0.5476190476190477, 'gini = 0.0\\nsamples = 16\\nvalue = [16, 0]'),\n Text(0.24034334763948498, 0.5476190476190477, 'gini = 0.0\\nsamples = 1\\nvalue = [0, 1]'),\n Text(0.24034334763948498, 0.6428571428571429, 'gini = 0.0\\nsamples = 1\\nvalue = [0, 1]'),\n Text(0.24892703862660945, 0.6904761904761905, 'gini = 0.0\\nsamples = 2\\nvalue = [0, 2]'),\n Text(0.2575107296137339, 0.7380952380952381, 'gini = 0.0\\nsamples = 2\\nvalue = [0, 2]'),\n Text(0.2575107296137339, 0.8333333333333334, 'gini = 0.0\\nsamples = 4846\\nvalue = [4846, 0]'),\n Text(0.3777075509656652, 0.9285714285714286, 'X[0] <= 14797.0\\ngini = 0.018\\nsamples = 1118657\\nvalue = [1108449, 10208]'),\n Text(0.30042918454935624, 0.8809523809523809, 'X[1] <= 95.5\\ngini = 0.007\\nsamples = 5636\\nvalue = [19, 5617]'),\n Text(0.2918454935622318, 0.8333333333333334, 'X[13] <= 343.5\\ngini = 0.495\\nsamples = 42\\nvalue = [19, 23]'),\n Text(0.2832618025751073, 0.7857142857142857, 'X[44] <= 329.0\\ngini = 0.08\\nsamples = 24\\nvalue = [1, 23]'),\n Text(0.27467811158798283, 0.7380952380952381, 'gini = 0.0\\nsamples = 1\\nvalue = [1, 0]'),\n Text(0.2918454935622318, 0.7380952380952381, 'gini = 0.0\\nsamples = 23\\nvalue = [0, 23]'),\n Text(0.30042918454935624, 0.7857142857142857, 'gini = 0.0\\nsamples = 18\\nvalue = [18, 0]'),\n Text(0.3090128755364807, 0.8333333333333334, 'gini = 0.0\\nsamples = 5594\\nvalue = [0, 5594]'),\n Text(0.45498591738197425, 0.8809523809523809, 'X[5] <= 3671499997184.0\\ngini = 0.008\\nsamples = 1113021\\nvalue = [1108430, 4591]'),\n Text(0.3261802575107296, 0.8333333333333334, 'X[0] <= 10109506.0\\ngini = 0.402\\nsamples = 1539\\nvalue = [429, 1110]'),\n Text(0.31759656652360513, 0.7857142857142857, 'gini = 0.0\\nsamples = 425\\nvalue = [425, 0]'),\n Text(0.33476394849785407, 0.7857142857142857, 'X[0] <= 1807113088.0\\ngini = 0.007\\nsamples = 1114\\nvalue = [4, 1110]'),\n Text(0.3261802575107296, 0.7380952380952381, 'gini = 0.0\\nsamples = 1107\\nvalue = [0, 1107]'),\n Text(0.34334763948497854, 0.7380952380952381, 'X[59] <= 27.0\\ngini = 0.49\\nsamples = 7\\nvalue = [4, 3]'),\n Text(0.33476394849785407, 0.6904761904761905, 'gini = 0.0\\nsamples = 3\\nvalue = [0, 3]'),\n Text(0.351931330472103, 0.6904761904761905, 'gini = 0.0\\nsamples = 4\\nvalue = [4, 0]'),\n Text(0.5837915772532188, 0.8333333333333334, 'X[68] <= 11262707.5\\ngini = 0.006\\nsamples = 1111482\\nvalue = [1108001, 3481]'),\n Text(0.5065048283261803, 0.7857142857142857, 'X[5] <= 4295499972608.0\\ngini = 0.006\\nsamples = 1111167\\nvalue = [1107975, 3192]'),\n Text(0.3948497854077253, 0.7380952380952381, 'X[17] <= 26.5\\ngini = 0.161\\nsamples = 19757\\nvalue = [18016, 1741]'),\n Text(0.36909871244635195, 0.6904761904761905, 'X[0] <= 10109506.0\\ngini = 0.163\\nsamples = 1587\\nvalue = [142, 1445]'),\n Text(0.3605150214592275, 0.6428571428571429, 'gini = 0.0\\nsamples = 142\\nvalue = [142, 0]'),\n Text(0.3776824034334764, 0.6428571428571429, 'gini = 0.0\\nsamples = 1445\\nvalue = [0, 1445]'),\n Text(0.4206008583690987, 0.6904761904761905, 'X[15] <= 1508.0\\ngini = 0.032\\nsamples = 18170\\nvalue = [17874, 296]'),\n Text(0.3948497854077253, 0.6428571428571429, 'X[0] <= 16495489.5\\ngini = 0.019\\nsamples = 18014\\nvalue = [17838, 176]'),\n Text(0.38626609442060084, 0.5952380952380952, 'gini = 0.0\\nsamples = 16572\\nvalue = [16572, 0]'),\n Text(0.4034334763948498, 0.5952380952380952, 'X[71] <= 64887.5\\ngini = 0.214\\nsamples = 1442\\nvalue = [1266, 176]'),\n Text(0.3948497854077253, 0.5476190476190477, 'X[5] <= 3675000012800.0\\ngini = 0.011\\nsamples = 177\\nvalue = [1, 176]'),\n Text(0.38626609442060084, 0.5, 'gini = 0.0\\nsamples = 1\\nvalue = [1, 0]'),\n Text(0.4034334763948498, 0.5, 'gini = 0.0\\nsamples = 176\\nvalue = [0, 176]'),\n Text(0.41201716738197425, 0.5476190476190477, 'gini = 0.0\\nsamples = 1265\\nvalue = [1265, 0]'),\n Text(0.44635193133047213, 0.6428571428571429, 'X[0] <= 241118968.0\\ngini = 0.355\\nsamples = 156\\nvalue = [36, 120]'),\n Text(0.43776824034334766, 0.5952380952380952, 'X[1] <= 49364.5\\ngini = 0.016\\nsamples = 121\\nvalue = [1, 120]'),\n Text(0.4291845493562232, 0.5476190476190477, 'gini = 0.0\\nsamples = 120\\nvalue = [0, 120]'),\n Text(0.44635193133047213, 0.5476190476190477, 'gini = 0.0\\nsamples = 1\\nvalue = [1, 0]'),\n Text(0.45493562231759654, 0.5952380952380952, 'gini = 0.0\\nsamples = 35\\nvalue = [35, 0]'),\n Text(0.6181598712446352, 0.7380952380952381, 'X[5] <= 1.500406211646849e+18\\ngini = 0.003\\nsamples = 1091410\\nvalue = [1089959, 1451]'),\n Text(0.6095761802575107, 0.6904761904761905, 'X[5] <= 5533499916288.0\\ngini = 0.003\\nsamples = 1091367\\nvalue = [1089959, 1408]'),\n Text(0.4978540772532189, 0.6428571428571429, 'X[42] <= 0.032\\ngini = 0.06\\nsamples = 30678\\nvalue = [29722, 956]'),\n Text(0.4721030042918455, 0.5952380952380952, 'X[0] <= 10109506.0\\ngini = 0.262\\nsamples = 943\\nvalue = [146, 797]'),\n Text(0.463519313304721, 0.5476190476190477, 'gini = 0.0\\nsamples = 146\\nvalue = [146, 0]'),\n Text(0.48068669527896996, 0.5476190476190477, 'gini = 0.0\\nsamples = 797\\nvalue = [0, 797]'),\n Text(0.5236051502145923, 0.5952380952380952, 'X[68] <= 54.5\\ngini = 0.011\\nsamples = 29735\\nvalue = [29576, 159]'),\n Text(0.4978540772532189, 0.5476190476190477, 'X[72] <= 63976.0\\ngini = 0.431\\nsamples = 35\\nvalue = [11, 24]'),\n Text(0.4892703862660944, 0.5, 'gini = 0.0\\nsamples = 24\\nvalue = [0, 24]'),\n Text(0.5064377682403434, 0.5, 'gini = 0.0\\nsamples = 11\\nvalue = [11, 0]'),\n Text(0.5493562231759657, 0.5476190476190477, 'X[15] <= 1511.5\\ngini = 0.009\\nsamples = 29700\\nvalue = [29565, 135]'),\n Text(0.5236051502145923, 0.5, 'X[43] <= 240.5\\ngini = 0.007\\nsamples = 29630\\nvalue = [29526, 104]'),\n Text(0.5150214592274678, 0.4523809523809524, 'X[0] <= 18864817.0\\ngini = 0.007\\nsamples = 29624\\nvalue = [29526, 98]'),\n Text(0.5064377682403434, 0.40476190476190477, 'gini = 0.0\\nsamples = 27238\\nvalue = [27238, 0]'),\n Text(0.5236051502145923, 0.40476190476190477, 'X[71] <= 64841.5\\ngini = 0.079\\nsamples = 2386\\nvalue = [2288, 98]'),\n Text(0.5150214592274678, 0.35714285714285715, 'gini = 0.0\\nsamples = 98\\nvalue = [0, 98]'),\n Text(0.5321888412017167, 0.35714285714285715, 'gini = 0.0\\nsamples = 2288\\nvalue = [2288, 0]'),\n Text(0.5321888412017167, 0.4523809523809524, 'gini = 0.0\\nsamples = 6\\nvalue = [0, 6]'),\n Text(0.575107296137339, 0.5, 'X[32] <= 1230412.0\\ngini = 0.493\\nsamples = 70\\nvalue = [39, 31]'),\n Text(0.5665236051502146, 0.4523809523809524, 'X[31] <= 692205.0\\ngini = 0.114\\nsamples = 33\\nvalue = [2, 31]'),\n Text(0.5579399141630901, 0.40476190476190477, 'X[71] <= 64887.5\\ngini = 0.061\\nsamples = 32\\nvalue = [1, 31]'),\n Text(0.5493562231759657, 0.35714285714285715, 'gini = 0.0\\nsamples = 31\\nvalue = [0, 31]'),\n Text(0.5665236051502146, 0.35714285714285715, 'gini = 0.0\\nsamples = 1\\nvalue = [1, 0]'),\n Text(0.575107296137339, 0.40476190476190477, 'gini = 0.0\\nsamples = 1\\nvalue = [1, 0]'),\n Text(0.5836909871244635, 0.4523809523809524, 'gini = 0.0\\nsamples = 37\\nvalue = [37, 0]'),\n Text(0.7212982832618026, 0.6428571428571429, 'X[5] <= 8177999937536.0\\ngini = 0.001\\nsamples = 1060689\\nvalue = [1060237, 452]'),\n Text(0.6223175965665236, 0.5952380952380952, 'X[42] <= 0.013\\ngini = 0.024\\nsamples = 24272\\nvalue = [23979, 293]'),\n Text(0.6008583690987125, 0.5476190476190477, 'X[0] <= 10109506.0\\ngini = 0.459\\nsamples = 348\\nvalue = [124, 224]'),\n Text(0.592274678111588, 0.5, 'gini = 0.0\\nsamples = 124\\nvalue = [124, 0]'),\n Text(0.6094420600858369, 0.5, 'gini = 0.0\\nsamples = 224\\nvalue = [0, 224]'),\n Text(0.6437768240343348, 0.5476190476190477, 'X[7] <= 1210.5\\ngini = 0.006\\nsamples = 23924\\nvalue = [23855, 69]'),\n Text(0.6266094420600858, 0.5, 'X[43] <= 240.5\\ngini = 0.004\\nsamples = 23898\\nvalue = [23852, 46]'),\n Text(0.6180257510729614, 0.4523809523809524, 'X[15] <= 1498.5\\ngini = 0.004\\nsamples = 23894\\nvalue = [23852, 42]'),\n Text(0.6008583690987125, 0.40476190476190477, 'X[63] <= 59625042.0\\ngini = 0.003\\nsamples = 23865\\nvalue = [23830, 35]'),\n Text(0.592274678111588, 0.35714285714285715, 'X[0] <= 16020533.0\\ngini = 0.003\\nsamples = 23864\\nvalue = [23830, 34]'),\n Text(0.5836909871244635, 0.30952380952380953, 'gini = 0.0\\nsamples = 22440\\nvalue = [22440, 0]'),\n Text(0.6008583690987125, 0.30952380952380953, 'X[0] <= 20676468.0\\ngini = 0.047\\nsamples = 1424\\nvalue = [1390, 34]'),\n Text(0.592274678111588, 0.2619047619047619, 'gini = 0.0\\nsamples = 34\\nvalue = [0, 34]'),\n Text(0.6094420600858369, 0.2619047619047619, 'gini = 0.0\\nsamples = 1390\\nvalue = [1390, 0]'),\n Text(0.6094420600858369, 0.35714285714285715, 'gini = 0.0\\nsamples = 1\\nvalue = [0, 1]'),\n Text(0.6351931330472103, 0.40476190476190477, 'X[2] <= 9658514.5\\ngini = 0.366\\nsamples = 29\\nvalue = [22, 7]'),\n Text(0.6266094420600858, 0.35714285714285715, 'gini = 0.0\\nsamples = 22\\nvalue = [22, 0]'),\n Text(0.6437768240343348, 0.35714285714285715, 'gini = 0.0\\nsamples = 7\\nvalue = [0, 7]'),\n Text(0.6351931330472103, 0.4523809523809524, 'gini = 0.0\\nsamples = 4\\nvalue = [0, 4]'),\n Text(0.6609442060085837, 0.5, 'X[72] <= 64189.0\\ngini = 0.204\\nsamples = 26\\nvalue = [3, 23]'),\n Text(0.6523605150214592, 0.4523809523809524, 'gini = 0.0\\nsamples = 23\\nvalue = [0, 23]'),\n Text(0.6695278969957081, 0.4523809523809524, 'gini = 0.0\\nsamples = 3\\nvalue = [3, 0]'),\n Text(0.8202789699570815, 0.5952380952380952, 'X[72] <= 64237.0\\ngini = 0.0\\nsamples = 1036417\\nvalue = [1036258, 159]'),\n Text(0.7296137339055794, 0.5476190476190477, 'X[5] <= 64978000281600.0\\ngini = 0.0\\nsamples = 1027541\\nvalue = [1027517, 24]'),\n Text(0.6952789699570815, 0.5, 'X[3] <= 51605.0\\ngini = 0.012\\nsamples = 1591\\nvalue = [1581, 10]'),\n Text(0.6866952789699571, 0.4523809523809524, 'gini = 0.0\\nsamples = 1581\\nvalue = [1581, 0]'),\n Text(0.703862660944206, 0.4523809523809524, 'gini = 0.0\\nsamples = 10\\nvalue = [0, 10]'),\n Text(0.7639484978540773, 0.5, 'X[72] <= 63472.5\\ngini = 0.0\\nsamples = 1025950\\nvalue = [1025936, 14]'),\n Text(0.721030042918455, 0.4523809523809524, 'X[1] <= 65513.5\\ngini = 0.0\\nsamples = 1024028\\nvalue = [1024020, 8]'),\n Text(0.6909871244635193, 0.40476190476190477, 'X[72] <= 62835.5\\ngini = 0.0\\nsamples = 1023596\\nvalue = [1023589, 7]'),\n Text(0.6738197424892703, 0.35714285714285715, 'X[0] <= 11537628.5\\ngini = 0.0\\nsamples = 1022742\\nvalue = [1022736, 6]'),\n Text(0.6652360515021459, 0.30952380952380953, 'X[0] <= 10555418.0\\ngini = 0.0\\nsamples = 32837\\nvalue = [32831, 6]'),\n Text(0.6437768240343348, 0.2619047619047619, 'X[9] <= 67.5\\ngini = 0.0\\nsamples = 32832\\nvalue = [32830, 2]'),\n Text(0.6266094420600858, 0.21428571428571427, 'X[43] <= 66.5\\ngini = 0.002\\nsamples = 1170\\nvalue = [1169, 1]'),\n Text(0.6180257510729614, 0.16666666666666666, 'gini = 0.0\\nsamples = 1169\\nvalue = [1169, 0]'),\n Text(0.6351931330472103, 0.16666666666666666, 'gini = 0.0\\nsamples = 1\\nvalue = [0, 1]'),\n Text(0.6609442060085837, 0.21428571428571427, 'X[9] <= 78.5\\ngini = 0.0\\nsamples = 31662\\nvalue = [31661, 1]'),\n Text(0.6523605150214592, 0.16666666666666666, 'X[42] <= 0.633\\ngini = 0.001\\nsamples = 3710\\nvalue = [3709, 1]'),\n Text(0.6437768240343348, 0.11904761904761904, 'X[0] <= 557073.5\\ngini = 0.5\\nsamples = 2\\nvalue = [1, 1]'),\n Text(0.6351931330472103, 0.07142857142857142, 'gini = 0.0\\nsamples = 1\\nvalue = [1, 0]'),\n Text(0.6523605150214592, 0.07142857142857142, 'gini = 0.0\\nsamples = 1\\nvalue = [0, 1]'),\n Text(0.6609442060085837, 0.11904761904761904, 'gini = 0.0\\nsamples = 3708\\nvalue = [3708, 0]'),\n Text(0.6695278969957081, 0.16666666666666666, 'gini = 0.0\\nsamples = 27952\\nvalue = [27952, 0]'),\n Text(0.6866952789699571, 0.2619047619047619, 'X[58] <= 69.583\\ngini = 0.32\\nsamples = 5\\nvalue = [1, 4]'),\n Text(0.6781115879828327, 0.21428571428571427, 'gini = 0.0\\nsamples = 1\\nvalue = [1, 0]'),\n Text(0.6952789699570815, 0.21428571428571427, 'gini = 0.0\\nsamples = 4\\nvalue = [0, 4]'),\n Text(0.6824034334763949, 0.30952380952380953, 'gini = 0.0\\nsamples = 989905\\nvalue = [989905, 0]'),\n Text(0.7081545064377682, 0.35714285714285715, 'X[72] <= 62838.5\\ngini = 0.002\\nsamples = 854\\nvalue = [853, 1]'),\n Text(0.6995708154506438, 0.30952380952380953, 'gini = 0.0\\nsamples = 1\\nvalue = [0, 1]'),\n Text(0.7167381974248928, 0.30952380952380953, 'gini = 0.0\\nsamples = 853\\nvalue = [853, 0]'),\n Text(0.7510729613733905, 0.40476190476190477, 'X[41] <= 0.746\\ngini = 0.005\\nsamples = 432\\nvalue = [431, 1]'),\n Text(0.7424892703862661, 0.35714285714285715, 'X[25] <= 1600168.5\\ngini = 0.219\\nsamples = 8\\nvalue = [7, 1]'),\n Text(0.7339055793991416, 0.30952380952380953, 'gini = 0.0\\nsamples = 1\\nvalue = [0, 1]'),\n Text(0.7510729613733905, 0.30952380952380953, 'gini = 0.0\\nsamples = 7\\nvalue = [7, 0]'),\n Text(0.759656652360515, 0.35714285714285715, 'gini = 0.0\\nsamples = 424\\nvalue = [424, 0]'),\n Text(0.8068669527896996, 0.4523809523809524, 'X[72] <= 63474.5\\ngini = 0.006\\nsamples = 1922\\nvalue = [1916, 6]'),\n Text(0.7854077253218884, 0.40476190476190477, 'X[60] <= 120.0\\ngini = 0.5\\nsamples = 2\\nvalue = [1, 1]'),\n Text(0.776824034334764, 0.35714285714285715, 'gini = 0.0\\nsamples = 1\\nvalue = [0, 1]'),\n Text(0.7939914163090128, 0.35714285714285715, 'gini = 0.0\\nsamples = 1\\nvalue = [1, 0]'),\n Text(0.8283261802575107, 0.40476190476190477, 'X[19] <= 15.662\\ngini = 0.005\\nsamples = 1920\\nvalue = [1915, 5]'),\n Text(0.8111587982832618, 0.35714285714285715, 'X[25] <= 9703344.0\\ngini = 0.147\\nsamples = 50\\nvalue = [46, 4]'),\n Text(0.8025751072961373, 0.30952380952380953, 'X[22] <= 17526015.0\\ngini = 0.444\\nsamples = 6\\nvalue = [2, 4]'),\n Text(0.7939914163090128, 0.2619047619047619, 'gini = 0.0\\nsamples = 4\\nvalue = [0, 4]'),\n Text(0.8111587982832618, 0.2619047619047619, 'gini = 0.0\\nsamples = 2\\nvalue = [2, 0]'),\n Text(0.8197424892703863, 0.30952380952380953, 'gini = 0.0\\nsamples = 44\\nvalue = [44, 0]'),\n Text(0.8454935622317596, 0.35714285714285715, 'X[21] <= 5.0\\ngini = 0.001\\nsamples = 1870\\nvalue = [1869, 1]'),\n Text(0.8369098712446352, 0.30952380952380953, 'X[5] <= 1.4562062565271142e+18\\ngini = 0.124\\nsamples = 15\\nvalue = [14, 1]'),\n Text(0.8283261802575107, 0.2619047619047619, 'gini = 0.0\\nsamples = 14\\nvalue = [14, 0]'),\n Text(0.8454935622317596, 0.2619047619047619, 'gini = 0.0\\nsamples = 1\\nvalue = [0, 1]'),\n Text(0.8540772532188842, 0.30952380952380953, 'gini = 0.0\\nsamples = 1855\\nvalue = [1855, 0]'),\n Text(0.9109442060085837, 0.5476190476190477, 'X[72] <= 64239.5\\ngini = 0.03\\nsamples = 8876\\nvalue = [8741, 135]'),\n Text(0.8841201716738197, 0.5, 'X[24] <= 47886.5\\ngini = 0.061\\nsamples = 32\\nvalue = [1, 31]'),\n Text(0.8755364806866953, 0.4523809523809524, 'gini = 0.0\\nsamples = 31\\nvalue = [0, 31]'),\n Text(0.8927038626609443, 0.4523809523809524, 'gini = 0.0\\nsamples = 1\\nvalue = [1, 0]'),\n Text(0.9377682403433476, 0.5, 'X[66] <= 14433535.0\\ngini = 0.023\\nsamples = 8844\\nvalue = [8740, 104]'),\n Text(0.9098712446351931, 0.4523809523809524, 'X[72] <= 64243.0\\ngini = 0.016\\nsamples = 8792\\nvalue = [8720, 72]'),\n Text(0.9012875536480687, 0.40476190476190477, 'X[0] <= 14292020.0\\ngini = 0.118\\nsamples = 1142\\nvalue = [1070, 72]'),\n Text(0.8798283261802575, 0.35714285714285715, 'X[1] <= 24800.5\\ngini = 0.5\\nsamples = 106\\nvalue = [53, 53]'),\n Text(0.871244635193133, 0.30952380952380953, 'gini = 0.0\\nsamples = 53\\nvalue = [53, 0]'),\n Text(0.8884120171673819, 0.30952380952380953, 'gini = 0.0\\nsamples = 53\\nvalue = [0, 53]'),\n Text(0.9227467811158798, 0.35714285714285715, 'X[64] <= 5947.25\\ngini = 0.036\\nsamples = 1036\\nvalue = [1017, 19]'),\n Text(0.9055793991416309, 0.30952380952380953, 'X[2] <= 189473300480.0\\ngini = 0.021\\nsamples = 1022\\nvalue = [1011, 11]'),\n Text(0.8969957081545065, 0.2619047619047619, 'X[3] <= 261.5\\ngini = 0.019\\nsamples = 1021\\nvalue = [1011, 10]'),\n Text(0.8798283261802575, 0.21428571428571427, 'X[0] <= 146690108.0\\ngini = 0.092\\nsamples = 165\\nvalue = [157, 8]'),\n Text(0.871244635193133, 0.16666666666666666, 'gini = 0.0\\nsamples = 7\\nvalue = [0, 7]'),\n Text(0.8884120171673819, 0.16666666666666666, 'X[0] <= 19216832512.0\\ngini = 0.013\\nsamples = 158\\nvalue = [157, 1]'),\n Text(0.8798283261802575, 0.11904761904761904, 'gini = 0.0\\nsamples = 157\\nvalue = [157, 0]'),\n Text(0.8969957081545065, 0.11904761904761904, 'gini = 0.0\\nsamples = 1\\nvalue = [0, 1]'),\n Text(0.9141630901287554, 0.21428571428571427, 'X[19] <= 11.535\\ngini = 0.005\\nsamples = 856\\nvalue = [854, 2]'),\n Text(0.9055793991416309, 0.16666666666666666, 'gini = 0.0\\nsamples = 1\\nvalue = [0, 1]'),\n Text(0.9227467811158798, 0.16666666666666666, 'X[57] <= 60.705\\ngini = 0.002\\nsamples = 855\\nvalue = [854, 1]'),\n Text(0.9141630901287554, 0.11904761904761904, 'X[2] <= 101549108.0\\ngini = 0.021\\nsamples = 95\\nvalue = [94, 1]'),\n Text(0.9055793991416309, 0.07142857142857142, 'X[68] <= 114.0\\ngini = 0.5\\nsamples = 2\\nvalue = [1, 1]'),\n Text(0.8969957081545065, 0.023809523809523808, 'gini = 0.0\\nsamples = 1\\nvalue = [1, 0]'),\n Text(0.9141630901287554, 0.023809523809523808, 'gini = 0.0\\nsamples = 1\\nvalue = [0, 1]'),\n Text(0.9227467811158798, 0.07142857142857142, 'gini = 0.0\\nsamples = 93\\nvalue = [93, 0]'),\n Text(0.9313304721030042, 0.11904761904761904, 'gini = 0.0\\nsamples = 760\\nvalue = [760, 0]'),\n Text(0.9141630901287554, 0.2619047619047619, 'gini = 0.0\\nsamples = 1\\nvalue = [0, 1]'),\n Text(0.9399141630901288, 0.30952380952380953, 'X[42] <= 6.243\\ngini = 0.49\\nsamples = 14\\nvalue = [6, 8]'),\n Text(0.9313304721030042, 0.2619047619047619, 'gini = 0.0\\nsamples = 6\\nvalue = [6, 0]'),\n Text(0.9484978540772532, 0.2619047619047619, 'gini = 0.0\\nsamples = 8\\nvalue = [0, 8]'),\n Text(0.9184549356223176, 0.40476190476190477, 'gini = 0.0\\nsamples = 7650\\nvalue = [7650, 0]'),\n Text(0.9656652360515021, 0.4523809523809524, 'X[56] <= 1.465\\ngini = 0.473\\nsamples = 52\\nvalue = [20, 32]'),\n Text(0.9484978540772532, 0.40476190476190477, 'X[80] <= 5899766.75\\ngini = 0.1\\nsamples = 19\\nvalue = [18, 1]'),\n Text(0.9399141630901288, 0.35714285714285715, 'gini = 0.0\\nsamples = 18\\nvalue = [18, 0]'),\n Text(0.9570815450643777, 0.35714285714285715, 'gini = 0.0\\nsamples = 1\\nvalue = [0, 1]'),\n Text(0.9828326180257511, 0.40476190476190477, 'X[44] <= 1510.0\\ngini = 0.114\\nsamples = 33\\nvalue = [2, 31]'),\n Text(0.9742489270386266, 0.35714285714285715, 'gini = 0.0\\nsamples = 2\\nvalue = [2, 0]'),\n Text(0.9914163090128756, 0.35714285714285715, 'gini = 0.0\\nsamples = 31\\nvalue = [0, 31]'),\n Text(0.6267435622317596, 0.6904761904761905, 'gini = 0.0\\nsamples = 43\\nvalue = [0, 43]'),\n Text(0.6610783261802575, 0.7857142857142857, 'X[64] <= 607.5\\ngini = 0.151\\nsamples = 315\\nvalue = [26, 289]'),\n Text(0.652494635193133, 0.7380952380952381, 'X[46] <= 562.08\\ngini = 0.071\\nsamples = 27\\nvalue = [26, 1]'),\n Text(0.6439109442060086, 0.6904761904761905, 'gini = 0.0\\nsamples = 1\\nvalue = [0, 1]'),\n Text(0.6610783261802575, 0.6904761904761905, 'gini = 0.0\\nsamples = 26\\nvalue = [26, 0]'),\n Text(0.6696620171673819, 0.7380952380952381, 'gini = 0.0\\nsamples = 288\\nvalue = [0, 288]')]"
     },
     "execution_count": 6,
     "metadata": {},
     "output_type": "execute_result"
    },
    {
     "data": {
      "text/plain": "<Figure size 432x288 with 1 Axes>",
      "image/png": "[encoded data removed]"
     },
     "metadata": {
      "needs_background": "light"
     },
     "output_type": "display_data"
    }
   ],
   "source": [
    "plot_tree(dt_model)"
   ],
   "metadata": {
    "collapsed": false
   }
  },
  {
   "cell_type": "markdown",
   "source": [
    "### VALUTAZIONE MODELLO"
   ],
   "metadata": {
    "collapsed": false
   }
  },
  {
   "cell_type": "code",
   "execution_count": 7,
   "outputs": [
    {
     "name": "stdout",
     "output_type": "stream",
     "text": [
      "Precision in training phase: 1.0\n",
      "Precision in testing phase: 0.9999664084729687\n"
     ]
    }
   ],
   "source": [
    "print(f\"Precision in training phase: {dt_model.score(X_train, y_train)}\")\n",
    "print(f\"Precision in testing phase: {dt_model.score(X_test, y_test)}\")"
   ],
   "metadata": {
    "collapsed": false
   }
  },
  {
   "cell_type": "markdown",
   "source": [
    "### FEATURES IMPORTANCE/DIMENSIONAL REDUCTION\n",
    "\n",
    "Per fare ciò sfrutto la proprietà *feature_importances\\_* messa a disposizione dal modello"
   ],
   "metadata": {
    "collapsed": false
   }
  },
  {
   "cell_type": "code",
   "execution_count": 8,
   "outputs": [
    {
     "name": "stdout",
     "output_type": "stream",
     "text": [
      "Feature: 0, Score: 0.17057\n",
      "Feature: 1, Score: 0.00120\n",
      "Feature: 2, Score: 0.00053\n",
      "Feature: 3, Score: 0.00122\n",
      "Feature: 4, Score: 0.00000\n",
      "Feature: 5, Score: 0.03044\n",
      "Feature: 6, Score: 0.00000\n",
      "Feature: 7, Score: 0.00032\n",
      "Feature: 8, Score: 0.00000\n",
      "Feature: 9, Score: 0.00000\n",
      "Feature: 10, Score: 0.00000\n",
      "Feature: 11, Score: 0.00000\n",
      "Feature: 12, Score: 0.00000\n",
      "Feature: 13, Score: 0.00015\n",
      "Feature: 14, Score: 0.00000\n",
      "Feature: 15, Score: 0.00169\n",
      "Feature: 16, Score: 0.00000\n",
      "Feature: 17, Score: 0.01864\n",
      "Feature: 18, Score: 0.00000\n",
      "Feature: 19, Score: 0.00002\n",
      "Feature: 20, Score: 0.00000\n",
      "Feature: 21, Score: 0.00000\n",
      "Feature: 22, Score: 0.00002\n",
      "Feature: 23, Score: 0.00000\n",
      "Feature: 24, Score: 0.00002\n",
      "Feature: 25, Score: 0.00005\n",
      "Feature: 26, Score: 0.00000\n",
      "Feature: 27, Score: 0.00000\n",
      "Feature: 28, Score: 0.00000\n",
      "Feature: 29, Score: 0.00000\n",
      "Feature: 30, Score: 0.00000\n",
      "Feature: 31, Score: 0.00001\n",
      "Feature: 32, Score: 0.00025\n",
      "Feature: 33, Score: 0.00000\n",
      "Feature: 34, Score: 0.00000\n",
      "Feature: 35, Score: 0.00000\n",
      "Feature: 36, Score: 0.00000\n",
      "Feature: 37, Score: 0.00000\n",
      "Feature: 38, Score: 0.00000\n",
      "Feature: 39, Score: 0.00000\n",
      "Feature: 40, Score: 0.00000\n",
      "Feature: 41, Score: 0.75131\n",
      "Feature: 42, Score: 0.01261\n",
      "Feature: 43, Score: 0.00017\n",
      "Feature: 44, Score: 0.00005\n",
      "Feature: 45, Score: 0.00001\n",
      "Feature: 46, Score: 0.00002\n",
      "Feature: 47, Score: 0.00000\n",
      "Feature: 48, Score: 0.00051\n",
      "Feature: 49, Score: 0.00000\n",
      "Feature: 50, Score: 0.00000\n",
      "Feature: 51, Score: 0.00000\n",
      "Feature: 52, Score: 0.00000\n",
      "Feature: 53, Score: 0.00000\n",
      "Feature: 54, Score: 0.00000\n",
      "Feature: 55, Score: 0.00000\n",
      "Feature: 56, Score: 0.00015\n",
      "Feature: 57, Score: 0.00000\n",
      "Feature: 58, Score: 0.00001\n",
      "Feature: 59, Score: 0.00003\n",
      "Feature: 60, Score: 0.00001\n",
      "Feature: 61, Score: 0.00000\n",
      "Feature: 62, Score: 0.00000\n",
      "Feature: 63, Score: 0.00002\n",
      "Feature: 64, Score: 0.00043\n",
      "Feature: 65, Score: 0.00000\n",
      "Feature: 66, Score: 0.00030\n",
      "Feature: 67, Score: 0.00000\n",
      "Feature: 68, Score: 0.00450\n",
      "Feature: 69, Score: 0.00000\n",
      "Feature: 70, Score: 0.00000\n",
      "Feature: 71, Score: 0.00397\n",
      "Feature: 72, Score: 0.00075\n",
      "Feature: 73, Score: 0.00000\n",
      "Feature: 74, Score: 0.00000\n",
      "Feature: 75, Score: 0.00000\n",
      "Feature: 76, Score: 0.00000\n",
      "Feature: 77, Score: 0.00000\n",
      "Feature: 78, Score: 0.00000\n",
      "Feature: 79, Score: 0.00000\n",
      "Feature: 80, Score: 0.00002\n",
      "Feature: 81, Score: 0.00000\n",
      "Feature: 82, Score: 0.00000\n"
     ]
    },
    {
     "data": {
      "text/plain": "<Figure size 432x288 with 1 Axes>",
      "image/png": "[encoded data removed]"
     },
     "metadata": {
      "needs_background": "light"
     },
     "output_type": "display_data"
    }
   ],
   "source": [
    "importance = dt_model.feature_importances_\n",
    "\n",
    "for i,v in enumerate(importance):\n",
    " print('Feature: %0d, Score: %.5f' % (i, v))\n",
    "\n",
    "plt.bar([x for x in range(len(importance))], importance)\n",
    "plt.show()"
   ],
   "metadata": {
    "collapsed": false
   }
  },
  {
   "cell_type": "markdown",
   "source": [
    "### DATASET BILANCIATO"
   ],
   "metadata": {
    "collapsed": false
   }
  },
  {
   "cell_type": "code",
   "execution_count": 9,
   "outputs": [
    {
     "name": "stdout",
     "output_type": "stream",
     "text": [
      "CARICAMENTO MODELLO DA ../exported_model/dt_balance.pkl\n"
     ]
    }
   ],
   "source": [
    "try:\n",
    "    with open(f\"{EXPORTED_MODEL}/dt_balance.pkl\", 'rb') as file:\n",
    "        print(\"CARICAMENTO MODELLO DA ../exported_model/dt_balance.pkl\")\n",
    "\n",
    "        dt_balance_model = pkl.load(file)\n",
    "except IOError:\n",
    "    dt = DecisionTreeClassifier()\n",
    "    start_time = time.time()\n",
    "\n",
    "    print(\"INIZIO ADDESTRAMENTO DECISION TREE\")\n",
    "    dt_balance_model = dt.fit(X_train_balanced, y_train_balanced)\n",
    "\n",
    "    print(f\"L'addestramento del decision tree ha impiegato {time.time() - start_time} secondi\")\n",
    "\n",
    "    print(\"SALVATAGGIO MODELLO IN ../exported_model/dt_balance.pkl\")\n",
    "    with open(f\"{EXPORTED_MODEL}/dt_balance.pkl\", 'wb') as file:\n",
    "        pkl.dump(dt_balance_model, file)"
   ],
   "metadata": {
    "collapsed": false
   }
  },
  {
   "cell_type": "markdown",
   "source": [
    "Visualizzo il decision tree"
   ],
   "metadata": {
    "collapsed": false
   }
  },
  {
   "cell_type": "code",
   "execution_count": 10,
   "outputs": [
    {
     "data": {
      "text/plain": "[Text(0.6195534773154053, 0.98, 'X[69] <= 0.5\\ngini = 0.5\\nsamples = 2228994\\nvalue = [1114497, 1114497]'),\n Text(0.5240007949794501, 0.94, 'X[0] <= 101281648.0\\ngini = 0.133\\nsamples = 1136572\\nvalue = [81257, 1055315]'),\n Text(0.4856433133149093, 0.9, 'X[5] <= 1.4877429300713226e+18\\ngini = 0.013\\nsamples = 1058535\\nvalue = [6918, 1051617]'),\n Text(0.4588149713010204, 0.86, 'X[24] <= 2995262.5\\ngini = 0.006\\nsamples = 1054435\\nvalue = [3001, 1051434]'),\n Text(0.41876372945011336, 0.82, 'X[81] <= 30047527.0\\ngini = 0.003\\nsamples = 1052730\\nvalue = [1814, 1050916]'),\n Text(0.37947757227891155, 0.78, 'X[48] <= 0.5\\ngini = 0.003\\nsamples = 1052308\\nvalue = [1537, 1050771]'),\n Text(0.33945401077097503, 0.74, 'X[25] <= 90048756.0\\ngini = 0.002\\nsamples = 1045170\\nvalue = [993, 1044177]'),\n Text(0.29795564058956914, 0.7, 'X[19] <= 1412933.75\\ngini = 0.002\\nsamples = 1044622\\nvalue = [887, 1043735]'),\n Text(0.25124007936507936, 0.66, 'X[81] <= 2995120.625\\ngini = 0.002\\nsamples = 1044484\\nvalue = [844, 1043640]'),\n Text(0.17141439909297052, 0.62, 'X[62] <= 3.999\\ngini = 0.001\\nsamples = 1040930\\nvalue = [640, 1040290]'),\n Text(0.0639172335600907, 0.58, 'X[1] <= 80.5\\ngini = 0.001\\nsamples = 1036180\\nvalue = [426, 1035754]'),\n Text(0.027210884353741496, 0.54, 'X[5] <= 8600500043776.0\\ngini = 0.071\\nsamples = 3339\\nvalue = [123, 3216]'),\n Text(0.022675736961451247, 0.5, 'X[2] <= 8064693.5\\ngini = 0.022\\nsamples = 3253\\nvalue = [37, 3216]'),\n Text(0.013605442176870748, 0.46, 'X[43] <= 322.0\\ngini = 0.153\\nsamples = 12\\nvalue = [11, 1]'),\n Text(0.009070294784580499, 0.42, 'gini = 0.0\\nsamples = 1\\nvalue = [0, 1]'),\n Text(0.018140589569160998, 0.42, 'gini = 0.0\\nsamples = 11\\nvalue = [11, 0]'),\n Text(0.031746031746031744, 0.46, 'X[0] <= 108879.5\\ngini = 0.016\\nsamples = 3241\\nvalue = [26, 3215]'),\n Text(0.027210884353741496, 0.42, 'X[46] <= 0.223\\ngini = 0.213\\nsamples = 215\\nvalue = [26, 189]'),\n Text(0.018140589569160998, 0.38, 'X[5] <= 5613499973632.0\\ngini = 0.142\\nsamples = 26\\nvalue = [24, 2]'),\n Text(0.013605442176870748, 0.34, 'X[5] <= 3643999911936.0\\ngini = 0.077\\nsamples = 25\\nvalue = [24, 1]'),\n Text(0.009070294784580499, 0.3, 'X[0] <= 50107.5\\ngini = 0.5\\nsamples = 2\\nvalue = [1, 1]'),\n Text(0.0045351473922902496, 0.26, 'gini = 0.0\\nsamples = 1\\nvalue = [0, 1]'),\n Text(0.013605442176870748, 0.26, 'gini = 0.0\\nsamples = 1\\nvalue = [1, 0]'),\n Text(0.018140589569160998, 0.3, 'gini = 0.0\\nsamples = 23\\nvalue = [23, 0]'),\n Text(0.022675736961451247, 0.34, 'gini = 0.0\\nsamples = 1\\nvalue = [0, 1]'),\n Text(0.036281179138321996, 0.38, 'X[44] <= 347.0\\ngini = 0.021\\nsamples = 189\\nvalue = [2, 187]'),\n Text(0.031746031746031744, 0.34, 'gini = 0.0\\nsamples = 187\\nvalue = [0, 187]'),\n Text(0.04081632653061224, 0.34, 'gini = 0.0\\nsamples = 2\\nvalue = [2, 0]'),\n Text(0.036281179138321996, 0.42, 'gini = 0.0\\nsamples = 3026\\nvalue = [0, 3026]'),\n Text(0.031746031746031744, 0.5, 'gini = 0.0\\nsamples = 86\\nvalue = [86, 0]'),\n Text(0.10062358276643991, 0.54, 'X[3] <= 53.5\\ngini = 0.001\\nsamples = 1032841\\nvalue = [303, 1032538]'),\n Text(0.05895691609977324, 0.5, 'X[19] <= 0.028\\ngini = 0.027\\nsamples = 7941\\nvalue = [110, 7831]'),\n Text(0.049886621315192746, 0.46, 'X[5] <= 3640499896320.0\\ngini = 0.055\\nsamples = 71\\nvalue = [69, 2]'),\n Text(0.045351473922902494, 0.42, 'gini = 0.0\\nsamples = 2\\nvalue = [0, 2]'),\n Text(0.05442176870748299, 0.42, 'gini = 0.0\\nsamples = 69\\nvalue = [69, 0]'),\n Text(0.06802721088435375, 0.46, 'X[2] <= 1394223936.0\\ngini = 0.01\\nsamples = 7870\\nvalue = [41, 7829]'),\n Text(0.06349206349206349, 0.42, 'gini = 0.0\\nsamples = 7829\\nvalue = [0, 7829]'),\n Text(0.07256235827664399, 0.42, 'gini = 0.0\\nsamples = 41\\nvalue = [41, 0]'),\n Text(0.14229024943310659, 0.5, 'X[73] <= 1.5\\ngini = 0.0\\nsamples = 1024900\\nvalue = [193, 1024707]'),\n Text(0.09977324263038549, 0.46, 'X[1] <= 5353.5\\ngini = 0.0\\nsamples = 956860\\nvalue = [24, 956836]'),\n Text(0.08163265306122448, 0.42, 'X[1] <= 5352.5\\ngini = 0.003\\nsamples = 15115\\nvalue = [22, 15093]'),\n Text(0.07256235827664399, 0.38, 'X[5] <= 6.481187388595896e+17\\ngini = 0.0\\nsamples = 15095\\nvalue = [3, 15092]'),\n Text(0.06802721088435375, 0.34, 'gini = 0.0\\nsamples = 15092\\nvalue = [0, 15092]'),\n Text(0.07709750566893424, 0.34, 'gini = 0.0\\nsamples = 3\\nvalue = [3, 0]'),\n Text(0.09070294784580499, 0.38, 'X[44] <= 112.0\\ngini = 0.095\\nsamples = 20\\nvalue = [19, 1]'),\n Text(0.08616780045351474, 0.34, 'gini = 0.0\\nsamples = 1\\nvalue = [0, 1]'),\n Text(0.09523809523809523, 0.34, 'gini = 0.0\\nsamples = 19\\nvalue = [19, 0]'),\n Text(0.11791383219954649, 0.42, 'X[3] <= 58779.0\\ngini = 0.0\\nsamples = 941745\\nvalue = [2, 941743]'),\n Text(0.10884353741496598, 0.38, 'X[1] <= 34862.5\\ngini = 0.0\\nsamples = 940964\\nvalue = [1, 940963]'),\n Text(0.10430839002267574, 0.34, 'X[1] <= 34856.5\\ngini = 0.0\\nsamples = 14192\\nvalue = [1, 14191]'),\n Text(0.09977324263038549, 0.3, 'gini = 0.0\\nsamples = 14191\\nvalue = [0, 14191]'),\n Text(0.10884353741496598, 0.3, 'gini = 0.0\\nsamples = 1\\nvalue = [1, 0]'),\n Text(0.11337868480725624, 0.34, 'gini = 0.0\\nsamples = 926772\\nvalue = [0, 926772]'),\n Text(0.12698412698412698, 0.38, 'X[13] <= 70.133\\ngini = 0.003\\nsamples = 781\\nvalue = [1, 780]'),\n Text(0.12244897959183673, 0.34, 'gini = 0.0\\nsamples = 1\\nvalue = [1, 0]'),\n Text(0.13151927437641722, 0.34, 'gini = 0.0\\nsamples = 780\\nvalue = [0, 780]'),\n Text(0.18480725623582767, 0.46, 'X[5] <= 7.190495861187543e+17\\ngini = 0.005\\nsamples = 68040\\nvalue = [169, 67871]'),\n Text(0.18027210884353742, 0.42, 'X[6] <= 100780.281\\ngini = 0.004\\nsamples = 68015\\nvalue = [144, 67871]'),\n Text(0.14512471655328799, 0.38, 'X[0] <= 1021301.5\\ngini = 0.024\\nsamples = 5734\\nvalue = [71, 5663]'),\n Text(0.14058956916099774, 0.34, 'X[0] <= 988551.5\\ngini = 0.12\\nsamples = 1103\\nvalue = [71, 1032]'),\n Text(0.1360544217687075, 0.3, 'X[0] <= 99562.0\\ngini = 0.017\\nsamples = 1041\\nvalue = [9, 1032]'),\n Text(0.13151927437641722, 0.26, 'gini = 0.0\\nsamples = 995\\nvalue = [0, 995]'),\n Text(0.14058956916099774, 0.26, 'X[0] <= 110242.5\\ngini = 0.315\\nsamples = 46\\nvalue = [9, 37]'),\n Text(0.1360544217687075, 0.22, 'gini = 0.0\\nsamples = 9\\nvalue = [9, 0]'),\n Text(0.14512471655328799, 0.22, 'gini = 0.0\\nsamples = 37\\nvalue = [0, 37]'),\n Text(0.14512471655328799, 0.3, 'gini = 0.0\\nsamples = 62\\nvalue = [62, 0]'),\n Text(0.14965986394557823, 0.34, 'gini = 0.0\\nsamples = 4631\\nvalue = [0, 4631]'),\n Text(0.21541950113378686, 0.38, 'X[1] <= 137.5\\ngini = 0.002\\nsamples = 62281\\nvalue = [73, 62208]'),\n Text(0.17913832199546487, 0.34, 'X[24] <= 749781.469\\ngini = 0.014\\nsamples = 5020\\nvalue = [35, 4985]'),\n Text(0.16780045351473924, 0.3, 'X[5] <= 3741999955968.0\\ngini = 0.004\\nsamples = 4835\\nvalue = [10, 4825]'),\n Text(0.15873015873015872, 0.26, 'X[22] <= 1072.353\\ngini = 0.133\\nsamples = 112\\nvalue = [8, 104]'),\n Text(0.15419501133786848, 0.22, 'gini = 0.0\\nsamples = 6\\nvalue = [6, 0]'),\n Text(0.16326530612244897, 0.22, 'X[68] <= 278.0\\ngini = 0.037\\nsamples = 106\\nvalue = [2, 104]'),\n Text(0.15873015873015872, 0.18, 'X[21] <= 615714.25\\ngini = 0.408\\nsamples = 7\\nvalue = [2, 5]'),\n Text(0.15419501133786848, 0.14, 'gini = 0.0\\nsamples = 5\\nvalue = [0, 5]'),\n Text(0.16326530612244897, 0.14, 'gini = 0.0\\nsamples = 2\\nvalue = [2, 0]'),\n Text(0.16780045351473924, 0.18, 'gini = 0.0\\nsamples = 99\\nvalue = [0, 99]'),\n Text(0.17687074829931973, 0.26, 'X[0] <= 70045.0\\ngini = 0.001\\nsamples = 4723\\nvalue = [2, 4721]'),\n Text(0.17233560090702948, 0.22, 'gini = 0.0\\nsamples = 4201\\nvalue = [0, 4201]'),\n Text(0.18140589569160998, 0.22, 'X[2] <= 1043564.5\\ngini = 0.008\\nsamples = 522\\nvalue = [2, 520]'),\n Text(0.17687074829931973, 0.18, 'X[23] <= 756974.125\\ngini = 0.444\\nsamples = 3\\nvalue = [2, 1]'),\n Text(0.17233560090702948, 0.14, 'gini = 0.0\\nsamples = 1\\nvalue = [0, 1]'),\n Text(0.18140589569160998, 0.14, 'gini = 0.0\\nsamples = 2\\nvalue = [2, 0]'),\n Text(0.18594104308390022, 0.18, 'gini = 0.0\\nsamples = 519\\nvalue = [0, 519]'),\n Text(0.19047619047619047, 0.3, 'X[0] <= 55120.0\\ngini = 0.234\\nsamples = 185\\nvalue = [25, 160]'),\n Text(0.18594104308390022, 0.26, 'gini = 0.0\\nsamples = 153\\nvalue = [0, 153]'),\n Text(0.19501133786848074, 0.26, 'X[11] <= 93.054\\ngini = 0.342\\nsamples = 32\\nvalue = [25, 7]'),\n Text(0.19047619047619047, 0.22, 'gini = 0.0\\nsamples = 25\\nvalue = [25, 0]'),\n Text(0.19954648526077098, 0.22, 'gini = 0.0\\nsamples = 7\\nvalue = [0, 7]'),\n Text(0.25170068027210885, 0.34, 'X[45] <= 64.0\\ngini = 0.001\\nsamples = 57261\\nvalue = [38, 57223]'),\n Text(0.2290249433106576, 0.3, 'X[41] <= 18.07\\ngini = 0.005\\nsamples = 9067\\nvalue = [25, 9042]'),\n Text(0.21315192743764172, 0.26, 'X[19] <= 1156.484\\ngini = 0.017\\nsamples = 2386\\nvalue = [20, 2366]'),\n Text(0.20861678004535147, 0.22, 'X[0] <= 98131.0\\ngini = 0.015\\nsamples = 2384\\nvalue = [18, 2366]'),\n Text(0.20408163265306123, 0.18, 'gini = 0.0\\nsamples = 1372\\nvalue = [0, 1372]'),\n Text(0.21315192743764172, 0.18, 'X[0] <= 1031373.0\\ngini = 0.035\\nsamples = 1012\\nvalue = [18, 994]'),\n Text(0.20861678004535147, 0.14, 'X[0] <= 1002166.0\\ngini = 0.5\\nsamples = 35\\nvalue = [18, 17]'),\n Text(0.20408163265306123, 0.1, 'X[6] <= 111667.609\\ngini = 0.105\\nsamples = 18\\nvalue = [1, 17]'),\n Text(0.19954648526077098, 0.06, 'gini = 0.0\\nsamples = 1\\nvalue = [1, 0]'),\n Text(0.20861678004535147, 0.06, 'gini = 0.0\\nsamples = 17\\nvalue = [0, 17]'),\n Text(0.21315192743764172, 0.1, 'gini = 0.0\\nsamples = 17\\nvalue = [17, 0]'),\n Text(0.21768707482993196, 0.14, 'gini = 0.0\\nsamples = 977\\nvalue = [0, 977]'),\n Text(0.21768707482993196, 0.22, 'gini = 0.0\\nsamples = 2\\nvalue = [2, 0]'),\n Text(0.24489795918367346, 0.26, 'X[5] <= 3985903583232.0\\ngini = 0.001\\nsamples = 6681\\nvalue = [5, 6676]'),\n Text(0.24036281179138322, 0.22, 'X[5] <= 3976500084736.0\\ngini = 0.006\\nsamples = 1618\\nvalue = [5, 1613]'),\n Text(0.23129251700680273, 0.18, 'X[0] <= 1079507.0\\ngini = 0.005\\nsamples = 1616\\nvalue = [4, 1612]'),\n Text(0.22675736961451248, 0.14, 'X[0] <= 977250.0\\ngini = 0.031\\nsamples = 256\\nvalue = [4, 252]'),\n Text(0.2222222222222222, 0.1, 'X[1] <= 63699.0\\ngini = 0.016\\nsamples = 254\\nvalue = [2, 252]'),\n Text(0.21768707482993196, 0.06, 'gini = 0.0\\nsamples = 242\\nvalue = [0, 242]'),\n Text(0.22675736961451248, 0.06, 'X[0] <= 55119.5\\ngini = 0.278\\nsamples = 12\\nvalue = [2, 10]'),\n Text(0.2222222222222222, 0.02, 'gini = 0.0\\nsamples = 10\\nvalue = [0, 10]'),\n Text(0.23129251700680273, 0.02, 'gini = 0.0\\nsamples = 2\\nvalue = [2, 0]'),\n Text(0.23129251700680273, 0.1, 'gini = 0.0\\nsamples = 2\\nvalue = [2, 0]'),\n Text(0.23582766439909297, 0.14, 'gini = 0.0\\nsamples = 1360\\nvalue = [0, 1360]'),\n Text(0.2494331065759637, 0.18, 'X[0] <= 10109508.0\\ngini = 0.5\\nsamples = 2\\nvalue = [1, 1]'),\n Text(0.24489795918367346, 0.14, 'gini = 0.0\\nsamples = 1\\nvalue = [1, 0]'),\n Text(0.25396825396825395, 0.14, 'gini = 0.0\\nsamples = 1\\nvalue = [0, 1]'),\n Text(0.2494331065759637, 0.22, 'gini = 0.0\\nsamples = 5063\\nvalue = [0, 5063]'),\n Text(0.2743764172335601, 0.3, 'X[5] <= 3610500005888.0\\ngini = 0.001\\nsamples = 48194\\nvalue = [13, 48181]'),\n Text(0.26303854875283444, 0.26, 'X[0] <= 10109507.0\\ngini = 0.005\\nsamples = 735\\nvalue = [2, 733]'),\n Text(0.2585034013605442, 0.22, 'gini = 0.0\\nsamples = 2\\nvalue = [2, 0]'),\n Text(0.2675736961451247, 0.22, 'gini = 0.0\\nsamples = 733\\nvalue = [0, 733]'),\n Text(0.2857142857142857, 0.26, 'X[23] <= 0.044\\ngini = 0.0\\nsamples = 47459\\nvalue = [11, 47448]'),\n Text(0.2766439909297052, 0.22, 'X[0] <= 1008714.5\\ngini = 0.002\\nsamples = 9354\\nvalue = [8, 9346]'),\n Text(0.272108843537415, 0.18, 'X[0] <= 989154.5\\ngini = 0.02\\nsamples = 811\\nvalue = [8, 803]'),\n Text(0.2675736961451247, 0.14, 'gini = 0.0\\nsamples = 803\\nvalue = [0, 803]'),\n Text(0.2766439909297052, 0.14, 'gini = 0.0\\nsamples = 8\\nvalue = [8, 0]'),\n Text(0.2811791383219955, 0.18, 'gini = 0.0\\nsamples = 8543\\nvalue = [0, 8543]'),\n Text(0.2947845804988662, 0.22, 'X[73] <= 5.5\\ngini = 0.0\\nsamples = 38105\\nvalue = [3, 38102]'),\n Text(0.29024943310657597, 0.18, 'gini = 0.0\\nsamples = 33796\\nvalue = [0, 33796]'),\n Text(0.29931972789115646, 0.18, 'X[9] <= 931.0\\ngini = 0.001\\nsamples = 4309\\nvalue = [3, 4306]'),\n Text(0.2857142857142857, 0.14, 'X[1] <= 58709.0\\ngini = 0.013\\nsamples = 301\\nvalue = [2, 299]'),\n Text(0.2811791383219955, 0.1, 'gini = 0.0\\nsamples = 293\\nvalue = [0, 293]'),\n Text(0.29024943310657597, 0.1, 'X[20] <= 0.985\\ngini = 0.375\\nsamples = 8\\nvalue = [2, 6]'),\n Text(0.2857142857142857, 0.06, 'gini = 0.0\\nsamples = 6\\nvalue = [0, 6]'),\n Text(0.2947845804988662, 0.06, 'gini = 0.0\\nsamples = 2\\nvalue = [2, 0]'),\n Text(0.3129251700680272, 0.14, 'X[5] <= 3620500013056.0\\ngini = 0.0\\nsamples = 4008\\nvalue = [1, 4007]'),\n Text(0.30839002267573695, 0.1, 'X[0] <= 143350.5\\ngini = 0.01\\nsamples = 206\\nvalue = [1, 205]'),\n Text(0.30385487528344673, 0.06, 'X[19] <= 345.845\\ngini = 0.111\\nsamples = 17\\nvalue = [1, 16]'),\n Text(0.29931972789115646, 0.02, 'gini = 0.0\\nsamples = 1\\nvalue = [1, 0]'),\n Text(0.30839002267573695, 0.02, 'gini = 0.0\\nsamples = 16\\nvalue = [0, 16]'),\n Text(0.3129251700680272, 0.06, 'gini = 0.0\\nsamples = 189\\nvalue = [0, 189]'),\n Text(0.31746031746031744, 0.1, 'gini = 0.0\\nsamples = 3802\\nvalue = [0, 3802]'),\n Text(0.1893424036281179, 0.42, 'gini = 0.0\\nsamples = 25\\nvalue = [25, 0]'),\n Text(0.2789115646258503, 0.58, 'X[5] <= 6.48024393280127e+17\\ngini = 0.086\\nsamples = 4750\\nvalue = [214, 4536]'),\n Text(0.2743764172335601, 0.54, 'X[67] <= 55.0\\ngini = 0.008\\nsamples = 4554\\nvalue = [18, 4536]'),\n Text(0.2698412698412698, 0.5, 'X[61] <= 128.0\\ngini = 0.006\\nsamples = 4549\\nvalue = [13, 4536]'),\n Text(0.2653061224489796, 0.46, 'gini = 0.0\\nsamples = 1\\nvalue = [1, 0]'),\n Text(0.2743764172335601, 0.46, 'X[2] <= 1075658.0\\ngini = 0.005\\nsamples = 4548\\nvalue = [12, 4536]'),\n Text(0.26077097505668934, 0.42, 'X[0] <= 55120.0\\ngini = 0.168\\nsamples = 108\\nvalue = [10, 98]'),\n Text(0.2562358276643991, 0.38, 'gini = 0.0\\nsamples = 80\\nvalue = [0, 80]'),\n Text(0.2653061224489796, 0.38, 'X[2] <= 976955.5\\ngini = 0.459\\nsamples = 28\\nvalue = [10, 18]'),\n Text(0.26077097505668934, 0.34, 'gini = 0.0\\nsamples = 18\\nvalue = [0, 18]'),\n Text(0.2698412698412698, 0.34, 'gini = 0.0\\nsamples = 10\\nvalue = [10, 0]'),\n Text(0.28798185941043086, 0.42, 'X[62] <= 4.001\\ngini = 0.001\\nsamples = 4440\\nvalue = [2, 4438]'),\n Text(0.2834467120181406, 0.38, 'X[5] <= 3612500033536.0\\ngini = 0.031\\nsamples = 129\\nvalue = [2, 127]'),\n Text(0.2789115646258503, 0.34, 'gini = 0.0\\nsamples = 2\\nvalue = [2, 0]'),\n Text(0.28798185941043086, 0.34, 'gini = 0.0\\nsamples = 127\\nvalue = [0, 127]'),\n Text(0.2925170068027211, 0.38, 'gini = 0.0\\nsamples = 4311\\nvalue = [0, 4311]'),\n Text(0.2789115646258503, 0.5, 'gini = 0.0\\nsamples = 5\\nvalue = [5, 0]'),\n Text(0.2834467120181406, 0.54, 'gini = 0.0\\nsamples = 196\\nvalue = [196, 0]'),\n Text(0.3310657596371882, 0.62, 'X[5] <= 7.190063824051896e+17\\ngini = 0.108\\nsamples = 3554\\nvalue = [204, 3350]'),\n Text(0.32653061224489793, 0.58, 'X[78] <= 1746619.375\\ngini = 0.004\\nsamples = 3357\\nvalue = [7, 3350]'),\n Text(0.31519274376417233, 0.54, 'X[73] <= 71.5\\ngini = 0.002\\nsamples = 3306\\nvalue = [3, 3303]'),\n Text(0.30612244897959184, 0.5, 'X[2] <= 1106875.5\\ngini = 0.001\\nsamples = 3278\\nvalue = [2, 3276]'),\n Text(0.30158730158730157, 0.46, 'X[62] <= 4.976\\ngini = 0.016\\nsamples = 243\\nvalue = [2, 241]'),\n Text(0.29705215419501135, 0.42, 'gini = 0.0\\nsamples = 211\\nvalue = [0, 211]'),\n Text(0.30612244897959184, 0.42, 'X[14] <= 0.939\\ngini = 0.117\\nsamples = 32\\nvalue = [2, 30]'),\n Text(0.30158730158730157, 0.38, 'gini = 0.0\\nsamples = 2\\nvalue = [2, 0]'),\n Text(0.31065759637188206, 0.38, 'gini = 0.0\\nsamples = 30\\nvalue = [0, 30]'),\n Text(0.31065759637188206, 0.46, 'gini = 0.0\\nsamples = 3035\\nvalue = [0, 3035]'),\n Text(0.3242630385487528, 0.5, 'X[68] <= 6941.5\\ngini = 0.069\\nsamples = 28\\nvalue = [1, 27]'),\n Text(0.3197278911564626, 0.46, 'gini = 0.0\\nsamples = 1\\nvalue = [1, 0]'),\n Text(0.3287981859410431, 0.46, 'gini = 0.0\\nsamples = 27\\nvalue = [0, 27]'),\n Text(0.3378684807256236, 0.54, 'X[3] <= 4536.0\\ngini = 0.145\\nsamples = 51\\nvalue = [4, 47]'),\n Text(0.3333333333333333, 0.5, 'gini = 0.0\\nsamples = 47\\nvalue = [0, 47]'),\n Text(0.3424036281179138, 0.5, 'gini = 0.0\\nsamples = 4\\nvalue = [4, 0]'),\n Text(0.3356009070294785, 0.58, 'gini = 0.0\\nsamples = 197\\nvalue = [197, 0]'),\n Text(0.34467120181405897, 0.66, 'X[5] <= 3670499917824.0\\ngini = 0.429\\nsamples = 138\\nvalue = [43, 95]'),\n Text(0.3401360544217687, 0.62, 'gini = 0.0\\nsamples = 85\\nvalue = [0, 85]'),\n Text(0.3492063492063492, 0.62, 'X[9] <= 122.0\\ngini = 0.306\\nsamples = 53\\nvalue = [43, 10]'),\n Text(0.34467120181405897, 0.58, 'gini = 0.0\\nsamples = 10\\nvalue = [0, 10]'),\n Text(0.35374149659863946, 0.58, 'gini = 0.0\\nsamples = 43\\nvalue = [43, 0]'),\n Text(0.38095238095238093, 0.7, 'X[5] <= 6.809831003180237e+17\\ngini = 0.312\\nsamples = 548\\nvalue = [106, 442]'),\n Text(0.3764172335600907, 0.66, 'X[77] <= 28317303.0\\ngini = 0.013\\nsamples = 445\\nvalue = [3, 442]'),\n Text(0.3673469387755102, 0.62, 'X[6] <= 90306076.0\\ngini = 0.005\\nsamples = 438\\nvalue = [1, 437]'),\n Text(0.36281179138321995, 0.58, 'X[29] <= 740408.188\\ngini = 0.444\\nsamples = 3\\nvalue = [1, 2]'),\n Text(0.35827664399092973, 0.54, 'gini = 0.0\\nsamples = 2\\nvalue = [0, 2]'),\n Text(0.3673469387755102, 0.54, 'gini = 0.0\\nsamples = 1\\nvalue = [1, 0]'),\n Text(0.37188208616780044, 0.58, 'gini = 0.0\\nsamples = 435\\nvalue = [0, 435]'),\n Text(0.3854875283446712, 0.62, 'X[12] <= 154.0\\ngini = 0.408\\nsamples = 7\\nvalue = [2, 5]'),\n Text(0.38095238095238093, 0.58, 'gini = 0.0\\nsamples = 2\\nvalue = [2, 0]'),\n Text(0.3900226757369615, 0.58, 'gini = 0.0\\nsamples = 5\\nvalue = [0, 5]'),\n Text(0.3854875283446712, 0.66, 'gini = 0.0\\nsamples = 103\\nvalue = [103, 0]'),\n Text(0.41950113378684806, 0.74, 'X[5] <= 4.981183944536883e+17\\ngini = 0.141\\nsamples = 7138\\nvalue = [544, 6594]'),\n Text(0.40816326530612246, 0.7, 'X[74] <= 14.0\\ngini = 0.045\\nsamples = 6741\\nvalue = [156, 6585]'),\n Text(0.39909297052154197, 0.66, 'X[0] <= 10109507.0\\ngini = 0.317\\nsamples = 71\\nvalue = [57, 14]'),\n Text(0.3945578231292517, 0.62, 'gini = 0.0\\nsamples = 57\\nvalue = [57, 0]'),\n Text(0.4036281179138322, 0.62, 'gini = 0.0\\nsamples = 14\\nvalue = [0, 14]'),\n Text(0.41723356009070295, 0.66, 'X[1] <= 55649.5\\ngini = 0.029\\nsamples = 6670\\nvalue = [99, 6571]'),\n Text(0.4126984126984127, 0.62, 'X[0] <= 77169.0\\ngini = 0.022\\nsamples = 6644\\nvalue = [73, 6571]'),\n Text(0.40816326530612246, 0.58, 'gini = 0.0\\nsamples = 5798\\nvalue = [0, 5798]'),\n Text(0.41723356009070295, 0.58, 'X[0] <= 1003633.5\\ngini = 0.158\\nsamples = 846\\nvalue = [73, 773]'),\n Text(0.4126984126984127, 0.54, 'X[46] <= 0.007\\ngini = 0.317\\nsamples = 91\\nvalue = [73, 18]'),\n Text(0.40816326530612246, 0.5, 'X[1] <= 51510.0\\ngini = 0.076\\nsamples = 76\\nvalue = [73, 3]'),\n Text(0.4036281179138322, 0.46, 'X[1] <= 49168.5\\ngini = 0.052\\nsamples = 75\\nvalue = [73, 2]'),\n Text(0.39909297052154197, 0.42, 'X[0] <= 123216.0\\ngini = 0.5\\nsamples = 4\\nvalue = [2, 2]'),\n Text(0.3945578231292517, 0.38, 'gini = 0.0\\nsamples = 2\\nvalue = [2, 0]'),\n Text(0.4036281179138322, 0.38, 'gini = 0.0\\nsamples = 2\\nvalue = [0, 2]'),\n Text(0.40816326530612246, 0.42, 'gini = 0.0\\nsamples = 71\\nvalue = [71, 0]'),\n Text(0.4126984126984127, 0.46, 'gini = 0.0\\nsamples = 1\\nvalue = [0, 1]'),\n Text(0.41723356009070295, 0.5, 'gini = 0.0\\nsamples = 15\\nvalue = [0, 15]'),\n Text(0.4217687074829932, 0.54, 'gini = 0.0\\nsamples = 755\\nvalue = [0, 755]'),\n Text(0.4217687074829932, 0.62, 'gini = 0.0\\nsamples = 26\\nvalue = [26, 0]'),\n Text(0.4308390022675737, 0.7, 'X[5] <= 1.4591359052593234e+18\\ngini = 0.044\\nsamples = 397\\nvalue = [388, 9]'),\n Text(0.42630385487528344, 0.66, 'gini = 0.0\\nsamples = 388\\nvalue = [388, 0]'),\n Text(0.43537414965986393, 0.66, 'gini = 0.0\\nsamples = 9\\nvalue = [0, 9]'),\n Text(0.4580498866213152, 0.78, 'X[5] <= 7.189283430316114e+17\\ngini = 0.451\\nsamples = 422\\nvalue = [277, 145]'),\n Text(0.45351473922902497, 0.74, 'X[5] <= 3614499930112.0\\ngini = 0.014\\nsamples = 146\\nvalue = [1, 145]'),\n Text(0.4489795918367347, 0.7, 'X[57] <= 95.956\\ngini = 0.5\\nsamples = 2\\nvalue = [1, 1]'),\n Text(0.4444444444444444, 0.66, 'gini = 0.0\\nsamples = 1\\nvalue = [1, 0]'),\n Text(0.45351473922902497, 0.66, 'gini = 0.0\\nsamples = 1\\nvalue = [0, 1]'),\n Text(0.4580498866213152, 0.7, 'gini = 0.0\\nsamples = 144\\nvalue = [0, 144]'),\n Text(0.46258503401360546, 0.74, 'gini = 0.0\\nsamples = 276\\nvalue = [276, 0]'),\n Text(0.4988662131519274, 0.82, 'X[5] <= 5958000181248.0\\ngini = 0.423\\nsamples = 1705\\nvalue = [1187, 518]'),\n Text(0.48072562358276644, 0.78, 'X[0] <= 294734.5\\ngini = 0.255\\nsamples = 579\\nvalue = [87, 492]'),\n Text(0.47165532879818595, 0.74, 'X[0] <= 55120.0\\ngini = 0.395\\nsamples = 118\\nvalue = [86, 32]'),\n Text(0.4671201814058957, 0.7, 'X[12] <= 537.5\\ngini = 0.157\\nsamples = 35\\nvalue = [3, 32]'),\n Text(0.46258503401360546, 0.66, 'gini = 0.0\\nsamples = 32\\nvalue = [0, 32]'),\n Text(0.47165532879818595, 0.66, 'gini = 0.0\\nsamples = 3\\nvalue = [3, 0]'),\n Text(0.47619047619047616, 0.7, 'gini = 0.0\\nsamples = 83\\nvalue = [83, 0]'),\n Text(0.4897959183673469, 0.74, 'X[57] <= 62.333\\ngini = 0.004\\nsamples = 461\\nvalue = [1, 460]'),\n Text(0.4852607709750567, 0.7, 'gini = 0.0\\nsamples = 1\\nvalue = [1, 0]'),\n Text(0.4943310657596372, 0.7, 'gini = 0.0\\nsamples = 460\\nvalue = [0, 460]'),\n Text(0.5170068027210885, 0.78, 'X[0] <= 19216813.0\\ngini = 0.045\\nsamples = 1126\\nvalue = [1100, 26]'),\n Text(0.5079365079365079, 0.74, 'X[81] <= 3106990.125\\ngini = 0.004\\nsamples = 1098\\nvalue = [1096, 2]'),\n Text(0.5034013605442177, 0.7, 'gini = 0.0\\nsamples = 1048\\nvalue = [1048, 0]'),\n Text(0.5124716553287982, 0.7, 'X[0] <= 10115494.0\\ngini = 0.077\\nsamples = 50\\nvalue = [48, 2]'),\n Text(0.5079365079365079, 0.66, 'gini = 0.0\\nsamples = 48\\nvalue = [48, 0]'),\n Text(0.5170068027210885, 0.66, 'gini = 0.0\\nsamples = 2\\nvalue = [0, 2]'),\n Text(0.5260770975056689, 0.74, 'X[5] <= 5.654984709541724e+17\\ngini = 0.245\\nsamples = 28\\nvalue = [4, 24]'),\n Text(0.5215419501133787, 0.7, 'gini = 0.0\\nsamples = 24\\nvalue = [0, 24]'),\n Text(0.5306122448979592, 0.7, 'gini = 0.0\\nsamples = 4\\nvalue = [4, 0]'),\n Text(0.5124716553287982, 0.86, 'X[5] <= 1.5115979343475507e+18\\ngini = 0.085\\nsamples = 4100\\nvalue = [3917, 183]'),\n Text(0.5079365079365079, 0.82, 'gini = 0.0\\nsamples = 3917\\nvalue = [3917, 0]'),\n Text(0.5170068027210885, 0.82, 'gini = 0.0\\nsamples = 183\\nvalue = [0, 183]'),\n Text(0.562358276643991, 0.9, 'X[5] <= 5.30917739296981e+17\\ngini = 0.09\\nsamples = 78037\\nvalue = [74339, 3698]'),\n Text(0.5532879818594104, 0.86, 'X[71] <= 65268.5\\ngini = 0.023\\nsamples = 3727\\nvalue = [43, 3684]'),\n Text(0.5487528344671202, 0.82, 'X[48] <= 0.5\\ngini = 0.01\\nsamples = 3703\\nvalue = [19, 3684]'),\n Text(0.5396825396825397, 0.78, 'X[1] <= 60.5\\ngini = 0.001\\nsamples = 3681\\nvalue = [2, 3679]'),\n Text(0.5351473922902494, 0.74, 'gini = 0.0\\nsamples = 1\\nvalue = [1, 0]'),\n Text(0.54421768707483, 0.74, 'X[60] <= 8.5\\ngini = 0.001\\nsamples = 3680\\nvalue = [1, 3679]'),\n Text(0.5396825396825397, 0.7, 'X[3] <= 33880.5\\ngini = 0.045\\nsamples = 43\\nvalue = [1, 42]'),\n Text(0.5351473922902494, 0.66, 'gini = 0.0\\nsamples = 42\\nvalue = [0, 42]'),\n Text(0.54421768707483, 0.66, 'gini = 0.0\\nsamples = 1\\nvalue = [1, 0]'),\n Text(0.5487528344671202, 0.7, 'gini = 0.0\\nsamples = 3637\\nvalue = [0, 3637]'),\n Text(0.5578231292517006, 0.78, 'X[56] <= 0.099\\ngini = 0.351\\nsamples = 22\\nvalue = [17, 5]'),\n Text(0.5532879818594104, 0.74, 'gini = 0.0\\nsamples = 17\\nvalue = [17, 0]'),\n Text(0.562358276643991, 0.74, 'gini = 0.0\\nsamples = 5\\nvalue = [0, 5]'),\n Text(0.5578231292517006, 0.82, 'gini = 0.0\\nsamples = 24\\nvalue = [24, 0]'),\n Text(0.5714285714285714, 0.86, 'X[16] <= 0.947\\ngini = 0.0\\nsamples = 74310\\nvalue = [74296, 14]'),\n Text(0.5668934240362812, 0.82, 'gini = 0.0\\nsamples = 74296\\nvalue = [74296, 0]'),\n Text(0.5759637188208617, 0.82, 'gini = 0.0\\nsamples = 14\\nvalue = [0, 14]'),\n Text(0.7151061596513606, 0.94, 'X[0] <= 98660.5\\ngini = 0.102\\nsamples = 1092422\\nvalue = [1033240, 59182]'),\n Text(0.660656710600907, 0.9, 'X[5] <= 7.497175726387364e+17\\ngini = 0.0\\nsamples = 30428\\nvalue = [1, 30427]'),\n Text(0.6561215632086168, 0.86, 'gini = 0.0\\nsamples = 30427\\nvalue = [0, 30427]'),\n Text(0.6651918579931972, 0.86, 'gini = 0.0\\nsamples = 1\\nvalue = [1, 0]'),\n Text(0.769555608701814, 0.9, 'X[68] <= 155059.0\\ngini = 0.053\\nsamples = 1061994\\nvalue = [1033239, 28755]'),\n Text(0.6742621527777778, 0.86, 'X[5] <= 3742926897152.0\\ngini = 0.033\\nsamples = 1050188\\nvalue = [1032366, 17822]'),\n Text(0.5963718820861678, 0.82, 'X[0] <= 1010866.0\\ngini = 0.357\\nsamples = 8574\\nvalue = [1994, 6580]'),\n Text(0.5804988662131519, 0.78, 'X[16] <= 53.821\\ngini = 0.052\\nsamples = 2013\\nvalue = [1959, 54]'),\n Text(0.5714285714285714, 0.74, 'X[71] <= 25.5\\ngini = 0.337\\nsamples = 28\\nvalue = [6, 22]'),\n Text(0.5668934240362812, 0.7, 'gini = 0.0\\nsamples = 6\\nvalue = [6, 0]'),\n Text(0.5759637188208617, 0.7, 'gini = 0.0\\nsamples = 22\\nvalue = [0, 22]'),\n Text(0.5895691609977324, 0.74, 'X[15] <= 1476.674\\ngini = 0.032\\nsamples = 1985\\nvalue = [1953, 32]'),\n Text(0.5850340136054422, 0.7, 'X[5] <= 3627499913216.0\\ngini = 0.025\\nsamples = 1978\\nvalue = [1953, 25]'),\n Text(0.5702947845804989, 0.66, 'X[0] <= 960173.0\\ngini = 0.328\\nsamples = 58\\nvalue = [46, 12]'),\n Text(0.5657596371882087, 0.62, 'X[0] <= 200683.0\\ngini = 0.49\\nsamples = 21\\nvalue = [9, 12]'),\n Text(0.5612244897959183, 0.58, 'gini = 0.0\\nsamples = 9\\nvalue = [9, 0]'),\n Text(0.5702947845804989, 0.58, 'gini = 0.0\\nsamples = 12\\nvalue = [0, 12]'),\n Text(0.5748299319727891, 0.62, 'gini = 0.0\\nsamples = 37\\nvalue = [37, 0]'),\n Text(0.5997732426303855, 0.66, 'X[2] <= 12326912.5\\ngini = 0.013\\nsamples = 1920\\nvalue = [1907, 13]'),\n Text(0.5839002267573696, 0.62, 'X[2] <= 9425.0\\ngini = 0.077\\nsamples = 275\\nvalue = [264, 11]'),\n Text(0.5793650793650794, 0.58, 'gini = 0.0\\nsamples = 261\\nvalue = [261, 0]'),\n Text(0.5884353741496599, 0.58, 'X[1] <= 49173.5\\ngini = 0.337\\nsamples = 14\\nvalue = [3, 11]'),\n Text(0.5839002267573696, 0.54, 'gini = 0.0\\nsamples = 3\\nvalue = [3, 0]'),\n Text(0.5929705215419501, 0.54, 'gini = 0.0\\nsamples = 11\\nvalue = [0, 11]'),\n Text(0.6156462585034014, 0.62, 'X[5] <= 3632982786048.0\\ngini = 0.002\\nsamples = 1645\\nvalue = [1643, 2]'),\n Text(0.6065759637188208, 0.58, 'X[27] <= 6370.431\\ngini = 0.198\\nsamples = 9\\nvalue = [8, 1]'),\n Text(0.6020408163265306, 0.54, 'gini = 0.0\\nsamples = 1\\nvalue = [0, 1]'),\n Text(0.6111111111111112, 0.54, 'gini = 0.0\\nsamples = 8\\nvalue = [8, 0]'),\n Text(0.6247165532879818, 0.58, 'X[34] <= 23504.183\\ngini = 0.001\\nsamples = 1636\\nvalue = [1635, 1]'),\n Text(0.6201814058956916, 0.54, 'gini = 0.0\\nsamples = 1614\\nvalue = [1614, 0]'),\n Text(0.6292517006802721, 0.54, 'X[59] <= 460.836\\ngini = 0.087\\nsamples = 22\\nvalue = [21, 1]'),\n Text(0.6247165532879818, 0.5, 'gini = 0.0\\nsamples = 21\\nvalue = [21, 0]'),\n Text(0.6337868480725624, 0.5, 'gini = 0.0\\nsamples = 1\\nvalue = [0, 1]'),\n Text(0.5941043083900227, 0.7, 'gini = 0.0\\nsamples = 7\\nvalue = [0, 7]'),\n Text(0.6122448979591837, 0.78, 'X[0] <= 1505258496.0\\ngini = 0.011\\nsamples = 6561\\nvalue = [35, 6526]'),\n Text(0.6077097505668935, 0.74, 'X[71] <= 61960.0\\ngini = 0.002\\nsamples = 6531\\nvalue = [5, 6526]'),\n Text(0.6031746031746031, 0.7, 'gini = 0.0\\nsamples = 6526\\nvalue = [0, 6526]'),\n Text(0.6122448979591837, 0.7, 'gini = 0.0\\nsamples = 5\\nvalue = [5, 0]'),\n Text(0.6167800453514739, 0.74, 'gini = 0.0\\nsamples = 30\\nvalue = [30, 0]'),\n Text(0.7521524234693877, 0.82, 'X[5] <= 5460500152320.0\\ngini = 0.021\\nsamples = 1041614\\nvalue = [1030372, 11242]'),\n Text(0.6666666666666666, 0.78, 'X[0] <= 1005524.5\\ngini = 0.231\\nsamples = 50534\\nvalue = [43804, 6730]'),\n Text(0.6541950113378685, 0.74, 'X[16] <= 53.839\\ngini = 0.005\\nsamples = 40350\\nvalue = [40242, 108]'),\n Text(0.6428571428571429, 0.7, 'X[71] <= 92.5\\ngini = 0.206\\nsamples = 60\\nvalue = [7, 53]'),\n Text(0.6383219954648526, 0.66, 'gini = 0.0\\nsamples = 7\\nvalue = [7, 0]'),\n Text(0.6473922902494331, 0.66, 'gini = 0.0\\nsamples = 53\\nvalue = [0, 53]'),\n Text(0.6655328798185941, 0.7, 'X[15] <= 1480.093\\ngini = 0.003\\nsamples = 40290\\nvalue = [40235, 55]'),\n Text(0.6564625850340136, 0.66, 'X[23] <= 66222318.0\\ngini = 0.002\\nsamples = 40275\\nvalue = [40232, 43]'),\n Text(0.6519274376417233, 0.62, 'X[16] <= 789.702\\ngini = 0.002\\nsamples = 40271\\nvalue = [40232, 39]'),\n Text(0.6428571428571429, 0.58, 'X[0] <= 111927.5\\ngini = 0.002\\nsamples = 40263\\nvalue = [40227, 36]'),\n Text(0.6383219954648526, 0.54, 'gini = 0.0\\nsamples = 37223\\nvalue = [37223, 0]'),\n Text(0.6473922902494331, 0.54, 'X[0] <= 991601.0\\ngini = 0.023\\nsamples = 3040\\nvalue = [3004, 36]'),\n Text(0.6428571428571429, 0.5, 'X[19] <= 48.996\\ngini = 0.273\\nsamples = 43\\nvalue = [7, 36]'),\n Text(0.6383219954648526, 0.46, 'gini = 0.0\\nsamples = 7\\nvalue = [7, 0]'),\n Text(0.6473922902494331, 0.46, 'gini = 0.0\\nsamples = 36\\nvalue = [0, 36]'),\n Text(0.6519274376417233, 0.5, 'gini = 0.0\\nsamples = 2997\\nvalue = [2997, 0]'),\n Text(0.6609977324263039, 0.58, 'X[43] <= 65.5\\ngini = 0.469\\nsamples = 8\\nvalue = [5, 3]'),\n Text(0.6564625850340136, 0.54, 'gini = 0.0\\nsamples = 3\\nvalue = [0, 3]'),\n Text(0.6655328798185941, 0.54, 'gini = 0.0\\nsamples = 5\\nvalue = [5, 0]'),\n Text(0.6609977324263039, 0.62, 'gini = 0.0\\nsamples = 4\\nvalue = [0, 4]'),\n Text(0.6746031746031746, 0.66, 'X[19] <= 1056.788\\ngini = 0.32\\nsamples = 15\\nvalue = [3, 12]'),\n Text(0.6700680272108843, 0.62, 'gini = 0.0\\nsamples = 3\\nvalue = [3, 0]'),\n Text(0.6791383219954649, 0.62, 'gini = 0.0\\nsamples = 12\\nvalue = [0, 12]'),\n Text(0.6791383219954649, 0.74, 'X[71] <= 64887.5\\ngini = 0.455\\nsamples = 10184\\nvalue = [3562, 6622]'),\n Text(0.6746031746031746, 0.7, 'gini = 0.0\\nsamples = 6622\\nvalue = [0, 6622]'),\n Text(0.6836734693877551, 0.7, 'gini = 0.0\\nsamples = 3562\\nvalue = [3562, 0]'),\n Text(0.8376381802721088, 0.78, 'X[5] <= 1.4994611814027756e+18\\ngini = 0.009\\nsamples = 991080\\nvalue = [986568, 4512]'),\n Text(0.8331030328798186, 0.74, 'X[72] <= 35177.5\\ngini = 0.008\\nsamples = 990351\\nvalue = [986568, 3783]'),\n Text(0.7296626984126984, 0.7, 'X[5] <= 66630461685760.0\\ngini = 0.003\\nsamples = 961725\\nvalue = [960087, 1638]'),\n Text(0.699546485260771, 0.66, 'X[72] <= 0.5\\ngini = 0.109\\nsamples = 17878\\nvalue = [16840, 1038]'),\n Text(0.6950113378684807, 0.62, 'X[43] <= 144.5\\ngini = 0.007\\nsamples = 16898\\nvalue = [16840, 58]'),\n Text(0.6836734693877551, 0.58, 'X[0] <= 1518062.5\\ngini = 0.004\\nsamples = 16870\\nvalue = [16839, 31]'),\n Text(0.6746031746031746, 0.54, 'X[1] <= 17506.0\\ngini = 0.0\\nsamples = 16643\\nvalue = [16642, 1]'),\n Text(0.6700680272108843, 0.5, 'gini = 0.0\\nsamples = 1\\nvalue = [0, 1]'),\n Text(0.6791383219954649, 0.5, 'gini = 0.0\\nsamples = 16642\\nvalue = [16642, 0]'),\n Text(0.6927437641723356, 0.54, 'X[12] <= 67.665\\ngini = 0.229\\nsamples = 227\\nvalue = [197, 30]'),\n Text(0.6882086167800453, 0.5, 'gini = 0.0\\nsamples = 197\\nvalue = [197, 0]'),\n Text(0.6972789115646258, 0.5, 'gini = 0.0\\nsamples = 30\\nvalue = [0, 30]'),\n Text(0.7063492063492064, 0.58, 'X[5] <= 26433830780928.0\\ngini = 0.069\\nsamples = 28\\nvalue = [1, 27]'),\n Text(0.7018140589569161, 0.54, 'gini = 0.0\\nsamples = 27\\nvalue = [0, 27]'),\n Text(0.7108843537414966, 0.54, 'gini = 0.0\\nsamples = 1\\nvalue = [1, 0]'),\n Text(0.7040816326530612, 0.62, 'gini = 0.0\\nsamples = 980\\nvalue = [0, 980]'),\n Text(0.7597789115646258, 0.66, 'X[0] <= 11537628.5\\ngini = 0.001\\nsamples = 943847\\nvalue = [943247, 600]'),\n Text(0.735827664399093, 0.62, 'X[16] <= 38.839\\ngini = 0.033\\nsamples = 29390\\nvalue = [28890, 500]'),\n Text(0.7244897959183674, 0.58, 'X[5] <= 1.4881265909099397e+18\\ngini = 0.277\\nsamples = 457\\nvalue = [76, 381]'),\n Text(0.719954648526077, 0.54, 'gini = 0.0\\nsamples = 381\\nvalue = [0, 381]'),\n Text(0.7290249433106576, 0.54, 'gini = 0.0\\nsamples = 76\\nvalue = [76, 0]'),\n Text(0.7471655328798186, 0.58, 'X[0] <= 10555418.0\\ngini = 0.008\\nsamples = 28933\\nvalue = [28814, 119]'),\n Text(0.7380952380952381, 0.54, 'X[72] <= 33687.5\\ngini = 0.002\\nsamples = 28836\\nvalue = [28813, 23]'),\n Text(0.7335600907029478, 0.5, 'X[0] <= 2473492.5\\ngini = 0.002\\nsamples = 28835\\nvalue = [28813, 22]'),\n Text(0.7205215419501134, 0.46, 'X[72] <= 29232.5\\ngini = 0.0\\nsamples = 28158\\nvalue = [28152, 6]'),\n Text(0.7080498866213152, 0.42, 'X[9] <= 67.5\\ngini = 0.0\\nsamples = 28149\\nvalue = [28144, 5]'),\n Text(0.6967120181405896, 0.38, 'X[43] <= 66.5\\ngini = 0.004\\nsamples = 888\\nvalue = [886, 2]'),\n Text(0.6921768707482994, 0.34, 'gini = 0.0\\nsamples = 886\\nvalue = [886, 0]'),\n Text(0.7012471655328798, 0.34, 'gini = 0.0\\nsamples = 2\\nvalue = [0, 2]'),\n Text(0.7193877551020408, 0.38, 'X[72] <= 2050.0\\ngini = 0.0\\nsamples = 27261\\nvalue = [27258, 3]'),\n Text(0.7103174603174603, 0.34, 'X[10] <= 110.5\\ngini = 0.0\\nsamples = 25439\\nvalue = [25438, 1]'),\n Text(0.70578231292517, 0.3, 'X[16] <= 109.5\\ngini = 0.001\\nsamples = 2639\\nvalue = [2638, 1]'),\n Text(0.7012471655328798, 0.26, 'gini = 0.0\\nsamples = 2630\\nvalue = [2630, 0]'),\n Text(0.7103174603174603, 0.26, 'X[2] <= 9514.5\\ngini = 0.198\\nsamples = 9\\nvalue = [8, 1]'),\n Text(0.70578231292517, 0.22, 'gini = 0.0\\nsamples = 8\\nvalue = [8, 0]'),\n Text(0.7148526077097506, 0.22, 'gini = 0.0\\nsamples = 1\\nvalue = [0, 1]'),\n Text(0.7148526077097506, 0.3, 'gini = 0.0\\nsamples = 22800\\nvalue = [22800, 0]'),\n Text(0.7284580498866213, 0.34, 'X[48] <= 0.5\\ngini = 0.002\\nsamples = 1822\\nvalue = [1820, 2]'),\n Text(0.7239229024943311, 0.3, 'gini = 0.0\\nsamples = 2\\nvalue = [0, 2]'),\n Text(0.7329931972789115, 0.3, 'gini = 0.0\\nsamples = 1820\\nvalue = [1820, 0]'),\n Text(0.7329931972789115, 0.42, 'X[2] <= 51982913024.0\\ngini = 0.198\\nsamples = 9\\nvalue = [8, 1]'),\n Text(0.7284580498866213, 0.38, 'gini = 0.0\\nsamples = 8\\nvalue = [8, 0]'),\n Text(0.7375283446712018, 0.38, 'gini = 0.0\\nsamples = 1\\nvalue = [0, 1]'),\n Text(0.7465986394557823, 0.46, 'X[74] <= 17.0\\ngini = 0.046\\nsamples = 677\\nvalue = [661, 16]'),\n Text(0.7420634920634921, 0.42, 'gini = 0.0\\nsamples = 16\\nvalue = [0, 16]'),\n Text(0.7511337868480725, 0.42, 'gini = 0.0\\nsamples = 661\\nvalue = [661, 0]'),\n Text(0.7426303854875284, 0.5, 'gini = 0.0\\nsamples = 1\\nvalue = [0, 1]'),\n Text(0.7562358276643991, 0.54, 'X[43] <= 63.5\\ngini = 0.02\\nsamples = 97\\nvalue = [1, 96]'),\n Text(0.7517006802721088, 0.5, 'gini = 0.0\\nsamples = 1\\nvalue = [1, 0]'),\n Text(0.7607709750566893, 0.5, 'gini = 0.0\\nsamples = 96\\nvalue = [0, 96]'),\n Text(0.7837301587301587, 0.62, 'X[41] <= 0.032\\ngini = 0.0\\nsamples = 914457\\nvalue = [914357, 100]'),\n Text(0.7698412698412699, 0.58, 'X[68] <= 89.5\\ngini = 0.285\\nsamples = 29\\nvalue = [24, 5]'),\n Text(0.7653061224489796, 0.54, 'gini = 0.0\\nsamples = 24\\nvalue = [24, 0]'),\n Text(0.7743764172335601, 0.54, 'gini = 0.0\\nsamples = 5\\nvalue = [0, 5]'),\n Text(0.7976190476190477, 0.58, 'X[41] <= 0.046\\ngini = 0.0\\nsamples = 914428\\nvalue = [914333, 95]'),\n Text(0.7834467120181405, 0.54, 'X[0] <= 129345244.0\\ngini = 0.067\\nsamples = 145\\nvalue = [140, 5]'),\n Text(0.7789115646258503, 0.5, 'gini = 0.0\\nsamples = 5\\nvalue = [0, 5]'),\n Text(0.7879818594104309, 0.5, 'gini = 0.0\\nsamples = 140\\nvalue = [140, 0]'),\n Text(0.8117913832199547, 0.54, 'X[72] <= 8297.0\\ngini = 0.0\\nsamples = 914283\\nvalue = [914193, 90]'),\n Text(0.7970521541950113, 0.5, 'X[72] <= 1316.5\\ngini = 0.0\\nsamples = 873800\\nvalue = [873787, 13]'),\n Text(0.7925170068027211, 0.46, 'gini = 0.0\\nsamples = 835647\\nvalue = [835647, 0]'),\n Text(0.8015873015873016, 0.46, 'X[4] <= 10.5\\ngini = 0.001\\nsamples = 38153\\nvalue = [38140, 13]'),\n Text(0.7970521541950113, 0.42, 'X[0] <= 102645220.0\\ngini = 0.0\\nsamples = 38142\\nvalue = [38140, 2]'),\n Text(0.7925170068027211, 0.38, 'X[56] <= 0.34\\ngini = 0.062\\nsamples = 62\\nvalue = [60, 2]'),\n Text(0.7879818594104309, 0.34, 'gini = 0.0\\nsamples = 2\\nvalue = [0, 2]'),\n Text(0.7970521541950113, 0.34, 'gini = 0.0\\nsamples = 60\\nvalue = [60, 0]'),\n Text(0.8015873015873016, 0.38, 'gini = 0.0\\nsamples = 38080\\nvalue = [38080, 0]'),\n Text(0.8061224489795918, 0.42, 'gini = 0.0\\nsamples = 11\\nvalue = [0, 11]'),\n Text(0.826530612244898, 0.5, 'X[74] <= 17.0\\ngini = 0.004\\nsamples = 40483\\nvalue = [40406, 77]'),\n Text(0.8219954648526077, 0.46, 'gini = 0.0\\nsamples = 72\\nvalue = [0, 72]'),\n Text(0.8310657596371882, 0.46, 'X[66] <= 33563650.0\\ngini = 0.0\\nsamples = 40411\\nvalue = [40406, 5]'),\n Text(0.8197278911564626, 0.42, 'X[66] <= 20431740.0\\ngini = 0.0\\nsamples = 40401\\nvalue = [40399, 2]'),\n Text(0.8106575963718821, 0.38, 'X[0] <= 102648836.0\\ngini = 0.0\\nsamples = 40388\\nvalue = [40387, 1]'),\n Text(0.8061224489795918, 0.34, 'X[0] <= 97720532.0\\ngini = 0.004\\nsamples = 490\\nvalue = [489, 1]'),\n Text(0.8015873015873016, 0.3, 'gini = 0.0\\nsamples = 489\\nvalue = [489, 0]'),\n Text(0.8106575963718821, 0.3, 'gini = 0.0\\nsamples = 1\\nvalue = [0, 1]'),\n Text(0.8151927437641724, 0.34, 'gini = 0.0\\nsamples = 39898\\nvalue = [39898, 0]'),\n Text(0.828798185941043, 0.38, 'X[21] <= 10030.706\\ngini = 0.142\\nsamples = 13\\nvalue = [12, 1]'),\n Text(0.8242630385487528, 0.34, 'gini = 0.0\\nsamples = 1\\nvalue = [0, 1]'),\n Text(0.8333333333333334, 0.34, 'gini = 0.0\\nsamples = 12\\nvalue = [12, 0]'),\n Text(0.8424036281179138, 0.42, 'X[16] <= 40.58\\ngini = 0.42\\nsamples = 10\\nvalue = [7, 3]'),\n Text(0.8378684807256236, 0.38, 'gini = 0.0\\nsamples = 3\\nvalue = [0, 3]'),\n Text(0.8469387755102041, 0.38, 'gini = 0.0\\nsamples = 7\\nvalue = [7, 0]'),\n Text(0.9365433673469388, 0.7, 'X[66] <= 4200717.875\\ngini = 0.139\\nsamples = 28626\\nvalue = [26481, 2145]'),\n Text(0.9048327664399093, 0.66, 'X[74] <= 19.5\\ngini = 0.094\\nsamples = 27599\\nvalue = [26237, 1362]'),\n Text(0.9002976190476191, 0.62, 'gini = 0.0\\nsamples = 432\\nvalue = [0, 432]'),\n Text(0.9093679138321995, 0.62, 'X[5] <= 1.449853690658685e+18\\ngini = 0.066\\nsamples = 27167\\nvalue = [26237, 930]'),\n Text(0.8958333333333334, 0.58, 'X[21] <= 24235945.0\\ngini = 0.003\\nsamples = 16558\\nvalue = [16532, 26]'),\n Text(0.891298185941043, 0.54, 'X[2] <= 55017.0\\ngini = 0.002\\nsamples = 16550\\nvalue = [16532, 18]'),\n Text(0.8867630385487528, 0.5, 'gini = 0.0\\nsamples = 1\\nvalue = [0, 1]'),\n Text(0.8958333333333334, 0.5, 'X[21] <= 18958991.0\\ngini = 0.002\\nsamples = 16549\\nvalue = [16532, 17]'),\n Text(0.8823696145124716, 0.46, 'X[63] <= 34459438.0\\ngini = 0.002\\nsamples = 16542\\nvalue = [16527, 15]'),\n Text(0.8690476190476191, 0.42, 'X[72] <= 45007.0\\ngini = 0.002\\nsamples = 16539\\nvalue = [16525, 14]'),\n Text(0.8560090702947846, 0.38, 'X[5] <= 6.38164253629481e+17\\ngini = 0.052\\nsamples = 226\\nvalue = [220, 6]'),\n Text(0.8514739229024944, 0.34, 'gini = 0.0\\nsamples = 6\\nvalue = [0, 6]'),\n Text(0.8605442176870748, 0.34, 'gini = 0.0\\nsamples = 220\\nvalue = [220, 0]'),\n Text(0.8820861678004536, 0.38, 'X[63] <= 4521749.75\\ngini = 0.001\\nsamples = 16313\\nvalue = [16305, 8]'),\n Text(0.8696145124716553, 0.34, 'X[68] <= 82380.0\\ngini = 0.001\\nsamples = 16265\\nvalue = [16259, 6]'),\n Text(0.8582766439909297, 0.3, 'X[71] <= 254.5\\ngini = 0.001\\nsamples = 16239\\nvalue = [16234, 5]'),\n Text(0.8492063492063492, 0.26, 'X[43] <= 57.5\\ngini = 0.064\\nsamples = 30\\nvalue = [29, 1]'),\n Text(0.844671201814059, 0.22, 'gini = 0.0\\nsamples = 1\\nvalue = [0, 1]'),\n Text(0.8537414965986394, 0.22, 'gini = 0.0\\nsamples = 29\\nvalue = [29, 0]'),\n Text(0.8673469387755102, 0.26, 'X[16] <= 62.835\\ngini = 0.0\\nsamples = 16209\\nvalue = [16205, 4]'),\n Text(0.86281179138322, 0.22, 'gini = 0.0\\nsamples = 15286\\nvalue = [15286, 0]'),\n Text(0.8718820861678005, 0.22, 'X[45] <= 61.75\\ngini = 0.009\\nsamples = 923\\nvalue = [919, 4]'),\n Text(0.8673469387755102, 0.18, 'gini = 0.0\\nsamples = 3\\nvalue = [0, 3]'),\n Text(0.8764172335600907, 0.18, 'X[63] <= 36511.157\\ngini = 0.002\\nsamples = 920\\nvalue = [919, 1]'),\n Text(0.8718820861678005, 0.14, 'gini = 0.0\\nsamples = 919\\nvalue = [919, 0]'),\n Text(0.8809523809523809, 0.14, 'gini = 0.0\\nsamples = 1\\nvalue = [0, 1]'),\n Text(0.8809523809523809, 0.3, 'X[57] <= 232.65\\ngini = 0.074\\nsamples = 26\\nvalue = [25, 1]'),\n Text(0.8764172335600907, 0.26, 'gini = 0.0\\nsamples = 1\\nvalue = [0, 1]'),\n Text(0.8854875283446711, 0.26, 'gini = 0.0\\nsamples = 25\\nvalue = [25, 0]'),\n Text(0.8945578231292517, 0.34, 'X[62] <= 2.522\\ngini = 0.08\\nsamples = 48\\nvalue = [46, 2]'),\n Text(0.8900226757369615, 0.3, 'gini = 0.0\\nsamples = 2\\nvalue = [0, 2]'),\n Text(0.8990929705215419, 0.3, 'gini = 0.0\\nsamples = 46\\nvalue = [46, 0]'),\n Text(0.8956916099773242, 0.42, 'X[44] <= 1079.0\\ngini = 0.444\\nsamples = 3\\nvalue = [2, 1]'),\n Text(0.891156462585034, 0.38, 'gini = 0.0\\nsamples = 1\\nvalue = [0, 1]'),\n Text(0.9002267573696145, 0.38, 'gini = 0.0\\nsamples = 2\\nvalue = [2, 0]'),\n Text(0.909297052154195, 0.46, 'X[41] <= 3.017\\ngini = 0.408\\nsamples = 7\\nvalue = [5, 2]'),\n Text(0.9047619047619048, 0.42, 'gini = 0.0\\nsamples = 5\\nvalue = [5, 0]'),\n Text(0.9138321995464853, 0.42, 'gini = 0.0\\nsamples = 2\\nvalue = [0, 2]'),\n Text(0.9003684807256236, 0.54, 'gini = 0.0\\nsamples = 8\\nvalue = [0, 8]'),\n Text(0.9229024943310657, 0.58, 'X[5] <= 1.4885710684854682e+18\\ngini = 0.156\\nsamples = 10609\\nvalue = [9705, 904]'),\n Text(0.9183673469387755, 0.54, 'gini = 0.0\\nsamples = 800\\nvalue = [0, 800]'),\n Text(0.927437641723356, 0.54, 'X[0] <= 13917439.5\\ngini = 0.021\\nsamples = 9809\\nvalue = [9705, 104]'),\n Text(0.9229024943310657, 0.5, 'X[1] <= 24802.0\\ngini = 0.439\\nsamples = 319\\nvalue = [215, 104]'),\n Text(0.9183673469387755, 0.46, 'gini = 0.0\\nsamples = 215\\nvalue = [215, 0]'),\n Text(0.927437641723356, 0.46, 'gini = 0.0\\nsamples = 104\\nvalue = [0, 104]'),\n Text(0.9319727891156463, 0.5, 'gini = 0.0\\nsamples = 9490\\nvalue = [9490, 0]'),\n Text(0.9682539682539683, 0.66, 'X[18] <= 526.29\\ngini = 0.362\\nsamples = 1027\\nvalue = [244, 783]'),\n Text(0.9501133786848073, 0.62, 'X[5] <= 1.4390560054375875e+18\\ngini = 0.141\\nsamples = 826\\nvalue = [63, 763]'),\n Text(0.9410430839002267, 0.58, 'X[40] <= 19124.0\\ngini = 0.222\\nsamples = 63\\nvalue = [55, 8]'),\n Text(0.9365079365079365, 0.54, 'gini = 0.0\\nsamples = 55\\nvalue = [55, 0]'),\n Text(0.9455782312925171, 0.54, 'gini = 0.0\\nsamples = 8\\nvalue = [0, 8]'),\n Text(0.9591836734693877, 0.58, 'X[5] <= 1.497120939622531e+18\\ngini = 0.021\\nsamples = 763\\nvalue = [8, 755]'),\n Text(0.9546485260770975, 0.54, 'gini = 0.0\\nsamples = 755\\nvalue = [0, 755]'),\n Text(0.963718820861678, 0.54, 'gini = 0.0\\nsamples = 8\\nvalue = [8, 0]'),\n Text(0.9863945578231292, 0.62, 'X[81] <= 11468353.0\\ngini = 0.179\\nsamples = 201\\nvalue = [181, 20]'),\n Text(0.981859410430839, 0.58, 'X[2] <= 65966331904.0\\ngini = 0.117\\nsamples = 193\\nvalue = [181, 12]'),\n Text(0.9727891156462585, 0.54, 'X[64] <= 2490.875\\ngini = 0.034\\nsamples = 175\\nvalue = [172, 3]'),\n Text(0.9682539682539683, 0.5, 'gini = 0.0\\nsamples = 1\\nvalue = [0, 1]'),\n Text(0.9773242630385488, 0.5, 'X[18] <= 529.831\\ngini = 0.023\\nsamples = 174\\nvalue = [172, 2]'),\n Text(0.9682539682539683, 0.46, 'X[0] <= 965897062.5\\ngini = 0.5\\nsamples = 2\\nvalue = [1, 1]'),\n Text(0.963718820861678, 0.42, 'gini = 0.0\\nsamples = 1\\nvalue = [0, 1]'),\n Text(0.9727891156462585, 0.42, 'gini = 0.0\\nsamples = 1\\nvalue = [1, 0]'),\n Text(0.9863945578231292, 0.46, 'X[18] <= 552.484\\ngini = 0.012\\nsamples = 172\\nvalue = [171, 1]'),\n Text(0.981859410430839, 0.42, 'X[10] <= 44982.215\\ngini = 0.245\\nsamples = 7\\nvalue = [6, 1]'),\n Text(0.9773242630385488, 0.38, 'gini = 0.0\\nsamples = 6\\nvalue = [6, 0]'),\n Text(0.9863945578231292, 0.38, 'gini = 0.0\\nsamples = 1\\nvalue = [0, 1]'),\n Text(0.9909297052154195, 0.42, 'gini = 0.0\\nsamples = 165\\nvalue = [165, 0]'),\n Text(0.9909297052154195, 0.54, 'X[1] <= 49531.0\\ngini = 0.5\\nsamples = 18\\nvalue = [9, 9]'),\n Text(0.9863945578231292, 0.5, 'gini = 0.0\\nsamples = 9\\nvalue = [0, 9]'),\n Text(0.9954648526077098, 0.5, 'gini = 0.0\\nsamples = 9\\nvalue = [9, 0]'),\n Text(0.9909297052154195, 0.58, 'gini = 0.0\\nsamples = 8\\nvalue = [0, 8]'),\n Text(0.8421733276643991, 0.74, 'gini = 0.0\\nsamples = 729\\nvalue = [0, 729]'),\n Text(0.8648490646258503, 0.86, 'X[5] <= 5.655249631701893e+17\\ngini = 0.137\\nsamples = 11806\\nvalue = [873, 10933]'),\n Text(0.8603139172335601, 0.82, 'X[71] <= 65435.0\\ngini = 0.012\\nsamples = 10998\\nvalue = [65, 10933]'),\n Text(0.8557787698412699, 0.78, 'X[72] <= 65534.5\\ngini = 0.002\\nsamples = 10944\\nvalue = [11, 10933]'),\n Text(0.8512436224489796, 0.74, 'gini = 0.0\\nsamples = 10933\\nvalue = [0, 10933]'),\n Text(0.8603139172335601, 0.74, 'gini = 0.0\\nsamples = 11\\nvalue = [11, 0]'),\n Text(0.8648490646258503, 0.78, 'gini = 0.0\\nsamples = 54\\nvalue = [54, 0]'),\n Text(0.8693842120181405, 0.82, 'gini = 0.0\\nsamples = 808\\nvalue = [808, 0]')]"
     },
     "execution_count": 10,
     "metadata": {},
     "output_type": "execute_result"
    },
    {
     "data": {
      "text/plain": "<Figure size 432x288 with 1 Axes>",
      "image/png": "[encoded data removed]"
     },
     "metadata": {
      "needs_background": "light"
     },
     "output_type": "display_data"
    }
   ],
   "source": [
    "plot_tree(dt_balance_model)"
   ],
   "metadata": {
    "collapsed": false
   }
  },
  {
   "cell_type": "markdown",
   "source": [
    "### VALUTAZIONE MODELLO"
   ],
   "metadata": {
    "collapsed": false
   }
  },
  {
   "cell_type": "code",
   "execution_count": 11,
   "outputs": [
    {
     "name": "stdout",
     "output_type": "stream",
     "text": [
      "Precision in training phase: 0.9999780169888299\n",
      "Precision in testing phase(unbalanced): 0.9999308409737591\n",
      "Precision in testing phase(balanced): 0.9997886295240607\n"
     ]
    }
   ],
   "source": [
    "print(f\"Precision in training phase: {dt_balance_model.score(X_train_balanced, y_train_balanced)}\")\n",
    "print(f\"Precision in testing phase(unbalanced): {dt_balance_model.score(X_test, y_test)}\")\n",
    "print(f\"Precision in testing phase(balanced): {dt_balance_model.score(X_test_balanced, y_test_balanced)}\")"
   ],
   "metadata": {
    "collapsed": false
   }
  },
  {
   "cell_type": "markdown",
   "source": [
    "### FEATURES IMPORTANCE/DIMENSIONAL REDUCTION\n",
    "\n",
    "Per fare ciò sfrutto la proprietà *feature_importance\\_* messa a disposizione dal modello"
   ],
   "metadata": {
    "collapsed": false
   }
  },
  {
   "cell_type": "code",
   "execution_count": 12,
   "outputs": [
    {
     "name": "stdout",
     "output_type": "stream",
     "text": [
      "Feature: 0, Score: 0.17659\n",
      "Feature: 1, Score: 0.00023\n",
      "Feature: 2, Score: 0.00013\n",
      "Feature: 3, Score: 0.00001\n",
      "Feature: 4, Score: 0.00002\n",
      "Feature: 5, Score: 0.03002\n",
      "Feature: 6, Score: 0.00000\n",
      "Feature: 7, Score: 0.00000\n",
      "Feature: 8, Score: 0.00000\n",
      "Feature: 9, Score: 0.00001\n",
      "Feature: 10, Score: 0.00000\n",
      "Feature: 11, Score: 0.00001\n",
      "Feature: 12, Score: 0.00005\n",
      "Feature: 13, Score: 0.00000\n",
      "Feature: 14, Score: 0.00000\n",
      "Feature: 15, Score: 0.00003\n",
      "Feature: 16, Score: 0.00070\n",
      "Feature: 17, Score: 0.00000\n",
      "Feature: 18, Score: 0.00020\n",
      "Feature: 19, Score: 0.00016\n",
      "Feature: 20, Score: 0.00000\n",
      "Feature: 21, Score: 0.00002\n",
      "Feature: 22, Score: 0.00001\n",
      "Feature: 23, Score: 0.00001\n",
      "Feature: 24, Score: 0.00148\n",
      "Feature: 25, Score: 0.00004\n",
      "Feature: 26, Score: 0.00000\n",
      "Feature: 27, Score: 0.00000\n",
      "Feature: 28, Score: 0.00000\n",
      "Feature: 29, Score: 0.00000\n",
      "Feature: 30, Score: 0.00000\n",
      "Feature: 31, Score: 0.00000\n",
      "Feature: 32, Score: 0.00000\n",
      "Feature: 33, Score: 0.00000\n",
      "Feature: 34, Score: 0.00000\n",
      "Feature: 35, Score: 0.00000\n",
      "Feature: 36, Score: 0.00000\n",
      "Feature: 37, Score: 0.00000\n",
      "Feature: 38, Score: 0.00000\n",
      "Feature: 39, Score: 0.00000\n",
      "Feature: 40, Score: 0.00001\n",
      "Feature: 41, Score: 0.00000\n",
      "Feature: 42, Score: 0.00000\n",
      "Feature: 43, Score: 0.00006\n",
      "Feature: 44, Score: 0.00001\n",
      "Feature: 45, Score: 0.00001\n",
      "Feature: 46, Score: 0.00005\n",
      "Feature: 47, Score: 0.00000\n",
      "Feature: 48, Score: 0.00010\n",
      "Feature: 49, Score: 0.00000\n",
      "Feature: 50, Score: 0.00000\n",
      "Feature: 51, Score: 0.00000\n",
      "Feature: 52, Score: 0.00000\n",
      "Feature: 53, Score: 0.00000\n",
      "Feature: 54, Score: 0.00000\n",
      "Feature: 55, Score: 0.00000\n",
      "Feature: 56, Score: 0.00001\n",
      "Feature: 57, Score: 0.00000\n",
      "Feature: 58, Score: 0.00000\n",
      "Feature: 59, Score: 0.00000\n",
      "Feature: 60, Score: 0.00000\n",
      "Feature: 61, Score: 0.00000\n",
      "Feature: 62, Score: 0.00002\n",
      "Feature: 63, Score: 0.00000\n",
      "Feature: 64, Score: 0.00000\n",
      "Feature: 65, Score: 0.00000\n",
      "Feature: 66, Score: 0.00091\n",
      "Feature: 67, Score: 0.00001\n",
      "Feature: 68, Score: 0.01732\n",
      "Feature: 69, Score: 0.76416\n",
      "Feature: 70, Score: 0.00000\n",
      "Feature: 71, Score: 0.00432\n",
      "Feature: 72, Score: 0.00194\n",
      "Feature: 73, Score: 0.00000\n",
      "Feature: 74, Score: 0.00095\n",
      "Feature: 75, Score: 0.00000\n",
      "Feature: 76, Score: 0.00000\n",
      "Feature: 77, Score: 0.00000\n",
      "Feature: 78, Score: 0.00000\n",
      "Feature: 79, Score: 0.00000\n",
      "Feature: 80, Score: 0.00000\n",
      "Feature: 81, Score: 0.00036\n",
      "Feature: 82, Score: 0.00000\n"
     ]
    },
    {
     "data": {
      "text/plain": "<Figure size 432x288 with 1 Axes>",
      "image/png": "[encoded data removed]"
     },
     "metadata": {
      "needs_background": "light"
     },
     "output_type": "display_data"
    }
   ],
   "source": [
    "importance = dt_balance_model.feature_importances_\n",
    "\n",
    "for i,v in enumerate(importance):\n",
    " print('Feature: %0d, Score: %.5f' % (i, v))\n",
    "\n",
    "plt.bar([x for x in range(len(importance))], importance)\n",
    "plt.show()"
   ],
   "metadata": {
    "collapsed": false
   }
  },
  {
   "cell_type": "markdown",
   "source": [
    "## RANDOM FOREST\n",
    "\n",
    "### DATASET SBILANCIATO"
   ],
   "metadata": {
    "collapsed": false
   }
  },
  {
   "cell_type": "code",
   "execution_count": 13,
   "outputs": [
    {
     "name": "stdout",
     "output_type": "stream",
     "text": [
      "CARICAMENTO MODELLO DA ../exported_model/rf_unbalance.pkl\n"
     ]
    }
   ],
   "source": [
    "try:\n",
    "    with open(f\"{EXPORTED_MODEL}/rf_unbalance.pkl\", 'rb') as file:\n",
    "        print(\"CARICAMENTO MODELLO DA ../exported_model/rf_unbalance.pkl\")\n",
    "\n",
    "        rf_model = pkl.load(file)\n",
    "except IOError:\n",
    "    rf = RandomForestClassifier()\n",
    "    start_time = time.time()\n",
    "\n",
    "    print(\"INIZIO ADDESTRAMENTO DECISION TREE\")\n",
    "    rf_model = rf.fit(X_train, y_train)\n",
    "\n",
    "    print(f\"L'addestramento della random forest ha impiegato {time.time() - start_time} secondi\")\n",
    "\n",
    "    print(\"SALVATAGGIO MODELLO IN ../exported_model/rf_unbalance.pkl\")\n",
    "    with open(f\"{EXPORTED_MODEL}/rf_unbalance.pkl\", 'wb') as file:\n",
    "        pkl.dump(rf_model, file)"
   ],
   "metadata": {
    "collapsed": false
   }
  },
  {
   "cell_type": "markdown",
   "source": [
    "Visualizza la random forest"
   ],
   "metadata": {
    "collapsed": false
   }
  },
  {
   "cell_type": "code",
   "execution_count": 14,
   "outputs": [
    {
     "name": "stdout",
     "output_type": "stream",
     "text": [
      "Precision in training phase: 1.0\n",
      "Precision in testing phase: 0.9999347929181157\n"
     ]
    }
   ],
   "source": [
    "index = 0\n",
    "fig, axes = plt.subplots(nrows = 10,ncols = 5,figsize = (10, 10), dpi=900)\n",
    "\n",
    "for tree in rf_model.estimators_:\n",
    "    tree.plot_tree(tree)\n",
    "\n",
    "    axes[index].set_title('Estimator: ' + str(index), fontsize = 11)\n",
    "    index += 1"
   ],
   "metadata": {
    "collapsed": false
   }
  },
  {
   "cell_type": "markdown",
   "source": [
    "### VALUTAZIONE MODELLO"
   ],
   "metadata": {
    "collapsed": false
   }
  },
  {
   "cell_type": "code",
   "execution_count": 15,
   "outputs": [
    {
     "name": "stdout",
     "output_type": "stream",
     "text": [
      "Feature: 0, Score: 0.13031\n",
      "Feature: 1, Score: 0.00884\n",
      "Feature: 2, Score: 0.01159\n",
      "Feature: 3, Score: 0.01292\n",
      "Feature: 4, Score: 0.02435\n",
      "Feature: 5, Score: 0.06178\n",
      "Feature: 6, Score: 0.05730\n",
      "Feature: 7, Score: 0.00347\n",
      "Feature: 8, Score: 0.01702\n",
      "Feature: 9, Score: 0.00932\n",
      "Feature: 10, Score: 0.00978\n",
      "Feature: 11, Score: 0.00199\n",
      "Feature: 12, Score: 0.00401\n",
      "Feature: 13, Score: 0.00788\n",
      "Feature: 14, Score: 0.00049\n",
      "Feature: 15, Score: 0.01485\n",
      "Feature: 16, Score: 0.00302\n",
      "Feature: 17, Score: 0.01540\n",
      "Feature: 18, Score: 0.00040\n",
      "Feature: 19, Score: 0.04300\n",
      "Feature: 20, Score: 0.11117\n",
      "Feature: 21, Score: 0.00872\n",
      "Feature: 22, Score: 0.00196\n",
      "Feature: 23, Score: 0.02026\n",
      "Feature: 24, Score: 0.01307\n",
      "Feature: 25, Score: 0.00946\n",
      "Feature: 26, Score: 0.02163\n",
      "Feature: 27, Score: 0.00046\n",
      "Feature: 28, Score: 0.00663\n",
      "Feature: 29, Score: 0.00417\n",
      "Feature: 30, Score: 0.00017\n",
      "Feature: 31, Score: 0.00013\n",
      "Feature: 32, Score: 0.00012\n",
      "Feature: 33, Score: 0.00014\n",
      "Feature: 34, Score: 0.00016\n",
      "Feature: 35, Score: 0.00000\n",
      "Feature: 36, Score: 0.00000\n",
      "Feature: 37, Score: 0.00000\n",
      "Feature: 38, Score: 0.00000\n",
      "Feature: 39, Score: 0.01921\n",
      "Feature: 40, Score: 0.01230\n",
      "Feature: 41, Score: 0.12387\n",
      "Feature: 42, Score: 0.02326\n",
      "Feature: 43, Score: 0.00689\n",
      "Feature: 44, Score: 0.00717\n",
      "Feature: 45, Score: 0.00425\n",
      "Feature: 46, Score: 0.00403\n",
      "Feature: 47, Score: 0.00575\n",
      "Feature: 48, Score: 0.00660\n",
      "Feature: 49, Score: 0.00000\n",
      "Feature: 50, Score: 0.00000\n",
      "Feature: 51, Score: 0.00000\n",
      "Feature: 52, Score: 0.00008\n",
      "Feature: 53, Score: 0.00000\n",
      "Feature: 54, Score: 0.00000\n",
      "Feature: 55, Score: 0.00000\n",
      "Feature: 56, Score: 0.01788\n",
      "Feature: 57, Score: 0.00272\n",
      "Feature: 58, Score: 0.00270\n",
      "Feature: 59, Score: 0.00106\n",
      "Feature: 60, Score: 0.03137\n",
      "Feature: 61, Score: 0.00023\n",
      "Feature: 62, Score: 0.00022\n",
      "Feature: 63, Score: 0.00024\n",
      "Feature: 64, Score: 0.00017\n",
      "Feature: 65, Score: 0.00009\n",
      "Feature: 66, Score: 0.00043\n",
      "Feature: 67, Score: 0.00130\n",
      "Feature: 68, Score: 0.01119\n",
      "Feature: 69, Score: 0.03046\n",
      "Feature: 70, Score: 0.01564\n",
      "Feature: 71, Score: 0.00741\n",
      "Feature: 72, Score: 0.00191\n",
      "Feature: 73, Score: 0.00396\n",
      "Feature: 74, Score: 0.02117\n",
      "Feature: 75, Score: 0.00001\n",
      "Feature: 76, Score: 0.00001\n",
      "Feature: 77, Score: 0.00001\n",
      "Feature: 78, Score: 0.00003\n",
      "Feature: 79, Score: 0.00011\n",
      "Feature: 80, Score: 0.00012\n",
      "Feature: 81, Score: 0.00009\n",
      "Feature: 82, Score: 0.00015\n"
     ]
    },
    {
     "data": {
      "text/plain": "<Figure size 432x288 with 1 Axes>",
      "image/png": "[encoded data removed]"
     },
     "metadata": {
      "needs_background": "light"
     },
     "output_type": "display_data"
    }
   ],
   "source": [
    "print(f\"Precision in training phase: {rf_model.score(X_train, y_train)}\")\n",
    "print(f\"Precision in testing phase: {rf_model.score(X_test, y_test)}\")"
   ],
   "metadata": {
    "collapsed": false
   }
  },
  {
   "cell_type": "markdown",
   "source": [
    "### FEATURES IMPORTANCE/DIMENSIONAL REDUCTION\n",
    "\n",
    "Per fare ciò sfrutto la proprietà *feature_importances\\_* messa a disposizione dal modello"
   ],
   "metadata": {
    "collapsed": false
   }
  },
  {
   "cell_type": "code",
   "execution_count": 16,
   "outputs": [
    {
     "name": "stdout",
     "output_type": "stream",
     "text": [
      "CARICAMENTO MODELLO DA ../exported_model/rf_balance.pkl\n"
     ]
    }
   ],
   "source": [
    "importance = rf_model.feature_importances_\n",
    "# summarize feature importance\n",
    "for i,v in enumerate(importance):\n",
    " print('Feature: %0d, Score: %.5f' % (i, v))\n",
    "# plot feature importance\n",
    "plt.bar([x for x in range(len(importance))], importance)\n",
    "plt.show()"
   ],
   "metadata": {
    "collapsed": false
   }
  },
  {
   "cell_type": "markdown",
   "source": [
    "### DATASET BILANCIATO"
   ],
   "metadata": {
    "collapsed": false
   }
  },
  {
   "cell_type": "code",
   "execution_count": 17,
   "outputs": [
    {
     "name": "stdout",
     "output_type": "stream",
     "text": [
      "Precision in training phase: 0.9999986541013569\n",
      "Precision in testing phase(unbalance): 0.9999249130572242\n",
      "Precision in testing phase(balance): 0.9999393094673046\n"
     ]
    }
   ],
   "source": [
    "try:\n",
    "    with open(f\"{EXPORTED_MODEL}/rf_balance.pkl\", 'rb') as file:\n",
    "        print(\"CARICAMENTO MODELLO DA ../exported_model/rf_balance.pkl\")\n",
    "\n",
    "        rf_balance_model = pkl.load(file)\n",
    "except IOError:\n",
    "    rf = RandomForestClassifier()\n",
    "    start_time = time.time()\n",
    "\n",
    "    print(\"INIZIO ADDESTRAMENTO DECISION TREE\")\n",
    "    rf_balance_model = rf.fit(X_train_balanced, y_train_balanced)\n",
    "\n",
    "    print(f\"L'addestramento della random forest ha impiegato {time.time() - start_time} secondi\")\n",
    "\n",
    "    print(\"SALVATAGGIO MODELLO IN ../exported_model/rf_balance.pkl\")\n",
    "    with open(f\"{EXPORTED_MODEL}/rf_balance.pkl\", 'wb') as file:\n",
    "        pkl.dump(rf_balance_model, file)"
   ],
   "metadata": {
    "collapsed": false
   }
  },
  {
   "cell_type": "markdown",
   "source": [
    "Visualizza la random forest"
   ],
   "metadata": {
    "collapsed": false
   }
  },
  {
   "cell_type": "code",
   "execution_count": 18,
   "outputs": [
    {
     "name": "stdout",
     "output_type": "stream",
     "text": [
      "Feature: 0, Score: 0.11410\n",
      "Feature: 1, Score: 0.00121\n",
      "Feature: 2, Score: 0.00541\n",
      "Feature: 3, Score: 0.00800\n",
      "Feature: 4, Score: 0.01309\n",
      "Feature: 5, Score: 0.08981\n",
      "Feature: 6, Score: 0.03078\n",
      "Feature: 7, Score: 0.00294\n",
      "Feature: 8, Score: 0.09366\n",
      "Feature: 9, Score: 0.00192\n",
      "Feature: 10, Score: 0.02744\n",
      "Feature: 11, Score: 0.00170\n",
      "Feature: 12, Score: 0.00502\n",
      "Feature: 13, Score: 0.00206\n",
      "Feature: 14, Score: 0.00139\n",
      "Feature: 15, Score: 0.02254\n",
      "Feature: 16, Score: 0.01402\n",
      "Feature: 17, Score: 0.04452\n",
      "Feature: 18, Score: 0.00062\n",
      "Feature: 19, Score: 0.01438\n",
      "Feature: 20, Score: 0.03725\n",
      "Feature: 21, Score: 0.01276\n",
      "Feature: 22, Score: 0.00535\n",
      "Feature: 23, Score: 0.00066\n",
      "Feature: 24, Score: 0.00074\n",
      "Feature: 25, Score: 0.00252\n",
      "Feature: 26, Score: 0.00164\n",
      "Feature: 27, Score: 0.00069\n",
      "Feature: 28, Score: 0.00149\n",
      "Feature: 29, Score: 0.00089\n",
      "Feature: 30, Score: 0.00059\n",
      "Feature: 31, Score: 0.00318\n",
      "Feature: 32, Score: 0.00054\n",
      "Feature: 33, Score: 0.00013\n",
      "Feature: 34, Score: 0.00010\n",
      "Feature: 35, Score: 0.00000\n",
      "Feature: 36, Score: 0.00000\n",
      "Feature: 37, Score: 0.00000\n",
      "Feature: 38, Score: 0.00000\n",
      "Feature: 39, Score: 0.00790\n",
      "Feature: 40, Score: 0.06655\n",
      "Feature: 41, Score: 0.04470\n",
      "Feature: 42, Score: 0.07601\n",
      "Feature: 43, Score: 0.00264\n",
      "Feature: 44, Score: 0.00096\n",
      "Feature: 45, Score: 0.00060\n",
      "Feature: 46, Score: 0.01359\n",
      "Feature: 47, Score: 0.01455\n",
      "Feature: 48, Score: 0.00357\n",
      "Feature: 49, Score: 0.00001\n",
      "Feature: 50, Score: 0.00000\n",
      "Feature: 51, Score: 0.00001\n",
      "Feature: 52, Score: 0.00314\n",
      "Feature: 53, Score: 0.00000\n",
      "Feature: 54, Score: 0.00000\n",
      "Feature: 55, Score: 0.00000\n",
      "Feature: 56, Score: 0.01689\n",
      "Feature: 57, Score: 0.00117\n",
      "Feature: 58, Score: 0.00096\n",
      "Feature: 59, Score: 0.01965\n",
      "Feature: 60, Score: 0.01245\n",
      "Feature: 61, Score: 0.00078\n",
      "Feature: 62, Score: 0.00117\n",
      "Feature: 63, Score: 0.00063\n",
      "Feature: 64, Score: 0.00040\n",
      "Feature: 65, Score: 0.00020\n",
      "Feature: 66, Score: 0.00025\n",
      "Feature: 67, Score: 0.00694\n",
      "Feature: 68, Score: 0.00797\n",
      "Feature: 69, Score: 0.07920\n",
      "Feature: 70, Score: 0.00815\n",
      "Feature: 71, Score: 0.00811\n",
      "Feature: 72, Score: 0.00848\n",
      "Feature: 73, Score: 0.00191\n",
      "Feature: 74, Score: 0.02682\n",
      "Feature: 75, Score: 0.00000\n",
      "Feature: 76, Score: 0.00000\n",
      "Feature: 77, Score: 0.00001\n",
      "Feature: 78, Score: 0.00001\n",
      "Feature: 79, Score: 0.00019\n",
      "Feature: 80, Score: 0.00010\n",
      "Feature: 81, Score: 0.00016\n",
      "Feature: 82, Score: 0.00005\n"
     ]
    },
    {
     "data": {
      "text/plain": "<Figure size 432x288 with 1 Axes>",
      "image/png": "[encoded data removed]"
     },
     "metadata": {
      "needs_background": "light"
     },
     "output_type": "display_data"
    }
   ],
   "source": [
    "for tree in rf_balance_model.estimators:\n",
    "    tree.plot_tree(tree)"
   ],
   "metadata": {
    "collapsed": false
   }
  },
  {
   "cell_type": "markdown",
   "source": [
    "### VALUTAZIONE MODELLO"
   ],
   "metadata": {
    "collapsed": false
   }
  },
  {
   "cell_type": "code",
   "execution_count": 40,
   "outputs": [
    {
     "name": "stdout",
     "output_type": "stream",
     "text": [
      "Precision in training phase: 1.0\n",
      "Precision in testing phase(unbalance): 0.9999249130572242\n",
      "Precision in testing phase(balance): 0.9999309383593465\n"
     ]
    }
   ],
   "source": [
    "print(f\"Precision in training phase: {rf_balance_model.score(X_train_balanced, y_train_balanced)}\")\n",
    "print(f\"Precision in testing phase(unbalance): {rf_balance_model.score(X_test, y_test)}\")\n",
    "print(f\"Precision in testing phase(balance): {rf_balance_model.score(X_test_balanced, y_test_balanced)}\")"
   ],
   "metadata": {
    "collapsed": false
   }
  },
  {
   "cell_type": "markdown",
   "source": [
    "### FEATURES IMPORTANCE/DIMENSIONAL REDUCTION\n",
    "\n",
    "Per fare ciò sfrutto la proprietà *feature_importances\\_* messa a disposizione dal modello"
   ],
   "metadata": {
    "collapsed": false
   }
  },
  {
   "cell_type": "code",
   "execution_count": 41,
   "outputs": [
    {
     "name": "stdout",
     "output_type": "stream",
     "text": [
      "Feature: 0, Score: 0.11410\n",
      "Feature: 1, Score: 0.00121\n",
      "Feature: 2, Score: 0.00541\n",
      "Feature: 3, Score: 0.00800\n",
      "Feature: 4, Score: 0.01309\n",
      "Feature: 5, Score: 0.08981\n",
      "Feature: 6, Score: 0.03078\n",
      "Feature: 7, Score: 0.00294\n",
      "Feature: 8, Score: 0.09366\n",
      "Feature: 9, Score: 0.00192\n",
      "Feature: 10, Score: 0.02744\n",
      "Feature: 11, Score: 0.00170\n",
      "Feature: 12, Score: 0.00502\n",
      "Feature: 13, Score: 0.00206\n",
      "Feature: 14, Score: 0.00139\n",
      "Feature: 15, Score: 0.02254\n",
      "Feature: 16, Score: 0.01402\n",
      "Feature: 17, Score: 0.04452\n",
      "Feature: 18, Score: 0.00062\n",
      "Feature: 19, Score: 0.01438\n",
      "Feature: 20, Score: 0.03725\n",
      "Feature: 21, Score: 0.01276\n",
      "Feature: 22, Score: 0.00535\n",
      "Feature: 23, Score: 0.00066\n",
      "Feature: 24, Score: 0.00074\n",
      "Feature: 25, Score: 0.00252\n",
      "Feature: 26, Score: 0.00164\n",
      "Feature: 27, Score: 0.00069\n",
      "Feature: 28, Score: 0.00149\n",
      "Feature: 29, Score: 0.00089\n",
      "Feature: 30, Score: 0.00059\n",
      "Feature: 31, Score: 0.00318\n",
      "Feature: 32, Score: 0.00054\n",
      "Feature: 33, Score: 0.00013\n",
      "Feature: 34, Score: 0.00010\n",
      "Feature: 35, Score: 0.00000\n",
      "Feature: 36, Score: 0.00000\n",
      "Feature: 37, Score: 0.00000\n",
      "Feature: 38, Score: 0.00000\n",
      "Feature: 39, Score: 0.00790\n",
      "Feature: 40, Score: 0.06655\n",
      "Feature: 41, Score: 0.04470\n",
      "Feature: 42, Score: 0.07601\n",
      "Feature: 43, Score: 0.00264\n",
      "Feature: 44, Score: 0.00096\n",
      "Feature: 45, Score: 0.00060\n",
      "Feature: 46, Score: 0.01359\n",
      "Feature: 47, Score: 0.01455\n",
      "Feature: 48, Score: 0.00357\n",
      "Feature: 49, Score: 0.00001\n",
      "Feature: 50, Score: 0.00000\n",
      "Feature: 51, Score: 0.00001\n",
      "Feature: 52, Score: 0.00314\n",
      "Feature: 53, Score: 0.00000\n",
      "Feature: 54, Score: 0.00000\n",
      "Feature: 55, Score: 0.00000\n",
      "Feature: 56, Score: 0.01689\n",
      "Feature: 57, Score: 0.00117\n",
      "Feature: 58, Score: 0.00096\n",
      "Feature: 59, Score: 0.01965\n",
      "Feature: 60, Score: 0.01245\n",
      "Feature: 61, Score: 0.00078\n",
      "Feature: 62, Score: 0.00117\n",
      "Feature: 63, Score: 0.00063\n",
      "Feature: 64, Score: 0.00040\n",
      "Feature: 65, Score: 0.00020\n",
      "Feature: 66, Score: 0.00025\n",
      "Feature: 67, Score: 0.00694\n",
      "Feature: 68, Score: 0.00797\n",
      "Feature: 69, Score: 0.07920\n",
      "Feature: 70, Score: 0.00815\n",
      "Feature: 71, Score: 0.00811\n",
      "Feature: 72, Score: 0.00848\n",
      "Feature: 73, Score: 0.00191\n",
      "Feature: 74, Score: 0.02682\n",
      "Feature: 75, Score: 0.00000\n",
      "Feature: 76, Score: 0.00000\n",
      "Feature: 77, Score: 0.00001\n",
      "Feature: 78, Score: 0.00001\n",
      "Feature: 79, Score: 0.00019\n",
      "Feature: 80, Score: 0.00010\n",
      "Feature: 81, Score: 0.00016\n",
      "Feature: 82, Score: 0.00005\n"
     ]
    },
    {
     "data": {
      "text/plain": "<Figure size 432x288 with 1 Axes>",
      "image/png": "[encoded data removed]"
     },
     "metadata": {
      "needs_background": "light"
     },
     "output_type": "display_data"
    }
   ],
   "source": [
    "importance = rf_balance_model.feature_importances_\n",
    "# summarize feature importance\n",
    "for i,v in enumerate(importance):\n",
    " print('Feature: %0d, Score: %.5f' % (i, v))\n",
    "# plot feature importance\n",
    "plt.bar([x for x in range(len(importance))], importance)\n",
    "plt.show()"
   ],
   "metadata": {
    "collapsed": false
   }
  },
  {
   "cell_type": "markdown",
   "source": [
    "## BAYESIAN NETWORK\n",
    "\n",
    "### DATASET SBILANCIATO\n",
    "\n",
    "#### GAUSSIAN NAIVE BAYES"
   ],
   "metadata": {
    "collapsed": false
   }
  },
  {
   "cell_type": "code",
   "execution_count": 15,
   "outputs": [
    {
     "name": "stdout",
     "output_type": "stream",
     "text": [
      "INIZIO ADDESTRAMENTO BAYESIAN NETWORK\n",
      "L'addestramento della bayesian network ha impiegato 2.6586413383483887 secondi\n",
      "SALVATAGGIO MODELLO IN ../exported_model/gnd_unbalance.pkl\n"
     ]
    }
   ],
   "source": [
    "try:\n",
    "    with open(f\"{EXPORTED_MODEL}/gnb_unbalance.pkl\", 'rb') as file:\n",
    "        print(\"CARICAMENTO MODELLO DA ../exported_model/gnb_unbalance.pkl\")\n",
    "\n",
    "        gnb_model = pkl.load(file)\n",
    "except IOError:\n",
    "    gnb = GaussianNB()\n",
    "    start_time = time.time()\n",
    "\n",
    "    print(\"INIZIO ADDESTRAMENTO BAYESIAN NETWORK\")\n",
    "    gnb_model = gnb.fit(X_train, y_train)\n",
    "\n",
    "    print(f\"L'addestramento della bayesian network ha impiegato {time.time() - start_time} secondi\")\n",
    "\n",
    "    print(\"SALVATAGGIO MODELLO IN ../exported_model/gnd_unbalance.pkl\")\n",
    "    with open(f\"{EXPORTED_MODEL}/gnb_unbalance.pkl\", 'wb') as file:\n",
    "        pkl.dump(gnb_model, file)"
   ],
   "metadata": {
    "collapsed": false
   }
  },
  {
   "cell_type": "markdown",
   "source": [
    "##### VALUTAZIONE MODELLO"
   ],
   "metadata": {
    "collapsed": false
   }
  },
  {
   "cell_type": "code",
   "execution_count": 16,
   "outputs": [
    {
     "name": "stdout",
     "output_type": "stream",
     "text": [
      "Precision in training phase: 0.07745593859349012\n",
      "Precision in testing phase: 0.07740278216882707\n"
     ]
    }
   ],
   "source": [
    "print(f\"Precision in training phase: {gnb_model.score(X_train, y_train)}\")\n",
    "print(f\"Precision in testing phase: {gnb_model.score(X_test, y_test)}\")"
   ],
   "metadata": {
    "collapsed": false
   }
  },
  {
   "cell_type": "markdown",
   "source": [
    "##### FEATURES IMPORTANCE/DIMENSIONAL REDUCTION"
   ],
   "metadata": {
    "collapsed": false
   }
  },
  {
   "cell_type": "code",
   "execution_count": null,
   "outputs": [],
   "source": [
    "importance = permutation_importance(gnb_model, X_train, y_train)"
   ],
   "metadata": {
    "collapsed": false,
    "pycharm": {
     "is_executing": true
    }
   }
  },
  {
   "cell_type": "code",
   "execution_count": 22,
   "outputs": [
    {
     "name": "stdout",
     "output_type": "stream",
     "text": [
      "Feature: 0, Score: 0.00000\n",
      "Feature: 1, Score: 0.00000\n",
      "Feature: 2, Score: 0.00000\n",
      "Feature: 3, Score: 0.00000\n",
      "Feature: 4, Score: 0.00000\n",
      "Feature: 5, Score: 0.00000\n",
      "Feature: 6, Score: 0.00000\n",
      "Feature: 7, Score: 0.00000\n",
      "Feature: 8, Score: 0.00000\n",
      "Feature: 9, Score: 0.00000\n",
      "Feature: 10, Score: 0.00000\n",
      "Feature: 11, Score: 0.00000\n",
      "Feature: 12, Score: 0.00000\n",
      "Feature: 13, Score: 0.00000\n",
      "Feature: 14, Score: 0.00000\n",
      "Feature: 15, Score: 0.00000\n",
      "Feature: 16, Score: 0.00000\n",
      "Feature: 17, Score: 0.00000\n",
      "Feature: 18, Score: 0.00000\n",
      "Feature: 19, Score: 0.00000\n",
      "Feature: 20, Score: 0.00000\n",
      "Feature: 21, Score: -0.00286\n",
      "Feature: 22, Score: -0.00788\n",
      "Feature: 23, Score: 0.00000\n",
      "Feature: 24, Score: 0.00000\n",
      "Feature: 25, Score: 0.00000\n",
      "Feature: 26, Score: -0.00108\n",
      "Feature: 27, Score: -0.00636\n",
      "Feature: 28, Score: 0.00000\n",
      "Feature: 29, Score: 0.00000\n",
      "Feature: 30, Score: 0.00000\n",
      "Feature: 31, Score: -0.00090\n",
      "Feature: 32, Score: -0.00523\n",
      "Feature: 33, Score: 0.00000\n",
      "Feature: 34, Score: 0.00000\n",
      "Feature: 35, Score: 0.00000\n",
      "Feature: 36, Score: 0.00000\n",
      "Feature: 37, Score: 0.00000\n",
      "Feature: 38, Score: 0.00000\n",
      "Feature: 39, Score: 0.00000\n",
      "Feature: 40, Score: 0.00000\n",
      "Feature: 41, Score: 0.00000\n",
      "Feature: 42, Score: 0.00000\n",
      "Feature: 43, Score: 0.00000\n",
      "Feature: 44, Score: 0.00000\n",
      "Feature: 45, Score: 0.00000\n",
      "Feature: 46, Score: 0.00000\n",
      "Feature: 47, Score: 0.00000\n",
      "Feature: 48, Score: 0.00000\n",
      "Feature: 49, Score: 0.00000\n",
      "Feature: 50, Score: 0.00000\n",
      "Feature: 51, Score: 0.00000\n",
      "Feature: 52, Score: 0.00000\n",
      "Feature: 53, Score: 0.00000\n",
      "Feature: 54, Score: 0.00000\n",
      "Feature: 55, Score: 0.00000\n",
      "Feature: 56, Score: 0.00000\n",
      "Feature: 57, Score: 0.00000\n",
      "Feature: 58, Score: 0.00000\n",
      "Feature: 59, Score: 0.00000\n",
      "Feature: 60, Score: 0.00000\n",
      "Feature: 61, Score: 0.00000\n",
      "Feature: 62, Score: 0.00000\n",
      "Feature: 63, Score: 0.00000\n",
      "Feature: 64, Score: 0.00000\n",
      "Feature: 65, Score: 0.00000\n",
      "Feature: 66, Score: 0.00000\n",
      "Feature: 67, Score: 0.00000\n",
      "Feature: 68, Score: 0.00000\n",
      "Feature: 69, Score: 0.00000\n",
      "Feature: 70, Score: 0.00000\n",
      "Feature: 71, Score: 0.00000\n",
      "Feature: 72, Score: 0.00000\n",
      "Feature: 73, Score: 0.00000\n",
      "Feature: 74, Score: 0.00000\n",
      "Feature: 75, Score: 0.00000\n",
      "Feature: 76, Score: -0.00000\n",
      "Feature: 77, Score: 0.00000\n",
      "Feature: 78, Score: 0.00000\n",
      "Feature: 79, Score: 0.00045\n",
      "Feature: 80, Score: -0.00168\n",
      "Feature: 81, Score: 0.00000\n",
      "Feature: 82, Score: 0.00000\n"
     ]
    },
    {
     "data": {
      "text/plain": "<Figure size 432x288 with 1 Axes>",
      "image/png": "[encoded data removed]"
     },
     "metadata": {
      "needs_background": "light"
     },
     "output_type": "display_data"
    }
   ],
   "source": [
    "importance = importance['importances_mean']\n",
    "\n",
    "for i,v in enumerate(importance):\n",
    "    print('Feature: %0d, Score: %.5f' % (i, v))\n",
    "\n",
    "#plot feature importance\n",
    "plt.bar([x for x in range(len(importance))], importance)\n",
    "plt.show()"
   ],
   "metadata": {
    "collapsed": false
   }
  },
  {
   "cell_type": "markdown",
   "source": [
    "#### BERNOULLI NAIVE BAYES"
   ],
   "metadata": {
    "collapsed": false
   }
  },
  {
   "cell_type": "code",
   "execution_count": 24,
   "outputs": [
    {
     "name": "stdout",
     "output_type": "stream",
     "text": [
      "INIZIO ADDESTRAMENTO BAYESIAN NETWORK\n",
      "L'addestramento della bayesian network ha impiegato 1.9755268096923828 secondi\n",
      "SALVATAGGIO MODELLO IN ../exported_model/bnd_unbalance.pkl\n"
     ]
    }
   ],
   "source": [
    "try:\n",
    "    with open(f\"{EXPORTED_MODEL}/bnb_unbalance.pkl\", 'rb') as file:\n",
    "        print(\"CARICAMENTO MODELLO DA ../exported_model/bnb_unbalance.pkl\")\n",
    "\n",
    "        bnb_model = pkl.load(file)\n",
    "except IOError:\n",
    "    bnb = BernoulliNB()\n",
    "    start_time = time.time()\n",
    "\n",
    "    print(\"INIZIO ADDESTRAMENTO BAYESIAN NETWORK\")\n",
    "    bnb_model = bnb.fit(X_train, y_train)\n",
    "\n",
    "    print(f\"L'addestramento della bayesian network ha impiegato {time.time() - start_time} secondi\")\n",
    "\n",
    "    print(\"SALVATAGGIO MODELLO IN ../exported_model/bnd_unbalance.pkl\")\n",
    "    with open(f\"{EXPORTED_MODEL}/bnb_unbalance.pkl\", 'wb') as file:\n",
    "        pkl.dump(bnb_model, file)"
   ],
   "metadata": {
    "collapsed": false
   }
  },
  {
   "cell_type": "markdown",
   "source": [
    "##### VALUTAZIONE MODELLO"
   ],
   "metadata": {
    "collapsed": false
   }
  },
  {
   "cell_type": "code",
   "execution_count": 25,
   "outputs": [
    {
     "name": "stdout",
     "output_type": "stream",
     "text": [
      "Precision in training phase: 0.9655088021191479\n",
      "Precision in testing phase: 0.965973759089472\n"
     ]
    }
   ],
   "source": [
    "print(f\"Precision in training phase: {bnb_model.score(X_train, y_train)}\")\n",
    "print(f\"Precision in testing phase: {bnb_model.score(X_test, y_test)}\")"
   ],
   "metadata": {
    "collapsed": false
   }
  },
  {
   "cell_type": "markdown",
   "source": [
    "##### FEATURES IMPORTANCE/DIMENSIONAL REDUCTION"
   ],
   "metadata": {
    "collapsed": false
   }
  },
  {
   "cell_type": "code",
   "execution_count": 27,
   "outputs": [],
   "source": [
    "importance = permutation_importance(bnb_model, X_train, y_train)"
   ],
   "metadata": {
    "collapsed": false
   }
  },
  {
   "cell_type": "code",
   "execution_count": 28,
   "outputs": [
    {
     "name": "stdout",
     "output_type": "stream",
     "text": [
      "Feature: 0, Score: 0.00000\n",
      "Feature: 1, Score: -0.00000\n",
      "Feature: 2, Score: 0.00000\n",
      "Feature: 3, Score: -0.00000\n",
      "Feature: 4, Score: -0.00000\n",
      "Feature: 5, Score: 0.00000\n",
      "Feature: 6, Score: 0.00023\n",
      "Feature: 7, Score: 0.00000\n",
      "Feature: 8, Score: -0.01490\n",
      "Feature: 9, Score: -0.00065\n",
      "Feature: 10, Score: -0.01435\n",
      "Feature: 11, Score: -0.00065\n",
      "Feature: 12, Score: -0.00227\n",
      "Feature: 13, Score: -0.00065\n",
      "Feature: 14, Score: -0.00629\n",
      "Feature: 15, Score: -0.01435\n",
      "Feature: 16, Score: -0.01310\n",
      "Feature: 17, Score: -0.01435\n",
      "Feature: 18, Score: -0.00549\n",
      "Feature: 19, Score: 0.00014\n",
      "Feature: 20, Score: 0.00023\n",
      "Feature: 21, Score: 0.00006\n",
      "Feature: 22, Score: -0.01029\n",
      "Feature: 23, Score: 0.00006\n",
      "Feature: 24, Score: 0.00006\n",
      "Feature: 25, Score: 0.00014\n",
      "Feature: 26, Score: 0.00014\n",
      "Feature: 27, Score: -0.00593\n",
      "Feature: 28, Score: 0.00014\n",
      "Feature: 29, Score: 0.00014\n",
      "Feature: 30, Score: -0.00694\n",
      "Feature: 31, Score: -0.00694\n",
      "Feature: 32, Score: -0.00541\n",
      "Feature: 33, Score: -0.00694\n",
      "Feature: 34, Score: -0.00714\n",
      "Feature: 35, Score: -0.00035\n",
      "Feature: 36, Score: 0.00000\n",
      "Feature: 37, Score: 0.00000\n",
      "Feature: 38, Score: 0.00000\n",
      "Feature: 39, Score: -0.00000\n",
      "Feature: 40, Score: -0.01490\n",
      "Feature: 41, Score: 0.00023\n",
      "Feature: 42, Score: -0.01490\n",
      "Feature: 43, Score: -0.00235\n",
      "Feature: 44, Score: -0.00060\n",
      "Feature: 45, Score: -0.00060\n",
      "Feature: 46, Score: -0.01401\n",
      "Feature: 47, Score: -0.01401\n",
      "Feature: 48, Score: -0.00576\n",
      "Feature: 49, Score: -0.00035\n",
      "Feature: 50, Score: -0.00000\n",
      "Feature: 51, Score: -0.00138\n",
      "Feature: 52, Score: 0.00046\n",
      "Feature: 53, Score: -0.00049\n",
      "Feature: 54, Score: 0.00000\n",
      "Feature: 55, Score: -0.00000\n",
      "Feature: 56, Score: -0.01360\n",
      "Feature: 57, Score: -0.00060\n",
      "Feature: 58, Score: -0.00065\n",
      "Feature: 59, Score: -0.01435\n",
      "Feature: 60, Score: -0.00000\n",
      "Feature: 61, Score: -0.00063\n",
      "Feature: 62, Score: -0.00063\n",
      "Feature: 63, Score: -0.00063\n",
      "Feature: 64, Score: -0.00162\n",
      "Feature: 65, Score: -0.00162\n",
      "Feature: 66, Score: -0.00162\n",
      "Feature: 67, Score: 0.00000\n",
      "Feature: 68, Score: -0.00065\n",
      "Feature: 69, Score: -0.01490\n",
      "Feature: 70, Score: -0.01435\n",
      "Feature: 71, Score: -0.00038\n",
      "Feature: 72, Score: -0.00649\n",
      "Feature: 73, Score: -0.00195\n",
      "Feature: 74, Score: -0.00000\n",
      "Feature: 75, Score: -0.00088\n",
      "Feature: 76, Score: -0.00059\n",
      "Feature: 77, Score: -0.00088\n",
      "Feature: 78, Score: -0.00088\n",
      "Feature: 79, Score: -0.00170\n",
      "Feature: 80, Score: -0.00148\n",
      "Feature: 81, Score: -0.00170\n",
      "Feature: 82, Score: -0.00170\n"
     ]
    },
    {
     "data": {
      "text/plain": "<Figure size 432x288 with 1 Axes>",
      "image/png": "[encoded data removed]"
     },
     "metadata": {
      "needs_background": "light"
     },
     "output_type": "display_data"
    }
   ],
   "source": [
    "importance = importance['importances_mean']\n",
    "\n",
    "for i,v in enumerate(importance):\n",
    "    print('Feature: %0d, Score: %.5f' % (i, v))\n",
    "\n",
    "#plot feature importance\n",
    "plt.bar([x for x in range(len(importance))], importance)\n",
    "plt.show()"
   ],
   "metadata": {
    "collapsed": false
   }
  },
  {
   "cell_type": "markdown",
   "source": [
    "### DATASET BILANCIATO\n",
    "\n",
    "#### GAUSSIAN NAIVE BAYES"
   ],
   "metadata": {
    "collapsed": false
   }
  },
  {
   "cell_type": "code",
   "execution_count": 29,
   "outputs": [
    {
     "name": "stdout",
     "output_type": "stream",
     "text": [
      "INIZIO ADDESTRAMENTO BAYESIAN NETWORK\n",
      "L'addestramento della bayesian network ha impiegato 5.910062789916992 secondi\n",
      "SALVATAGGIO MODELLO IN ../exported_model/gnd_balance.pkl\n"
     ]
    }
   ],
   "source": [
    "try:\n",
    "    with open(f\"{EXPORTED_MODEL}/gnb_balance.pkl\", 'rb') as file:\n",
    "        print(\"CARICAMENTO MODELLO DA ../exported_model/gnb_balance.pkl\")\n",
    "\n",
    "        gnb_balance_model = pkl.load(file)\n",
    "except IOError:\n",
    "    gnb = GaussianNB()\n",
    "    start_time = time.time()\n",
    "\n",
    "    print(\"INIZIO ADDESTRAMENTO BAYESIAN NETWORK\")\n",
    "    gnb_balance_model = gnb.fit(X_train_balanced, y_train_balanced)\n",
    "\n",
    "    print(f\"L'addestramento della bayesian network ha impiegato {time.time() - start_time} secondi\")\n",
    "\n",
    "    print(\"SALVATAGGIO MODELLO IN ../exported_model/gnd_balance.pkl\")\n",
    "    with open(f\"{EXPORTED_MODEL}/gnb_balance.pkl\", 'wb') as file:\n",
    "        pkl.dump(gnb_balance_model, file)"
   ],
   "metadata": {
    "collapsed": false
   }
  },
  {
   "cell_type": "markdown",
   "source": [
    "##### VALUTAZIONE MODELLO"
   ],
   "metadata": {
    "collapsed": false
   }
  },
  {
   "cell_type": "code",
   "execution_count": 31,
   "outputs": [
    {
     "name": "stdout",
     "output_type": "stream",
     "text": [
      "Precision in training phase: 0.5112647230095729\n",
      "Precision in testing phase(unbalance): 0.07740278216882707\n",
      "Precision in testing phase(balance): 0.51143284069363\n"
     ]
    }
   ],
   "source": [
    "print(f\"Precision in training phase: {gnb_balance_model.score(X_train_balanced, y_train_balanced)}\")\n",
    "print(f\"Precision in testing phase(unbalance): {gnb_model.score(X_test, y_test)}\")\n",
    "print(f\"Precision in testing phase(balance): {gnb_balance_model.score(X_test_balanced, y_test_balanced)}\")"
   ],
   "metadata": {
    "collapsed": false
   }
  },
  {
   "cell_type": "markdown",
   "source": [
    "##### FEATURES IMPORTANCE/DIMENSIONAL REDUCTION"
   ],
   "metadata": {
    "collapsed": false
   }
  },
  {
   "cell_type": "code",
   "execution_count": 33,
   "outputs": [],
   "source": [
    "importance = permutation_importance(gnb_balance_model, X_train_balanced, y_train_balanced)"
   ],
   "metadata": {
    "collapsed": false
   }
  },
  {
   "cell_type": "code",
   "execution_count": 34,
   "outputs": [
    {
     "name": "stdout",
     "output_type": "stream",
     "text": [
      "Feature: 0, Score: 0.00000\n",
      "Feature: 1, Score: 0.00000\n",
      "Feature: 2, Score: 0.00000\n",
      "Feature: 3, Score: 0.00000\n",
      "Feature: 4, Score: 0.00000\n",
      "Feature: 5, Score: 0.00000\n",
      "Feature: 6, Score: 0.00000\n",
      "Feature: 7, Score: 0.00000\n",
      "Feature: 8, Score: 0.00000\n",
      "Feature: 9, Score: 0.00000\n",
      "Feature: 10, Score: 0.00000\n",
      "Feature: 11, Score: 0.00000\n",
      "Feature: 12, Score: 0.00000\n",
      "Feature: 13, Score: 0.00000\n",
      "Feature: 14, Score: 0.00000\n",
      "Feature: 15, Score: 0.00000\n",
      "Feature: 16, Score: 0.00000\n",
      "Feature: 17, Score: 0.00000\n",
      "Feature: 18, Score: 0.00000\n",
      "Feature: 19, Score: 0.00000\n",
      "Feature: 20, Score: 0.00000\n",
      "Feature: 21, Score: 0.00002\n",
      "Feature: 22, Score: 0.00134\n",
      "Feature: 23, Score: 0.00000\n",
      "Feature: 24, Score: 0.00000\n",
      "Feature: 25, Score: 0.00000\n",
      "Feature: 26, Score: 0.00001\n",
      "Feature: 27, Score: 0.00023\n",
      "Feature: 28, Score: 0.00000\n",
      "Feature: 29, Score: 0.00000\n",
      "Feature: 30, Score: 0.00000\n",
      "Feature: 31, Score: 0.00003\n",
      "Feature: 32, Score: 0.00006\n",
      "Feature: 33, Score: 0.00000\n",
      "Feature: 34, Score: 0.00000\n",
      "Feature: 35, Score: 0.00000\n",
      "Feature: 36, Score: 0.00000\n",
      "Feature: 37, Score: 0.00000\n",
      "Feature: 38, Score: 0.00000\n",
      "Feature: 39, Score: 0.00000\n",
      "Feature: 40, Score: 0.00000\n",
      "Feature: 41, Score: 0.00000\n",
      "Feature: 42, Score: 0.00000\n",
      "Feature: 43, Score: 0.00000\n",
      "Feature: 44, Score: 0.00000\n",
      "Feature: 45, Score: 0.00000\n",
      "Feature: 46, Score: 0.00000\n",
      "Feature: 47, Score: 0.00000\n",
      "Feature: 48, Score: 0.00000\n",
      "Feature: 49, Score: 0.00000\n",
      "Feature: 50, Score: 0.00000\n",
      "Feature: 51, Score: 0.00000\n",
      "Feature: 52, Score: 0.00000\n",
      "Feature: 53, Score: 0.00000\n",
      "Feature: 54, Score: 0.00000\n",
      "Feature: 55, Score: 0.00000\n",
      "Feature: 56, Score: 0.00000\n",
      "Feature: 57, Score: 0.00000\n",
      "Feature: 58, Score: 0.00000\n",
      "Feature: 59, Score: 0.00000\n",
      "Feature: 60, Score: 0.00000\n",
      "Feature: 61, Score: 0.00000\n",
      "Feature: 62, Score: 0.00000\n",
      "Feature: 63, Score: 0.00000\n",
      "Feature: 64, Score: 0.00000\n",
      "Feature: 65, Score: 0.00000\n",
      "Feature: 66, Score: 0.00000\n",
      "Feature: 67, Score: 0.00000\n",
      "Feature: 68, Score: 0.00000\n",
      "Feature: 69, Score: 0.00000\n",
      "Feature: 70, Score: 0.00000\n",
      "Feature: 71, Score: 0.00000\n",
      "Feature: 72, Score: 0.00000\n",
      "Feature: 73, Score: 0.00000\n",
      "Feature: 74, Score: 0.00000\n",
      "Feature: 75, Score: 0.00000\n",
      "Feature: 76, Score: 0.00002\n",
      "Feature: 77, Score: 0.00000\n",
      "Feature: 78, Score: 0.00000\n",
      "Feature: 79, Score: 0.00384\n",
      "Feature: 80, Score: 0.00015\n",
      "Feature: 81, Score: 0.00000\n",
      "Feature: 82, Score: 0.00000\n"
     ]
    },
    {
     "data": {
      "text/plain": "<Figure size 432x288 with 1 Axes>",
      "image/png": "[encoded data removed]"
     },
     "metadata": {
      "needs_background": "light"
     },
     "output_type": "display_data"
    }
   ],
   "source": [
    "importance = importance['importances_mean']\n",
    "\n",
    "for i,v in enumerate(importance):\n",
    "    print('Feature: %0d, Score: %.5f' % (i, v))\n",
    "\n",
    "#plot feature importance\n",
    "plt.bar([x for x in range(len(importance))], importance)\n",
    "plt.show()"
   ],
   "metadata": {
    "collapsed": false
   }
  },
  {
   "cell_type": "markdown",
   "source": [
    "#### BERNOULLI NAIVE BAYES"
   ],
   "metadata": {
    "collapsed": false
   }
  },
  {
   "cell_type": "code",
   "execution_count": 35,
   "outputs": [
    {
     "name": "stdout",
     "output_type": "stream",
     "text": [
      "INIZIO ADDESTRAMENTO BAYESIAN NETWORK\n",
      "L'addestramento della bayesian network ha impiegato 3.0971438884735107 secondi\n",
      "SALVATAGGIO MODELLO IN ../exported_model/bnd_balance.pkl\n"
     ]
    }
   ],
   "source": [
    "try:\n",
    "    with open(f\"{EXPORTED_MODEL}/bnb_balance.pkl\", 'rb') as file:\n",
    "        print(\"CARICAMENTO MODELLO DA ../exported_model/bnb_balance.pkl\")\n",
    "\n",
    "        bnb_balance_model = pkl.load(file)\n",
    "except IOError:\n",
    "    bnb = BernoulliNB()\n",
    "    start_time = time.time()\n",
    "\n",
    "    print(\"INIZIO ADDESTRAMENTO BAYESIAN NETWORK\")\n",
    "    bnb_balance_model = bnb.fit(X_train_balanced, y_train_balanced)\n",
    "\n",
    "    print(f\"L'addestramento della bayesian network ha impiegato {time.time() - start_time} secondi\")\n",
    "\n",
    "    print(\"SALVATAGGIO MODELLO IN ../exported_model/bnd_balance.pkl\")\n",
    "    with open(f\"{EXPORTED_MODEL}/bnb_balance.pkl\", 'wb') as file:\n",
    "        pkl.dump(bnb_balance_model, file)"
   ],
   "metadata": {
    "collapsed": false
   }
  },
  {
   "cell_type": "markdown",
   "source": [
    "##### VALUTAZIONE MODELLO"
   ],
   "metadata": {
    "collapsed": false
   }
  },
  {
   "cell_type": "code",
   "execution_count": 36,
   "outputs": [
    {
     "name": "stdout",
     "output_type": "stream",
     "text": [
      "Precision in training phase: 0.9320837113065356\n",
      "Precision in testing phase(unbalance): 0.965973759089472\n",
      "Precision in testing phase(balance): 0.9334109753596437\n"
     ]
    }
   ],
   "source": [
    "print(f\"Precision in training phase: {bnb_balance_model.score(X_train_balanced, y_train_balanced)}\")\n",
    "print(f\"Precision in testing phase(unbalance): {bnb_model.score(X_test, y_test)}\")\n",
    "print(f\"Precision in testing phase(balance): {bnb_balance_model.score(X_test_balanced, y_test_balanced)}\")"
   ],
   "metadata": {
    "collapsed": false
   }
  },
  {
   "cell_type": "markdown",
   "source": [
    "##### FEATURES IMPORTANCE/DIMENSIONAL REDUCTION"
   ],
   "metadata": {
    "collapsed": false
   }
  },
  {
   "cell_type": "code",
   "execution_count": 37,
   "outputs": [],
   "source": [
    "importance = permutation_importance(bnb_balance_model, X_train_balanced, y_train_balanced)"
   ],
   "metadata": {
    "collapsed": false
   }
  },
  {
   "cell_type": "code",
   "execution_count": 38,
   "outputs": [
    {
     "name": "stdout",
     "output_type": "stream",
     "text": [
      "Feature: 0, Score: -0.00000\n",
      "Feature: 1, Score: -0.00000\n",
      "Feature: 2, Score: 0.00000\n",
      "Feature: 3, Score: -0.00000\n",
      "Feature: 4, Score: -0.00000\n",
      "Feature: 5, Score: 0.00000\n",
      "Feature: 6, Score: 0.00005\n",
      "Feature: 7, Score: 0.00000\n",
      "Feature: 8, Score: -0.00336\n",
      "Feature: 9, Score: 0.00001\n",
      "Feature: 10, Score: -0.00340\n",
      "Feature: 11, Score: 0.00001\n",
      "Feature: 12, Score: 0.00005\n",
      "Feature: 13, Score: 0.00001\n",
      "Feature: 14, Score: -0.00124\n",
      "Feature: 15, Score: -0.00340\n",
      "Feature: 16, Score: -0.00319\n",
      "Feature: 17, Score: -0.00340\n",
      "Feature: 18, Score: 0.00005\n",
      "Feature: 19, Score: -0.00136\n",
      "Feature: 20, Score: 0.00005\n",
      "Feature: 21, Score: -0.00148\n",
      "Feature: 22, Score: -0.00059\n",
      "Feature: 23, Score: -0.00148\n",
      "Feature: 24, Score: -0.00061\n",
      "Feature: 25, Score: -0.00072\n",
      "Feature: 26, Score: -0.00072\n",
      "Feature: 27, Score: 0.00019\n",
      "Feature: 28, Score: -0.00072\n",
      "Feature: 29, Score: -0.00078\n",
      "Feature: 30, Score: 0.00026\n",
      "Feature: 31, Score: 0.00026\n",
      "Feature: 32, Score: 0.00037\n",
      "Feature: 33, Score: 0.00026\n",
      "Feature: 34, Score: -0.00160\n",
      "Feature: 35, Score: 0.00001\n",
      "Feature: 36, Score: 0.00000\n",
      "Feature: 37, Score: 0.00000\n",
      "Feature: 38, Score: 0.00000\n",
      "Feature: 39, Score: 0.00000\n",
      "Feature: 40, Score: -0.00348\n",
      "Feature: 41, Score: 0.00005\n",
      "Feature: 42, Score: -0.00352\n",
      "Feature: 43, Score: 0.00006\n",
      "Feature: 44, Score: 0.00001\n",
      "Feature: 45, Score: 0.00001\n",
      "Feature: 46, Score: -0.00631\n",
      "Feature: 47, Score: -0.00631\n",
      "Feature: 48, Score: 0.00077\n",
      "Feature: 49, Score: 0.00001\n",
      "Feature: 50, Score: -0.00000\n",
      "Feature: 51, Score: 0.00003\n",
      "Feature: 52, Score: 0.00097\n",
      "Feature: 53, Score: 0.00012\n",
      "Feature: 54, Score: 0.00000\n",
      "Feature: 55, Score: -0.00000\n",
      "Feature: 56, Score: -0.00329\n",
      "Feature: 57, Score: 0.00001\n",
      "Feature: 58, Score: 0.00001\n",
      "Feature: 59, Score: -0.00340\n",
      "Feature: 60, Score: 0.00000\n",
      "Feature: 61, Score: 0.00000\n",
      "Feature: 62, Score: 0.00000\n",
      "Feature: 63, Score: 0.00000\n",
      "Feature: 64, Score: 0.00001\n",
      "Feature: 65, Score: 0.00001\n",
      "Feature: 66, Score: 0.00001\n",
      "Feature: 67, Score: 0.00000\n",
      "Feature: 68, Score: 0.00001\n",
      "Feature: 69, Score: -0.00336\n",
      "Feature: 70, Score: -0.00338\n",
      "Feature: 71, Score: 0.00113\n",
      "Feature: 72, Score: 0.00006\n",
      "Feature: 73, Score: 0.00010\n",
      "Feature: 74, Score: 0.00000\n",
      "Feature: 75, Score: -0.00004\n",
      "Feature: 76, Score: -0.00004\n",
      "Feature: 77, Score: -0.00004\n",
      "Feature: 78, Score: -0.00004\n",
      "Feature: 79, Score: 0.00005\n",
      "Feature: 80, Score: 0.00008\n",
      "Feature: 81, Score: 0.00005\n",
      "Feature: 82, Score: 0.00005\n"
     ]
    },
    {
     "data": {
      "text/plain": "<Figure size 432x288 with 1 Axes>",
      "image/png": "[encoded data removed]"
     },
     "metadata": {
      "needs_background": "light"
     },
     "output_type": "display_data"
    }
   ],
   "source": [
    "importance = importance['importances_mean']\n",
    "\n",
    "for i,v in enumerate(importance):\n",
    "    print('Feature: %0d, Score: %.5f' % (i, v))\n",
    "\n",
    "#plot feature importance\n",
    "plt.bar([x for x in range(len(importance))], importance)\n",
    "plt.show()"
   ],
   "metadata": {
    "collapsed": false
   }
  },
  {
   "cell_type": "markdown",
   "source": [
    "## K NEAREST NEIGHBORS\n",
    "\n",
    "### DATASET SBILANCIATO"
   ],
   "metadata": {
    "collapsed": false
   }
  },
  {
   "cell_type": "code",
   "execution_count": 6,
   "outputs": [
    {
     "name": "stdout",
     "output_type": "stream",
     "text": [
      "CARICAMENTO MODELLO DA ../exported_model/knn_unbalance.pkl\n"
     ]
    }
   ],
   "source": [
    "try:\n",
    "    with open(f\"{EXPORTED_MODEL}/knn_unbalance.pkl\", 'rb') as file:\n",
    "        print(\"CARICAMENTO MODELLO DA ../exported_model/knn_unbalance.pkl\")\n",
    "\n",
    "        knn_model = pkl.load(file)\n",
    "except IOError:\n",
    "    knn = KNeighborsClassifier()\n",
    "    start_time = time.time()\n",
    "\n",
    "    print(\"INIZIO ADDESTRAMENTO DECISION TREE\")\n",
    "    knn_model = knn.fit(X_train, y_train)\n",
    "\n",
    "    print(f\"L'addestramento de k nearest neighbors ha impiegato {time.time() - start_time} secondi\")\n",
    "\n",
    "    print(\"SALVATAGGIO MODELLO IN ../exported_model/knn_unbalance.pkl\")\n",
    "    with open(f\"{EXPORTED_MODEL}/knn_unbalance.pkl\", 'wb') as file:\n",
    "        pkl.dump(knn_model, file)"
   ],
   "metadata": {
    "collapsed": false
   }
  },
  {
   "cell_type": "markdown",
   "source": [
    "#### VALUTAZIONE MODELLO"
   ],
   "metadata": {
    "collapsed": false
   }
  },
  {
   "cell_type": "code",
   "execution_count": 10,
   "outputs": [
    {
     "name": "stdout",
     "output_type": "stream",
     "text": [
      "Precision in training phase: 0.9960655526687511\n",
      "Precision in testing phase: 0.9946905627568764\n"
     ]
    }
   ],
   "source": [
    "print(f\"Precision in training phase: {knn_model.score(X_train, y_train)}\")\n",
    "print(f\"Precision in testing phase: {knn_model.score(X_test, y_test)}\")"
   ],
   "metadata": {
    "collapsed": false
   }
  },
  {
   "cell_type": "markdown",
   "source": [
    "#### FEATURES IMPORTANCE/DIMENSIONAL REDUCTION"
   ],
   "metadata": {
    "collapsed": false
   }
  },
  {
   "cell_type": "code",
   "execution_count": null,
   "outputs": [],
   "source": [
    "importance = permutation_importance(knn_model, X_train, y_train)"
   ],
   "metadata": {
    "collapsed": false,
    "pycharm": {
     "is_executing": true
    }
   }
  },
  {
   "cell_type": "code",
   "execution_count": null,
   "outputs": [],
   "source": [
    "importance = importance['importances_mean']\n",
    "\n",
    "for i,v in enumerate(importance):\n",
    "    print('Feature: %0d, Score: %.5f' % (i, v))\n",
    "\n",
    "#plot feature importance\n",
    "plt.bar([x for x in range(len(importance))], importance)\n",
    "plt.show()"
   ],
   "metadata": {
    "collapsed": false
   }
  },
  {
   "cell_type": "markdown",
   "source": [
    "### DATASET BILANCIATO"
   ],
   "metadata": {
    "collapsed": false
   }
  },
  {
   "cell_type": "code",
   "execution_count": null,
   "outputs": [],
   "source": [
    "try:\n",
    "    with open(f\"{EXPORTED_MODEL}/knn_balance.pkl\", 'rb') as file:\n",
    "        print(\"CARICAMENTO MODELLO DA ../exported_model/knn_balance.pkl\")\n",
    "\n",
    "        knn_balance_model = pkl.load(file)\n",
    "except IOError:\n",
    "    knn = KNeighborsClassifier()\n",
    "    start_time = time.time()\n",
    "\n",
    "    print(\"INIZIO ADDESTRAMENTO DECISION TREE\")\n",
    "    knn_balance_model = knn.fit(X_train, y_train)\n",
    "\n",
    "    print(f\"L'addestramento de k nearest neighbors ha impiegato {time.time() - start_time} secondi\")\n",
    "\n",
    "    print(\"SALVATAGGIO MODELLO IN ../exported_model/knn_balance.pkl\")\n",
    "    with open(f\"{EXPORTED_MODEL}/knn_balance.pkl\", 'wb') as file:\n",
    "        pkl.dump(knn_balance_model, file)"
   ],
   "metadata": {
    "collapsed": false
   }
  },
  {
   "cell_type": "markdown",
   "source": [
    "#### VALUTAZIONE MODELLO"
   ],
   "metadata": {
    "collapsed": false
   }
  },
  {
   "cell_type": "code",
   "execution_count": null,
   "outputs": [],
   "source": [
    "print(f\"Precision in training phase: {knn_balance_model.score(X_train_balanced, y_train_balanced)}\")\n",
    "print(f\"Precision in testing phase(unbalance): {knn_model.score(X_test, y_test)}\")\n",
    "print(f\"Precision in testing phase(balance): {knn_balance_model.score(X_test_balanced, y_test_balanced)}\")"
   ],
   "metadata": {
    "collapsed": false
   }
  },
  {
   "cell_type": "markdown",
   "source": [
    "#### FEATURES IMPORTANCE/DIMENSIONAL REDUCTION"
   ],
   "metadata": {
    "collapsed": false
   }
  },
  {
   "cell_type": "code",
   "execution_count": null,
   "outputs": [],
   "source": [
    "importance = permutation_importance(knn_balance_model, X_train, y_train)"
   ],
   "metadata": {
    "collapsed": false
   }
  },
  {
   "cell_type": "code",
   "execution_count": null,
   "outputs": [],
   "source": [
    "importance = importance['importances_mean']\n",
    "\n",
    "for i,v in enumerate(importance):\n",
    "    print('Feature: %0d, Score: %.5f' % (i, v))\n",
    "\n",
    "#plot feature importance\n",
    "plt.bar([x for x in range(len(importance))], importance)\n",
    "plt.show()"
   ],
   "metadata": {
    "collapsed": false
   }
  },
  {
   "cell_type": "markdown",
   "source": [
    "## NEURAL TREE\n",
    "\n",
    "### DATASET SBILANCIATO"
   ],
   "metadata": {
    "collapsed": false
   }
  },
  {
   "cell_type": "code",
   "execution_count": null,
   "outputs": [],
   "source": [
    "try:\n",
    "    with open(f\"{EXPORTED_MODEL}/nt_unbalance.pkl\", 'rb') as file:\n",
    "        print(\"CARICAMENTO MODELLO DA ../exported_model/nt_unbalance.pkl\")\n",
    "\n",
    "        nt = NeuralTree.load_model(f\"{EXPORTED_MODEL}/nt_unbalance.pkl\")\n",
    "except IOError:\n",
    "    nt = NeuralTree(f\"{DATASET_PATH}/train.csv\", 5)\n",
    "    start_time = time.time()\n",
    "\n",
    "    print(\"INIZIO ADDESTRAMENTO NEURAL TREE\")\n",
    "    nt.train(250, 1)#fit(X_train_balanced, y_train_balanced)\n",
    "\n",
    "    print(f\"L'addestramento della bayesian network ha impiegato {time.time() - start_time} secondi\")\n",
    "\n",
    "    print(\"SALVATAGGIO MODELLO IN ../exported_model/nt_unbalance.pkl\")\n",
    "    nt.save_model(f\"{EXPORTED_MODEL}/nt_unbalance.pkl\")"
   ],
   "metadata": {
    "collapsed": false,
    "pycharm": {
     "is_executing": true
    }
   }
  },
  {
   "cell_type": "markdown",
   "source": [
    "### VALUTAZIONE MODELLO"
   ],
   "metadata": {
    "collapsed": false
   }
  },
  {
   "cell_type": "code",
   "execution_count": null,
   "outputs": [],
   "source": [
    "print(f\"Precision in training phase: {nt.score(X_train, y_train)}\")\n",
    "print(f\"Precision in testing phase: {nt.score(X_test, y_test)}\")"
   ],
   "metadata": {
    "collapsed": false
   }
  },
  {
   "cell_type": "markdown",
   "source": [
    "### FEATURES IMPORTANCE/DIMENSIONAL REDUCTION"
   ],
   "metadata": {
    "collapsed": false
   }
  },
  {
   "cell_type": "code",
   "execution_count": null,
   "outputs": [],
   "source": [
    "importance = permutation_importance(nt, X_train, y_train)"
   ],
   "metadata": {
    "collapsed": false
   }
  },
  {
   "cell_type": "code",
   "execution_count": null,
   "outputs": [],
   "source": [
    "importance = importance['importances_mean']\n",
    "\n",
    "for i,v in enumerate(importance):\n",
    "    print('Feature: %0d, Score: %.5f' % (i, v))\n",
    "\n",
    "#plot feature importance\n",
    "plt.bar([x for x in range(len(importance))], importance)\n",
    "plt.show()"
   ],
   "metadata": {
    "collapsed": false
   }
  },
  {
   "cell_type": "markdown",
   "source": [
    "### DATASET BILANCIATO"
   ],
   "metadata": {
    "collapsed": false
   }
  },
  {
   "cell_type": "code",
   "execution_count": null,
   "outputs": [],
   "source": [
    "try:\n",
    "    with open(f\"{EXPORTED_MODEL}/nt_balance.pkl\", 'rb') as file:\n",
    "        print(\"CARICAMENTO MODELLO DA ../exported_model/nt_balance.pkl\")\n",
    "\n",
    "        nt_balance_model = NeuralTree.load_model(f\"{EXPORTED_MODEL}/nt_balance.pkl\")\n",
    "except IOError:\n",
    "    nt = NeuralTree(f\"{DATASET_PATH}/balanced_train.csv\", 5)\n",
    "    start_time = time.time()\n",
    "\n",
    "    print(\"INIZIO ADDESTRAMENTO NEURAL TREE\")\n",
    "    nt_balance_model = nt.train(500, 0)#fit(X_train_balanced, y_train_balanced)\n",
    "\n",
    "    print(f\"L'addestramento della bayesian network ha impiegato {time.time() - start_time} secondi\")\n",
    "\n",
    "    print(\"SALVATAGGIO MODELLO IN ../exported_model/nt_unbalance.pkl\")\n",
    "    nt_balance_model.save_model(f\"{EXPORTED_MODEL}/nt_balance.pkl\")"
   ],
   "metadata": {
    "collapsed": false,
    "pycharm": {
     "is_executing": true
    }
   }
  },
  {
   "cell_type": "markdown",
   "source": [
    "### VALUTAZIONE MODELLO"
   ],
   "metadata": {
    "collapsed": false
   }
  },
  {
   "cell_type": "code",
   "execution_count": null,
   "outputs": [],
   "source": [
    "print(f\"Precision in training phase: {nt_balance_model.score(X_train_balanced, y_train_balanced)}\")\n",
    "print(f\"Precision in testing phase(unbalance): {nt.score(X_test, y_test)}\")\n",
    "print(f\"Precision in testing phase(balance): {nt_balance_model.score(X_test_balanced, y_test_balanced)}\")"
   ],
   "metadata": {
    "collapsed": false
   }
  },
  {
   "cell_type": "markdown",
   "source": [
    "### FEATURES IMPORTANCE/DIMENSIONAL REDUCTION"
   ],
   "metadata": {
    "collapsed": false
   }
  },
  {
   "cell_type": "code",
   "execution_count": null,
   "outputs": [],
   "source": [
    "importance = permutation_importance(nt_balance_model, X_train, y_train)"
   ],
   "metadata": {
    "collapsed": false
   }
  },
  {
   "cell_type": "code",
   "execution_count": null,
   "outputs": [],
   "source": [
    "importance = importance['importances_mean']\n",
    "\n",
    "for i,v in enumerate(importance):\n",
    "    print('Feature: %0d, Score: %.5f' % (i, v))\n",
    "\n",
    "#plot feature importance\n",
    "plt.bar([x for x in range(len(importance))], importance)\n",
    "plt.show()"
   ],
   "metadata": {
    "collapsed": false
   }
  },
  {
   "cell_type": "markdown",
   "source": [
    "# VALUTAZIONE DEL MODELLO\n",
    "Questa sessione è dedicata all'analisi dei risultati ottenuti dall'analisi dei modelli ottenuti\n",
    "\n",
    "L'addestramento del decision tree ha impiegato 40.68758296966553 secondi"
   ],
   "metadata": {
    "collapsed": false
   }
  },
  {
   "cell_type": "code",
   "execution_count": null,
   "outputs": [],
   "source": [],
   "metadata": {
    "collapsed": false
   }
  },
  {
   "cell_type": "markdown",
   "source": [],
   "metadata": {
    "collapsed": false
   }
  }
 ],
 "metadata": {
  "kernelspec": {
   "display_name": "Python 3",
   "language": "python",
   "name": "python3"
  },
  "language_info": {
   "codemirror_mode": {
    "name": "ipython",
    "version": 2
   },
   "file_extension": ".py",
   "mimetype": "text/x-python",
   "name": "python",
   "nbconvert_exporter": "python",
   "pygments_lexer": "ipython2",
   "version": "2.7.6"
  }
 },
 "nbformat": 4,
 "nbformat_minor": 0
}
