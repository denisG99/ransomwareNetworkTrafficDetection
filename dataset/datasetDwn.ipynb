{
 "cells": [
  {
   "cell_type": "markdown",
   "source": [
    "# ALGORITMO DOWNLOAD PCAP\n",
    "\n",
    "Il download è suddiviso in 5 fasi e sono il frutto di un processo di reverse engineering del processo di download della pagina contenente i pcap files (<a href='http://dataset.tlm.unavarra.es/ransomware/'>unavarra.es</a>).\n",
    "\n",
    "1. ristrutturare json estratto dal sito;\n",
    "2. download pcap files da <a href='https://www.malware-traffic-analysis.net/index.html'>malware-traffic-analysis</a>;\n",
    "3. invio POST dataset.tlm.unavarra.es/ransomware/php/descargar.php;\n",
    "4. acquisire risultato POST;\n",
    "5. download pcap files da <a href='http://dataset.tlm.unavarra.es/download/'>dataset.tlm.unavarra.es/download/</a>."
   ],
   "metadata": {
    "collapsed": false
   }
  },
  {
   "cell_type": "code",
   "execution_count": 93,
   "outputs": [],
   "source": [
    "import os\n",
    "#package per ricostruzione json\n",
    "import json\n",
    "#package per download pcap files\n",
    "import requests as req\n",
    "from bs4 import BeautifulSoup\n",
    "import datetime"
   ],
   "metadata": {
    "collapsed": false,
    "pycharm": {
     "name": "#%%\n"
    }
   }
  },
  {
   "cell_type": "code",
   "execution_count": 83,
   "outputs": [],
   "source": [
    "#LOG string\n",
    "LOG_FAIL = \"\\tDownload failed\"\n",
    "LOG_SUCCESS = \"\\tDownload successfully\"\n",
    "LOG_NOTEXIST = \"\\tFile non exist\""
   ],
   "metadata": {
    "collapsed": false,
    "pycharm": {
     "name": "#%%\n"
    }
   }
  },
  {
   "cell_type": "markdown",
   "source": [
    "## RISTRUTTURAZIONE JSON\n",
    "\n",
    "Il file 'ransom.json' è stato estratto nel momento in cui si carica la pagina il quale contiene un elemento per ciascun sample analizzando il traffico di rete del browser con gli **strumenti da sviluppatore**.\n",
    "<br>\n",
    "<img src=\"./imgMD/response_json_php.png\" width=\"850\"/>\n",
    "<br>\n",
    "Alla fine di questo processo si vuole ottenere sempre un **json ristrutturato** con la seguente struttura in modo da raggruppare i vari sample per classe per poter replicare la struttura all'interno del file system:\n",
    "\n",
    "~~~\n",
    "{\n",
    "    \"famiglia1\":[\n",
    "        {\n",
    "        \"SamplePcap\": \"path\",\n",
    "        \"Hash\": \"file_hash\",\n",
    "        \"Link\": \"URL\",\n",
    "        \"Scenario\": \"NAT o Original\"\n",
    "        },\n",
    "        {\"...\"}\n",
    "    ],\n",
    "\n",
    "    \"faliglia2\": [\"...\"],\n",
    "\n",
    "    \"...\" : [\"...\"],\n",
    "\n",
    "    \"faligliaN\": [\"...\"]\n",
    "}\n",
    "~~~\n",
    "\n",
    "* **SamplePcap**, contiene il percorso dove trovare il pcap file relativo al sample;\n",
    "* **Hash**, contiene l'hash del sample preso in esame;\n",
    "* **Link**, contiene URL dal quale è stato scaricato il binario (lo useremo per velocizzare il processo di download nel caso in cui il binario è stato scaricato da malware-traffic-analysis.net);\n",
    "* **Scenario**, indica lo scenario utilizzato per l'analisi e può prendere due possibili valori: **Original o NAT**. Nel primo si è catturato solo il traffico tra client e server, invece nel secondo è stato catturato anche il traffico tra l'utente e internet.\n",
    "<br>\n",
    "\n",
    "<p align=\"center\"><img src=\"./imgMD/scenario.png\" width=\"850\" align=center></p>\n",
    "<p align=\"center\">http://dataset.tlm.unavarra.es/ransomware/scenario_moreInfo_ioOps.html</p>"
   ],
   "metadata": {
    "collapsed": false,
    "pycharm": {
     "name": "#%% md\n"
    }
   }
  },
  {
   "cell_type": "code",
   "execution_count": 8,
   "outputs": [],
   "source": [
    "def serialize_json(filename, data):\n",
    "    with open(f\"{filename}\", 'w', encoding='utf-8') as f:\n",
    "        json.dump(data, f, ensure_ascii=False, indent=4)\n",
    "        f.close()\n",
    "    print(f\"Data serialized to path: {filename}\")\n",
    "\n",
    "def read_json(path):\n",
    "    if os.path.exists(path):\n",
    "        with open(path, \"r\", encoding=\"utf8\") as file:\n",
    "            data = json.load(file)\n",
    "        print(f\"Data read from path: {path}\")\n",
    "        return data\n",
    "    else:\n",
    "        print(f\"No data found at path: {path}\")\n",
    "        return {}"
   ],
   "metadata": {
    "collapsed": false,
    "pycharm": {
     "name": "#%%\n"
    }
   }
  },
  {
   "cell_type": "code",
   "execution_count": null,
   "outputs": [],
   "source": [
    "samples = \"ransom.json\"\n",
    "samples_dict = read_json(samples)\n",
    "samples_restructured = {}\n",
    "\n",
    "for i in range(len(samples_dict)):\n",
    "    family = samples_dict[str(i)][0]['Family']\n",
    "\n",
    "    if family not in samples_restructured.keys():\n",
    "        samples_restructured[family] = []\n",
    "\n",
    "    sample = {\n",
    "        \"SamplePcap\" : samples_dict[str(i)][0]['SamplePcap'],\n",
    "        \"Hash\" : samples_dict[str(i)][0]['Hash'],\n",
    "        \"Link\" : samples_dict[str(i)][0]['Link'],\n",
    "        \"Scenario\" : samples_dict[str(i)][0]['Scenario']\n",
    "    }\n",
    "\n",
    "    samples_restructured[family].append(sample)\n",
    "\n",
    "serialize_json('ransom_restructured.json', samples_restructured)"
   ],
   "metadata": {
    "collapsed": false,
    "pycharm": {
     "name": "#%%\n",
     "is_executing": true
    }
   }
  },
  {
   "cell_type": "markdown",
   "source": [
    "## DOWNLOAD PCAP FILES\n",
    "\n",
    "In questa fase posso trovarmi in 2 possibbili scenari che variano a seconda della sorgente del file binario. La prima possibilità è che sia stato scaricato da <a href=\"https://www.malware-traffic-analysis.net/index.html\">malware-traffic-analysis.net</a> (da ora lo abbreviamo che MTA), la seconda è <a href=\"https://www.hybrid-analysis.com/\">hybrid-analysis.com</a> (abbreviamo con HA). Per velocizzare il processo di download nel primo caso andiamo a scaricare direttamente i pcap da MTA, invece nel secondo andiamo a scaricare i pcap da <a href=\"http://dataset.tlm.unavarra.es/ransomware/\">univarra.es</a> eseguendo i seguenti passaggi:\n",
    "\n",
    "1. invio POST a *dataset.tlm.unavarra.es/ransomware/php/descargar.php* con i seguenti parametri:\n",
    "   * *tokenDescarga=*;\n",
    "   * *descargarTodo=0*;\n",
    "   * il valore di *sample* varia in base allo scenario in cui mi trovo.\n",
    "2. acquisire la response della POST al *passo 1* in formato. Un esempio di response:\n",
    "    ~~~\n",
    "    {\"name\":\"..\\/downloads\\/39e735642167b365b9546bf9e7cd27d5eb532f75.pcap.gz\"}\n",
    "    ~~~\n",
    "   <br>\n",
    "   La sequesnza di caratteri ha lunhezza fissa (40 caratteri), quidi è sicurante il risultato di una hash. Tale stringa però, a parità di valori degli attributi ad ogni esecuzione il risultato della funzione di hash cambio e ciò vuol dire che realizza un hash aggiunge una stringa che cambia sempre (esegue salting, concatena un timestamp, ...).\n",
    "3. download risorsa (GET) all'indirizzo *dataset.tlm.unavarra.es/download/?*, dove al posto della wildcard (?) ci va il file indicato dalla POST al *passo 2*."
   ],
   "metadata": {
    "collapsed": false
   }
  },
  {
   "cell_type": "markdown",
   "source": [
    "### DOWNLOA PCAP FILES DA MALWARE-TRAFFIC-ANALYSIS.NET\n",
    "\n",
    "Il link per il download della risorsa viene reperito attraverso uno scrapping della pagina web. Dall' analisi dell'html si è notato che il link alla risorsa è un item di una lista presente sia all'inizio e sia alla fine della pagina (per comodità prendiamo la lista iniziale) ed è sempre il primo elemento della lista applicando il seguente filtro: **ul>li** oppure possiamo usare lal classe *menu_link*.\n",
    "<br>\n",
    "Qui di seguito il pezzo di html del sito a cui facciamo riferimento\n",
    "\n",
    "~~~\n",
    "<ul>\n",
    "    <li>\n",
    "        ZIP archive of the pcap:&nbsp;\n",
    "        <a class=\"menu_link\" href=\"2016-12-11-pseudoDarkleech-Rig-V-sends-Cerber-ransomware.pcap.zip\">2016-12-11-pseudoDarkleech-Rig-V-sends-Cerber-ransomware.pcap.zip</a>\n",
    "        &nbsp; 642 kB (642,326 bytes)\n",
    "    </li>\n",
    "</ul>\n",
    "~~~\n",
    "\n",
    "Il link alla fine avrà la seguente struttura: *https://www.malware-traffic-analysis.net/yyyy/mm/dd/nomeRisorsa*\n",
    "<br>\n",
    "Come parser è stato scelto *lxml* per il semplice fatto che non da problemi nel caso in cui il documento non sia ben formato."
   ],
   "metadata": {
    "collapsed": false
   }
  },
  {
   "cell_type": "code",
   "execution_count": 91,
   "outputs": [],
   "source": [
    "def mta_download(url, dest, log_file):\n",
    "    if not dest[-1] == '/':\n",
    "        dest += '/'\n",
    "\n",
    "    if not os.path.exists(dest):\n",
    "        os.makedirs(dest, exist_ok=True)\n",
    "\n",
    "    src = req.get(url).text\n",
    "    soup = BeautifulSoup(src, 'lxml')\n",
    "\n",
    "    name = soup.find('a', class_='menu_link').text\n",
    "\n",
    "    #download pcapFile\n",
    "    pcap_url = url[0 : len(url) - 10] + name\n",
    "    res = req.get(pcap_url)\n",
    "\n",
    "    print(pcap_url)\n",
    "    log_file.write(f'{datetime.datetime.now()} {pcap_url}\\n')\n",
    "    if res.status_code == 200:\n",
    "        print(LOG_SUCCESS)\n",
    "        log_file.write(f'{LOG_SUCCESS}\\n')\n",
    "        with open(f'{dest + name}', 'wb') as pcap:\n",
    "            pcap.write(res.content)\n",
    "    else:\n",
    "        print(LOG_FAIL)\n",
    "        log_file.write(f'{LOG_FAIL}\\n')"
   ],
   "metadata": {
    "collapsed": false,
    "pycharm": {
     "name": "#%%\n"
    }
   }
  },
  {
   "cell_type": "code",
   "execution_count": 94,
   "outputs": [
    {
     "name": "stdout",
     "output_type": "stream",
     "text": [
      "https://www.malware-traffic-analysis.net/2016/12/11/2016-12-11-pseudoDarkleech-Rig-V-sends-Cerber-ransomware.pcap.zip\n",
      "\tDownload successfully\n"
     ]
    }
   ],
   "source": [
    "#TEST\n",
    "with open('download.log', 'a') as log:\n",
    "    mta_download(\"https://www.malware-traffic-analysis.net/2016/12/11/index.html\", 'raw/pcap/test/', log)"
   ],
   "metadata": {
    "collapsed": false,
    "pycharm": {
     "name": "#%%\n"
    }
   }
  },
  {
   "cell_type": "markdown",
   "source": [
    "Nel caso in cui i percorso di destinazione non esiste, la funzione se lo crea automaticamente."
   ],
   "metadata": {
    "collapsed": false
   }
  },
  {
   "cell_type": "markdown",
   "source": [
    "### DOWNLOA PCAP FILES DA UNAVARRA.ES\n",
    "\n",
    "Come accennato in precedenza il download è suddiviso in 3 fasi. Nella POST va a restituire un stringa di 40 caratteri che sarà passato come parametro per la POST attraverso l'attributo *sample*.\n",
    "<br>\n",
    "*sample* conterrà il percorso del sample e ne esistono di due tipi in base allo scenario utilizzato per acquisire il traffico di rete:\n",
    "1. *Scenario* = Original -> trazasOriginal/5GBdirectory/samplesPcap_compress/*SamplePcap*;\n",
    "2. *Scenario* = NAT -> trazasNAT/samplesPcap_compress/*SamplePcap*."
   ],
   "metadata": {
    "collapsed": false
   }
  },
  {
   "cell_type": "code",
   "execution_count": 95,
   "outputs": [],
   "source": [
    "#costruisce valore per attributo sample per la post\n",
    "def build_sample_attr(sample_name, scenario):\n",
    "    if scenario == \"original\":\n",
    "        return f\"trazasOriginal/5GBdirectory/{sample_name}\"\n",
    "    else:\n",
    "        return f\"trazasNAT/{sample_name}\"\n",
    "\n",
    "def ha_download(sample_name, scenario, dest, log_file):\n",
    "    if not dest[-1] == '/':\n",
    "        dest += '/'\n",
    "\n",
    "    if not os.path.exists(dest):\n",
    "        os.makedirs(dest, exist_ok=True)\n",
    "\n",
    "    url1 = \"http://dataset.tlm.unavarra.es/ransomware/php/descargar.php?\" #usato per reperire il nome del file\n",
    "    url2 = \"http://dataset.tlm.unavarra.es/ransomware/downloads\" #usato per scaricare il file\n",
    "    sample_value = build_sample_attr(sample_name, scenario)\n",
    "\n",
    "    payload = {'tokenDescarga' : '',\n",
    "             'descargarTodo' : '0',\n",
    "             'sample' : sample_value}\n",
    "    header = {'Cookie' : 'PHPSESSID=eqbdqjkqrksd7u5l585mkk71t5',\n",
    "              'Origin' : 'http://dataset.tlm.unavarra.es'} #necessario altrimenti mi restituiva un contenuto vuoto\n",
    "\n",
    "    post_res = req.post(url1, data = payload, headers=header)\n",
    "\n",
    "    if post_res.status_code == 200:\n",
    "        post_res = post_res.json()['name'][12:]\n",
    "\n",
    "        get_res = req.get(f'{url2 + post_res}')\n",
    "\n",
    "        print(url2 + post_res)\n",
    "        log_file.write(f'{datetime.datetime.now()} {url2 + post_res}\\n')\n",
    "        if get_res.status_code == 200:\n",
    "            print(LOG_SUCCESS)\n",
    "            log_file.write(f'{LOG_SUCCESS}\\n')\n",
    "            with open(f'{dest + post_res}', 'wb') as pcap:\n",
    "                pcap.write(get_res.content)\n",
    "        else:\n",
    "            print(LOG_FAIL)\n",
    "            log_file.write(f'{LOG_FAIL}\\n')\n",
    "    else:\n",
    "        print(LOG_NOTEXIST)\n",
    "        log_file.write(f'{LOG_FAIL}\\n')"
   ],
   "metadata": {
    "collapsed": false,
    "pycharm": {
     "name": "#%%\n"
    }
   }
  },
  {
   "cell_type": "code",
   "execution_count": 96,
   "outputs": [
    {
     "name": "stdout",
     "output_type": "stream",
     "text": [
      "http://dataset.tlm.unavarra.es/ransomware/downloads/ea965a08d92458f859719bbbfae91fb2dad51ee4.pcap.gz\n",
      "\tDownload successfully\n"
     ]
    }
   ],
   "source": [
    "#TEST\n",
    "with open('download.log', 'a') as log:\n",
    "    ha_download('samplesPcap_compress/cerber_10082016.pcap.gz', 'original', 'raw/pcap/test/', log)"
   ],
   "metadata": {
    "collapsed": false,
    "pycharm": {
     "name": "#%%\n"
    }
   }
  },
  {
   "cell_type": "markdown",
   "source": [
    "Nel caso in cui i percorso di destinazione non esiste, la funzione se lo crea automaticamente."
   ],
   "metadata": {
    "collapsed": false
   }
  }
 ],
 "metadata": {
  "kernelspec": {
   "display_name": "Python 3",
   "language": "python",
   "name": "python3"
  },
  "language_info": {
   "codemirror_mode": {
    "name": "ipython",
    "version": 2
   },
   "file_extension": ".py",
   "mimetype": "text/x-python",
   "name": "python",
   "nbconvert_exporter": "python",
   "pygments_lexer": "ipython2",
   "version": "2.7.6"
  }
 },
 "nbformat": 4,
 "nbformat_minor": 0
}